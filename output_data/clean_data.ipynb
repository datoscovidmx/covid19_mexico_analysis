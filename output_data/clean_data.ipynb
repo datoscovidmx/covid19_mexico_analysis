{
 "cells": [
  {
   "cell_type": "code",
   "execution_count": 97,
   "metadata": {},
   "outputs": [],
   "source": [
    "# Produces time series files for COVID-19 (until march 5, when mayor changes to reports were made).\n",
    "# Before judging this mess, pleace note that daily report data is very inconsistent.\n",
    "# So each report is treated as a case-by-case basis."
   ]
  },
  {
   "cell_type": "code",
   "execution_count": 98,
   "metadata": {},
   "outputs": [],
   "source": [
    "import pandas as pd\n",
    "import numpy as np"
   ]
  },
  {
   "cell_type": "code",
   "execution_count": 99,
   "metadata": {},
   "outputs": [],
   "source": [
    "# Boy, was I naive\n",
    "# my_dfs = [df1, df2, df3, df4, df5]\n",
    "# for df in my_dfs:\n",
    "#     for column in df.columns:\n",
    "#         if 'Case_ID' in column:\n",
    "#             df.drop(column, axis = 1, inplace=True)     "
   ]
  },
  {
   "cell_type": "code",
   "execution_count": 100,
   "metadata": {},
   "outputs": [],
   "source": [
    "# 2020-04-01"
   ]
  },
  {
   "cell_type": "code",
   "execution_count": 101,
   "metadata": {},
   "outputs": [],
   "source": [
    "df1 = pd.read_csv('../data/mexico_covid19_data/raw-mexico-covid19-2020-04-01.csv')"
   ]
  },
  {
   "cell_type": "code",
   "execution_count": 102,
   "metadata": {},
   "outputs": [],
   "source": [
    "df1['Date_Confirmed'] = pd.to_datetime(df1.Date_Confirmed)\n",
    "df1['Date_Confirmed'] = df1['Date_Confirmed'].dt.strftime('%m-%d-%Y')\n",
    "df1['Date_Confirmed'] = df1['Date_Confirmed'].replace('NaT', '')\n",
    "df1['Date_Arrival'] = pd.to_datetime(df1.Date_Arrival)\n",
    "df1['Date_Arrival'] = df1['Date_Arrival'].dt.strftime('%m-%d-%Y')\n",
    "df1['Date_Arrival'] = df1['Date_Arrival'].replace('NaT', '')\n",
    "df1['Date_Symptoms'] = pd.to_datetime(df1.Date_Symptoms)\n",
    "df1['Date_Symptoms'] = df1['Date_Symptoms'].dt.strftime('%m-%d-%Y')\n",
    "df1['Date_Symptoms'] = df1['Date_Symptoms'].replace('NaT', '')"
   ]
  },
  {
   "cell_type": "code",
   "execution_count": 103,
   "metadata": {},
   "outputs": [],
   "source": [
    "df1.to_csv('mexico-covid19-2020-04-01.csv', index=False)"
   ]
  },
  {
   "cell_type": "code",
   "execution_count": 104,
   "metadata": {},
   "outputs": [],
   "source": [
    "# 2020-04-02"
   ]
  },
  {
   "cell_type": "code",
   "execution_count": 105,
   "metadata": {},
   "outputs": [],
   "source": [
    "out1 = df1"
   ]
  },
  {
   "cell_type": "code",
   "execution_count": 106,
   "metadata": {},
   "outputs": [],
   "source": [
    "df2 = pd.read_csv('../data/mexico_covid19_data/raw-mexico-covid19-2020-04-02.csv')\n",
    "df2 = df2.drop(['Case_ID'], axis=1)\n",
    "\n",
    "out2 = df1.combine_first(df2).reset_index()\n",
    "out2.index = np.arange(1, (len(out2)+1))\n",
    "out2 = out2.reset_index()\n",
    "out2 = out2.drop(['Case_ID'], axis=1)\n",
    "out2 = out2.rename(columns={'level_0':'Case_ID'})\n",
    "out2 = out2.drop(['index'], axis=1)\n",
    "out2.Date_Confirmed = out2.Date_Confirmed.fillna('04-02-2020')\n",
    "out2['Date_Arrival'] = out2['Date_Arrival'].replace('NaT', '')\n",
    "out2 = out2[['Case_ID','Region','Sex','Age','Date_Symptoms','Tested','Origin','Date_Arrival','Date_Confirmed']]\n",
    "out2[['Case_ID', 'Age']] = out2[['Case_ID', 'Age']].astype(int)\n",
    "\n",
    "out2['Date_Confirmed'] = pd.to_datetime(out2.Date_Confirmed)\n",
    "out2['Date_Confirmed'] = out2['Date_Confirmed'].dt.strftime('%m-%d-%Y')\n",
    "out2['Date_Confirmed'] = out2['Date_Confirmed'].replace('NaT', '')\n",
    "out2['Date_Arrival'] = pd.to_datetime(out2.Date_Arrival)\n",
    "out2['Date_Arrival'] = out2['Date_Arrival'].dt.strftime('%m-%d-%Y')\n",
    "out2['Date_Arrival'] = out2['Date_Arrival'].replace('NaT', '')\n",
    "out2['Date_Symptoms'] = pd.to_datetime(out2.Date_Symptoms)\n",
    "out2['Date_Symptoms'] = out2['Date_Symptoms'].dt.strftime('%m-%d-%Y')\n",
    "out2['Date_Symptoms'] = out2['Date_Symptoms'].replace('NaT', '')\n",
    "\n",
    "out2.to_csv('mexico-covid19-2020-04-02.csv', index=False)"
   ]
  },
  {
   "cell_type": "code",
   "execution_count": 107,
   "metadata": {},
   "outputs": [],
   "source": [
    "# 2020-04-03"
   ]
  },
  {
   "cell_type": "code",
   "execution_count": 108,
   "metadata": {},
   "outputs": [],
   "source": [
    "# Read csv files because:\n",
    "# https://github.com/pandas-dev/pandas/issues/7509"
   ]
  },
  {
   "cell_type": "code",
   "execution_count": 109,
   "metadata": {},
   "outputs": [],
   "source": [
    "out2 = pd.read_csv('mexico-covid19-2020-04-02.csv')"
   ]
  },
  {
   "cell_type": "code",
   "execution_count": 110,
   "metadata": {},
   "outputs": [],
   "source": [
    "df3 = pd.read_csv('../data/mexico_covid19_data/raw-mexico-covid19-2020-04-03.csv')\n",
    "df3 = df3.drop(['Case_ID'], axis=1)\n",
    "\n",
    "out3 = out2.combine_first(df3).reset_index()\n",
    "out3.index = np.arange(1, (len(out3)+1))\n",
    "out3 = out3.reset_index()\n",
    "out3 = out3.drop(['Case_ID'], axis=1)\n",
    "out3 = out3.rename(columns={'level_0':'Case_ID'})\n",
    "out3 = out3.drop(['index'], axis=1)\n",
    "out3 = out3[['Case_ID','Region','Sex','Age','Date_Symptoms','Tested','Origin','Date_Arrival','Date_Confirmed']]\n",
    "out3[['Case_ID', 'Age']] = out3[['Case_ID', 'Age']].astype(int)\n",
    "out3.Date_Confirmed = out3.Date_Confirmed.fillna('04-03-2020')\n",
    "\n",
    "out3['Date_Confirmed'] = pd.to_datetime(out3.Date_Confirmed)\n",
    "out3['Date_Confirmed'] = out3['Date_Confirmed'].dt.strftime('%m-%d-%Y')\n",
    "out3['Date_Confirmed'] = out3['Date_Confirmed'].replace('NaT', '')\n",
    "out3['Date_Arrival'] = pd.to_datetime(out3.Date_Arrival)\n",
    "out3['Date_Arrival'] = out3['Date_Arrival'].dt.strftime('%m-%d-%Y')\n",
    "out3['Date_Arrival'] = out3['Date_Arrival'].replace('NaT', '')\n",
    "out3['Date_Symptoms'] = pd.to_datetime(out3.Date_Symptoms)\n",
    "out3['Date_Symptoms'] = out3['Date_Symptoms'].dt.strftime('%m-%d-%Y')\n",
    "out3['Date_Symptoms'] = out3['Date_Symptoms'].replace('NaT', '')\n",
    "\n",
    "out3.to_csv('mexico-covid19-2020-04-03.csv', index=False)"
   ]
  },
  {
   "cell_type": "code",
   "execution_count": 111,
   "metadata": {},
   "outputs": [],
   "source": [
    "# 2020-04-04"
   ]
  },
  {
   "cell_type": "code",
   "execution_count": 112,
   "metadata": {},
   "outputs": [],
   "source": [
    "out3 = pd.read_csv('mexico-covid19-2020-04-03.csv')"
   ]
  },
  {
   "cell_type": "code",
   "execution_count": 113,
   "metadata": {},
   "outputs": [],
   "source": [
    "df4 = pd.read_csv('../data/mexico_covid19_data/raw-mexico-covid19-2020-04-04.csv')\n",
    "df4 = df4.drop(['Case_ID'], axis=1)\n",
    "\n",
    "out4 = out3.combine_first(df4).reset_index()\n",
    "out4.index = np.arange(1, (len(out4)+1))\n",
    "out4 = out4.reset_index()\n",
    "out4 = out4.drop(['Case_ID'], axis=1)\n",
    "out4 = out4.rename(columns={'level_0':'Case_ID'})\n",
    "out4 = out4.drop(['index'], axis=1)\n",
    "out4 = out4[['Case_ID','Region','Sex','Age','Date_Symptoms','Tested','Origin','Date_Arrival','Date_Confirmed']]\n",
    "out4[['Case_ID', 'Age']] = out4[['Case_ID', 'Age']].astype(int)\n",
    "out4.Date_Confirmed = out4.Date_Confirmed.fillna('04-04-2020')\n",
    "\n",
    "out4['Date_Confirmed'] = pd.to_datetime(out4.Date_Confirmed)\n",
    "out4['Date_Confirmed'] = out4['Date_Confirmed'].dt.strftime('%m-%d-%Y')\n",
    "out4['Date_Confirmed'] = out4['Date_Confirmed'].replace('NaT', '')\n",
    "out4['Date_Arrival'] = pd.to_datetime(out4.Date_Arrival)\n",
    "out4['Date_Arrival'] = out4['Date_Arrival'].dt.strftime('%m-%d-%Y')\n",
    "out4['Date_Arrival'] = out4['Date_Arrival'].replace('NaT', '')\n",
    "out4['Date_Symptoms'] = pd.to_datetime(out4.Date_Symptoms)\n",
    "out4['Date_Symptoms'] = out4['Date_Symptoms'].dt.strftime('%m-%d-%Y')\n",
    "out4['Date_Symptoms'] = out4['Date_Symptoms'].replace('NaT', '')\n",
    "\n",
    "out4.to_csv('mexico-covid19-2020-04-04.csv', index=False)"
   ]
  },
  {
   "cell_type": "code",
   "execution_count": 114,
   "metadata": {},
   "outputs": [],
   "source": [
    "# 2020-04-05"
   ]
  },
  {
   "cell_type": "code",
   "execution_count": 115,
   "metadata": {},
   "outputs": [],
   "source": [
    "out4 = pd.read_csv('mexico-covid19-2020-04-04.csv')"
   ]
  },
  {
   "cell_type": "code",
   "execution_count": 116,
   "metadata": {},
   "outputs": [],
   "source": [
    "df5 = pd.read_csv('../data/mexico_covid19_data/raw-mexico-covid19-2020-04-05.csv')\n",
    "df5 = df5.drop(['Case_ID'], axis=1)\n",
    "\n",
    "out5 = out4.combine_first(df5)\n",
    "out5.index = np.arange(1, (len(out5)+1))\n",
    "out5 = out5.reset_index()\n",
    "out5 = out5.drop(['Case_ID'], axis=1)\n",
    "out5 = out5.rename(columns={'index':'Case_ID'})\n",
    "out5 = out5[['Case_ID','Region','Sex','Age','Date_Symptoms','Tested','Origin','Date_Arrival','Date_Confirmed']]\n",
    "out5[['Case_ID']] = out5[['Case_ID']].astype(int)\n",
    "out5.Age = pd.to_numeric(out5.Age, errors='coerce').fillna(0).astype(np.int64)\n",
    "out5.Date_Confirmed = out5.Date_Confirmed.fillna('04-05-2020')\n",
    "\n",
    "out5['Date_Confirmed'] = pd.to_datetime(out5.Date_Confirmed)\n",
    "out5['Date_Confirmed'] = out5['Date_Confirmed'].dt.strftime('%m-%d-%Y')\n",
    "out5['Date_Confirmed'] = out5['Date_Confirmed'].replace('NaT', '')\n",
    "out5['Date_Arrival'] = pd.to_datetime(out5.Date_Arrival)\n",
    "out5['Date_Arrival'] = out5['Date_Arrival'].dt.strftime('%m-%d-%Y')\n",
    "out5['Date_Arrival'] = out5['Date_Arrival'].replace('NaT', '')\n",
    "out5['Date_Symptoms'] = pd.to_datetime(out4.Date_Symptoms)\n",
    "out5['Date_Symptoms'] = out5['Date_Symptoms'].dt.strftime('%m-%d-%Y')\n",
    "out5['Date_Symptoms'] = out5['Date_Symptoms'].replace('NaT', '')\n",
    "\n",
    "out5.to_csv('mexico-covid19-2020-04-05.csv', index=False)"
   ]
  }
 ],
 "metadata": {
  "kernelspec": {
   "display_name": "Python 3",
   "language": "python",
   "name": "python3"
  },
  "language_info": {
   "codemirror_mode": {
    "name": "ipython",
    "version": 3
   },
   "file_extension": ".py",
   "mimetype": "text/x-python",
   "name": "python",
   "nbconvert_exporter": "python",
   "pygments_lexer": "ipython3",
   "version": "3.7.4"
  }
 },
 "nbformat": 4,
 "nbformat_minor": 4
}
