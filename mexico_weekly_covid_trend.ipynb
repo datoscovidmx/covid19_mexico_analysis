{
 "cells": [
  {
   "cell_type": "code",
   "execution_count": 53,
   "metadata": {},
   "outputs": [],
   "source": [
    "import glob\n",
    "import os\n",
    "import pandas as pd\n",
    "import numpy as np"
   ]
  },
  {
   "cell_type": "code",
   "execution_count": 54,
   "metadata": {},
   "outputs": [],
   "source": [
    "def read_multiple_files(directory):\n",
    "    ''' Read multiple csv files in directory and column with name of data source (ie, the name of the folder) '''\n",
    "    dfs_folders = []\n",
    "    for folder in os.listdir(directory):\n",
    "        if '.' not in folder: # Annoying ipynb checkpoints :v\n",
    "            print('data source = '+folder)\n",
    "            folder_files = glob.glob(directory+'/'+folder+'/*') # Make sure to separate data sources to its own folder\n",
    "            folder_dataframes = [pd.read_csv(f, low_memory=False) for f in folder_files]\n",
    "            df_folder = pd.concat(folder_dataframes, sort=True)\n",
    "            df_folder['Folder'] = folder\n",
    "            dfs_folders.append(df_folder)\n",
    "    df = pd.concat(dfs_folders, sort=True)\n",
    "    return df"
   ]
  },
  {
   "cell_type": "code",
   "execution_count": 55,
   "metadata": {},
   "outputs": [
    {
     "name": "stdout",
     "output_type": "stream",
     "text": [
      "data source = csse_covid_19_daily_reports\n",
      "data source = google_news_indre_covid_19_inferred_confirmed_dates\n",
      "data source = indre_covid_19_confirmed_cases_report\n"
     ]
    }
   ],
   "source": [
    "df = read_multiple_files('data')"
   ]
  },
  {
   "cell_type": "markdown",
   "metadata": {},
   "source": [
    "# Data"
   ]
  },
  {
   "cell_type": "code",
   "execution_count": 56,
   "metadata": {},
   "outputs": [],
   "source": [
    "mex = df[df['Country/Region'] == 'Mexico'].copy()"
   ]
  },
  {
   "cell_type": "code",
   "execution_count": 57,
   "metadata": {},
   "outputs": [],
   "source": [
    "# Set index and select columns\n",
    "mex = mex.set_index(pd.DatetimeIndex(mex['Last Update']))\n",
    "mex['Last Update'] = mex['Last Update'].index.to_period('D')\n",
    "mex = mex[['Confirmed', 'Country/Region', 'Deaths', 'Folder', 'Latitude', 'Longitude', 'Recovered', 'Case_ID', 'State']]"
   ]
  }
 ],
 "metadata": {
  "kernelspec": {
   "display_name": "Python 3",
   "language": "python",
   "name": "python3"
  },
  "language_info": {
   "codemirror_mode": {
    "name": "ipython",
    "version": 3
   },
   "file_extension": ".py",
   "mimetype": "text/x-python",
   "name": "python",
   "nbconvert_exporter": "python",
   "pygments_lexer": "ipython3",
   "version": "3.7.4"
  }
 },
 "nbformat": 4,
 "nbformat_minor": 4
}
