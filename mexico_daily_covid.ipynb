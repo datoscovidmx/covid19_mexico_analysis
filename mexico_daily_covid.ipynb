{
 "cells": [
  {
   "cell_type": "code",
   "execution_count": 47,
   "metadata": {},
   "outputs": [],
   "source": [
    "import glob\n",
    "import os\n",
    "import pandas as pd\n",
    "import numpy as np"
   ]
  },
  {
   "cell_type": "code",
   "execution_count": 48,
   "metadata": {},
   "outputs": [],
   "source": [
    "def read_multiple_files(directory):\n",
    "    ''' Read multiple csv files in directory and column with name of data source (ie, the name of the folder) '''\n",
    "    dfs_folders = []\n",
    "    for folder in os.listdir(directory):\n",
    "        print('data source = '+folder)\n",
    "        folder_files = glob.glob(directory+'/'+folder+'/*') # Make sure to separate data sources to its own folder\n",
    "        folder_dataframes = [pd.read_csv(f, low_memory=False) for f in folder_files]\n",
    "        df_folder = pd.concat(folder_dataframes, sort=True)\n",
    "        df_folder['Folder'] = folder\n",
    "        dfs_folders.append(df_folder)\n",
    "    df = pd.concat(dfs_folders, sort=True)\n",
    "    return df"
   ]
  },
  {
   "cell_type": "markdown",
   "metadata": {},
   "source": [
    "# Data"
   ]
  },
  {
   "cell_type": "code",
   "execution_count": 49,
   "metadata": {},
   "outputs": [
    {
     "name": "stdout",
     "output_type": "stream",
     "text": [
      "data source = csse_covid_19_daily_reports\n"
     ]
    }
   ],
   "source": [
    "df = read_multiple_files('data')"
   ]
  },
  {
   "cell_type": "code",
   "execution_count": 51,
   "metadata": {},
   "outputs": [],
   "source": [
    "#df['Country/Region'].unique()\n",
    "mex = df[df['Country/Region'] == 'Mexico'].copy()"
   ]
  },
  {
   "cell_type": "code",
   "execution_count": 52,
   "metadata": {},
   "outputs": [
    {
     "data": {
      "text/html": [
       "<div>\n",
       "<style scoped>\n",
       "    .dataframe tbody tr th:only-of-type {\n",
       "        vertical-align: middle;\n",
       "    }\n",
       "\n",
       "    .dataframe tbody tr th {\n",
       "        vertical-align: top;\n",
       "    }\n",
       "\n",
       "    .dataframe thead th {\n",
       "        text-align: right;\n",
       "    }\n",
       "</style>\n",
       "<table border=\"1\" class=\"dataframe\">\n",
       "  <thead>\n",
       "    <tr style=\"text-align: right;\">\n",
       "      <th></th>\n",
       "      <th>Active</th>\n",
       "      <th>Admin2</th>\n",
       "      <th>Combined_Key</th>\n",
       "      <th>Confirmed</th>\n",
       "      <th>Country/Region</th>\n",
       "      <th>Country_Region</th>\n",
       "      <th>Deaths</th>\n",
       "      <th>FIPS</th>\n",
       "      <th>Folder</th>\n",
       "      <th>Last Update</th>\n",
       "      <th>Last_Update</th>\n",
       "      <th>Lat</th>\n",
       "      <th>Latitude</th>\n",
       "      <th>Long_</th>\n",
       "      <th>Longitude</th>\n",
       "      <th>Province/State</th>\n",
       "      <th>Province_State</th>\n",
       "      <th>Recovered</th>\n",
       "    </tr>\n",
       "  </thead>\n",
       "  <tbody>\n",
       "    <tr>\n",
       "      <td>117</td>\n",
       "      <td>NaN</td>\n",
       "      <td>NaN</td>\n",
       "      <td>NaN</td>\n",
       "      <td>7.0</td>\n",
       "      <td>Mexico</td>\n",
       "      <td>NaN</td>\n",
       "      <td>0.0</td>\n",
       "      <td>NaN</td>\n",
       "      <td>csse_covid_19_daily_reports</td>\n",
       "      <td>2020-03-10T05:13:07</td>\n",
       "      <td>NaN</td>\n",
       "      <td>NaN</td>\n",
       "      <td>23.0</td>\n",
       "      <td>NaN</td>\n",
       "      <td>-102.0</td>\n",
       "      <td>NaN</td>\n",
       "      <td>NaN</td>\n",
       "      <td>4.0</td>\n",
       "    </tr>\n",
       "    <tr>\n",
       "      <td>130</td>\n",
       "      <td>NaN</td>\n",
       "      <td>NaN</td>\n",
       "      <td>NaN</td>\n",
       "      <td>8.0</td>\n",
       "      <td>Mexico</td>\n",
       "      <td>NaN</td>\n",
       "      <td>0.0</td>\n",
       "      <td>NaN</td>\n",
       "      <td>csse_covid_19_daily_reports</td>\n",
       "      <td>2020-03-11T21:13:24</td>\n",
       "      <td>NaN</td>\n",
       "      <td>NaN</td>\n",
       "      <td>23.0</td>\n",
       "      <td>NaN</td>\n",
       "      <td>-102.0</td>\n",
       "      <td>NaN</td>\n",
       "      <td>NaN</td>\n",
       "      <td>4.0</td>\n",
       "    </tr>\n",
       "    <tr>\n",
       "      <td>97</td>\n",
       "      <td>NaN</td>\n",
       "      <td>NaN</td>\n",
       "      <td>NaN</td>\n",
       "      <td>6.0</td>\n",
       "      <td>Mexico</td>\n",
       "      <td>NaN</td>\n",
       "      <td>0.0</td>\n",
       "      <td>NaN</td>\n",
       "      <td>csse_covid_19_daily_reports</td>\n",
       "      <td>2020-03-06T16:43:04</td>\n",
       "      <td>NaN</td>\n",
       "      <td>NaN</td>\n",
       "      <td>23.0</td>\n",
       "      <td>NaN</td>\n",
       "      <td>-102.0</td>\n",
       "      <td>NaN</td>\n",
       "      <td>NaN</td>\n",
       "      <td>1.0</td>\n",
       "    </tr>\n",
       "    <tr>\n",
       "      <td>94</td>\n",
       "      <td>NaN</td>\n",
       "      <td>NaN</td>\n",
       "      <td>NaN</td>\n",
       "      <td>6.0</td>\n",
       "      <td>Mexico</td>\n",
       "      <td>NaN</td>\n",
       "      <td>0.0</td>\n",
       "      <td>NaN</td>\n",
       "      <td>csse_covid_19_daily_reports</td>\n",
       "      <td>2020-03-06T16:43:04</td>\n",
       "      <td>NaN</td>\n",
       "      <td>NaN</td>\n",
       "      <td>23.0</td>\n",
       "      <td>NaN</td>\n",
       "      <td>-102.0</td>\n",
       "      <td>NaN</td>\n",
       "      <td>NaN</td>\n",
       "      <td>1.0</td>\n",
       "    </tr>\n",
       "    <tr>\n",
       "      <td>69</td>\n",
       "      <td>NaN</td>\n",
       "      <td>NaN</td>\n",
       "      <td>NaN</td>\n",
       "      <td>5.0</td>\n",
       "      <td>Mexico</td>\n",
       "      <td>NaN</td>\n",
       "      <td>0.0</td>\n",
       "      <td>NaN</td>\n",
       "      <td>csse_covid_19_daily_reports</td>\n",
       "      <td>2020-03-01T23:33:03</td>\n",
       "      <td>NaN</td>\n",
       "      <td>NaN</td>\n",
       "      <td>23.0</td>\n",
       "      <td>NaN</td>\n",
       "      <td>-102.0</td>\n",
       "      <td>NaN</td>\n",
       "      <td>NaN</td>\n",
       "      <td>0.0</td>\n",
       "    </tr>\n",
       "  </tbody>\n",
       "</table>\n",
       "</div>"
      ],
      "text/plain": [
       "     Active Admin2 Combined_Key  Confirmed Country/Region Country_Region  \\\n",
       "117     NaN    NaN          NaN        7.0         Mexico            NaN   \n",
       "130     NaN    NaN          NaN        8.0         Mexico            NaN   \n",
       "97      NaN    NaN          NaN        6.0         Mexico            NaN   \n",
       "94      NaN    NaN          NaN        6.0         Mexico            NaN   \n",
       "69      NaN    NaN          NaN        5.0         Mexico            NaN   \n",
       "\n",
       "     Deaths  FIPS                       Folder          Last Update  \\\n",
       "117     0.0   NaN  csse_covid_19_daily_reports  2020-03-10T05:13:07   \n",
       "130     0.0   NaN  csse_covid_19_daily_reports  2020-03-11T21:13:24   \n",
       "97      0.0   NaN  csse_covid_19_daily_reports  2020-03-06T16:43:04   \n",
       "94      0.0   NaN  csse_covid_19_daily_reports  2020-03-06T16:43:04   \n",
       "69      0.0   NaN  csse_covid_19_daily_reports  2020-03-01T23:33:03   \n",
       "\n",
       "    Last_Update  Lat  Latitude  Long_  Longitude Province/State  \\\n",
       "117         NaN  NaN      23.0    NaN     -102.0            NaN   \n",
       "130         NaN  NaN      23.0    NaN     -102.0            NaN   \n",
       "97          NaN  NaN      23.0    NaN     -102.0            NaN   \n",
       "94          NaN  NaN      23.0    NaN     -102.0            NaN   \n",
       "69          NaN  NaN      23.0    NaN     -102.0            NaN   \n",
       "\n",
       "    Province_State  Recovered  \n",
       "117            NaN        4.0  \n",
       "130            NaN        4.0  \n",
       "97             NaN        1.0  \n",
       "94             NaN        1.0  \n",
       "69             NaN        0.0  "
      ]
     },
     "execution_count": 52,
     "metadata": {},
     "output_type": "execute_result"
    }
   ],
   "source": [
    "mex.head()"
   ]
  },
  {
   "cell_type": "markdown",
   "metadata": {},
   "source": [
    "# Daily Confirmed Report"
   ]
  },
  {
   "cell_type": "code",
   "execution_count": null,
   "metadata": {},
   "outputs": [],
   "source": [
    "import matplotlib.pyplot as plt\n",
    "%matplotlib inline"
   ]
  },
  {
   "cell_type": "code",
   "execution_count": null,
   "metadata": {},
   "outputs": [],
   "source": [
    "mex = mex.set_index(pd.DatetimeIndex(mex['Last Update']))"
   ]
  },
  {
   "cell_type": "code",
   "execution_count": 35,
   "metadata": {},
   "outputs": [
    {
     "data": {
      "text/plain": [
       "<matplotlib.axes._subplots.AxesSubplot at 0x11e55b190>"
      ]
     },
     "execution_count": 35,
     "metadata": {},
     "output_type": "execute_result"
    },
    {
     "data": {
      "image/png": "[encoded data removed]",
      "text/plain": [
       "<Figure size 432x288 with 1 Axes>"
      ]
     },
     "metadata": {
      "needs_background": "light"
     },
     "output_type": "display_data"
    }
   ],
   "source": [
    "daily_report = mex.index.to_period('D')\n",
    "mex.groupby(daily_report)['Confirmed'].apply(lambda x: np.mean(x)).plot()"
   ]
  }
 ],
 "metadata": {
  "kernelspec": {
   "display_name": "Python 3",
   "language": "python",
   "name": "python3"
  },
  "language_info": {
   "codemirror_mode": {
    "name": "ipython",
    "version": 3
   },
   "file_extension": ".py",
   "mimetype": "text/x-python",
   "name": "python",
   "nbconvert_exporter": "python",
   "pygments_lexer": "ipython3",
   "version": "3.7.4"
  }
 },
 "nbformat": 4,
 "nbformat_minor": 4
}
