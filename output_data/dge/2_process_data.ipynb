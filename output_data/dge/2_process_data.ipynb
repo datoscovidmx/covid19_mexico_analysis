{
 "cells": [
  {
   "cell_type": "code",
   "execution_count": 1,
   "metadata": {},
   "outputs": [],
   "source": [
    "import pandas as pd\n",
    "import janitor"
   ]
  },
  {
   "cell_type": "code",
   "execution_count": 2,
   "metadata": {},
   "outputs": [],
   "source": [
    "# Group and keep columns with 'as_index'\n",
    "# https://stackoverflow.com/questions/31569549/how-to-groupby-a-dataframe-in-pandas-and-keep-columns"
   ]
  },
  {
   "cell_type": "markdown",
   "metadata": {},
   "source": [
    "### Daily report data"
   ]
  },
  {
   "cell_type": "code",
   "execution_count": 3,
   "metadata": {},
   "outputs": [],
   "source": [
    "data = pd.read_csv('filter.csv')"
   ]
  },
  {
   "cell_type": "code",
   "execution_count": 4,
   "metadata": {},
   "outputs": [
    {
     "name": "stdout",
     "output_type": "stream",
     "text": [
      "False\n"
     ]
    }
   ],
   "source": [
    "print(data.set_index(['ID_REGISTRO']).index.is_unique) # ids are not unique... it's unclear how reports are aggregated"
   ]
  },
  {
   "cell_type": "code",
   "execution_count": 5,
   "metadata": {},
   "outputs": [],
   "source": [
    "data['FECHA_INGRESO'] = pd.to_datetime(data.FECHA_INGRESO, format='%Y-%m-%d', errors='coerce')\n",
    "data['FECHA_INGRESO'] = data['FECHA_INGRESO'].dt.strftime('%Y-%m-%d')\n",
    "data = data.set_index(pd.DatetimeIndex(data['FECHA_INGRESO'])).sort_index()"
   ]
  },
  {
   "cell_type": "code",
   "execution_count": 6,
   "metadata": {},
   "outputs": [
    {
     "data": {
      "text/plain": [
       "147221"
      ]
     },
     "execution_count": 6,
     "metadata": {},
     "output_type": "execute_result"
    }
   ],
   "source": [
    "len(data)"
   ]
  },
  {
   "cell_type": "markdown",
   "metadata": {},
   "source": [
    "### Note\n",
    "~~Daily report for april 20 (ie, reported in 21 april) stops using testing site,~~\n",
    "<br>\n",
    "~~So we shall treat both sets of data accordingly~~"
   ]
  },
  {
   "cell_type": "code",
   "execution_count": 7,
   "metadata": {},
   "outputs": [],
   "source": [
    "dat = data.copy()"
   ]
  },
  {
   "cell_type": "code",
   "execution_count": 8,
   "metadata": {},
   "outputs": [],
   "source": [
    "tbl_x = dat.filter_date('FECHA_INGRESO','2020-01-06','2020-04-20')\n",
    "tbl_x = tbl_x.drop(['ENTIDAD_RES'], axis=1) # drop by region\n",
    "tbl_x = tbl_x.set_index(\n",
    "    ['FECHA_INGRESO', 'FECHA_SINTOMAS', 'FECHA_DEF', 'ENTIDAD_UM', 'ID_REGISTRO', 'PAIS_ORIGEN']\n",
    ")\n",
    "tbl_x = tbl_x.groupby(\n",
    "    ['FECHA_INGRESO', 'FECHA_SINTOMAS', 'FECHA_DEF', 'ENTIDAD_UM', 'ID_REGISTRO', 'PAIS_ORIGEN'], as_index=True).count().reset_index()\n",
    "tbl_x = tbl_x.rename(columns={'ENTIDAD_UM':'Region_ID'})"
   ]
  },
  {
   "cell_type": "code",
   "execution_count": 9,
   "metadata": {},
   "outputs": [],
   "source": [
    "tbl_y = dat.filter_date('FECHA_INGRESO','2020-04-20','2020-04-27')\n",
    "tbl_y = tbl_y.drop(['ENTIDAD_UM'], axis=1) # drop by region\n",
    "tbl_y = tbl_y.set_index(\n",
    "    ['FECHA_INGRESO', 'FECHA_SINTOMAS', 'FECHA_DEF', 'ENTIDAD_RES', 'ID_REGISTRO', 'PAIS_ORIGEN']\n",
    ")\n",
    "tbl_y = tbl_y.groupby(\n",
    "    ['FECHA_INGRESO', 'FECHA_SINTOMAS', 'FECHA_DEF', 'ENTIDAD_RES', 'ID_REGISTRO', 'PAIS_ORIGEN'], as_index=True).count().reset_index()\n",
    "tbl_y = tbl_y.rename(columns={'ENTIDAD_RES':'Region_ID'})"
   ]
  },
  {
   "cell_type": "code",
   "execution_count": 10,
   "metadata": {},
   "outputs": [],
   "source": [
    "tbl = pd.concat([tbl_x, tbl_y])"
   ]
  },
  {
   "cell_type": "code",
   "execution_count": 11,
   "metadata": {},
   "outputs": [
    {
     "data": {
      "text/html": [
       "<div>\n",
       "<style scoped>\n",
       "    .dataframe tbody tr th:only-of-type {\n",
       "        vertical-align: middle;\n",
       "    }\n",
       "\n",
       "    .dataframe tbody tr th {\n",
       "        vertical-align: top;\n",
       "    }\n",
       "\n",
       "    .dataframe thead th {\n",
       "        text-align: right;\n",
       "    }\n",
       "</style>\n",
       "<table border=\"1\" class=\"dataframe\">\n",
       "  <thead>\n",
       "    <tr style=\"text-align: right;\">\n",
       "      <th></th>\n",
       "      <th>FECHA_INGRESO</th>\n",
       "      <th>FECHA_SINTOMAS</th>\n",
       "      <th>FECHA_DEF</th>\n",
       "      <th>Region_ID</th>\n",
       "      <th>ID_REGISTRO</th>\n",
       "      <th>PAIS_ORIGEN</th>\n",
       "      <th>RESULTADO</th>\n",
       "    </tr>\n",
       "  </thead>\n",
       "  <tbody>\n",
       "    <tr>\n",
       "      <td>0</td>\n",
       "      <td>2020-01-06</td>\n",
       "      <td>2020-01-06</td>\n",
       "      <td>9999-99-99</td>\n",
       "      <td>18</td>\n",
       "      <td>09f6d9</td>\n",
       "      <td>Local</td>\n",
       "      <td>8</td>\n",
       "    </tr>\n",
       "    <tr>\n",
       "      <td>1</td>\n",
       "      <td>2020-01-08</td>\n",
       "      <td>2020-01-08</td>\n",
       "      <td>9999-99-99</td>\n",
       "      <td>30</td>\n",
       "      <td>1c29f8</td>\n",
       "      <td>Local</td>\n",
       "      <td>7</td>\n",
       "    </tr>\n",
       "    <tr>\n",
       "      <td>2</td>\n",
       "      <td>2020-01-27</td>\n",
       "      <td>2020-01-27</td>\n",
       "      <td>9999-99-99</td>\n",
       "      <td>15</td>\n",
       "      <td>1879e0</td>\n",
       "      <td>Local</td>\n",
       "      <td>1</td>\n",
       "    </tr>\n",
       "    <tr>\n",
       "      <td>3</td>\n",
       "      <td>2020-02-07</td>\n",
       "      <td>2020-02-07</td>\n",
       "      <td>9999-99-99</td>\n",
       "      <td>11</td>\n",
       "      <td>03e780</td>\n",
       "      <td>Local</td>\n",
       "      <td>5</td>\n",
       "    </tr>\n",
       "    <tr>\n",
       "      <td>4</td>\n",
       "      <td>2020-02-12</td>\n",
       "      <td>2020-02-07</td>\n",
       "      <td>9999-99-99</td>\n",
       "      <td>2</td>\n",
       "      <td>07b5c5</td>\n",
       "      <td>Local</td>\n",
       "      <td>8</td>\n",
       "    </tr>\n",
       "    <tr>\n",
       "      <td>...</td>\n",
       "      <td>...</td>\n",
       "      <td>...</td>\n",
       "      <td>...</td>\n",
       "      <td>...</td>\n",
       "      <td>...</td>\n",
       "      <td>...</td>\n",
       "      <td>...</td>\n",
       "    </tr>\n",
       "    <tr>\n",
       "      <td>4039</td>\n",
       "      <td>2020-04-26</td>\n",
       "      <td>2020-04-26</td>\n",
       "      <td>9999-99-99</td>\n",
       "      <td>28</td>\n",
       "      <td>1b5221</td>\n",
       "      <td>Local</td>\n",
       "      <td>1</td>\n",
       "    </tr>\n",
       "    <tr>\n",
       "      <td>4040</td>\n",
       "      <td>2020-04-26</td>\n",
       "      <td>2020-04-26</td>\n",
       "      <td>9999-99-99</td>\n",
       "      <td>28</td>\n",
       "      <td>1c6f5f</td>\n",
       "      <td>Local</td>\n",
       "      <td>1</td>\n",
       "    </tr>\n",
       "    <tr>\n",
       "      <td>4041</td>\n",
       "      <td>2020-04-26</td>\n",
       "      <td>2020-04-26</td>\n",
       "      <td>9999-99-99</td>\n",
       "      <td>28</td>\n",
       "      <td>1d28f9</td>\n",
       "      <td>Local</td>\n",
       "      <td>1</td>\n",
       "    </tr>\n",
       "    <tr>\n",
       "      <td>4042</td>\n",
       "      <td>2020-04-27</td>\n",
       "      <td>2020-04-20</td>\n",
       "      <td>9999-99-99</td>\n",
       "      <td>9</td>\n",
       "      <td>06ed10</td>\n",
       "      <td>Local</td>\n",
       "      <td>1</td>\n",
       "    </tr>\n",
       "    <tr>\n",
       "      <td>4043</td>\n",
       "      <td>2020-04-27</td>\n",
       "      <td>2020-04-21</td>\n",
       "      <td>9999-99-99</td>\n",
       "      <td>9</td>\n",
       "      <td>0778e5</td>\n",
       "      <td>Local</td>\n",
       "      <td>1</td>\n",
       "    </tr>\n",
       "  </tbody>\n",
       "</table>\n",
       "<p>17594 rows × 7 columns</p>\n",
       "</div>"
      ],
      "text/plain": [
       "     FECHA_INGRESO FECHA_SINTOMAS   FECHA_DEF  Region_ID ID_REGISTRO  \\\n",
       "0       2020-01-06     2020-01-06  9999-99-99         18      09f6d9   \n",
       "1       2020-01-08     2020-01-08  9999-99-99         30      1c29f8   \n",
       "2       2020-01-27     2020-01-27  9999-99-99         15      1879e0   \n",
       "3       2020-02-07     2020-02-07  9999-99-99         11      03e780   \n",
       "4       2020-02-12     2020-02-07  9999-99-99          2      07b5c5   \n",
       "...            ...            ...         ...        ...         ...   \n",
       "4039    2020-04-26     2020-04-26  9999-99-99         28      1b5221   \n",
       "4040    2020-04-26     2020-04-26  9999-99-99         28      1c6f5f   \n",
       "4041    2020-04-26     2020-04-26  9999-99-99         28      1d28f9   \n",
       "4042    2020-04-27     2020-04-20  9999-99-99          9      06ed10   \n",
       "4043    2020-04-27     2020-04-21  9999-99-99          9      0778e5   \n",
       "\n",
       "     PAIS_ORIGEN  RESULTADO  \n",
       "0          Local          8  \n",
       "1          Local          7  \n",
       "2          Local          1  \n",
       "3          Local          5  \n",
       "4          Local          8  \n",
       "...          ...        ...  \n",
       "4039       Local          1  \n",
       "4040       Local          1  \n",
       "4041       Local          1  \n",
       "4042       Local          1  \n",
       "4043       Local          1  \n",
       "\n",
       "[17594 rows x 7 columns]"
      ]
     },
     "execution_count": 11,
     "metadata": {},
     "output_type": "execute_result"
    }
   ],
   "source": [
    "tbl"
   ]
  },
  {
   "cell_type": "code",
   "execution_count": 12,
   "metadata": {},
   "outputs": [],
   "source": [
    "tbl = tbl.rename(\n",
    "    columns={\n",
    "        'FECHA_INGRESO':'Date_Confirmed',\n",
    "        'FECHA_SINTOMAS':'Date_Symptoms',\n",
    "        'ID_REGISTRO':'Case_ID',\n",
    "        'RESULTADO':'Status',\n",
    "        'PAIS_ORIGEN':'Origin'\n",
    "    })"
   ]
  },
  {
   "cell_type": "code",
   "execution_count": 13,
   "metadata": {},
   "outputs": [],
   "source": [
    "tbl['Status'] = '1'"
   ]
  },
  {
   "cell_type": "code",
   "execution_count": 14,
   "metadata": {},
   "outputs": [
    {
     "data": {
      "text/html": [
       "<div>\n",
       "<style scoped>\n",
       "    .dataframe tbody tr th:only-of-type {\n",
       "        vertical-align: middle;\n",
       "    }\n",
       "\n",
       "    .dataframe tbody tr th {\n",
       "        vertical-align: top;\n",
       "    }\n",
       "\n",
       "    .dataframe thead th {\n",
       "        text-align: right;\n",
       "    }\n",
       "</style>\n",
       "<table border=\"1\" class=\"dataframe\">\n",
       "  <thead>\n",
       "    <tr style=\"text-align: right;\">\n",
       "      <th></th>\n",
       "      <th>Date_Confirmed</th>\n",
       "      <th>Date_Symptoms</th>\n",
       "      <th>FECHA_DEF</th>\n",
       "      <th>Region_ID</th>\n",
       "      <th>Case_ID</th>\n",
       "      <th>Origin</th>\n",
       "      <th>Status</th>\n",
       "    </tr>\n",
       "  </thead>\n",
       "  <tbody>\n",
       "    <tr>\n",
       "      <td>0</td>\n",
       "      <td>2020-01-06</td>\n",
       "      <td>2020-01-06</td>\n",
       "      <td>9999-99-99</td>\n",
       "      <td>18</td>\n",
       "      <td>09f6d9</td>\n",
       "      <td>Local</td>\n",
       "      <td>1</td>\n",
       "    </tr>\n",
       "    <tr>\n",
       "      <td>1</td>\n",
       "      <td>2020-01-08</td>\n",
       "      <td>2020-01-08</td>\n",
       "      <td>9999-99-99</td>\n",
       "      <td>30</td>\n",
       "      <td>1c29f8</td>\n",
       "      <td>Local</td>\n",
       "      <td>1</td>\n",
       "    </tr>\n",
       "    <tr>\n",
       "      <td>2</td>\n",
       "      <td>2020-01-27</td>\n",
       "      <td>2020-01-27</td>\n",
       "      <td>9999-99-99</td>\n",
       "      <td>15</td>\n",
       "      <td>1879e0</td>\n",
       "      <td>Local</td>\n",
       "      <td>1</td>\n",
       "    </tr>\n",
       "    <tr>\n",
       "      <td>3</td>\n",
       "      <td>2020-02-07</td>\n",
       "      <td>2020-02-07</td>\n",
       "      <td>9999-99-99</td>\n",
       "      <td>11</td>\n",
       "      <td>03e780</td>\n",
       "      <td>Local</td>\n",
       "      <td>1</td>\n",
       "    </tr>\n",
       "    <tr>\n",
       "      <td>4</td>\n",
       "      <td>2020-02-12</td>\n",
       "      <td>2020-02-07</td>\n",
       "      <td>9999-99-99</td>\n",
       "      <td>2</td>\n",
       "      <td>07b5c5</td>\n",
       "      <td>Local</td>\n",
       "      <td>1</td>\n",
       "    </tr>\n",
       "    <tr>\n",
       "      <td>...</td>\n",
       "      <td>...</td>\n",
       "      <td>...</td>\n",
       "      <td>...</td>\n",
       "      <td>...</td>\n",
       "      <td>...</td>\n",
       "      <td>...</td>\n",
       "      <td>...</td>\n",
       "    </tr>\n",
       "    <tr>\n",
       "      <td>4039</td>\n",
       "      <td>2020-04-26</td>\n",
       "      <td>2020-04-26</td>\n",
       "      <td>9999-99-99</td>\n",
       "      <td>28</td>\n",
       "      <td>1b5221</td>\n",
       "      <td>Local</td>\n",
       "      <td>1</td>\n",
       "    </tr>\n",
       "    <tr>\n",
       "      <td>4040</td>\n",
       "      <td>2020-04-26</td>\n",
       "      <td>2020-04-26</td>\n",
       "      <td>9999-99-99</td>\n",
       "      <td>28</td>\n",
       "      <td>1c6f5f</td>\n",
       "      <td>Local</td>\n",
       "      <td>1</td>\n",
       "    </tr>\n",
       "    <tr>\n",
       "      <td>4041</td>\n",
       "      <td>2020-04-26</td>\n",
       "      <td>2020-04-26</td>\n",
       "      <td>9999-99-99</td>\n",
       "      <td>28</td>\n",
       "      <td>1d28f9</td>\n",
       "      <td>Local</td>\n",
       "      <td>1</td>\n",
       "    </tr>\n",
       "    <tr>\n",
       "      <td>4042</td>\n",
       "      <td>2020-04-27</td>\n",
       "      <td>2020-04-20</td>\n",
       "      <td>9999-99-99</td>\n",
       "      <td>9</td>\n",
       "      <td>06ed10</td>\n",
       "      <td>Local</td>\n",
       "      <td>1</td>\n",
       "    </tr>\n",
       "    <tr>\n",
       "      <td>4043</td>\n",
       "      <td>2020-04-27</td>\n",
       "      <td>2020-04-21</td>\n",
       "      <td>9999-99-99</td>\n",
       "      <td>9</td>\n",
       "      <td>0778e5</td>\n",
       "      <td>Local</td>\n",
       "      <td>1</td>\n",
       "    </tr>\n",
       "  </tbody>\n",
       "</table>\n",
       "<p>17594 rows × 7 columns</p>\n",
       "</div>"
      ],
      "text/plain": [
       "     Date_Confirmed Date_Symptoms   FECHA_DEF  Region_ID Case_ID Origin Status\n",
       "0        2020-01-06    2020-01-06  9999-99-99         18  09f6d9  Local      1\n",
       "1        2020-01-08    2020-01-08  9999-99-99         30  1c29f8  Local      1\n",
       "2        2020-01-27    2020-01-27  9999-99-99         15  1879e0  Local      1\n",
       "3        2020-02-07    2020-02-07  9999-99-99         11  03e780  Local      1\n",
       "4        2020-02-12    2020-02-07  9999-99-99          2  07b5c5  Local      1\n",
       "...             ...           ...         ...        ...     ...    ...    ...\n",
       "4039     2020-04-26    2020-04-26  9999-99-99         28  1b5221  Local      1\n",
       "4040     2020-04-26    2020-04-26  9999-99-99         28  1c6f5f  Local      1\n",
       "4041     2020-04-26    2020-04-26  9999-99-99         28  1d28f9  Local      1\n",
       "4042     2020-04-27    2020-04-20  9999-99-99          9  06ed10  Local      1\n",
       "4043     2020-04-27    2020-04-21  9999-99-99          9  0778e5  Local      1\n",
       "\n",
       "[17594 rows x 7 columns]"
      ]
     },
     "execution_count": 14,
     "metadata": {},
     "output_type": "execute_result"
    }
   ],
   "source": [
    "tbl"
   ]
  },
  {
   "cell_type": "code",
   "execution_count": 15,
   "metadata": {},
   "outputs": [],
   "source": [
    "#tbl[~tbl.FECHA_DEF.str.startswith(('9999'))]\n",
    "tbl = tbl[tbl.FECHA_DEF.str.startswith(('9999'))] # Not deceased"
   ]
  },
  {
   "cell_type": "code",
   "execution_count": 16,
   "metadata": {},
   "outputs": [],
   "source": [
    "tbl = tbl.drop(['FECHA_DEF'], axis=1)"
   ]
  },
  {
   "cell_type": "code",
   "execution_count": 17,
   "metadata": {},
   "outputs": [
    {
     "data": {
      "text/html": [
       "<div>\n",
       "<style scoped>\n",
       "    .dataframe tbody tr th:only-of-type {\n",
       "        vertical-align: middle;\n",
       "    }\n",
       "\n",
       "    .dataframe tbody tr th {\n",
       "        vertical-align: top;\n",
       "    }\n",
       "\n",
       "    .dataframe thead th {\n",
       "        text-align: right;\n",
       "    }\n",
       "</style>\n",
       "<table border=\"1\" class=\"dataframe\">\n",
       "  <thead>\n",
       "    <tr style=\"text-align: right;\">\n",
       "      <th></th>\n",
       "      <th>Date_Confirmed</th>\n",
       "      <th>Date_Symptoms</th>\n",
       "      <th>Region_ID</th>\n",
       "      <th>Case_ID</th>\n",
       "      <th>Origin</th>\n",
       "      <th>Status</th>\n",
       "    </tr>\n",
       "  </thead>\n",
       "  <tbody>\n",
       "    <tr>\n",
       "      <td>0</td>\n",
       "      <td>2020-01-06</td>\n",
       "      <td>2020-01-06</td>\n",
       "      <td>18</td>\n",
       "      <td>09f6d9</td>\n",
       "      <td>Local</td>\n",
       "      <td>1</td>\n",
       "    </tr>\n",
       "    <tr>\n",
       "      <td>1</td>\n",
       "      <td>2020-01-08</td>\n",
       "      <td>2020-01-08</td>\n",
       "      <td>30</td>\n",
       "      <td>1c29f8</td>\n",
       "      <td>Local</td>\n",
       "      <td>1</td>\n",
       "    </tr>\n",
       "    <tr>\n",
       "      <td>2</td>\n",
       "      <td>2020-01-27</td>\n",
       "      <td>2020-01-27</td>\n",
       "      <td>15</td>\n",
       "      <td>1879e0</td>\n",
       "      <td>Local</td>\n",
       "      <td>1</td>\n",
       "    </tr>\n",
       "    <tr>\n",
       "      <td>3</td>\n",
       "      <td>2020-02-07</td>\n",
       "      <td>2020-02-07</td>\n",
       "      <td>11</td>\n",
       "      <td>03e780</td>\n",
       "      <td>Local</td>\n",
       "      <td>1</td>\n",
       "    </tr>\n",
       "    <tr>\n",
       "      <td>4</td>\n",
       "      <td>2020-02-12</td>\n",
       "      <td>2020-02-07</td>\n",
       "      <td>2</td>\n",
       "      <td>07b5c5</td>\n",
       "      <td>Local</td>\n",
       "      <td>1</td>\n",
       "    </tr>\n",
       "    <tr>\n",
       "      <td>...</td>\n",
       "      <td>...</td>\n",
       "      <td>...</td>\n",
       "      <td>...</td>\n",
       "      <td>...</td>\n",
       "      <td>...</td>\n",
       "      <td>...</td>\n",
       "    </tr>\n",
       "    <tr>\n",
       "      <td>4039</td>\n",
       "      <td>2020-04-26</td>\n",
       "      <td>2020-04-26</td>\n",
       "      <td>28</td>\n",
       "      <td>1b5221</td>\n",
       "      <td>Local</td>\n",
       "      <td>1</td>\n",
       "    </tr>\n",
       "    <tr>\n",
       "      <td>4040</td>\n",
       "      <td>2020-04-26</td>\n",
       "      <td>2020-04-26</td>\n",
       "      <td>28</td>\n",
       "      <td>1c6f5f</td>\n",
       "      <td>Local</td>\n",
       "      <td>1</td>\n",
       "    </tr>\n",
       "    <tr>\n",
       "      <td>4041</td>\n",
       "      <td>2020-04-26</td>\n",
       "      <td>2020-04-26</td>\n",
       "      <td>28</td>\n",
       "      <td>1d28f9</td>\n",
       "      <td>Local</td>\n",
       "      <td>1</td>\n",
       "    </tr>\n",
       "    <tr>\n",
       "      <td>4042</td>\n",
       "      <td>2020-04-27</td>\n",
       "      <td>2020-04-20</td>\n",
       "      <td>9</td>\n",
       "      <td>06ed10</td>\n",
       "      <td>Local</td>\n",
       "      <td>1</td>\n",
       "    </tr>\n",
       "    <tr>\n",
       "      <td>4043</td>\n",
       "      <td>2020-04-27</td>\n",
       "      <td>2020-04-21</td>\n",
       "      <td>9</td>\n",
       "      <td>0778e5</td>\n",
       "      <td>Local</td>\n",
       "      <td>1</td>\n",
       "    </tr>\n",
       "  </tbody>\n",
       "</table>\n",
       "<p>16094 rows × 6 columns</p>\n",
       "</div>"
      ],
      "text/plain": [
       "     Date_Confirmed Date_Symptoms  Region_ID Case_ID Origin Status\n",
       "0        2020-01-06    2020-01-06         18  09f6d9  Local      1\n",
       "1        2020-01-08    2020-01-08         30  1c29f8  Local      1\n",
       "2        2020-01-27    2020-01-27         15  1879e0  Local      1\n",
       "3        2020-02-07    2020-02-07         11  03e780  Local      1\n",
       "4        2020-02-12    2020-02-07          2  07b5c5  Local      1\n",
       "...             ...           ...        ...     ...    ...    ...\n",
       "4039     2020-04-26    2020-04-26         28  1b5221  Local      1\n",
       "4040     2020-04-26    2020-04-26         28  1c6f5f  Local      1\n",
       "4041     2020-04-26    2020-04-26         28  1d28f9  Local      1\n",
       "4042     2020-04-27    2020-04-20          9  06ed10  Local      1\n",
       "4043     2020-04-27    2020-04-21          9  0778e5  Local      1\n",
       "\n",
       "[16094 rows x 6 columns]"
      ]
     },
     "execution_count": 17,
     "metadata": {},
     "output_type": "execute_result"
    }
   ],
   "source": [
    "tbl"
   ]
  },
  {
   "cell_type": "code",
   "execution_count": 18,
   "metadata": {},
   "outputs": [],
   "source": [
    "#tbl.to_csv('confirmed_by_date.csv', index=False)"
   ]
  },
  {
   "cell_type": "code",
   "execution_count": 19,
   "metadata": {},
   "outputs": [],
   "source": [
    "geo = pd.read_csv('../../data/dge/meta_data/entidades.csv')"
   ]
  },
  {
   "cell_type": "code",
   "execution_count": 20,
   "metadata": {},
   "outputs": [
    {
     "data": {
      "text/plain": [
       "Index(['CLAVE_ENTIDAD', 'ENTIDAD_FEDERATIVA', 'ABREVIATURA'], dtype='object')"
      ]
     },
     "execution_count": 20,
     "metadata": {},
     "output_type": "execute_result"
    }
   ],
   "source": [
    "geo.keys()"
   ]
  },
  {
   "cell_type": "code",
   "execution_count": 21,
   "metadata": {},
   "outputs": [],
   "source": [
    "geo = geo.rename(columns={'CLAVE_ENTIDAD':'Region_ID', 'ENTIDAD_FEDERATIVA':'Region', 'ABREVIATURA':'Region_Key'})"
   ]
  },
  {
   "cell_type": "code",
   "execution_count": 28,
   "metadata": {},
   "outputs": [],
   "source": [
    "output = pd.merge(tbl, geo, on='Region_ID') "
   ]
  },
  {
   "cell_type": "code",
   "execution_count": 29,
   "metadata": {},
   "outputs": [],
   "source": [
    "output = output[['Date_Confirmed', 'Date_Symptoms', 'Region', 'Region_ID', 'Region_Key', 'Origin']]"
   ]
  },
  {
   "cell_type": "code",
   "execution_count": 30,
   "metadata": {},
   "outputs": [],
   "source": [
    "output.to_csv('../../latest.csv', index=False)"
   ]
  },
  {
   "cell_type": "code",
   "execution_count": 32,
   "metadata": {},
   "outputs": [
    {
     "data": {
      "text/plain": [
       "array(['Local', 'Estados Unidos de AmÃ©rica', 'Estados Unidos de América',\n",
       "       'Venezuela', 'PerÃº', 'Perú', 'El Salvador', 'Cuba', 'Guatemala',\n",
       "       'Canadá', 'Alemania', 'RepÃºblica de Honduras',\n",
       "       'República de Honduras', 'Otro', 'CamerÃºn', 'Camerún', 'Chile',\n",
       "       'Brasil'], dtype=object)"
      ]
     },
     "execution_count": 32,
     "metadata": {},
     "output_type": "execute_result"
    }
   ],
   "source": [
    "output.Origin.unique()"
   ]
  },
  {
   "cell_type": "code",
   "execution_count": null,
   "metadata": {},
   "outputs": [],
   "source": []
  }
 ],
 "metadata": {
  "kernelspec": {
   "display_name": "Python 3",
   "language": "python",
   "name": "python3"
  },
  "language_info": {
   "codemirror_mode": {
    "name": "ipython",
    "version": 3
   },
   "file_extension": ".py",
   "mimetype": "text/x-python",
   "name": "python",
   "nbconvert_exporter": "python",
   "pygments_lexer": "ipython3",
   "version": "3.7.4"
  }
 },
 "nbformat": 4,
 "nbformat_minor": 4
}
