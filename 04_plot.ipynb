{
 "cells": [
  {
   "cell_type": "code",
   "execution_count": 1,
   "metadata": {},
   "outputs": [],
   "source": [
    "# An example of building up the structure of a figure as a Python dictionary\n",
    "# and then constructing a graph object figure from that dictionary."
   ]
  },
  {
   "cell_type": "code",
   "execution_count": 2,
   "metadata": {},
   "outputs": [],
   "source": [
    "# https://plotly.com/python/animations/#using-a-slider-and-buttons\n",
    "# https://raw.githubusercontent.com/plotly/datasets/master/gapminderDataFiveYear.csv"
   ]
  },
  {
   "cell_type": "code",
   "execution_count": 3,
   "metadata": {},
   "outputs": [],
   "source": [
    "import pandas as pd"
   ]
  },
  {
   "cell_type": "code",
   "execution_count": 4,
   "metadata": {},
   "outputs": [],
   "source": [
    "dataset = pd.read_csv('output_data/time_series/total-daily-tbl.csv')"
   ]
  },
  {
   "cell_type": "code",
   "execution_count": 5,
   "metadata": {},
   "outputs": [],
   "source": [
    "# https://community.plotly.com/t/plotly-doesnt-load-most-of-the-time/32095/3\n",
    "\n",
    "import plotly.graph_objects as go\n",
    "import plotly.io as pio\n",
    "\n",
    "pio.renderers.default = 'chrome'"
   ]
  },
  {
   "cell_type": "code",
   "execution_count": 6,
   "metadata": {},
   "outputs": [],
   "source": [
    "years = list(dataset['Date_Confirmed'].unique())"
   ]
  },
  {
   "cell_type": "code",
   "execution_count": 7,
   "metadata": {},
   "outputs": [],
   "source": [
    "# Make list of regions\n",
    "\n",
    "regions = []\n",
    "\n",
    "for region in dataset['Region']:\n",
    "    if region not in regions:\n",
    "        regions.append(region)"
   ]
  },
  {
   "cell_type": "code",
   "execution_count": 8,
   "metadata": {},
   "outputs": [],
   "source": [
    "# Make figure\n",
    "\n",
    "fig_dict = {\n",
    "    'data': [],\n",
    "    'layout': {},\n",
    "    'frames': []\n",
    "}"
   ]
  },
  {
   "cell_type": "code",
   "execution_count": 9,
   "metadata": {},
   "outputs": [],
   "source": [
    "# Fill in most of layout\n",
    "\n",
    "fig_dict['layout']['xaxis'] = {'title': 'casos totales', 'type': 'log'}\n",
    "fig_dict['layout']['yaxis'] = {'title': 'casos diarios', 'type': 'log'}\n",
    "fig_dict['layout']['hovermode'] = 'closest'\n",
    "fig_dict['layout']['sliders'] = {\n",
    "    'args': [\n",
    "        'transition', {\n",
    "            'duration': 400,\n",
    "            'easing': 'cubic-in-out'\n",
    "        }\n",
    "    ],\n",
    "    'initialValue': '15-02-2020',\n",
    "    'plotlycommand': 'animate',\n",
    "    'values': years,\n",
    "    'visible': True\n",
    "    }\n",
    "fig_dict['layout']['updatemenus'] = [\n",
    "    {\n",
    "        'buttons': [\n",
    "            {\n",
    "                'args': [None, {'frame': {'duration': 500, 'redraw': False},\n",
    "                                'fromcurrent': True, 'transition': {'duration': 300,\n",
    "                                                                    'easing': 'quadratic-in-out'}}],\n",
    "                'label': 'Play',\n",
    "                'method': 'animate'\n",
    "            },\n",
    "            {\n",
    "                'args': [[None], {'frame': {'duration': 0, 'redraw': False},\n",
    "                                  'mode': 'immediate',\n",
    "                                  'transition': {'duration': 0}}],\n",
    "                'label': 'Pause',\n",
    "                'method': 'animate'\n",
    "            }\n",
    "        ],\n",
    "        'direction': 'left',\n",
    "        'pad': {'r': 10, 't': 87},\n",
    "        'showactive': False,\n",
    "        'type': 'buttons',\n",
    "        'x': 0.1,\n",
    "        'xanchor': 'right',\n",
    "        'y': 0,\n",
    "        'yanchor': 'top'\n",
    "    }\n",
    "]\n",
    "\n",
    "sliders_dict = {\n",
    "    'active': 0,\n",
    "    'yanchor': 'top',\n",
    "    'xanchor': 'left',\n",
    "    'currentvalue': {\n",
    "        'font': {'size': 20},\n",
    "        'prefix': 'Fecha:',\n",
    "        'visible': True,\n",
    "        'xanchor': 'right'\n",
    "    },\n",
    "    'transition': {'duration': 300, 'easing': 'cubic-in-out'},\n",
    "    'pad': {'b': 10, 't': 50},\n",
    "    'len': 0.9,\n",
    "    'x': 0.1,\n",
    "    'y': 0,\n",
    "    'steps': []\n",
    "}"
   ]
  },
  {
   "cell_type": "code",
   "execution_count": 10,
   "metadata": {},
   "outputs": [],
   "source": [
    "# Make data\n",
    "\n",
    "year = '15-02-2020'\n",
    "\n",
    "for region in regions:\n",
    "    \n",
    "    dataset_by_year = dataset[dataset['Date_Confirmed'] == year]\n",
    "    dataset_by_year_and_region = dataset_by_year[dataset_by_year['Region'] == region]\n",
    "    \n",
    "    data_dict = {\n",
    "        'x': list(dataset_by_year_and_region['total']),\n",
    "        'y': list(dataset_by_year_and_region['daily']),\n",
    "        'mode': 'markers',\n",
    "        'text': list(dataset_by_year_and_region['Region']),\n",
    "    }\n",
    "    fig_dict['data'].append(data_dict)"
   ]
  },
  {
   "cell_type": "code",
   "execution_count": 11,
   "metadata": {},
   "outputs": [],
   "source": [
    "# Make frames\n",
    "\n",
    "for year in years:\n",
    "    \n",
    "    frame = {'data': [], 'name': str(year)}\n",
    "    \n",
    "    for region in regions:\n",
    "        \n",
    "        dataset_by_year = dataset[dataset['Date_Confirmed'] == year]\n",
    "        dataset_by_year_and_region = dataset_by_year[\n",
    "            dataset_by_year['Region'] == region]\n",
    "        \n",
    "        data_dict = {\n",
    "                    'x': list(dataset_by_year_and_region['total']),\n",
    "                    'y': list(dataset_by_year_and_region['daily']),\n",
    "                    'mode': 'lines',\n",
    "                    'text': list(dataset_by_year_and_region['Region']),\n",
    "                    'name': region\n",
    "            }\n",
    "        frame['data'].append(data_dict)\n",
    "        \n",
    "    fig_dict['frames'].append(frame)\n",
    "    slider_step = {'args': [\n",
    "        [year],\n",
    "        {'frame': {'duration': 300, 'redraw': False},\n",
    "         'mode': 'immediate',\n",
    "         'transition': {'duration': 300}}\n",
    "    ],\n",
    "        'label': year,\n",
    "        'method': 'animate'}\n",
    "    sliders_dict['steps'].append(slider_step)\n",
    "    \n",
    "fig_dict['layout']['sliders'] = [sliders_dict]\n",
    "\n",
    "fig = go.Figure(fig_dict)\n",
    "\n",
    "fig.show()"
   ]
  },
  {
   "cell_type": "code",
   "execution_count": null,
   "metadata": {},
   "outputs": [],
   "source": []
  }
 ],
 "metadata": {
  "kernelspec": {
   "display_name": "Python 3",
   "language": "python",
   "name": "python3"
  },
  "language_info": {
   "codemirror_mode": {
    "name": "ipython",
    "version": 3
   },
   "file_extension": ".py",
   "mimetype": "text/x-python",
   "name": "python",
   "nbconvert_exporter": "python",
   "pygments_lexer": "ipython3",
   "version": "3.7.4"
  }
 },
 "nbformat": 4,
 "nbformat_minor": 4
}
