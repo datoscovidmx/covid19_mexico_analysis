{
 "cells": [
  {
   "cell_type": "code",
   "execution_count": 53,
   "metadata": {},
   "outputs": [],
   "source": [
    "# An example of building up the structure of a figure as a Python dictionary\n",
    "# and then constructing a graph object figure from that dictionary."
   ]
  },
  {
   "cell_type": "code",
   "execution_count": 54,
   "metadata": {},
   "outputs": [],
   "source": [
    "# https://plotly.com/python/animations/#using-a-slider-and-buttons\n",
    "# https://raw.githubusercontent.com/plotly/datasets/master/gapminderDataFiveYear.csv"
   ]
  },
  {
   "cell_type": "code",
   "execution_count": 24,
   "metadata": {},
   "outputs": [],
   "source": [
    "import pandas as pd"
   ]
  },
  {
   "cell_type": "code",
   "execution_count": 55,
   "metadata": {},
   "outputs": [],
   "source": [
    "dataset = pd.read_csv('output_data/time_series/rolling-time-series.csv')"
   ]
  },
  {
   "cell_type": "code",
   "execution_count": 56,
   "metadata": {},
   "outputs": [],
   "source": [
    "dataset['Date_Confirmed'] = pd.to_datetime(dataset.Date_Confirmed, format='%d-%m-%Y')\n",
    "dataset['Date_Confirmed'] = dataset['Date_Confirmed'].dt.strftime('%d-%m-%Y')"
   ]
  },
  {
   "cell_type": "code",
   "execution_count": 57,
   "metadata": {},
   "outputs": [
    {
     "data": {
      "text/html": [
       "<div>\n",
       "<style scoped>\n",
       "    .dataframe tbody tr th:only-of-type {\n",
       "        vertical-align: middle;\n",
       "    }\n",
       "\n",
       "    .dataframe tbody tr th {\n",
       "        vertical-align: top;\n",
       "    }\n",
       "\n",
       "    .dataframe thead th {\n",
       "        text-align: right;\n",
       "    }\n",
       "</style>\n",
       "<table border=\"1\" class=\"dataframe\">\n",
       "  <thead>\n",
       "    <tr style=\"text-align: right;\">\n",
       "      <th></th>\n",
       "      <th>Date_Confirmed</th>\n",
       "      <th>Region</th>\n",
       "      <th>total</th>\n",
       "      <th>daily</th>\n",
       "    </tr>\n",
       "  </thead>\n",
       "  <tbody>\n",
       "    <tr>\n",
       "      <td>0</td>\n",
       "      <td>03-05-2020</td>\n",
       "      <td>China</td>\n",
       "      <td>2422.0</td>\n",
       "      <td>8.0</td>\n",
       "    </tr>\n",
       "    <tr>\n",
       "      <td>1</td>\n",
       "      <td>03-05-2020</td>\n",
       "      <td>Italy</td>\n",
       "      <td>2171.0</td>\n",
       "      <td>458.0</td>\n",
       "    </tr>\n",
       "    <tr>\n",
       "      <td>2</td>\n",
       "      <td>03-05-2020</td>\n",
       "      <td>Spain</td>\n",
       "      <td>132.0</td>\n",
       "      <td>35.0</td>\n",
       "    </tr>\n",
       "    <tr>\n",
       "      <td>3</td>\n",
       "      <td>03-05-2020</td>\n",
       "      <td>United Kingdom</td>\n",
       "      <td>5.0</td>\n",
       "      <td>1.0</td>\n",
       "    </tr>\n",
       "    <tr>\n",
       "      <td>4</td>\n",
       "      <td>03-05-2020</td>\n",
       "      <td>Korea, South</td>\n",
       "      <td>4350.0</td>\n",
       "      <td>617.0</td>\n",
       "    </tr>\n",
       "  </tbody>\n",
       "</table>\n",
       "</div>"
      ],
      "text/plain": [
       "  Date_Confirmed          Region   total  daily\n",
       "0     03-05-2020           China  2422.0    8.0\n",
       "1     03-05-2020           Italy  2171.0  458.0\n",
       "2     03-05-2020           Spain   132.0   35.0\n",
       "3     03-05-2020  United Kingdom     5.0    1.0\n",
       "4     03-05-2020    Korea, South  4350.0  617.0"
      ]
     },
     "execution_count": 57,
     "metadata": {},
     "output_type": "execute_result"
    }
   ],
   "source": [
    "dataset.head()"
   ]
  },
  {
   "cell_type": "code",
   "execution_count": 58,
   "metadata": {},
   "outputs": [],
   "source": [
    "# https://community.plotly.com/t/plotly-doesnt-load-most-of-the-time/32095/3\n",
    "\n",
    "import plotly.graph_objects as go\n",
    "import plotly.io as pio\n",
    "\n",
    "pio.renderers.default = 'chrome'"
   ]
  },
  {
   "cell_type": "code",
   "execution_count": 59,
   "metadata": {},
   "outputs": [],
   "source": [
    "# Make list of regions\n",
    "\n",
    "regions = []\n",
    "\n",
    "for region in dataset['Region']:\n",
    "    if region not in regions:\n",
    "        regions.append(region)"
   ]
  },
  {
   "cell_type": "code",
   "execution_count": 60,
   "metadata": {},
   "outputs": [],
   "source": [
    "from datetime import datetime\n",
    "dataset['Date_Confirmed'] = dataset['Date_Confirmed'].apply(lambda x: datetime.strptime(x, '%d-%m-%Y'))"
   ]
  },
  {
   "cell_type": "code",
   "execution_count": 61,
   "metadata": {},
   "outputs": [],
   "source": [
    "years = sorted(list(set(dataset['Date_Confirmed'])))"
   ]
  },
  {
   "cell_type": "code",
   "execution_count": 62,
   "metadata": {},
   "outputs": [],
   "source": [
    "filled_df = []\n",
    "for region in regions:\n",
    "    for year in years:\n",
    "        dataset_by_year = dataset[dataset['Date_Confirmed'] == year]\n",
    "        dataset_by_year_and_region = dataset_by_year[dataset_by_year['Region'] == region]\n",
    "        if len(dataset_by_year_and_region)==0:\n",
    "            dataset_by_year_less = dataset[dataset['Date_Confirmed'] < year]\n",
    "            dataset_by_year_and_region_less = dataset_by_year_less[dataset_by_year_less['Region'] == region]\n",
    "            if len(dataset_by_year_and_region_less)==0:\n",
    "                filled_df.append({'Date_Confirmed': year, 'Region': region, 'total':0, 'daily':0})\n",
    "            else:\n",
    "                last_dict = dataset_by_year_and_region_less.iloc[0].to_dict()\n",
    "                last_dict['Date_Confirmed'] = year\n",
    "                filled_df.append(last_dict)\n",
    "        else:\n",
    "            filled_df.append(dataset_by_year_and_region.iloc[0].to_dict())"
   ]
  },
  {
   "cell_type": "code",
   "execution_count": 63,
   "metadata": {},
   "outputs": [],
   "source": [
    "dataset = pd.DataFrame(filled_df)"
   ]
  },
  {
   "cell_type": "code",
   "execution_count": 64,
   "metadata": {},
   "outputs": [
    {
     "data": {
      "text/plain": [
       "729006.0"
      ]
     },
     "execution_count": 64,
     "metadata": {},
     "output_type": "execute_result"
    }
   ],
   "source": [
    "dataset['total'].max()"
   ]
  },
  {
   "cell_type": "code",
   "execution_count": 65,
   "metadata": {},
   "outputs": [
    {
     "data": {
      "text/plain": [
       "31564.0"
      ]
     },
     "execution_count": 65,
     "metadata": {},
     "output_type": "execute_result"
    }
   ],
   "source": [
    "dataset['daily'].max()"
   ]
  },
  {
   "cell_type": "code",
   "execution_count": 66,
   "metadata": {},
   "outputs": [
    {
     "data": {
      "text/html": [
       "<div>\n",
       "<style scoped>\n",
       "    .dataframe tbody tr th:only-of-type {\n",
       "        vertical-align: middle;\n",
       "    }\n",
       "\n",
       "    .dataframe tbody tr th {\n",
       "        vertical-align: top;\n",
       "    }\n",
       "\n",
       "    .dataframe thead th {\n",
       "        text-align: right;\n",
       "    }\n",
       "</style>\n",
       "<table border=\"1\" class=\"dataframe\">\n",
       "  <thead>\n",
       "    <tr style=\"text-align: right;\">\n",
       "      <th></th>\n",
       "      <th>Date_Confirmed</th>\n",
       "      <th>Region</th>\n",
       "      <th>total</th>\n",
       "      <th>daily</th>\n",
       "    </tr>\n",
       "  </thead>\n",
       "  <tbody>\n",
       "    <tr>\n",
       "      <td>0</td>\n",
       "      <td>2020-01-04</td>\n",
       "      <td>China</td>\n",
       "      <td>2488.0</td>\n",
       "      <td>3.0</td>\n",
       "    </tr>\n",
       "    <tr>\n",
       "      <td>1</td>\n",
       "      <td>2020-02-04</td>\n",
       "      <td>China</td>\n",
       "      <td>2491.0</td>\n",
       "      <td>3.0</td>\n",
       "    </tr>\n",
       "    <tr>\n",
       "      <td>2</td>\n",
       "      <td>2020-03-04</td>\n",
       "      <td>China</td>\n",
       "      <td>2493.0</td>\n",
       "      <td>3.0</td>\n",
       "    </tr>\n",
       "    <tr>\n",
       "      <td>3</td>\n",
       "      <td>2020-03-13</td>\n",
       "      <td>China</td>\n",
       "      <td>2451.0</td>\n",
       "      <td>1.0</td>\n",
       "    </tr>\n",
       "    <tr>\n",
       "      <td>4</td>\n",
       "      <td>2020-03-14</td>\n",
       "      <td>China</td>\n",
       "      <td>2452.0</td>\n",
       "      <td>1.0</td>\n",
       "    </tr>\n",
       "    <tr>\n",
       "      <td>...</td>\n",
       "      <td>...</td>\n",
       "      <td>...</td>\n",
       "      <td>...</td>\n",
       "      <td>...</td>\n",
       "    </tr>\n",
       "    <tr>\n",
       "      <td>331</td>\n",
       "      <td>2020-10-04</td>\n",
       "      <td>Mexico</td>\n",
       "      <td>2510.0</td>\n",
       "      <td>276.0</td>\n",
       "    </tr>\n",
       "    <tr>\n",
       "      <td>332</td>\n",
       "      <td>2020-11-03</td>\n",
       "      <td>Mexico</td>\n",
       "      <td>7.0</td>\n",
       "      <td>0.0</td>\n",
       "    </tr>\n",
       "    <tr>\n",
       "      <td>333</td>\n",
       "      <td>2020-11-04</td>\n",
       "      <td>Mexico</td>\n",
       "      <td>2818.0</td>\n",
       "      <td>308.0</td>\n",
       "    </tr>\n",
       "    <tr>\n",
       "      <td>334</td>\n",
       "      <td>2020-12-03</td>\n",
       "      <td>Mexico</td>\n",
       "      <td>8.0</td>\n",
       "      <td>1.0</td>\n",
       "    </tr>\n",
       "    <tr>\n",
       "      <td>335</td>\n",
       "      <td>2020-12-04</td>\n",
       "      <td>Mexico</td>\n",
       "      <td>3150.0</td>\n",
       "      <td>333.0</td>\n",
       "    </tr>\n",
       "  </tbody>\n",
       "</table>\n",
       "<p>336 rows × 4 columns</p>\n",
       "</div>"
      ],
      "text/plain": [
       "    Date_Confirmed  Region   total  daily\n",
       "0       2020-01-04   China  2488.0    3.0\n",
       "1       2020-02-04   China  2491.0    3.0\n",
       "2       2020-03-04   China  2493.0    3.0\n",
       "3       2020-03-13   China  2451.0    1.0\n",
       "4       2020-03-14   China  2452.0    1.0\n",
       "..             ...     ...     ...    ...\n",
       "331     2020-10-04  Mexico  2510.0  276.0\n",
       "332     2020-11-03  Mexico     7.0    0.0\n",
       "333     2020-11-04  Mexico  2818.0  308.0\n",
       "334     2020-12-03  Mexico     8.0    1.0\n",
       "335     2020-12-04  Mexico  3150.0  333.0\n",
       "\n",
       "[336 rows x 4 columns]"
      ]
     },
     "execution_count": 66,
     "metadata": {},
     "output_type": "execute_result"
    }
   ],
   "source": [
    "dataset"
   ]
  },
  {
   "cell_type": "code",
   "execution_count": 67,
   "metadata": {},
   "outputs": [
    {
     "data": {
      "text/plain": [
       "9"
      ]
     },
     "execution_count": 67,
     "metadata": {},
     "output_type": "execute_result"
    }
   ],
   "source": [
    "len(str(dataset['total'].max()))+1"
   ]
  },
  {
   "cell_type": "code",
   "execution_count": 68,
   "metadata": {},
   "outputs": [],
   "source": [
    "# Make figure\n",
    "\n",
    "fig_dict = {\n",
    "    'data': [],\n",
    "    'layout': {},\n",
    "    'frames': []\n",
    "}"
   ]
  },
  {
   "cell_type": "code",
   "execution_count": 69,
   "metadata": {},
   "outputs": [],
   "source": [
    "# Fill in most of layout\n",
    "\n",
    "fig_dict['layout']['xaxis'] = {'title': 'casos totales', 'type': 'log', 'range': [0,6]}\n",
    "fig_dict['layout']['yaxis'] = {'title': 'casos diarios', 'type': 'log', 'range': [0,6]}\n",
    "fig_dict['layout']['hovermode'] = 'closest'\n",
    "fig_dict['layout']['sliders'] = {\n",
    "    'args': [\n",
    "        'transition', {\n",
    "            'duration': 400,\n",
    "            'easing': 'cubic-in-out'\n",
    "        }\n",
    "    ],\n",
    "    'initialValue': datetime.strptime('15-02-2020', '%d-%m-%Y').isoformat().split('T')[0],\n",
    "    'plotlycommand': 'animate',\n",
    "    'values': years,\n",
    "    'visible': True\n",
    "    }\n",
    "fig_dict['layout']['updatemenus'] = [\n",
    "    {\n",
    "        'buttons': [\n",
    "            {\n",
    "                'args': [None, {'frame': {'duration': 500, 'redraw': False},\n",
    "                                'fromcurrent': True, 'transition': {'duration': 300,\n",
    "                                                                    'easing': 'quadratic-in-out'}}],\n",
    "                'label': 'Play',\n",
    "                'method': 'animate'\n",
    "            },\n",
    "            {\n",
    "                'args': [[None], {'frame': {'duration': 0, 'redraw': False},\n",
    "                                  'mode': 'immediate',\n",
    "                                  'transition': {'duration': 0}}],\n",
    "                'label': 'Pause',\n",
    "                'method': 'animate'\n",
    "            }\n",
    "        ],\n",
    "        'direction': 'left',\n",
    "        'pad': {'r': 10, 't': 87},\n",
    "        'showactive': False,\n",
    "        'type': 'buttons',\n",
    "        'x': 0.1,\n",
    "        'xanchor': 'right',\n",
    "        'y': 0,\n",
    "        'yanchor': 'top'\n",
    "    }\n",
    "]\n",
    "\n",
    "sliders_dict = {\n",
    "    'active': 0,\n",
    "    'yanchor': 'top',\n",
    "    'xanchor': 'left',\n",
    "    'currentvalue': {\n",
    "        'font': {'size': 20},\n",
    "        'prefix': 'Fecha:',\n",
    "        'visible': True,\n",
    "        'xanchor': 'right'\n",
    "    },\n",
    "    'transition': {'duration': 300, 'easing': 'cubic-in-out'},\n",
    "    'pad': {'b': 10, 't': 50},\n",
    "    'len': 0.9,\n",
    "    'x': 0.1,\n",
    "    'y': 0,\n",
    "    'steps': []\n",
    "}"
   ]
  },
  {
   "cell_type": "code",
   "execution_count": 70,
   "metadata": {},
   "outputs": [],
   "source": [
    "year = datetime.strptime('15-02-2020', '%d-%m-%Y')\n",
    "\n",
    "for region in regions:\n",
    "    \n",
    "    dataset_by_year = dataset[dataset['Date_Confirmed'] == year]\n",
    "    dataset_by_year_and_region = dataset_by_year[dataset_by_year['Region'] == region]\n",
    "    \n",
    "    data_dict = {\n",
    "        'x': list(dataset_by_year_and_region['total']),\n",
    "        'y': list(dataset_by_year_and_region['daily']),\n",
    "        'mode': 'markers',\n",
    "        'text': list(dataset_by_year_and_region['Region']),\n",
    "    }\n",
    "    fig_dict['data'].append(data_dict)"
   ]
  },
  {
   "cell_type": "code",
   "execution_count": 71,
   "metadata": {},
   "outputs": [],
   "source": [
    "dataset.to_csv('region_data.csv')"
   ]
  },
  {
   "cell_type": "code",
   "execution_count": 72,
   "metadata": {},
   "outputs": [],
   "source": [
    "# Make frames\n",
    "\n",
    "for year in years:\n",
    "    \n",
    "    frame = {'data': [], 'name': str(year.isoformat().split('T')[0])}\n",
    "    dataset_by_year = dataset[dataset['Date_Confirmed'] <= year]\n",
    "    for region in regions:\n",
    "        dataset_by_year_and_region = dataset_by_year[\n",
    "            dataset_by_year['Region'] == region]\n",
    "        \n",
    "        data_dict = {\n",
    "                    'x': list(dataset_by_year_and_region['total']),\n",
    "                    'y': list(dataset_by_year_and_region['daily']),\n",
    "                    'mode': 'lines',\n",
    "                    'text': list(dataset_by_year_and_region['Region']),\n",
    "                    'name': region\n",
    "            }\n",
    "        frame['data'].append(data_dict)\n",
    "        \n",
    "    fig_dict['frames'].append(frame)\n",
    "    slider_step = {'args': [\n",
    "        [year.isoformat().split('T')[0]],\n",
    "        {'frame': {'duration': 300, 'redraw': False},\n",
    "         'mode': 'immediate',\n",
    "         'transition': {'duration': 300}}\n",
    "    ],\n",
    "        'label': year.isoformat().split('T')[0],\n",
    "        'method': 'animate'}\n",
    "    sliders_dict['steps'].append(slider_step)\n",
    "    \n",
    "fig_dict['layout']['sliders'] = [sliders_dict]"
   ]
  },
  {
   "cell_type": "code",
   "execution_count": 73,
   "metadata": {},
   "outputs": [],
   "source": [
    "#fig_dict['frames'][-1]"
   ]
  },
  {
   "cell_type": "code",
   "execution_count": 74,
   "metadata": {},
   "outputs": [],
   "source": [
    "fig = go.Figure(fig_dict)\n",
    "\n",
    "fig.show()"
   ]
  },
  {
   "cell_type": "code",
   "execution_count": null,
   "metadata": {},
   "outputs": [],
   "source": []
  }
 ],
 "metadata": {
  "kernelspec": {
   "display_name": "Python 3",
   "language": "python",
   "name": "python3"
  },
  "language_info": {
   "codemirror_mode": {
    "name": "ipython",
    "version": 3
   },
   "file_extension": ".py",
   "mimetype": "text/x-python",
   "name": "python",
   "nbconvert_exporter": "python",
   "pygments_lexer": "ipython3",
   "version": "3.7.4"
  }
 },
 "nbformat": 4,
 "nbformat_minor": 4
}
