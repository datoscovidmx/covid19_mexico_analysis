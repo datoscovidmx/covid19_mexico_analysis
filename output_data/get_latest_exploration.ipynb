{
 "cells": [
  {
   "cell_type": "code",
<<<<<<< HEAD
   "execution_count": 13,
=======
   "execution_count": 2,
>>>>>>> 47fb31e7e39c3566ef0bb4ee2dce898add7464eb
   "metadata": {},
   "outputs": [],
   "source": [
    "import os\n",
    "from datetime import datetime\n",
    "from shutil import copyfile\n",
    "import pandas as pd\n",
    "from datetime import datetime\n",
    "import numpy as np"
   ]
  },
  {
   "cell_type": "code",
<<<<<<< HEAD
   "execution_count": 14,
=======
   "execution_count": 3,
>>>>>>> 47fb31e7e39c3566ef0bb4ee2dce898add7464eb
   "metadata": {},
   "outputs": [],
   "source": [
    "def get_date(raw_file_name):\n",
    "    return datetime.strptime(raw_file_name.split('covid19-')[1].replace('.csv', ''), '%Y-%m-%d')"
   ]
  },
  {
   "cell_type": "code",
<<<<<<< HEAD
   "execution_count": 15,
=======
   "execution_count": 4,
>>>>>>> 47fb31e7e39c3566ef0bb4ee2dce898add7464eb
   "metadata": {},
   "outputs": [],
   "source": [
    "def convert_back_to_str_file(date):\n",
    "    return 'mexico-covid19-' + date.isoformat().split('T')[0] + '.csv'"
   ]
  },
  {
   "cell_type": "code",
<<<<<<< HEAD
   "execution_count": 16,
=======
   "execution_count": 5,
   "metadata": {},
   "outputs": [],
   "source": [
    "def fix_dateformat(date_string):\n",
    "    if pd.isna(date_string): return ''\n",
    "    try:\n",
    "        date = datetime.strptime(date_string, '%d-%m-%Y')\n",
    "        if (datetime.now() - date).days < 0:\n",
    "            raise\n",
    "        return date.isoformat().split('T')[0]\n",
    "    except:\n",
    "        try:\n",
    "            date = datetime.strptime(date_string, '%m-%d-%Y')\n",
    "            return date.isoformat().split('T')[0]\n",
    "        except:\n",
    "            None # print(date_string) should be just nan\n",
    "    return ''"
   ]
  },
  {
   "cell_type": "code",
   "execution_count": 6,
   "metadata": {},
   "outputs": [],
   "source": [
    "def switch_date(date_string):\n",
    "    date_str_array = date_string.split('-')\n",
    "    return date_str_array[0]+'-'+date_str_array[2]+'-'+date_str_array[1]"
   ]
  },
  {
   "cell_type": "code",
   "execution_count": 7,
   "metadata": {},
   "outputs": [],
   "source": [
    "def fix_row_details(row_o):\n",
    "    row = row_o.to_dict()\n",
    "    if row['Date_Arrival'] == '' or row['Date_Confirmed']=='': return row\n",
    "    date_arrival = datetime.strptime(row['Date_Arrival'], '%Y-%m-%d')\n",
    "    date_confirmed = datetime.strptime(row['Date_Confirmed'], '%Y-%m-%d')\n",
    "    if date_arrival > date_confirmed:\n",
    "        row['Date_Arrival'] = switch_date(row['Date_Arrival'])\n",
    "    return row"
   ]
  },
  {
   "cell_type": "code",
   "execution_count": 24,
   "metadata": {},
   "outputs": [],
   "source": [
    "def fix_row_onset(row_o):\n",
    "    row = row_o.to_dict()\n",
    "    if row['Date_Symptoms'] == '' or row['Date_Confirmed']=='': return row\n",
    "    date_confirmed = datetime.strptime(row['Date_Confirmed'], '%Y-%m-%d')\n",
    "    date_onset = datetime.strptime(row['Date_Symptoms'], '%Y-%m-%d')\n",
    "    if date_onset < date_confirmed:\n",
    "        if date_confirmed.month == 1: \n",
    "            try:\n",
    "                datetime.strptime(switch_date(row['Date_Confirmed']))\n",
    "                row['Date_Confirmed'] = switch_date(row['Date_Confirmed'])\n",
    "            except:\n",
    "                None\n",
    "    date_confirmed = datetime.strptime(row['Date_Confirmed'], '%Y-%m-%d')\n",
    "    if date_onset < date_confirmed:\n",
    "        if date_onset.month == 4: \n",
    "            try:\n",
    "                datetime.strptime(switch_date(row['Date_Symptoms']))\n",
    "                row['Date_Symptoms'] = switch_date(row['Date_Symptoms'])\n",
    "            except:\n",
    "                None\n",
    "    return row"
   ]
  },
  {
   "cell_type": "code",
   "execution_count": 25,
>>>>>>> 47fb31e7e39c3566ef0bb4ee2dce898add7464eb
   "metadata": {},
   "outputs": [],
   "source": [
    "available_files = [file for file in os.listdir() if 'mexico' in file] \n",
    "max_date = max([get_date(file) for file in available_files])\n",
    "max_date_file = convert_back_to_str_file(max_date)\n",
    "df_data = pd.read_csv(max_date_file)\n",
    "for column_name in ['Date_Arrival', 'Date_Confirmed','Date_Symptoms']:\n",
    "    df_data[column_name] = df_data[column_name].apply(lambda x: fix_dateformat(x))\n",
    "df_data = pd.DataFrame([fix_row_details(row) for i, row in df_data.iterrows()])\n",
    "df_data = pd.DataFrame([fix_row_onset(row) for i, row in df_data.iterrows()])\n",
    "df_data.to_csv('latest.csv', index=None)"
   ]
  },
  {
   "cell_type": "markdown",
   "metadata": {},
   "source": [
    "Working through errors"
   ]
  },
  {
   "cell_type": "code",
   "execution_count": 17,
   "metadata": {},
   "outputs": [],
   "source": [
    "df_data_filtered = df_data[df_data['Date_Confirmed'] != '']\n",
    "df_data_filtered = df_data_filtered[df_data_filtered['Date_Symptoms'] != '']"
   ]
  },
  {
   "cell_type": "code",
   "execution_count": 18,
   "metadata": {},
   "outputs": [],
   "source": [
    "df_data_filtered['Date_Confirmed'] = df_data_filtered['Date_Confirmed'].apply(lambda x: datetime.strptime(x, '%Y-%m-%d'))\n",
    "df_data_filtered['Date_Symptoms'] = df_data_filtered['Date_Symptoms'].apply(lambda x: datetime.strptime(x, '%Y-%m-%d'))"
   ]
  },
  {
   "cell_type": "code",
   "execution_count": 40,
   "metadata": {},
   "outputs": [],
   "source": [
    "output = []\n",
    "for i, row in df_data_filtered.iterrows():\n",
    "    row_dict = row.to_dict()\n",
    "    row_dict['difference'] = (row_dict['Date_Confirmed']-row_dict['Date_Symptoms']).days\n",
    "    output.append(row_dict)\n",
    "pd_data_filtered = pd.DataFrame(output)"
   ]
  },
  {
   "cell_type": "code",
   "execution_count": 44,
   "metadata": {},
   "outputs": [
    {
     "data": {
      "text/html": [
       "<div>\n",
       "<style scoped>\n",
       "    .dataframe tbody tr th:only-of-type {\n",
       "        vertical-align: middle;\n",
       "    }\n",
       "\n",
       "    .dataframe tbody tr th {\n",
       "        vertical-align: top;\n",
       "    }\n",
       "\n",
       "    .dataframe thead th {\n",
       "        text-align: right;\n",
       "    }\n",
       "</style>\n",
       "<table border=\"1\" class=\"dataframe\">\n",
       "  <thead>\n",
       "    <tr style=\"text-align: right;\">\n",
       "      <th></th>\n",
       "      <th>Age</th>\n",
       "      <th>Case_ID</th>\n",
       "      <th>Date_Arrival</th>\n",
       "      <th>Date_Confirmed</th>\n",
       "      <th>Date_Symptoms</th>\n",
       "      <th>Origin</th>\n",
       "      <th>Region</th>\n",
       "      <th>Sex</th>\n",
       "      <th>Tested</th>\n",
       "      <th>difference</th>\n",
       "    </tr>\n",
       "  </thead>\n",
       "  <tbody>\n",
       "    <tr>\n",
       "      <th>4</th>\n",
       "      <td>18</td>\n",
       "      <td>5</td>\n",
       "      <td>2020-25-02</td>\n",
       "      <td>2020-01-03</td>\n",
       "      <td>2020-02-25</td>\n",
       "      <td>Italia</td>\n",
       "      <td>CHIAPAS</td>\n",
       "      <td>F</td>\n",
       "      <td>confirmado</td>\n",
       "      <td>-53</td>\n",
       "    </tr>\n",
       "    <tr>\n",
       "      <th>11</th>\n",
       "      <td>57</td>\n",
       "      <td>12</td>\n",
       "      <td>2020-03-03</td>\n",
       "      <td>2020-03-11</td>\n",
       "      <td>2020-04-03</td>\n",
       "      <td>Alemania</td>\n",
       "      <td>NUEVO LEÓN</td>\n",
       "      <td>M</td>\n",
       "      <td>confirmado</td>\n",
       "      <td>-23</td>\n",
       "    </tr>\n",
       "    <tr>\n",
       "      <th>24</th>\n",
       "      <td>68</td>\n",
       "      <td>25</td>\n",
       "      <td>2020-03-10</td>\n",
       "      <td>2020-03-13</td>\n",
       "      <td>2020-04-03</td>\n",
       "      <td>España</td>\n",
       "      <td>CIUDAD DE MÉXICO</td>\n",
       "      <td>M</td>\n",
       "      <td>confirmado</td>\n",
       "      <td>-21</td>\n",
       "    </tr>\n",
       "    <tr>\n",
       "      <th>175</th>\n",
       "      <td>51</td>\n",
       "      <td>176</td>\n",
       "      <td>2020-09-03</td>\n",
       "      <td>2020-01-04</td>\n",
       "      <td>2020-03-09</td>\n",
       "      <td>Estados Unidos</td>\n",
       "      <td>CIUDAD DE MÉXICO</td>\n",
       "      <td>F</td>\n",
       "      <td>Confirmado</td>\n",
       "      <td>-65</td>\n",
       "    </tr>\n",
       "    <tr>\n",
       "      <th>176</th>\n",
       "      <td>32</td>\n",
       "      <td>177</td>\n",
       "      <td>2020-15-03</td>\n",
       "      <td>2020-01-04</td>\n",
       "      <td>2020-03-07</td>\n",
       "      <td>Contacto</td>\n",
       "      <td>CIUDAD DE MÉXICO</td>\n",
       "      <td>M</td>\n",
       "      <td>Confirmado</td>\n",
       "      <td>-63</td>\n",
       "    </tr>\n",
       "    <tr>\n",
       "      <th>...</th>\n",
       "      <td>...</td>\n",
       "      <td>...</td>\n",
       "      <td>...</td>\n",
       "      <td>...</td>\n",
       "      <td>...</td>\n",
       "      <td>...</td>\n",
       "      <td>...</td>\n",
       "      <td>...</td>\n",
       "      <td>...</td>\n",
       "      <td>...</td>\n",
       "    </tr>\n",
       "    <tr>\n",
       "      <th>1596</th>\n",
       "      <td>56</td>\n",
       "      <td>1597</td>\n",
       "      <td></td>\n",
       "      <td>2020-03-04</td>\n",
       "      <td>2020-03-23</td>\n",
       "      <td>Contacto</td>\n",
       "      <td>GUERRERO</td>\n",
       "      <td>M</td>\n",
       "      <td>Confirmado</td>\n",
       "      <td>-19</td>\n",
       "    </tr>\n",
       "    <tr>\n",
       "      <th>1597</th>\n",
       "      <td>67</td>\n",
       "      <td>1598</td>\n",
       "      <td></td>\n",
       "      <td>2020-03-04</td>\n",
       "      <td>2020-03-20</td>\n",
       "      <td>Contacto</td>\n",
       "      <td>CIUDAD DE MÉXICO</td>\n",
       "      <td>F</td>\n",
       "      <td>Confirmado</td>\n",
       "      <td>-16</td>\n",
       "    </tr>\n",
       "    <tr>\n",
       "      <th>1599</th>\n",
       "      <td>39</td>\n",
       "      <td>1600</td>\n",
       "      <td></td>\n",
       "      <td>2020-03-04</td>\n",
       "      <td>2020-03-17</td>\n",
       "      <td>Contacto</td>\n",
       "      <td>CIUDAD DE MÉXICO</td>\n",
       "      <td>M</td>\n",
       "      <td>Confirmado</td>\n",
       "      <td>-13</td>\n",
       "    </tr>\n",
       "    <tr>\n",
       "      <th>1600</th>\n",
       "      <td>31</td>\n",
       "      <td>1601</td>\n",
       "      <td></td>\n",
       "      <td>2020-03-04</td>\n",
       "      <td>2020-03-30</td>\n",
       "      <td>Contacto</td>\n",
       "      <td>QUINTANA ROO</td>\n",
       "      <td>M</td>\n",
       "      <td>Confirmado</td>\n",
       "      <td>-26</td>\n",
       "    </tr>\n",
       "    <tr>\n",
       "      <th>1601</th>\n",
       "      <td>68</td>\n",
       "      <td>1602</td>\n",
       "      <td>2020-23-03</td>\n",
       "      <td>2020-03-04</td>\n",
       "      <td>2020-03-31</td>\n",
       "      <td>Estados Unidos</td>\n",
       "      <td>JALISCO</td>\n",
       "      <td>M</td>\n",
       "      <td>Confirmado</td>\n",
       "      <td>-27</td>\n",
       "    </tr>\n",
       "  </tbody>\n",
       "</table>\n",
       "<p>340 rows × 10 columns</p>\n",
       "</div>"
      ],
      "text/plain": [
       "      Age  Case_ID Date_Arrival Date_Confirmed Date_Symptoms          Origin  \\\n",
       "4      18        5   2020-25-02     2020-01-03    2020-02-25          Italia   \n",
       "11     57       12   2020-03-03     2020-03-11    2020-04-03        Alemania   \n",
       "24     68       25   2020-03-10     2020-03-13    2020-04-03          España   \n",
       "175    51      176   2020-09-03     2020-01-04    2020-03-09  Estados Unidos   \n",
       "176    32      177   2020-15-03     2020-01-04    2020-03-07        Contacto   \n",
       "...   ...      ...          ...            ...           ...             ...   \n",
       "1596   56     1597                  2020-03-04    2020-03-23        Contacto   \n",
       "1597   67     1598                  2020-03-04    2020-03-20        Contacto   \n",
       "1599   39     1600                  2020-03-04    2020-03-17        Contacto   \n",
       "1600   31     1601                  2020-03-04    2020-03-30        Contacto   \n",
       "1601   68     1602   2020-23-03     2020-03-04    2020-03-31  Estados Unidos   \n",
       "\n",
       "                Region Sex      Tested  difference  \n",
       "4              CHIAPAS   F  confirmado         -53  \n",
       "11          NUEVO LEÓN   M  confirmado         -23  \n",
       "24    CIUDAD DE MÉXICO   M  confirmado         -21  \n",
       "175   CIUDAD DE MÉXICO   F  Confirmado         -65  \n",
       "176   CIUDAD DE MÉXICO   M  Confirmado         -63  \n",
       "...                ...  ..         ...         ...  \n",
       "1596          GUERRERO   M  Confirmado         -19  \n",
       "1597  CIUDAD DE MÉXICO   F  Confirmado         -16  \n",
       "1599  CIUDAD DE MÉXICO   M  Confirmado         -13  \n",
       "1600      QUINTANA ROO   M  Confirmado         -26  \n",
       "1601           JALISCO   M  Confirmado         -27  \n",
       "\n",
       "[340 rows x 10 columns]"
      ]
     },
     "execution_count": 44,
     "metadata": {},
     "output_type": "execute_result"
    }
   ],
   "source": [
    "pd_data_filtered[pd_data_filtered['difference']<0]"
   ]
  },
  {
   "cell_type": "code",
   "execution_count": 41,
   "metadata": {},
   "outputs": [
    {
     "ename": "TypeError",
     "evalue": "Invalid comparison between dtype=timedelta64[ns] and int",
     "output_type": "error",
     "traceback": [
      "\u001b[0;31m-----------------------------------------------------------\u001b[0m",
      "\u001b[0;31mTypeError\u001b[0m                 Traceback (most recent call last)",
      "\u001b[0;32m<ipython-input-41-c1b1031a1243>\u001b[0m in \u001b[0;36m<module>\u001b[0;34m\u001b[0m\n\u001b[0;32m----> 1\u001b[0;31m \u001b[0mdf_data_filtered\u001b[0m\u001b[0;34m[\u001b[0m\u001b[0mdf_data_filtered\u001b[0m\u001b[0;34m[\u001b[0m\u001b[0;34m'difference'\u001b[0m\u001b[0;34m]\u001b[0m\u001b[0;34m<\u001b[0m\u001b[0;36m0\u001b[0m\u001b[0;34m]\u001b[0m\u001b[0;34m\u001b[0m\u001b[0;34m\u001b[0m\u001b[0m\n\u001b[0m",
      "\u001b[0;32m~/anaconda3/lib/python3.7/site-packages/pandas/core/ops/common.py\u001b[0m in \u001b[0;36mnew_method\u001b[0;34m(self, other)\u001b[0m\n\u001b[1;32m     62\u001b[0m         \u001b[0mother\u001b[0m \u001b[0;34m=\u001b[0m \u001b[0mitem_from_zerodim\u001b[0m\u001b[0;34m(\u001b[0m\u001b[0mother\u001b[0m\u001b[0;34m)\u001b[0m\u001b[0;34m\u001b[0m\u001b[0;34m\u001b[0m\u001b[0m\n\u001b[1;32m     63\u001b[0m \u001b[0;34m\u001b[0m\u001b[0m\n\u001b[0;32m---> 64\u001b[0;31m         \u001b[0;32mreturn\u001b[0m \u001b[0mmethod\u001b[0m\u001b[0;34m(\u001b[0m\u001b[0mself\u001b[0m\u001b[0;34m,\u001b[0m \u001b[0mother\u001b[0m\u001b[0;34m)\u001b[0m\u001b[0;34m\u001b[0m\u001b[0;34m\u001b[0m\u001b[0m\n\u001b[0m\u001b[1;32m     65\u001b[0m \u001b[0;34m\u001b[0m\u001b[0m\n\u001b[1;32m     66\u001b[0m     \u001b[0;32mreturn\u001b[0m \u001b[0mnew_method\u001b[0m\u001b[0;34m\u001b[0m\u001b[0;34m\u001b[0m\u001b[0m\n",
      "\u001b[0;32m~/anaconda3/lib/python3.7/site-packages/pandas/core/ops/__init__.py\u001b[0m in \u001b[0;36mwrapper\u001b[0;34m(self, other)\u001b[0m\n\u001b[1;32m    527\u001b[0m         \u001b[0mrvalues\u001b[0m \u001b[0;34m=\u001b[0m \u001b[0mextract_array\u001b[0m\u001b[0;34m(\u001b[0m\u001b[0mother\u001b[0m\u001b[0;34m,\u001b[0m \u001b[0mextract_numpy\u001b[0m\u001b[0;34m=\u001b[0m\u001b[0;32mTrue\u001b[0m\u001b[0;34m)\u001b[0m\u001b[0;34m\u001b[0m\u001b[0;34m\u001b[0m\u001b[0m\n\u001b[1;32m    528\u001b[0m \u001b[0;34m\u001b[0m\u001b[0m\n\u001b[0;32m--> 529\u001b[0;31m         \u001b[0mres_values\u001b[0m \u001b[0;34m=\u001b[0m \u001b[0mcomparison_op\u001b[0m\u001b[0;34m(\u001b[0m\u001b[0mlvalues\u001b[0m\u001b[0;34m,\u001b[0m \u001b[0mrvalues\u001b[0m\u001b[0;34m,\u001b[0m \u001b[0mop\u001b[0m\u001b[0;34m)\u001b[0m\u001b[0;34m\u001b[0m\u001b[0;34m\u001b[0m\u001b[0m\n\u001b[0m\u001b[1;32m    530\u001b[0m \u001b[0;34m\u001b[0m\u001b[0m\n\u001b[1;32m    531\u001b[0m         \u001b[0;32mreturn\u001b[0m \u001b[0m_construct_result\u001b[0m\u001b[0;34m(\u001b[0m\u001b[0mself\u001b[0m\u001b[0;34m,\u001b[0m \u001b[0mres_values\u001b[0m\u001b[0;34m,\u001b[0m \u001b[0mindex\u001b[0m\u001b[0;34m=\u001b[0m\u001b[0mself\u001b[0m\u001b[0;34m.\u001b[0m\u001b[0mindex\u001b[0m\u001b[0;34m,\u001b[0m \u001b[0mname\u001b[0m\u001b[0;34m=\u001b[0m\u001b[0mres_name\u001b[0m\u001b[0;34m)\u001b[0m\u001b[0;34m\u001b[0m\u001b[0;34m\u001b[0m\u001b[0m\n",
      "\u001b[0;32m~/anaconda3/lib/python3.7/site-packages/pandas/core/ops/array_ops.py\u001b[0m in \u001b[0;36mcomparison_op\u001b[0;34m(left, right, op)\u001b[0m\n\u001b[1;32m    235\u001b[0m \u001b[0;34m\u001b[0m\u001b[0m\n\u001b[1;32m    236\u001b[0m     \u001b[0;32mif\u001b[0m \u001b[0mshould_extension_dispatch\u001b[0m\u001b[0;34m(\u001b[0m\u001b[0mlvalues\u001b[0m\u001b[0;34m,\u001b[0m \u001b[0mrvalues\u001b[0m\u001b[0;34m)\u001b[0m\u001b[0;34m:\u001b[0m\u001b[0;34m\u001b[0m\u001b[0;34m\u001b[0m\u001b[0m\n\u001b[0;32m--> 237\u001b[0;31m         \u001b[0mres_values\u001b[0m \u001b[0;34m=\u001b[0m \u001b[0mdispatch_to_extension_op\u001b[0m\u001b[0;34m(\u001b[0m\u001b[0mop\u001b[0m\u001b[0;34m,\u001b[0m \u001b[0mlvalues\u001b[0m\u001b[0;34m,\u001b[0m \u001b[0mrvalues\u001b[0m\u001b[0;34m)\u001b[0m\u001b[0;34m\u001b[0m\u001b[0;34m\u001b[0m\u001b[0m\n\u001b[0m\u001b[1;32m    238\u001b[0m \u001b[0;34m\u001b[0m\u001b[0m\n\u001b[1;32m    239\u001b[0m     \u001b[0;32melif\u001b[0m \u001b[0mis_scalar\u001b[0m\u001b[0;34m(\u001b[0m\u001b[0mrvalues\u001b[0m\u001b[0;34m)\u001b[0m \u001b[0;32mand\u001b[0m \u001b[0misna\u001b[0m\u001b[0;34m(\u001b[0m\u001b[0mrvalues\u001b[0m\u001b[0;34m)\u001b[0m\u001b[0;34m:\u001b[0m\u001b[0;34m\u001b[0m\u001b[0;34m\u001b[0m\u001b[0m\n",
      "\u001b[0;32m~/anaconda3/lib/python3.7/site-packages/pandas/core/ops/dispatch.py\u001b[0m in \u001b[0;36mdispatch_to_extension_op\u001b[0;34m(op, left, right)\u001b[0m\n\u001b[1;32m    123\u001b[0m     \u001b[0;31m# The op calls will raise TypeError if the op is not defined\u001b[0m\u001b[0;34m\u001b[0m\u001b[0;34m\u001b[0m\u001b[0;34m\u001b[0m\u001b[0m\n\u001b[1;32m    124\u001b[0m     \u001b[0;31m# on the ExtensionArray\u001b[0m\u001b[0;34m\u001b[0m\u001b[0;34m\u001b[0m\u001b[0;34m\u001b[0m\u001b[0m\n\u001b[0;32m--> 125\u001b[0;31m     \u001b[0mres_values\u001b[0m \u001b[0;34m=\u001b[0m \u001b[0mop\u001b[0m\u001b[0;34m(\u001b[0m\u001b[0mleft\u001b[0m\u001b[0;34m,\u001b[0m \u001b[0mright\u001b[0m\u001b[0;34m)\u001b[0m\u001b[0;34m\u001b[0m\u001b[0;34m\u001b[0m\u001b[0m\n\u001b[0m\u001b[1;32m    126\u001b[0m     \u001b[0;32mreturn\u001b[0m \u001b[0mres_values\u001b[0m\u001b[0;34m\u001b[0m\u001b[0;34m\u001b[0m\u001b[0m\n",
      "\u001b[0;32m~/anaconda3/lib/python3.7/site-packages/pandas/core/ops/common.py\u001b[0m in \u001b[0;36mnew_method\u001b[0;34m(self, other)\u001b[0m\n\u001b[1;32m     62\u001b[0m         \u001b[0mother\u001b[0m \u001b[0;34m=\u001b[0m \u001b[0mitem_from_zerodim\u001b[0m\u001b[0;34m(\u001b[0m\u001b[0mother\u001b[0m\u001b[0;34m)\u001b[0m\u001b[0;34m\u001b[0m\u001b[0;34m\u001b[0m\u001b[0m\n\u001b[1;32m     63\u001b[0m \u001b[0;34m\u001b[0m\u001b[0m\n\u001b[0;32m---> 64\u001b[0;31m         \u001b[0;32mreturn\u001b[0m \u001b[0mmethod\u001b[0m\u001b[0;34m(\u001b[0m\u001b[0mself\u001b[0m\u001b[0;34m,\u001b[0m \u001b[0mother\u001b[0m\u001b[0;34m)\u001b[0m\u001b[0;34m\u001b[0m\u001b[0;34m\u001b[0m\u001b[0m\n\u001b[0m\u001b[1;32m     65\u001b[0m \u001b[0;34m\u001b[0m\u001b[0m\n\u001b[1;32m     66\u001b[0m     \u001b[0;32mreturn\u001b[0m \u001b[0mnew_method\u001b[0m\u001b[0;34m\u001b[0m\u001b[0;34m\u001b[0m\u001b[0m\n",
      "\u001b[0;32m~/anaconda3/lib/python3.7/site-packages/pandas/core/arrays/datetimelike.py\u001b[0m in \u001b[0;36mwrapper\u001b[0;34m(self, other)\u001b[0m\n\u001b[1;32m     81\u001b[0m \u001b[0;34m\u001b[0m\u001b[0m\n\u001b[1;32m     82\u001b[0m         \u001b[0;32melif\u001b[0m \u001b[0;32mnot\u001b[0m \u001b[0mis_list_like\u001b[0m\u001b[0;34m(\u001b[0m\u001b[0mother\u001b[0m\u001b[0;34m)\u001b[0m\u001b[0;34m:\u001b[0m\u001b[0;34m\u001b[0m\u001b[0;34m\u001b[0m\u001b[0m\n\u001b[0;32m---> 83\u001b[0;31m             \u001b[0;32mreturn\u001b[0m \u001b[0minvalid_comparison\u001b[0m\u001b[0;34m(\u001b[0m\u001b[0mself\u001b[0m\u001b[0;34m,\u001b[0m \u001b[0mother\u001b[0m\u001b[0;34m,\u001b[0m \u001b[0mop\u001b[0m\u001b[0;34m)\u001b[0m\u001b[0;34m\u001b[0m\u001b[0;34m\u001b[0m\u001b[0m\n\u001b[0m\u001b[1;32m     84\u001b[0m \u001b[0;34m\u001b[0m\u001b[0m\n\u001b[1;32m     85\u001b[0m         \u001b[0;32melif\u001b[0m \u001b[0mlen\u001b[0m\u001b[0;34m(\u001b[0m\u001b[0mother\u001b[0m\u001b[0;34m)\u001b[0m \u001b[0;34m!=\u001b[0m \u001b[0mlen\u001b[0m\u001b[0;34m(\u001b[0m\u001b[0mself\u001b[0m\u001b[0;34m)\u001b[0m\u001b[0;34m:\u001b[0m\u001b[0;34m\u001b[0m\u001b[0;34m\u001b[0m\u001b[0m\n",
      "\u001b[0;32m~/anaconda3/lib/python3.7/site-packages/pandas/core/ops/invalid.py\u001b[0m in \u001b[0;36minvalid_comparison\u001b[0;34m(left, right, op)\u001b[0m\n\u001b[1;32m     32\u001b[0m     \u001b[0;32melse\u001b[0m\u001b[0;34m:\u001b[0m\u001b[0;34m\u001b[0m\u001b[0;34m\u001b[0m\u001b[0m\n\u001b[1;32m     33\u001b[0m         \u001b[0mtyp\u001b[0m \u001b[0;34m=\u001b[0m \u001b[0mtype\u001b[0m\u001b[0;34m(\u001b[0m\u001b[0mright\u001b[0m\u001b[0;34m)\u001b[0m\u001b[0;34m.\u001b[0m\u001b[0m__name__\u001b[0m\u001b[0;34m\u001b[0m\u001b[0;34m\u001b[0m\u001b[0m\n\u001b[0;32m---> 34\u001b[0;31m         \u001b[0;32mraise\u001b[0m \u001b[0mTypeError\u001b[0m\u001b[0;34m(\u001b[0m\u001b[0;34mf\"Invalid comparison between dtype={left.dtype} and {typ}\"\u001b[0m\u001b[0;34m)\u001b[0m\u001b[0;34m\u001b[0m\u001b[0;34m\u001b[0m\u001b[0m\n\u001b[0m\u001b[1;32m     35\u001b[0m     \u001b[0;32mreturn\u001b[0m \u001b[0mres_values\u001b[0m\u001b[0;34m\u001b[0m\u001b[0;34m\u001b[0m\u001b[0m\n\u001b[1;32m     36\u001b[0m \u001b[0;34m\u001b[0m\u001b[0m\n",
      "\u001b[0;31mTypeError\u001b[0m: Invalid comparison between dtype=timedelta64[ns] and int"
     ]
    }
   ],
   "source": [
    "df_data_filtered[df_data_filtered['difference']<0]"
   ]
  },
  {
   "cell_type": "code",
   "execution_count": 31,
   "metadata": {},
   "outputs": [
    {
     "data": {
      "text/plain": [
       "0      2020-02-27\n",
       "1      2020-02-28\n",
       "2      2020-02-29\n",
       "3      2020-02-29\n",
       "4      2020-01-03\n",
       "          ...    \n",
       "6227   2020-04-15\n",
       "6228   2020-04-15\n",
       "6229   2020-04-15\n",
       "6230   2020-04-15\n",
       "6231   2020-04-15\n",
       "Name: Date_Confirmed, Length: 5238, dtype: datetime64[ns]"
      ]
     },
<<<<<<< HEAD
     "execution_count": 18,
=======
     "execution_count": 31,
>>>>>>> 47fb31e7e39c3566ef0bb4ee2dce898add7464eb
     "metadata": {},
     "output_type": "execute_result"
    }
   ],
   "source": [
    "df_data_filtereddf_data_filtered['Date_Confirmed']df_data_filtered"
   ]
  },
  {
   "cell_type": "code",
   "execution_count": null,
   "metadata": {},
   "outputs": [],
   "source": []
  }
 ],
 "metadata": {
  "kernelspec": {
   "display_name": "Python 3",
   "language": "python",
   "name": "python3"
  },
  "language_info": {
   "codemirror_mode": {
    "name": "ipython",
    "version": 3
   },
   "file_extension": ".py",
   "mimetype": "text/x-python",
   "name": "python",
   "nbconvert_exporter": "python",
   "pygments_lexer": "ipython3",
   "version": "3.7.3"
  }
 },
 "nbformat": 4,
 "nbformat_minor": 4
}
