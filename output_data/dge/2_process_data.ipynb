{
 "cells": [
  {
   "cell_type": "code",
   "execution_count": 1,
   "metadata": {},
   "outputs": [],
   "source": [
    "import pandas as pd\n",
    "import janitor"
   ]
  },
  {
   "cell_type": "code",
   "execution_count": 2,
   "metadata": {},
   "outputs": [],
   "source": [
    "# Group and keep columns with 'as_index'\n",
    "# https://stackoverflow.com/questions/31569549/how-to-groupby-a-dataframe-in-pandas-and-keep-columns"
   ]
  },
  {
   "cell_type": "code",
   "execution_count": 3,
   "metadata": {},
   "outputs": [],
   "source": [
    "data = pd.read_csv('filter.csv')"
   ]
  },
  {
   "cell_type": "code",
   "execution_count": 4,
   "metadata": {},
   "outputs": [
    {
     "name": "stdout",
     "output_type": "stream",
     "text": [
      "False\n"
     ]
    }
   ],
   "source": [
    "print(data.set_index(['ID_REGISTRO']).index.is_unique) # ids are not unique... it's unclear how reports are aggregated"
   ]
  },
  {
   "cell_type": "code",
   "execution_count": 5,
   "metadata": {},
   "outputs": [],
   "source": [
    "data['FECHA_INGRESO'] = pd.to_datetime(data.FECHA_INGRESO, format='%Y-%m-%d', errors='coerce')\n",
    "data['FECHA_INGRESO'] = data['FECHA_INGRESO'].dt.strftime('%Y-%m-%d')\n",
    "data = data.set_index(pd.DatetimeIndex(data['FECHA_INGRESO'])).sort_index()"
   ]
  },
  {
   "cell_type": "markdown",
   "metadata": {},
   "source": [
    "### Note\n",
    "~~Daily report for april 20 (ie, reported in 21 april) stops using testing site,~~\n",
    "<br>\n",
    "~~So we shall treat both sets of data accordingly~~"
   ]
  },
  {
   "cell_type": "code",
   "execution_count": 28,
   "metadata": {},
   "outputs": [],
   "source": [
    "tbl1 = data.filter_date('FECHA_INGRESO','2020-01-06','2020-04-25')\n",
    "tbl1 = tbl1.drop(['ENTIDAD_RES'], axis=1) # drop by region\n",
    "tbl1 = tbl1.set_index([\n",
    "    'FECHA_INGRESO',\n",
    "    'FECHA_SINTOMAS',\n",
    "    'FECHA_DEF',\n",
    "    'ENTIDAD_UM',\n",
    "    'ID_REGISTRO',\n",
    "])"
   ]
  },
  {
   "cell_type": "code",
   "execution_count": 29,
   "metadata": {},
   "outputs": [],
   "source": [
    "# Health testing site (positive) cases by date\n",
    "tbl1 = tbl1.groupby([\n",
    "    'FECHA_INGRESO',\n",
    "    'FECHA_SINTOMAS',\n",
    "    'FECHA_DEF',\n",
    "    'ENTIDAD_UM',\n",
    "    'ID_REGISTRO',\n",
    "], as_index=True).count().reset_index()"
   ]
  },
  {
   "cell_type": "code",
   "execution_count": 30,
   "metadata": {},
   "outputs": [
    {
     "data": {
      "text/html": [
       "<div>\n",
       "<style scoped>\n",
       "    .dataframe tbody tr th:only-of-type {\n",
       "        vertical-align: middle;\n",
       "    }\n",
       "\n",
       "    .dataframe tbody tr th {\n",
       "        vertical-align: top;\n",
       "    }\n",
       "\n",
       "    .dataframe thead th {\n",
       "        text-align: right;\n",
       "    }\n",
       "</style>\n",
       "<table border=\"1\" class=\"dataframe\">\n",
       "  <thead>\n",
       "    <tr style=\"text-align: right;\">\n",
       "      <th></th>\n",
       "      <th>FECHA_INGRESO</th>\n",
       "      <th>FECHA_SINTOMAS</th>\n",
       "      <th>FECHA_DEF</th>\n",
       "      <th>ENTIDAD_UM</th>\n",
       "      <th>ID_REGISTRO</th>\n",
       "      <th>RESULTADO</th>\n",
       "    </tr>\n",
       "  </thead>\n",
       "  <tbody>\n",
       "    <tr>\n",
       "      <td>0</td>\n",
       "      <td>2020-01-06</td>\n",
       "      <td>2020-01-06</td>\n",
       "      <td>9999-99-99</td>\n",
       "      <td>18</td>\n",
       "      <td>09f6d9</td>\n",
       "      <td>6</td>\n",
       "    </tr>\n",
       "    <tr>\n",
       "      <td>1</td>\n",
       "      <td>2020-01-08</td>\n",
       "      <td>2020-01-08</td>\n",
       "      <td>9999-99-99</td>\n",
       "      <td>30</td>\n",
       "      <td>1c29f8</td>\n",
       "      <td>5</td>\n",
       "    </tr>\n",
       "    <tr>\n",
       "      <td>2</td>\n",
       "      <td>2020-01-27</td>\n",
       "      <td>2020-01-27</td>\n",
       "      <td>9999-99-99</td>\n",
       "      <td>15</td>\n",
       "      <td>1879e0</td>\n",
       "      <td>1</td>\n",
       "    </tr>\n",
       "    <tr>\n",
       "      <td>3</td>\n",
       "      <td>2020-02-07</td>\n",
       "      <td>2020-02-07</td>\n",
       "      <td>9999-99-99</td>\n",
       "      <td>11</td>\n",
       "      <td>03e780</td>\n",
       "      <td>3</td>\n",
       "    </tr>\n",
       "    <tr>\n",
       "      <td>4</td>\n",
       "      <td>2020-02-12</td>\n",
       "      <td>2020-02-07</td>\n",
       "      <td>9999-99-99</td>\n",
       "      <td>2</td>\n",
       "      <td>07b5c5</td>\n",
       "      <td>6</td>\n",
       "    </tr>\n",
       "    <tr>\n",
       "      <td>...</td>\n",
       "      <td>...</td>\n",
       "      <td>...</td>\n",
       "      <td>...</td>\n",
       "      <td>...</td>\n",
       "      <td>...</td>\n",
       "      <td>...</td>\n",
       "    </tr>\n",
       "    <tr>\n",
       "      <td>14745</td>\n",
       "      <td>2020-04-24</td>\n",
       "      <td>2020-04-23</td>\n",
       "      <td>9999-99-99</td>\n",
       "      <td>5</td>\n",
       "      <td>140deb</td>\n",
       "      <td>1</td>\n",
       "    </tr>\n",
       "    <tr>\n",
       "      <td>14746</td>\n",
       "      <td>2020-04-24</td>\n",
       "      <td>2020-04-23</td>\n",
       "      <td>9999-99-99</td>\n",
       "      <td>19</td>\n",
       "      <td>0e0ca6</td>\n",
       "      <td>1</td>\n",
       "    </tr>\n",
       "    <tr>\n",
       "      <td>14747</td>\n",
       "      <td>2020-04-24</td>\n",
       "      <td>2020-04-23</td>\n",
       "      <td>9999-99-99</td>\n",
       "      <td>27</td>\n",
       "      <td>08a84b</td>\n",
       "      <td>1</td>\n",
       "    </tr>\n",
       "    <tr>\n",
       "      <td>14748</td>\n",
       "      <td>2020-04-24</td>\n",
       "      <td>2020-04-23</td>\n",
       "      <td>9999-99-99</td>\n",
       "      <td>29</td>\n",
       "      <td>1a0b7e</td>\n",
       "      <td>1</td>\n",
       "    </tr>\n",
       "    <tr>\n",
       "      <td>14749</td>\n",
       "      <td>2020-04-24</td>\n",
       "      <td>2020-04-24</td>\n",
       "      <td>9999-99-99</td>\n",
       "      <td>14</td>\n",
       "      <td>0aa7be</td>\n",
       "      <td>1</td>\n",
       "    </tr>\n",
       "  </tbody>\n",
       "</table>\n",
       "<p>14750 rows × 6 columns</p>\n",
       "</div>"
      ],
      "text/plain": [
       "      FECHA_INGRESO FECHA_SINTOMAS   FECHA_DEF  ENTIDAD_UM ID_REGISTRO  \\\n",
       "0        2020-01-06     2020-01-06  9999-99-99          18      09f6d9   \n",
       "1        2020-01-08     2020-01-08  9999-99-99          30      1c29f8   \n",
       "2        2020-01-27     2020-01-27  9999-99-99          15      1879e0   \n",
       "3        2020-02-07     2020-02-07  9999-99-99          11      03e780   \n",
       "4        2020-02-12     2020-02-07  9999-99-99           2      07b5c5   \n",
       "...             ...            ...         ...         ...         ...   \n",
       "14745    2020-04-24     2020-04-23  9999-99-99           5      140deb   \n",
       "14746    2020-04-24     2020-04-23  9999-99-99          19      0e0ca6   \n",
       "14747    2020-04-24     2020-04-23  9999-99-99          27      08a84b   \n",
       "14748    2020-04-24     2020-04-23  9999-99-99          29      1a0b7e   \n",
       "14749    2020-04-24     2020-04-24  9999-99-99          14      0aa7be   \n",
       "\n",
       "       RESULTADO  \n",
       "0              6  \n",
       "1              5  \n",
       "2              1  \n",
       "3              3  \n",
       "4              6  \n",
       "...          ...  \n",
       "14745          1  \n",
       "14746          1  \n",
       "14747          1  \n",
       "14748          1  \n",
       "14749          1  \n",
       "\n",
       "[14750 rows x 6 columns]"
      ]
     },
     "execution_count": 30,
     "metadata": {},
     "output_type": "execute_result"
    }
   ],
   "source": [
    "tbl1"
   ]
  },
  {
   "cell_type": "code",
   "execution_count": 31,
   "metadata": {},
   "outputs": [
    {
     "data": {
      "text/html": [
       "<div>\n",
       "<style scoped>\n",
       "    .dataframe tbody tr th:only-of-type {\n",
       "        vertical-align: middle;\n",
       "    }\n",
       "\n",
       "    .dataframe tbody tr th {\n",
       "        vertical-align: top;\n",
       "    }\n",
       "\n",
       "    .dataframe thead th {\n",
       "        text-align: right;\n",
       "    }\n",
       "</style>\n",
       "<table border=\"1\" class=\"dataframe\">\n",
       "  <thead>\n",
       "    <tr style=\"text-align: right;\">\n",
       "      <th></th>\n",
       "      <th>FECHA_INGRESO</th>\n",
       "      <th>Region_ID</th>\n",
       "      <th>ID_REGISTRO</th>\n",
       "      <th>FECHA_DEF</th>\n",
       "      <th>RESULTADO</th>\n",
       "    </tr>\n",
       "  </thead>\n",
       "  <tbody>\n",
       "    <tr>\n",
       "      <td>0</td>\n",
       "      <td>2020-04-21</td>\n",
       "      <td>1</td>\n",
       "      <td>02de72</td>\n",
       "      <td>2</td>\n",
       "      <td>2</td>\n",
       "    </tr>\n",
       "    <tr>\n",
       "      <td>1</td>\n",
       "      <td>2020-04-21</td>\n",
       "      <td>1</td>\n",
       "      <td>02f180</td>\n",
       "      <td>2</td>\n",
       "      <td>2</td>\n",
       "    </tr>\n",
       "    <tr>\n",
       "      <td>2</td>\n",
       "      <td>2020-04-21</td>\n",
       "      <td>1</td>\n",
       "      <td>0c19cb</td>\n",
       "      <td>2</td>\n",
       "      <td>2</td>\n",
       "    </tr>\n",
       "    <tr>\n",
       "      <td>3</td>\n",
       "      <td>2020-04-21</td>\n",
       "      <td>1</td>\n",
       "      <td>0d5997</td>\n",
       "      <td>2</td>\n",
       "      <td>2</td>\n",
       "    </tr>\n",
       "    <tr>\n",
       "      <td>4</td>\n",
       "      <td>2020-04-21</td>\n",
       "      <td>1</td>\n",
       "      <td>0db7a7</td>\n",
       "      <td>2</td>\n",
       "      <td>2</td>\n",
       "    </tr>\n",
       "    <tr>\n",
       "      <td>...</td>\n",
       "      <td>...</td>\n",
       "      <td>...</td>\n",
       "      <td>...</td>\n",
       "      <td>...</td>\n",
       "      <td>...</td>\n",
       "    </tr>\n",
       "    <tr>\n",
       "      <td>1587</td>\n",
       "      <td>2020-04-24</td>\n",
       "      <td>27</td>\n",
       "      <td>1add7e</td>\n",
       "      <td>1</td>\n",
       "      <td>1</td>\n",
       "    </tr>\n",
       "    <tr>\n",
       "      <td>1588</td>\n",
       "      <td>2020-04-24</td>\n",
       "      <td>29</td>\n",
       "      <td>06a593</td>\n",
       "      <td>1</td>\n",
       "      <td>1</td>\n",
       "    </tr>\n",
       "    <tr>\n",
       "      <td>1589</td>\n",
       "      <td>2020-04-24</td>\n",
       "      <td>29</td>\n",
       "      <td>06b382</td>\n",
       "      <td>1</td>\n",
       "      <td>1</td>\n",
       "    </tr>\n",
       "    <tr>\n",
       "      <td>1590</td>\n",
       "      <td>2020-04-24</td>\n",
       "      <td>29</td>\n",
       "      <td>09d6b7</td>\n",
       "      <td>1</td>\n",
       "      <td>1</td>\n",
       "    </tr>\n",
       "    <tr>\n",
       "      <td>1591</td>\n",
       "      <td>2020-04-24</td>\n",
       "      <td>29</td>\n",
       "      <td>1a0b7e</td>\n",
       "      <td>1</td>\n",
       "      <td>1</td>\n",
       "    </tr>\n",
       "  </tbody>\n",
       "</table>\n",
       "<p>1592 rows × 5 columns</p>\n",
       "</div>"
      ],
      "text/plain": [
       "     FECHA_INGRESO  Region_ID ID_REGISTRO  FECHA_DEF  RESULTADO\n",
       "0       2020-04-21          1      02de72          2          2\n",
       "1       2020-04-21          1      02f180          2          2\n",
       "2       2020-04-21          1      0c19cb          2          2\n",
       "3       2020-04-21          1      0d5997          2          2\n",
       "4       2020-04-21          1      0db7a7          2          2\n",
       "...            ...        ...         ...        ...        ...\n",
       "1587    2020-04-24         27      1add7e          1          1\n",
       "1588    2020-04-24         29      06a593          1          1\n",
       "1589    2020-04-24         29      06b382          1          1\n",
       "1590    2020-04-24         29      09d6b7          1          1\n",
       "1591    2020-04-24         29      1a0b7e          1          1\n",
       "\n",
       "[1592 rows x 5 columns]"
      ]
     },
     "execution_count": 31,
     "metadata": {},
     "output_type": "execute_result"
    }
   ],
   "source": [
    "tbl2"
   ]
  },
  {
   "cell_type": "code",
   "execution_count": 32,
   "metadata": {},
   "outputs": [],
   "source": [
    "tbl2 = data.filter_date('FECHA_INGRESO','2020-04-21','2020-04-25')\n",
    "tbl2 = tbl2.drop(['ENTIDAD_RES'], axis=1) # drop by medical unit\n",
    "tbl2 = tbl2.set_index([\n",
    "    'FECHA_INGRESO',\n",
    "    'FECHA_SINTOMAS',\n",
    "    'ENTIDAD_UM',\n",
    "    'ID_REGISTRO',\n",
    "])"
   ]
  },
  {
   "cell_type": "code",
   "execution_count": 33,
   "metadata": {},
   "outputs": [],
   "source": [
    "# Residence cases (positive) by date\n",
    "tbl2 = tbl2.groupby(['FECHA_INGRESO','ENTIDAD_UM','ID_REGISTRO'], as_index=True).count().reset_index()"
   ]
  },
  {
   "cell_type": "code",
   "execution_count": 34,
   "metadata": {},
   "outputs": [],
   "source": [
    "# Join tables"
   ]
  },
  {
   "cell_type": "code",
   "execution_count": 35,
   "metadata": {},
   "outputs": [],
   "source": [
    "tbl1 = tbl1.rename(columns={'ENTIDAD_UM':'Region_ID'})"
   ]
  },
  {
   "cell_type": "code",
   "execution_count": 36,
   "metadata": {},
   "outputs": [],
   "source": [
    "tbl2 = tbl2.rename(columns={'ENTIDAD_UM':'Region_ID'})"
   ]
  },
  {
   "cell_type": "code",
   "execution_count": 37,
   "metadata": {},
   "outputs": [
    {
     "name": "stderr",
     "output_type": "stream",
     "text": [
      "/opt/anaconda3/lib/python3.7/site-packages/ipykernel_launcher.py:1: FutureWarning: Sorting because non-concatenation axis is not aligned. A future version\n",
      "of pandas will change to not sort by default.\n",
      "\n",
      "To accept the future behavior, pass 'sort=False'.\n",
      "\n",
      "To retain the current behavior and silence the warning, pass 'sort=True'.\n",
      "\n",
      "  \"\"\"Entry point for launching an IPython kernel.\n"
     ]
    }
   ],
   "source": [
    "tbl_join = pd.concat([tbl1, tbl2])"
   ]
  },
  {
   "cell_type": "code",
   "execution_count": 38,
   "metadata": {},
   "outputs": [],
   "source": [
    "# Friendly colnames"
   ]
  },
  {
   "cell_type": "code",
   "execution_count": 39,
   "metadata": {},
   "outputs": [
    {
     "data": {
      "text/plain": [
       "Index(['ID_REGISTRO', 'ENTIDAD_UM', 'ENTIDAD_RES', 'FECHA_INGRESO',\n",
       "       'FECHA_SINTOMAS', 'FECHA_DEF', 'RESULTADO'],\n",
       "      dtype='object')"
      ]
     },
     "execution_count": 39,
     "metadata": {},
     "output_type": "execute_result"
    }
   ],
   "source": [
    "data.keys()"
   ]
  },
  {
   "cell_type": "code",
   "execution_count": 40,
   "metadata": {},
   "outputs": [],
   "source": [
    "tbl_join = tbl_join.rename(columns={'FECHA_INGRESO':'Date_Confirmed', 'ID_REGISTRO':'Case_ID', 'RESULTADO':'Status'})"
   ]
  },
  {
   "cell_type": "code",
   "execution_count": 41,
   "metadata": {},
   "outputs": [
    {
     "data": {
      "text/plain": [
       "16342"
      ]
     },
     "execution_count": 41,
     "metadata": {},
     "output_type": "execute_result"
    }
   ],
   "source": [
    "len(tbl_join) # Total cases would have been less if we didn't take into account the change in test reporting :o"
   ]
  },
  {
   "cell_type": "code",
   "execution_count": 42,
   "metadata": {},
   "outputs": [],
   "source": [
    "tbl_join['Status'] = '1'"
   ]
  },
  {
   "cell_type": "code",
   "execution_count": null,
   "metadata": {},
   "outputs": [],
   "source": [
    "# ^^^ fix above"
   ]
  },
  {
   "cell_type": "code",
   "execution_count": null,
   "metadata": {},
   "outputs": [],
   "source": []
  },
  {
   "cell_type": "code",
   "execution_count": null,
   "metadata": {},
   "outputs": [],
   "source": []
  },
  {
   "cell_type": "code",
   "execution_count": null,
   "metadata": {},
   "outputs": [],
   "source": []
  },
  {
   "cell_type": "code",
   "execution_count": 43,
   "metadata": {},
   "outputs": [],
   "source": [
    "tbl1.to_csv('confirmed_by_date.csv', index=False)"
   ]
  },
  {
   "cell_type": "code",
   "execution_count": 44,
   "metadata": {},
   "outputs": [
    {
     "data": {
      "text/html": [
       "<div>\n",
       "<style scoped>\n",
       "    .dataframe tbody tr th:only-of-type {\n",
       "        vertical-align: middle;\n",
       "    }\n",
       "\n",
       "    .dataframe tbody tr th {\n",
       "        vertical-align: top;\n",
       "    }\n",
       "\n",
       "    .dataframe thead th {\n",
       "        text-align: right;\n",
       "    }\n",
       "</style>\n",
       "<table border=\"1\" class=\"dataframe\">\n",
       "  <thead>\n",
       "    <tr style=\"text-align: right;\">\n",
       "      <th></th>\n",
       "      <th>FECHA_INGRESO</th>\n",
       "      <th>FECHA_SINTOMAS</th>\n",
       "      <th>FECHA_DEF</th>\n",
       "      <th>Region_ID</th>\n",
       "      <th>ID_REGISTRO</th>\n",
       "      <th>RESULTADO</th>\n",
       "    </tr>\n",
       "  </thead>\n",
       "  <tbody>\n",
       "    <tr>\n",
       "      <td>0</td>\n",
       "      <td>2020-01-06</td>\n",
       "      <td>2020-01-06</td>\n",
       "      <td>9999-99-99</td>\n",
       "      <td>18</td>\n",
       "      <td>09f6d9</td>\n",
       "      <td>6</td>\n",
       "    </tr>\n",
       "    <tr>\n",
       "      <td>1</td>\n",
       "      <td>2020-01-08</td>\n",
       "      <td>2020-01-08</td>\n",
       "      <td>9999-99-99</td>\n",
       "      <td>30</td>\n",
       "      <td>1c29f8</td>\n",
       "      <td>5</td>\n",
       "    </tr>\n",
       "    <tr>\n",
       "      <td>2</td>\n",
       "      <td>2020-01-27</td>\n",
       "      <td>2020-01-27</td>\n",
       "      <td>9999-99-99</td>\n",
       "      <td>15</td>\n",
       "      <td>1879e0</td>\n",
       "      <td>1</td>\n",
       "    </tr>\n",
       "    <tr>\n",
       "      <td>3</td>\n",
       "      <td>2020-02-07</td>\n",
       "      <td>2020-02-07</td>\n",
       "      <td>9999-99-99</td>\n",
       "      <td>11</td>\n",
       "      <td>03e780</td>\n",
       "      <td>3</td>\n",
       "    </tr>\n",
       "    <tr>\n",
       "      <td>4</td>\n",
       "      <td>2020-02-12</td>\n",
       "      <td>2020-02-07</td>\n",
       "      <td>9999-99-99</td>\n",
       "      <td>2</td>\n",
       "      <td>07b5c5</td>\n",
       "      <td>6</td>\n",
       "    </tr>\n",
       "    <tr>\n",
       "      <td>...</td>\n",
       "      <td>...</td>\n",
       "      <td>...</td>\n",
       "      <td>...</td>\n",
       "      <td>...</td>\n",
       "      <td>...</td>\n",
       "      <td>...</td>\n",
       "    </tr>\n",
       "    <tr>\n",
       "      <td>14745</td>\n",
       "      <td>2020-04-24</td>\n",
       "      <td>2020-04-23</td>\n",
       "      <td>9999-99-99</td>\n",
       "      <td>5</td>\n",
       "      <td>140deb</td>\n",
       "      <td>1</td>\n",
       "    </tr>\n",
       "    <tr>\n",
       "      <td>14746</td>\n",
       "      <td>2020-04-24</td>\n",
       "      <td>2020-04-23</td>\n",
       "      <td>9999-99-99</td>\n",
       "      <td>19</td>\n",
       "      <td>0e0ca6</td>\n",
       "      <td>1</td>\n",
       "    </tr>\n",
       "    <tr>\n",
       "      <td>14747</td>\n",
       "      <td>2020-04-24</td>\n",
       "      <td>2020-04-23</td>\n",
       "      <td>9999-99-99</td>\n",
       "      <td>27</td>\n",
       "      <td>08a84b</td>\n",
       "      <td>1</td>\n",
       "    </tr>\n",
       "    <tr>\n",
       "      <td>14748</td>\n",
       "      <td>2020-04-24</td>\n",
       "      <td>2020-04-23</td>\n",
       "      <td>9999-99-99</td>\n",
       "      <td>29</td>\n",
       "      <td>1a0b7e</td>\n",
       "      <td>1</td>\n",
       "    </tr>\n",
       "    <tr>\n",
       "      <td>14749</td>\n",
       "      <td>2020-04-24</td>\n",
       "      <td>2020-04-24</td>\n",
       "      <td>9999-99-99</td>\n",
       "      <td>14</td>\n",
       "      <td>0aa7be</td>\n",
       "      <td>1</td>\n",
       "    </tr>\n",
       "  </tbody>\n",
       "</table>\n",
       "<p>14750 rows × 6 columns</p>\n",
       "</div>"
      ],
      "text/plain": [
       "      FECHA_INGRESO FECHA_SINTOMAS   FECHA_DEF  Region_ID ID_REGISTRO  \\\n",
       "0        2020-01-06     2020-01-06  9999-99-99         18      09f6d9   \n",
       "1        2020-01-08     2020-01-08  9999-99-99         30      1c29f8   \n",
       "2        2020-01-27     2020-01-27  9999-99-99         15      1879e0   \n",
       "3        2020-02-07     2020-02-07  9999-99-99         11      03e780   \n",
       "4        2020-02-12     2020-02-07  9999-99-99          2      07b5c5   \n",
       "...             ...            ...         ...        ...         ...   \n",
       "14745    2020-04-24     2020-04-23  9999-99-99          5      140deb   \n",
       "14746    2020-04-24     2020-04-23  9999-99-99         19      0e0ca6   \n",
       "14747    2020-04-24     2020-04-23  9999-99-99         27      08a84b   \n",
       "14748    2020-04-24     2020-04-23  9999-99-99         29      1a0b7e   \n",
       "14749    2020-04-24     2020-04-24  9999-99-99         14      0aa7be   \n",
       "\n",
       "       RESULTADO  \n",
       "0              6  \n",
       "1              5  \n",
       "2              1  \n",
       "3              3  \n",
       "4              6  \n",
       "...          ...  \n",
       "14745          1  \n",
       "14746          1  \n",
       "14747          1  \n",
       "14748          1  \n",
       "14749          1  \n",
       "\n",
       "[14750 rows x 6 columns]"
      ]
     },
     "execution_count": 44,
     "metadata": {},
     "output_type": "execute_result"
    }
   ],
   "source": [
    "tbl1"
   ]
  },
  {
   "cell_type": "code",
   "execution_count": null,
   "metadata": {},
   "outputs": [],
   "source": []
  }
 ],
 "metadata": {
  "kernelspec": {
   "display_name": "Python 3",
   "language": "python",
   "name": "python3"
  },
  "language_info": {
   "codemirror_mode": {
    "name": "ipython",
    "version": 3
   },
   "file_extension": ".py",
   "mimetype": "text/x-python",
   "name": "python",
   "nbconvert_exporter": "python",
   "pygments_lexer": "ipython3",
   "version": "3.7.4"
  }
 },
 "nbformat": 4,
 "nbformat_minor": 4
}
