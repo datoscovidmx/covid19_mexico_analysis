{
 "cells": [
  {
   "cell_type": "code",
   "execution_count": null,
   "metadata": {},
   "outputs": [],
   "source": [
    "library(\"lubridate\")\n",
    "library(\"tidyverse\")"
   ]
  },
  {
   "cell_type": "code",
   "execution_count": 4,
   "metadata": {},
   "outputs": [],
   "source": [
    "Mex <- read.csv(\"https://raw.githubusercontent.com/marianarf/covid19_mexico_analysis/master/output_data/covid_mex_20200410.csv\")\n",
    "Mex$Date_Confirmed <- dmy(as.character(Mex$Date_Confirmed))\n",
    "Mex$Date_Symptoms <- dmy(as.character(Mex$Date_Symptoms))\n",
    "Mex$Date_Arrival <- dmy(as.character(Mex$Date_Arrival))\n",
    "Mex$Origin <- if_else(Mex$Origin==\"Contacto\",\"local\",\"imported\")\n",
    "Mex$Origin <- as.factor(Mex$Origin)"
   ]
  },
  {
   "cell_type": "code",
   "execution_count": 18,
   "metadata": {},
   "outputs": [],
   "source": [
    "Mex_Clean_arriba50 <- Mex %>% \n",
    "  dplyr::select(c(Region,Date_Symptoms,Origin)) %>% \n",
    "  group_by(Region,Date_Symptoms,Origin) %>% \n",
    "  summarise(casos = n()) %>% \n",
    "  ungroup() %>% \n",
    "  group_by(Region,Origin) %>% \n",
    "  mutate(acumulado = cumsum(casos))%>% \n",
    "  ungroup() %>% \n",
    "  group_by(Region) %>% \n",
    "  mutate(max = sum(casos)) %>% \n",
    "  filter(max > 50) %>% \n",
    "  dplyr::select(-c(max,casos)) %>% \n",
    "  ungroup() %>% \n",
    "  rename(Estado = Region, \n",
    "         dates = Date_Symptoms, \n",
    "         Origen = Origin, \n",
    "         Incidencia = acumulado)"
   ]
  },
  {
   "cell_type": "code",
   "execution_count": 21,
   "metadata": {},
   "outputs": [
    {
     "data": {
      "text/html": [
       "<table>\n",
       "<thead><tr><th scope=col>Estado</th><th scope=col>dates</th><th scope=col>Origen</th><th scope=col>Incidencia</th></tr></thead>\n",
       "<tbody>\n",
       "\t<tr><td>AGUASCALIENTES</td><td>2020-03-10    </td><td>imported      </td><td>2             </td></tr>\n",
       "\t<tr><td>AGUASCALIENTES</td><td>2020-03-12    </td><td>imported      </td><td>3             </td></tr>\n",
       "\t<tr><td>AGUASCALIENTES</td><td>2020-03-12    </td><td>local         </td><td>1             </td></tr>\n",
       "\t<tr><td>AGUASCALIENTES</td><td>2020-03-14    </td><td>imported      </td><td>4             </td></tr>\n",
       "\t<tr><td>AGUASCALIENTES</td><td>2020-03-15    </td><td>imported      </td><td>5             </td></tr>\n",
       "</tbody>\n",
       "</table>\n"
      ],
      "text/latex": [
       "\\begin{tabular}{r|llll}\n",
       " Estado & dates & Origen & Incidencia\\\\\n",
       "\\hline\n",
       "\t AGUASCALIENTES & 2020-03-10     & imported       & 2             \\\\\n",
       "\t AGUASCALIENTES & 2020-03-12     & imported       & 3             \\\\\n",
       "\t AGUASCALIENTES & 2020-03-12     & local          & 1             \\\\\n",
       "\t AGUASCALIENTES & 2020-03-14     & imported       & 4             \\\\\n",
       "\t AGUASCALIENTES & 2020-03-15     & imported       & 5             \\\\\n",
       "\\end{tabular}\n"
      ],
      "text/markdown": [
       "\n",
       "Estado | dates | Origen | Incidencia | \n",
       "|---|---|---|---|---|\n",
       "| AGUASCALIENTES | 2020-03-10     | imported       | 2              | \n",
       "| AGUASCALIENTES | 2020-03-12     | imported       | 3              | \n",
       "| AGUASCALIENTES | 2020-03-12     | local          | 1              | \n",
       "| AGUASCALIENTES | 2020-03-14     | imported       | 4              | \n",
       "| AGUASCALIENTES | 2020-03-15     | imported       | 5              | \n",
       "\n",
       "\n"
      ],
      "text/plain": [
       "  Estado         dates      Origen   Incidencia\n",
       "1 AGUASCALIENTES 2020-03-10 imported 2         \n",
       "2 AGUASCALIENTES 2020-03-12 imported 3         \n",
       "3 AGUASCALIENTES 2020-03-12 local    1         \n",
       "4 AGUASCALIENTES 2020-03-14 imported 4         \n",
       "5 AGUASCALIENTES 2020-03-15 imported 5         "
      ]
     },
     "metadata": {},
     "output_type": "display_data"
    }
   ],
   "source": [
    "head(Mex_Clean_arriba50, 5)"
   ]
  }
 ],
 "metadata": {
  "kernelspec": {
   "display_name": "R",
   "language": "R",
   "name": "ir"
  },
  "language_info": {
   "codemirror_mode": "r",
   "file_extension": ".r",
   "mimetype": "text/x-r-source",
   "name": "R",
   "pygments_lexer": "r",
   "version": "3.5.1"
  }
 },
 "nbformat": 4,
 "nbformat_minor": 4
}
