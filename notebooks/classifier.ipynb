{
 "cells": [
  {
   "cell_type": "markdown",
   "metadata": {},
   "source": [
    "# COVID-19 lab result prediction"
   ]
  },
  {
   "cell_type": "markdown",
   "metadata": {},
   "source": [
    "<p>This daset contains the results of real-time PCR testing for COVID-19 from the <a href=\"https://www.gob.mx/salud/documentos/datos-abiertos-152127\">General Directorate of Epidemiology</a> (more details <a href=\"https://datos.gob.mx/busca/dataset/informacion-referente-a-casos-covid-19-en-mexico/resource/e8c7079c-dc2a-4b6e-8035-08042ed37165\">here</a>).\n",
    "    \n",
    "<p>These units follow a centinel model that samples 10% of the patients that present a viral respiratory diagnosis to test for COVID-19, and consists of data reported by 475 viral respiratory disease monitoring units (hospitals) named USMER (<b>U</b>nidade<b>s</b> <b>M</b>onitoras de <b>E</b>nfermedad <b>R</b>espiratoria <b>V</b>iral) throughout the country in the entire health sector (IMSS, ISSSTE, SEDENA, SEMAR, and more).</p>\n",
    "\n",
    "<p>Preliminary data subject to validation by the Ministry of Health through the General Directorate of Epidemiology. The information contained corresponds only to the data obtained from the epidemiological study of a suspected case of viral respiratory disease at the time it is identified in the medical units of the Health Sector.</p>\n",
    "\n",
    "<p>According to the clinical diagnosis of admission, it is considered as an outpatient or hospitalized patient. The base does not include the evolution during the stay in the medical units, with the exception of updates to your discharge by the hospital epidemiological surveillance units or health jurisdictions in the case of deaths.</p>"
   ]
  },
  {
   "cell_type": "markdown",
   "metadata": {},
   "source": [
    "## 1. Data"
   ]
  },
  {
   "cell_type": "code",
   "execution_count": 53,
   "metadata": {},
   "outputs": [
    {
     "name": "stdout",
     "output_type": "stream",
     "text": [
      "\"id\",\"FECHA_ARCHIVO\",\"ID_REGISTRO\",\"ENTIDAD_UM\",\"ENTIDAD_RES\",\"RESULTADO\",\"DELAY\",\"ENTIDAD_REGISTRO\",\"ENTIDAD\",\"ABR_ENT\",\"FECHA_ACTUALIZACION\",\"ORIGEN\",\"SECTOR\",\"SEXO\",\"ENTIDAD_NAC\",\"MUNICIPIO_RES\",\"TIPO_PACIENTE\",\"FECHA_INGRESO\",\"FECHA_SINTOMAS\",\"FECHA_DEF\",\"INTUBADO\",\"NEUMONIA\",\"EDAD\",\"NACIONALIDAD\",\"EMBARAZO\",\"HABLA_LENGUA_INDIG\",\"DIABETES\",\"EPOC\",\"ASMA\",\"INMUSUPR\",\"HIPERTENSION\",\"OTRA_COM\",\"CARDIOVASCULAR\",\"OBESIDAD\",\"RENAL_CRONICA\",\"TABAQUISMO\",\"OTRO_CASO\",\"MIGRANTE\",\"PAIS_NACIONALIDAD\",\"PAIS_ORIGEN\",\"UCI\"\n",
      "9269,2020-04-12,\"00011f\",25,25,2,0,25,\"Sinaloa\",\"SL\",\"2020-04-19\",2,12,2,25,13,1,\"2020-03-20\",\"2020-03-12\",\"9999-99-99\",97,2,74,1,97,2,1,2,2,2,1,2,2,1,2,2,2,99,\"MÃ©xico\",\"97\",97\n",
      "33333,2020-04-12,\"00014e\",14,14,2,0,14,\"Jalisco\",\"JC\",\"2020-04-19\",1,4,1,16,98,2,\"2020-03-30\",\"2020-03-30\",\"9999-99-99\",2,2,71,1,2,2,1,1,2,2,1,2,2,1,2,1,99,99,\"MÃ©xico\",\"97\",2\n",
      "35483,2020-04-12,\"000153\",8,8,1,0,8,\"Chihuahua\",\"CH\",\"2020-04-19\",1,4,2,8,19,2,\"2020-04-02\",\"2020-03-24\",\"9999-99-99\",2,1,50,1,97,2,2,2,2,2,2,2,2,2,2,2,99,99,\"MÃ©xico\",\"97\",2\n",
      "7062,2020-04-12,\"0001b6\",9,15,1,0,9,\"Ciudad de Mexico\",\"DF\",\"2020-04-19\",2,4,1,15,33,1,\"2020-04-01\",\"2020-03-26\",\"9999-99-99\",97,2,25,1,2,2,2,2,2,2,2,2,2,1,2,2,99,99,\"MÃ©xico\",\"97\",97\n"
     ]
    }
   ],
   "source": [
    "# Print out the first 5 lines from the latest pre-processed report file\n",
    "!head -n 5 ../latest_raw.csv"
   ]
  },
  {
   "cell_type": "markdown",
   "metadata": {},
   "source": [
    "## 2. Inspecting the COVID-19 clinical data"
   ]
  },
  {
   "cell_type": "code",
   "execution_count": 51,
   "metadata": {},
   "outputs": [
    {
     "data": {
      "text/html": [
       "<div>\n",
       "<style scoped>\n",
       "    .dataframe tbody tr th:only-of-type {\n",
       "        vertical-align: middle;\n",
       "    }\n",
       "\n",
       "    .dataframe tbody tr th {\n",
       "        vertical-align: top;\n",
       "    }\n",
       "\n",
       "    .dataframe thead th {\n",
       "        text-align: right;\n",
       "    }\n",
       "</style>\n",
       "<table border=\"1\" class=\"dataframe\">\n",
       "  <thead>\n",
       "    <tr style=\"text-align: right;\">\n",
       "      <th></th>\n",
       "      <th>id</th>\n",
       "      <th>FECHA_ARCHIVO</th>\n",
       "      <th>ID_REGISTRO</th>\n",
       "      <th>ENTIDAD_UM</th>\n",
       "      <th>ENTIDAD_RES</th>\n",
       "      <th>RESULTADO</th>\n",
       "      <th>DELAY</th>\n",
       "      <th>ENTIDAD_REGISTRO</th>\n",
       "      <th>ENTIDAD</th>\n",
       "      <th>ABR_ENT</th>\n",
       "      <th>...</th>\n",
       "      <th>OTRA_COM</th>\n",
       "      <th>CARDIOVASCULAR</th>\n",
       "      <th>OBESIDAD</th>\n",
       "      <th>RENAL_CRONICA</th>\n",
       "      <th>TABAQUISMO</th>\n",
       "      <th>OTRO_CASO</th>\n",
       "      <th>MIGRANTE</th>\n",
       "      <th>PAIS_NACIONALIDAD</th>\n",
       "      <th>PAIS_ORIGEN</th>\n",
       "      <th>UCI</th>\n",
       "    </tr>\n",
       "  </thead>\n",
       "  <tbody>\n",
       "    <tr>\n",
       "      <td>0</td>\n",
       "      <td>9269</td>\n",
       "      <td>2020-04-12</td>\n",
       "      <td>00011f</td>\n",
       "      <td>25</td>\n",
       "      <td>25</td>\n",
       "      <td>2</td>\n",
       "      <td>0</td>\n",
       "      <td>25</td>\n",
       "      <td>Sinaloa</td>\n",
       "      <td>SL</td>\n",
       "      <td>...</td>\n",
       "      <td>2</td>\n",
       "      <td>2</td>\n",
       "      <td>1</td>\n",
       "      <td>2</td>\n",
       "      <td>2</td>\n",
       "      <td>2</td>\n",
       "      <td>99</td>\n",
       "      <td>MÃ©xico</td>\n",
       "      <td>97</td>\n",
       "      <td>97</td>\n",
       "    </tr>\n",
       "    <tr>\n",
       "      <td>1</td>\n",
       "      <td>33333</td>\n",
       "      <td>2020-04-12</td>\n",
       "      <td>00014e</td>\n",
       "      <td>14</td>\n",
       "      <td>14</td>\n",
       "      <td>2</td>\n",
       "      <td>0</td>\n",
       "      <td>14</td>\n",
       "      <td>Jalisco</td>\n",
       "      <td>JC</td>\n",
       "      <td>...</td>\n",
       "      <td>2</td>\n",
       "      <td>2</td>\n",
       "      <td>1</td>\n",
       "      <td>2</td>\n",
       "      <td>1</td>\n",
       "      <td>99</td>\n",
       "      <td>99</td>\n",
       "      <td>MÃ©xico</td>\n",
       "      <td>97</td>\n",
       "      <td>2</td>\n",
       "    </tr>\n",
       "    <tr>\n",
       "      <td>2</td>\n",
       "      <td>35483</td>\n",
       "      <td>2020-04-12</td>\n",
       "      <td>000153</td>\n",
       "      <td>8</td>\n",
       "      <td>8</td>\n",
       "      <td>1</td>\n",
       "      <td>0</td>\n",
       "      <td>8</td>\n",
       "      <td>Chihuahua</td>\n",
       "      <td>CH</td>\n",
       "      <td>...</td>\n",
       "      <td>2</td>\n",
       "      <td>2</td>\n",
       "      <td>2</td>\n",
       "      <td>2</td>\n",
       "      <td>2</td>\n",
       "      <td>99</td>\n",
       "      <td>99</td>\n",
       "      <td>MÃ©xico</td>\n",
       "      <td>97</td>\n",
       "      <td>2</td>\n",
       "    </tr>\n",
       "    <tr>\n",
       "      <td>3</td>\n",
       "      <td>7062</td>\n",
       "      <td>2020-04-12</td>\n",
       "      <td>0001b6</td>\n",
       "      <td>9</td>\n",
       "      <td>15</td>\n",
       "      <td>1</td>\n",
       "      <td>0</td>\n",
       "      <td>9</td>\n",
       "      <td>Ciudad de Mexico</td>\n",
       "      <td>DF</td>\n",
       "      <td>...</td>\n",
       "      <td>2</td>\n",
       "      <td>2</td>\n",
       "      <td>1</td>\n",
       "      <td>2</td>\n",
       "      <td>2</td>\n",
       "      <td>99</td>\n",
       "      <td>99</td>\n",
       "      <td>MÃ©xico</td>\n",
       "      <td>97</td>\n",
       "      <td>97</td>\n",
       "    </tr>\n",
       "    <tr>\n",
       "      <td>4</td>\n",
       "      <td>23745</td>\n",
       "      <td>2020-04-12</td>\n",
       "      <td>0001c1</td>\n",
       "      <td>9</td>\n",
       "      <td>9</td>\n",
       "      <td>2</td>\n",
       "      <td>0</td>\n",
       "      <td>9</td>\n",
       "      <td>Ciudad de Mexico</td>\n",
       "      <td>DF</td>\n",
       "      <td>...</td>\n",
       "      <td>2</td>\n",
       "      <td>2</td>\n",
       "      <td>2</td>\n",
       "      <td>2</td>\n",
       "      <td>2</td>\n",
       "      <td>99</td>\n",
       "      <td>99</td>\n",
       "      <td>MÃ©xico</td>\n",
       "      <td>97</td>\n",
       "      <td>97</td>\n",
       "    </tr>\n",
       "  </tbody>\n",
       "</table>\n",
       "<p>5 rows × 41 columns</p>\n",
       "</div>"
      ],
      "text/plain": [
       "      id FECHA_ARCHIVO ID_REGISTRO  ENTIDAD_UM  ENTIDAD_RES  RESULTADO  DELAY  \\\n",
       "0   9269    2020-04-12      00011f          25           25          2      0   \n",
       "1  33333    2020-04-12      00014e          14           14          2      0   \n",
       "2  35483    2020-04-12      000153           8            8          1      0   \n",
       "3   7062    2020-04-12      0001b6           9           15          1      0   \n",
       "4  23745    2020-04-12      0001c1           9            9          2      0   \n",
       "\n",
       "   ENTIDAD_REGISTRO           ENTIDAD ABR_ENT  ... OTRA_COM  CARDIOVASCULAR  \\\n",
       "0                25           Sinaloa      SL  ...        2               2   \n",
       "1                14           Jalisco      JC  ...        2               2   \n",
       "2                 8         Chihuahua      CH  ...        2               2   \n",
       "3                 9  Ciudad de Mexico      DF  ...        2               2   \n",
       "4                 9  Ciudad de Mexico      DF  ...        2               2   \n",
       "\n",
       "   OBESIDAD  RENAL_CRONICA  TABAQUISMO  OTRO_CASO  MIGRANTE PAIS_NACIONALIDAD  \\\n",
       "0         1              2           2          2        99           MÃ©xico   \n",
       "1         1              2           1         99        99           MÃ©xico   \n",
       "2         2              2           2         99        99           MÃ©xico   \n",
       "3         1              2           2         99        99           MÃ©xico   \n",
       "4         2              2           2         99        99           MÃ©xico   \n",
       "\n",
       "  PAIS_ORIGEN UCI  \n",
       "0          97  97  \n",
       "1          97   2  \n",
       "2          97   2  \n",
       "3          97  97  \n",
       "4          97  97  \n",
       "\n",
       "[5 rows x 41 columns]"
      ]
     },
     "execution_count": 51,
     "metadata": {},
     "output_type": "execute_result"
    }
   ],
   "source": [
    "# Read file into memory\n",
    "df = pd.read_csv('../latest_raw.csv')\n",
    "df.head(5)"
   ]
  },
  {
   "cell_type": "code",
   "execution_count": 4,
   "metadata": {},
   "outputs": [
    {
     "data": {
      "text/plain": [
       "(188616, 41)"
      ]
     },
     "execution_count": 4,
     "metadata": {},
     "output_type": "execute_result"
    }
   ],
   "source": [
    "# Show the shape (number of rows & columns)\n",
    "df.shape"
   ]
  },
  {
   "cell_type": "code",
   "execution_count": 5,
   "metadata": {},
   "outputs": [
    {
     "data": {
      "text/plain": [
       "id                     0\n",
       "FECHA_ARCHIVO          0\n",
       "ID_REGISTRO            0\n",
       "ENTIDAD_UM             0\n",
       "ENTIDAD_RES            0\n",
       "RESULTADO              0\n",
       "DELAY                  0\n",
       "ENTIDAD_REGISTRO       0\n",
       "ENTIDAD                0\n",
       "ABR_ENT                0\n",
       "FECHA_ACTUALIZACION    0\n",
       "ORIGEN                 0\n",
       "SECTOR                 0\n",
       "SEXO                   0\n",
       "ENTIDAD_NAC            0\n",
       "MUNICIPIO_RES          6\n",
       "TIPO_PACIENTE          0\n",
       "FECHA_INGRESO          0\n",
       "FECHA_SINTOMAS         0\n",
       "FECHA_DEF              0\n",
       "INTUBADO               0\n",
       "NEUMONIA               0\n",
       "EDAD                   0\n",
       "NACIONALIDAD           0\n",
       "EMBARAZO               0\n",
       "HABLA_LENGUA_INDIG     0\n",
       "DIABETES               0\n",
       "EPOC                   0\n",
       "ASMA                   0\n",
       "INMUSUPR               0\n",
       "HIPERTENSION           0\n",
       "OTRA_COM               0\n",
       "CARDIOVASCULAR         0\n",
       "OBESIDAD               0\n",
       "RENAL_CRONICA          0\n",
       "TABAQUISMO             0\n",
       "OTRO_CASO              0\n",
       "MIGRANTE               0\n",
       "PAIS_NACIONALIDAD      0\n",
       "PAIS_ORIGEN            0\n",
       "UCI                    0\n",
       "dtype: int64"
      ]
     },
     "execution_count": 5,
     "metadata": {},
     "output_type": "execute_result"
    }
   ],
   "source": [
    "# Show the number of missing (NAN, NaN, na) data for each column\n",
    "df.isnull().sum()"
   ]
  },
  {
   "cell_type": "code",
   "execution_count": 6,
   "metadata": {},
   "outputs": [],
   "source": [
    "# Remove null data\n",
    "df = df[~df.isnull().any(axis=1)]"
   ]
  },
  {
   "cell_type": "code",
   "execution_count": 7,
   "metadata": {},
   "outputs": [],
   "source": [
    "# Exclude observations that don't have a result of the test yet\n",
    "df = df[df.RESULTADO != 3]"
   ]
  },
  {
   "cell_type": "code",
   "execution_count": 8,
   "metadata": {},
   "outputs": [],
   "source": [
    "# Exclude features we don't need for analysis\n",
    "df = df[df.columns[~df.columns.isin(\n",
    "    ['id', 'ID_REGISTRO',\n",
    "     'FECHA_ARCHIVO', 'FECHA_ACTUALIZACION', 'FECHA_INGRESO','FECHA_SINTOMAS', 'FECHA_DEF',\n",
    "     'ABREVIATURA_ENTIDAD', 'NACIONALIDAD', 'MIGRANTE', 'PAIS_NACIONALIDAD', 'PAIS_ORIGEN', 'ENTIDAD']\n",
    ")]]"
   ]
  },
  {
   "cell_type": "code",
   "execution_count": 58,
   "metadata": {},
   "outputs": [
    {
     "name": "stdout",
     "output_type": "stream",
     "text": [
      "<class 'pandas.core.frame.DataFrame'>\n",
      "RangeIndex: 188616 entries, 0 to 188615\n",
      "Data columns (total 41 columns):\n",
      "id                     188616 non-null int64\n",
      "FECHA_ARCHIVO          188616 non-null object\n",
      "ID_REGISTRO            188616 non-null object\n",
      "ENTIDAD_UM             188616 non-null int64\n",
      "ENTIDAD_RES            188616 non-null int64\n",
      "RESULTADO              188616 non-null int64\n",
      "DELAY                  188616 non-null int64\n",
      "ENTIDAD_REGISTRO       188616 non-null int64\n",
      "ENTIDAD                188616 non-null object\n",
      "ABR_ENT                188616 non-null object\n",
      "FECHA_ACTUALIZACION    188616 non-null object\n",
      "ORIGEN                 188616 non-null int64\n",
      "SECTOR                 188616 non-null int64\n",
      "SEXO                   188616 non-null int64\n",
      "ENTIDAD_NAC            188616 non-null int64\n",
      "MUNICIPIO_RES          188610 non-null float64\n",
      "TIPO_PACIENTE          188616 non-null int64\n",
      "FECHA_INGRESO          188616 non-null object\n",
      "FECHA_SINTOMAS         188616 non-null object\n",
      "FECHA_DEF              188616 non-null object\n",
      "INTUBADO               188616 non-null int64\n",
      "NEUMONIA               188616 non-null int64\n",
      "EDAD                   188616 non-null int64\n",
      "NACIONALIDAD           188616 non-null int64\n",
      "EMBARAZO               188616 non-null int64\n",
      "HABLA_LENGUA_INDIG     188616 non-null int64\n",
      "DIABETES               188616 non-null int64\n",
      "EPOC                   188616 non-null int64\n",
      "ASMA                   188616 non-null int64\n",
      "INMUSUPR               188616 non-null int64\n",
      "HIPERTENSION           188616 non-null int64\n",
      "OTRA_COM               188616 non-null int64\n",
      "CARDIOVASCULAR         188616 non-null int64\n",
      "OBESIDAD               188616 non-null int64\n",
      "RENAL_CRONICA          188616 non-null int64\n",
      "TABAQUISMO             188616 non-null int64\n",
      "OTRO_CASO              188616 non-null int64\n",
      "MIGRANTE               188616 non-null int64\n",
      "PAIS_NACIONALIDAD      188616 non-null object\n",
      "PAIS_ORIGEN            188616 non-null object\n",
      "UCI                    188616 non-null int64\n",
      "dtypes: float64(1), int64(30), object(10)\n",
      "memory usage: 59.0+ MB\n"
     ]
    }
   ],
   "source": [
    "# We ideally want every remaining column to be of numeric type\n",
    "df.info()"
   ]
  },
  {
   "cell_type": "code",
   "execution_count": 9,
   "metadata": {},
   "outputs": [
    {
     "data": {
      "text/plain": [
       "Index(['ENTIDAD_UM', 'ENTIDAD_RES', 'RESULTADO', 'DELAY', 'ENTIDAD_REGISTRO',\n",
       "       'ORIGEN', 'SECTOR', 'SEXO', 'ENTIDAD_NAC', 'MUNICIPIO_RES',\n",
       "       'TIPO_PACIENTE', 'INTUBADO', 'NEUMONIA', 'EDAD', 'EMBARAZO',\n",
       "       'HABLA_LENGUA_INDIG', 'DIABETES', 'EPOC', 'ASMA', 'INMUSUPR',\n",
       "       'HIPERTENSION', 'OTRA_COM', 'CARDIOVASCULAR', 'OBESIDAD',\n",
       "       'RENAL_CRONICA', 'TABAQUISMO', 'OTRO_CASO', 'UCI'],\n",
       "      dtype='object')"
      ]
     },
     "execution_count": 9,
     "metadata": {},
     "output_type": "execute_result"
    }
   ],
   "source": [
    "df.keys()"
   ]
  },
  {
   "cell_type": "markdown",
   "metadata": {},
   "source": [
    "### 3. Model"
   ]
  },
  {
   "cell_type": "markdown",
   "metadata": {},
   "source": [
    "We are aiming to predict whether a patient with pending COVID-19 results will get a positive or a negative result:\n",
    "<ul>\n",
    "<li>As lab results are processed, this leaves a window when it's uncertain whether a result will return positive or negative (we are assuming that the epidemiology data can be infomative for the prediction).</li>\n",
    "<li>Also, this could help predict for similar symptoms e.g. from a survey or an app that checks for similar data (ideally, containing most of the parameters that can be assessed without coming into the hospital, like e.g. age of the person.</li>\n",
    "</ul>\n",
    "<p>The value of the lab result comes from a real-time PCR, and is stored in <code>'RESULTADO'</code>, where <code>1=POSITIVE</code>, <code>2=NEGATIVE</code>, <code>3=IN PROGRESS</code>."
   ]
  },
  {
   "cell_type": "code",
   "execution_count": 60,
   "metadata": {},
   "outputs": [
    {
     "name": "stdout",
     "output_type": "stream",
     "text": [
      "[2 1]\n"
     ]
    }
   ],
   "source": [
    "print(df['RESULTADO'].unique())"
   ]
  },
  {
   "cell_type": "markdown",
   "metadata": {},
   "source": [
    "Since the data was already pre-processed, we don't have to exclude lab results that are in progress. But if we wasn't the case, we could exclute this observsations like such:"
   ]
  },
  {
   "cell_type": "code",
   "execution_count": 62,
   "metadata": {},
   "outputs": [],
   "source": [
    "# Nothing should change if we do this because pre-process already removed in-progress lab cases\n",
    "df = df[df.RESULTADO != 3]"
   ]
  },
  {
   "cell_type": "markdown",
   "metadata": {},
   "source": [
    "In any case it's good to follow convention for binary classifiers, so let's re-factor the data:"
   ]
  },
  {
   "cell_type": "code",
   "execution_count": 64,
   "metadata": {},
   "outputs": [],
   "source": [
    "# Refactor result into binary categories (0=negative, 1=positive)\n",
    "df['RESULTADO'] = df['RESULTADO'].astype(str).str.replace('2','0')\n",
    "df['RESULTADO'] = df['RESULTADO'].astype(str).str.replace('1','1')"
   ]
  },
  {
   "cell_type": "markdown",
   "metadata": {},
   "source": [
    "<p>Target incidence is defined as the number of cases of each individual target value in a dataset. That is, how many 0s in the target column compared to how many 1s? Target incidence gives us an idea of how balanced (or imbalanced) is our dataset.</p>"
   ]
  },
  {
   "cell_type": "code",
   "execution_count": 66,
   "metadata": {},
   "outputs": [
    {
     "data": {
      "text/plain": [
       "0    0.644\n",
       "1    0.356\n",
       "Name: RESULTADO, dtype: float64"
      ]
     },
     "execution_count": 66,
     "metadata": {},
     "output_type": "execute_result"
    }
   ],
   "source": [
    "# Print target incidence proportions, rounding output to 3 decimal places\n",
    "df.RESULTADO.value_counts(normalize=True).round(3)"
   ]
  },
  {
   "cell_type": "markdown",
   "metadata": {},
   "source": [
    "Now we want the target variable to be in the first position of the dataframe to make things a little bit easier:"
   ]
  },
  {
   "cell_type": "code",
   "execution_count": 10,
   "metadata": {},
   "outputs": [],
   "source": [
    "# Remove target variable to move it to the first position of dataframe\n",
    "col_name = 'RESULTADO'\n",
    "first_col = df.pop(col_name)"
   ]
  },
  {
   "cell_type": "code",
   "execution_count": 11,
   "metadata": {},
   "outputs": [],
   "source": [
    "# Now we can use Pandas insert() function and insert the opped column into first position of the dataframe\n",
    "# The first argument of insert() function is the location we want to insert, here it is 0\n",
    "df.insert(0, col_name, first_col)"
   ]
  },
  {
   "cell_type": "code",
   "execution_count": 12,
   "metadata": {},
   "outputs": [
    {
     "data": {
      "text/html": [
       "<div>\n",
       "<style scoped>\n",
       "    .dataframe tbody tr th:only-of-type {\n",
       "        vertical-align: middle;\n",
       "    }\n",
       "\n",
       "    .dataframe tbody tr th {\n",
       "        vertical-align: top;\n",
       "    }\n",
       "\n",
       "    .dataframe thead th {\n",
       "        text-align: right;\n",
       "    }\n",
       "</style>\n",
       "<table border=\"1\" class=\"dataframe\">\n",
       "  <thead>\n",
       "    <tr style=\"text-align: right;\">\n",
       "      <th></th>\n",
       "      <th>RESULTADO</th>\n",
       "      <th>ENTIDAD_UM</th>\n",
       "      <th>ENTIDAD_RES</th>\n",
       "      <th>DELAY</th>\n",
       "      <th>ENTIDAD_REGISTRO</th>\n",
       "      <th>ORIGEN</th>\n",
       "      <th>SECTOR</th>\n",
       "      <th>SEXO</th>\n",
       "      <th>ENTIDAD_NAC</th>\n",
       "      <th>MUNICIPIO_RES</th>\n",
       "      <th>...</th>\n",
       "      <th>ASMA</th>\n",
       "      <th>INMUSUPR</th>\n",
       "      <th>HIPERTENSION</th>\n",
       "      <th>OTRA_COM</th>\n",
       "      <th>CARDIOVASCULAR</th>\n",
       "      <th>OBESIDAD</th>\n",
       "      <th>RENAL_CRONICA</th>\n",
       "      <th>TABAQUISMO</th>\n",
       "      <th>OTRO_CASO</th>\n",
       "      <th>UCI</th>\n",
       "    </tr>\n",
       "  </thead>\n",
       "  <tbody>\n",
       "    <tr>\n",
       "      <td>0</td>\n",
       "      <td>2</td>\n",
       "      <td>25</td>\n",
       "      <td>25</td>\n",
       "      <td>0</td>\n",
       "      <td>25</td>\n",
       "      <td>2</td>\n",
       "      <td>12</td>\n",
       "      <td>2</td>\n",
       "      <td>25</td>\n",
       "      <td>13.0</td>\n",
       "      <td>...</td>\n",
       "      <td>2</td>\n",
       "      <td>2</td>\n",
       "      <td>1</td>\n",
       "      <td>2</td>\n",
       "      <td>2</td>\n",
       "      <td>1</td>\n",
       "      <td>2</td>\n",
       "      <td>2</td>\n",
       "      <td>2</td>\n",
       "      <td>97</td>\n",
       "    </tr>\n",
       "    <tr>\n",
       "      <td>1</td>\n",
       "      <td>2</td>\n",
       "      <td>14</td>\n",
       "      <td>14</td>\n",
       "      <td>0</td>\n",
       "      <td>14</td>\n",
       "      <td>1</td>\n",
       "      <td>4</td>\n",
       "      <td>1</td>\n",
       "      <td>16</td>\n",
       "      <td>98.0</td>\n",
       "      <td>...</td>\n",
       "      <td>2</td>\n",
       "      <td>2</td>\n",
       "      <td>1</td>\n",
       "      <td>2</td>\n",
       "      <td>2</td>\n",
       "      <td>1</td>\n",
       "      <td>2</td>\n",
       "      <td>1</td>\n",
       "      <td>99</td>\n",
       "      <td>2</td>\n",
       "    </tr>\n",
       "    <tr>\n",
       "      <td>2</td>\n",
       "      <td>1</td>\n",
       "      <td>8</td>\n",
       "      <td>8</td>\n",
       "      <td>0</td>\n",
       "      <td>8</td>\n",
       "      <td>1</td>\n",
       "      <td>4</td>\n",
       "      <td>2</td>\n",
       "      <td>8</td>\n",
       "      <td>19.0</td>\n",
       "      <td>...</td>\n",
       "      <td>2</td>\n",
       "      <td>2</td>\n",
       "      <td>2</td>\n",
       "      <td>2</td>\n",
       "      <td>2</td>\n",
       "      <td>2</td>\n",
       "      <td>2</td>\n",
       "      <td>2</td>\n",
       "      <td>99</td>\n",
       "      <td>2</td>\n",
       "    </tr>\n",
       "    <tr>\n",
       "      <td>3</td>\n",
       "      <td>1</td>\n",
       "      <td>9</td>\n",
       "      <td>15</td>\n",
       "      <td>0</td>\n",
       "      <td>9</td>\n",
       "      <td>2</td>\n",
       "      <td>4</td>\n",
       "      <td>1</td>\n",
       "      <td>15</td>\n",
       "      <td>33.0</td>\n",
       "      <td>...</td>\n",
       "      <td>2</td>\n",
       "      <td>2</td>\n",
       "      <td>2</td>\n",
       "      <td>2</td>\n",
       "      <td>2</td>\n",
       "      <td>1</td>\n",
       "      <td>2</td>\n",
       "      <td>2</td>\n",
       "      <td>99</td>\n",
       "      <td>97</td>\n",
       "    </tr>\n",
       "    <tr>\n",
       "      <td>4</td>\n",
       "      <td>2</td>\n",
       "      <td>9</td>\n",
       "      <td>9</td>\n",
       "      <td>0</td>\n",
       "      <td>9</td>\n",
       "      <td>1</td>\n",
       "      <td>4</td>\n",
       "      <td>1</td>\n",
       "      <td>99</td>\n",
       "      <td>15.0</td>\n",
       "      <td>...</td>\n",
       "      <td>2</td>\n",
       "      <td>2</td>\n",
       "      <td>2</td>\n",
       "      <td>2</td>\n",
       "      <td>2</td>\n",
       "      <td>2</td>\n",
       "      <td>2</td>\n",
       "      <td>2</td>\n",
       "      <td>99</td>\n",
       "      <td>97</td>\n",
       "    </tr>\n",
       "    <tr>\n",
       "      <td>...</td>\n",
       "      <td>...</td>\n",
       "      <td>...</td>\n",
       "      <td>...</td>\n",
       "      <td>...</td>\n",
       "      <td>...</td>\n",
       "      <td>...</td>\n",
       "      <td>...</td>\n",
       "      <td>...</td>\n",
       "      <td>...</td>\n",
       "      <td>...</td>\n",
       "      <td>...</td>\n",
       "      <td>...</td>\n",
       "      <td>...</td>\n",
       "      <td>...</td>\n",
       "      <td>...</td>\n",
       "      <td>...</td>\n",
       "      <td>...</td>\n",
       "      <td>...</td>\n",
       "      <td>...</td>\n",
       "      <td>...</td>\n",
       "      <td>...</td>\n",
       "    </tr>\n",
       "    <tr>\n",
       "      <td>188611</td>\n",
       "      <td>1</td>\n",
       "      <td>16</td>\n",
       "      <td>16</td>\n",
       "      <td>0</td>\n",
       "      <td>16</td>\n",
       "      <td>2</td>\n",
       "      <td>4</td>\n",
       "      <td>1</td>\n",
       "      <td>16</td>\n",
       "      <td>53.0</td>\n",
       "      <td>...</td>\n",
       "      <td>2</td>\n",
       "      <td>2</td>\n",
       "      <td>2</td>\n",
       "      <td>2</td>\n",
       "      <td>2</td>\n",
       "      <td>2</td>\n",
       "      <td>2</td>\n",
       "      <td>2</td>\n",
       "      <td>99</td>\n",
       "      <td>97</td>\n",
       "    </tr>\n",
       "    <tr>\n",
       "      <td>188612</td>\n",
       "      <td>2</td>\n",
       "      <td>19</td>\n",
       "      <td>19</td>\n",
       "      <td>0</td>\n",
       "      <td>19</td>\n",
       "      <td>1</td>\n",
       "      <td>4</td>\n",
       "      <td>1</td>\n",
       "      <td>24</td>\n",
       "      <td>39.0</td>\n",
       "      <td>...</td>\n",
       "      <td>2</td>\n",
       "      <td>2</td>\n",
       "      <td>1</td>\n",
       "      <td>2</td>\n",
       "      <td>2</td>\n",
       "      <td>2</td>\n",
       "      <td>1</td>\n",
       "      <td>2</td>\n",
       "      <td>99</td>\n",
       "      <td>97</td>\n",
       "    </tr>\n",
       "    <tr>\n",
       "      <td>188613</td>\n",
       "      <td>1</td>\n",
       "      <td>8</td>\n",
       "      <td>8</td>\n",
       "      <td>0</td>\n",
       "      <td>8</td>\n",
       "      <td>2</td>\n",
       "      <td>12</td>\n",
       "      <td>1</td>\n",
       "      <td>8</td>\n",
       "      <td>37.0</td>\n",
       "      <td>...</td>\n",
       "      <td>2</td>\n",
       "      <td>2</td>\n",
       "      <td>2</td>\n",
       "      <td>2</td>\n",
       "      <td>2</td>\n",
       "      <td>1</td>\n",
       "      <td>2</td>\n",
       "      <td>2</td>\n",
       "      <td>2</td>\n",
       "      <td>97</td>\n",
       "    </tr>\n",
       "    <tr>\n",
       "      <td>188614</td>\n",
       "      <td>2</td>\n",
       "      <td>11</td>\n",
       "      <td>11</td>\n",
       "      <td>0</td>\n",
       "      <td>11</td>\n",
       "      <td>2</td>\n",
       "      <td>4</td>\n",
       "      <td>2</td>\n",
       "      <td>11</td>\n",
       "      <td>37.0</td>\n",
       "      <td>...</td>\n",
       "      <td>2</td>\n",
       "      <td>2</td>\n",
       "      <td>1</td>\n",
       "      <td>2</td>\n",
       "      <td>2</td>\n",
       "      <td>2</td>\n",
       "      <td>2</td>\n",
       "      <td>1</td>\n",
       "      <td>99</td>\n",
       "      <td>97</td>\n",
       "    </tr>\n",
       "    <tr>\n",
       "      <td>188615</td>\n",
       "      <td>1</td>\n",
       "      <td>13</td>\n",
       "      <td>13</td>\n",
       "      <td>0</td>\n",
       "      <td>13</td>\n",
       "      <td>1</td>\n",
       "      <td>12</td>\n",
       "      <td>1</td>\n",
       "      <td>13</td>\n",
       "      <td>48.0</td>\n",
       "      <td>...</td>\n",
       "      <td>2</td>\n",
       "      <td>2</td>\n",
       "      <td>1</td>\n",
       "      <td>2</td>\n",
       "      <td>2</td>\n",
       "      <td>2</td>\n",
       "      <td>2</td>\n",
       "      <td>2</td>\n",
       "      <td>2</td>\n",
       "      <td>97</td>\n",
       "    </tr>\n",
       "  </tbody>\n",
       "</table>\n",
       "<p>188610 rows × 28 columns</p>\n",
       "</div>"
      ],
      "text/plain": [
       "        RESULTADO  ENTIDAD_UM  ENTIDAD_RES  DELAY  ENTIDAD_REGISTRO  ORIGEN  \\\n",
       "0               2          25           25      0                25       2   \n",
       "1               2          14           14      0                14       1   \n",
       "2               1           8            8      0                 8       1   \n",
       "3               1           9           15      0                 9       2   \n",
       "4               2           9            9      0                 9       1   \n",
       "...           ...         ...          ...    ...               ...     ...   \n",
       "188611          1          16           16      0                16       2   \n",
       "188612          2          19           19      0                19       1   \n",
       "188613          1           8            8      0                 8       2   \n",
       "188614          2          11           11      0                11       2   \n",
       "188615          1          13           13      0                13       1   \n",
       "\n",
       "        SECTOR  SEXO  ENTIDAD_NAC  MUNICIPIO_RES  ...  ASMA  INMUSUPR  \\\n",
       "0           12     2           25           13.0  ...     2         2   \n",
       "1            4     1           16           98.0  ...     2         2   \n",
       "2            4     2            8           19.0  ...     2         2   \n",
       "3            4     1           15           33.0  ...     2         2   \n",
       "4            4     1           99           15.0  ...     2         2   \n",
       "...        ...   ...          ...            ...  ...   ...       ...   \n",
       "188611       4     1           16           53.0  ...     2         2   \n",
       "188612       4     1           24           39.0  ...     2         2   \n",
       "188613      12     1            8           37.0  ...     2         2   \n",
       "188614       4     2           11           37.0  ...     2         2   \n",
       "188615      12     1           13           48.0  ...     2         2   \n",
       "\n",
       "        HIPERTENSION  OTRA_COM  CARDIOVASCULAR  OBESIDAD  RENAL_CRONICA  \\\n",
       "0                  1         2               2         1              2   \n",
       "1                  1         2               2         1              2   \n",
       "2                  2         2               2         2              2   \n",
       "3                  2         2               2         1              2   \n",
       "4                  2         2               2         2              2   \n",
       "...              ...       ...             ...       ...            ...   \n",
       "188611             2         2               2         2              2   \n",
       "188612             1         2               2         2              1   \n",
       "188613             2         2               2         1              2   \n",
       "188614             1         2               2         2              2   \n",
       "188615             1         2               2         2              2   \n",
       "\n",
       "        TABAQUISMO  OTRO_CASO  UCI  \n",
       "0                2          2   97  \n",
       "1                1         99    2  \n",
       "2                2         99    2  \n",
       "3                2         99   97  \n",
       "4                2         99   97  \n",
       "...            ...        ...  ...  \n",
       "188611           2         99   97  \n",
       "188612           2         99   97  \n",
       "188613           2          2   97  \n",
       "188614           1         99   97  \n",
       "188615           2          2   97  \n",
       "\n",
       "[188610 rows x 28 columns]"
      ]
     },
     "execution_count": 12,
     "metadata": {},
     "output_type": "execute_result"
    }
   ],
   "source": [
    "df"
   ]
  },
  {
   "cell_type": "code",
   "execution_count": 14,
   "metadata": {},
   "outputs": [
    {
     "data": {
      "text/plain": [
       "array([['0', 25, 25, ..., 2, 2, 97],\n",
       "       ['0', 14, 14, ..., 1, 99, 2],\n",
       "       ['1', 8, 8, ..., 2, 99, 2],\n",
       "       ...,\n",
       "       ['1', 8, 8, ..., 2, 2, 97],\n",
       "       ['0', 11, 11, ..., 1, 99, 97],\n",
       "       ['1', 13, 13, ..., 2, 2, 97]], dtype=object)"
      ]
     },
     "execution_count": 14,
     "metadata": {},
     "output_type": "execute_result"
    }
   ],
   "source": [
    "# Convert the data into an array, this will help the neural network\n",
    "dataset = df.values\n",
    "dataset"
   ]
  },
  {
   "cell_type": "code",
   "execution_count": 15,
   "metadata": {},
   "outputs": [],
   "source": [
    "# Split the data into\n",
    "    # independent/feature data set=X\n",
    "    # dependent/target data set=y\n",
    "\n",
    "# Get all of the rows from all but the first column of dataset\n",
    "X = dataset[:,1:28]\n",
    "\n",
    "# Get all of the rows from the first column\n",
    "y = dataset[:,0] "
   ]
  },
  {
   "cell_type": "code",
   "execution_count": 16,
   "metadata": {},
   "outputs": [
    {
     "data": {
      "text/plain": [
       "array([[25, 25, 0, ..., 2, 2, 97],\n",
       "       [14, 14, 0, ..., 1, 99, 2],\n",
       "       [8, 8, 0, ..., 2, 99, 2],\n",
       "       ...,\n",
       "       [8, 8, 0, ..., 2, 2, 97],\n",
       "       [11, 11, 0, ..., 1, 99, 97],\n",
       "       [13, 13, 0, ..., 2, 2, 97]], dtype=object)"
      ]
     },
     "execution_count": 16,
     "metadata": {},
     "output_type": "execute_result"
    }
   ],
   "source": [
    "X"
   ]
  },
  {
   "cell_type": "code",
   "execution_count": 17,
   "metadata": {},
   "outputs": [
    {
     "data": {
      "text/plain": [
       "array(['0', '0', '1', ..., '1', '0', '1'], dtype=object)"
      ]
     },
     "execution_count": 17,
     "metadata": {},
     "output_type": "execute_result"
    }
   ],
   "source": [
    "y"
   ]
  },
  {
   "cell_type": "code",
   "execution_count": 18,
   "metadata": {},
   "outputs": [
    {
     "data": {
      "text/plain": [
       "array([[0.77419355, 0.77419355, 0.        , ..., 0.01030928, 0.01020408,\n",
       "        0.97959184],\n",
       "       [0.41935484, 0.41935484, 0.        , ..., 0.        , 1.        ,\n",
       "        0.01020408],\n",
       "       [0.22580645, 0.22580645, 0.        , ..., 0.01030928, 1.        ,\n",
       "        0.01020408],\n",
       "       ...,\n",
       "       [0.22580645, 0.22580645, 0.        , ..., 0.01030928, 0.01020408,\n",
       "        0.97959184],\n",
       "       [0.32258065, 0.32258065, 0.        , ..., 0.        , 1.        ,\n",
       "        0.97959184],\n",
       "       [0.38709677, 0.38709677, 0.        , ..., 0.01030928, 0.01020408,\n",
       "        0.97959184]])"
      ]
     },
     "execution_count": 18,
     "metadata": {},
     "output_type": "execute_result"
    }
   ],
   "source": [
    "# Process the feature data set to contain values between 0 and 1 inclusive,\n",
    "# by using the min-max scaler method, and print the values\n",
    "\n",
    "from sklearn import preprocessing\n",
    "\n",
    "min_max_scaler = preprocessing.MinMaxScaler()\n",
    "X_scale = min_max_scaler.fit_transform(X)\n",
    "X_scale"
   ]
  },
  {
   "cell_type": "code",
   "execution_count": 19,
   "metadata": {},
   "outputs": [],
   "source": [
    "# Split the data again - this time into 80% for training and 20% for testing data\n",
    "X_train, X_test, y_train, y_test = train_test_split(X_scale, y, test_size=0.2, random_state=4)"
   ]
  },
  {
   "cell_type": "markdown",
   "metadata": {},
   "source": [
    "### Model"
   ]
  },
  {
   "cell_type": "markdown",
   "metadata": {},
   "source": [
    "The model's architecture will contain three layers:\n",
    "1. The first layer will have 12 neurons and use the <code>ReLu</code> activation function.\n",
    "2. The second layer will have 15 neurons and use the <code>ReLu</code> activation function.\n",
    "3. The third and final layer will use 1 neuron and the <code>sigmoid</code> activation function."
   ]
  },
  {
   "cell_type": "code",
   "execution_count": 54,
   "metadata": {},
   "outputs": [],
   "source": [
    "# https://stackoverflow.com/questions/55496289/how-to-fix-attributeerror-module-tensorflow-has-no-attribute-get-default-gr\n",
    "import tensorflow as tf\n",
    "from tensorflow import keras\n",
    "from tensorflow.keras.models import Sequential\n",
    "from tensorflow.keras.layers import Dense\n",
    "from tensorflow.keras.layers import Dropout\n",
    "\n",
    "from sklearn.model_selection import train_test_split"
   ]
  },
  {
   "cell_type": "code",
   "execution_count": 20,
   "metadata": {},
   "outputs": [],
   "source": [
    "model = Sequential([\n",
    "    Dense(12, activation='relu', input_shape=(27, )),\n",
    "    Dense(15, activation='relu'),\n",
    "    Dense(1, activation='sigmoid')\n",
    "])"
   ]
  },
  {
   "cell_type": "markdown",
   "metadata": {},
   "source": [
    "1. Compile the model and give it the <code>'binary_crossentropy'</code> loss function (used for binary classification) to measure how well the model did on training\n",
    "2. Then give it the Stochastic Gradient Descent <code>'sgd'</code> optimizer to improve upon the loss.\n",
    "3. To measure the accuracy of the model add <code>'accuracy'</code> to the metrics."
   ]
  },
  {
   "cell_type": "code",
   "execution_count": 21,
   "metadata": {},
   "outputs": [],
   "source": [
    "model.compile(optimizer='sgd',\n",
    "              loss='binary_crossentropy',\n",
    "              metrics=['accuracy'])"
   ]
  },
  {
   "cell_type": "markdown",
   "metadata": {},
   "source": [
    "### Training"
   ]
  },
  {
   "cell_type": "markdown",
   "metadata": {},
   "source": [
    "Train the model by using the fit method on the training data, and train it in batch sizes of 57, with 100 epochs. Give the model validation data to see how well the model is performing by splitting the training data into 20% validation.\n",
    "<br>\n",
    "- Batch: Total number of training examples present in a single batch<br>\n",
    "- Epoch: The number of iterations when an ENTIRE dataset is passed forward and backward through the neural network only ONCE<br>\n",
    "- Fit: Another word for train"
   ]
  },
  {
   "cell_type": "code",
   "execution_count": 27,
   "metadata": {},
   "outputs": [
    {
     "name": "stdout",
     "output_type": "stream",
     "text": [
      "Train on 120710 samples, validate on 30178 samples\n",
      "Epoch 1/100\n",
      "120710/120710 [==============================] - 9s 72us/sample - loss: 0.6208 - accuracy: 0.6701 - val_loss: 0.6208 - val_accuracy: 0.6712\n",
      "Epoch 2/100\n",
      "120710/120710 [==============================] - 8s 65us/sample - loss: 0.6206 - accuracy: 0.6704 - val_loss: 0.6206 - val_accuracy: 0.6712\n",
      "Epoch 3/100\n",
      "120710/120710 [==============================] - 5s 45us/sample - loss: 0.6204 - accuracy: 0.6705 - val_loss: 0.6204 - val_accuracy: 0.6713\n",
      "Epoch 4/100\n",
      "120710/120710 [==============================] - 6s 52us/sample - loss: 0.6202 - accuracy: 0.6705 - val_loss: 0.6203 - val_accuracy: 0.6717\n",
      "Epoch 5/100\n",
      "120710/120710 [==============================] - 6s 52us/sample - loss: 0.6201 - accuracy: 0.6707 - val_loss: 0.6201 - val_accuracy: 0.6720\n",
      "Epoch 6/100\n",
      "120710/120710 [==============================] - 8s 67us/sample - loss: 0.6199 - accuracy: 0.6707 - val_loss: 0.6199 - val_accuracy: 0.6722\n",
      "Epoch 7/100\n",
      "120710/120710 [==============================] - 6s 53us/sample - loss: 0.6197 - accuracy: 0.6710 - val_loss: 0.6197 - val_accuracy: 0.6725\n",
      "Epoch 8/100\n",
      "120710/120710 [==============================] - 8s 70us/sample - loss: 0.6194 - accuracy: 0.6716 - val_loss: 0.6195 - val_accuracy: 0.6727\n",
      "Epoch 9/100\n",
      "120710/120710 [==============================] - 8s 64us/sample - loss: 0.6192 - accuracy: 0.6714 - val_loss: 0.6194 - val_accuracy: 0.6732\n",
      "Epoch 10/100\n",
      "120710/120710 [==============================] - 7s 58us/sample - loss: 0.6190 - accuracy: 0.6718 - val_loss: 0.6192 - val_accuracy: 0.6732\n",
      "Epoch 11/100\n",
      "120710/120710 [==============================] - 7s 61us/sample - loss: 0.6188 - accuracy: 0.6720 - val_loss: 0.6190 - val_accuracy: 0.6733\n",
      "Epoch 12/100\n",
      "120710/120710 [==============================] - 7s 62us/sample - loss: 0.6186 - accuracy: 0.6721 - val_loss: 0.6188 - val_accuracy: 0.6737\n",
      "Epoch 13/100\n",
      "120710/120710 [==============================] - 6s 52us/sample - loss: 0.6184 - accuracy: 0.6722 - val_loss: 0.6186 - val_accuracy: 0.6736\n",
      "Epoch 14/100\n",
      "120710/120710 [==============================] - 5s 43us/sample - loss: 0.6183 - accuracy: 0.6723 - val_loss: 0.6185 - val_accuracy: 0.6737\n",
      "Epoch 15/100\n",
      "120710/120710 [==============================] - 5s 40us/sample - loss: 0.6181 - accuracy: 0.6725 - val_loss: 0.6183 - val_accuracy: 0.6737\n",
      "Epoch 16/100\n",
      "120710/120710 [==============================] - 7s 56us/sample - loss: 0.6179 - accuracy: 0.6726 - val_loss: 0.6181 - val_accuracy: 0.6741\n",
      "Epoch 17/100\n",
      "120710/120710 [==============================] - 7s 56us/sample - loss: 0.6177 - accuracy: 0.6726 - val_loss: 0.6179 - val_accuracy: 0.6745\n",
      "Epoch 18/100\n",
      "120710/120710 [==============================] - 7s 57us/sample - loss: 0.6175 - accuracy: 0.6729 - val_loss: 0.6178 - val_accuracy: 0.6746\n",
      "Epoch 19/100\n",
      "120710/120710 [==============================] - 7s 54us/sample - loss: 0.6174 - accuracy: 0.6729 - val_loss: 0.6176 - val_accuracy: 0.6746\n",
      "Epoch 20/100\n",
      "120710/120710 [==============================] - 6s 48us/sample - loss: 0.6172 - accuracy: 0.6730 - val_loss: 0.6175 - val_accuracy: 0.6749\n",
      "Epoch 21/100\n",
      "120710/120710 [==============================] - 5s 42us/sample - loss: 0.6170 - accuracy: 0.6731 - val_loss: 0.6173 - val_accuracy: 0.6748\n",
      "Epoch 22/100\n",
      "120710/120710 [==============================] - 8s 69us/sample - loss: 0.6169 - accuracy: 0.6731 - val_loss: 0.6172 - val_accuracy: 0.6750\n",
      "Epoch 23/100\n",
      "120710/120710 [==============================] - 7s 61us/sample - loss: 0.6167 - accuracy: 0.6732 - val_loss: 0.6170 - val_accuracy: 0.6752\n",
      "Epoch 24/100\n",
      "120710/120710 [==============================] - 6s 47us/sample - loss: 0.6166 - accuracy: 0.6735 - val_loss: 0.6169 - val_accuracy: 0.6750\n",
      "Epoch 25/100\n",
      "120710/120710 [==============================] - 6s 46us/sample - loss: 0.6164 - accuracy: 0.6738 - val_loss: 0.6168 - val_accuracy: 0.6750\n",
      "Epoch 26/100\n",
      "120710/120710 [==============================] - 6s 49us/sample - loss: 0.6163 - accuracy: 0.6738 - val_loss: 0.6166 - val_accuracy: 0.6748\n",
      "Epoch 27/100\n",
      "120710/120710 [==============================] - 6s 46us/sample - loss: 0.6161 - accuracy: 0.6737 - val_loss: 0.6165 - val_accuracy: 0.6753\n",
      "Epoch 28/100\n",
      "120710/120710 [==============================] - 6s 46us/sample - loss: 0.6160 - accuracy: 0.6739 - val_loss: 0.6164 - val_accuracy: 0.6751\n",
      "Epoch 29/100\n",
      "120710/120710 [==============================] - 6s 49us/sample - loss: 0.6159 - accuracy: 0.6737 - val_loss: 0.6163 - val_accuracy: 0.6751\n",
      "Epoch 30/100\n",
      "120710/120710 [==============================] - 7s 60us/sample - loss: 0.6158 - accuracy: 0.6740 - val_loss: 0.6162 - val_accuracy: 0.6752\n",
      "Epoch 31/100\n",
      "120710/120710 [==============================] - 7s 55us/sample - loss: 0.6156 - accuracy: 0.6738 - val_loss: 0.6161 - val_accuracy: 0.6753\n",
      "Epoch 32/100\n",
      "120710/120710 [==============================] - 10s 83us/sample - loss: 0.6155 - accuracy: 0.6741 - val_loss: 0.6160 - val_accuracy: 0.6754\n",
      "Epoch 33/100\n",
      "120710/120710 [==============================] - 9s 76us/sample - loss: 0.6154 - accuracy: 0.6741 - val_loss: 0.6159 - val_accuracy: 0.6753\n",
      "Epoch 34/100\n",
      "120710/120710 [==============================] - 12s 96us/sample - loss: 0.6153 - accuracy: 0.6742 - val_loss: 0.6158 - val_accuracy: 0.6755\n",
      "Epoch 35/100\n",
      "120710/120710 [==============================] - 8s 66us/sample - loss: 0.6152 - accuracy: 0.6742 - val_loss: 0.6157 - val_accuracy: 0.6756\n",
      "Epoch 36/100\n",
      "120710/120710 [==============================] - 8s 63us/sample - loss: 0.6151 - accuracy: 0.6744 - val_loss: 0.6156 - val_accuracy: 0.6758\n",
      "Epoch 37/100\n",
      "120710/120710 [==============================] - 8s 63us/sample - loss: 0.6150 - accuracy: 0.6747 - val_loss: 0.6156 - val_accuracy: 0.6758\n",
      "Epoch 38/100\n",
      "120710/120710 [==============================] - 7s 61us/sample - loss: 0.6149 - accuracy: 0.6743 - val_loss: 0.6155 - val_accuracy: 0.6759\n",
      "Epoch 39/100\n",
      "120710/120710 [==============================] - 7s 62us/sample - loss: 0.6148 - accuracy: 0.6747 - val_loss: 0.6154 - val_accuracy: 0.6761\n",
      "Epoch 40/100\n",
      "120710/120710 [==============================] - 8s 67us/sample - loss: 0.6147 - accuracy: 0.6750 - val_loss: 0.6153 - val_accuracy: 0.6762\n",
      "Epoch 41/100\n",
      "120710/120710 [==============================] - 8s 64us/sample - loss: 0.6146 - accuracy: 0.6748 - val_loss: 0.6152 - val_accuracy: 0.6761\n",
      "Epoch 42/100\n",
      "120710/120710 [==============================] - 7s 62us/sample - loss: 0.6146 - accuracy: 0.6752 - val_loss: 0.6152 - val_accuracy: 0.6762\n",
      "Epoch 43/100\n",
      "120710/120710 [==============================] - 7s 56us/sample - loss: 0.6145 - accuracy: 0.6752 - val_loss: 0.6151 - val_accuracy: 0.6763\n",
      "Epoch 44/100\n",
      "120710/120710 [==============================] - 8s 62us/sample - loss: 0.6144 - accuracy: 0.6751 - val_loss: 0.6150 - val_accuracy: 0.6758\n",
      "Epoch 45/100\n",
      "120710/120710 [==============================] - 8s 66us/sample - loss: 0.6143 - accuracy: 0.6752 - val_loss: 0.6149 - val_accuracy: 0.6763\n",
      "Epoch 46/100\n",
      "120710/120710 [==============================] - 6s 51us/sample - loss: 0.6142 - accuracy: 0.6754 - val_loss: 0.6149 - val_accuracy: 0.6761\n",
      "Epoch 47/100\n",
      "120710/120710 [==============================] - 6s 49us/sample - loss: 0.6141 - accuracy: 0.6756 - val_loss: 0.6148 - val_accuracy: 0.6762\n",
      "Epoch 48/100\n",
      "120710/120710 [==============================] - 6s 48us/sample - loss: 0.6140 - accuracy: 0.6755 - val_loss: 0.6147 - val_accuracy: 0.6761\n",
      "Epoch 49/100\n",
      "120710/120710 [==============================] - 6s 50us/sample - loss: 0.6139 - accuracy: 0.6756 - val_loss: 0.6147 - val_accuracy: 0.6762\n",
      "Epoch 50/100\n",
      "120710/120710 [==============================] - 6s 47us/sample - loss: 0.6139 - accuracy: 0.6754 - val_loss: 0.6146 - val_accuracy: 0.6762\n",
      "Epoch 51/100\n",
      "120710/120710 [==============================] - 5s 45us/sample - loss: 0.6138 - accuracy: 0.6757 - val_loss: 0.6146 - val_accuracy: 0.6764\n",
      "Epoch 52/100\n",
      "120710/120710 [==============================] - 5s 44us/sample - loss: 0.6137 - accuracy: 0.6760 - val_loss: 0.6145 - val_accuracy: 0.6760\n",
      "Epoch 53/100\n",
      "120710/120710 [==============================] - 5s 43us/sample - loss: 0.6136 - accuracy: 0.6757 - val_loss: 0.6144 - val_accuracy: 0.6761\n",
      "Epoch 54/100\n",
      "120710/120710 [==============================] - 5s 41us/sample - loss: 0.6135 - accuracy: 0.6758 - val_loss: 0.6144 - val_accuracy: 0.6763\n",
      "Epoch 55/100\n",
      "120710/120710 [==============================] - 5s 44us/sample - loss: 0.6135 - accuracy: 0.6759 - val_loss: 0.6143 - val_accuracy: 0.6761\n",
      "Epoch 56/100\n",
      "120710/120710 [==============================] - 6s 47us/sample - loss: 0.6134 - accuracy: 0.6760 - val_loss: 0.6143 - val_accuracy: 0.6760\n",
      "Epoch 57/100\n",
      "120710/120710 [==============================] - 5s 45us/sample - loss: 0.6133 - accuracy: 0.6760 - val_loss: 0.6143 - val_accuracy: 0.6755\n",
      "Epoch 58/100\n",
      "120710/120710 [==============================] - 6s 46us/sample - loss: 0.6133 - accuracy: 0.6761 - val_loss: 0.6142 - val_accuracy: 0.6765\n",
      "Epoch 59/100\n",
      "120710/120710 [==============================] - 6s 48us/sample - loss: 0.6133 - accuracy: 0.6760 - val_loss: 0.6141 - val_accuracy: 0.6766\n",
      "Epoch 60/100\n",
      "120710/120710 [==============================] - 9s 75us/sample - loss: 0.6132 - accuracy: 0.6761 - val_loss: 0.6141 - val_accuracy: 0.6768\n",
      "Epoch 61/100\n",
      "120710/120710 [==============================] - 6s 46us/sample - loss: 0.6132 - accuracy: 0.6761 - val_loss: 0.6140 - val_accuracy: 0.6762\n",
      "Epoch 62/100\n",
      "120710/120710 [==============================] - 5s 44us/sample - loss: 0.6131 - accuracy: 0.6761 - val_loss: 0.6140 - val_accuracy: 0.6763\n",
      "Epoch 63/100\n",
      "120710/120710 [==============================] - 5s 44us/sample - loss: 0.6131 - accuracy: 0.6761 - val_loss: 0.6140 - val_accuracy: 0.6766\n",
      "Epoch 64/100\n",
      "120710/120710 [==============================] - 5s 41us/sample - loss: 0.6130 - accuracy: 0.6761 - val_loss: 0.6139 - val_accuracy: 0.6767\n",
      "Epoch 65/100\n",
      "120710/120710 [==============================] - 5s 44us/sample - loss: 0.6130 - accuracy: 0.6764 - val_loss: 0.6139 - val_accuracy: 0.6766\n",
      "Epoch 66/100\n",
      "120710/120710 [==============================] - 5s 45us/sample - loss: 0.6129 - accuracy: 0.6764 - val_loss: 0.6138 - val_accuracy: 0.6767\n",
      "Epoch 67/100\n",
      "120710/120710 [==============================] - 6s 47us/sample - loss: 0.6129 - accuracy: 0.6761 - val_loss: 0.6138 - val_accuracy: 0.6770\n",
      "Epoch 68/100\n",
      "120710/120710 [==============================] - 5s 45us/sample - loss: 0.6128 - accuracy: 0.6764 - val_loss: 0.6138 - val_accuracy: 0.6769\n",
      "Epoch 69/100\n",
      "120710/120710 [==============================] - 5s 43us/sample - loss: 0.6128 - accuracy: 0.6764 - val_loss: 0.6137 - val_accuracy: 0.6768\n",
      "Epoch 70/100\n",
      "120710/120710 [==============================] - 6s 46us/sample - loss: 0.6128 - accuracy: 0.6764 - val_loss: 0.6137 - val_accuracy: 0.6769\n",
      "Epoch 71/100\n",
      "120710/120710 [==============================] - 8s 62us/sample - loss: 0.6127 - accuracy: 0.6763 - val_loss: 0.6136 - val_accuracy: 0.6774\n",
      "Epoch 72/100\n",
      "120710/120710 [==============================] - 6s 49us/sample - loss: 0.6127 - accuracy: 0.6763 - val_loss: 0.6136 - val_accuracy: 0.6772\n",
      "Epoch 73/100\n",
      "120710/120710 [==============================] - 5s 42us/sample - loss: 0.6126 - accuracy: 0.6764 - val_loss: 0.6136 - val_accuracy: 0.6773\n",
      "Epoch 74/100\n",
      "120710/120710 [==============================] - 6s 47us/sample - loss: 0.6126 - accuracy: 0.6764 - val_loss: 0.6135 - val_accuracy: 0.6773\n",
      "Epoch 75/100\n",
      "120710/120710 [==============================] - 6s 51us/sample - loss: 0.6125 - accuracy: 0.6766 - val_loss: 0.6135 - val_accuracy: 0.6773\n",
      "Epoch 76/100\n",
      "120710/120710 [==============================] - 5s 43us/sample - loss: 0.6125 - accuracy: 0.6766 - val_loss: 0.6135 - val_accuracy: 0.6773\n",
      "Epoch 77/100\n",
      "120710/120710 [==============================] - 5s 44us/sample - loss: 0.6125 - accuracy: 0.6766 - val_loss: 0.6134 - val_accuracy: 0.6772\n",
      "Epoch 78/100\n",
      "120710/120710 [==============================] - 7s 55us/sample - loss: 0.6124 - accuracy: 0.6766 - val_loss: 0.6134 - val_accuracy: 0.6770\n",
      "Epoch 79/100\n",
      "120710/120710 [==============================] - 6s 46us/sample - loss: 0.6124 - accuracy: 0.6766 - val_loss: 0.6134 - val_accuracy: 0.6773\n",
      "Epoch 80/100\n",
      "120710/120710 [==============================] - 5s 45us/sample - loss: 0.6124 - accuracy: 0.6767 - val_loss: 0.6133 - val_accuracy: 0.6773\n",
      "Epoch 81/100\n",
      "120710/120710 [==============================] - 6s 52us/sample - loss: 0.6123 - accuracy: 0.6768 - val_loss: 0.6133 - val_accuracy: 0.6769\n",
      "Epoch 82/100\n",
      "120710/120710 [==============================] - 6s 50us/sample - loss: 0.6123 - accuracy: 0.6765 - val_loss: 0.6133 - val_accuracy: 0.6769\n",
      "Epoch 83/100\n",
      "120710/120710 [==============================] - 5s 43us/sample - loss: 0.6123 - accuracy: 0.6768 - val_loss: 0.6132 - val_accuracy: 0.6770\n",
      "Epoch 84/100\n",
      "120710/120710 [==============================] - 5s 44us/sample - loss: 0.6122 - accuracy: 0.6767 - val_loss: 0.6132 - val_accuracy: 0.6769\n",
      "Epoch 85/100\n",
      "120710/120710 [==============================] - 7s 55us/sample - loss: 0.6122 - accuracy: 0.6769 - val_loss: 0.6132 - val_accuracy: 0.6774\n",
      "Epoch 86/100\n",
      "120710/120710 [==============================] - 8s 67us/sample - loss: 0.6122 - accuracy: 0.6770 - val_loss: 0.6132 - val_accuracy: 0.6776\n",
      "Epoch 87/100\n",
      "120710/120710 [==============================] - 5s 44us/sample - loss: 0.6121 - accuracy: 0.6771 - val_loss: 0.6131 - val_accuracy: 0.6770\n",
      "Epoch 88/100\n",
      "120710/120710 [==============================] - 6s 53us/sample - loss: 0.6121 - accuracy: 0.6771 - val_loss: 0.6131 - val_accuracy: 0.6770\n",
      "Epoch 89/100\n",
      "120710/120710 [==============================] - 9s 71us/sample - loss: 0.6121 - accuracy: 0.6767 - val_loss: 0.6131 - val_accuracy: 0.6769\n",
      "Epoch 90/100\n",
      "120710/120710 [==============================] - 6s 51us/sample - loss: 0.6121 - accuracy: 0.6769 - val_loss: 0.6131 - val_accuracy: 0.6770\n",
      "Epoch 91/100\n",
      "120710/120710 [==============================] - 5s 44us/sample - loss: 0.6120 - accuracy: 0.6770 - val_loss: 0.6131 - val_accuracy: 0.6777\n",
      "Epoch 92/100\n",
      "120710/120710 [==============================] - 6s 50us/sample - loss: 0.6120 - accuracy: 0.6772 - val_loss: 0.6130 - val_accuracy: 0.6772\n",
      "Epoch 93/100\n",
      "120710/120710 [==============================] - 7s 55us/sample - loss: 0.6119 - accuracy: 0.6770 - val_loss: 0.6130 - val_accuracy: 0.6768\n",
      "Epoch 94/100\n",
      "120710/120710 [==============================] - 6s 48us/sample - loss: 0.6119 - accuracy: 0.6769 - val_loss: 0.6130 - val_accuracy: 0.6770\n",
      "Epoch 95/100\n",
      "120710/120710 [==============================] - 7s 60us/sample - loss: 0.6119 - accuracy: 0.6769 - val_loss: 0.6129 - val_accuracy: 0.6772\n",
      "Epoch 96/100\n",
      "120710/120710 [==============================] - 6s 47us/sample - loss: 0.6119 - accuracy: 0.6771 - val_loss: 0.6129 - val_accuracy: 0.6772\n",
      "Epoch 97/100\n",
      "120710/120710 [==============================] - 7s 54us/sample - loss: 0.6119 - accuracy: 0.6771 - val_loss: 0.6129 - val_accuracy: 0.6772\n",
      "Epoch 98/100\n",
      "120710/120710 [==============================] - 8s 62us/sample - loss: 0.6118 - accuracy: 0.6772 - val_loss: 0.6129 - val_accuracy: 0.6770\n",
      "Epoch 99/100\n",
      "120710/120710 [==============================] - 7s 62us/sample - loss: 0.6118 - accuracy: 0.6770 - val_loss: 0.6129 - val_accuracy: 0.6771\n",
      "Epoch 100/100\n",
      "120710/120710 [==============================] - 7s 58us/sample - loss: 0.6118 - accuracy: 0.6769 - val_loss: 0.6128 - val_accuracy: 0.6774\n"
     ]
    }
   ],
   "source": [
    "hist = model.fit(X_train, y_train,\n",
    "          batch_size=57, epochs=100, validation_split=0.2)"
   ]
  },
  {
   "cell_type": "markdown",
   "metadata": {},
   "source": [
    "Visualize the training loss and the validation loss to see if the model is overfitting"
   ]
  },
  {
   "cell_type": "code",
   "execution_count": 55,
   "metadata": {},
   "outputs": [],
   "source": [
    "import matplotlib.pyplot as plt\n",
    "#plt.style.use('fivethirtyeight')"
   ]
  },
  {
   "cell_type": "code",
   "execution_count": 28,
   "metadata": {},
   "outputs": [
    {
     "data": {
      "image/png": "[encoded data removed]",
      "text/plain": [
       "<Figure size 432x288 with 1 Axes>"
      ]
     },
     "metadata": {
      "needs_background": "light"
     },
     "output_type": "display_data"
    }
   ],
   "source": [
    "plt.plot(hist.history['loss'])\n",
    "plt.plot(hist.history['val_loss'])\n",
    "plt.title('Model loss')\n",
    "plt.ylabel('Loss')\n",
    "plt.xlabel('Epoch')\n",
    "plt.legend(['Train', 'Val'], loc='upper right')\n",
    "plt.show()"
   ]
  },
  {
   "cell_type": "markdown",
   "metadata": {},
   "source": [
    "Overfitting refers to a model that has learned the training dataset too well, including the statistical noise or random fluctuations in the training dataset.\n",
    "\n",
    "The problem with overfitting, is that the more specialized the model becomes to training data, the less well it is able to generalize to new data, resulting in an increase in generalization error. This increase in generalization error can be measured by the performance of the model on the validation dataset.\n",
    "\n",
    "A plot of learning curves shows overfitting if:\n",
    "\n",
    "- The plot of training loss continues to decrease with experience.\n",
    "- The plot of validation loss decreases to a point and begins increasing again.\n",
    "\n",
    "The inflection point in validation loss may be the point at which training could be halted as experience after that point shows the dynamics of overfitting.\n",
    "\n",
    "The example plot above demonstrates a case of overfitting."
   ]
  },
  {
   "cell_type": "code",
   "execution_count": 32,
   "metadata": {},
   "outputs": [
    {
     "data": {
      "text/plain": [
       "dict_keys(['loss', 'accuracy', 'val_loss', 'val_accuracy'])"
      ]
     },
     "execution_count": 32,
     "metadata": {},
     "output_type": "execute_result"
    }
   ],
   "source": [
    "hist.history.keys()"
   ]
  },
  {
   "cell_type": "markdown",
   "metadata": {},
   "source": [
    "Visualize the training accuracy and the validation accuracy to see if the model is overfitting"
   ]
  },
  {
   "cell_type": "code",
   "execution_count": 33,
   "metadata": {},
   "outputs": [
    {
     "data": {
      "image/png": "[encoded data removed]",
      "text/plain": [
       "<Figure size 432x288 with 1 Axes>"
      ]
     },
     "metadata": {
      "needs_background": "light"
     },
     "output_type": "display_data"
    }
   ],
   "source": [
    "plt.plot(hist.history['accuracy'])\n",
    "plt.plot(hist.history['val_accuracy'])\n",
    "plt.title('Model accuracy')\n",
    "plt.ylabel('Accuracy')\n",
    "plt.xlabel('Epoch')\n",
    "plt.legend(['Train', 'Val'], loc='lower right')\n",
    "plt.show()"
   ]
  },
  {
   "cell_type": "markdown",
   "metadata": {},
   "source": [
    "Use the model to make a prediction using the testing data set X_test. Since neural networks only give probabilities (values between 0 and 1 inclusive), create a threshold where values .5 and above classify the target data as (1) and values less then that as (0)."
   ]
  },
  {
   "cell_type": "code",
   "execution_count": 42,
   "metadata": {},
   "outputs": [],
   "source": [
    "# Make a prediction and print the actual values\n",
    "prediction = model.predict(X_test)\n",
    "prediction = [1 if y>=0.5 else 0 for y in prediction] # threshold\n",
    "#print(prediction)\n",
    "#print(y_test"
   ]
  },
  {
   "cell_type": "markdown",
   "metadata": {},
   "source": [
    "### Evaluate"
   ]
  },
  {
   "cell_type": "code",
   "execution_count": 49,
   "metadata": {},
   "outputs": [
    {
     "name": "stdout",
     "output_type": "stream",
     "text": [
      "37722/37722 [==============================] - 2s 45us/sample - loss: 0.6115 - accuracy: 0.6774\n"
     ]
    },
    {
     "data": {
      "text/plain": [
       "0.6773501"
      ]
     },
     "execution_count": 49,
     "metadata": {},
     "output_type": "execute_result"
    }
   ],
   "source": [
    "# Now evaluate the model on the training data set\n",
    "model.evaluate(X_test, y_test)[1]"
   ]
  }
 ],
 "metadata": {
  "kernelspec": {
   "display_name": "Python 3",
   "language": "python",
   "name": "python3"
  },
  "language_info": {
   "codemirror_mode": {
    "name": "ipython",
    "version": 3
   },
   "file_extension": ".py",
   "mimetype": "text/x-python",
   "name": "python",
   "nbconvert_exporter": "python",
   "pygments_lexer": "ipython3",
   "version": "3.7.4"
  }
 },
 "nbformat": 4,
 "nbformat_minor": 4
}
