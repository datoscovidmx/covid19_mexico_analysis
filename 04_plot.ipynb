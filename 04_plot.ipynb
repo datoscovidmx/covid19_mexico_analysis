{
 "cells": [
  {
   "cell_type": "code",
   "execution_count": 29,
   "metadata": {},
   "outputs": [],
   "source": [
    "import pandas as pd\n",
    "import plotly.graph_objects as go"
   ]
  },
  {
   "cell_type": "code",
   "execution_count": 30,
   "metadata": {},
   "outputs": [],
   "source": [
    "# https://plotly.com/python/animations/#using-a-slider-and-buttons\n",
    "# https://raw.githubusercontent.com/plotly/datasets/master/gapminderDataFiveYear.csv"
   ]
  },
  {
   "cell_type": "code",
   "execution_count": 31,
   "metadata": {},
   "outputs": [],
   "source": [
    "dataset = pd.read_csv('output_data/time_series/total-daily-tbl.csv')"
   ]
  },
  {
   "cell_type": "code",
   "execution_count": 32,
   "metadata": {},
   "outputs": [
    {
     "data": {
      "text/html": [
       "<div>\n",
       "<style scoped>\n",
       "    .dataframe tbody tr th:only-of-type {\n",
       "        vertical-align: middle;\n",
       "    }\n",
       "\n",
       "    .dataframe tbody tr th {\n",
       "        vertical-align: top;\n",
       "    }\n",
       "\n",
       "    .dataframe thead th {\n",
       "        text-align: right;\n",
       "    }\n",
       "</style>\n",
       "<table border=\"1\" class=\"dataframe\">\n",
       "  <thead>\n",
       "    <tr style=\"text-align: right;\">\n",
       "      <th></th>\n",
       "      <th>Date_Confirmed</th>\n",
       "      <th>Region</th>\n",
       "      <th>total</th>\n",
       "      <th>daily</th>\n",
       "    </tr>\n",
       "  </thead>\n",
       "  <tbody>\n",
       "    <tr>\n",
       "      <td>0</td>\n",
       "      <td>15-02-2020</td>\n",
       "      <td>China</td>\n",
       "      <td>2073.0</td>\n",
       "      <td>62.0</td>\n",
       "    </tr>\n",
       "    <tr>\n",
       "      <td>1</td>\n",
       "      <td>15-02-2020</td>\n",
       "      <td>Italy</td>\n",
       "      <td>3.0</td>\n",
       "      <td>0.0</td>\n",
       "    </tr>\n",
       "    <tr>\n",
       "      <td>2</td>\n",
       "      <td>15-02-2020</td>\n",
       "      <td>Spain</td>\n",
       "      <td>2.0</td>\n",
       "      <td>0.0</td>\n",
       "    </tr>\n",
       "    <tr>\n",
       "      <td>3</td>\n",
       "      <td>15-02-2020</td>\n",
       "      <td>United Kingdom</td>\n",
       "      <td>1.0</td>\n",
       "      <td>0.0</td>\n",
       "    </tr>\n",
       "    <tr>\n",
       "      <td>4</td>\n",
       "      <td>15-02-2020</td>\n",
       "      <td>Korea, South</td>\n",
       "      <td>28.0</td>\n",
       "      <td>0.0</td>\n",
       "    </tr>\n",
       "  </tbody>\n",
       "</table>\n",
       "</div>"
      ],
      "text/plain": [
       "  Date_Confirmed          Region   total  daily\n",
       "0     15-02-2020           China  2073.0   62.0\n",
       "1     15-02-2020           Italy     3.0    0.0\n",
       "2     15-02-2020           Spain     2.0    0.0\n",
       "3     15-02-2020  United Kingdom     1.0    0.0\n",
       "4     15-02-2020    Korea, South    28.0    0.0"
      ]
     },
     "execution_count": 32,
     "metadata": {},
     "output_type": "execute_result"
    }
   ],
   "source": [
    "dataset.head()"
   ]
  },
  {
   "cell_type": "code",
   "execution_count": 33,
   "metadata": {},
   "outputs": [],
   "source": [
    "# Plot with plotly\n",
    "\n",
    "# An example of building up the structure of a figure as a Python dictionary\n",
    "# and then constructing a graph object figure from that dictionary."
   ]
  },
  {
   "cell_type": "code",
   "execution_count": 34,
   "metadata": {},
   "outputs": [],
   "source": [
    "years = list(dataset['Date_Confirmed'].unique())"
   ]
  },
  {
   "cell_type": "code",
   "execution_count": 35,
   "metadata": {},
   "outputs": [],
   "source": [
    "# Make list of continents\n",
    "\n",
    "regions = []\n",
    "for regions in dataset['Region']:\n",
    "    if regions not in regions:\n",
    "        regions.append(regions)"
   ]
  },
  {
   "cell_type": "code",
   "execution_count": 36,
   "metadata": {},
   "outputs": [],
   "source": [
    "# Make figure\n",
    "\n",
    "fig_dict = {\n",
    "    'data': [],\n",
    "    'layout': {},\n",
    "    'frames': []\n",
    "}"
   ]
  },
  {
   "cell_type": "code",
   "execution_count": 37,
   "metadata": {},
   "outputs": [],
   "source": [
    "# Fill in most of layout\n",
    "\n",
    "fig_dict['layout']['xaxis'] = {'title': 'casos totales', 'type': 'log'}\n",
    "fig_dict['layout']['yaxis'] = {'title': 'casos diarios', 'type': 'log'}\n",
    "fig_dict['layout']['hovermode'] = 'closest'\n",
    "fig_dict['layout']['sliders'] = {\n",
    "    'args': [\n",
    "        'transition', {\n",
    "            'duration': 400,\n",
    "            'easing': 'cubic-in-out'\n",
    "        }\n",
    "    ],\n",
    "    'initialValue': '15-02-2020',\n",
    "    'plotlycommand': 'animate',\n",
    "    'values': years,\n",
    "    'visible': True\n",
    "    }\n",
    "\n",
    "fig_dict['layout']['updatemenus'] = [\n",
    "    {\n",
    "        'buttons': [\n",
    "            {\n",
    "                'args': [None, {'frame': {'duration': 500, 'redraw': False},\n",
    "                                'fromcurrent': True, 'transition': {'duration': 300,\n",
    "                                                                    'easing': 'quadratic-in-out'}}],\n",
    "                'label': 'Play',\n",
    "                'method': 'animate'\n",
    "            },\n",
    "            {\n",
    "                'args': [[None], {'frame': {'duration': 0, 'redraw': False},\n",
    "                                  'mode': 'immediate',\n",
    "                                  'transition': {'duration': 0}}],\n",
    "                'label': 'Pause',\n",
    "                'method': 'animate'\n",
    "            }\n",
    "        ],\n",
    "        'direction': 'left',\n",
    "        'pad': {'r': 10, 't': 87},\n",
    "        'showactive': False,\n",
    "        'type': 'buttons',\n",
    "        'x': 0.1,\n",
    "        'xanchor': 'right',\n",
    "        'y': 0,\n",
    "        'yanchor': 'top'\n",
    "    }\n",
    "]\n",
    "\n",
    "sliders_dict = {\n",
    "    'active': 0,\n",
    "    'yanchor': 'top',\n",
    "    'xanchor': 'left',\n",
    "    'currentvalue': {\n",
    "        'font': {'size': 20},\n",
    "        'prefix': 'Fecha:',\n",
    "        'visible': True,\n",
    "        'xanchor': 'right'\n",
    "    },\n",
    "    'transition': {'duration': 300, 'easing': 'cubic-in-out'},\n",
    "    'pad': {'b': 10, 't': 50},\n",
    "    'len': 0.9,\n",
    "    'x': 0.1,\n",
    "    'y': 0,\n",
    "    'steps': []\n",
    "}"
   ]
  },
  {
   "cell_type": "code",
   "execution_count": 38,
   "metadata": {},
   "outputs": [],
   "source": [
    "# Make data\n",
    "\n",
    "year = '15-02-2020'\n",
    "\n",
    "for region in regions:\n",
    "    \n",
    "    dataset_by_year = dataset[dataset['Date_Confirmed'] == year]\n",
    "    dataset_by_year_and_region = dataset_by_year[dataset_by_year['Region'] == region]\n",
    "    \n",
    "    data_dict = {\n",
    "        'x': list(dataset_by_year_and_region['total']),\n",
    "        'y': list(dataset_by_year_and_region['daily']),\n",
    "        'mode': 'markers',\n",
    "        'text': list(dataset_by_year_and_region['Region']),\n",
    "    }\n",
    "    fig_dict['data'].append(data_dict)"
   ]
  },
  {
   "cell_type": "code",
   "execution_count": 41,
   "metadata": {},
   "outputs": [
    {
     "data": {
      "application/vnd.plotly.v1+json": {
       "config": {
        "plotlyServerURL": "https://plot.ly"
       },
       "data": [
        {
         "mode": "markers",
         "text": [],
         "type": "scatter",
         "x": [],
         "y": []
        },
        {
         "mode": "markers",
         "text": [],
         "type": "scatter",
         "x": [],
         "y": []
        },
        {
         "mode": "markers",
         "text": [],
         "type": "scatter",
         "x": [],
         "y": []
        },
        {
         "mode": "markers",
         "text": [],
         "type": "scatter",
         "x": [],
         "y": []
        },
        {
         "mode": "markers",
         "text": [],
         "type": "scatter",
         "x": [],
         "y": []
        },
        {
         "mode": "markers",
         "text": [],
         "type": "scatter",
         "x": [],
         "y": []
        },
        {
         "mode": "markers",
         "text": [],
         "type": "scatter",
         "x": [],
         "y": []
        },
        {
         "mode": "markers",
         "text": [],
         "type": "scatter",
         "x": [],
         "y": []
        },
        {
         "mode": "markers",
         "text": [],
         "type": "scatter",
         "x": [],
         "y": []
        }
       ],
       "frames": [
        {
         "data": [
          {
           "mode": "lines",
           "name": "M",
           "text": [],
           "type": "scatter",
           "x": [],
           "y": []
          },
          {
           "mode": "lines",
           "name": "e",
           "text": [],
           "type": "scatter",
           "x": [],
           "y": []
          },
          {
           "mode": "lines",
           "name": "x",
           "text": [],
           "type": "scatter",
           "x": [],
           "y": []
          },
          {
           "mode": "lines",
           "name": "i",
           "text": [],
           "type": "scatter",
           "x": [],
           "y": []
          },
          {
           "mode": "lines",
           "name": "c",
           "text": [],
           "type": "scatter",
           "x": [],
           "y": []
          },
          {
           "mode": "lines",
           "name": "o",
           "text": [],
           "type": "scatter",
           "x": [],
           "y": []
          },
          {
           "mode": "lines",
           "name": "_",
           "text": [],
           "type": "scatter",
           "x": [],
           "y": []
          },
          {
           "mode": "lines",
           "name": "S",
           "text": [],
           "type": "scatter",
           "x": [],
           "y": []
          },
          {
           "mode": "lines",
           "name": "S",
           "text": [],
           "type": "scatter",
           "x": [],
           "y": []
          }
         ],
         "name": "15-02-2020"
        },
        {
         "data": [
          {
           "mode": "lines",
           "name": "M",
           "text": [],
           "type": "scatter",
           "x": [],
           "y": []
          },
          {
           "mode": "lines",
           "name": "e",
           "text": [],
           "type": "scatter",
           "x": [],
           "y": []
          },
          {
           "mode": "lines",
           "name": "x",
           "text": [],
           "type": "scatter",
           "x": [],
           "y": []
          },
          {
           "mode": "lines",
           "name": "i",
           "text": [],
           "type": "scatter",
           "x": [],
           "y": []
          },
          {
           "mode": "lines",
           "name": "c",
           "text": [],
           "type": "scatter",
           "x": [],
           "y": []
          },
          {
           "mode": "lines",
           "name": "o",
           "text": [],
           "type": "scatter",
           "x": [],
           "y": []
          },
          {
           "mode": "lines",
           "name": "_",
           "text": [],
           "type": "scatter",
           "x": [],
           "y": []
          },
          {
           "mode": "lines",
           "name": "S",
           "text": [],
           "type": "scatter",
           "x": [],
           "y": []
          },
          {
           "mode": "lines",
           "name": "S",
           "text": [],
           "type": "scatter",
           "x": [],
           "y": []
          }
         ],
         "name": "16-02-2020"
        },
        {
         "data": [
          {
           "mode": "lines",
           "name": "M",
           "text": [],
           "type": "scatter",
           "x": [],
           "y": []
          },
          {
           "mode": "lines",
           "name": "e",
           "text": [],
           "type": "scatter",
           "x": [],
           "y": []
          },
          {
           "mode": "lines",
           "name": "x",
           "text": [],
           "type": "scatter",
           "x": [],
           "y": []
          },
          {
           "mode": "lines",
           "name": "i",
           "text": [],
           "type": "scatter",
           "x": [],
           "y": []
          },
          {
           "mode": "lines",
           "name": "c",
           "text": [],
           "type": "scatter",
           "x": [],
           "y": []
          },
          {
           "mode": "lines",
           "name": "o",
           "text": [],
           "type": "scatter",
           "x": [],
           "y": []
          },
          {
           "mode": "lines",
           "name": "_",
           "text": [],
           "type": "scatter",
           "x": [],
           "y": []
          },
          {
           "mode": "lines",
           "name": "S",
           "text": [],
           "type": "scatter",
           "x": [],
           "y": []
          },
          {
           "mode": "lines",
           "name": "S",
           "text": [],
           "type": "scatter",
           "x": [],
           "y": []
          }
         ],
         "name": "17-02-2020"
        },
        {
         "data": [
          {
           "mode": "lines",
           "name": "M",
           "text": [],
           "type": "scatter",
           "x": [],
           "y": []
          },
          {
           "mode": "lines",
           "name": "e",
           "text": [],
           "type": "scatter",
           "x": [],
           "y": []
          },
          {
           "mode": "lines",
           "name": "x",
           "text": [],
           "type": "scatter",
           "x": [],
           "y": []
          },
          {
           "mode": "lines",
           "name": "i",
           "text": [],
           "type": "scatter",
           "x": [],
           "y": []
          },
          {
           "mode": "lines",
           "name": "c",
           "text": [],
           "type": "scatter",
           "x": [],
           "y": []
          },
          {
           "mode": "lines",
           "name": "o",
           "text": [],
           "type": "scatter",
           "x": [],
           "y": []
          },
          {
           "mode": "lines",
           "name": "_",
           "text": [],
           "type": "scatter",
           "x": [],
           "y": []
          },
          {
           "mode": "lines",
           "name": "S",
           "text": [],
           "type": "scatter",
           "x": [],
           "y": []
          },
          {
           "mode": "lines",
           "name": "S",
           "text": [],
           "type": "scatter",
           "x": [],
           "y": []
          }
         ],
         "name": "18-02-2020"
        },
        {
         "data": [
          {
           "mode": "lines",
           "name": "M",
           "text": [],
           "type": "scatter",
           "x": [],
           "y": []
          },
          {
           "mode": "lines",
           "name": "e",
           "text": [],
           "type": "scatter",
           "x": [],
           "y": []
          },
          {
           "mode": "lines",
           "name": "x",
           "text": [],
           "type": "scatter",
           "x": [],
           "y": []
          },
          {
           "mode": "lines",
           "name": "i",
           "text": [],
           "type": "scatter",
           "x": [],
           "y": []
          },
          {
           "mode": "lines",
           "name": "c",
           "text": [],
           "type": "scatter",
           "x": [],
           "y": []
          },
          {
           "mode": "lines",
           "name": "o",
           "text": [],
           "type": "scatter",
           "x": [],
           "y": []
          },
          {
           "mode": "lines",
           "name": "_",
           "text": [],
           "type": "scatter",
           "x": [],
           "y": []
          },
          {
           "mode": "lines",
           "name": "S",
           "text": [],
           "type": "scatter",
           "x": [],
           "y": []
          },
          {
           "mode": "lines",
           "name": "S",
           "text": [],
           "type": "scatter",
           "x": [],
           "y": []
          }
         ],
         "name": "19-02-2020"
        },
        {
         "data": [
          {
           "mode": "lines",
           "name": "M",
           "text": [],
           "type": "scatter",
           "x": [],
           "y": []
          },
          {
           "mode": "lines",
           "name": "e",
           "text": [],
           "type": "scatter",
           "x": [],
           "y": []
          },
          {
           "mode": "lines",
           "name": "x",
           "text": [],
           "type": "scatter",
           "x": [],
           "y": []
          },
          {
           "mode": "lines",
           "name": "i",
           "text": [],
           "type": "scatter",
           "x": [],
           "y": []
          },
          {
           "mode": "lines",
           "name": "c",
           "text": [],
           "type": "scatter",
           "x": [],
           "y": []
          },
          {
           "mode": "lines",
           "name": "o",
           "text": [],
           "type": "scatter",
           "x": [],
           "y": []
          },
          {
           "mode": "lines",
           "name": "_",
           "text": [],
           "type": "scatter",
           "x": [],
           "y": []
          },
          {
           "mode": "lines",
           "name": "S",
           "text": [],
           "type": "scatter",
           "x": [],
           "y": []
          },
          {
           "mode": "lines",
           "name": "S",
           "text": [],
           "type": "scatter",
           "x": [],
           "y": []
          }
         ],
         "name": "20-02-2020"
        },
        {
         "data": [
          {
           "mode": "lines",
           "name": "M",
           "text": [],
           "type": "scatter",
           "x": [],
           "y": []
          },
          {
           "mode": "lines",
           "name": "e",
           "text": [],
           "type": "scatter",
           "x": [],
           "y": []
          },
          {
           "mode": "lines",
           "name": "x",
           "text": [],
           "type": "scatter",
           "x": [],
           "y": []
          },
          {
           "mode": "lines",
           "name": "i",
           "text": [],
           "type": "scatter",
           "x": [],
           "y": []
          },
          {
           "mode": "lines",
           "name": "c",
           "text": [],
           "type": "scatter",
           "x": [],
           "y": []
          },
          {
           "mode": "lines",
           "name": "o",
           "text": [],
           "type": "scatter",
           "x": [],
           "y": []
          },
          {
           "mode": "lines",
           "name": "_",
           "text": [],
           "type": "scatter",
           "x": [],
           "y": []
          },
          {
           "mode": "lines",
           "name": "S",
           "text": [],
           "type": "scatter",
           "x": [],
           "y": []
          },
          {
           "mode": "lines",
           "name": "S",
           "text": [],
           "type": "scatter",
           "x": [],
           "y": []
          }
         ],
         "name": "21-02-2020"
        },
        {
         "data": [
          {
           "mode": "lines",
           "name": "M",
           "text": [],
           "type": "scatter",
           "x": [],
           "y": []
          },
          {
           "mode": "lines",
           "name": "e",
           "text": [],
           "type": "scatter",
           "x": [],
           "y": []
          },
          {
           "mode": "lines",
           "name": "x",
           "text": [],
           "type": "scatter",
           "x": [],
           "y": []
          },
          {
           "mode": "lines",
           "name": "i",
           "text": [],
           "type": "scatter",
           "x": [],
           "y": []
          },
          {
           "mode": "lines",
           "name": "c",
           "text": [],
           "type": "scatter",
           "x": [],
           "y": []
          },
          {
           "mode": "lines",
           "name": "o",
           "text": [],
           "type": "scatter",
           "x": [],
           "y": []
          },
          {
           "mode": "lines",
           "name": "_",
           "text": [],
           "type": "scatter",
           "x": [],
           "y": []
          },
          {
           "mode": "lines",
           "name": "S",
           "text": [],
           "type": "scatter",
           "x": [],
           "y": []
          },
          {
           "mode": "lines",
           "name": "S",
           "text": [],
           "type": "scatter",
           "x": [],
           "y": []
          }
         ],
         "name": "22-02-2020"
        },
        {
         "data": [
          {
           "mode": "lines",
           "name": "M",
           "text": [],
           "type": "scatter",
           "x": [],
           "y": []
          },
          {
           "mode": "lines",
           "name": "e",
           "text": [],
           "type": "scatter",
           "x": [],
           "y": []
          },
          {
           "mode": "lines",
           "name": "x",
           "text": [],
           "type": "scatter",
           "x": [],
           "y": []
          },
          {
           "mode": "lines",
           "name": "i",
           "text": [],
           "type": "scatter",
           "x": [],
           "y": []
          },
          {
           "mode": "lines",
           "name": "c",
           "text": [],
           "type": "scatter",
           "x": [],
           "y": []
          },
          {
           "mode": "lines",
           "name": "o",
           "text": [],
           "type": "scatter",
           "x": [],
           "y": []
          },
          {
           "mode": "lines",
           "name": "_",
           "text": [],
           "type": "scatter",
           "x": [],
           "y": []
          },
          {
           "mode": "lines",
           "name": "S",
           "text": [],
           "type": "scatter",
           "x": [],
           "y": []
          },
          {
           "mode": "lines",
           "name": "S",
           "text": [],
           "type": "scatter",
           "x": [],
           "y": []
          }
         ],
         "name": "23-02-2020"
        },
        {
         "data": [
          {
           "mode": "lines",
           "name": "M",
           "text": [],
           "type": "scatter",
           "x": [],
           "y": []
          },
          {
           "mode": "lines",
           "name": "e",
           "text": [],
           "type": "scatter",
           "x": [],
           "y": []
          },
          {
           "mode": "lines",
           "name": "x",
           "text": [],
           "type": "scatter",
           "x": [],
           "y": []
          },
          {
           "mode": "lines",
           "name": "i",
           "text": [],
           "type": "scatter",
           "x": [],
           "y": []
          },
          {
           "mode": "lines",
           "name": "c",
           "text": [],
           "type": "scatter",
           "x": [],
           "y": []
          },
          {
           "mode": "lines",
           "name": "o",
           "text": [],
           "type": "scatter",
           "x": [],
           "y": []
          },
          {
           "mode": "lines",
           "name": "_",
           "text": [],
           "type": "scatter",
           "x": [],
           "y": []
          },
          {
           "mode": "lines",
           "name": "S",
           "text": [],
           "type": "scatter",
           "x": [],
           "y": []
          },
          {
           "mode": "lines",
           "name": "S",
           "text": [],
           "type": "scatter",
           "x": [],
           "y": []
          }
         ],
         "name": "24-02-2020"
        },
        {
         "data": [
          {
           "mode": "lines",
           "name": "M",
           "text": [],
           "type": "scatter",
           "x": [],
           "y": []
          },
          {
           "mode": "lines",
           "name": "e",
           "text": [],
           "type": "scatter",
           "x": [],
           "y": []
          },
          {
           "mode": "lines",
           "name": "x",
           "text": [],
           "type": "scatter",
           "x": [],
           "y": []
          },
          {
           "mode": "lines",
           "name": "i",
           "text": [],
           "type": "scatter",
           "x": [],
           "y": []
          },
          {
           "mode": "lines",
           "name": "c",
           "text": [],
           "type": "scatter",
           "x": [],
           "y": []
          },
          {
           "mode": "lines",
           "name": "o",
           "text": [],
           "type": "scatter",
           "x": [],
           "y": []
          },
          {
           "mode": "lines",
           "name": "_",
           "text": [],
           "type": "scatter",
           "x": [],
           "y": []
          },
          {
           "mode": "lines",
           "name": "S",
           "text": [],
           "type": "scatter",
           "x": [],
           "y": []
          },
          {
           "mode": "lines",
           "name": "S",
           "text": [],
           "type": "scatter",
           "x": [],
           "y": []
          }
         ],
         "name": "25-02-2020"
        },
        {
         "data": [
          {
           "mode": "lines",
           "name": "M",
           "text": [],
           "type": "scatter",
           "x": [],
           "y": []
          },
          {
           "mode": "lines",
           "name": "e",
           "text": [],
           "type": "scatter",
           "x": [],
           "y": []
          },
          {
           "mode": "lines",
           "name": "x",
           "text": [],
           "type": "scatter",
           "x": [],
           "y": []
          },
          {
           "mode": "lines",
           "name": "i",
           "text": [],
           "type": "scatter",
           "x": [],
           "y": []
          },
          {
           "mode": "lines",
           "name": "c",
           "text": [],
           "type": "scatter",
           "x": [],
           "y": []
          },
          {
           "mode": "lines",
           "name": "o",
           "text": [],
           "type": "scatter",
           "x": [],
           "y": []
          },
          {
           "mode": "lines",
           "name": "_",
           "text": [],
           "type": "scatter",
           "x": [],
           "y": []
          },
          {
           "mode": "lines",
           "name": "S",
           "text": [],
           "type": "scatter",
           "x": [],
           "y": []
          },
          {
           "mode": "lines",
           "name": "S",
           "text": [],
           "type": "scatter",
           "x": [],
           "y": []
          }
         ],
         "name": "26-02-2020"
        },
        {
         "data": [
          {
           "mode": "lines",
           "name": "M",
           "text": [],
           "type": "scatter",
           "x": [],
           "y": []
          },
          {
           "mode": "lines",
           "name": "e",
           "text": [],
           "type": "scatter",
           "x": [],
           "y": []
          },
          {
           "mode": "lines",
           "name": "x",
           "text": [],
           "type": "scatter",
           "x": [],
           "y": []
          },
          {
           "mode": "lines",
           "name": "i",
           "text": [],
           "type": "scatter",
           "x": [],
           "y": []
          },
          {
           "mode": "lines",
           "name": "c",
           "text": [],
           "type": "scatter",
           "x": [],
           "y": []
          },
          {
           "mode": "lines",
           "name": "o",
           "text": [],
           "type": "scatter",
           "x": [],
           "y": []
          },
          {
           "mode": "lines",
           "name": "_",
           "text": [],
           "type": "scatter",
           "x": [],
           "y": []
          },
          {
           "mode": "lines",
           "name": "S",
           "text": [],
           "type": "scatter",
           "x": [],
           "y": []
          },
          {
           "mode": "lines",
           "name": "S",
           "text": [],
           "type": "scatter",
           "x": [],
           "y": []
          }
         ],
         "name": "27-02-2020"
        },
        {
         "data": [
          {
           "mode": "lines",
           "name": "M",
           "text": [],
           "type": "scatter",
           "x": [],
           "y": []
          },
          {
           "mode": "lines",
           "name": "e",
           "text": [],
           "type": "scatter",
           "x": [],
           "y": []
          },
          {
           "mode": "lines",
           "name": "x",
           "text": [],
           "type": "scatter",
           "x": [],
           "y": []
          },
          {
           "mode": "lines",
           "name": "i",
           "text": [],
           "type": "scatter",
           "x": [],
           "y": []
          },
          {
           "mode": "lines",
           "name": "c",
           "text": [],
           "type": "scatter",
           "x": [],
           "y": []
          },
          {
           "mode": "lines",
           "name": "o",
           "text": [],
           "type": "scatter",
           "x": [],
           "y": []
          },
          {
           "mode": "lines",
           "name": "_",
           "text": [],
           "type": "scatter",
           "x": [],
           "y": []
          },
          {
           "mode": "lines",
           "name": "S",
           "text": [],
           "type": "scatter",
           "x": [],
           "y": []
          },
          {
           "mode": "lines",
           "name": "S",
           "text": [],
           "type": "scatter",
           "x": [],
           "y": []
          }
         ],
         "name": "28-02-2020"
        },
        {
         "data": [
          {
           "mode": "lines",
           "name": "M",
           "text": [],
           "type": "scatter",
           "x": [],
           "y": []
          },
          {
           "mode": "lines",
           "name": "e",
           "text": [],
           "type": "scatter",
           "x": [],
           "y": []
          },
          {
           "mode": "lines",
           "name": "x",
           "text": [],
           "type": "scatter",
           "x": [],
           "y": []
          },
          {
           "mode": "lines",
           "name": "i",
           "text": [],
           "type": "scatter",
           "x": [],
           "y": []
          },
          {
           "mode": "lines",
           "name": "c",
           "text": [],
           "type": "scatter",
           "x": [],
           "y": []
          },
          {
           "mode": "lines",
           "name": "o",
           "text": [],
           "type": "scatter",
           "x": [],
           "y": []
          },
          {
           "mode": "lines",
           "name": "_",
           "text": [],
           "type": "scatter",
           "x": [],
           "y": []
          },
          {
           "mode": "lines",
           "name": "S",
           "text": [],
           "type": "scatter",
           "x": [],
           "y": []
          },
          {
           "mode": "lines",
           "name": "S",
           "text": [],
           "type": "scatter",
           "x": [],
           "y": []
          }
         ],
         "name": "29-02-2020"
        },
        {
         "data": [
          {
           "mode": "lines",
           "name": "M",
           "text": [],
           "type": "scatter",
           "x": [],
           "y": []
          },
          {
           "mode": "lines",
           "name": "e",
           "text": [],
           "type": "scatter",
           "x": [],
           "y": []
          },
          {
           "mode": "lines",
           "name": "x",
           "text": [],
           "type": "scatter",
           "x": [],
           "y": []
          },
          {
           "mode": "lines",
           "name": "i",
           "text": [],
           "type": "scatter",
           "x": [],
           "y": []
          },
          {
           "mode": "lines",
           "name": "c",
           "text": [],
           "type": "scatter",
           "x": [],
           "y": []
          },
          {
           "mode": "lines",
           "name": "o",
           "text": [],
           "type": "scatter",
           "x": [],
           "y": []
          },
          {
           "mode": "lines",
           "name": "_",
           "text": [],
           "type": "scatter",
           "x": [],
           "y": []
          },
          {
           "mode": "lines",
           "name": "S",
           "text": [],
           "type": "scatter",
           "x": [],
           "y": []
          },
          {
           "mode": "lines",
           "name": "S",
           "text": [],
           "type": "scatter",
           "x": [],
           "y": []
          }
         ],
         "name": "01-03-2020"
        },
        {
         "data": [
          {
           "mode": "lines",
           "name": "M",
           "text": [],
           "type": "scatter",
           "x": [],
           "y": []
          },
          {
           "mode": "lines",
           "name": "e",
           "text": [],
           "type": "scatter",
           "x": [],
           "y": []
          },
          {
           "mode": "lines",
           "name": "x",
           "text": [],
           "type": "scatter",
           "x": [],
           "y": []
          },
          {
           "mode": "lines",
           "name": "i",
           "text": [],
           "type": "scatter",
           "x": [],
           "y": []
          },
          {
           "mode": "lines",
           "name": "c",
           "text": [],
           "type": "scatter",
           "x": [],
           "y": []
          },
          {
           "mode": "lines",
           "name": "o",
           "text": [],
           "type": "scatter",
           "x": [],
           "y": []
          },
          {
           "mode": "lines",
           "name": "_",
           "text": [],
           "type": "scatter",
           "x": [],
           "y": []
          },
          {
           "mode": "lines",
           "name": "S",
           "text": [],
           "type": "scatter",
           "x": [],
           "y": []
          },
          {
           "mode": "lines",
           "name": "S",
           "text": [],
           "type": "scatter",
           "x": [],
           "y": []
          }
         ],
         "name": "02-03-2020"
        },
        {
         "data": [
          {
           "mode": "lines",
           "name": "M",
           "text": [],
           "type": "scatter",
           "x": [],
           "y": []
          },
          {
           "mode": "lines",
           "name": "e",
           "text": [],
           "type": "scatter",
           "x": [],
           "y": []
          },
          {
           "mode": "lines",
           "name": "x",
           "text": [],
           "type": "scatter",
           "x": [],
           "y": []
          },
          {
           "mode": "lines",
           "name": "i",
           "text": [],
           "type": "scatter",
           "x": [],
           "y": []
          },
          {
           "mode": "lines",
           "name": "c",
           "text": [],
           "type": "scatter",
           "x": [],
           "y": []
          },
          {
           "mode": "lines",
           "name": "o",
           "text": [],
           "type": "scatter",
           "x": [],
           "y": []
          },
          {
           "mode": "lines",
           "name": "_",
           "text": [],
           "type": "scatter",
           "x": [],
           "y": []
          },
          {
           "mode": "lines",
           "name": "S",
           "text": [],
           "type": "scatter",
           "x": [],
           "y": []
          },
          {
           "mode": "lines",
           "name": "S",
           "text": [],
           "type": "scatter",
           "x": [],
           "y": []
          }
         ],
         "name": "03-03-2020"
        },
        {
         "data": [
          {
           "mode": "lines",
           "name": "M",
           "text": [],
           "type": "scatter",
           "x": [],
           "y": []
          },
          {
           "mode": "lines",
           "name": "e",
           "text": [],
           "type": "scatter",
           "x": [],
           "y": []
          },
          {
           "mode": "lines",
           "name": "x",
           "text": [],
           "type": "scatter",
           "x": [],
           "y": []
          },
          {
           "mode": "lines",
           "name": "i",
           "text": [],
           "type": "scatter",
           "x": [],
           "y": []
          },
          {
           "mode": "lines",
           "name": "c",
           "text": [],
           "type": "scatter",
           "x": [],
           "y": []
          },
          {
           "mode": "lines",
           "name": "o",
           "text": [],
           "type": "scatter",
           "x": [],
           "y": []
          },
          {
           "mode": "lines",
           "name": "_",
           "text": [],
           "type": "scatter",
           "x": [],
           "y": []
          },
          {
           "mode": "lines",
           "name": "S",
           "text": [],
           "type": "scatter",
           "x": [],
           "y": []
          },
          {
           "mode": "lines",
           "name": "S",
           "text": [],
           "type": "scatter",
           "x": [],
           "y": []
          }
         ],
         "name": "04-03-2020"
        },
        {
         "data": [
          {
           "mode": "lines",
           "name": "M",
           "text": [],
           "type": "scatter",
           "x": [],
           "y": []
          },
          {
           "mode": "lines",
           "name": "e",
           "text": [],
           "type": "scatter",
           "x": [],
           "y": []
          },
          {
           "mode": "lines",
           "name": "x",
           "text": [],
           "type": "scatter",
           "x": [],
           "y": []
          },
          {
           "mode": "lines",
           "name": "i",
           "text": [],
           "type": "scatter",
           "x": [],
           "y": []
          },
          {
           "mode": "lines",
           "name": "c",
           "text": [],
           "type": "scatter",
           "x": [],
           "y": []
          },
          {
           "mode": "lines",
           "name": "o",
           "text": [],
           "type": "scatter",
           "x": [],
           "y": []
          },
          {
           "mode": "lines",
           "name": "_",
           "text": [],
           "type": "scatter",
           "x": [],
           "y": []
          },
          {
           "mode": "lines",
           "name": "S",
           "text": [],
           "type": "scatter",
           "x": [],
           "y": []
          },
          {
           "mode": "lines",
           "name": "S",
           "text": [],
           "type": "scatter",
           "x": [],
           "y": []
          }
         ],
         "name": "05-03-2020"
        },
        {
         "data": [
          {
           "mode": "lines",
           "name": "M",
           "text": [],
           "type": "scatter",
           "x": [],
           "y": []
          },
          {
           "mode": "lines",
           "name": "e",
           "text": [],
           "type": "scatter",
           "x": [],
           "y": []
          },
          {
           "mode": "lines",
           "name": "x",
           "text": [],
           "type": "scatter",
           "x": [],
           "y": []
          },
          {
           "mode": "lines",
           "name": "i",
           "text": [],
           "type": "scatter",
           "x": [],
           "y": []
          },
          {
           "mode": "lines",
           "name": "c",
           "text": [],
           "type": "scatter",
           "x": [],
           "y": []
          },
          {
           "mode": "lines",
           "name": "o",
           "text": [],
           "type": "scatter",
           "x": [],
           "y": []
          },
          {
           "mode": "lines",
           "name": "_",
           "text": [],
           "type": "scatter",
           "x": [],
           "y": []
          },
          {
           "mode": "lines",
           "name": "S",
           "text": [],
           "type": "scatter",
           "x": [],
           "y": []
          },
          {
           "mode": "lines",
           "name": "S",
           "text": [],
           "type": "scatter",
           "x": [],
           "y": []
          }
         ],
         "name": "06-03-2020"
        },
        {
         "data": [
          {
           "mode": "lines",
           "name": "M",
           "text": [],
           "type": "scatter",
           "x": [],
           "y": []
          },
          {
           "mode": "lines",
           "name": "e",
           "text": [],
           "type": "scatter",
           "x": [],
           "y": []
          },
          {
           "mode": "lines",
           "name": "x",
           "text": [],
           "type": "scatter",
           "x": [],
           "y": []
          },
          {
           "mode": "lines",
           "name": "i",
           "text": [],
           "type": "scatter",
           "x": [],
           "y": []
          },
          {
           "mode": "lines",
           "name": "c",
           "text": [],
           "type": "scatter",
           "x": [],
           "y": []
          },
          {
           "mode": "lines",
           "name": "o",
           "text": [],
           "type": "scatter",
           "x": [],
           "y": []
          },
          {
           "mode": "lines",
           "name": "_",
           "text": [],
           "type": "scatter",
           "x": [],
           "y": []
          },
          {
           "mode": "lines",
           "name": "S",
           "text": [],
           "type": "scatter",
           "x": [],
           "y": []
          },
          {
           "mode": "lines",
           "name": "S",
           "text": [],
           "type": "scatter",
           "x": [],
           "y": []
          }
         ],
         "name": "07-03-2020"
        },
        {
         "data": [
          {
           "mode": "lines",
           "name": "M",
           "text": [],
           "type": "scatter",
           "x": [],
           "y": []
          },
          {
           "mode": "lines",
           "name": "e",
           "text": [],
           "type": "scatter",
           "x": [],
           "y": []
          },
          {
           "mode": "lines",
           "name": "x",
           "text": [],
           "type": "scatter",
           "x": [],
           "y": []
          },
          {
           "mode": "lines",
           "name": "i",
           "text": [],
           "type": "scatter",
           "x": [],
           "y": []
          },
          {
           "mode": "lines",
           "name": "c",
           "text": [],
           "type": "scatter",
           "x": [],
           "y": []
          },
          {
           "mode": "lines",
           "name": "o",
           "text": [],
           "type": "scatter",
           "x": [],
           "y": []
          },
          {
           "mode": "lines",
           "name": "_",
           "text": [],
           "type": "scatter",
           "x": [],
           "y": []
          },
          {
           "mode": "lines",
           "name": "S",
           "text": [],
           "type": "scatter",
           "x": [],
           "y": []
          },
          {
           "mode": "lines",
           "name": "S",
           "text": [],
           "type": "scatter",
           "x": [],
           "y": []
          }
         ],
         "name": "08-03-2020"
        },
        {
         "data": [
          {
           "mode": "lines",
           "name": "M",
           "text": [],
           "type": "scatter",
           "x": [],
           "y": []
          },
          {
           "mode": "lines",
           "name": "e",
           "text": [],
           "type": "scatter",
           "x": [],
           "y": []
          },
          {
           "mode": "lines",
           "name": "x",
           "text": [],
           "type": "scatter",
           "x": [],
           "y": []
          },
          {
           "mode": "lines",
           "name": "i",
           "text": [],
           "type": "scatter",
           "x": [],
           "y": []
          },
          {
           "mode": "lines",
           "name": "c",
           "text": [],
           "type": "scatter",
           "x": [],
           "y": []
          },
          {
           "mode": "lines",
           "name": "o",
           "text": [],
           "type": "scatter",
           "x": [],
           "y": []
          },
          {
           "mode": "lines",
           "name": "_",
           "text": [],
           "type": "scatter",
           "x": [],
           "y": []
          },
          {
           "mode": "lines",
           "name": "S",
           "text": [],
           "type": "scatter",
           "x": [],
           "y": []
          },
          {
           "mode": "lines",
           "name": "S",
           "text": [],
           "type": "scatter",
           "x": [],
           "y": []
          }
         ],
         "name": "09-03-2020"
        },
        {
         "data": [
          {
           "mode": "lines",
           "name": "M",
           "text": [],
           "type": "scatter",
           "x": [],
           "y": []
          },
          {
           "mode": "lines",
           "name": "e",
           "text": [],
           "type": "scatter",
           "x": [],
           "y": []
          },
          {
           "mode": "lines",
           "name": "x",
           "text": [],
           "type": "scatter",
           "x": [],
           "y": []
          },
          {
           "mode": "lines",
           "name": "i",
           "text": [],
           "type": "scatter",
           "x": [],
           "y": []
          },
          {
           "mode": "lines",
           "name": "c",
           "text": [],
           "type": "scatter",
           "x": [],
           "y": []
          },
          {
           "mode": "lines",
           "name": "o",
           "text": [],
           "type": "scatter",
           "x": [],
           "y": []
          },
          {
           "mode": "lines",
           "name": "_",
           "text": [],
           "type": "scatter",
           "x": [],
           "y": []
          },
          {
           "mode": "lines",
           "name": "S",
           "text": [],
           "type": "scatter",
           "x": [],
           "y": []
          },
          {
           "mode": "lines",
           "name": "S",
           "text": [],
           "type": "scatter",
           "x": [],
           "y": []
          }
         ],
         "name": "10-03-2020"
        },
        {
         "data": [
          {
           "mode": "lines",
           "name": "M",
           "text": [],
           "type": "scatter",
           "x": [],
           "y": []
          },
          {
           "mode": "lines",
           "name": "e",
           "text": [],
           "type": "scatter",
           "x": [],
           "y": []
          },
          {
           "mode": "lines",
           "name": "x",
           "text": [],
           "type": "scatter",
           "x": [],
           "y": []
          },
          {
           "mode": "lines",
           "name": "i",
           "text": [],
           "type": "scatter",
           "x": [],
           "y": []
          },
          {
           "mode": "lines",
           "name": "c",
           "text": [],
           "type": "scatter",
           "x": [],
           "y": []
          },
          {
           "mode": "lines",
           "name": "o",
           "text": [],
           "type": "scatter",
           "x": [],
           "y": []
          },
          {
           "mode": "lines",
           "name": "_",
           "text": [],
           "type": "scatter",
           "x": [],
           "y": []
          },
          {
           "mode": "lines",
           "name": "S",
           "text": [],
           "type": "scatter",
           "x": [],
           "y": []
          },
          {
           "mode": "lines",
           "name": "S",
           "text": [],
           "type": "scatter",
           "x": [],
           "y": []
          }
         ],
         "name": "11-03-2020"
        },
        {
         "data": [
          {
           "mode": "lines",
           "name": "M",
           "text": [],
           "type": "scatter",
           "x": [],
           "y": []
          },
          {
           "mode": "lines",
           "name": "e",
           "text": [],
           "type": "scatter",
           "x": [],
           "y": []
          },
          {
           "mode": "lines",
           "name": "x",
           "text": [],
           "type": "scatter",
           "x": [],
           "y": []
          },
          {
           "mode": "lines",
           "name": "i",
           "text": [],
           "type": "scatter",
           "x": [],
           "y": []
          },
          {
           "mode": "lines",
           "name": "c",
           "text": [],
           "type": "scatter",
           "x": [],
           "y": []
          },
          {
           "mode": "lines",
           "name": "o",
           "text": [],
           "type": "scatter",
           "x": [],
           "y": []
          },
          {
           "mode": "lines",
           "name": "_",
           "text": [],
           "type": "scatter",
           "x": [],
           "y": []
          },
          {
           "mode": "lines",
           "name": "S",
           "text": [],
           "type": "scatter",
           "x": [],
           "y": []
          },
          {
           "mode": "lines",
           "name": "S",
           "text": [],
           "type": "scatter",
           "x": [],
           "y": []
          }
         ],
         "name": "12-03-2020"
        },
        {
         "data": [
          {
           "mode": "lines",
           "name": "M",
           "text": [],
           "type": "scatter",
           "x": [],
           "y": []
          },
          {
           "mode": "lines",
           "name": "e",
           "text": [],
           "type": "scatter",
           "x": [],
           "y": []
          },
          {
           "mode": "lines",
           "name": "x",
           "text": [],
           "type": "scatter",
           "x": [],
           "y": []
          },
          {
           "mode": "lines",
           "name": "i",
           "text": [],
           "type": "scatter",
           "x": [],
           "y": []
          },
          {
           "mode": "lines",
           "name": "c",
           "text": [],
           "type": "scatter",
           "x": [],
           "y": []
          },
          {
           "mode": "lines",
           "name": "o",
           "text": [],
           "type": "scatter",
           "x": [],
           "y": []
          },
          {
           "mode": "lines",
           "name": "_",
           "text": [],
           "type": "scatter",
           "x": [],
           "y": []
          },
          {
           "mode": "lines",
           "name": "S",
           "text": [],
           "type": "scatter",
           "x": [],
           "y": []
          },
          {
           "mode": "lines",
           "name": "S",
           "text": [],
           "type": "scatter",
           "x": [],
           "y": []
          }
         ],
         "name": "13-03-2020"
        },
        {
         "data": [
          {
           "mode": "lines",
           "name": "M",
           "text": [],
           "type": "scatter",
           "x": [],
           "y": []
          },
          {
           "mode": "lines",
           "name": "e",
           "text": [],
           "type": "scatter",
           "x": [],
           "y": []
          },
          {
           "mode": "lines",
           "name": "x",
           "text": [],
           "type": "scatter",
           "x": [],
           "y": []
          },
          {
           "mode": "lines",
           "name": "i",
           "text": [],
           "type": "scatter",
           "x": [],
           "y": []
          },
          {
           "mode": "lines",
           "name": "c",
           "text": [],
           "type": "scatter",
           "x": [],
           "y": []
          },
          {
           "mode": "lines",
           "name": "o",
           "text": [],
           "type": "scatter",
           "x": [],
           "y": []
          },
          {
           "mode": "lines",
           "name": "_",
           "text": [],
           "type": "scatter",
           "x": [],
           "y": []
          },
          {
           "mode": "lines",
           "name": "S",
           "text": [],
           "type": "scatter",
           "x": [],
           "y": []
          },
          {
           "mode": "lines",
           "name": "S",
           "text": [],
           "type": "scatter",
           "x": [],
           "y": []
          }
         ],
         "name": "14-03-2020"
        },
        {
         "data": [
          {
           "mode": "lines",
           "name": "M",
           "text": [],
           "type": "scatter",
           "x": [],
           "y": []
          },
          {
           "mode": "lines",
           "name": "e",
           "text": [],
           "type": "scatter",
           "x": [],
           "y": []
          },
          {
           "mode": "lines",
           "name": "x",
           "text": [],
           "type": "scatter",
           "x": [],
           "y": []
          },
          {
           "mode": "lines",
           "name": "i",
           "text": [],
           "type": "scatter",
           "x": [],
           "y": []
          },
          {
           "mode": "lines",
           "name": "c",
           "text": [],
           "type": "scatter",
           "x": [],
           "y": []
          },
          {
           "mode": "lines",
           "name": "o",
           "text": [],
           "type": "scatter",
           "x": [],
           "y": []
          },
          {
           "mode": "lines",
           "name": "_",
           "text": [],
           "type": "scatter",
           "x": [],
           "y": []
          },
          {
           "mode": "lines",
           "name": "S",
           "text": [],
           "type": "scatter",
           "x": [],
           "y": []
          },
          {
           "mode": "lines",
           "name": "S",
           "text": [],
           "type": "scatter",
           "x": [],
           "y": []
          }
         ],
         "name": "15-03-2020"
        },
        {
         "data": [
          {
           "mode": "lines",
           "name": "M",
           "text": [],
           "type": "scatter",
           "x": [],
           "y": []
          },
          {
           "mode": "lines",
           "name": "e",
           "text": [],
           "type": "scatter",
           "x": [],
           "y": []
          },
          {
           "mode": "lines",
           "name": "x",
           "text": [],
           "type": "scatter",
           "x": [],
           "y": []
          },
          {
           "mode": "lines",
           "name": "i",
           "text": [],
           "type": "scatter",
           "x": [],
           "y": []
          },
          {
           "mode": "lines",
           "name": "c",
           "text": [],
           "type": "scatter",
           "x": [],
           "y": []
          },
          {
           "mode": "lines",
           "name": "o",
           "text": [],
           "type": "scatter",
           "x": [],
           "y": []
          },
          {
           "mode": "lines",
           "name": "_",
           "text": [],
           "type": "scatter",
           "x": [],
           "y": []
          },
          {
           "mode": "lines",
           "name": "S",
           "text": [],
           "type": "scatter",
           "x": [],
           "y": []
          },
          {
           "mode": "lines",
           "name": "S",
           "text": [],
           "type": "scatter",
           "x": [],
           "y": []
          }
         ],
         "name": "16-03-2020"
        },
        {
         "data": [
          {
           "mode": "lines",
           "name": "M",
           "text": [],
           "type": "scatter",
           "x": [],
           "y": []
          },
          {
           "mode": "lines",
           "name": "e",
           "text": [],
           "type": "scatter",
           "x": [],
           "y": []
          },
          {
           "mode": "lines",
           "name": "x",
           "text": [],
           "type": "scatter",
           "x": [],
           "y": []
          },
          {
           "mode": "lines",
           "name": "i",
           "text": [],
           "type": "scatter",
           "x": [],
           "y": []
          },
          {
           "mode": "lines",
           "name": "c",
           "text": [],
           "type": "scatter",
           "x": [],
           "y": []
          },
          {
           "mode": "lines",
           "name": "o",
           "text": [],
           "type": "scatter",
           "x": [],
           "y": []
          },
          {
           "mode": "lines",
           "name": "_",
           "text": [],
           "type": "scatter",
           "x": [],
           "y": []
          },
          {
           "mode": "lines",
           "name": "S",
           "text": [],
           "type": "scatter",
           "x": [],
           "y": []
          },
          {
           "mode": "lines",
           "name": "S",
           "text": [],
           "type": "scatter",
           "x": [],
           "y": []
          }
         ],
         "name": "17-03-2020"
        },
        {
         "data": [
          {
           "mode": "lines",
           "name": "M",
           "text": [],
           "type": "scatter",
           "x": [],
           "y": []
          },
          {
           "mode": "lines",
           "name": "e",
           "text": [],
           "type": "scatter",
           "x": [],
           "y": []
          },
          {
           "mode": "lines",
           "name": "x",
           "text": [],
           "type": "scatter",
           "x": [],
           "y": []
          },
          {
           "mode": "lines",
           "name": "i",
           "text": [],
           "type": "scatter",
           "x": [],
           "y": []
          },
          {
           "mode": "lines",
           "name": "c",
           "text": [],
           "type": "scatter",
           "x": [],
           "y": []
          },
          {
           "mode": "lines",
           "name": "o",
           "text": [],
           "type": "scatter",
           "x": [],
           "y": []
          },
          {
           "mode": "lines",
           "name": "_",
           "text": [],
           "type": "scatter",
           "x": [],
           "y": []
          },
          {
           "mode": "lines",
           "name": "S",
           "text": [],
           "type": "scatter",
           "x": [],
           "y": []
          },
          {
           "mode": "lines",
           "name": "S",
           "text": [],
           "type": "scatter",
           "x": [],
           "y": []
          }
         ],
         "name": "18-03-2020"
        },
        {
         "data": [
          {
           "mode": "lines",
           "name": "M",
           "text": [],
           "type": "scatter",
           "x": [],
           "y": []
          },
          {
           "mode": "lines",
           "name": "e",
           "text": [],
           "type": "scatter",
           "x": [],
           "y": []
          },
          {
           "mode": "lines",
           "name": "x",
           "text": [],
           "type": "scatter",
           "x": [],
           "y": []
          },
          {
           "mode": "lines",
           "name": "i",
           "text": [],
           "type": "scatter",
           "x": [],
           "y": []
          },
          {
           "mode": "lines",
           "name": "c",
           "text": [],
           "type": "scatter",
           "x": [],
           "y": []
          },
          {
           "mode": "lines",
           "name": "o",
           "text": [],
           "type": "scatter",
           "x": [],
           "y": []
          },
          {
           "mode": "lines",
           "name": "_",
           "text": [],
           "type": "scatter",
           "x": [],
           "y": []
          },
          {
           "mode": "lines",
           "name": "S",
           "text": [],
           "type": "scatter",
           "x": [],
           "y": []
          },
          {
           "mode": "lines",
           "name": "S",
           "text": [],
           "type": "scatter",
           "x": [],
           "y": []
          }
         ],
         "name": "19-03-2020"
        },
        {
         "data": [
          {
           "mode": "lines",
           "name": "M",
           "text": [],
           "type": "scatter",
           "x": [],
           "y": []
          },
          {
           "mode": "lines",
           "name": "e",
           "text": [],
           "type": "scatter",
           "x": [],
           "y": []
          },
          {
           "mode": "lines",
           "name": "x",
           "text": [],
           "type": "scatter",
           "x": [],
           "y": []
          },
          {
           "mode": "lines",
           "name": "i",
           "text": [],
           "type": "scatter",
           "x": [],
           "y": []
          },
          {
           "mode": "lines",
           "name": "c",
           "text": [],
           "type": "scatter",
           "x": [],
           "y": []
          },
          {
           "mode": "lines",
           "name": "o",
           "text": [],
           "type": "scatter",
           "x": [],
           "y": []
          },
          {
           "mode": "lines",
           "name": "_",
           "text": [],
           "type": "scatter",
           "x": [],
           "y": []
          },
          {
           "mode": "lines",
           "name": "S",
           "text": [],
           "type": "scatter",
           "x": [],
           "y": []
          },
          {
           "mode": "lines",
           "name": "S",
           "text": [],
           "type": "scatter",
           "x": [],
           "y": []
          }
         ],
         "name": "20-03-2020"
        },
        {
         "data": [
          {
           "mode": "lines",
           "name": "M",
           "text": [],
           "type": "scatter",
           "x": [],
           "y": []
          },
          {
           "mode": "lines",
           "name": "e",
           "text": [],
           "type": "scatter",
           "x": [],
           "y": []
          },
          {
           "mode": "lines",
           "name": "x",
           "text": [],
           "type": "scatter",
           "x": [],
           "y": []
          },
          {
           "mode": "lines",
           "name": "i",
           "text": [],
           "type": "scatter",
           "x": [],
           "y": []
          },
          {
           "mode": "lines",
           "name": "c",
           "text": [],
           "type": "scatter",
           "x": [],
           "y": []
          },
          {
           "mode": "lines",
           "name": "o",
           "text": [],
           "type": "scatter",
           "x": [],
           "y": []
          },
          {
           "mode": "lines",
           "name": "_",
           "text": [],
           "type": "scatter",
           "x": [],
           "y": []
          },
          {
           "mode": "lines",
           "name": "S",
           "text": [],
           "type": "scatter",
           "x": [],
           "y": []
          },
          {
           "mode": "lines",
           "name": "S",
           "text": [],
           "type": "scatter",
           "x": [],
           "y": []
          }
         ],
         "name": "21-03-2020"
        },
        {
         "data": [
          {
           "mode": "lines",
           "name": "M",
           "text": [],
           "type": "scatter",
           "x": [],
           "y": []
          },
          {
           "mode": "lines",
           "name": "e",
           "text": [],
           "type": "scatter",
           "x": [],
           "y": []
          },
          {
           "mode": "lines",
           "name": "x",
           "text": [],
           "type": "scatter",
           "x": [],
           "y": []
          },
          {
           "mode": "lines",
           "name": "i",
           "text": [],
           "type": "scatter",
           "x": [],
           "y": []
          },
          {
           "mode": "lines",
           "name": "c",
           "text": [],
           "type": "scatter",
           "x": [],
           "y": []
          },
          {
           "mode": "lines",
           "name": "o",
           "text": [],
           "type": "scatter",
           "x": [],
           "y": []
          },
          {
           "mode": "lines",
           "name": "_",
           "text": [],
           "type": "scatter",
           "x": [],
           "y": []
          },
          {
           "mode": "lines",
           "name": "S",
           "text": [],
           "type": "scatter",
           "x": [],
           "y": []
          },
          {
           "mode": "lines",
           "name": "S",
           "text": [],
           "type": "scatter",
           "x": [],
           "y": []
          }
         ],
         "name": "22-03-2020"
        },
        {
         "data": [
          {
           "mode": "lines",
           "name": "M",
           "text": [],
           "type": "scatter",
           "x": [],
           "y": []
          },
          {
           "mode": "lines",
           "name": "e",
           "text": [],
           "type": "scatter",
           "x": [],
           "y": []
          },
          {
           "mode": "lines",
           "name": "x",
           "text": [],
           "type": "scatter",
           "x": [],
           "y": []
          },
          {
           "mode": "lines",
           "name": "i",
           "text": [],
           "type": "scatter",
           "x": [],
           "y": []
          },
          {
           "mode": "lines",
           "name": "c",
           "text": [],
           "type": "scatter",
           "x": [],
           "y": []
          },
          {
           "mode": "lines",
           "name": "o",
           "text": [],
           "type": "scatter",
           "x": [],
           "y": []
          },
          {
           "mode": "lines",
           "name": "_",
           "text": [],
           "type": "scatter",
           "x": [],
           "y": []
          },
          {
           "mode": "lines",
           "name": "S",
           "text": [],
           "type": "scatter",
           "x": [],
           "y": []
          },
          {
           "mode": "lines",
           "name": "S",
           "text": [],
           "type": "scatter",
           "x": [],
           "y": []
          }
         ],
         "name": "23-03-2020"
        },
        {
         "data": [
          {
           "mode": "lines",
           "name": "M",
           "text": [],
           "type": "scatter",
           "x": [],
           "y": []
          },
          {
           "mode": "lines",
           "name": "e",
           "text": [],
           "type": "scatter",
           "x": [],
           "y": []
          },
          {
           "mode": "lines",
           "name": "x",
           "text": [],
           "type": "scatter",
           "x": [],
           "y": []
          },
          {
           "mode": "lines",
           "name": "i",
           "text": [],
           "type": "scatter",
           "x": [],
           "y": []
          },
          {
           "mode": "lines",
           "name": "c",
           "text": [],
           "type": "scatter",
           "x": [],
           "y": []
          },
          {
           "mode": "lines",
           "name": "o",
           "text": [],
           "type": "scatter",
           "x": [],
           "y": []
          },
          {
           "mode": "lines",
           "name": "_",
           "text": [],
           "type": "scatter",
           "x": [],
           "y": []
          },
          {
           "mode": "lines",
           "name": "S",
           "text": [],
           "type": "scatter",
           "x": [],
           "y": []
          },
          {
           "mode": "lines",
           "name": "S",
           "text": [],
           "type": "scatter",
           "x": [],
           "y": []
          }
         ],
         "name": "24-03-2020"
        },
        {
         "data": [
          {
           "mode": "lines",
           "name": "M",
           "text": [],
           "type": "scatter",
           "x": [],
           "y": []
          },
          {
           "mode": "lines",
           "name": "e",
           "text": [],
           "type": "scatter",
           "x": [],
           "y": []
          },
          {
           "mode": "lines",
           "name": "x",
           "text": [],
           "type": "scatter",
           "x": [],
           "y": []
          },
          {
           "mode": "lines",
           "name": "i",
           "text": [],
           "type": "scatter",
           "x": [],
           "y": []
          },
          {
           "mode": "lines",
           "name": "c",
           "text": [],
           "type": "scatter",
           "x": [],
           "y": []
          },
          {
           "mode": "lines",
           "name": "o",
           "text": [],
           "type": "scatter",
           "x": [],
           "y": []
          },
          {
           "mode": "lines",
           "name": "_",
           "text": [],
           "type": "scatter",
           "x": [],
           "y": []
          },
          {
           "mode": "lines",
           "name": "S",
           "text": [],
           "type": "scatter",
           "x": [],
           "y": []
          },
          {
           "mode": "lines",
           "name": "S",
           "text": [],
           "type": "scatter",
           "x": [],
           "y": []
          }
         ],
         "name": "25-03-2020"
        },
        {
         "data": [
          {
           "mode": "lines",
           "name": "M",
           "text": [],
           "type": "scatter",
           "x": [],
           "y": []
          },
          {
           "mode": "lines",
           "name": "e",
           "text": [],
           "type": "scatter",
           "x": [],
           "y": []
          },
          {
           "mode": "lines",
           "name": "x",
           "text": [],
           "type": "scatter",
           "x": [],
           "y": []
          },
          {
           "mode": "lines",
           "name": "i",
           "text": [],
           "type": "scatter",
           "x": [],
           "y": []
          },
          {
           "mode": "lines",
           "name": "c",
           "text": [],
           "type": "scatter",
           "x": [],
           "y": []
          },
          {
           "mode": "lines",
           "name": "o",
           "text": [],
           "type": "scatter",
           "x": [],
           "y": []
          },
          {
           "mode": "lines",
           "name": "_",
           "text": [],
           "type": "scatter",
           "x": [],
           "y": []
          },
          {
           "mode": "lines",
           "name": "S",
           "text": [],
           "type": "scatter",
           "x": [],
           "y": []
          },
          {
           "mode": "lines",
           "name": "S",
           "text": [],
           "type": "scatter",
           "x": [],
           "y": []
          }
         ],
         "name": "26-03-2020"
        },
        {
         "data": [
          {
           "mode": "lines",
           "name": "M",
           "text": [],
           "type": "scatter",
           "x": [],
           "y": []
          },
          {
           "mode": "lines",
           "name": "e",
           "text": [],
           "type": "scatter",
           "x": [],
           "y": []
          },
          {
           "mode": "lines",
           "name": "x",
           "text": [],
           "type": "scatter",
           "x": [],
           "y": []
          },
          {
           "mode": "lines",
           "name": "i",
           "text": [],
           "type": "scatter",
           "x": [],
           "y": []
          },
          {
           "mode": "lines",
           "name": "c",
           "text": [],
           "type": "scatter",
           "x": [],
           "y": []
          },
          {
           "mode": "lines",
           "name": "o",
           "text": [],
           "type": "scatter",
           "x": [],
           "y": []
          },
          {
           "mode": "lines",
           "name": "_",
           "text": [],
           "type": "scatter",
           "x": [],
           "y": []
          },
          {
           "mode": "lines",
           "name": "S",
           "text": [],
           "type": "scatter",
           "x": [],
           "y": []
          },
          {
           "mode": "lines",
           "name": "S",
           "text": [],
           "type": "scatter",
           "x": [],
           "y": []
          }
         ],
         "name": "27-03-2020"
        },
        {
         "data": [
          {
           "mode": "lines",
           "name": "M",
           "text": [],
           "type": "scatter",
           "x": [],
           "y": []
          },
          {
           "mode": "lines",
           "name": "e",
           "text": [],
           "type": "scatter",
           "x": [],
           "y": []
          },
          {
           "mode": "lines",
           "name": "x",
           "text": [],
           "type": "scatter",
           "x": [],
           "y": []
          },
          {
           "mode": "lines",
           "name": "i",
           "text": [],
           "type": "scatter",
           "x": [],
           "y": []
          },
          {
           "mode": "lines",
           "name": "c",
           "text": [],
           "type": "scatter",
           "x": [],
           "y": []
          },
          {
           "mode": "lines",
           "name": "o",
           "text": [],
           "type": "scatter",
           "x": [],
           "y": []
          },
          {
           "mode": "lines",
           "name": "_",
           "text": [],
           "type": "scatter",
           "x": [],
           "y": []
          },
          {
           "mode": "lines",
           "name": "S",
           "text": [],
           "type": "scatter",
           "x": [],
           "y": []
          },
          {
           "mode": "lines",
           "name": "S",
           "text": [],
           "type": "scatter",
           "x": [],
           "y": []
          }
         ],
         "name": "28-03-2020"
        },
        {
         "data": [
          {
           "mode": "lines",
           "name": "M",
           "text": [],
           "type": "scatter",
           "x": [],
           "y": []
          },
          {
           "mode": "lines",
           "name": "e",
           "text": [],
           "type": "scatter",
           "x": [],
           "y": []
          },
          {
           "mode": "lines",
           "name": "x",
           "text": [],
           "type": "scatter",
           "x": [],
           "y": []
          },
          {
           "mode": "lines",
           "name": "i",
           "text": [],
           "type": "scatter",
           "x": [],
           "y": []
          },
          {
           "mode": "lines",
           "name": "c",
           "text": [],
           "type": "scatter",
           "x": [],
           "y": []
          },
          {
           "mode": "lines",
           "name": "o",
           "text": [],
           "type": "scatter",
           "x": [],
           "y": []
          },
          {
           "mode": "lines",
           "name": "_",
           "text": [],
           "type": "scatter",
           "x": [],
           "y": []
          },
          {
           "mode": "lines",
           "name": "S",
           "text": [],
           "type": "scatter",
           "x": [],
           "y": []
          },
          {
           "mode": "lines",
           "name": "S",
           "text": [],
           "type": "scatter",
           "x": [],
           "y": []
          }
         ],
         "name": "29-03-2020"
        },
        {
         "data": [
          {
           "mode": "lines",
           "name": "M",
           "text": [],
           "type": "scatter",
           "x": [],
           "y": []
          },
          {
           "mode": "lines",
           "name": "e",
           "text": [],
           "type": "scatter",
           "x": [],
           "y": []
          },
          {
           "mode": "lines",
           "name": "x",
           "text": [],
           "type": "scatter",
           "x": [],
           "y": []
          },
          {
           "mode": "lines",
           "name": "i",
           "text": [],
           "type": "scatter",
           "x": [],
           "y": []
          },
          {
           "mode": "lines",
           "name": "c",
           "text": [],
           "type": "scatter",
           "x": [],
           "y": []
          },
          {
           "mode": "lines",
           "name": "o",
           "text": [],
           "type": "scatter",
           "x": [],
           "y": []
          },
          {
           "mode": "lines",
           "name": "_",
           "text": [],
           "type": "scatter",
           "x": [],
           "y": []
          },
          {
           "mode": "lines",
           "name": "S",
           "text": [],
           "type": "scatter",
           "x": [],
           "y": []
          },
          {
           "mode": "lines",
           "name": "S",
           "text": [],
           "type": "scatter",
           "x": [],
           "y": []
          }
         ],
         "name": "30-03-2020"
        },
        {
         "data": [
          {
           "mode": "lines",
           "name": "M",
           "text": [],
           "type": "scatter",
           "x": [],
           "y": []
          },
          {
           "mode": "lines",
           "name": "e",
           "text": [],
           "type": "scatter",
           "x": [],
           "y": []
          },
          {
           "mode": "lines",
           "name": "x",
           "text": [],
           "type": "scatter",
           "x": [],
           "y": []
          },
          {
           "mode": "lines",
           "name": "i",
           "text": [],
           "type": "scatter",
           "x": [],
           "y": []
          },
          {
           "mode": "lines",
           "name": "c",
           "text": [],
           "type": "scatter",
           "x": [],
           "y": []
          },
          {
           "mode": "lines",
           "name": "o",
           "text": [],
           "type": "scatter",
           "x": [],
           "y": []
          },
          {
           "mode": "lines",
           "name": "_",
           "text": [],
           "type": "scatter",
           "x": [],
           "y": []
          },
          {
           "mode": "lines",
           "name": "S",
           "text": [],
           "type": "scatter",
           "x": [],
           "y": []
          },
          {
           "mode": "lines",
           "name": "S",
           "text": [],
           "type": "scatter",
           "x": [],
           "y": []
          }
         ],
         "name": "31-03-2020"
        },
        {
         "data": [
          {
           "mode": "lines",
           "name": "M",
           "text": [],
           "type": "scatter",
           "x": [],
           "y": []
          },
          {
           "mode": "lines",
           "name": "e",
           "text": [],
           "type": "scatter",
           "x": [],
           "y": []
          },
          {
           "mode": "lines",
           "name": "x",
           "text": [],
           "type": "scatter",
           "x": [],
           "y": []
          },
          {
           "mode": "lines",
           "name": "i",
           "text": [],
           "type": "scatter",
           "x": [],
           "y": []
          },
          {
           "mode": "lines",
           "name": "c",
           "text": [],
           "type": "scatter",
           "x": [],
           "y": []
          },
          {
           "mode": "lines",
           "name": "o",
           "text": [],
           "type": "scatter",
           "x": [],
           "y": []
          },
          {
           "mode": "lines",
           "name": "_",
           "text": [],
           "type": "scatter",
           "x": [],
           "y": []
          },
          {
           "mode": "lines",
           "name": "S",
           "text": [],
           "type": "scatter",
           "x": [],
           "y": []
          },
          {
           "mode": "lines",
           "name": "S",
           "text": [],
           "type": "scatter",
           "x": [],
           "y": []
          }
         ],
         "name": "01-04-2020"
        },
        {
         "data": [
          {
           "mode": "lines",
           "name": "M",
           "text": [],
           "type": "scatter",
           "x": [],
           "y": []
          },
          {
           "mode": "lines",
           "name": "e",
           "text": [],
           "type": "scatter",
           "x": [],
           "y": []
          },
          {
           "mode": "lines",
           "name": "x",
           "text": [],
           "type": "scatter",
           "x": [],
           "y": []
          },
          {
           "mode": "lines",
           "name": "i",
           "text": [],
           "type": "scatter",
           "x": [],
           "y": []
          },
          {
           "mode": "lines",
           "name": "c",
           "text": [],
           "type": "scatter",
           "x": [],
           "y": []
          },
          {
           "mode": "lines",
           "name": "o",
           "text": [],
           "type": "scatter",
           "x": [],
           "y": []
          },
          {
           "mode": "lines",
           "name": "_",
           "text": [],
           "type": "scatter",
           "x": [],
           "y": []
          },
          {
           "mode": "lines",
           "name": "S",
           "text": [],
           "type": "scatter",
           "x": [],
           "y": []
          },
          {
           "mode": "lines",
           "name": "S",
           "text": [],
           "type": "scatter",
           "x": [],
           "y": []
          }
         ],
         "name": "02-04-2020"
        },
        {
         "data": [
          {
           "mode": "lines",
           "name": "M",
           "text": [],
           "type": "scatter",
           "x": [],
           "y": []
          },
          {
           "mode": "lines",
           "name": "e",
           "text": [],
           "type": "scatter",
           "x": [],
           "y": []
          },
          {
           "mode": "lines",
           "name": "x",
           "text": [],
           "type": "scatter",
           "x": [],
           "y": []
          },
          {
           "mode": "lines",
           "name": "i",
           "text": [],
           "type": "scatter",
           "x": [],
           "y": []
          },
          {
           "mode": "lines",
           "name": "c",
           "text": [],
           "type": "scatter",
           "x": [],
           "y": []
          },
          {
           "mode": "lines",
           "name": "o",
           "text": [],
           "type": "scatter",
           "x": [],
           "y": []
          },
          {
           "mode": "lines",
           "name": "_",
           "text": [],
           "type": "scatter",
           "x": [],
           "y": []
          },
          {
           "mode": "lines",
           "name": "S",
           "text": [],
           "type": "scatter",
           "x": [],
           "y": []
          },
          {
           "mode": "lines",
           "name": "S",
           "text": [],
           "type": "scatter",
           "x": [],
           "y": []
          }
         ],
         "name": "03-04-2020"
        },
        {
         "data": [
          {
           "mode": "lines",
           "name": "M",
           "text": [],
           "type": "scatter",
           "x": [],
           "y": []
          },
          {
           "mode": "lines",
           "name": "e",
           "text": [],
           "type": "scatter",
           "x": [],
           "y": []
          },
          {
           "mode": "lines",
           "name": "x",
           "text": [],
           "type": "scatter",
           "x": [],
           "y": []
          },
          {
           "mode": "lines",
           "name": "i",
           "text": [],
           "type": "scatter",
           "x": [],
           "y": []
          },
          {
           "mode": "lines",
           "name": "c",
           "text": [],
           "type": "scatter",
           "x": [],
           "y": []
          },
          {
           "mode": "lines",
           "name": "o",
           "text": [],
           "type": "scatter",
           "x": [],
           "y": []
          },
          {
           "mode": "lines",
           "name": "_",
           "text": [],
           "type": "scatter",
           "x": [],
           "y": []
          },
          {
           "mode": "lines",
           "name": "S",
           "text": [],
           "type": "scatter",
           "x": [],
           "y": []
          },
          {
           "mode": "lines",
           "name": "S",
           "text": [],
           "type": "scatter",
           "x": [],
           "y": []
          }
         ],
         "name": "04-04-2020"
        },
        {
         "data": [
          {
           "mode": "lines",
           "name": "M",
           "text": [],
           "type": "scatter",
           "x": [],
           "y": []
          },
          {
           "mode": "lines",
           "name": "e",
           "text": [],
           "type": "scatter",
           "x": [],
           "y": []
          },
          {
           "mode": "lines",
           "name": "x",
           "text": [],
           "type": "scatter",
           "x": [],
           "y": []
          },
          {
           "mode": "lines",
           "name": "i",
           "text": [],
           "type": "scatter",
           "x": [],
           "y": []
          },
          {
           "mode": "lines",
           "name": "c",
           "text": [],
           "type": "scatter",
           "x": [],
           "y": []
          },
          {
           "mode": "lines",
           "name": "o",
           "text": [],
           "type": "scatter",
           "x": [],
           "y": []
          },
          {
           "mode": "lines",
           "name": "_",
           "text": [],
           "type": "scatter",
           "x": [],
           "y": []
          },
          {
           "mode": "lines",
           "name": "S",
           "text": [],
           "type": "scatter",
           "x": [],
           "y": []
          },
          {
           "mode": "lines",
           "name": "S",
           "text": [],
           "type": "scatter",
           "x": [],
           "y": []
          }
         ],
         "name": "05-04-2020"
        },
        {
         "data": [
          {
           "mode": "lines",
           "name": "M",
           "text": [],
           "type": "scatter",
           "x": [],
           "y": []
          },
          {
           "mode": "lines",
           "name": "e",
           "text": [],
           "type": "scatter",
           "x": [],
           "y": []
          },
          {
           "mode": "lines",
           "name": "x",
           "text": [],
           "type": "scatter",
           "x": [],
           "y": []
          },
          {
           "mode": "lines",
           "name": "i",
           "text": [],
           "type": "scatter",
           "x": [],
           "y": []
          },
          {
           "mode": "lines",
           "name": "c",
           "text": [],
           "type": "scatter",
           "x": [],
           "y": []
          },
          {
           "mode": "lines",
           "name": "o",
           "text": [],
           "type": "scatter",
           "x": [],
           "y": []
          },
          {
           "mode": "lines",
           "name": "_",
           "text": [],
           "type": "scatter",
           "x": [],
           "y": []
          },
          {
           "mode": "lines",
           "name": "S",
           "text": [],
           "type": "scatter",
           "x": [],
           "y": []
          },
          {
           "mode": "lines",
           "name": "S",
           "text": [],
           "type": "scatter",
           "x": [],
           "y": []
          }
         ],
         "name": "06-04-2020"
        },
        {
         "data": [
          {
           "mode": "lines",
           "name": "M",
           "text": [],
           "type": "scatter",
           "x": [],
           "y": []
          },
          {
           "mode": "lines",
           "name": "e",
           "text": [],
           "type": "scatter",
           "x": [],
           "y": []
          },
          {
           "mode": "lines",
           "name": "x",
           "text": [],
           "type": "scatter",
           "x": [],
           "y": []
          },
          {
           "mode": "lines",
           "name": "i",
           "text": [],
           "type": "scatter",
           "x": [],
           "y": []
          },
          {
           "mode": "lines",
           "name": "c",
           "text": [],
           "type": "scatter",
           "x": [],
           "y": []
          },
          {
           "mode": "lines",
           "name": "o",
           "text": [],
           "type": "scatter",
           "x": [],
           "y": []
          },
          {
           "mode": "lines",
           "name": "_",
           "text": [],
           "type": "scatter",
           "x": [],
           "y": []
          },
          {
           "mode": "lines",
           "name": "S",
           "text": [],
           "type": "scatter",
           "x": [],
           "y": []
          },
          {
           "mode": "lines",
           "name": "S",
           "text": [],
           "type": "scatter",
           "x": [],
           "y": []
          }
         ],
         "name": "07-04-2020"
        },
        {
         "data": [
          {
           "mode": "lines",
           "name": "M",
           "text": [],
           "type": "scatter",
           "x": [],
           "y": []
          },
          {
           "mode": "lines",
           "name": "e",
           "text": [],
           "type": "scatter",
           "x": [],
           "y": []
          },
          {
           "mode": "lines",
           "name": "x",
           "text": [],
           "type": "scatter",
           "x": [],
           "y": []
          },
          {
           "mode": "lines",
           "name": "i",
           "text": [],
           "type": "scatter",
           "x": [],
           "y": []
          },
          {
           "mode": "lines",
           "name": "c",
           "text": [],
           "type": "scatter",
           "x": [],
           "y": []
          },
          {
           "mode": "lines",
           "name": "o",
           "text": [],
           "type": "scatter",
           "x": [],
           "y": []
          },
          {
           "mode": "lines",
           "name": "_",
           "text": [],
           "type": "scatter",
           "x": [],
           "y": []
          },
          {
           "mode": "lines",
           "name": "S",
           "text": [],
           "type": "scatter",
           "x": [],
           "y": []
          },
          {
           "mode": "lines",
           "name": "S",
           "text": [],
           "type": "scatter",
           "x": [],
           "y": []
          }
         ],
         "name": "08-04-2020"
        },
        {
         "data": [
          {
           "mode": "lines",
           "name": "M",
           "text": [],
           "type": "scatter",
           "x": [],
           "y": []
          },
          {
           "mode": "lines",
           "name": "e",
           "text": [],
           "type": "scatter",
           "x": [],
           "y": []
          },
          {
           "mode": "lines",
           "name": "x",
           "text": [],
           "type": "scatter",
           "x": [],
           "y": []
          },
          {
           "mode": "lines",
           "name": "i",
           "text": [],
           "type": "scatter",
           "x": [],
           "y": []
          },
          {
           "mode": "lines",
           "name": "c",
           "text": [],
           "type": "scatter",
           "x": [],
           "y": []
          },
          {
           "mode": "lines",
           "name": "o",
           "text": [],
           "type": "scatter",
           "x": [],
           "y": []
          },
          {
           "mode": "lines",
           "name": "_",
           "text": [],
           "type": "scatter",
           "x": [],
           "y": []
          },
          {
           "mode": "lines",
           "name": "S",
           "text": [],
           "type": "scatter",
           "x": [],
           "y": []
          },
          {
           "mode": "lines",
           "name": "S",
           "text": [],
           "type": "scatter",
           "x": [],
           "y": []
          }
         ],
         "name": "09-04-2020"
        },
        {
         "data": [
          {
           "mode": "lines",
           "name": "M",
           "text": [],
           "type": "scatter",
           "x": [],
           "y": []
          },
          {
           "mode": "lines",
           "name": "e",
           "text": [],
           "type": "scatter",
           "x": [],
           "y": []
          },
          {
           "mode": "lines",
           "name": "x",
           "text": [],
           "type": "scatter",
           "x": [],
           "y": []
          },
          {
           "mode": "lines",
           "name": "i",
           "text": [],
           "type": "scatter",
           "x": [],
           "y": []
          },
          {
           "mode": "lines",
           "name": "c",
           "text": [],
           "type": "scatter",
           "x": [],
           "y": []
          },
          {
           "mode": "lines",
           "name": "o",
           "text": [],
           "type": "scatter",
           "x": [],
           "y": []
          },
          {
           "mode": "lines",
           "name": "_",
           "text": [],
           "type": "scatter",
           "x": [],
           "y": []
          },
          {
           "mode": "lines",
           "name": "S",
           "text": [],
           "type": "scatter",
           "x": [],
           "y": []
          },
          {
           "mode": "lines",
           "name": "S",
           "text": [],
           "type": "scatter",
           "x": [],
           "y": []
          }
         ],
         "name": "10-04-2020"
        },
        {
         "data": [
          {
           "mode": "lines",
           "name": "M",
           "text": [],
           "type": "scatter",
           "x": [],
           "y": []
          },
          {
           "mode": "lines",
           "name": "e",
           "text": [],
           "type": "scatter",
           "x": [],
           "y": []
          },
          {
           "mode": "lines",
           "name": "x",
           "text": [],
           "type": "scatter",
           "x": [],
           "y": []
          },
          {
           "mode": "lines",
           "name": "i",
           "text": [],
           "type": "scatter",
           "x": [],
           "y": []
          },
          {
           "mode": "lines",
           "name": "c",
           "text": [],
           "type": "scatter",
           "x": [],
           "y": []
          },
          {
           "mode": "lines",
           "name": "o",
           "text": [],
           "type": "scatter",
           "x": [],
           "y": []
          },
          {
           "mode": "lines",
           "name": "_",
           "text": [],
           "type": "scatter",
           "x": [],
           "y": []
          },
          {
           "mode": "lines",
           "name": "S",
           "text": [],
           "type": "scatter",
           "x": [],
           "y": []
          },
          {
           "mode": "lines",
           "name": "S",
           "text": [],
           "type": "scatter",
           "x": [],
           "y": []
          }
         ],
         "name": "11-04-2020"
        },
        {
         "data": [
          {
           "mode": "lines",
           "name": "M",
           "text": [],
           "type": "scatter",
           "x": [],
           "y": []
          },
          {
           "mode": "lines",
           "name": "e",
           "text": [],
           "type": "scatter",
           "x": [],
           "y": []
          },
          {
           "mode": "lines",
           "name": "x",
           "text": [],
           "type": "scatter",
           "x": [],
           "y": []
          },
          {
           "mode": "lines",
           "name": "i",
           "text": [],
           "type": "scatter",
           "x": [],
           "y": []
          },
          {
           "mode": "lines",
           "name": "c",
           "text": [],
           "type": "scatter",
           "x": [],
           "y": []
          },
          {
           "mode": "lines",
           "name": "o",
           "text": [],
           "type": "scatter",
           "x": [],
           "y": []
          },
          {
           "mode": "lines",
           "name": "_",
           "text": [],
           "type": "scatter",
           "x": [],
           "y": []
          },
          {
           "mode": "lines",
           "name": "S",
           "text": [],
           "type": "scatter",
           "x": [],
           "y": []
          },
          {
           "mode": "lines",
           "name": "S",
           "text": [],
           "type": "scatter",
           "x": [],
           "y": []
          }
         ],
         "name": "12-04-2020"
        },
        {
         "data": [
          {
           "mode": "lines",
           "name": "M",
           "text": [],
           "type": "scatter",
           "x": [],
           "y": []
          },
          {
           "mode": "lines",
           "name": "e",
           "text": [],
           "type": "scatter",
           "x": [],
           "y": []
          },
          {
           "mode": "lines",
           "name": "x",
           "text": [],
           "type": "scatter",
           "x": [],
           "y": []
          },
          {
           "mode": "lines",
           "name": "i",
           "text": [],
           "type": "scatter",
           "x": [],
           "y": []
          },
          {
           "mode": "lines",
           "name": "c",
           "text": [],
           "type": "scatter",
           "x": [],
           "y": []
          },
          {
           "mode": "lines",
           "name": "o",
           "text": [],
           "type": "scatter",
           "x": [],
           "y": []
          },
          {
           "mode": "lines",
           "name": "_",
           "text": [],
           "type": "scatter",
           "x": [],
           "y": []
          },
          {
           "mode": "lines",
           "name": "S",
           "text": [],
           "type": "scatter",
           "x": [],
           "y": []
          },
          {
           "mode": "lines",
           "name": "S",
           "text": [],
           "type": "scatter",
           "x": [],
           "y": []
          }
         ],
         "name": "13-04-2020"
        },
        {
         "data": [
          {
           "mode": "lines",
           "name": "M",
           "text": [],
           "type": "scatter",
           "x": [],
           "y": []
          },
          {
           "mode": "lines",
           "name": "e",
           "text": [],
           "type": "scatter",
           "x": [],
           "y": []
          },
          {
           "mode": "lines",
           "name": "x",
           "text": [],
           "type": "scatter",
           "x": [],
           "y": []
          },
          {
           "mode": "lines",
           "name": "i",
           "text": [],
           "type": "scatter",
           "x": [],
           "y": []
          },
          {
           "mode": "lines",
           "name": "c",
           "text": [],
           "type": "scatter",
           "x": [],
           "y": []
          },
          {
           "mode": "lines",
           "name": "o",
           "text": [],
           "type": "scatter",
           "x": [],
           "y": []
          },
          {
           "mode": "lines",
           "name": "_",
           "text": [],
           "type": "scatter",
           "x": [],
           "y": []
          },
          {
           "mode": "lines",
           "name": "S",
           "text": [],
           "type": "scatter",
           "x": [],
           "y": []
          },
          {
           "mode": "lines",
           "name": "S",
           "text": [],
           "type": "scatter",
           "x": [],
           "y": []
          }
         ],
         "name": "14-04-2020"
        },
        {
         "data": [
          {
           "mode": "lines",
           "name": "M",
           "text": [],
           "type": "scatter",
           "x": [],
           "y": []
          },
          {
           "mode": "lines",
           "name": "e",
           "text": [],
           "type": "scatter",
           "x": [],
           "y": []
          },
          {
           "mode": "lines",
           "name": "x",
           "text": [],
           "type": "scatter",
           "x": [],
           "y": []
          },
          {
           "mode": "lines",
           "name": "i",
           "text": [],
           "type": "scatter",
           "x": [],
           "y": []
          },
          {
           "mode": "lines",
           "name": "c",
           "text": [],
           "type": "scatter",
           "x": [],
           "y": []
          },
          {
           "mode": "lines",
           "name": "o",
           "text": [],
           "type": "scatter",
           "x": [],
           "y": []
          },
          {
           "mode": "lines",
           "name": "_",
           "text": [],
           "type": "scatter",
           "x": [],
           "y": []
          },
          {
           "mode": "lines",
           "name": "S",
           "text": [],
           "type": "scatter",
           "x": [],
           "y": []
          },
          {
           "mode": "lines",
           "name": "S",
           "text": [],
           "type": "scatter",
           "x": [],
           "y": []
          }
         ],
         "name": "15-04-2020"
        },
        {
         "data": [
          {
           "mode": "lines",
           "name": "M",
           "text": [],
           "type": "scatter",
           "x": [],
           "y": []
          },
          {
           "mode": "lines",
           "name": "e",
           "text": [],
           "type": "scatter",
           "x": [],
           "y": []
          },
          {
           "mode": "lines",
           "name": "x",
           "text": [],
           "type": "scatter",
           "x": [],
           "y": []
          },
          {
           "mode": "lines",
           "name": "i",
           "text": [],
           "type": "scatter",
           "x": [],
           "y": []
          },
          {
           "mode": "lines",
           "name": "c",
           "text": [],
           "type": "scatter",
           "x": [],
           "y": []
          },
          {
           "mode": "lines",
           "name": "o",
           "text": [],
           "type": "scatter",
           "x": [],
           "y": []
          },
          {
           "mode": "lines",
           "name": "_",
           "text": [],
           "type": "scatter",
           "x": [],
           "y": []
          },
          {
           "mode": "lines",
           "name": "S",
           "text": [],
           "type": "scatter",
           "x": [],
           "y": []
          },
          {
           "mode": "lines",
           "name": "S",
           "text": [],
           "type": "scatter",
           "x": [],
           "y": []
          }
         ],
         "name": "16-04-2020"
        },
        {
         "data": [
          {
           "mode": "lines",
           "name": "M",
           "text": [],
           "type": "scatter",
           "x": [],
           "y": []
          },
          {
           "mode": "lines",
           "name": "e",
           "text": [],
           "type": "scatter",
           "x": [],
           "y": []
          },
          {
           "mode": "lines",
           "name": "x",
           "text": [],
           "type": "scatter",
           "x": [],
           "y": []
          },
          {
           "mode": "lines",
           "name": "i",
           "text": [],
           "type": "scatter",
           "x": [],
           "y": []
          },
          {
           "mode": "lines",
           "name": "c",
           "text": [],
           "type": "scatter",
           "x": [],
           "y": []
          },
          {
           "mode": "lines",
           "name": "o",
           "text": [],
           "type": "scatter",
           "x": [],
           "y": []
          },
          {
           "mode": "lines",
           "name": "_",
           "text": [],
           "type": "scatter",
           "x": [],
           "y": []
          },
          {
           "mode": "lines",
           "name": "S",
           "text": [],
           "type": "scatter",
           "x": [],
           "y": []
          },
          {
           "mode": "lines",
           "name": "S",
           "text": [],
           "type": "scatter",
           "x": [],
           "y": []
          }
         ],
         "name": "17-04-2020"
        },
        {
         "data": [
          {
           "mode": "lines",
           "name": "M",
           "text": [],
           "type": "scatter",
           "x": [],
           "y": []
          },
          {
           "mode": "lines",
           "name": "e",
           "text": [],
           "type": "scatter",
           "x": [],
           "y": []
          },
          {
           "mode": "lines",
           "name": "x",
           "text": [],
           "type": "scatter",
           "x": [],
           "y": []
          },
          {
           "mode": "lines",
           "name": "i",
           "text": [],
           "type": "scatter",
           "x": [],
           "y": []
          },
          {
           "mode": "lines",
           "name": "c",
           "text": [],
           "type": "scatter",
           "x": [],
           "y": []
          },
          {
           "mode": "lines",
           "name": "o",
           "text": [],
           "type": "scatter",
           "x": [],
           "y": []
          },
          {
           "mode": "lines",
           "name": "_",
           "text": [],
           "type": "scatter",
           "x": [],
           "y": []
          },
          {
           "mode": "lines",
           "name": "S",
           "text": [],
           "type": "scatter",
           "x": [],
           "y": []
          },
          {
           "mode": "lines",
           "name": "S",
           "text": [],
           "type": "scatter",
           "x": [],
           "y": []
          }
         ],
         "name": "18-04-2020"
        },
        {
         "data": [
          {
           "mode": "lines",
           "name": "M",
           "text": [],
           "type": "scatter",
           "x": [],
           "y": []
          },
          {
           "mode": "lines",
           "name": "e",
           "text": [],
           "type": "scatter",
           "x": [],
           "y": []
          },
          {
           "mode": "lines",
           "name": "x",
           "text": [],
           "type": "scatter",
           "x": [],
           "y": []
          },
          {
           "mode": "lines",
           "name": "i",
           "text": [],
           "type": "scatter",
           "x": [],
           "y": []
          },
          {
           "mode": "lines",
           "name": "c",
           "text": [],
           "type": "scatter",
           "x": [],
           "y": []
          },
          {
           "mode": "lines",
           "name": "o",
           "text": [],
           "type": "scatter",
           "x": [],
           "y": []
          },
          {
           "mode": "lines",
           "name": "_",
           "text": [],
           "type": "scatter",
           "x": [],
           "y": []
          },
          {
           "mode": "lines",
           "name": "S",
           "text": [],
           "type": "scatter",
           "x": [],
           "y": []
          },
          {
           "mode": "lines",
           "name": "S",
           "text": [],
           "type": "scatter",
           "x": [],
           "y": []
          }
         ],
         "name": "15-02-2020"
        },
        {
         "data": [
          {
           "mode": "lines",
           "name": "M",
           "text": [],
           "type": "scatter",
           "x": [],
           "y": []
          },
          {
           "mode": "lines",
           "name": "e",
           "text": [],
           "type": "scatter",
           "x": [],
           "y": []
          },
          {
           "mode": "lines",
           "name": "x",
           "text": [],
           "type": "scatter",
           "x": [],
           "y": []
          },
          {
           "mode": "lines",
           "name": "i",
           "text": [],
           "type": "scatter",
           "x": [],
           "y": []
          },
          {
           "mode": "lines",
           "name": "c",
           "text": [],
           "type": "scatter",
           "x": [],
           "y": []
          },
          {
           "mode": "lines",
           "name": "o",
           "text": [],
           "type": "scatter",
           "x": [],
           "y": []
          },
          {
           "mode": "lines",
           "name": "_",
           "text": [],
           "type": "scatter",
           "x": [],
           "y": []
          },
          {
           "mode": "lines",
           "name": "S",
           "text": [],
           "type": "scatter",
           "x": [],
           "y": []
          },
          {
           "mode": "lines",
           "name": "S",
           "text": [],
           "type": "scatter",
           "x": [],
           "y": []
          }
         ],
         "name": "16-02-2020"
        },
        {
         "data": [
          {
           "mode": "lines",
           "name": "M",
           "text": [],
           "type": "scatter",
           "x": [],
           "y": []
          },
          {
           "mode": "lines",
           "name": "e",
           "text": [],
           "type": "scatter",
           "x": [],
           "y": []
          },
          {
           "mode": "lines",
           "name": "x",
           "text": [],
           "type": "scatter",
           "x": [],
           "y": []
          },
          {
           "mode": "lines",
           "name": "i",
           "text": [],
           "type": "scatter",
           "x": [],
           "y": []
          },
          {
           "mode": "lines",
           "name": "c",
           "text": [],
           "type": "scatter",
           "x": [],
           "y": []
          },
          {
           "mode": "lines",
           "name": "o",
           "text": [],
           "type": "scatter",
           "x": [],
           "y": []
          },
          {
           "mode": "lines",
           "name": "_",
           "text": [],
           "type": "scatter",
           "x": [],
           "y": []
          },
          {
           "mode": "lines",
           "name": "S",
           "text": [],
           "type": "scatter",
           "x": [],
           "y": []
          },
          {
           "mode": "lines",
           "name": "S",
           "text": [],
           "type": "scatter",
           "x": [],
           "y": []
          }
         ],
         "name": "17-02-2020"
        },
        {
         "data": [
          {
           "mode": "lines",
           "name": "M",
           "text": [],
           "type": "scatter",
           "x": [],
           "y": []
          },
          {
           "mode": "lines",
           "name": "e",
           "text": [],
           "type": "scatter",
           "x": [],
           "y": []
          },
          {
           "mode": "lines",
           "name": "x",
           "text": [],
           "type": "scatter",
           "x": [],
           "y": []
          },
          {
           "mode": "lines",
           "name": "i",
           "text": [],
           "type": "scatter",
           "x": [],
           "y": []
          },
          {
           "mode": "lines",
           "name": "c",
           "text": [],
           "type": "scatter",
           "x": [],
           "y": []
          },
          {
           "mode": "lines",
           "name": "o",
           "text": [],
           "type": "scatter",
           "x": [],
           "y": []
          },
          {
           "mode": "lines",
           "name": "_",
           "text": [],
           "type": "scatter",
           "x": [],
           "y": []
          },
          {
           "mode": "lines",
           "name": "S",
           "text": [],
           "type": "scatter",
           "x": [],
           "y": []
          },
          {
           "mode": "lines",
           "name": "S",
           "text": [],
           "type": "scatter",
           "x": [],
           "y": []
          }
         ],
         "name": "18-02-2020"
        },
        {
         "data": [
          {
           "mode": "lines",
           "name": "M",
           "text": [],
           "type": "scatter",
           "x": [],
           "y": []
          },
          {
           "mode": "lines",
           "name": "e",
           "text": [],
           "type": "scatter",
           "x": [],
           "y": []
          },
          {
           "mode": "lines",
           "name": "x",
           "text": [],
           "type": "scatter",
           "x": [],
           "y": []
          },
          {
           "mode": "lines",
           "name": "i",
           "text": [],
           "type": "scatter",
           "x": [],
           "y": []
          },
          {
           "mode": "lines",
           "name": "c",
           "text": [],
           "type": "scatter",
           "x": [],
           "y": []
          },
          {
           "mode": "lines",
           "name": "o",
           "text": [],
           "type": "scatter",
           "x": [],
           "y": []
          },
          {
           "mode": "lines",
           "name": "_",
           "text": [],
           "type": "scatter",
           "x": [],
           "y": []
          },
          {
           "mode": "lines",
           "name": "S",
           "text": [],
           "type": "scatter",
           "x": [],
           "y": []
          },
          {
           "mode": "lines",
           "name": "S",
           "text": [],
           "type": "scatter",
           "x": [],
           "y": []
          }
         ],
         "name": "19-02-2020"
        },
        {
         "data": [
          {
           "mode": "lines",
           "name": "M",
           "text": [],
           "type": "scatter",
           "x": [],
           "y": []
          },
          {
           "mode": "lines",
           "name": "e",
           "text": [],
           "type": "scatter",
           "x": [],
           "y": []
          },
          {
           "mode": "lines",
           "name": "x",
           "text": [],
           "type": "scatter",
           "x": [],
           "y": []
          },
          {
           "mode": "lines",
           "name": "i",
           "text": [],
           "type": "scatter",
           "x": [],
           "y": []
          },
          {
           "mode": "lines",
           "name": "c",
           "text": [],
           "type": "scatter",
           "x": [],
           "y": []
          },
          {
           "mode": "lines",
           "name": "o",
           "text": [],
           "type": "scatter",
           "x": [],
           "y": []
          },
          {
           "mode": "lines",
           "name": "_",
           "text": [],
           "type": "scatter",
           "x": [],
           "y": []
          },
          {
           "mode": "lines",
           "name": "S",
           "text": [],
           "type": "scatter",
           "x": [],
           "y": []
          },
          {
           "mode": "lines",
           "name": "S",
           "text": [],
           "type": "scatter",
           "x": [],
           "y": []
          }
         ],
         "name": "20-02-2020"
        },
        {
         "data": [
          {
           "mode": "lines",
           "name": "M",
           "text": [],
           "type": "scatter",
           "x": [],
           "y": []
          },
          {
           "mode": "lines",
           "name": "e",
           "text": [],
           "type": "scatter",
           "x": [],
           "y": []
          },
          {
           "mode": "lines",
           "name": "x",
           "text": [],
           "type": "scatter",
           "x": [],
           "y": []
          },
          {
           "mode": "lines",
           "name": "i",
           "text": [],
           "type": "scatter",
           "x": [],
           "y": []
          },
          {
           "mode": "lines",
           "name": "c",
           "text": [],
           "type": "scatter",
           "x": [],
           "y": []
          },
          {
           "mode": "lines",
           "name": "o",
           "text": [],
           "type": "scatter",
           "x": [],
           "y": []
          },
          {
           "mode": "lines",
           "name": "_",
           "text": [],
           "type": "scatter",
           "x": [],
           "y": []
          },
          {
           "mode": "lines",
           "name": "S",
           "text": [],
           "type": "scatter",
           "x": [],
           "y": []
          },
          {
           "mode": "lines",
           "name": "S",
           "text": [],
           "type": "scatter",
           "x": [],
           "y": []
          }
         ],
         "name": "21-02-2020"
        },
        {
         "data": [
          {
           "mode": "lines",
           "name": "M",
           "text": [],
           "type": "scatter",
           "x": [],
           "y": []
          },
          {
           "mode": "lines",
           "name": "e",
           "text": [],
           "type": "scatter",
           "x": [],
           "y": []
          },
          {
           "mode": "lines",
           "name": "x",
           "text": [],
           "type": "scatter",
           "x": [],
           "y": []
          },
          {
           "mode": "lines",
           "name": "i",
           "text": [],
           "type": "scatter",
           "x": [],
           "y": []
          },
          {
           "mode": "lines",
           "name": "c",
           "text": [],
           "type": "scatter",
           "x": [],
           "y": []
          },
          {
           "mode": "lines",
           "name": "o",
           "text": [],
           "type": "scatter",
           "x": [],
           "y": []
          },
          {
           "mode": "lines",
           "name": "_",
           "text": [],
           "type": "scatter",
           "x": [],
           "y": []
          },
          {
           "mode": "lines",
           "name": "S",
           "text": [],
           "type": "scatter",
           "x": [],
           "y": []
          },
          {
           "mode": "lines",
           "name": "S",
           "text": [],
           "type": "scatter",
           "x": [],
           "y": []
          }
         ],
         "name": "22-02-2020"
        },
        {
         "data": [
          {
           "mode": "lines",
           "name": "M",
           "text": [],
           "type": "scatter",
           "x": [],
           "y": []
          },
          {
           "mode": "lines",
           "name": "e",
           "text": [],
           "type": "scatter",
           "x": [],
           "y": []
          },
          {
           "mode": "lines",
           "name": "x",
           "text": [],
           "type": "scatter",
           "x": [],
           "y": []
          },
          {
           "mode": "lines",
           "name": "i",
           "text": [],
           "type": "scatter",
           "x": [],
           "y": []
          },
          {
           "mode": "lines",
           "name": "c",
           "text": [],
           "type": "scatter",
           "x": [],
           "y": []
          },
          {
           "mode": "lines",
           "name": "o",
           "text": [],
           "type": "scatter",
           "x": [],
           "y": []
          },
          {
           "mode": "lines",
           "name": "_",
           "text": [],
           "type": "scatter",
           "x": [],
           "y": []
          },
          {
           "mode": "lines",
           "name": "S",
           "text": [],
           "type": "scatter",
           "x": [],
           "y": []
          },
          {
           "mode": "lines",
           "name": "S",
           "text": [],
           "type": "scatter",
           "x": [],
           "y": []
          }
         ],
         "name": "23-02-2020"
        },
        {
         "data": [
          {
           "mode": "lines",
           "name": "M",
           "text": [],
           "type": "scatter",
           "x": [],
           "y": []
          },
          {
           "mode": "lines",
           "name": "e",
           "text": [],
           "type": "scatter",
           "x": [],
           "y": []
          },
          {
           "mode": "lines",
           "name": "x",
           "text": [],
           "type": "scatter",
           "x": [],
           "y": []
          },
          {
           "mode": "lines",
           "name": "i",
           "text": [],
           "type": "scatter",
           "x": [],
           "y": []
          },
          {
           "mode": "lines",
           "name": "c",
           "text": [],
           "type": "scatter",
           "x": [],
           "y": []
          },
          {
           "mode": "lines",
           "name": "o",
           "text": [],
           "type": "scatter",
           "x": [],
           "y": []
          },
          {
           "mode": "lines",
           "name": "_",
           "text": [],
           "type": "scatter",
           "x": [],
           "y": []
          },
          {
           "mode": "lines",
           "name": "S",
           "text": [],
           "type": "scatter",
           "x": [],
           "y": []
          },
          {
           "mode": "lines",
           "name": "S",
           "text": [],
           "type": "scatter",
           "x": [],
           "y": []
          }
         ],
         "name": "24-02-2020"
        },
        {
         "data": [
          {
           "mode": "lines",
           "name": "M",
           "text": [],
           "type": "scatter",
           "x": [],
           "y": []
          },
          {
           "mode": "lines",
           "name": "e",
           "text": [],
           "type": "scatter",
           "x": [],
           "y": []
          },
          {
           "mode": "lines",
           "name": "x",
           "text": [],
           "type": "scatter",
           "x": [],
           "y": []
          },
          {
           "mode": "lines",
           "name": "i",
           "text": [],
           "type": "scatter",
           "x": [],
           "y": []
          },
          {
           "mode": "lines",
           "name": "c",
           "text": [],
           "type": "scatter",
           "x": [],
           "y": []
          },
          {
           "mode": "lines",
           "name": "o",
           "text": [],
           "type": "scatter",
           "x": [],
           "y": []
          },
          {
           "mode": "lines",
           "name": "_",
           "text": [],
           "type": "scatter",
           "x": [],
           "y": []
          },
          {
           "mode": "lines",
           "name": "S",
           "text": [],
           "type": "scatter",
           "x": [],
           "y": []
          },
          {
           "mode": "lines",
           "name": "S",
           "text": [],
           "type": "scatter",
           "x": [],
           "y": []
          }
         ],
         "name": "25-02-2020"
        },
        {
         "data": [
          {
           "mode": "lines",
           "name": "M",
           "text": [],
           "type": "scatter",
           "x": [],
           "y": []
          },
          {
           "mode": "lines",
           "name": "e",
           "text": [],
           "type": "scatter",
           "x": [],
           "y": []
          },
          {
           "mode": "lines",
           "name": "x",
           "text": [],
           "type": "scatter",
           "x": [],
           "y": []
          },
          {
           "mode": "lines",
           "name": "i",
           "text": [],
           "type": "scatter",
           "x": [],
           "y": []
          },
          {
           "mode": "lines",
           "name": "c",
           "text": [],
           "type": "scatter",
           "x": [],
           "y": []
          },
          {
           "mode": "lines",
           "name": "o",
           "text": [],
           "type": "scatter",
           "x": [],
           "y": []
          },
          {
           "mode": "lines",
           "name": "_",
           "text": [],
           "type": "scatter",
           "x": [],
           "y": []
          },
          {
           "mode": "lines",
           "name": "S",
           "text": [],
           "type": "scatter",
           "x": [],
           "y": []
          },
          {
           "mode": "lines",
           "name": "S",
           "text": [],
           "type": "scatter",
           "x": [],
           "y": []
          }
         ],
         "name": "26-02-2020"
        },
        {
         "data": [
          {
           "mode": "lines",
           "name": "M",
           "text": [],
           "type": "scatter",
           "x": [],
           "y": []
          },
          {
           "mode": "lines",
           "name": "e",
           "text": [],
           "type": "scatter",
           "x": [],
           "y": []
          },
          {
           "mode": "lines",
           "name": "x",
           "text": [],
           "type": "scatter",
           "x": [],
           "y": []
          },
          {
           "mode": "lines",
           "name": "i",
           "text": [],
           "type": "scatter",
           "x": [],
           "y": []
          },
          {
           "mode": "lines",
           "name": "c",
           "text": [],
           "type": "scatter",
           "x": [],
           "y": []
          },
          {
           "mode": "lines",
           "name": "o",
           "text": [],
           "type": "scatter",
           "x": [],
           "y": []
          },
          {
           "mode": "lines",
           "name": "_",
           "text": [],
           "type": "scatter",
           "x": [],
           "y": []
          },
          {
           "mode": "lines",
           "name": "S",
           "text": [],
           "type": "scatter",
           "x": [],
           "y": []
          },
          {
           "mode": "lines",
           "name": "S",
           "text": [],
           "type": "scatter",
           "x": [],
           "y": []
          }
         ],
         "name": "27-02-2020"
        },
        {
         "data": [
          {
           "mode": "lines",
           "name": "M",
           "text": [],
           "type": "scatter",
           "x": [],
           "y": []
          },
          {
           "mode": "lines",
           "name": "e",
           "text": [],
           "type": "scatter",
           "x": [],
           "y": []
          },
          {
           "mode": "lines",
           "name": "x",
           "text": [],
           "type": "scatter",
           "x": [],
           "y": []
          },
          {
           "mode": "lines",
           "name": "i",
           "text": [],
           "type": "scatter",
           "x": [],
           "y": []
          },
          {
           "mode": "lines",
           "name": "c",
           "text": [],
           "type": "scatter",
           "x": [],
           "y": []
          },
          {
           "mode": "lines",
           "name": "o",
           "text": [],
           "type": "scatter",
           "x": [],
           "y": []
          },
          {
           "mode": "lines",
           "name": "_",
           "text": [],
           "type": "scatter",
           "x": [],
           "y": []
          },
          {
           "mode": "lines",
           "name": "S",
           "text": [],
           "type": "scatter",
           "x": [],
           "y": []
          },
          {
           "mode": "lines",
           "name": "S",
           "text": [],
           "type": "scatter",
           "x": [],
           "y": []
          }
         ],
         "name": "28-02-2020"
        },
        {
         "data": [
          {
           "mode": "lines",
           "name": "M",
           "text": [],
           "type": "scatter",
           "x": [],
           "y": []
          },
          {
           "mode": "lines",
           "name": "e",
           "text": [],
           "type": "scatter",
           "x": [],
           "y": []
          },
          {
           "mode": "lines",
           "name": "x",
           "text": [],
           "type": "scatter",
           "x": [],
           "y": []
          },
          {
           "mode": "lines",
           "name": "i",
           "text": [],
           "type": "scatter",
           "x": [],
           "y": []
          },
          {
           "mode": "lines",
           "name": "c",
           "text": [],
           "type": "scatter",
           "x": [],
           "y": []
          },
          {
           "mode": "lines",
           "name": "o",
           "text": [],
           "type": "scatter",
           "x": [],
           "y": []
          },
          {
           "mode": "lines",
           "name": "_",
           "text": [],
           "type": "scatter",
           "x": [],
           "y": []
          },
          {
           "mode": "lines",
           "name": "S",
           "text": [],
           "type": "scatter",
           "x": [],
           "y": []
          },
          {
           "mode": "lines",
           "name": "S",
           "text": [],
           "type": "scatter",
           "x": [],
           "y": []
          }
         ],
         "name": "29-02-2020"
        },
        {
         "data": [
          {
           "mode": "lines",
           "name": "M",
           "text": [],
           "type": "scatter",
           "x": [],
           "y": []
          },
          {
           "mode": "lines",
           "name": "e",
           "text": [],
           "type": "scatter",
           "x": [],
           "y": []
          },
          {
           "mode": "lines",
           "name": "x",
           "text": [],
           "type": "scatter",
           "x": [],
           "y": []
          },
          {
           "mode": "lines",
           "name": "i",
           "text": [],
           "type": "scatter",
           "x": [],
           "y": []
          },
          {
           "mode": "lines",
           "name": "c",
           "text": [],
           "type": "scatter",
           "x": [],
           "y": []
          },
          {
           "mode": "lines",
           "name": "o",
           "text": [],
           "type": "scatter",
           "x": [],
           "y": []
          },
          {
           "mode": "lines",
           "name": "_",
           "text": [],
           "type": "scatter",
           "x": [],
           "y": []
          },
          {
           "mode": "lines",
           "name": "S",
           "text": [],
           "type": "scatter",
           "x": [],
           "y": []
          },
          {
           "mode": "lines",
           "name": "S",
           "text": [],
           "type": "scatter",
           "x": [],
           "y": []
          }
         ],
         "name": "01-03-2020"
        },
        {
         "data": [
          {
           "mode": "lines",
           "name": "M",
           "text": [],
           "type": "scatter",
           "x": [],
           "y": []
          },
          {
           "mode": "lines",
           "name": "e",
           "text": [],
           "type": "scatter",
           "x": [],
           "y": []
          },
          {
           "mode": "lines",
           "name": "x",
           "text": [],
           "type": "scatter",
           "x": [],
           "y": []
          },
          {
           "mode": "lines",
           "name": "i",
           "text": [],
           "type": "scatter",
           "x": [],
           "y": []
          },
          {
           "mode": "lines",
           "name": "c",
           "text": [],
           "type": "scatter",
           "x": [],
           "y": []
          },
          {
           "mode": "lines",
           "name": "o",
           "text": [],
           "type": "scatter",
           "x": [],
           "y": []
          },
          {
           "mode": "lines",
           "name": "_",
           "text": [],
           "type": "scatter",
           "x": [],
           "y": []
          },
          {
           "mode": "lines",
           "name": "S",
           "text": [],
           "type": "scatter",
           "x": [],
           "y": []
          },
          {
           "mode": "lines",
           "name": "S",
           "text": [],
           "type": "scatter",
           "x": [],
           "y": []
          }
         ],
         "name": "02-03-2020"
        },
        {
         "data": [
          {
           "mode": "lines",
           "name": "M",
           "text": [],
           "type": "scatter",
           "x": [],
           "y": []
          },
          {
           "mode": "lines",
           "name": "e",
           "text": [],
           "type": "scatter",
           "x": [],
           "y": []
          },
          {
           "mode": "lines",
           "name": "x",
           "text": [],
           "type": "scatter",
           "x": [],
           "y": []
          },
          {
           "mode": "lines",
           "name": "i",
           "text": [],
           "type": "scatter",
           "x": [],
           "y": []
          },
          {
           "mode": "lines",
           "name": "c",
           "text": [],
           "type": "scatter",
           "x": [],
           "y": []
          },
          {
           "mode": "lines",
           "name": "o",
           "text": [],
           "type": "scatter",
           "x": [],
           "y": []
          },
          {
           "mode": "lines",
           "name": "_",
           "text": [],
           "type": "scatter",
           "x": [],
           "y": []
          },
          {
           "mode": "lines",
           "name": "S",
           "text": [],
           "type": "scatter",
           "x": [],
           "y": []
          },
          {
           "mode": "lines",
           "name": "S",
           "text": [],
           "type": "scatter",
           "x": [],
           "y": []
          }
         ],
         "name": "03-03-2020"
        },
        {
         "data": [
          {
           "mode": "lines",
           "name": "M",
           "text": [],
           "type": "scatter",
           "x": [],
           "y": []
          },
          {
           "mode": "lines",
           "name": "e",
           "text": [],
           "type": "scatter",
           "x": [],
           "y": []
          },
          {
           "mode": "lines",
           "name": "x",
           "text": [],
           "type": "scatter",
           "x": [],
           "y": []
          },
          {
           "mode": "lines",
           "name": "i",
           "text": [],
           "type": "scatter",
           "x": [],
           "y": []
          },
          {
           "mode": "lines",
           "name": "c",
           "text": [],
           "type": "scatter",
           "x": [],
           "y": []
          },
          {
           "mode": "lines",
           "name": "o",
           "text": [],
           "type": "scatter",
           "x": [],
           "y": []
          },
          {
           "mode": "lines",
           "name": "_",
           "text": [],
           "type": "scatter",
           "x": [],
           "y": []
          },
          {
           "mode": "lines",
           "name": "S",
           "text": [],
           "type": "scatter",
           "x": [],
           "y": []
          },
          {
           "mode": "lines",
           "name": "S",
           "text": [],
           "type": "scatter",
           "x": [],
           "y": []
          }
         ],
         "name": "04-03-2020"
        },
        {
         "data": [
          {
           "mode": "lines",
           "name": "M",
           "text": [],
           "type": "scatter",
           "x": [],
           "y": []
          },
          {
           "mode": "lines",
           "name": "e",
           "text": [],
           "type": "scatter",
           "x": [],
           "y": []
          },
          {
           "mode": "lines",
           "name": "x",
           "text": [],
           "type": "scatter",
           "x": [],
           "y": []
          },
          {
           "mode": "lines",
           "name": "i",
           "text": [],
           "type": "scatter",
           "x": [],
           "y": []
          },
          {
           "mode": "lines",
           "name": "c",
           "text": [],
           "type": "scatter",
           "x": [],
           "y": []
          },
          {
           "mode": "lines",
           "name": "o",
           "text": [],
           "type": "scatter",
           "x": [],
           "y": []
          },
          {
           "mode": "lines",
           "name": "_",
           "text": [],
           "type": "scatter",
           "x": [],
           "y": []
          },
          {
           "mode": "lines",
           "name": "S",
           "text": [],
           "type": "scatter",
           "x": [],
           "y": []
          },
          {
           "mode": "lines",
           "name": "S",
           "text": [],
           "type": "scatter",
           "x": [],
           "y": []
          }
         ],
         "name": "05-03-2020"
        },
        {
         "data": [
          {
           "mode": "lines",
           "name": "M",
           "text": [],
           "type": "scatter",
           "x": [],
           "y": []
          },
          {
           "mode": "lines",
           "name": "e",
           "text": [],
           "type": "scatter",
           "x": [],
           "y": []
          },
          {
           "mode": "lines",
           "name": "x",
           "text": [],
           "type": "scatter",
           "x": [],
           "y": []
          },
          {
           "mode": "lines",
           "name": "i",
           "text": [],
           "type": "scatter",
           "x": [],
           "y": []
          },
          {
           "mode": "lines",
           "name": "c",
           "text": [],
           "type": "scatter",
           "x": [],
           "y": []
          },
          {
           "mode": "lines",
           "name": "o",
           "text": [],
           "type": "scatter",
           "x": [],
           "y": []
          },
          {
           "mode": "lines",
           "name": "_",
           "text": [],
           "type": "scatter",
           "x": [],
           "y": []
          },
          {
           "mode": "lines",
           "name": "S",
           "text": [],
           "type": "scatter",
           "x": [],
           "y": []
          },
          {
           "mode": "lines",
           "name": "S",
           "text": [],
           "type": "scatter",
           "x": [],
           "y": []
          }
         ],
         "name": "06-03-2020"
        },
        {
         "data": [
          {
           "mode": "lines",
           "name": "M",
           "text": [],
           "type": "scatter",
           "x": [],
           "y": []
          },
          {
           "mode": "lines",
           "name": "e",
           "text": [],
           "type": "scatter",
           "x": [],
           "y": []
          },
          {
           "mode": "lines",
           "name": "x",
           "text": [],
           "type": "scatter",
           "x": [],
           "y": []
          },
          {
           "mode": "lines",
           "name": "i",
           "text": [],
           "type": "scatter",
           "x": [],
           "y": []
          },
          {
           "mode": "lines",
           "name": "c",
           "text": [],
           "type": "scatter",
           "x": [],
           "y": []
          },
          {
           "mode": "lines",
           "name": "o",
           "text": [],
           "type": "scatter",
           "x": [],
           "y": []
          },
          {
           "mode": "lines",
           "name": "_",
           "text": [],
           "type": "scatter",
           "x": [],
           "y": []
          },
          {
           "mode": "lines",
           "name": "S",
           "text": [],
           "type": "scatter",
           "x": [],
           "y": []
          },
          {
           "mode": "lines",
           "name": "S",
           "text": [],
           "type": "scatter",
           "x": [],
           "y": []
          }
         ],
         "name": "07-03-2020"
        },
        {
         "data": [
          {
           "mode": "lines",
           "name": "M",
           "text": [],
           "type": "scatter",
           "x": [],
           "y": []
          },
          {
           "mode": "lines",
           "name": "e",
           "text": [],
           "type": "scatter",
           "x": [],
           "y": []
          },
          {
           "mode": "lines",
           "name": "x",
           "text": [],
           "type": "scatter",
           "x": [],
           "y": []
          },
          {
           "mode": "lines",
           "name": "i",
           "text": [],
           "type": "scatter",
           "x": [],
           "y": []
          },
          {
           "mode": "lines",
           "name": "c",
           "text": [],
           "type": "scatter",
           "x": [],
           "y": []
          },
          {
           "mode": "lines",
           "name": "o",
           "text": [],
           "type": "scatter",
           "x": [],
           "y": []
          },
          {
           "mode": "lines",
           "name": "_",
           "text": [],
           "type": "scatter",
           "x": [],
           "y": []
          },
          {
           "mode": "lines",
           "name": "S",
           "text": [],
           "type": "scatter",
           "x": [],
           "y": []
          },
          {
           "mode": "lines",
           "name": "S",
           "text": [],
           "type": "scatter",
           "x": [],
           "y": []
          }
         ],
         "name": "08-03-2020"
        },
        {
         "data": [
          {
           "mode": "lines",
           "name": "M",
           "text": [],
           "type": "scatter",
           "x": [],
           "y": []
          },
          {
           "mode": "lines",
           "name": "e",
           "text": [],
           "type": "scatter",
           "x": [],
           "y": []
          },
          {
           "mode": "lines",
           "name": "x",
           "text": [],
           "type": "scatter",
           "x": [],
           "y": []
          },
          {
           "mode": "lines",
           "name": "i",
           "text": [],
           "type": "scatter",
           "x": [],
           "y": []
          },
          {
           "mode": "lines",
           "name": "c",
           "text": [],
           "type": "scatter",
           "x": [],
           "y": []
          },
          {
           "mode": "lines",
           "name": "o",
           "text": [],
           "type": "scatter",
           "x": [],
           "y": []
          },
          {
           "mode": "lines",
           "name": "_",
           "text": [],
           "type": "scatter",
           "x": [],
           "y": []
          },
          {
           "mode": "lines",
           "name": "S",
           "text": [],
           "type": "scatter",
           "x": [],
           "y": []
          },
          {
           "mode": "lines",
           "name": "S",
           "text": [],
           "type": "scatter",
           "x": [],
           "y": []
          }
         ],
         "name": "09-03-2020"
        },
        {
         "data": [
          {
           "mode": "lines",
           "name": "M",
           "text": [],
           "type": "scatter",
           "x": [],
           "y": []
          },
          {
           "mode": "lines",
           "name": "e",
           "text": [],
           "type": "scatter",
           "x": [],
           "y": []
          },
          {
           "mode": "lines",
           "name": "x",
           "text": [],
           "type": "scatter",
           "x": [],
           "y": []
          },
          {
           "mode": "lines",
           "name": "i",
           "text": [],
           "type": "scatter",
           "x": [],
           "y": []
          },
          {
           "mode": "lines",
           "name": "c",
           "text": [],
           "type": "scatter",
           "x": [],
           "y": []
          },
          {
           "mode": "lines",
           "name": "o",
           "text": [],
           "type": "scatter",
           "x": [],
           "y": []
          },
          {
           "mode": "lines",
           "name": "_",
           "text": [],
           "type": "scatter",
           "x": [],
           "y": []
          },
          {
           "mode": "lines",
           "name": "S",
           "text": [],
           "type": "scatter",
           "x": [],
           "y": []
          },
          {
           "mode": "lines",
           "name": "S",
           "text": [],
           "type": "scatter",
           "x": [],
           "y": []
          }
         ],
         "name": "10-03-2020"
        },
        {
         "data": [
          {
           "mode": "lines",
           "name": "M",
           "text": [],
           "type": "scatter",
           "x": [],
           "y": []
          },
          {
           "mode": "lines",
           "name": "e",
           "text": [],
           "type": "scatter",
           "x": [],
           "y": []
          },
          {
           "mode": "lines",
           "name": "x",
           "text": [],
           "type": "scatter",
           "x": [],
           "y": []
          },
          {
           "mode": "lines",
           "name": "i",
           "text": [],
           "type": "scatter",
           "x": [],
           "y": []
          },
          {
           "mode": "lines",
           "name": "c",
           "text": [],
           "type": "scatter",
           "x": [],
           "y": []
          },
          {
           "mode": "lines",
           "name": "o",
           "text": [],
           "type": "scatter",
           "x": [],
           "y": []
          },
          {
           "mode": "lines",
           "name": "_",
           "text": [],
           "type": "scatter",
           "x": [],
           "y": []
          },
          {
           "mode": "lines",
           "name": "S",
           "text": [],
           "type": "scatter",
           "x": [],
           "y": []
          },
          {
           "mode": "lines",
           "name": "S",
           "text": [],
           "type": "scatter",
           "x": [],
           "y": []
          }
         ],
         "name": "11-03-2020"
        },
        {
         "data": [
          {
           "mode": "lines",
           "name": "M",
           "text": [],
           "type": "scatter",
           "x": [],
           "y": []
          },
          {
           "mode": "lines",
           "name": "e",
           "text": [],
           "type": "scatter",
           "x": [],
           "y": []
          },
          {
           "mode": "lines",
           "name": "x",
           "text": [],
           "type": "scatter",
           "x": [],
           "y": []
          },
          {
           "mode": "lines",
           "name": "i",
           "text": [],
           "type": "scatter",
           "x": [],
           "y": []
          },
          {
           "mode": "lines",
           "name": "c",
           "text": [],
           "type": "scatter",
           "x": [],
           "y": []
          },
          {
           "mode": "lines",
           "name": "o",
           "text": [],
           "type": "scatter",
           "x": [],
           "y": []
          },
          {
           "mode": "lines",
           "name": "_",
           "text": [],
           "type": "scatter",
           "x": [],
           "y": []
          },
          {
           "mode": "lines",
           "name": "S",
           "text": [],
           "type": "scatter",
           "x": [],
           "y": []
          },
          {
           "mode": "lines",
           "name": "S",
           "text": [],
           "type": "scatter",
           "x": [],
           "y": []
          }
         ],
         "name": "12-03-2020"
        },
        {
         "data": [
          {
           "mode": "lines",
           "name": "M",
           "text": [],
           "type": "scatter",
           "x": [],
           "y": []
          },
          {
           "mode": "lines",
           "name": "e",
           "text": [],
           "type": "scatter",
           "x": [],
           "y": []
          },
          {
           "mode": "lines",
           "name": "x",
           "text": [],
           "type": "scatter",
           "x": [],
           "y": []
          },
          {
           "mode": "lines",
           "name": "i",
           "text": [],
           "type": "scatter",
           "x": [],
           "y": []
          },
          {
           "mode": "lines",
           "name": "c",
           "text": [],
           "type": "scatter",
           "x": [],
           "y": []
          },
          {
           "mode": "lines",
           "name": "o",
           "text": [],
           "type": "scatter",
           "x": [],
           "y": []
          },
          {
           "mode": "lines",
           "name": "_",
           "text": [],
           "type": "scatter",
           "x": [],
           "y": []
          },
          {
           "mode": "lines",
           "name": "S",
           "text": [],
           "type": "scatter",
           "x": [],
           "y": []
          },
          {
           "mode": "lines",
           "name": "S",
           "text": [],
           "type": "scatter",
           "x": [],
           "y": []
          }
         ],
         "name": "13-03-2020"
        },
        {
         "data": [
          {
           "mode": "lines",
           "name": "M",
           "text": [],
           "type": "scatter",
           "x": [],
           "y": []
          },
          {
           "mode": "lines",
           "name": "e",
           "text": [],
           "type": "scatter",
           "x": [],
           "y": []
          },
          {
           "mode": "lines",
           "name": "x",
           "text": [],
           "type": "scatter",
           "x": [],
           "y": []
          },
          {
           "mode": "lines",
           "name": "i",
           "text": [],
           "type": "scatter",
           "x": [],
           "y": []
          },
          {
           "mode": "lines",
           "name": "c",
           "text": [],
           "type": "scatter",
           "x": [],
           "y": []
          },
          {
           "mode": "lines",
           "name": "o",
           "text": [],
           "type": "scatter",
           "x": [],
           "y": []
          },
          {
           "mode": "lines",
           "name": "_",
           "text": [],
           "type": "scatter",
           "x": [],
           "y": []
          },
          {
           "mode": "lines",
           "name": "S",
           "text": [],
           "type": "scatter",
           "x": [],
           "y": []
          },
          {
           "mode": "lines",
           "name": "S",
           "text": [],
           "type": "scatter",
           "x": [],
           "y": []
          }
         ],
         "name": "14-03-2020"
        },
        {
         "data": [
          {
           "mode": "lines",
           "name": "M",
           "text": [],
           "type": "scatter",
           "x": [],
           "y": []
          },
          {
           "mode": "lines",
           "name": "e",
           "text": [],
           "type": "scatter",
           "x": [],
           "y": []
          },
          {
           "mode": "lines",
           "name": "x",
           "text": [],
           "type": "scatter",
           "x": [],
           "y": []
          },
          {
           "mode": "lines",
           "name": "i",
           "text": [],
           "type": "scatter",
           "x": [],
           "y": []
          },
          {
           "mode": "lines",
           "name": "c",
           "text": [],
           "type": "scatter",
           "x": [],
           "y": []
          },
          {
           "mode": "lines",
           "name": "o",
           "text": [],
           "type": "scatter",
           "x": [],
           "y": []
          },
          {
           "mode": "lines",
           "name": "_",
           "text": [],
           "type": "scatter",
           "x": [],
           "y": []
          },
          {
           "mode": "lines",
           "name": "S",
           "text": [],
           "type": "scatter",
           "x": [],
           "y": []
          },
          {
           "mode": "lines",
           "name": "S",
           "text": [],
           "type": "scatter",
           "x": [],
           "y": []
          }
         ],
         "name": "15-03-2020"
        },
        {
         "data": [
          {
           "mode": "lines",
           "name": "M",
           "text": [],
           "type": "scatter",
           "x": [],
           "y": []
          },
          {
           "mode": "lines",
           "name": "e",
           "text": [],
           "type": "scatter",
           "x": [],
           "y": []
          },
          {
           "mode": "lines",
           "name": "x",
           "text": [],
           "type": "scatter",
           "x": [],
           "y": []
          },
          {
           "mode": "lines",
           "name": "i",
           "text": [],
           "type": "scatter",
           "x": [],
           "y": []
          },
          {
           "mode": "lines",
           "name": "c",
           "text": [],
           "type": "scatter",
           "x": [],
           "y": []
          },
          {
           "mode": "lines",
           "name": "o",
           "text": [],
           "type": "scatter",
           "x": [],
           "y": []
          },
          {
           "mode": "lines",
           "name": "_",
           "text": [],
           "type": "scatter",
           "x": [],
           "y": []
          },
          {
           "mode": "lines",
           "name": "S",
           "text": [],
           "type": "scatter",
           "x": [],
           "y": []
          },
          {
           "mode": "lines",
           "name": "S",
           "text": [],
           "type": "scatter",
           "x": [],
           "y": []
          }
         ],
         "name": "16-03-2020"
        },
        {
         "data": [
          {
           "mode": "lines",
           "name": "M",
           "text": [],
           "type": "scatter",
           "x": [],
           "y": []
          },
          {
           "mode": "lines",
           "name": "e",
           "text": [],
           "type": "scatter",
           "x": [],
           "y": []
          },
          {
           "mode": "lines",
           "name": "x",
           "text": [],
           "type": "scatter",
           "x": [],
           "y": []
          },
          {
           "mode": "lines",
           "name": "i",
           "text": [],
           "type": "scatter",
           "x": [],
           "y": []
          },
          {
           "mode": "lines",
           "name": "c",
           "text": [],
           "type": "scatter",
           "x": [],
           "y": []
          },
          {
           "mode": "lines",
           "name": "o",
           "text": [],
           "type": "scatter",
           "x": [],
           "y": []
          },
          {
           "mode": "lines",
           "name": "_",
           "text": [],
           "type": "scatter",
           "x": [],
           "y": []
          },
          {
           "mode": "lines",
           "name": "S",
           "text": [],
           "type": "scatter",
           "x": [],
           "y": []
          },
          {
           "mode": "lines",
           "name": "S",
           "text": [],
           "type": "scatter",
           "x": [],
           "y": []
          }
         ],
         "name": "17-03-2020"
        },
        {
         "data": [
          {
           "mode": "lines",
           "name": "M",
           "text": [],
           "type": "scatter",
           "x": [],
           "y": []
          },
          {
           "mode": "lines",
           "name": "e",
           "text": [],
           "type": "scatter",
           "x": [],
           "y": []
          },
          {
           "mode": "lines",
           "name": "x",
           "text": [],
           "type": "scatter",
           "x": [],
           "y": []
          },
          {
           "mode": "lines",
           "name": "i",
           "text": [],
           "type": "scatter",
           "x": [],
           "y": []
          },
          {
           "mode": "lines",
           "name": "c",
           "text": [],
           "type": "scatter",
           "x": [],
           "y": []
          },
          {
           "mode": "lines",
           "name": "o",
           "text": [],
           "type": "scatter",
           "x": [],
           "y": []
          },
          {
           "mode": "lines",
           "name": "_",
           "text": [],
           "type": "scatter",
           "x": [],
           "y": []
          },
          {
           "mode": "lines",
           "name": "S",
           "text": [],
           "type": "scatter",
           "x": [],
           "y": []
          },
          {
           "mode": "lines",
           "name": "S",
           "text": [],
           "type": "scatter",
           "x": [],
           "y": []
          }
         ],
         "name": "18-03-2020"
        },
        {
         "data": [
          {
           "mode": "lines",
           "name": "M",
           "text": [],
           "type": "scatter",
           "x": [],
           "y": []
          },
          {
           "mode": "lines",
           "name": "e",
           "text": [],
           "type": "scatter",
           "x": [],
           "y": []
          },
          {
           "mode": "lines",
           "name": "x",
           "text": [],
           "type": "scatter",
           "x": [],
           "y": []
          },
          {
           "mode": "lines",
           "name": "i",
           "text": [],
           "type": "scatter",
           "x": [],
           "y": []
          },
          {
           "mode": "lines",
           "name": "c",
           "text": [],
           "type": "scatter",
           "x": [],
           "y": []
          },
          {
           "mode": "lines",
           "name": "o",
           "text": [],
           "type": "scatter",
           "x": [],
           "y": []
          },
          {
           "mode": "lines",
           "name": "_",
           "text": [],
           "type": "scatter",
           "x": [],
           "y": []
          },
          {
           "mode": "lines",
           "name": "S",
           "text": [],
           "type": "scatter",
           "x": [],
           "y": []
          },
          {
           "mode": "lines",
           "name": "S",
           "text": [],
           "type": "scatter",
           "x": [],
           "y": []
          }
         ],
         "name": "19-03-2020"
        },
        {
         "data": [
          {
           "mode": "lines",
           "name": "M",
           "text": [],
           "type": "scatter",
           "x": [],
           "y": []
          },
          {
           "mode": "lines",
           "name": "e",
           "text": [],
           "type": "scatter",
           "x": [],
           "y": []
          },
          {
           "mode": "lines",
           "name": "x",
           "text": [],
           "type": "scatter",
           "x": [],
           "y": []
          },
          {
           "mode": "lines",
           "name": "i",
           "text": [],
           "type": "scatter",
           "x": [],
           "y": []
          },
          {
           "mode": "lines",
           "name": "c",
           "text": [],
           "type": "scatter",
           "x": [],
           "y": []
          },
          {
           "mode": "lines",
           "name": "o",
           "text": [],
           "type": "scatter",
           "x": [],
           "y": []
          },
          {
           "mode": "lines",
           "name": "_",
           "text": [],
           "type": "scatter",
           "x": [],
           "y": []
          },
          {
           "mode": "lines",
           "name": "S",
           "text": [],
           "type": "scatter",
           "x": [],
           "y": []
          },
          {
           "mode": "lines",
           "name": "S",
           "text": [],
           "type": "scatter",
           "x": [],
           "y": []
          }
         ],
         "name": "20-03-2020"
        },
        {
         "data": [
          {
           "mode": "lines",
           "name": "M",
           "text": [],
           "type": "scatter",
           "x": [],
           "y": []
          },
          {
           "mode": "lines",
           "name": "e",
           "text": [],
           "type": "scatter",
           "x": [],
           "y": []
          },
          {
           "mode": "lines",
           "name": "x",
           "text": [],
           "type": "scatter",
           "x": [],
           "y": []
          },
          {
           "mode": "lines",
           "name": "i",
           "text": [],
           "type": "scatter",
           "x": [],
           "y": []
          },
          {
           "mode": "lines",
           "name": "c",
           "text": [],
           "type": "scatter",
           "x": [],
           "y": []
          },
          {
           "mode": "lines",
           "name": "o",
           "text": [],
           "type": "scatter",
           "x": [],
           "y": []
          },
          {
           "mode": "lines",
           "name": "_",
           "text": [],
           "type": "scatter",
           "x": [],
           "y": []
          },
          {
           "mode": "lines",
           "name": "S",
           "text": [],
           "type": "scatter",
           "x": [],
           "y": []
          },
          {
           "mode": "lines",
           "name": "S",
           "text": [],
           "type": "scatter",
           "x": [],
           "y": []
          }
         ],
         "name": "21-03-2020"
        },
        {
         "data": [
          {
           "mode": "lines",
           "name": "M",
           "text": [],
           "type": "scatter",
           "x": [],
           "y": []
          },
          {
           "mode": "lines",
           "name": "e",
           "text": [],
           "type": "scatter",
           "x": [],
           "y": []
          },
          {
           "mode": "lines",
           "name": "x",
           "text": [],
           "type": "scatter",
           "x": [],
           "y": []
          },
          {
           "mode": "lines",
           "name": "i",
           "text": [],
           "type": "scatter",
           "x": [],
           "y": []
          },
          {
           "mode": "lines",
           "name": "c",
           "text": [],
           "type": "scatter",
           "x": [],
           "y": []
          },
          {
           "mode": "lines",
           "name": "o",
           "text": [],
           "type": "scatter",
           "x": [],
           "y": []
          },
          {
           "mode": "lines",
           "name": "_",
           "text": [],
           "type": "scatter",
           "x": [],
           "y": []
          },
          {
           "mode": "lines",
           "name": "S",
           "text": [],
           "type": "scatter",
           "x": [],
           "y": []
          },
          {
           "mode": "lines",
           "name": "S",
           "text": [],
           "type": "scatter",
           "x": [],
           "y": []
          }
         ],
         "name": "22-03-2020"
        },
        {
         "data": [
          {
           "mode": "lines",
           "name": "M",
           "text": [],
           "type": "scatter",
           "x": [],
           "y": []
          },
          {
           "mode": "lines",
           "name": "e",
           "text": [],
           "type": "scatter",
           "x": [],
           "y": []
          },
          {
           "mode": "lines",
           "name": "x",
           "text": [],
           "type": "scatter",
           "x": [],
           "y": []
          },
          {
           "mode": "lines",
           "name": "i",
           "text": [],
           "type": "scatter",
           "x": [],
           "y": []
          },
          {
           "mode": "lines",
           "name": "c",
           "text": [],
           "type": "scatter",
           "x": [],
           "y": []
          },
          {
           "mode": "lines",
           "name": "o",
           "text": [],
           "type": "scatter",
           "x": [],
           "y": []
          },
          {
           "mode": "lines",
           "name": "_",
           "text": [],
           "type": "scatter",
           "x": [],
           "y": []
          },
          {
           "mode": "lines",
           "name": "S",
           "text": [],
           "type": "scatter",
           "x": [],
           "y": []
          },
          {
           "mode": "lines",
           "name": "S",
           "text": [],
           "type": "scatter",
           "x": [],
           "y": []
          }
         ],
         "name": "23-03-2020"
        },
        {
         "data": [
          {
           "mode": "lines",
           "name": "M",
           "text": [],
           "type": "scatter",
           "x": [],
           "y": []
          },
          {
           "mode": "lines",
           "name": "e",
           "text": [],
           "type": "scatter",
           "x": [],
           "y": []
          },
          {
           "mode": "lines",
           "name": "x",
           "text": [],
           "type": "scatter",
           "x": [],
           "y": []
          },
          {
           "mode": "lines",
           "name": "i",
           "text": [],
           "type": "scatter",
           "x": [],
           "y": []
          },
          {
           "mode": "lines",
           "name": "c",
           "text": [],
           "type": "scatter",
           "x": [],
           "y": []
          },
          {
           "mode": "lines",
           "name": "o",
           "text": [],
           "type": "scatter",
           "x": [],
           "y": []
          },
          {
           "mode": "lines",
           "name": "_",
           "text": [],
           "type": "scatter",
           "x": [],
           "y": []
          },
          {
           "mode": "lines",
           "name": "S",
           "text": [],
           "type": "scatter",
           "x": [],
           "y": []
          },
          {
           "mode": "lines",
           "name": "S",
           "text": [],
           "type": "scatter",
           "x": [],
           "y": []
          }
         ],
         "name": "24-03-2020"
        },
        {
         "data": [
          {
           "mode": "lines",
           "name": "M",
           "text": [],
           "type": "scatter",
           "x": [],
           "y": []
          },
          {
           "mode": "lines",
           "name": "e",
           "text": [],
           "type": "scatter",
           "x": [],
           "y": []
          },
          {
           "mode": "lines",
           "name": "x",
           "text": [],
           "type": "scatter",
           "x": [],
           "y": []
          },
          {
           "mode": "lines",
           "name": "i",
           "text": [],
           "type": "scatter",
           "x": [],
           "y": []
          },
          {
           "mode": "lines",
           "name": "c",
           "text": [],
           "type": "scatter",
           "x": [],
           "y": []
          },
          {
           "mode": "lines",
           "name": "o",
           "text": [],
           "type": "scatter",
           "x": [],
           "y": []
          },
          {
           "mode": "lines",
           "name": "_",
           "text": [],
           "type": "scatter",
           "x": [],
           "y": []
          },
          {
           "mode": "lines",
           "name": "S",
           "text": [],
           "type": "scatter",
           "x": [],
           "y": []
          },
          {
           "mode": "lines",
           "name": "S",
           "text": [],
           "type": "scatter",
           "x": [],
           "y": []
          }
         ],
         "name": "25-03-2020"
        },
        {
         "data": [
          {
           "mode": "lines",
           "name": "M",
           "text": [],
           "type": "scatter",
           "x": [],
           "y": []
          },
          {
           "mode": "lines",
           "name": "e",
           "text": [],
           "type": "scatter",
           "x": [],
           "y": []
          },
          {
           "mode": "lines",
           "name": "x",
           "text": [],
           "type": "scatter",
           "x": [],
           "y": []
          },
          {
           "mode": "lines",
           "name": "i",
           "text": [],
           "type": "scatter",
           "x": [],
           "y": []
          },
          {
           "mode": "lines",
           "name": "c",
           "text": [],
           "type": "scatter",
           "x": [],
           "y": []
          },
          {
           "mode": "lines",
           "name": "o",
           "text": [],
           "type": "scatter",
           "x": [],
           "y": []
          },
          {
           "mode": "lines",
           "name": "_",
           "text": [],
           "type": "scatter",
           "x": [],
           "y": []
          },
          {
           "mode": "lines",
           "name": "S",
           "text": [],
           "type": "scatter",
           "x": [],
           "y": []
          },
          {
           "mode": "lines",
           "name": "S",
           "text": [],
           "type": "scatter",
           "x": [],
           "y": []
          }
         ],
         "name": "26-03-2020"
        },
        {
         "data": [
          {
           "mode": "lines",
           "name": "M",
           "text": [],
           "type": "scatter",
           "x": [],
           "y": []
          },
          {
           "mode": "lines",
           "name": "e",
           "text": [],
           "type": "scatter",
           "x": [],
           "y": []
          },
          {
           "mode": "lines",
           "name": "x",
           "text": [],
           "type": "scatter",
           "x": [],
           "y": []
          },
          {
           "mode": "lines",
           "name": "i",
           "text": [],
           "type": "scatter",
           "x": [],
           "y": []
          },
          {
           "mode": "lines",
           "name": "c",
           "text": [],
           "type": "scatter",
           "x": [],
           "y": []
          },
          {
           "mode": "lines",
           "name": "o",
           "text": [],
           "type": "scatter",
           "x": [],
           "y": []
          },
          {
           "mode": "lines",
           "name": "_",
           "text": [],
           "type": "scatter",
           "x": [],
           "y": []
          },
          {
           "mode": "lines",
           "name": "S",
           "text": [],
           "type": "scatter",
           "x": [],
           "y": []
          },
          {
           "mode": "lines",
           "name": "S",
           "text": [],
           "type": "scatter",
           "x": [],
           "y": []
          }
         ],
         "name": "27-03-2020"
        },
        {
         "data": [
          {
           "mode": "lines",
           "name": "M",
           "text": [],
           "type": "scatter",
           "x": [],
           "y": []
          },
          {
           "mode": "lines",
           "name": "e",
           "text": [],
           "type": "scatter",
           "x": [],
           "y": []
          },
          {
           "mode": "lines",
           "name": "x",
           "text": [],
           "type": "scatter",
           "x": [],
           "y": []
          },
          {
           "mode": "lines",
           "name": "i",
           "text": [],
           "type": "scatter",
           "x": [],
           "y": []
          },
          {
           "mode": "lines",
           "name": "c",
           "text": [],
           "type": "scatter",
           "x": [],
           "y": []
          },
          {
           "mode": "lines",
           "name": "o",
           "text": [],
           "type": "scatter",
           "x": [],
           "y": []
          },
          {
           "mode": "lines",
           "name": "_",
           "text": [],
           "type": "scatter",
           "x": [],
           "y": []
          },
          {
           "mode": "lines",
           "name": "S",
           "text": [],
           "type": "scatter",
           "x": [],
           "y": []
          },
          {
           "mode": "lines",
           "name": "S",
           "text": [],
           "type": "scatter",
           "x": [],
           "y": []
          }
         ],
         "name": "28-03-2020"
        },
        {
         "data": [
          {
           "mode": "lines",
           "name": "M",
           "text": [],
           "type": "scatter",
           "x": [],
           "y": []
          },
          {
           "mode": "lines",
           "name": "e",
           "text": [],
           "type": "scatter",
           "x": [],
           "y": []
          },
          {
           "mode": "lines",
           "name": "x",
           "text": [],
           "type": "scatter",
           "x": [],
           "y": []
          },
          {
           "mode": "lines",
           "name": "i",
           "text": [],
           "type": "scatter",
           "x": [],
           "y": []
          },
          {
           "mode": "lines",
           "name": "c",
           "text": [],
           "type": "scatter",
           "x": [],
           "y": []
          },
          {
           "mode": "lines",
           "name": "o",
           "text": [],
           "type": "scatter",
           "x": [],
           "y": []
          },
          {
           "mode": "lines",
           "name": "_",
           "text": [],
           "type": "scatter",
           "x": [],
           "y": []
          },
          {
           "mode": "lines",
           "name": "S",
           "text": [],
           "type": "scatter",
           "x": [],
           "y": []
          },
          {
           "mode": "lines",
           "name": "S",
           "text": [],
           "type": "scatter",
           "x": [],
           "y": []
          }
         ],
         "name": "29-03-2020"
        },
        {
         "data": [
          {
           "mode": "lines",
           "name": "M",
           "text": [],
           "type": "scatter",
           "x": [],
           "y": []
          },
          {
           "mode": "lines",
           "name": "e",
           "text": [],
           "type": "scatter",
           "x": [],
           "y": []
          },
          {
           "mode": "lines",
           "name": "x",
           "text": [],
           "type": "scatter",
           "x": [],
           "y": []
          },
          {
           "mode": "lines",
           "name": "i",
           "text": [],
           "type": "scatter",
           "x": [],
           "y": []
          },
          {
           "mode": "lines",
           "name": "c",
           "text": [],
           "type": "scatter",
           "x": [],
           "y": []
          },
          {
           "mode": "lines",
           "name": "o",
           "text": [],
           "type": "scatter",
           "x": [],
           "y": []
          },
          {
           "mode": "lines",
           "name": "_",
           "text": [],
           "type": "scatter",
           "x": [],
           "y": []
          },
          {
           "mode": "lines",
           "name": "S",
           "text": [],
           "type": "scatter",
           "x": [],
           "y": []
          },
          {
           "mode": "lines",
           "name": "S",
           "text": [],
           "type": "scatter",
           "x": [],
           "y": []
          }
         ],
         "name": "30-03-2020"
        },
        {
         "data": [
          {
           "mode": "lines",
           "name": "M",
           "text": [],
           "type": "scatter",
           "x": [],
           "y": []
          },
          {
           "mode": "lines",
           "name": "e",
           "text": [],
           "type": "scatter",
           "x": [],
           "y": []
          },
          {
           "mode": "lines",
           "name": "x",
           "text": [],
           "type": "scatter",
           "x": [],
           "y": []
          },
          {
           "mode": "lines",
           "name": "i",
           "text": [],
           "type": "scatter",
           "x": [],
           "y": []
          },
          {
           "mode": "lines",
           "name": "c",
           "text": [],
           "type": "scatter",
           "x": [],
           "y": []
          },
          {
           "mode": "lines",
           "name": "o",
           "text": [],
           "type": "scatter",
           "x": [],
           "y": []
          },
          {
           "mode": "lines",
           "name": "_",
           "text": [],
           "type": "scatter",
           "x": [],
           "y": []
          },
          {
           "mode": "lines",
           "name": "S",
           "text": [],
           "type": "scatter",
           "x": [],
           "y": []
          },
          {
           "mode": "lines",
           "name": "S",
           "text": [],
           "type": "scatter",
           "x": [],
           "y": []
          }
         ],
         "name": "31-03-2020"
        },
        {
         "data": [
          {
           "mode": "lines",
           "name": "M",
           "text": [],
           "type": "scatter",
           "x": [],
           "y": []
          },
          {
           "mode": "lines",
           "name": "e",
           "text": [],
           "type": "scatter",
           "x": [],
           "y": []
          },
          {
           "mode": "lines",
           "name": "x",
           "text": [],
           "type": "scatter",
           "x": [],
           "y": []
          },
          {
           "mode": "lines",
           "name": "i",
           "text": [],
           "type": "scatter",
           "x": [],
           "y": []
          },
          {
           "mode": "lines",
           "name": "c",
           "text": [],
           "type": "scatter",
           "x": [],
           "y": []
          },
          {
           "mode": "lines",
           "name": "o",
           "text": [],
           "type": "scatter",
           "x": [],
           "y": []
          },
          {
           "mode": "lines",
           "name": "_",
           "text": [],
           "type": "scatter",
           "x": [],
           "y": []
          },
          {
           "mode": "lines",
           "name": "S",
           "text": [],
           "type": "scatter",
           "x": [],
           "y": []
          },
          {
           "mode": "lines",
           "name": "S",
           "text": [],
           "type": "scatter",
           "x": [],
           "y": []
          }
         ],
         "name": "01-04-2020"
        },
        {
         "data": [
          {
           "mode": "lines",
           "name": "M",
           "text": [],
           "type": "scatter",
           "x": [],
           "y": []
          },
          {
           "mode": "lines",
           "name": "e",
           "text": [],
           "type": "scatter",
           "x": [],
           "y": []
          },
          {
           "mode": "lines",
           "name": "x",
           "text": [],
           "type": "scatter",
           "x": [],
           "y": []
          },
          {
           "mode": "lines",
           "name": "i",
           "text": [],
           "type": "scatter",
           "x": [],
           "y": []
          },
          {
           "mode": "lines",
           "name": "c",
           "text": [],
           "type": "scatter",
           "x": [],
           "y": []
          },
          {
           "mode": "lines",
           "name": "o",
           "text": [],
           "type": "scatter",
           "x": [],
           "y": []
          },
          {
           "mode": "lines",
           "name": "_",
           "text": [],
           "type": "scatter",
           "x": [],
           "y": []
          },
          {
           "mode": "lines",
           "name": "S",
           "text": [],
           "type": "scatter",
           "x": [],
           "y": []
          },
          {
           "mode": "lines",
           "name": "S",
           "text": [],
           "type": "scatter",
           "x": [],
           "y": []
          }
         ],
         "name": "02-04-2020"
        },
        {
         "data": [
          {
           "mode": "lines",
           "name": "M",
           "text": [],
           "type": "scatter",
           "x": [],
           "y": []
          },
          {
           "mode": "lines",
           "name": "e",
           "text": [],
           "type": "scatter",
           "x": [],
           "y": []
          },
          {
           "mode": "lines",
           "name": "x",
           "text": [],
           "type": "scatter",
           "x": [],
           "y": []
          },
          {
           "mode": "lines",
           "name": "i",
           "text": [],
           "type": "scatter",
           "x": [],
           "y": []
          },
          {
           "mode": "lines",
           "name": "c",
           "text": [],
           "type": "scatter",
           "x": [],
           "y": []
          },
          {
           "mode": "lines",
           "name": "o",
           "text": [],
           "type": "scatter",
           "x": [],
           "y": []
          },
          {
           "mode": "lines",
           "name": "_",
           "text": [],
           "type": "scatter",
           "x": [],
           "y": []
          },
          {
           "mode": "lines",
           "name": "S",
           "text": [],
           "type": "scatter",
           "x": [],
           "y": []
          },
          {
           "mode": "lines",
           "name": "S",
           "text": [],
           "type": "scatter",
           "x": [],
           "y": []
          }
         ],
         "name": "03-04-2020"
        },
        {
         "data": [
          {
           "mode": "lines",
           "name": "M",
           "text": [],
           "type": "scatter",
           "x": [],
           "y": []
          },
          {
           "mode": "lines",
           "name": "e",
           "text": [],
           "type": "scatter",
           "x": [],
           "y": []
          },
          {
           "mode": "lines",
           "name": "x",
           "text": [],
           "type": "scatter",
           "x": [],
           "y": []
          },
          {
           "mode": "lines",
           "name": "i",
           "text": [],
           "type": "scatter",
           "x": [],
           "y": []
          },
          {
           "mode": "lines",
           "name": "c",
           "text": [],
           "type": "scatter",
           "x": [],
           "y": []
          },
          {
           "mode": "lines",
           "name": "o",
           "text": [],
           "type": "scatter",
           "x": [],
           "y": []
          },
          {
           "mode": "lines",
           "name": "_",
           "text": [],
           "type": "scatter",
           "x": [],
           "y": []
          },
          {
           "mode": "lines",
           "name": "S",
           "text": [],
           "type": "scatter",
           "x": [],
           "y": []
          },
          {
           "mode": "lines",
           "name": "S",
           "text": [],
           "type": "scatter",
           "x": [],
           "y": []
          }
         ],
         "name": "04-04-2020"
        },
        {
         "data": [
          {
           "mode": "lines",
           "name": "M",
           "text": [],
           "type": "scatter",
           "x": [],
           "y": []
          },
          {
           "mode": "lines",
           "name": "e",
           "text": [],
           "type": "scatter",
           "x": [],
           "y": []
          },
          {
           "mode": "lines",
           "name": "x",
           "text": [],
           "type": "scatter",
           "x": [],
           "y": []
          },
          {
           "mode": "lines",
           "name": "i",
           "text": [],
           "type": "scatter",
           "x": [],
           "y": []
          },
          {
           "mode": "lines",
           "name": "c",
           "text": [],
           "type": "scatter",
           "x": [],
           "y": []
          },
          {
           "mode": "lines",
           "name": "o",
           "text": [],
           "type": "scatter",
           "x": [],
           "y": []
          },
          {
           "mode": "lines",
           "name": "_",
           "text": [],
           "type": "scatter",
           "x": [],
           "y": []
          },
          {
           "mode": "lines",
           "name": "S",
           "text": [],
           "type": "scatter",
           "x": [],
           "y": []
          },
          {
           "mode": "lines",
           "name": "S",
           "text": [],
           "type": "scatter",
           "x": [],
           "y": []
          }
         ],
         "name": "05-04-2020"
        },
        {
         "data": [
          {
           "mode": "lines",
           "name": "M",
           "text": [],
           "type": "scatter",
           "x": [],
           "y": []
          },
          {
           "mode": "lines",
           "name": "e",
           "text": [],
           "type": "scatter",
           "x": [],
           "y": []
          },
          {
           "mode": "lines",
           "name": "x",
           "text": [],
           "type": "scatter",
           "x": [],
           "y": []
          },
          {
           "mode": "lines",
           "name": "i",
           "text": [],
           "type": "scatter",
           "x": [],
           "y": []
          },
          {
           "mode": "lines",
           "name": "c",
           "text": [],
           "type": "scatter",
           "x": [],
           "y": []
          },
          {
           "mode": "lines",
           "name": "o",
           "text": [],
           "type": "scatter",
           "x": [],
           "y": []
          },
          {
           "mode": "lines",
           "name": "_",
           "text": [],
           "type": "scatter",
           "x": [],
           "y": []
          },
          {
           "mode": "lines",
           "name": "S",
           "text": [],
           "type": "scatter",
           "x": [],
           "y": []
          },
          {
           "mode": "lines",
           "name": "S",
           "text": [],
           "type": "scatter",
           "x": [],
           "y": []
          }
         ],
         "name": "06-04-2020"
        },
        {
         "data": [
          {
           "mode": "lines",
           "name": "M",
           "text": [],
           "type": "scatter",
           "x": [],
           "y": []
          },
          {
           "mode": "lines",
           "name": "e",
           "text": [],
           "type": "scatter",
           "x": [],
           "y": []
          },
          {
           "mode": "lines",
           "name": "x",
           "text": [],
           "type": "scatter",
           "x": [],
           "y": []
          },
          {
           "mode": "lines",
           "name": "i",
           "text": [],
           "type": "scatter",
           "x": [],
           "y": []
          },
          {
           "mode": "lines",
           "name": "c",
           "text": [],
           "type": "scatter",
           "x": [],
           "y": []
          },
          {
           "mode": "lines",
           "name": "o",
           "text": [],
           "type": "scatter",
           "x": [],
           "y": []
          },
          {
           "mode": "lines",
           "name": "_",
           "text": [],
           "type": "scatter",
           "x": [],
           "y": []
          },
          {
           "mode": "lines",
           "name": "S",
           "text": [],
           "type": "scatter",
           "x": [],
           "y": []
          },
          {
           "mode": "lines",
           "name": "S",
           "text": [],
           "type": "scatter",
           "x": [],
           "y": []
          }
         ],
         "name": "07-04-2020"
        },
        {
         "data": [
          {
           "mode": "lines",
           "name": "M",
           "text": [],
           "type": "scatter",
           "x": [],
           "y": []
          },
          {
           "mode": "lines",
           "name": "e",
           "text": [],
           "type": "scatter",
           "x": [],
           "y": []
          },
          {
           "mode": "lines",
           "name": "x",
           "text": [],
           "type": "scatter",
           "x": [],
           "y": []
          },
          {
           "mode": "lines",
           "name": "i",
           "text": [],
           "type": "scatter",
           "x": [],
           "y": []
          },
          {
           "mode": "lines",
           "name": "c",
           "text": [],
           "type": "scatter",
           "x": [],
           "y": []
          },
          {
           "mode": "lines",
           "name": "o",
           "text": [],
           "type": "scatter",
           "x": [],
           "y": []
          },
          {
           "mode": "lines",
           "name": "_",
           "text": [],
           "type": "scatter",
           "x": [],
           "y": []
          },
          {
           "mode": "lines",
           "name": "S",
           "text": [],
           "type": "scatter",
           "x": [],
           "y": []
          },
          {
           "mode": "lines",
           "name": "S",
           "text": [],
           "type": "scatter",
           "x": [],
           "y": []
          }
         ],
         "name": "08-04-2020"
        },
        {
         "data": [
          {
           "mode": "lines",
           "name": "M",
           "text": [],
           "type": "scatter",
           "x": [],
           "y": []
          },
          {
           "mode": "lines",
           "name": "e",
           "text": [],
           "type": "scatter",
           "x": [],
           "y": []
          },
          {
           "mode": "lines",
           "name": "x",
           "text": [],
           "type": "scatter",
           "x": [],
           "y": []
          },
          {
           "mode": "lines",
           "name": "i",
           "text": [],
           "type": "scatter",
           "x": [],
           "y": []
          },
          {
           "mode": "lines",
           "name": "c",
           "text": [],
           "type": "scatter",
           "x": [],
           "y": []
          },
          {
           "mode": "lines",
           "name": "o",
           "text": [],
           "type": "scatter",
           "x": [],
           "y": []
          },
          {
           "mode": "lines",
           "name": "_",
           "text": [],
           "type": "scatter",
           "x": [],
           "y": []
          },
          {
           "mode": "lines",
           "name": "S",
           "text": [],
           "type": "scatter",
           "x": [],
           "y": []
          },
          {
           "mode": "lines",
           "name": "S",
           "text": [],
           "type": "scatter",
           "x": [],
           "y": []
          }
         ],
         "name": "09-04-2020"
        },
        {
         "data": [
          {
           "mode": "lines",
           "name": "M",
           "text": [],
           "type": "scatter",
           "x": [],
           "y": []
          },
          {
           "mode": "lines",
           "name": "e",
           "text": [],
           "type": "scatter",
           "x": [],
           "y": []
          },
          {
           "mode": "lines",
           "name": "x",
           "text": [],
           "type": "scatter",
           "x": [],
           "y": []
          },
          {
           "mode": "lines",
           "name": "i",
           "text": [],
           "type": "scatter",
           "x": [],
           "y": []
          },
          {
           "mode": "lines",
           "name": "c",
           "text": [],
           "type": "scatter",
           "x": [],
           "y": []
          },
          {
           "mode": "lines",
           "name": "o",
           "text": [],
           "type": "scatter",
           "x": [],
           "y": []
          },
          {
           "mode": "lines",
           "name": "_",
           "text": [],
           "type": "scatter",
           "x": [],
           "y": []
          },
          {
           "mode": "lines",
           "name": "S",
           "text": [],
           "type": "scatter",
           "x": [],
           "y": []
          },
          {
           "mode": "lines",
           "name": "S",
           "text": [],
           "type": "scatter",
           "x": [],
           "y": []
          }
         ],
         "name": "10-04-2020"
        },
        {
         "data": [
          {
           "mode": "lines",
           "name": "M",
           "text": [],
           "type": "scatter",
           "x": [],
           "y": []
          },
          {
           "mode": "lines",
           "name": "e",
           "text": [],
           "type": "scatter",
           "x": [],
           "y": []
          },
          {
           "mode": "lines",
           "name": "x",
           "text": [],
           "type": "scatter",
           "x": [],
           "y": []
          },
          {
           "mode": "lines",
           "name": "i",
           "text": [],
           "type": "scatter",
           "x": [],
           "y": []
          },
          {
           "mode": "lines",
           "name": "c",
           "text": [],
           "type": "scatter",
           "x": [],
           "y": []
          },
          {
           "mode": "lines",
           "name": "o",
           "text": [],
           "type": "scatter",
           "x": [],
           "y": []
          },
          {
           "mode": "lines",
           "name": "_",
           "text": [],
           "type": "scatter",
           "x": [],
           "y": []
          },
          {
           "mode": "lines",
           "name": "S",
           "text": [],
           "type": "scatter",
           "x": [],
           "y": []
          },
          {
           "mode": "lines",
           "name": "S",
           "text": [],
           "type": "scatter",
           "x": [],
           "y": []
          }
         ],
         "name": "11-04-2020"
        },
        {
         "data": [
          {
           "mode": "lines",
           "name": "M",
           "text": [],
           "type": "scatter",
           "x": [],
           "y": []
          },
          {
           "mode": "lines",
           "name": "e",
           "text": [],
           "type": "scatter",
           "x": [],
           "y": []
          },
          {
           "mode": "lines",
           "name": "x",
           "text": [],
           "type": "scatter",
           "x": [],
           "y": []
          },
          {
           "mode": "lines",
           "name": "i",
           "text": [],
           "type": "scatter",
           "x": [],
           "y": []
          },
          {
           "mode": "lines",
           "name": "c",
           "text": [],
           "type": "scatter",
           "x": [],
           "y": []
          },
          {
           "mode": "lines",
           "name": "o",
           "text": [],
           "type": "scatter",
           "x": [],
           "y": []
          },
          {
           "mode": "lines",
           "name": "_",
           "text": [],
           "type": "scatter",
           "x": [],
           "y": []
          },
          {
           "mode": "lines",
           "name": "S",
           "text": [],
           "type": "scatter",
           "x": [],
           "y": []
          },
          {
           "mode": "lines",
           "name": "S",
           "text": [],
           "type": "scatter",
           "x": [],
           "y": []
          }
         ],
         "name": "12-04-2020"
        },
        {
         "data": [
          {
           "mode": "lines",
           "name": "M",
           "text": [],
           "type": "scatter",
           "x": [],
           "y": []
          },
          {
           "mode": "lines",
           "name": "e",
           "text": [],
           "type": "scatter",
           "x": [],
           "y": []
          },
          {
           "mode": "lines",
           "name": "x",
           "text": [],
           "type": "scatter",
           "x": [],
           "y": []
          },
          {
           "mode": "lines",
           "name": "i",
           "text": [],
           "type": "scatter",
           "x": [],
           "y": []
          },
          {
           "mode": "lines",
           "name": "c",
           "text": [],
           "type": "scatter",
           "x": [],
           "y": []
          },
          {
           "mode": "lines",
           "name": "o",
           "text": [],
           "type": "scatter",
           "x": [],
           "y": []
          },
          {
           "mode": "lines",
           "name": "_",
           "text": [],
           "type": "scatter",
           "x": [],
           "y": []
          },
          {
           "mode": "lines",
           "name": "S",
           "text": [],
           "type": "scatter",
           "x": [],
           "y": []
          },
          {
           "mode": "lines",
           "name": "S",
           "text": [],
           "type": "scatter",
           "x": [],
           "y": []
          }
         ],
         "name": "13-04-2020"
        },
        {
         "data": [
          {
           "mode": "lines",
           "name": "M",
           "text": [],
           "type": "scatter",
           "x": [],
           "y": []
          },
          {
           "mode": "lines",
           "name": "e",
           "text": [],
           "type": "scatter",
           "x": [],
           "y": []
          },
          {
           "mode": "lines",
           "name": "x",
           "text": [],
           "type": "scatter",
           "x": [],
           "y": []
          },
          {
           "mode": "lines",
           "name": "i",
           "text": [],
           "type": "scatter",
           "x": [],
           "y": []
          },
          {
           "mode": "lines",
           "name": "c",
           "text": [],
           "type": "scatter",
           "x": [],
           "y": []
          },
          {
           "mode": "lines",
           "name": "o",
           "text": [],
           "type": "scatter",
           "x": [],
           "y": []
          },
          {
           "mode": "lines",
           "name": "_",
           "text": [],
           "type": "scatter",
           "x": [],
           "y": []
          },
          {
           "mode": "lines",
           "name": "S",
           "text": [],
           "type": "scatter",
           "x": [],
           "y": []
          },
          {
           "mode": "lines",
           "name": "S",
           "text": [],
           "type": "scatter",
           "x": [],
           "y": []
          }
         ],
         "name": "14-04-2020"
        },
        {
         "data": [
          {
           "mode": "lines",
           "name": "M",
           "text": [],
           "type": "scatter",
           "x": [],
           "y": []
          },
          {
           "mode": "lines",
           "name": "e",
           "text": [],
           "type": "scatter",
           "x": [],
           "y": []
          },
          {
           "mode": "lines",
           "name": "x",
           "text": [],
           "type": "scatter",
           "x": [],
           "y": []
          },
          {
           "mode": "lines",
           "name": "i",
           "text": [],
           "type": "scatter",
           "x": [],
           "y": []
          },
          {
           "mode": "lines",
           "name": "c",
           "text": [],
           "type": "scatter",
           "x": [],
           "y": []
          },
          {
           "mode": "lines",
           "name": "o",
           "text": [],
           "type": "scatter",
           "x": [],
           "y": []
          },
          {
           "mode": "lines",
           "name": "_",
           "text": [],
           "type": "scatter",
           "x": [],
           "y": []
          },
          {
           "mode": "lines",
           "name": "S",
           "text": [],
           "type": "scatter",
           "x": [],
           "y": []
          },
          {
           "mode": "lines",
           "name": "S",
           "text": [],
           "type": "scatter",
           "x": [],
           "y": []
          }
         ],
         "name": "15-04-2020"
        },
        {
         "data": [
          {
           "mode": "lines",
           "name": "M",
           "text": [],
           "type": "scatter",
           "x": [],
           "y": []
          },
          {
           "mode": "lines",
           "name": "e",
           "text": [],
           "type": "scatter",
           "x": [],
           "y": []
          },
          {
           "mode": "lines",
           "name": "x",
           "text": [],
           "type": "scatter",
           "x": [],
           "y": []
          },
          {
           "mode": "lines",
           "name": "i",
           "text": [],
           "type": "scatter",
           "x": [],
           "y": []
          },
          {
           "mode": "lines",
           "name": "c",
           "text": [],
           "type": "scatter",
           "x": [],
           "y": []
          },
          {
           "mode": "lines",
           "name": "o",
           "text": [],
           "type": "scatter",
           "x": [],
           "y": []
          },
          {
           "mode": "lines",
           "name": "_",
           "text": [],
           "type": "scatter",
           "x": [],
           "y": []
          },
          {
           "mode": "lines",
           "name": "S",
           "text": [],
           "type": "scatter",
           "x": [],
           "y": []
          },
          {
           "mode": "lines",
           "name": "S",
           "text": [],
           "type": "scatter",
           "x": [],
           "y": []
          }
         ],
         "name": "16-04-2020"
        },
        {
         "data": [
          {
           "mode": "lines",
           "name": "M",
           "text": [],
           "type": "scatter",
           "x": [],
           "y": []
          },
          {
           "mode": "lines",
           "name": "e",
           "text": [],
           "type": "scatter",
           "x": [],
           "y": []
          },
          {
           "mode": "lines",
           "name": "x",
           "text": [],
           "type": "scatter",
           "x": [],
           "y": []
          },
          {
           "mode": "lines",
           "name": "i",
           "text": [],
           "type": "scatter",
           "x": [],
           "y": []
          },
          {
           "mode": "lines",
           "name": "c",
           "text": [],
           "type": "scatter",
           "x": [],
           "y": []
          },
          {
           "mode": "lines",
           "name": "o",
           "text": [],
           "type": "scatter",
           "x": [],
           "y": []
          },
          {
           "mode": "lines",
           "name": "_",
           "text": [],
           "type": "scatter",
           "x": [],
           "y": []
          },
          {
           "mode": "lines",
           "name": "S",
           "text": [],
           "type": "scatter",
           "x": [],
           "y": []
          },
          {
           "mode": "lines",
           "name": "S",
           "text": [],
           "type": "scatter",
           "x": [],
           "y": []
          }
         ],
         "name": "17-04-2020"
        },
        {
         "data": [
          {
           "mode": "lines",
           "name": "M",
           "text": [],
           "type": "scatter",
           "x": [],
           "y": []
          },
          {
           "mode": "lines",
           "name": "e",
           "text": [],
           "type": "scatter",
           "x": [],
           "y": []
          },
          {
           "mode": "lines",
           "name": "x",
           "text": [],
           "type": "scatter",
           "x": [],
           "y": []
          },
          {
           "mode": "lines",
           "name": "i",
           "text": [],
           "type": "scatter",
           "x": [],
           "y": []
          },
          {
           "mode": "lines",
           "name": "c",
           "text": [],
           "type": "scatter",
           "x": [],
           "y": []
          },
          {
           "mode": "lines",
           "name": "o",
           "text": [],
           "type": "scatter",
           "x": [],
           "y": []
          },
          {
           "mode": "lines",
           "name": "_",
           "text": [],
           "type": "scatter",
           "x": [],
           "y": []
          },
          {
           "mode": "lines",
           "name": "S",
           "text": [],
           "type": "scatter",
           "x": [],
           "y": []
          },
          {
           "mode": "lines",
           "name": "S",
           "text": [],
           "type": "scatter",
           "x": [],
           "y": []
          }
         ],
         "name": "18-04-2020"
        }
       ],
       "layout": {
        "hovermode": "closest",
        "sliders": [
         {
          "active": 0,
          "currentvalue": {
           "font": {
            "size": 20
           },
           "prefix": "Fecha:",
           "visible": true,
           "xanchor": "right"
          },
          "len": 0.9,
          "pad": {
           "b": 10,
           "t": 50
          },
          "steps": [
           {
            "args": [
             [
              "15-02-2020"
             ],
             {
              "frame": {
               "duration": 300,
               "redraw": false
              },
              "mode": "immediate",
              "transition": {
               "duration": 300
              }
             }
            ],
            "label": "15-02-2020",
            "method": "animate"
           },
           {
            "args": [
             [
              "16-02-2020"
             ],
             {
              "frame": {
               "duration": 300,
               "redraw": false
              },
              "mode": "immediate",
              "transition": {
               "duration": 300
              }
             }
            ],
            "label": "16-02-2020",
            "method": "animate"
           },
           {
            "args": [
             [
              "17-02-2020"
             ],
             {
              "frame": {
               "duration": 300,
               "redraw": false
              },
              "mode": "immediate",
              "transition": {
               "duration": 300
              }
             }
            ],
            "label": "17-02-2020",
            "method": "animate"
           },
           {
            "args": [
             [
              "18-02-2020"
             ],
             {
              "frame": {
               "duration": 300,
               "redraw": false
              },
              "mode": "immediate",
              "transition": {
               "duration": 300
              }
             }
            ],
            "label": "18-02-2020",
            "method": "animate"
           },
           {
            "args": [
             [
              "19-02-2020"
             ],
             {
              "frame": {
               "duration": 300,
               "redraw": false
              },
              "mode": "immediate",
              "transition": {
               "duration": 300
              }
             }
            ],
            "label": "19-02-2020",
            "method": "animate"
           },
           {
            "args": [
             [
              "20-02-2020"
             ],
             {
              "frame": {
               "duration": 300,
               "redraw": false
              },
              "mode": "immediate",
              "transition": {
               "duration": 300
              }
             }
            ],
            "label": "20-02-2020",
            "method": "animate"
           },
           {
            "args": [
             [
              "21-02-2020"
             ],
             {
              "frame": {
               "duration": 300,
               "redraw": false
              },
              "mode": "immediate",
              "transition": {
               "duration": 300
              }
             }
            ],
            "label": "21-02-2020",
            "method": "animate"
           },
           {
            "args": [
             [
              "22-02-2020"
             ],
             {
              "frame": {
               "duration": 300,
               "redraw": false
              },
              "mode": "immediate",
              "transition": {
               "duration": 300
              }
             }
            ],
            "label": "22-02-2020",
            "method": "animate"
           },
           {
            "args": [
             [
              "23-02-2020"
             ],
             {
              "frame": {
               "duration": 300,
               "redraw": false
              },
              "mode": "immediate",
              "transition": {
               "duration": 300
              }
             }
            ],
            "label": "23-02-2020",
            "method": "animate"
           },
           {
            "args": [
             [
              "24-02-2020"
             ],
             {
              "frame": {
               "duration": 300,
               "redraw": false
              },
              "mode": "immediate",
              "transition": {
               "duration": 300
              }
             }
            ],
            "label": "24-02-2020",
            "method": "animate"
           },
           {
            "args": [
             [
              "25-02-2020"
             ],
             {
              "frame": {
               "duration": 300,
               "redraw": false
              },
              "mode": "immediate",
              "transition": {
               "duration": 300
              }
             }
            ],
            "label": "25-02-2020",
            "method": "animate"
           },
           {
            "args": [
             [
              "26-02-2020"
             ],
             {
              "frame": {
               "duration": 300,
               "redraw": false
              },
              "mode": "immediate",
              "transition": {
               "duration": 300
              }
             }
            ],
            "label": "26-02-2020",
            "method": "animate"
           },
           {
            "args": [
             [
              "27-02-2020"
             ],
             {
              "frame": {
               "duration": 300,
               "redraw": false
              },
              "mode": "immediate",
              "transition": {
               "duration": 300
              }
             }
            ],
            "label": "27-02-2020",
            "method": "animate"
           },
           {
            "args": [
             [
              "28-02-2020"
             ],
             {
              "frame": {
               "duration": 300,
               "redraw": false
              },
              "mode": "immediate",
              "transition": {
               "duration": 300
              }
             }
            ],
            "label": "28-02-2020",
            "method": "animate"
           },
           {
            "args": [
             [
              "29-02-2020"
             ],
             {
              "frame": {
               "duration": 300,
               "redraw": false
              },
              "mode": "immediate",
              "transition": {
               "duration": 300
              }
             }
            ],
            "label": "29-02-2020",
            "method": "animate"
           },
           {
            "args": [
             [
              "01-03-2020"
             ],
             {
              "frame": {
               "duration": 300,
               "redraw": false
              },
              "mode": "immediate",
              "transition": {
               "duration": 300
              }
             }
            ],
            "label": "01-03-2020",
            "method": "animate"
           },
           {
            "args": [
             [
              "02-03-2020"
             ],
             {
              "frame": {
               "duration": 300,
               "redraw": false
              },
              "mode": "immediate",
              "transition": {
               "duration": 300
              }
             }
            ],
            "label": "02-03-2020",
            "method": "animate"
           },
           {
            "args": [
             [
              "03-03-2020"
             ],
             {
              "frame": {
               "duration": 300,
               "redraw": false
              },
              "mode": "immediate",
              "transition": {
               "duration": 300
              }
             }
            ],
            "label": "03-03-2020",
            "method": "animate"
           },
           {
            "args": [
             [
              "04-03-2020"
             ],
             {
              "frame": {
               "duration": 300,
               "redraw": false
              },
              "mode": "immediate",
              "transition": {
               "duration": 300
              }
             }
            ],
            "label": "04-03-2020",
            "method": "animate"
           },
           {
            "args": [
             [
              "05-03-2020"
             ],
             {
              "frame": {
               "duration": 300,
               "redraw": false
              },
              "mode": "immediate",
              "transition": {
               "duration": 300
              }
             }
            ],
            "label": "05-03-2020",
            "method": "animate"
           },
           {
            "args": [
             [
              "06-03-2020"
             ],
             {
              "frame": {
               "duration": 300,
               "redraw": false
              },
              "mode": "immediate",
              "transition": {
               "duration": 300
              }
             }
            ],
            "label": "06-03-2020",
            "method": "animate"
           },
           {
            "args": [
             [
              "07-03-2020"
             ],
             {
              "frame": {
               "duration": 300,
               "redraw": false
              },
              "mode": "immediate",
              "transition": {
               "duration": 300
              }
             }
            ],
            "label": "07-03-2020",
            "method": "animate"
           },
           {
            "args": [
             [
              "08-03-2020"
             ],
             {
              "frame": {
               "duration": 300,
               "redraw": false
              },
              "mode": "immediate",
              "transition": {
               "duration": 300
              }
             }
            ],
            "label": "08-03-2020",
            "method": "animate"
           },
           {
            "args": [
             [
              "09-03-2020"
             ],
             {
              "frame": {
               "duration": 300,
               "redraw": false
              },
              "mode": "immediate",
              "transition": {
               "duration": 300
              }
             }
            ],
            "label": "09-03-2020",
            "method": "animate"
           },
           {
            "args": [
             [
              "10-03-2020"
             ],
             {
              "frame": {
               "duration": 300,
               "redraw": false
              },
              "mode": "immediate",
              "transition": {
               "duration": 300
              }
             }
            ],
            "label": "10-03-2020",
            "method": "animate"
           },
           {
            "args": [
             [
              "11-03-2020"
             ],
             {
              "frame": {
               "duration": 300,
               "redraw": false
              },
              "mode": "immediate",
              "transition": {
               "duration": 300
              }
             }
            ],
            "label": "11-03-2020",
            "method": "animate"
           },
           {
            "args": [
             [
              "12-03-2020"
             ],
             {
              "frame": {
               "duration": 300,
               "redraw": false
              },
              "mode": "immediate",
              "transition": {
               "duration": 300
              }
             }
            ],
            "label": "12-03-2020",
            "method": "animate"
           },
           {
            "args": [
             [
              "13-03-2020"
             ],
             {
              "frame": {
               "duration": 300,
               "redraw": false
              },
              "mode": "immediate",
              "transition": {
               "duration": 300
              }
             }
            ],
            "label": "13-03-2020",
            "method": "animate"
           },
           {
            "args": [
             [
              "14-03-2020"
             ],
             {
              "frame": {
               "duration": 300,
               "redraw": false
              },
              "mode": "immediate",
              "transition": {
               "duration": 300
              }
             }
            ],
            "label": "14-03-2020",
            "method": "animate"
           },
           {
            "args": [
             [
              "15-03-2020"
             ],
             {
              "frame": {
               "duration": 300,
               "redraw": false
              },
              "mode": "immediate",
              "transition": {
               "duration": 300
              }
             }
            ],
            "label": "15-03-2020",
            "method": "animate"
           },
           {
            "args": [
             [
              "16-03-2020"
             ],
             {
              "frame": {
               "duration": 300,
               "redraw": false
              },
              "mode": "immediate",
              "transition": {
               "duration": 300
              }
             }
            ],
            "label": "16-03-2020",
            "method": "animate"
           },
           {
            "args": [
             [
              "17-03-2020"
             ],
             {
              "frame": {
               "duration": 300,
               "redraw": false
              },
              "mode": "immediate",
              "transition": {
               "duration": 300
              }
             }
            ],
            "label": "17-03-2020",
            "method": "animate"
           },
           {
            "args": [
             [
              "18-03-2020"
             ],
             {
              "frame": {
               "duration": 300,
               "redraw": false
              },
              "mode": "immediate",
              "transition": {
               "duration": 300
              }
             }
            ],
            "label": "18-03-2020",
            "method": "animate"
           },
           {
            "args": [
             [
              "19-03-2020"
             ],
             {
              "frame": {
               "duration": 300,
               "redraw": false
              },
              "mode": "immediate",
              "transition": {
               "duration": 300
              }
             }
            ],
            "label": "19-03-2020",
            "method": "animate"
           },
           {
            "args": [
             [
              "20-03-2020"
             ],
             {
              "frame": {
               "duration": 300,
               "redraw": false
              },
              "mode": "immediate",
              "transition": {
               "duration": 300
              }
             }
            ],
            "label": "20-03-2020",
            "method": "animate"
           },
           {
            "args": [
             [
              "21-03-2020"
             ],
             {
              "frame": {
               "duration": 300,
               "redraw": false
              },
              "mode": "immediate",
              "transition": {
               "duration": 300
              }
             }
            ],
            "label": "21-03-2020",
            "method": "animate"
           },
           {
            "args": [
             [
              "22-03-2020"
             ],
             {
              "frame": {
               "duration": 300,
               "redraw": false
              },
              "mode": "immediate",
              "transition": {
               "duration": 300
              }
             }
            ],
            "label": "22-03-2020",
            "method": "animate"
           },
           {
            "args": [
             [
              "23-03-2020"
             ],
             {
              "frame": {
               "duration": 300,
               "redraw": false
              },
              "mode": "immediate",
              "transition": {
               "duration": 300
              }
             }
            ],
            "label": "23-03-2020",
            "method": "animate"
           },
           {
            "args": [
             [
              "24-03-2020"
             ],
             {
              "frame": {
               "duration": 300,
               "redraw": false
              },
              "mode": "immediate",
              "transition": {
               "duration": 300
              }
             }
            ],
            "label": "24-03-2020",
            "method": "animate"
           },
           {
            "args": [
             [
              "25-03-2020"
             ],
             {
              "frame": {
               "duration": 300,
               "redraw": false
              },
              "mode": "immediate",
              "transition": {
               "duration": 300
              }
             }
            ],
            "label": "25-03-2020",
            "method": "animate"
           },
           {
            "args": [
             [
              "26-03-2020"
             ],
             {
              "frame": {
               "duration": 300,
               "redraw": false
              },
              "mode": "immediate",
              "transition": {
               "duration": 300
              }
             }
            ],
            "label": "26-03-2020",
            "method": "animate"
           },
           {
            "args": [
             [
              "27-03-2020"
             ],
             {
              "frame": {
               "duration": 300,
               "redraw": false
              },
              "mode": "immediate",
              "transition": {
               "duration": 300
              }
             }
            ],
            "label": "27-03-2020",
            "method": "animate"
           },
           {
            "args": [
             [
              "28-03-2020"
             ],
             {
              "frame": {
               "duration": 300,
               "redraw": false
              },
              "mode": "immediate",
              "transition": {
               "duration": 300
              }
             }
            ],
            "label": "28-03-2020",
            "method": "animate"
           },
           {
            "args": [
             [
              "29-03-2020"
             ],
             {
              "frame": {
               "duration": 300,
               "redraw": false
              },
              "mode": "immediate",
              "transition": {
               "duration": 300
              }
             }
            ],
            "label": "29-03-2020",
            "method": "animate"
           },
           {
            "args": [
             [
              "30-03-2020"
             ],
             {
              "frame": {
               "duration": 300,
               "redraw": false
              },
              "mode": "immediate",
              "transition": {
               "duration": 300
              }
             }
            ],
            "label": "30-03-2020",
            "method": "animate"
           },
           {
            "args": [
             [
              "31-03-2020"
             ],
             {
              "frame": {
               "duration": 300,
               "redraw": false
              },
              "mode": "immediate",
              "transition": {
               "duration": 300
              }
             }
            ],
            "label": "31-03-2020",
            "method": "animate"
           },
           {
            "args": [
             [
              "01-04-2020"
             ],
             {
              "frame": {
               "duration": 300,
               "redraw": false
              },
              "mode": "immediate",
              "transition": {
               "duration": 300
              }
             }
            ],
            "label": "01-04-2020",
            "method": "animate"
           },
           {
            "args": [
             [
              "02-04-2020"
             ],
             {
              "frame": {
               "duration": 300,
               "redraw": false
              },
              "mode": "immediate",
              "transition": {
               "duration": 300
              }
             }
            ],
            "label": "02-04-2020",
            "method": "animate"
           },
           {
            "args": [
             [
              "03-04-2020"
             ],
             {
              "frame": {
               "duration": 300,
               "redraw": false
              },
              "mode": "immediate",
              "transition": {
               "duration": 300
              }
             }
            ],
            "label": "03-04-2020",
            "method": "animate"
           },
           {
            "args": [
             [
              "04-04-2020"
             ],
             {
              "frame": {
               "duration": 300,
               "redraw": false
              },
              "mode": "immediate",
              "transition": {
               "duration": 300
              }
             }
            ],
            "label": "04-04-2020",
            "method": "animate"
           },
           {
            "args": [
             [
              "05-04-2020"
             ],
             {
              "frame": {
               "duration": 300,
               "redraw": false
              },
              "mode": "immediate",
              "transition": {
               "duration": 300
              }
             }
            ],
            "label": "05-04-2020",
            "method": "animate"
           },
           {
            "args": [
             [
              "06-04-2020"
             ],
             {
              "frame": {
               "duration": 300,
               "redraw": false
              },
              "mode": "immediate",
              "transition": {
               "duration": 300
              }
             }
            ],
            "label": "06-04-2020",
            "method": "animate"
           },
           {
            "args": [
             [
              "07-04-2020"
             ],
             {
              "frame": {
               "duration": 300,
               "redraw": false
              },
              "mode": "immediate",
              "transition": {
               "duration": 300
              }
             }
            ],
            "label": "07-04-2020",
            "method": "animate"
           },
           {
            "args": [
             [
              "08-04-2020"
             ],
             {
              "frame": {
               "duration": 300,
               "redraw": false
              },
              "mode": "immediate",
              "transition": {
               "duration": 300
              }
             }
            ],
            "label": "08-04-2020",
            "method": "animate"
           },
           {
            "args": [
             [
              "09-04-2020"
             ],
             {
              "frame": {
               "duration": 300,
               "redraw": false
              },
              "mode": "immediate",
              "transition": {
               "duration": 300
              }
             }
            ],
            "label": "09-04-2020",
            "method": "animate"
           },
           {
            "args": [
             [
              "10-04-2020"
             ],
             {
              "frame": {
               "duration": 300,
               "redraw": false
              },
              "mode": "immediate",
              "transition": {
               "duration": 300
              }
             }
            ],
            "label": "10-04-2020",
            "method": "animate"
           },
           {
            "args": [
             [
              "11-04-2020"
             ],
             {
              "frame": {
               "duration": 300,
               "redraw": false
              },
              "mode": "immediate",
              "transition": {
               "duration": 300
              }
             }
            ],
            "label": "11-04-2020",
            "method": "animate"
           },
           {
            "args": [
             [
              "12-04-2020"
             ],
             {
              "frame": {
               "duration": 300,
               "redraw": false
              },
              "mode": "immediate",
              "transition": {
               "duration": 300
              }
             }
            ],
            "label": "12-04-2020",
            "method": "animate"
           },
           {
            "args": [
             [
              "13-04-2020"
             ],
             {
              "frame": {
               "duration": 300,
               "redraw": false
              },
              "mode": "immediate",
              "transition": {
               "duration": 300
              }
             }
            ],
            "label": "13-04-2020",
            "method": "animate"
           },
           {
            "args": [
             [
              "14-04-2020"
             ],
             {
              "frame": {
               "duration": 300,
               "redraw": false
              },
              "mode": "immediate",
              "transition": {
               "duration": 300
              }
             }
            ],
            "label": "14-04-2020",
            "method": "animate"
           },
           {
            "args": [
             [
              "15-04-2020"
             ],
             {
              "frame": {
               "duration": 300,
               "redraw": false
              },
              "mode": "immediate",
              "transition": {
               "duration": 300
              }
             }
            ],
            "label": "15-04-2020",
            "method": "animate"
           },
           {
            "args": [
             [
              "16-04-2020"
             ],
             {
              "frame": {
               "duration": 300,
               "redraw": false
              },
              "mode": "immediate",
              "transition": {
               "duration": 300
              }
             }
            ],
            "label": "16-04-2020",
            "method": "animate"
           },
           {
            "args": [
             [
              "17-04-2020"
             ],
             {
              "frame": {
               "duration": 300,
               "redraw": false
              },
              "mode": "immediate",
              "transition": {
               "duration": 300
              }
             }
            ],
            "label": "17-04-2020",
            "method": "animate"
           },
           {
            "args": [
             [
              "18-04-2020"
             ],
             {
              "frame": {
               "duration": 300,
               "redraw": false
              },
              "mode": "immediate",
              "transition": {
               "duration": 300
              }
             }
            ],
            "label": "18-04-2020",
            "method": "animate"
           },
           {
            "args": [
             [
              "15-02-2020"
             ],
             {
              "frame": {
               "duration": 300,
               "redraw": false
              },
              "mode": "immediate",
              "transition": {
               "duration": 300
              }
             }
            ],
            "label": "15-02-2020",
            "method": "animate"
           },
           {
            "args": [
             [
              "16-02-2020"
             ],
             {
              "frame": {
               "duration": 300,
               "redraw": false
              },
              "mode": "immediate",
              "transition": {
               "duration": 300
              }
             }
            ],
            "label": "16-02-2020",
            "method": "animate"
           },
           {
            "args": [
             [
              "17-02-2020"
             ],
             {
              "frame": {
               "duration": 300,
               "redraw": false
              },
              "mode": "immediate",
              "transition": {
               "duration": 300
              }
             }
            ],
            "label": "17-02-2020",
            "method": "animate"
           },
           {
            "args": [
             [
              "18-02-2020"
             ],
             {
              "frame": {
               "duration": 300,
               "redraw": false
              },
              "mode": "immediate",
              "transition": {
               "duration": 300
              }
             }
            ],
            "label": "18-02-2020",
            "method": "animate"
           },
           {
            "args": [
             [
              "19-02-2020"
             ],
             {
              "frame": {
               "duration": 300,
               "redraw": false
              },
              "mode": "immediate",
              "transition": {
               "duration": 300
              }
             }
            ],
            "label": "19-02-2020",
            "method": "animate"
           },
           {
            "args": [
             [
              "20-02-2020"
             ],
             {
              "frame": {
               "duration": 300,
               "redraw": false
              },
              "mode": "immediate",
              "transition": {
               "duration": 300
              }
             }
            ],
            "label": "20-02-2020",
            "method": "animate"
           },
           {
            "args": [
             [
              "21-02-2020"
             ],
             {
              "frame": {
               "duration": 300,
               "redraw": false
              },
              "mode": "immediate",
              "transition": {
               "duration": 300
              }
             }
            ],
            "label": "21-02-2020",
            "method": "animate"
           },
           {
            "args": [
             [
              "22-02-2020"
             ],
             {
              "frame": {
               "duration": 300,
               "redraw": false
              },
              "mode": "immediate",
              "transition": {
               "duration": 300
              }
             }
            ],
            "label": "22-02-2020",
            "method": "animate"
           },
           {
            "args": [
             [
              "23-02-2020"
             ],
             {
              "frame": {
               "duration": 300,
               "redraw": false
              },
              "mode": "immediate",
              "transition": {
               "duration": 300
              }
             }
            ],
            "label": "23-02-2020",
            "method": "animate"
           },
           {
            "args": [
             [
              "24-02-2020"
             ],
             {
              "frame": {
               "duration": 300,
               "redraw": false
              },
              "mode": "immediate",
              "transition": {
               "duration": 300
              }
             }
            ],
            "label": "24-02-2020",
            "method": "animate"
           },
           {
            "args": [
             [
              "25-02-2020"
             ],
             {
              "frame": {
               "duration": 300,
               "redraw": false
              },
              "mode": "immediate",
              "transition": {
               "duration": 300
              }
             }
            ],
            "label": "25-02-2020",
            "method": "animate"
           },
           {
            "args": [
             [
              "26-02-2020"
             ],
             {
              "frame": {
               "duration": 300,
               "redraw": false
              },
              "mode": "immediate",
              "transition": {
               "duration": 300
              }
             }
            ],
            "label": "26-02-2020",
            "method": "animate"
           },
           {
            "args": [
             [
              "27-02-2020"
             ],
             {
              "frame": {
               "duration": 300,
               "redraw": false
              },
              "mode": "immediate",
              "transition": {
               "duration": 300
              }
             }
            ],
            "label": "27-02-2020",
            "method": "animate"
           },
           {
            "args": [
             [
              "28-02-2020"
             ],
             {
              "frame": {
               "duration": 300,
               "redraw": false
              },
              "mode": "immediate",
              "transition": {
               "duration": 300
              }
             }
            ],
            "label": "28-02-2020",
            "method": "animate"
           },
           {
            "args": [
             [
              "29-02-2020"
             ],
             {
              "frame": {
               "duration": 300,
               "redraw": false
              },
              "mode": "immediate",
              "transition": {
               "duration": 300
              }
             }
            ],
            "label": "29-02-2020",
            "method": "animate"
           },
           {
            "args": [
             [
              "01-03-2020"
             ],
             {
              "frame": {
               "duration": 300,
               "redraw": false
              },
              "mode": "immediate",
              "transition": {
               "duration": 300
              }
             }
            ],
            "label": "01-03-2020",
            "method": "animate"
           },
           {
            "args": [
             [
              "02-03-2020"
             ],
             {
              "frame": {
               "duration": 300,
               "redraw": false
              },
              "mode": "immediate",
              "transition": {
               "duration": 300
              }
             }
            ],
            "label": "02-03-2020",
            "method": "animate"
           },
           {
            "args": [
             [
              "03-03-2020"
             ],
             {
              "frame": {
               "duration": 300,
               "redraw": false
              },
              "mode": "immediate",
              "transition": {
               "duration": 300
              }
             }
            ],
            "label": "03-03-2020",
            "method": "animate"
           },
           {
            "args": [
             [
              "04-03-2020"
             ],
             {
              "frame": {
               "duration": 300,
               "redraw": false
              },
              "mode": "immediate",
              "transition": {
               "duration": 300
              }
             }
            ],
            "label": "04-03-2020",
            "method": "animate"
           },
           {
            "args": [
             [
              "05-03-2020"
             ],
             {
              "frame": {
               "duration": 300,
               "redraw": false
              },
              "mode": "immediate",
              "transition": {
               "duration": 300
              }
             }
            ],
            "label": "05-03-2020",
            "method": "animate"
           },
           {
            "args": [
             [
              "06-03-2020"
             ],
             {
              "frame": {
               "duration": 300,
               "redraw": false
              },
              "mode": "immediate",
              "transition": {
               "duration": 300
              }
             }
            ],
            "label": "06-03-2020",
            "method": "animate"
           },
           {
            "args": [
             [
              "07-03-2020"
             ],
             {
              "frame": {
               "duration": 300,
               "redraw": false
              },
              "mode": "immediate",
              "transition": {
               "duration": 300
              }
             }
            ],
            "label": "07-03-2020",
            "method": "animate"
           },
           {
            "args": [
             [
              "08-03-2020"
             ],
             {
              "frame": {
               "duration": 300,
               "redraw": false
              },
              "mode": "immediate",
              "transition": {
               "duration": 300
              }
             }
            ],
            "label": "08-03-2020",
            "method": "animate"
           },
           {
            "args": [
             [
              "09-03-2020"
             ],
             {
              "frame": {
               "duration": 300,
               "redraw": false
              },
              "mode": "immediate",
              "transition": {
               "duration": 300
              }
             }
            ],
            "label": "09-03-2020",
            "method": "animate"
           },
           {
            "args": [
             [
              "10-03-2020"
             ],
             {
              "frame": {
               "duration": 300,
               "redraw": false
              },
              "mode": "immediate",
              "transition": {
               "duration": 300
              }
             }
            ],
            "label": "10-03-2020",
            "method": "animate"
           },
           {
            "args": [
             [
              "11-03-2020"
             ],
             {
              "frame": {
               "duration": 300,
               "redraw": false
              },
              "mode": "immediate",
              "transition": {
               "duration": 300
              }
             }
            ],
            "label": "11-03-2020",
            "method": "animate"
           },
           {
            "args": [
             [
              "12-03-2020"
             ],
             {
              "frame": {
               "duration": 300,
               "redraw": false
              },
              "mode": "immediate",
              "transition": {
               "duration": 300
              }
             }
            ],
            "label": "12-03-2020",
            "method": "animate"
           },
           {
            "args": [
             [
              "13-03-2020"
             ],
             {
              "frame": {
               "duration": 300,
               "redraw": false
              },
              "mode": "immediate",
              "transition": {
               "duration": 300
              }
             }
            ],
            "label": "13-03-2020",
            "method": "animate"
           },
           {
            "args": [
             [
              "14-03-2020"
             ],
             {
              "frame": {
               "duration": 300,
               "redraw": false
              },
              "mode": "immediate",
              "transition": {
               "duration": 300
              }
             }
            ],
            "label": "14-03-2020",
            "method": "animate"
           },
           {
            "args": [
             [
              "15-03-2020"
             ],
             {
              "frame": {
               "duration": 300,
               "redraw": false
              },
              "mode": "immediate",
              "transition": {
               "duration": 300
              }
             }
            ],
            "label": "15-03-2020",
            "method": "animate"
           },
           {
            "args": [
             [
              "16-03-2020"
             ],
             {
              "frame": {
               "duration": 300,
               "redraw": false
              },
              "mode": "immediate",
              "transition": {
               "duration": 300
              }
             }
            ],
            "label": "16-03-2020",
            "method": "animate"
           },
           {
            "args": [
             [
              "17-03-2020"
             ],
             {
              "frame": {
               "duration": 300,
               "redraw": false
              },
              "mode": "immediate",
              "transition": {
               "duration": 300
              }
             }
            ],
            "label": "17-03-2020",
            "method": "animate"
           },
           {
            "args": [
             [
              "18-03-2020"
             ],
             {
              "frame": {
               "duration": 300,
               "redraw": false
              },
              "mode": "immediate",
              "transition": {
               "duration": 300
              }
             }
            ],
            "label": "18-03-2020",
            "method": "animate"
           },
           {
            "args": [
             [
              "19-03-2020"
             ],
             {
              "frame": {
               "duration": 300,
               "redraw": false
              },
              "mode": "immediate",
              "transition": {
               "duration": 300
              }
             }
            ],
            "label": "19-03-2020",
            "method": "animate"
           },
           {
            "args": [
             [
              "20-03-2020"
             ],
             {
              "frame": {
               "duration": 300,
               "redraw": false
              },
              "mode": "immediate",
              "transition": {
               "duration": 300
              }
             }
            ],
            "label": "20-03-2020",
            "method": "animate"
           },
           {
            "args": [
             [
              "21-03-2020"
             ],
             {
              "frame": {
               "duration": 300,
               "redraw": false
              },
              "mode": "immediate",
              "transition": {
               "duration": 300
              }
             }
            ],
            "label": "21-03-2020",
            "method": "animate"
           },
           {
            "args": [
             [
              "22-03-2020"
             ],
             {
              "frame": {
               "duration": 300,
               "redraw": false
              },
              "mode": "immediate",
              "transition": {
               "duration": 300
              }
             }
            ],
            "label": "22-03-2020",
            "method": "animate"
           },
           {
            "args": [
             [
              "23-03-2020"
             ],
             {
              "frame": {
               "duration": 300,
               "redraw": false
              },
              "mode": "immediate",
              "transition": {
               "duration": 300
              }
             }
            ],
            "label": "23-03-2020",
            "method": "animate"
           },
           {
            "args": [
             [
              "24-03-2020"
             ],
             {
              "frame": {
               "duration": 300,
               "redraw": false
              },
              "mode": "immediate",
              "transition": {
               "duration": 300
              }
             }
            ],
            "label": "24-03-2020",
            "method": "animate"
           },
           {
            "args": [
             [
              "25-03-2020"
             ],
             {
              "frame": {
               "duration": 300,
               "redraw": false
              },
              "mode": "immediate",
              "transition": {
               "duration": 300
              }
             }
            ],
            "label": "25-03-2020",
            "method": "animate"
           },
           {
            "args": [
             [
              "26-03-2020"
             ],
             {
              "frame": {
               "duration": 300,
               "redraw": false
              },
              "mode": "immediate",
              "transition": {
               "duration": 300
              }
             }
            ],
            "label": "26-03-2020",
            "method": "animate"
           },
           {
            "args": [
             [
              "27-03-2020"
             ],
             {
              "frame": {
               "duration": 300,
               "redraw": false
              },
              "mode": "immediate",
              "transition": {
               "duration": 300
              }
             }
            ],
            "label": "27-03-2020",
            "method": "animate"
           },
           {
            "args": [
             [
              "28-03-2020"
             ],
             {
              "frame": {
               "duration": 300,
               "redraw": false
              },
              "mode": "immediate",
              "transition": {
               "duration": 300
              }
             }
            ],
            "label": "28-03-2020",
            "method": "animate"
           },
           {
            "args": [
             [
              "29-03-2020"
             ],
             {
              "frame": {
               "duration": 300,
               "redraw": false
              },
              "mode": "immediate",
              "transition": {
               "duration": 300
              }
             }
            ],
            "label": "29-03-2020",
            "method": "animate"
           },
           {
            "args": [
             [
              "30-03-2020"
             ],
             {
              "frame": {
               "duration": 300,
               "redraw": false
              },
              "mode": "immediate",
              "transition": {
               "duration": 300
              }
             }
            ],
            "label": "30-03-2020",
            "method": "animate"
           },
           {
            "args": [
             [
              "31-03-2020"
             ],
             {
              "frame": {
               "duration": 300,
               "redraw": false
              },
              "mode": "immediate",
              "transition": {
               "duration": 300
              }
             }
            ],
            "label": "31-03-2020",
            "method": "animate"
           },
           {
            "args": [
             [
              "01-04-2020"
             ],
             {
              "frame": {
               "duration": 300,
               "redraw": false
              },
              "mode": "immediate",
              "transition": {
               "duration": 300
              }
             }
            ],
            "label": "01-04-2020",
            "method": "animate"
           },
           {
            "args": [
             [
              "02-04-2020"
             ],
             {
              "frame": {
               "duration": 300,
               "redraw": false
              },
              "mode": "immediate",
              "transition": {
               "duration": 300
              }
             }
            ],
            "label": "02-04-2020",
            "method": "animate"
           },
           {
            "args": [
             [
              "03-04-2020"
             ],
             {
              "frame": {
               "duration": 300,
               "redraw": false
              },
              "mode": "immediate",
              "transition": {
               "duration": 300
              }
             }
            ],
            "label": "03-04-2020",
            "method": "animate"
           },
           {
            "args": [
             [
              "04-04-2020"
             ],
             {
              "frame": {
               "duration": 300,
               "redraw": false
              },
              "mode": "immediate",
              "transition": {
               "duration": 300
              }
             }
            ],
            "label": "04-04-2020",
            "method": "animate"
           },
           {
            "args": [
             [
              "05-04-2020"
             ],
             {
              "frame": {
               "duration": 300,
               "redraw": false
              },
              "mode": "immediate",
              "transition": {
               "duration": 300
              }
             }
            ],
            "label": "05-04-2020",
            "method": "animate"
           },
           {
            "args": [
             [
              "06-04-2020"
             ],
             {
              "frame": {
               "duration": 300,
               "redraw": false
              },
              "mode": "immediate",
              "transition": {
               "duration": 300
              }
             }
            ],
            "label": "06-04-2020",
            "method": "animate"
           },
           {
            "args": [
             [
              "07-04-2020"
             ],
             {
              "frame": {
               "duration": 300,
               "redraw": false
              },
              "mode": "immediate",
              "transition": {
               "duration": 300
              }
             }
            ],
            "label": "07-04-2020",
            "method": "animate"
           },
           {
            "args": [
             [
              "08-04-2020"
             ],
             {
              "frame": {
               "duration": 300,
               "redraw": false
              },
              "mode": "immediate",
              "transition": {
               "duration": 300
              }
             }
            ],
            "label": "08-04-2020",
            "method": "animate"
           },
           {
            "args": [
             [
              "09-04-2020"
             ],
             {
              "frame": {
               "duration": 300,
               "redraw": false
              },
              "mode": "immediate",
              "transition": {
               "duration": 300
              }
             }
            ],
            "label": "09-04-2020",
            "method": "animate"
           },
           {
            "args": [
             [
              "10-04-2020"
             ],
             {
              "frame": {
               "duration": 300,
               "redraw": false
              },
              "mode": "immediate",
              "transition": {
               "duration": 300
              }
             }
            ],
            "label": "10-04-2020",
            "method": "animate"
           },
           {
            "args": [
             [
              "11-04-2020"
             ],
             {
              "frame": {
               "duration": 300,
               "redraw": false
              },
              "mode": "immediate",
              "transition": {
               "duration": 300
              }
             }
            ],
            "label": "11-04-2020",
            "method": "animate"
           },
           {
            "args": [
             [
              "12-04-2020"
             ],
             {
              "frame": {
               "duration": 300,
               "redraw": false
              },
              "mode": "immediate",
              "transition": {
               "duration": 300
              }
             }
            ],
            "label": "12-04-2020",
            "method": "animate"
           },
           {
            "args": [
             [
              "13-04-2020"
             ],
             {
              "frame": {
               "duration": 300,
               "redraw": false
              },
              "mode": "immediate",
              "transition": {
               "duration": 300
              }
             }
            ],
            "label": "13-04-2020",
            "method": "animate"
           },
           {
            "args": [
             [
              "14-04-2020"
             ],
             {
              "frame": {
               "duration": 300,
               "redraw": false
              },
              "mode": "immediate",
              "transition": {
               "duration": 300
              }
             }
            ],
            "label": "14-04-2020",
            "method": "animate"
           },
           {
            "args": [
             [
              "15-04-2020"
             ],
             {
              "frame": {
               "duration": 300,
               "redraw": false
              },
              "mode": "immediate",
              "transition": {
               "duration": 300
              }
             }
            ],
            "label": "15-04-2020",
            "method": "animate"
           },
           {
            "args": [
             [
              "16-04-2020"
             ],
             {
              "frame": {
               "duration": 300,
               "redraw": false
              },
              "mode": "immediate",
              "transition": {
               "duration": 300
              }
             }
            ],
            "label": "16-04-2020",
            "method": "animate"
           },
           {
            "args": [
             [
              "17-04-2020"
             ],
             {
              "frame": {
               "duration": 300,
               "redraw": false
              },
              "mode": "immediate",
              "transition": {
               "duration": 300
              }
             }
            ],
            "label": "17-04-2020",
            "method": "animate"
           },
           {
            "args": [
             [
              "18-04-2020"
             ],
             {
              "frame": {
               "duration": 300,
               "redraw": false
              },
              "mode": "immediate",
              "transition": {
               "duration": 300
              }
             }
            ],
            "label": "18-04-2020",
            "method": "animate"
           }
          ],
          "transition": {
           "duration": 300,
           "easing": "cubic-in-out"
          },
          "x": 0.1,
          "xanchor": "left",
          "y": 0,
          "yanchor": "top"
         }
        ],
        "template": {
         "data": {
          "bar": [
           {
            "error_x": {
             "color": "#2a3f5f"
            },
            "error_y": {
             "color": "#2a3f5f"
            },
            "marker": {
             "line": {
              "color": "#E5ECF6",
              "width": 0.5
             }
            },
            "type": "bar"
           }
          ],
          "barpolar": [
           {
            "marker": {
             "line": {
              "color": "#E5ECF6",
              "width": 0.5
             }
            },
            "type": "barpolar"
           }
          ],
          "carpet": [
           {
            "aaxis": {
             "endlinecolor": "#2a3f5f",
             "gridcolor": "white",
             "linecolor": "white",
             "minorgridcolor": "white",
             "startlinecolor": "#2a3f5f"
            },
            "baxis": {
             "endlinecolor": "#2a3f5f",
             "gridcolor": "white",
             "linecolor": "white",
             "minorgridcolor": "white",
             "startlinecolor": "#2a3f5f"
            },
            "type": "carpet"
           }
          ],
          "choropleth": [
           {
            "colorbar": {
             "outlinewidth": 0,
             "ticks": ""
            },
            "type": "choropleth"
           }
          ],
          "contour": [
           {
            "colorbar": {
             "outlinewidth": 0,
             "ticks": ""
            },
            "colorscale": [
             [
              0,
              "#0d0887"
             ],
             [
              0.1111111111111111,
              "#46039f"
             ],
             [
              0.2222222222222222,
              "#7201a8"
             ],
             [
              0.3333333333333333,
              "#9c179e"
             ],
             [
              0.4444444444444444,
              "#bd3786"
             ],
             [
              0.5555555555555556,
              "#d8576b"
             ],
             [
              0.6666666666666666,
              "#ed7953"
             ],
             [
              0.7777777777777778,
              "#fb9f3a"
             ],
             [
              0.8888888888888888,
              "#fdca26"
             ],
             [
              1,
              "#f0f921"
             ]
            ],
            "type": "contour"
           }
          ],
          "contourcarpet": [
           {
            "colorbar": {
             "outlinewidth": 0,
             "ticks": ""
            },
            "type": "contourcarpet"
           }
          ],
          "heatmap": [
           {
            "colorbar": {
             "outlinewidth": 0,
             "ticks": ""
            },
            "colorscale": [
             [
              0,
              "#0d0887"
             ],
             [
              0.1111111111111111,
              "#46039f"
             ],
             [
              0.2222222222222222,
              "#7201a8"
             ],
             [
              0.3333333333333333,
              "#9c179e"
             ],
             [
              0.4444444444444444,
              "#bd3786"
             ],
             [
              0.5555555555555556,
              "#d8576b"
             ],
             [
              0.6666666666666666,
              "#ed7953"
             ],
             [
              0.7777777777777778,
              "#fb9f3a"
             ],
             [
              0.8888888888888888,
              "#fdca26"
             ],
             [
              1,
              "#f0f921"
             ]
            ],
            "type": "heatmap"
           }
          ],
          "heatmapgl": [
           {
            "colorbar": {
             "outlinewidth": 0,
             "ticks": ""
            },
            "colorscale": [
             [
              0,
              "#0d0887"
             ],
             [
              0.1111111111111111,
              "#46039f"
             ],
             [
              0.2222222222222222,
              "#7201a8"
             ],
             [
              0.3333333333333333,
              "#9c179e"
             ],
             [
              0.4444444444444444,
              "#bd3786"
             ],
             [
              0.5555555555555556,
              "#d8576b"
             ],
             [
              0.6666666666666666,
              "#ed7953"
             ],
             [
              0.7777777777777778,
              "#fb9f3a"
             ],
             [
              0.8888888888888888,
              "#fdca26"
             ],
             [
              1,
              "#f0f921"
             ]
            ],
            "type": "heatmapgl"
           }
          ],
          "histogram": [
           {
            "marker": {
             "colorbar": {
              "outlinewidth": 0,
              "ticks": ""
             }
            },
            "type": "histogram"
           }
          ],
          "histogram2d": [
           {
            "colorbar": {
             "outlinewidth": 0,
             "ticks": ""
            },
            "colorscale": [
             [
              0,
              "#0d0887"
             ],
             [
              0.1111111111111111,
              "#46039f"
             ],
             [
              0.2222222222222222,
              "#7201a8"
             ],
             [
              0.3333333333333333,
              "#9c179e"
             ],
             [
              0.4444444444444444,
              "#bd3786"
             ],
             [
              0.5555555555555556,
              "#d8576b"
             ],
             [
              0.6666666666666666,
              "#ed7953"
             ],
             [
              0.7777777777777778,
              "#fb9f3a"
             ],
             [
              0.8888888888888888,
              "#fdca26"
             ],
             [
              1,
              "#f0f921"
             ]
            ],
            "type": "histogram2d"
           }
          ],
          "histogram2dcontour": [
           {
            "colorbar": {
             "outlinewidth": 0,
             "ticks": ""
            },
            "colorscale": [
             [
              0,
              "#0d0887"
             ],
             [
              0.1111111111111111,
              "#46039f"
             ],
             [
              0.2222222222222222,
              "#7201a8"
             ],
             [
              0.3333333333333333,
              "#9c179e"
             ],
             [
              0.4444444444444444,
              "#bd3786"
             ],
             [
              0.5555555555555556,
              "#d8576b"
             ],
             [
              0.6666666666666666,
              "#ed7953"
             ],
             [
              0.7777777777777778,
              "#fb9f3a"
             ],
             [
              0.8888888888888888,
              "#fdca26"
             ],
             [
              1,
              "#f0f921"
             ]
            ],
            "type": "histogram2dcontour"
           }
          ],
          "mesh3d": [
           {
            "colorbar": {
             "outlinewidth": 0,
             "ticks": ""
            },
            "type": "mesh3d"
           }
          ],
          "parcoords": [
           {
            "line": {
             "colorbar": {
              "outlinewidth": 0,
              "ticks": ""
             }
            },
            "type": "parcoords"
           }
          ],
          "pie": [
           {
            "automargin": true,
            "type": "pie"
           }
          ],
          "scatter": [
           {
            "marker": {
             "colorbar": {
              "outlinewidth": 0,
              "ticks": ""
             }
            },
            "type": "scatter"
           }
          ],
          "scatter3d": [
           {
            "line": {
             "colorbar": {
              "outlinewidth": 0,
              "ticks": ""
             }
            },
            "marker": {
             "colorbar": {
              "outlinewidth": 0,
              "ticks": ""
             }
            },
            "type": "scatter3d"
           }
          ],
          "scattercarpet": [
           {
            "marker": {
             "colorbar": {
              "outlinewidth": 0,
              "ticks": ""
             }
            },
            "type": "scattercarpet"
           }
          ],
          "scattergeo": [
           {
            "marker": {
             "colorbar": {
              "outlinewidth": 0,
              "ticks": ""
             }
            },
            "type": "scattergeo"
           }
          ],
          "scattergl": [
           {
            "marker": {
             "colorbar": {
              "outlinewidth": 0,
              "ticks": ""
             }
            },
            "type": "scattergl"
           }
          ],
          "scattermapbox": [
           {
            "marker": {
             "colorbar": {
              "outlinewidth": 0,
              "ticks": ""
             }
            },
            "type": "scattermapbox"
           }
          ],
          "scatterpolar": [
           {
            "marker": {
             "colorbar": {
              "outlinewidth": 0,
              "ticks": ""
             }
            },
            "type": "scatterpolar"
           }
          ],
          "scatterpolargl": [
           {
            "marker": {
             "colorbar": {
              "outlinewidth": 0,
              "ticks": ""
             }
            },
            "type": "scatterpolargl"
           }
          ],
          "scatterternary": [
           {
            "marker": {
             "colorbar": {
              "outlinewidth": 0,
              "ticks": ""
             }
            },
            "type": "scatterternary"
           }
          ],
          "surface": [
           {
            "colorbar": {
             "outlinewidth": 0,
             "ticks": ""
            },
            "colorscale": [
             [
              0,
              "#0d0887"
             ],
             [
              0.1111111111111111,
              "#46039f"
             ],
             [
              0.2222222222222222,
              "#7201a8"
             ],
             [
              0.3333333333333333,
              "#9c179e"
             ],
             [
              0.4444444444444444,
              "#bd3786"
             ],
             [
              0.5555555555555556,
              "#d8576b"
             ],
             [
              0.6666666666666666,
              "#ed7953"
             ],
             [
              0.7777777777777778,
              "#fb9f3a"
             ],
             [
              0.8888888888888888,
              "#fdca26"
             ],
             [
              1,
              "#f0f921"
             ]
            ],
            "type": "surface"
           }
          ],
          "table": [
           {
            "cells": {
             "fill": {
              "color": "#EBF0F8"
             },
             "line": {
              "color": "white"
             }
            },
            "header": {
             "fill": {
              "color": "#C8D4E3"
             },
             "line": {
              "color": "white"
             }
            },
            "type": "table"
           }
          ]
         },
         "layout": {
          "annotationdefaults": {
           "arrowcolor": "#2a3f5f",
           "arrowhead": 0,
           "arrowwidth": 1
          },
          "coloraxis": {
           "colorbar": {
            "outlinewidth": 0,
            "ticks": ""
           }
          },
          "colorscale": {
           "diverging": [
            [
             0,
             "#8e0152"
            ],
            [
             0.1,
             "#c51b7d"
            ],
            [
             0.2,
             "#de77ae"
            ],
            [
             0.3,
             "#f1b6da"
            ],
            [
             0.4,
             "#fde0ef"
            ],
            [
             0.5,
             "#f7f7f7"
            ],
            [
             0.6,
             "#e6f5d0"
            ],
            [
             0.7,
             "#b8e186"
            ],
            [
             0.8,
             "#7fbc41"
            ],
            [
             0.9,
             "#4d9221"
            ],
            [
             1,
             "#276419"
            ]
           ],
           "sequential": [
            [
             0,
             "#0d0887"
            ],
            [
             0.1111111111111111,
             "#46039f"
            ],
            [
             0.2222222222222222,
             "#7201a8"
            ],
            [
             0.3333333333333333,
             "#9c179e"
            ],
            [
             0.4444444444444444,
             "#bd3786"
            ],
            [
             0.5555555555555556,
             "#d8576b"
            ],
            [
             0.6666666666666666,
             "#ed7953"
            ],
            [
             0.7777777777777778,
             "#fb9f3a"
            ],
            [
             0.8888888888888888,
             "#fdca26"
            ],
            [
             1,
             "#f0f921"
            ]
           ],
           "sequentialminus": [
            [
             0,
             "#0d0887"
            ],
            [
             0.1111111111111111,
             "#46039f"
            ],
            [
             0.2222222222222222,
             "#7201a8"
            ],
            [
             0.3333333333333333,
             "#9c179e"
            ],
            [
             0.4444444444444444,
             "#bd3786"
            ],
            [
             0.5555555555555556,
             "#d8576b"
            ],
            [
             0.6666666666666666,
             "#ed7953"
            ],
            [
             0.7777777777777778,
             "#fb9f3a"
            ],
            [
             0.8888888888888888,
             "#fdca26"
            ],
            [
             1,
             "#f0f921"
            ]
           ]
          },
          "colorway": [
           "#636efa",
           "#EF553B",
           "#00cc96",
           "#ab63fa",
           "#FFA15A",
           "#19d3f3",
           "#FF6692",
           "#B6E880",
           "#FF97FF",
           "#FECB52"
          ],
          "font": {
           "color": "#2a3f5f"
          },
          "geo": {
           "bgcolor": "white",
           "lakecolor": "white",
           "landcolor": "#E5ECF6",
           "showlakes": true,
           "showland": true,
           "subunitcolor": "white"
          },
          "hoverlabel": {
           "align": "left"
          },
          "hovermode": "closest",
          "mapbox": {
           "style": "light"
          },
          "paper_bgcolor": "white",
          "plot_bgcolor": "#E5ECF6",
          "polar": {
           "angularaxis": {
            "gridcolor": "white",
            "linecolor": "white",
            "ticks": ""
           },
           "bgcolor": "#E5ECF6",
           "radialaxis": {
            "gridcolor": "white",
            "linecolor": "white",
            "ticks": ""
           }
          },
          "scene": {
           "xaxis": {
            "backgroundcolor": "#E5ECF6",
            "gridcolor": "white",
            "gridwidth": 2,
            "linecolor": "white",
            "showbackground": true,
            "ticks": "",
            "zerolinecolor": "white"
           },
           "yaxis": {
            "backgroundcolor": "#E5ECF6",
            "gridcolor": "white",
            "gridwidth": 2,
            "linecolor": "white",
            "showbackground": true,
            "ticks": "",
            "zerolinecolor": "white"
           },
           "zaxis": {
            "backgroundcolor": "#E5ECF6",
            "gridcolor": "white",
            "gridwidth": 2,
            "linecolor": "white",
            "showbackground": true,
            "ticks": "",
            "zerolinecolor": "white"
           }
          },
          "shapedefaults": {
           "line": {
            "color": "#2a3f5f"
           }
          },
          "ternary": {
           "aaxis": {
            "gridcolor": "white",
            "linecolor": "white",
            "ticks": ""
           },
           "baxis": {
            "gridcolor": "white",
            "linecolor": "white",
            "ticks": ""
           },
           "bgcolor": "#E5ECF6",
           "caxis": {
            "gridcolor": "white",
            "linecolor": "white",
            "ticks": ""
           }
          },
          "title": {
           "x": 0.05
          },
          "xaxis": {
           "automargin": true,
           "gridcolor": "white",
           "linecolor": "white",
           "ticks": "",
           "title": {
            "standoff": 15
           },
           "zerolinecolor": "white",
           "zerolinewidth": 2
          },
          "yaxis": {
           "automargin": true,
           "gridcolor": "white",
           "linecolor": "white",
           "ticks": "",
           "title": {
            "standoff": 15
           },
           "zerolinecolor": "white",
           "zerolinewidth": 2
          }
         }
        },
        "updatemenus": [
         {
          "buttons": [
           {
            "args": [
             null,
             {
              "frame": {
               "duration": 500,
               "redraw": false
              },
              "fromcurrent": true,
              "transition": {
               "duration": 300,
               "easing": "quadratic-in-out"
              }
             }
            ],
            "label": "Play",
            "method": "animate"
           },
           {
            "args": [
             [
              null
             ],
             {
              "frame": {
               "duration": 0,
               "redraw": false
              },
              "mode": "immediate",
              "transition": {
               "duration": 0
              }
             }
            ],
            "label": "Pause",
            "method": "animate"
           }
          ],
          "direction": "left",
          "pad": {
           "r": 10,
           "t": 87
          },
          "showactive": false,
          "type": "buttons",
          "x": 0.1,
          "xanchor": "right",
          "y": 0,
          "yanchor": "top"
         }
        ],
        "xaxis": {
         "title": {
          "text": "casos totales"
         },
         "type": "log"
        },
        "yaxis": {
         "title": {
          "text": "casos diarios"
         },
         "type": "log"
        }
       }
      },
      "text/html": [
       "<div>\n",
       "        \n",
       "        \n",
       "            <div id=\"6f6342f0-58c6-46c3-a1ca-543efb603632\" class=\"plotly-graph-div\" style=\"height:525px; width:100%;\"></div>\n",
       "            <script type=\"text/javascript\">\n",
       "                require([\"plotly\"], function(Plotly) {\n",
       "                    window.PLOTLYENV=window.PLOTLYENV || {};\n",
       "                    \n",
       "                if (document.getElementById(\"6f6342f0-58c6-46c3-a1ca-543efb603632\")) {\n",
       "                    Plotly.newPlot(\n",
       "                        '6f6342f0-58c6-46c3-a1ca-543efb603632',\n",
       "                        [{\"mode\": \"markers\", \"text\": [], \"type\": \"scatter\", \"x\": [], \"y\": []}, {\"mode\": \"markers\", \"text\": [], \"type\": \"scatter\", \"x\": [], \"y\": []}, {\"mode\": \"markers\", \"text\": [], \"type\": \"scatter\", \"x\": [], \"y\": []}, {\"mode\": \"markers\", \"text\": [], \"type\": \"scatter\", \"x\": [], \"y\": []}, {\"mode\": \"markers\", \"text\": [], \"type\": \"scatter\", \"x\": [], \"y\": []}, {\"mode\": \"markers\", \"text\": [], \"type\": \"scatter\", \"x\": [], \"y\": []}, {\"mode\": \"markers\", \"text\": [], \"type\": \"scatter\", \"x\": [], \"y\": []}, {\"mode\": \"markers\", \"text\": [], \"type\": \"scatter\", \"x\": [], \"y\": []}, {\"mode\": \"markers\", \"text\": [], \"type\": \"scatter\", \"x\": [], \"y\": []}],\n",
       "                        {\"hovermode\": \"closest\", \"sliders\": [{\"active\": 0, \"currentvalue\": {\"font\": {\"size\": 20}, \"prefix\": \"Fecha:\", \"visible\": true, \"xanchor\": \"right\"}, \"len\": 0.9, \"pad\": {\"b\": 10, \"t\": 50}, \"steps\": [{\"args\": [[\"15-02-2020\"], {\"frame\": {\"duration\": 300, \"redraw\": false}, \"mode\": \"immediate\", \"transition\": {\"duration\": 300}}], \"label\": \"15-02-2020\", \"method\": \"animate\"}, {\"args\": [[\"16-02-2020\"], {\"frame\": {\"duration\": 300, \"redraw\": false}, \"mode\": \"immediate\", \"transition\": {\"duration\": 300}}], \"label\": \"16-02-2020\", \"method\": \"animate\"}, {\"args\": [[\"17-02-2020\"], {\"frame\": {\"duration\": 300, \"redraw\": false}, \"mode\": \"immediate\", \"transition\": {\"duration\": 300}}], \"label\": \"17-02-2020\", \"method\": \"animate\"}, {\"args\": [[\"18-02-2020\"], {\"frame\": {\"duration\": 300, \"redraw\": false}, \"mode\": \"immediate\", \"transition\": {\"duration\": 300}}], \"label\": \"18-02-2020\", \"method\": \"animate\"}, {\"args\": [[\"19-02-2020\"], {\"frame\": {\"duration\": 300, \"redraw\": false}, \"mode\": \"immediate\", \"transition\": {\"duration\": 300}}], \"label\": \"19-02-2020\", \"method\": \"animate\"}, {\"args\": [[\"20-02-2020\"], {\"frame\": {\"duration\": 300, \"redraw\": false}, \"mode\": \"immediate\", \"transition\": {\"duration\": 300}}], \"label\": \"20-02-2020\", \"method\": \"animate\"}, {\"args\": [[\"21-02-2020\"], {\"frame\": {\"duration\": 300, \"redraw\": false}, \"mode\": \"immediate\", \"transition\": {\"duration\": 300}}], \"label\": \"21-02-2020\", \"method\": \"animate\"}, {\"args\": [[\"22-02-2020\"], {\"frame\": {\"duration\": 300, \"redraw\": false}, \"mode\": \"immediate\", \"transition\": {\"duration\": 300}}], \"label\": \"22-02-2020\", \"method\": \"animate\"}, {\"args\": [[\"23-02-2020\"], {\"frame\": {\"duration\": 300, \"redraw\": false}, \"mode\": \"immediate\", \"transition\": {\"duration\": 300}}], \"label\": \"23-02-2020\", \"method\": \"animate\"}, {\"args\": [[\"24-02-2020\"], {\"frame\": {\"duration\": 300, \"redraw\": false}, \"mode\": \"immediate\", \"transition\": {\"duration\": 300}}], \"label\": \"24-02-2020\", \"method\": \"animate\"}, {\"args\": [[\"25-02-2020\"], {\"frame\": {\"duration\": 300, \"redraw\": false}, \"mode\": \"immediate\", \"transition\": {\"duration\": 300}}], \"label\": \"25-02-2020\", \"method\": \"animate\"}, {\"args\": [[\"26-02-2020\"], {\"frame\": {\"duration\": 300, \"redraw\": false}, \"mode\": \"immediate\", \"transition\": {\"duration\": 300}}], \"label\": \"26-02-2020\", \"method\": \"animate\"}, {\"args\": [[\"27-02-2020\"], {\"frame\": {\"duration\": 300, \"redraw\": false}, \"mode\": \"immediate\", \"transition\": {\"duration\": 300}}], \"label\": \"27-02-2020\", \"method\": \"animate\"}, {\"args\": [[\"28-02-2020\"], {\"frame\": {\"duration\": 300, \"redraw\": false}, \"mode\": \"immediate\", \"transition\": {\"duration\": 300}}], \"label\": \"28-02-2020\", \"method\": \"animate\"}, {\"args\": [[\"29-02-2020\"], {\"frame\": {\"duration\": 300, \"redraw\": false}, \"mode\": \"immediate\", \"transition\": {\"duration\": 300}}], \"label\": \"29-02-2020\", \"method\": \"animate\"}, {\"args\": [[\"01-03-2020\"], {\"frame\": {\"duration\": 300, \"redraw\": false}, \"mode\": \"immediate\", \"transition\": {\"duration\": 300}}], \"label\": \"01-03-2020\", \"method\": \"animate\"}, {\"args\": [[\"02-03-2020\"], {\"frame\": {\"duration\": 300, \"redraw\": false}, \"mode\": \"immediate\", \"transition\": {\"duration\": 300}}], \"label\": \"02-03-2020\", \"method\": \"animate\"}, {\"args\": [[\"03-03-2020\"], {\"frame\": {\"duration\": 300, \"redraw\": false}, \"mode\": \"immediate\", \"transition\": {\"duration\": 300}}], \"label\": \"03-03-2020\", \"method\": \"animate\"}, {\"args\": [[\"04-03-2020\"], {\"frame\": {\"duration\": 300, \"redraw\": false}, \"mode\": \"immediate\", \"transition\": {\"duration\": 300}}], \"label\": \"04-03-2020\", \"method\": \"animate\"}, {\"args\": [[\"05-03-2020\"], {\"frame\": {\"duration\": 300, \"redraw\": false}, \"mode\": \"immediate\", \"transition\": {\"duration\": 300}}], \"label\": \"05-03-2020\", \"method\": \"animate\"}, {\"args\": [[\"06-03-2020\"], {\"frame\": {\"duration\": 300, \"redraw\": false}, \"mode\": \"immediate\", \"transition\": {\"duration\": 300}}], \"label\": \"06-03-2020\", \"method\": \"animate\"}, {\"args\": [[\"07-03-2020\"], {\"frame\": {\"duration\": 300, \"redraw\": false}, \"mode\": \"immediate\", \"transition\": {\"duration\": 300}}], \"label\": \"07-03-2020\", \"method\": \"animate\"}, {\"args\": [[\"08-03-2020\"], {\"frame\": {\"duration\": 300, \"redraw\": false}, \"mode\": \"immediate\", \"transition\": {\"duration\": 300}}], \"label\": \"08-03-2020\", \"method\": \"animate\"}, {\"args\": [[\"09-03-2020\"], {\"frame\": {\"duration\": 300, \"redraw\": false}, \"mode\": \"immediate\", \"transition\": {\"duration\": 300}}], \"label\": \"09-03-2020\", \"method\": \"animate\"}, {\"args\": [[\"10-03-2020\"], {\"frame\": {\"duration\": 300, \"redraw\": false}, \"mode\": \"immediate\", \"transition\": {\"duration\": 300}}], \"label\": \"10-03-2020\", \"method\": \"animate\"}, {\"args\": [[\"11-03-2020\"], {\"frame\": {\"duration\": 300, \"redraw\": false}, \"mode\": \"immediate\", \"transition\": {\"duration\": 300}}], \"label\": \"11-03-2020\", \"method\": \"animate\"}, {\"args\": [[\"12-03-2020\"], {\"frame\": {\"duration\": 300, \"redraw\": false}, \"mode\": \"immediate\", \"transition\": {\"duration\": 300}}], \"label\": \"12-03-2020\", \"method\": \"animate\"}, {\"args\": [[\"13-03-2020\"], {\"frame\": {\"duration\": 300, \"redraw\": false}, \"mode\": \"immediate\", \"transition\": {\"duration\": 300}}], \"label\": \"13-03-2020\", \"method\": \"animate\"}, {\"args\": [[\"14-03-2020\"], {\"frame\": {\"duration\": 300, \"redraw\": false}, \"mode\": \"immediate\", \"transition\": {\"duration\": 300}}], \"label\": \"14-03-2020\", \"method\": \"animate\"}, {\"args\": [[\"15-03-2020\"], {\"frame\": {\"duration\": 300, \"redraw\": false}, \"mode\": \"immediate\", \"transition\": {\"duration\": 300}}], \"label\": \"15-03-2020\", \"method\": \"animate\"}, {\"args\": [[\"16-03-2020\"], {\"frame\": {\"duration\": 300, \"redraw\": false}, \"mode\": \"immediate\", \"transition\": {\"duration\": 300}}], \"label\": \"16-03-2020\", \"method\": \"animate\"}, {\"args\": [[\"17-03-2020\"], {\"frame\": {\"duration\": 300, \"redraw\": false}, \"mode\": \"immediate\", \"transition\": {\"duration\": 300}}], \"label\": \"17-03-2020\", \"method\": \"animate\"}, {\"args\": [[\"18-03-2020\"], {\"frame\": {\"duration\": 300, \"redraw\": false}, \"mode\": \"immediate\", \"transition\": {\"duration\": 300}}], \"label\": \"18-03-2020\", \"method\": \"animate\"}, {\"args\": [[\"19-03-2020\"], {\"frame\": {\"duration\": 300, \"redraw\": false}, \"mode\": \"immediate\", \"transition\": {\"duration\": 300}}], \"label\": \"19-03-2020\", \"method\": \"animate\"}, {\"args\": [[\"20-03-2020\"], {\"frame\": {\"duration\": 300, \"redraw\": false}, \"mode\": \"immediate\", \"transition\": {\"duration\": 300}}], \"label\": \"20-03-2020\", \"method\": \"animate\"}, {\"args\": [[\"21-03-2020\"], {\"frame\": {\"duration\": 300, \"redraw\": false}, \"mode\": \"immediate\", \"transition\": {\"duration\": 300}}], \"label\": \"21-03-2020\", \"method\": \"animate\"}, {\"args\": [[\"22-03-2020\"], {\"frame\": {\"duration\": 300, \"redraw\": false}, \"mode\": \"immediate\", \"transition\": {\"duration\": 300}}], \"label\": \"22-03-2020\", \"method\": \"animate\"}, {\"args\": [[\"23-03-2020\"], {\"frame\": {\"duration\": 300, \"redraw\": false}, \"mode\": \"immediate\", \"transition\": {\"duration\": 300}}], \"label\": \"23-03-2020\", \"method\": \"animate\"}, {\"args\": [[\"24-03-2020\"], {\"frame\": {\"duration\": 300, \"redraw\": false}, \"mode\": \"immediate\", \"transition\": {\"duration\": 300}}], \"label\": \"24-03-2020\", \"method\": \"animate\"}, {\"args\": [[\"25-03-2020\"], {\"frame\": {\"duration\": 300, \"redraw\": false}, \"mode\": \"immediate\", \"transition\": {\"duration\": 300}}], \"label\": \"25-03-2020\", \"method\": \"animate\"}, {\"args\": [[\"26-03-2020\"], {\"frame\": {\"duration\": 300, \"redraw\": false}, \"mode\": \"immediate\", \"transition\": {\"duration\": 300}}], \"label\": \"26-03-2020\", \"method\": \"animate\"}, {\"args\": [[\"27-03-2020\"], {\"frame\": {\"duration\": 300, \"redraw\": false}, \"mode\": \"immediate\", \"transition\": {\"duration\": 300}}], \"label\": \"27-03-2020\", \"method\": \"animate\"}, {\"args\": [[\"28-03-2020\"], {\"frame\": {\"duration\": 300, \"redraw\": false}, \"mode\": \"immediate\", \"transition\": {\"duration\": 300}}], \"label\": \"28-03-2020\", \"method\": \"animate\"}, {\"args\": [[\"29-03-2020\"], {\"frame\": {\"duration\": 300, \"redraw\": false}, \"mode\": \"immediate\", \"transition\": {\"duration\": 300}}], \"label\": \"29-03-2020\", \"method\": \"animate\"}, {\"args\": [[\"30-03-2020\"], {\"frame\": {\"duration\": 300, \"redraw\": false}, \"mode\": \"immediate\", \"transition\": {\"duration\": 300}}], \"label\": \"30-03-2020\", \"method\": \"animate\"}, {\"args\": [[\"31-03-2020\"], {\"frame\": {\"duration\": 300, \"redraw\": false}, \"mode\": \"immediate\", \"transition\": {\"duration\": 300}}], \"label\": \"31-03-2020\", \"method\": \"animate\"}, {\"args\": [[\"01-04-2020\"], {\"frame\": {\"duration\": 300, \"redraw\": false}, \"mode\": \"immediate\", \"transition\": {\"duration\": 300}}], \"label\": \"01-04-2020\", \"method\": \"animate\"}, {\"args\": [[\"02-04-2020\"], {\"frame\": {\"duration\": 300, \"redraw\": false}, \"mode\": \"immediate\", \"transition\": {\"duration\": 300}}], \"label\": \"02-04-2020\", \"method\": \"animate\"}, {\"args\": [[\"03-04-2020\"], {\"frame\": {\"duration\": 300, \"redraw\": false}, \"mode\": \"immediate\", \"transition\": {\"duration\": 300}}], \"label\": \"03-04-2020\", \"method\": \"animate\"}, {\"args\": [[\"04-04-2020\"], {\"frame\": {\"duration\": 300, \"redraw\": false}, \"mode\": \"immediate\", \"transition\": {\"duration\": 300}}], \"label\": \"04-04-2020\", \"method\": \"animate\"}, {\"args\": [[\"05-04-2020\"], {\"frame\": {\"duration\": 300, \"redraw\": false}, \"mode\": \"immediate\", \"transition\": {\"duration\": 300}}], \"label\": \"05-04-2020\", \"method\": \"animate\"}, {\"args\": [[\"06-04-2020\"], {\"frame\": {\"duration\": 300, \"redraw\": false}, \"mode\": \"immediate\", \"transition\": {\"duration\": 300}}], \"label\": \"06-04-2020\", \"method\": \"animate\"}, {\"args\": [[\"07-04-2020\"], {\"frame\": {\"duration\": 300, \"redraw\": false}, \"mode\": \"immediate\", \"transition\": {\"duration\": 300}}], \"label\": \"07-04-2020\", \"method\": \"animate\"}, {\"args\": [[\"08-04-2020\"], {\"frame\": {\"duration\": 300, \"redraw\": false}, \"mode\": \"immediate\", \"transition\": {\"duration\": 300}}], \"label\": \"08-04-2020\", \"method\": \"animate\"}, {\"args\": [[\"09-04-2020\"], {\"frame\": {\"duration\": 300, \"redraw\": false}, \"mode\": \"immediate\", \"transition\": {\"duration\": 300}}], \"label\": \"09-04-2020\", \"method\": \"animate\"}, {\"args\": [[\"10-04-2020\"], {\"frame\": {\"duration\": 300, \"redraw\": false}, \"mode\": \"immediate\", \"transition\": {\"duration\": 300}}], \"label\": \"10-04-2020\", \"method\": \"animate\"}, {\"args\": [[\"11-04-2020\"], {\"frame\": {\"duration\": 300, \"redraw\": false}, \"mode\": \"immediate\", \"transition\": {\"duration\": 300}}], \"label\": \"11-04-2020\", \"method\": \"animate\"}, {\"args\": [[\"12-04-2020\"], {\"frame\": {\"duration\": 300, \"redraw\": false}, \"mode\": \"immediate\", \"transition\": {\"duration\": 300}}], \"label\": \"12-04-2020\", \"method\": \"animate\"}, {\"args\": [[\"13-04-2020\"], {\"frame\": {\"duration\": 300, \"redraw\": false}, \"mode\": \"immediate\", \"transition\": {\"duration\": 300}}], \"label\": \"13-04-2020\", \"method\": \"animate\"}, {\"args\": [[\"14-04-2020\"], {\"frame\": {\"duration\": 300, \"redraw\": false}, \"mode\": \"immediate\", \"transition\": {\"duration\": 300}}], \"label\": \"14-04-2020\", \"method\": \"animate\"}, {\"args\": [[\"15-04-2020\"], {\"frame\": {\"duration\": 300, \"redraw\": false}, \"mode\": \"immediate\", \"transition\": {\"duration\": 300}}], \"label\": \"15-04-2020\", \"method\": \"animate\"}, {\"args\": [[\"16-04-2020\"], {\"frame\": {\"duration\": 300, \"redraw\": false}, \"mode\": \"immediate\", \"transition\": {\"duration\": 300}}], \"label\": \"16-04-2020\", \"method\": \"animate\"}, {\"args\": [[\"17-04-2020\"], {\"frame\": {\"duration\": 300, \"redraw\": false}, \"mode\": \"immediate\", \"transition\": {\"duration\": 300}}], \"label\": \"17-04-2020\", \"method\": \"animate\"}, {\"args\": [[\"18-04-2020\"], {\"frame\": {\"duration\": 300, \"redraw\": false}, \"mode\": \"immediate\", \"transition\": {\"duration\": 300}}], \"label\": \"18-04-2020\", \"method\": \"animate\"}, {\"args\": [[\"15-02-2020\"], {\"frame\": {\"duration\": 300, \"redraw\": false}, \"mode\": \"immediate\", \"transition\": {\"duration\": 300}}], \"label\": \"15-02-2020\", \"method\": \"animate\"}, {\"args\": [[\"16-02-2020\"], {\"frame\": {\"duration\": 300, \"redraw\": false}, \"mode\": \"immediate\", \"transition\": {\"duration\": 300}}], \"label\": \"16-02-2020\", \"method\": \"animate\"}, {\"args\": [[\"17-02-2020\"], {\"frame\": {\"duration\": 300, \"redraw\": false}, \"mode\": \"immediate\", \"transition\": {\"duration\": 300}}], \"label\": \"17-02-2020\", \"method\": \"animate\"}, {\"args\": [[\"18-02-2020\"], {\"frame\": {\"duration\": 300, \"redraw\": false}, \"mode\": \"immediate\", \"transition\": {\"duration\": 300}}], \"label\": \"18-02-2020\", \"method\": \"animate\"}, {\"args\": [[\"19-02-2020\"], {\"frame\": {\"duration\": 300, \"redraw\": false}, \"mode\": \"immediate\", \"transition\": {\"duration\": 300}}], \"label\": \"19-02-2020\", \"method\": \"animate\"}, {\"args\": [[\"20-02-2020\"], {\"frame\": {\"duration\": 300, \"redraw\": false}, \"mode\": \"immediate\", \"transition\": {\"duration\": 300}}], \"label\": \"20-02-2020\", \"method\": \"animate\"}, {\"args\": [[\"21-02-2020\"], {\"frame\": {\"duration\": 300, \"redraw\": false}, \"mode\": \"immediate\", \"transition\": {\"duration\": 300}}], \"label\": \"21-02-2020\", \"method\": \"animate\"}, {\"args\": [[\"22-02-2020\"], {\"frame\": {\"duration\": 300, \"redraw\": false}, \"mode\": \"immediate\", \"transition\": {\"duration\": 300}}], \"label\": \"22-02-2020\", \"method\": \"animate\"}, {\"args\": [[\"23-02-2020\"], {\"frame\": {\"duration\": 300, \"redraw\": false}, \"mode\": \"immediate\", \"transition\": {\"duration\": 300}}], \"label\": \"23-02-2020\", \"method\": \"animate\"}, {\"args\": [[\"24-02-2020\"], {\"frame\": {\"duration\": 300, \"redraw\": false}, \"mode\": \"immediate\", \"transition\": {\"duration\": 300}}], \"label\": \"24-02-2020\", \"method\": \"animate\"}, {\"args\": [[\"25-02-2020\"], {\"frame\": {\"duration\": 300, \"redraw\": false}, \"mode\": \"immediate\", \"transition\": {\"duration\": 300}}], \"label\": \"25-02-2020\", \"method\": \"animate\"}, {\"args\": [[\"26-02-2020\"], {\"frame\": {\"duration\": 300, \"redraw\": false}, \"mode\": \"immediate\", \"transition\": {\"duration\": 300}}], \"label\": \"26-02-2020\", \"method\": \"animate\"}, {\"args\": [[\"27-02-2020\"], {\"frame\": {\"duration\": 300, \"redraw\": false}, \"mode\": \"immediate\", \"transition\": {\"duration\": 300}}], \"label\": \"27-02-2020\", \"method\": \"animate\"}, {\"args\": [[\"28-02-2020\"], {\"frame\": {\"duration\": 300, \"redraw\": false}, \"mode\": \"immediate\", \"transition\": {\"duration\": 300}}], \"label\": \"28-02-2020\", \"method\": \"animate\"}, {\"args\": [[\"29-02-2020\"], {\"frame\": {\"duration\": 300, \"redraw\": false}, \"mode\": \"immediate\", \"transition\": {\"duration\": 300}}], \"label\": \"29-02-2020\", \"method\": \"animate\"}, {\"args\": [[\"01-03-2020\"], {\"frame\": {\"duration\": 300, \"redraw\": false}, \"mode\": \"immediate\", \"transition\": {\"duration\": 300}}], \"label\": \"01-03-2020\", \"method\": \"animate\"}, {\"args\": [[\"02-03-2020\"], {\"frame\": {\"duration\": 300, \"redraw\": false}, \"mode\": \"immediate\", \"transition\": {\"duration\": 300}}], \"label\": \"02-03-2020\", \"method\": \"animate\"}, {\"args\": [[\"03-03-2020\"], {\"frame\": {\"duration\": 300, \"redraw\": false}, \"mode\": \"immediate\", \"transition\": {\"duration\": 300}}], \"label\": \"03-03-2020\", \"method\": \"animate\"}, {\"args\": [[\"04-03-2020\"], {\"frame\": {\"duration\": 300, \"redraw\": false}, \"mode\": \"immediate\", \"transition\": {\"duration\": 300}}], \"label\": \"04-03-2020\", \"method\": \"animate\"}, {\"args\": [[\"05-03-2020\"], {\"frame\": {\"duration\": 300, \"redraw\": false}, \"mode\": \"immediate\", \"transition\": {\"duration\": 300}}], \"label\": \"05-03-2020\", \"method\": \"animate\"}, {\"args\": [[\"06-03-2020\"], {\"frame\": {\"duration\": 300, \"redraw\": false}, \"mode\": \"immediate\", \"transition\": {\"duration\": 300}}], \"label\": \"06-03-2020\", \"method\": \"animate\"}, {\"args\": [[\"07-03-2020\"], {\"frame\": {\"duration\": 300, \"redraw\": false}, \"mode\": \"immediate\", \"transition\": {\"duration\": 300}}], \"label\": \"07-03-2020\", \"method\": \"animate\"}, {\"args\": [[\"08-03-2020\"], {\"frame\": {\"duration\": 300, \"redraw\": false}, \"mode\": \"immediate\", \"transition\": {\"duration\": 300}}], \"label\": \"08-03-2020\", \"method\": \"animate\"}, {\"args\": [[\"09-03-2020\"], {\"frame\": {\"duration\": 300, \"redraw\": false}, \"mode\": \"immediate\", \"transition\": {\"duration\": 300}}], \"label\": \"09-03-2020\", \"method\": \"animate\"}, {\"args\": [[\"10-03-2020\"], {\"frame\": {\"duration\": 300, \"redraw\": false}, \"mode\": \"immediate\", \"transition\": {\"duration\": 300}}], \"label\": \"10-03-2020\", \"method\": \"animate\"}, {\"args\": [[\"11-03-2020\"], {\"frame\": {\"duration\": 300, \"redraw\": false}, \"mode\": \"immediate\", \"transition\": {\"duration\": 300}}], \"label\": \"11-03-2020\", \"method\": \"animate\"}, {\"args\": [[\"12-03-2020\"], {\"frame\": {\"duration\": 300, \"redraw\": false}, \"mode\": \"immediate\", \"transition\": {\"duration\": 300}}], \"label\": \"12-03-2020\", \"method\": \"animate\"}, {\"args\": [[\"13-03-2020\"], {\"frame\": {\"duration\": 300, \"redraw\": false}, \"mode\": \"immediate\", \"transition\": {\"duration\": 300}}], \"label\": \"13-03-2020\", \"method\": \"animate\"}, {\"args\": [[\"14-03-2020\"], {\"frame\": {\"duration\": 300, \"redraw\": false}, \"mode\": \"immediate\", \"transition\": {\"duration\": 300}}], \"label\": \"14-03-2020\", \"method\": \"animate\"}, {\"args\": [[\"15-03-2020\"], {\"frame\": {\"duration\": 300, \"redraw\": false}, \"mode\": \"immediate\", \"transition\": {\"duration\": 300}}], \"label\": \"15-03-2020\", \"method\": \"animate\"}, {\"args\": [[\"16-03-2020\"], {\"frame\": {\"duration\": 300, \"redraw\": false}, \"mode\": \"immediate\", \"transition\": {\"duration\": 300}}], \"label\": \"16-03-2020\", \"method\": \"animate\"}, {\"args\": [[\"17-03-2020\"], {\"frame\": {\"duration\": 300, \"redraw\": false}, \"mode\": \"immediate\", \"transition\": {\"duration\": 300}}], \"label\": \"17-03-2020\", \"method\": \"animate\"}, {\"args\": [[\"18-03-2020\"], {\"frame\": {\"duration\": 300, \"redraw\": false}, \"mode\": \"immediate\", \"transition\": {\"duration\": 300}}], \"label\": \"18-03-2020\", \"method\": \"animate\"}, {\"args\": [[\"19-03-2020\"], {\"frame\": {\"duration\": 300, \"redraw\": false}, \"mode\": \"immediate\", \"transition\": {\"duration\": 300}}], \"label\": \"19-03-2020\", \"method\": \"animate\"}, {\"args\": [[\"20-03-2020\"], {\"frame\": {\"duration\": 300, \"redraw\": false}, \"mode\": \"immediate\", \"transition\": {\"duration\": 300}}], \"label\": \"20-03-2020\", \"method\": \"animate\"}, {\"args\": [[\"21-03-2020\"], {\"frame\": {\"duration\": 300, \"redraw\": false}, \"mode\": \"immediate\", \"transition\": {\"duration\": 300}}], \"label\": \"21-03-2020\", \"method\": \"animate\"}, {\"args\": [[\"22-03-2020\"], {\"frame\": {\"duration\": 300, \"redraw\": false}, \"mode\": \"immediate\", \"transition\": {\"duration\": 300}}], \"label\": \"22-03-2020\", \"method\": \"animate\"}, {\"args\": [[\"23-03-2020\"], {\"frame\": {\"duration\": 300, \"redraw\": false}, \"mode\": \"immediate\", \"transition\": {\"duration\": 300}}], \"label\": \"23-03-2020\", \"method\": \"animate\"}, {\"args\": [[\"24-03-2020\"], {\"frame\": {\"duration\": 300, \"redraw\": false}, \"mode\": \"immediate\", \"transition\": {\"duration\": 300}}], \"label\": \"24-03-2020\", \"method\": \"animate\"}, {\"args\": [[\"25-03-2020\"], {\"frame\": {\"duration\": 300, \"redraw\": false}, \"mode\": \"immediate\", \"transition\": {\"duration\": 300}}], \"label\": \"25-03-2020\", \"method\": \"animate\"}, {\"args\": [[\"26-03-2020\"], {\"frame\": {\"duration\": 300, \"redraw\": false}, \"mode\": \"immediate\", \"transition\": {\"duration\": 300}}], \"label\": \"26-03-2020\", \"method\": \"animate\"}, {\"args\": [[\"27-03-2020\"], {\"frame\": {\"duration\": 300, \"redraw\": false}, \"mode\": \"immediate\", \"transition\": {\"duration\": 300}}], \"label\": \"27-03-2020\", \"method\": \"animate\"}, {\"args\": [[\"28-03-2020\"], {\"frame\": {\"duration\": 300, \"redraw\": false}, \"mode\": \"immediate\", \"transition\": {\"duration\": 300}}], \"label\": \"28-03-2020\", \"method\": \"animate\"}, {\"args\": [[\"29-03-2020\"], {\"frame\": {\"duration\": 300, \"redraw\": false}, \"mode\": \"immediate\", \"transition\": {\"duration\": 300}}], \"label\": \"29-03-2020\", \"method\": \"animate\"}, {\"args\": [[\"30-03-2020\"], {\"frame\": {\"duration\": 300, \"redraw\": false}, \"mode\": \"immediate\", \"transition\": {\"duration\": 300}}], \"label\": \"30-03-2020\", \"method\": \"animate\"}, {\"args\": [[\"31-03-2020\"], {\"frame\": {\"duration\": 300, \"redraw\": false}, \"mode\": \"immediate\", \"transition\": {\"duration\": 300}}], \"label\": \"31-03-2020\", \"method\": \"animate\"}, {\"args\": [[\"01-04-2020\"], {\"frame\": {\"duration\": 300, \"redraw\": false}, \"mode\": \"immediate\", \"transition\": {\"duration\": 300}}], \"label\": \"01-04-2020\", \"method\": \"animate\"}, {\"args\": [[\"02-04-2020\"], {\"frame\": {\"duration\": 300, \"redraw\": false}, \"mode\": \"immediate\", \"transition\": {\"duration\": 300}}], \"label\": \"02-04-2020\", \"method\": \"animate\"}, {\"args\": [[\"03-04-2020\"], {\"frame\": {\"duration\": 300, \"redraw\": false}, \"mode\": \"immediate\", \"transition\": {\"duration\": 300}}], \"label\": \"03-04-2020\", \"method\": \"animate\"}, {\"args\": [[\"04-04-2020\"], {\"frame\": {\"duration\": 300, \"redraw\": false}, \"mode\": \"immediate\", \"transition\": {\"duration\": 300}}], \"label\": \"04-04-2020\", \"method\": \"animate\"}, {\"args\": [[\"05-04-2020\"], {\"frame\": {\"duration\": 300, \"redraw\": false}, \"mode\": \"immediate\", \"transition\": {\"duration\": 300}}], \"label\": \"05-04-2020\", \"method\": \"animate\"}, {\"args\": [[\"06-04-2020\"], {\"frame\": {\"duration\": 300, \"redraw\": false}, \"mode\": \"immediate\", \"transition\": {\"duration\": 300}}], \"label\": \"06-04-2020\", \"method\": \"animate\"}, {\"args\": [[\"07-04-2020\"], {\"frame\": {\"duration\": 300, \"redraw\": false}, \"mode\": \"immediate\", \"transition\": {\"duration\": 300}}], \"label\": \"07-04-2020\", \"method\": \"animate\"}, {\"args\": [[\"08-04-2020\"], {\"frame\": {\"duration\": 300, \"redraw\": false}, \"mode\": \"immediate\", \"transition\": {\"duration\": 300}}], \"label\": \"08-04-2020\", \"method\": \"animate\"}, {\"args\": [[\"09-04-2020\"], {\"frame\": {\"duration\": 300, \"redraw\": false}, \"mode\": \"immediate\", \"transition\": {\"duration\": 300}}], \"label\": \"09-04-2020\", \"method\": \"animate\"}, {\"args\": [[\"10-04-2020\"], {\"frame\": {\"duration\": 300, \"redraw\": false}, \"mode\": \"immediate\", \"transition\": {\"duration\": 300}}], \"label\": \"10-04-2020\", \"method\": \"animate\"}, {\"args\": [[\"11-04-2020\"], {\"frame\": {\"duration\": 300, \"redraw\": false}, \"mode\": \"immediate\", \"transition\": {\"duration\": 300}}], \"label\": \"11-04-2020\", \"method\": \"animate\"}, {\"args\": [[\"12-04-2020\"], {\"frame\": {\"duration\": 300, \"redraw\": false}, \"mode\": \"immediate\", \"transition\": {\"duration\": 300}}], \"label\": \"12-04-2020\", \"method\": \"animate\"}, {\"args\": [[\"13-04-2020\"], {\"frame\": {\"duration\": 300, \"redraw\": false}, \"mode\": \"immediate\", \"transition\": {\"duration\": 300}}], \"label\": \"13-04-2020\", \"method\": \"animate\"}, {\"args\": [[\"14-04-2020\"], {\"frame\": {\"duration\": 300, \"redraw\": false}, \"mode\": \"immediate\", \"transition\": {\"duration\": 300}}], \"label\": \"14-04-2020\", \"method\": \"animate\"}, {\"args\": [[\"15-04-2020\"], {\"frame\": {\"duration\": 300, \"redraw\": false}, \"mode\": \"immediate\", \"transition\": {\"duration\": 300}}], \"label\": \"15-04-2020\", \"method\": \"animate\"}, {\"args\": [[\"16-04-2020\"], {\"frame\": {\"duration\": 300, \"redraw\": false}, \"mode\": \"immediate\", \"transition\": {\"duration\": 300}}], \"label\": \"16-04-2020\", \"method\": \"animate\"}, {\"args\": [[\"17-04-2020\"], {\"frame\": {\"duration\": 300, \"redraw\": false}, \"mode\": \"immediate\", \"transition\": {\"duration\": 300}}], \"label\": \"17-04-2020\", \"method\": \"animate\"}, {\"args\": [[\"18-04-2020\"], {\"frame\": {\"duration\": 300, \"redraw\": false}, \"mode\": \"immediate\", \"transition\": {\"duration\": 300}}], \"label\": \"18-04-2020\", \"method\": \"animate\"}], \"transition\": {\"duration\": 300, \"easing\": \"cubic-in-out\"}, \"x\": 0.1, \"xanchor\": \"left\", \"y\": 0, \"yanchor\": \"top\"}], \"template\": {\"data\": {\"bar\": [{\"error_x\": {\"color\": \"#2a3f5f\"}, \"error_y\": {\"color\": \"#2a3f5f\"}, \"marker\": {\"line\": {\"color\": \"#E5ECF6\", \"width\": 0.5}}, \"type\": \"bar\"}], \"barpolar\": [{\"marker\": {\"line\": {\"color\": \"#E5ECF6\", \"width\": 0.5}}, \"type\": \"barpolar\"}], \"carpet\": [{\"aaxis\": {\"endlinecolor\": \"#2a3f5f\", \"gridcolor\": \"white\", \"linecolor\": \"white\", \"minorgridcolor\": \"white\", \"startlinecolor\": \"#2a3f5f\"}, \"baxis\": {\"endlinecolor\": \"#2a3f5f\", \"gridcolor\": \"white\", \"linecolor\": \"white\", \"minorgridcolor\": \"white\", \"startlinecolor\": \"#2a3f5f\"}, \"type\": \"carpet\"}], \"choropleth\": [{\"colorbar\": {\"outlinewidth\": 0, \"ticks\": \"\"}, \"type\": \"choropleth\"}], \"contour\": [{\"colorbar\": {\"outlinewidth\": 0, \"ticks\": \"\"}, \"colorscale\": [[0.0, \"#0d0887\"], [0.1111111111111111, \"#46039f\"], [0.2222222222222222, \"#7201a8\"], [0.3333333333333333, \"#9c179e\"], [0.4444444444444444, \"#bd3786\"], [0.5555555555555556, \"#d8576b\"], [0.6666666666666666, \"#ed7953\"], [0.7777777777777778, \"#fb9f3a\"], [0.8888888888888888, \"#fdca26\"], [1.0, \"#f0f921\"]], \"type\": \"contour\"}], \"contourcarpet\": [{\"colorbar\": {\"outlinewidth\": 0, \"ticks\": \"\"}, \"type\": \"contourcarpet\"}], \"heatmap\": [{\"colorbar\": {\"outlinewidth\": 0, \"ticks\": \"\"}, \"colorscale\": [[0.0, \"#0d0887\"], [0.1111111111111111, \"#46039f\"], [0.2222222222222222, \"#7201a8\"], [0.3333333333333333, \"#9c179e\"], [0.4444444444444444, \"#bd3786\"], [0.5555555555555556, \"#d8576b\"], [0.6666666666666666, \"#ed7953\"], [0.7777777777777778, \"#fb9f3a\"], [0.8888888888888888, \"#fdca26\"], [1.0, \"#f0f921\"]], \"type\": \"heatmap\"}], \"heatmapgl\": [{\"colorbar\": {\"outlinewidth\": 0, \"ticks\": \"\"}, \"colorscale\": [[0.0, \"#0d0887\"], [0.1111111111111111, \"#46039f\"], [0.2222222222222222, \"#7201a8\"], [0.3333333333333333, \"#9c179e\"], [0.4444444444444444, \"#bd3786\"], [0.5555555555555556, \"#d8576b\"], [0.6666666666666666, \"#ed7953\"], [0.7777777777777778, \"#fb9f3a\"], [0.8888888888888888, \"#fdca26\"], [1.0, \"#f0f921\"]], \"type\": \"heatmapgl\"}], \"histogram\": [{\"marker\": {\"colorbar\": {\"outlinewidth\": 0, \"ticks\": \"\"}}, \"type\": \"histogram\"}], \"histogram2d\": [{\"colorbar\": {\"outlinewidth\": 0, \"ticks\": \"\"}, \"colorscale\": [[0.0, \"#0d0887\"], [0.1111111111111111, \"#46039f\"], [0.2222222222222222, \"#7201a8\"], [0.3333333333333333, \"#9c179e\"], [0.4444444444444444, \"#bd3786\"], [0.5555555555555556, \"#d8576b\"], [0.6666666666666666, \"#ed7953\"], [0.7777777777777778, \"#fb9f3a\"], [0.8888888888888888, \"#fdca26\"], [1.0, \"#f0f921\"]], \"type\": \"histogram2d\"}], \"histogram2dcontour\": [{\"colorbar\": {\"outlinewidth\": 0, \"ticks\": \"\"}, \"colorscale\": [[0.0, \"#0d0887\"], [0.1111111111111111, \"#46039f\"], [0.2222222222222222, \"#7201a8\"], [0.3333333333333333, \"#9c179e\"], [0.4444444444444444, \"#bd3786\"], [0.5555555555555556, \"#d8576b\"], [0.6666666666666666, \"#ed7953\"], [0.7777777777777778, \"#fb9f3a\"], [0.8888888888888888, \"#fdca26\"], [1.0, \"#f0f921\"]], \"type\": \"histogram2dcontour\"}], \"mesh3d\": [{\"colorbar\": {\"outlinewidth\": 0, \"ticks\": \"\"}, \"type\": \"mesh3d\"}], \"parcoords\": [{\"line\": {\"colorbar\": {\"outlinewidth\": 0, \"ticks\": \"\"}}, \"type\": \"parcoords\"}], \"pie\": [{\"automargin\": true, \"type\": \"pie\"}], \"scatter\": [{\"marker\": {\"colorbar\": {\"outlinewidth\": 0, \"ticks\": \"\"}}, \"type\": \"scatter\"}], \"scatter3d\": [{\"line\": {\"colorbar\": {\"outlinewidth\": 0, \"ticks\": \"\"}}, \"marker\": {\"colorbar\": {\"outlinewidth\": 0, \"ticks\": \"\"}}, \"type\": \"scatter3d\"}], \"scattercarpet\": [{\"marker\": {\"colorbar\": {\"outlinewidth\": 0, \"ticks\": \"\"}}, \"type\": \"scattercarpet\"}], \"scattergeo\": [{\"marker\": {\"colorbar\": {\"outlinewidth\": 0, \"ticks\": \"\"}}, \"type\": \"scattergeo\"}], \"scattergl\": [{\"marker\": {\"colorbar\": {\"outlinewidth\": 0, \"ticks\": \"\"}}, \"type\": \"scattergl\"}], \"scattermapbox\": [{\"marker\": {\"colorbar\": {\"outlinewidth\": 0, \"ticks\": \"\"}}, \"type\": \"scattermapbox\"}], \"scatterpolar\": [{\"marker\": {\"colorbar\": {\"outlinewidth\": 0, \"ticks\": \"\"}}, \"type\": \"scatterpolar\"}], \"scatterpolargl\": [{\"marker\": {\"colorbar\": {\"outlinewidth\": 0, \"ticks\": \"\"}}, \"type\": \"scatterpolargl\"}], \"scatterternary\": [{\"marker\": {\"colorbar\": {\"outlinewidth\": 0, \"ticks\": \"\"}}, \"type\": \"scatterternary\"}], \"surface\": [{\"colorbar\": {\"outlinewidth\": 0, \"ticks\": \"\"}, \"colorscale\": [[0.0, \"#0d0887\"], [0.1111111111111111, \"#46039f\"], [0.2222222222222222, \"#7201a8\"], [0.3333333333333333, \"#9c179e\"], [0.4444444444444444, \"#bd3786\"], [0.5555555555555556, \"#d8576b\"], [0.6666666666666666, \"#ed7953\"], [0.7777777777777778, \"#fb9f3a\"], [0.8888888888888888, \"#fdca26\"], [1.0, \"#f0f921\"]], \"type\": \"surface\"}], \"table\": [{\"cells\": {\"fill\": {\"color\": \"#EBF0F8\"}, \"line\": {\"color\": \"white\"}}, \"header\": {\"fill\": {\"color\": \"#C8D4E3\"}, \"line\": {\"color\": \"white\"}}, \"type\": \"table\"}]}, \"layout\": {\"annotationdefaults\": {\"arrowcolor\": \"#2a3f5f\", \"arrowhead\": 0, \"arrowwidth\": 1}, \"coloraxis\": {\"colorbar\": {\"outlinewidth\": 0, \"ticks\": \"\"}}, \"colorscale\": {\"diverging\": [[0, \"#8e0152\"], [0.1, \"#c51b7d\"], [0.2, \"#de77ae\"], [0.3, \"#f1b6da\"], [0.4, \"#fde0ef\"], [0.5, \"#f7f7f7\"], [0.6, \"#e6f5d0\"], [0.7, \"#b8e186\"], [0.8, \"#7fbc41\"], [0.9, \"#4d9221\"], [1, \"#276419\"]], \"sequential\": [[0.0, \"#0d0887\"], [0.1111111111111111, \"#46039f\"], [0.2222222222222222, \"#7201a8\"], [0.3333333333333333, \"#9c179e\"], [0.4444444444444444, \"#bd3786\"], [0.5555555555555556, \"#d8576b\"], [0.6666666666666666, \"#ed7953\"], [0.7777777777777778, \"#fb9f3a\"], [0.8888888888888888, \"#fdca26\"], [1.0, \"#f0f921\"]], \"sequentialminus\": [[0.0, \"#0d0887\"], [0.1111111111111111, \"#46039f\"], [0.2222222222222222, \"#7201a8\"], [0.3333333333333333, \"#9c179e\"], [0.4444444444444444, \"#bd3786\"], [0.5555555555555556, \"#d8576b\"], [0.6666666666666666, \"#ed7953\"], [0.7777777777777778, \"#fb9f3a\"], [0.8888888888888888, \"#fdca26\"], [1.0, \"#f0f921\"]]}, \"colorway\": [\"#636efa\", \"#EF553B\", \"#00cc96\", \"#ab63fa\", \"#FFA15A\", \"#19d3f3\", \"#FF6692\", \"#B6E880\", \"#FF97FF\", \"#FECB52\"], \"font\": {\"color\": \"#2a3f5f\"}, \"geo\": {\"bgcolor\": \"white\", \"lakecolor\": \"white\", \"landcolor\": \"#E5ECF6\", \"showlakes\": true, \"showland\": true, \"subunitcolor\": \"white\"}, \"hoverlabel\": {\"align\": \"left\"}, \"hovermode\": \"closest\", \"mapbox\": {\"style\": \"light\"}, \"paper_bgcolor\": \"white\", \"plot_bgcolor\": \"#E5ECF6\", \"polar\": {\"angularaxis\": {\"gridcolor\": \"white\", \"linecolor\": \"white\", \"ticks\": \"\"}, \"bgcolor\": \"#E5ECF6\", \"radialaxis\": {\"gridcolor\": \"white\", \"linecolor\": \"white\", \"ticks\": \"\"}}, \"scene\": {\"xaxis\": {\"backgroundcolor\": \"#E5ECF6\", \"gridcolor\": \"white\", \"gridwidth\": 2, \"linecolor\": \"white\", \"showbackground\": true, \"ticks\": \"\", \"zerolinecolor\": \"white\"}, \"yaxis\": {\"backgroundcolor\": \"#E5ECF6\", \"gridcolor\": \"white\", \"gridwidth\": 2, \"linecolor\": \"white\", \"showbackground\": true, \"ticks\": \"\", \"zerolinecolor\": \"white\"}, \"zaxis\": {\"backgroundcolor\": \"#E5ECF6\", \"gridcolor\": \"white\", \"gridwidth\": 2, \"linecolor\": \"white\", \"showbackground\": true, \"ticks\": \"\", \"zerolinecolor\": \"white\"}}, \"shapedefaults\": {\"line\": {\"color\": \"#2a3f5f\"}}, \"ternary\": {\"aaxis\": {\"gridcolor\": \"white\", \"linecolor\": \"white\", \"ticks\": \"\"}, \"baxis\": {\"gridcolor\": \"white\", \"linecolor\": \"white\", \"ticks\": \"\"}, \"bgcolor\": \"#E5ECF6\", \"caxis\": {\"gridcolor\": \"white\", \"linecolor\": \"white\", \"ticks\": \"\"}}, \"title\": {\"x\": 0.05}, \"xaxis\": {\"automargin\": true, \"gridcolor\": \"white\", \"linecolor\": \"white\", \"ticks\": \"\", \"title\": {\"standoff\": 15}, \"zerolinecolor\": \"white\", \"zerolinewidth\": 2}, \"yaxis\": {\"automargin\": true, \"gridcolor\": \"white\", \"linecolor\": \"white\", \"ticks\": \"\", \"title\": {\"standoff\": 15}, \"zerolinecolor\": \"white\", \"zerolinewidth\": 2}}}, \"updatemenus\": [{\"buttons\": [{\"args\": [null, {\"frame\": {\"duration\": 500, \"redraw\": false}, \"fromcurrent\": true, \"transition\": {\"duration\": 300, \"easing\": \"quadratic-in-out\"}}], \"label\": \"Play\", \"method\": \"animate\"}, {\"args\": [[null], {\"frame\": {\"duration\": 0, \"redraw\": false}, \"mode\": \"immediate\", \"transition\": {\"duration\": 0}}], \"label\": \"Pause\", \"method\": \"animate\"}], \"direction\": \"left\", \"pad\": {\"r\": 10, \"t\": 87}, \"showactive\": false, \"type\": \"buttons\", \"x\": 0.1, \"xanchor\": \"right\", \"y\": 0, \"yanchor\": \"top\"}], \"xaxis\": {\"title\": {\"text\": \"casos totales\"}, \"type\": \"log\"}, \"yaxis\": {\"title\": {\"text\": \"casos diarios\"}, \"type\": \"log\"}},\n",
       "                        {\"responsive\": true}\n",
       "                    ).then(function(){\n",
       "                            Plotly.addFrames('6f6342f0-58c6-46c3-a1ca-543efb603632', [{\"data\": [{\"mode\": \"lines\", \"name\": \"M\", \"text\": [], \"x\": [], \"y\": [], \"type\": \"scatter\"}, {\"mode\": \"lines\", \"name\": \"e\", \"text\": [], \"x\": [], \"y\": [], \"type\": \"scatter\"}, {\"mode\": \"lines\", \"name\": \"x\", \"text\": [], \"x\": [], \"y\": [], \"type\": \"scatter\"}, {\"mode\": \"lines\", \"name\": \"i\", \"text\": [], \"x\": [], \"y\": [], \"type\": \"scatter\"}, {\"mode\": \"lines\", \"name\": \"c\", \"text\": [], \"x\": [], \"y\": [], \"type\": \"scatter\"}, {\"mode\": \"lines\", \"name\": \"o\", \"text\": [], \"x\": [], \"y\": [], \"type\": \"scatter\"}, {\"mode\": \"lines\", \"name\": \"_\", \"text\": [], \"x\": [], \"y\": [], \"type\": \"scatter\"}, {\"mode\": \"lines\", \"name\": \"S\", \"text\": [], \"x\": [], \"y\": [], \"type\": \"scatter\"}, {\"mode\": \"lines\", \"name\": \"S\", \"text\": [], \"x\": [], \"y\": [], \"type\": \"scatter\"}], \"name\": \"15-02-2020\"}, {\"data\": [{\"mode\": \"lines\", \"name\": \"M\", \"text\": [], \"x\": [], \"y\": [], \"type\": \"scatter\"}, {\"mode\": \"lines\", \"name\": \"e\", \"text\": [], \"x\": [], \"y\": [], \"type\": \"scatter\"}, {\"mode\": \"lines\", \"name\": \"x\", \"text\": [], \"x\": [], \"y\": [], \"type\": \"scatter\"}, {\"mode\": \"lines\", \"name\": \"i\", \"text\": [], \"x\": [], \"y\": [], \"type\": \"scatter\"}, {\"mode\": \"lines\", \"name\": \"c\", \"text\": [], \"x\": [], \"y\": [], \"type\": \"scatter\"}, {\"mode\": \"lines\", \"name\": \"o\", \"text\": [], \"x\": [], \"y\": [], \"type\": \"scatter\"}, {\"mode\": \"lines\", \"name\": \"_\", \"text\": [], \"x\": [], \"y\": [], \"type\": \"scatter\"}, {\"mode\": \"lines\", \"name\": \"S\", \"text\": [], \"x\": [], \"y\": [], \"type\": \"scatter\"}, {\"mode\": \"lines\", \"name\": \"S\", \"text\": [], \"x\": [], \"y\": [], \"type\": \"scatter\"}], \"name\": \"16-02-2020\"}, {\"data\": [{\"mode\": \"lines\", \"name\": \"M\", \"text\": [], \"x\": [], \"y\": [], \"type\": \"scatter\"}, {\"mode\": \"lines\", \"name\": \"e\", \"text\": [], \"x\": [], \"y\": [], \"type\": \"scatter\"}, {\"mode\": \"lines\", \"name\": \"x\", \"text\": [], \"x\": [], \"y\": [], \"type\": \"scatter\"}, {\"mode\": \"lines\", \"name\": \"i\", \"text\": [], \"x\": [], \"y\": [], \"type\": \"scatter\"}, {\"mode\": \"lines\", \"name\": \"c\", \"text\": [], \"x\": [], \"y\": [], \"type\": \"scatter\"}, {\"mode\": \"lines\", \"name\": \"o\", \"text\": [], \"x\": [], \"y\": [], \"type\": \"scatter\"}, {\"mode\": \"lines\", \"name\": \"_\", \"text\": [], \"x\": [], \"y\": [], \"type\": \"scatter\"}, {\"mode\": \"lines\", \"name\": \"S\", \"text\": [], \"x\": [], \"y\": [], \"type\": \"scatter\"}, {\"mode\": \"lines\", \"name\": \"S\", \"text\": [], \"x\": [], \"y\": [], \"type\": \"scatter\"}], \"name\": \"17-02-2020\"}, {\"data\": [{\"mode\": \"lines\", \"name\": \"M\", \"text\": [], \"x\": [], \"y\": [], \"type\": \"scatter\"}, {\"mode\": \"lines\", \"name\": \"e\", \"text\": [], \"x\": [], \"y\": [], \"type\": \"scatter\"}, {\"mode\": \"lines\", \"name\": \"x\", \"text\": [], \"x\": [], \"y\": [], \"type\": \"scatter\"}, {\"mode\": \"lines\", \"name\": \"i\", \"text\": [], \"x\": [], \"y\": [], \"type\": \"scatter\"}, {\"mode\": \"lines\", \"name\": \"c\", \"text\": [], \"x\": [], \"y\": [], \"type\": \"scatter\"}, {\"mode\": \"lines\", \"name\": \"o\", \"text\": [], \"x\": [], \"y\": [], \"type\": \"scatter\"}, {\"mode\": \"lines\", \"name\": \"_\", \"text\": [], \"x\": [], \"y\": [], \"type\": \"scatter\"}, {\"mode\": \"lines\", \"name\": \"S\", \"text\": [], \"x\": [], \"y\": [], \"type\": \"scatter\"}, {\"mode\": \"lines\", \"name\": \"S\", \"text\": [], \"x\": [], \"y\": [], \"type\": \"scatter\"}], \"name\": \"18-02-2020\"}, {\"data\": [{\"mode\": \"lines\", \"name\": \"M\", \"text\": [], \"x\": [], \"y\": [], \"type\": \"scatter\"}, {\"mode\": \"lines\", \"name\": \"e\", \"text\": [], \"x\": [], \"y\": [], \"type\": \"scatter\"}, {\"mode\": \"lines\", \"name\": \"x\", \"text\": [], \"x\": [], \"y\": [], \"type\": \"scatter\"}, {\"mode\": \"lines\", \"name\": \"i\", \"text\": [], \"x\": [], \"y\": [], \"type\": \"scatter\"}, {\"mode\": \"lines\", \"name\": \"c\", \"text\": [], \"x\": [], \"y\": [], \"type\": \"scatter\"}, {\"mode\": \"lines\", \"name\": \"o\", \"text\": [], \"x\": [], \"y\": [], \"type\": \"scatter\"}, {\"mode\": \"lines\", \"name\": \"_\", \"text\": [], \"x\": [], \"y\": [], \"type\": \"scatter\"}, {\"mode\": \"lines\", \"name\": \"S\", \"text\": [], \"x\": [], \"y\": [], \"type\": \"scatter\"}, {\"mode\": \"lines\", \"name\": \"S\", \"text\": [], \"x\": [], \"y\": [], \"type\": \"scatter\"}], \"name\": \"19-02-2020\"}, {\"data\": [{\"mode\": \"lines\", \"name\": \"M\", \"text\": [], \"x\": [], \"y\": [], \"type\": \"scatter\"}, {\"mode\": \"lines\", \"name\": \"e\", \"text\": [], \"x\": [], \"y\": [], \"type\": \"scatter\"}, {\"mode\": \"lines\", \"name\": \"x\", \"text\": [], \"x\": [], \"y\": [], \"type\": \"scatter\"}, {\"mode\": \"lines\", \"name\": \"i\", \"text\": [], \"x\": [], \"y\": [], \"type\": \"scatter\"}, {\"mode\": \"lines\", \"name\": \"c\", \"text\": [], \"x\": [], \"y\": [], \"type\": \"scatter\"}, {\"mode\": \"lines\", \"name\": \"o\", \"text\": [], \"x\": [], \"y\": [], \"type\": \"scatter\"}, {\"mode\": \"lines\", \"name\": \"_\", \"text\": [], \"x\": [], \"y\": [], \"type\": \"scatter\"}, {\"mode\": \"lines\", \"name\": \"S\", \"text\": [], \"x\": [], \"y\": [], \"type\": \"scatter\"}, {\"mode\": \"lines\", \"name\": \"S\", \"text\": [], \"x\": [], \"y\": [], \"type\": \"scatter\"}], \"name\": \"20-02-2020\"}, {\"data\": [{\"mode\": \"lines\", \"name\": \"M\", \"text\": [], \"x\": [], \"y\": [], \"type\": \"scatter\"}, {\"mode\": \"lines\", \"name\": \"e\", \"text\": [], \"x\": [], \"y\": [], \"type\": \"scatter\"}, {\"mode\": \"lines\", \"name\": \"x\", \"text\": [], \"x\": [], \"y\": [], \"type\": \"scatter\"}, {\"mode\": \"lines\", \"name\": \"i\", \"text\": [], \"x\": [], \"y\": [], \"type\": \"scatter\"}, {\"mode\": \"lines\", \"name\": \"c\", \"text\": [], \"x\": [], \"y\": [], \"type\": \"scatter\"}, {\"mode\": \"lines\", \"name\": \"o\", \"text\": [], \"x\": [], \"y\": [], \"type\": \"scatter\"}, {\"mode\": \"lines\", \"name\": \"_\", \"text\": [], \"x\": [], \"y\": [], \"type\": \"scatter\"}, {\"mode\": \"lines\", \"name\": \"S\", \"text\": [], \"x\": [], \"y\": [], \"type\": \"scatter\"}, {\"mode\": \"lines\", \"name\": \"S\", \"text\": [], \"x\": [], \"y\": [], \"type\": \"scatter\"}], \"name\": \"21-02-2020\"}, {\"data\": [{\"mode\": \"lines\", \"name\": \"M\", \"text\": [], \"x\": [], \"y\": [], \"type\": \"scatter\"}, {\"mode\": \"lines\", \"name\": \"e\", \"text\": [], \"x\": [], \"y\": [], \"type\": \"scatter\"}, {\"mode\": \"lines\", \"name\": \"x\", \"text\": [], \"x\": [], \"y\": [], \"type\": \"scatter\"}, {\"mode\": \"lines\", \"name\": \"i\", \"text\": [], \"x\": [], \"y\": [], \"type\": \"scatter\"}, {\"mode\": \"lines\", \"name\": \"c\", \"text\": [], \"x\": [], \"y\": [], \"type\": \"scatter\"}, {\"mode\": \"lines\", \"name\": \"o\", \"text\": [], \"x\": [], \"y\": [], \"type\": \"scatter\"}, {\"mode\": \"lines\", \"name\": \"_\", \"text\": [], \"x\": [], \"y\": [], \"type\": \"scatter\"}, {\"mode\": \"lines\", \"name\": \"S\", \"text\": [], \"x\": [], \"y\": [], \"type\": \"scatter\"}, {\"mode\": \"lines\", \"name\": \"S\", \"text\": [], \"x\": [], \"y\": [], \"type\": \"scatter\"}], \"name\": \"22-02-2020\"}, {\"data\": [{\"mode\": \"lines\", \"name\": \"M\", \"text\": [], \"x\": [], \"y\": [], \"type\": \"scatter\"}, {\"mode\": \"lines\", \"name\": \"e\", \"text\": [], \"x\": [], \"y\": [], \"type\": \"scatter\"}, {\"mode\": \"lines\", \"name\": \"x\", \"text\": [], \"x\": [], \"y\": [], \"type\": \"scatter\"}, {\"mode\": \"lines\", \"name\": \"i\", \"text\": [], \"x\": [], \"y\": [], \"type\": \"scatter\"}, {\"mode\": \"lines\", \"name\": \"c\", \"text\": [], \"x\": [], \"y\": [], \"type\": \"scatter\"}, {\"mode\": \"lines\", \"name\": \"o\", \"text\": [], \"x\": [], \"y\": [], \"type\": \"scatter\"}, {\"mode\": \"lines\", \"name\": \"_\", \"text\": [], \"x\": [], \"y\": [], \"type\": \"scatter\"}, {\"mode\": \"lines\", \"name\": \"S\", \"text\": [], \"x\": [], \"y\": [], \"type\": \"scatter\"}, {\"mode\": \"lines\", \"name\": \"S\", \"text\": [], \"x\": [], \"y\": [], \"type\": \"scatter\"}], \"name\": \"23-02-2020\"}, {\"data\": [{\"mode\": \"lines\", \"name\": \"M\", \"text\": [], \"x\": [], \"y\": [], \"type\": \"scatter\"}, {\"mode\": \"lines\", \"name\": \"e\", \"text\": [], \"x\": [], \"y\": [], \"type\": \"scatter\"}, {\"mode\": \"lines\", \"name\": \"x\", \"text\": [], \"x\": [], \"y\": [], \"type\": \"scatter\"}, {\"mode\": \"lines\", \"name\": \"i\", \"text\": [], \"x\": [], \"y\": [], \"type\": \"scatter\"}, {\"mode\": \"lines\", \"name\": \"c\", \"text\": [], \"x\": [], \"y\": [], \"type\": \"scatter\"}, {\"mode\": \"lines\", \"name\": \"o\", \"text\": [], \"x\": [], \"y\": [], \"type\": \"scatter\"}, {\"mode\": \"lines\", \"name\": \"_\", \"text\": [], \"x\": [], \"y\": [], \"type\": \"scatter\"}, {\"mode\": \"lines\", \"name\": \"S\", \"text\": [], \"x\": [], \"y\": [], \"type\": \"scatter\"}, {\"mode\": \"lines\", \"name\": \"S\", \"text\": [], \"x\": [], \"y\": [], \"type\": \"scatter\"}], \"name\": \"24-02-2020\"}, {\"data\": [{\"mode\": \"lines\", \"name\": \"M\", \"text\": [], \"x\": [], \"y\": [], \"type\": \"scatter\"}, {\"mode\": \"lines\", \"name\": \"e\", \"text\": [], \"x\": [], \"y\": [], \"type\": \"scatter\"}, {\"mode\": \"lines\", \"name\": \"x\", \"text\": [], \"x\": [], \"y\": [], \"type\": \"scatter\"}, {\"mode\": \"lines\", \"name\": \"i\", \"text\": [], \"x\": [], \"y\": [], \"type\": \"scatter\"}, {\"mode\": \"lines\", \"name\": \"c\", \"text\": [], \"x\": [], \"y\": [], \"type\": \"scatter\"}, {\"mode\": \"lines\", \"name\": \"o\", \"text\": [], \"x\": [], \"y\": [], \"type\": \"scatter\"}, {\"mode\": \"lines\", \"name\": \"_\", \"text\": [], \"x\": [], \"y\": [], \"type\": \"scatter\"}, {\"mode\": \"lines\", \"name\": \"S\", \"text\": [], \"x\": [], \"y\": [], \"type\": \"scatter\"}, {\"mode\": \"lines\", \"name\": \"S\", \"text\": [], \"x\": [], \"y\": [], \"type\": \"scatter\"}], \"name\": \"25-02-2020\"}, {\"data\": [{\"mode\": \"lines\", \"name\": \"M\", \"text\": [], \"x\": [], \"y\": [], \"type\": \"scatter\"}, {\"mode\": \"lines\", \"name\": \"e\", \"text\": [], \"x\": [], \"y\": [], \"type\": \"scatter\"}, {\"mode\": \"lines\", \"name\": \"x\", \"text\": [], \"x\": [], \"y\": [], \"type\": \"scatter\"}, {\"mode\": \"lines\", \"name\": \"i\", \"text\": [], \"x\": [], \"y\": [], \"type\": \"scatter\"}, {\"mode\": \"lines\", \"name\": \"c\", \"text\": [], \"x\": [], \"y\": [], \"type\": \"scatter\"}, {\"mode\": \"lines\", \"name\": \"o\", \"text\": [], \"x\": [], \"y\": [], \"type\": \"scatter\"}, {\"mode\": \"lines\", \"name\": \"_\", \"text\": [], \"x\": [], \"y\": [], \"type\": \"scatter\"}, {\"mode\": \"lines\", \"name\": \"S\", \"text\": [], \"x\": [], \"y\": [], \"type\": \"scatter\"}, {\"mode\": \"lines\", \"name\": \"S\", \"text\": [], \"x\": [], \"y\": [], \"type\": \"scatter\"}], \"name\": \"26-02-2020\"}, {\"data\": [{\"mode\": \"lines\", \"name\": \"M\", \"text\": [], \"x\": [], \"y\": [], \"type\": \"scatter\"}, {\"mode\": \"lines\", \"name\": \"e\", \"text\": [], \"x\": [], \"y\": [], \"type\": \"scatter\"}, {\"mode\": \"lines\", \"name\": \"x\", \"text\": [], \"x\": [], \"y\": [], \"type\": \"scatter\"}, {\"mode\": \"lines\", \"name\": \"i\", \"text\": [], \"x\": [], \"y\": [], \"type\": \"scatter\"}, {\"mode\": \"lines\", \"name\": \"c\", \"text\": [], \"x\": [], \"y\": [], \"type\": \"scatter\"}, {\"mode\": \"lines\", \"name\": \"o\", \"text\": [], \"x\": [], \"y\": [], \"type\": \"scatter\"}, {\"mode\": \"lines\", \"name\": \"_\", \"text\": [], \"x\": [], \"y\": [], \"type\": \"scatter\"}, {\"mode\": \"lines\", \"name\": \"S\", \"text\": [], \"x\": [], \"y\": [], \"type\": \"scatter\"}, {\"mode\": \"lines\", \"name\": \"S\", \"text\": [], \"x\": [], \"y\": [], \"type\": \"scatter\"}], \"name\": \"27-02-2020\"}, {\"data\": [{\"mode\": \"lines\", \"name\": \"M\", \"text\": [], \"x\": [], \"y\": [], \"type\": \"scatter\"}, {\"mode\": \"lines\", \"name\": \"e\", \"text\": [], \"x\": [], \"y\": [], \"type\": \"scatter\"}, {\"mode\": \"lines\", \"name\": \"x\", \"text\": [], \"x\": [], \"y\": [], \"type\": \"scatter\"}, {\"mode\": \"lines\", \"name\": \"i\", \"text\": [], \"x\": [], \"y\": [], \"type\": \"scatter\"}, {\"mode\": \"lines\", \"name\": \"c\", \"text\": [], \"x\": [], \"y\": [], \"type\": \"scatter\"}, {\"mode\": \"lines\", \"name\": \"o\", \"text\": [], \"x\": [], \"y\": [], \"type\": \"scatter\"}, {\"mode\": \"lines\", \"name\": \"_\", \"text\": [], \"x\": [], \"y\": [], \"type\": \"scatter\"}, {\"mode\": \"lines\", \"name\": \"S\", \"text\": [], \"x\": [], \"y\": [], \"type\": \"scatter\"}, {\"mode\": \"lines\", \"name\": \"S\", \"text\": [], \"x\": [], \"y\": [], \"type\": \"scatter\"}], \"name\": \"28-02-2020\"}, {\"data\": [{\"mode\": \"lines\", \"name\": \"M\", \"text\": [], \"x\": [], \"y\": [], \"type\": \"scatter\"}, {\"mode\": \"lines\", \"name\": \"e\", \"text\": [], \"x\": [], \"y\": [], \"type\": \"scatter\"}, {\"mode\": \"lines\", \"name\": \"x\", \"text\": [], \"x\": [], \"y\": [], \"type\": \"scatter\"}, {\"mode\": \"lines\", \"name\": \"i\", \"text\": [], \"x\": [], \"y\": [], \"type\": \"scatter\"}, {\"mode\": \"lines\", \"name\": \"c\", \"text\": [], \"x\": [], \"y\": [], \"type\": \"scatter\"}, {\"mode\": \"lines\", \"name\": \"o\", \"text\": [], \"x\": [], \"y\": [], \"type\": \"scatter\"}, {\"mode\": \"lines\", \"name\": \"_\", \"text\": [], \"x\": [], \"y\": [], \"type\": \"scatter\"}, {\"mode\": \"lines\", \"name\": \"S\", \"text\": [], \"x\": [], \"y\": [], \"type\": \"scatter\"}, {\"mode\": \"lines\", \"name\": \"S\", \"text\": [], \"x\": [], \"y\": [], \"type\": \"scatter\"}], \"name\": \"29-02-2020\"}, {\"data\": [{\"mode\": \"lines\", \"name\": \"M\", \"text\": [], \"x\": [], \"y\": [], \"type\": \"scatter\"}, {\"mode\": \"lines\", \"name\": \"e\", \"text\": [], \"x\": [], \"y\": [], \"type\": \"scatter\"}, {\"mode\": \"lines\", \"name\": \"x\", \"text\": [], \"x\": [], \"y\": [], \"type\": \"scatter\"}, {\"mode\": \"lines\", \"name\": \"i\", \"text\": [], \"x\": [], \"y\": [], \"type\": \"scatter\"}, {\"mode\": \"lines\", \"name\": \"c\", \"text\": [], \"x\": [], \"y\": [], \"type\": \"scatter\"}, {\"mode\": \"lines\", \"name\": \"o\", \"text\": [], \"x\": [], \"y\": [], \"type\": \"scatter\"}, {\"mode\": \"lines\", \"name\": \"_\", \"text\": [], \"x\": [], \"y\": [], \"type\": \"scatter\"}, {\"mode\": \"lines\", \"name\": \"S\", \"text\": [], \"x\": [], \"y\": [], \"type\": \"scatter\"}, {\"mode\": \"lines\", \"name\": \"S\", \"text\": [], \"x\": [], \"y\": [], \"type\": \"scatter\"}], \"name\": \"01-03-2020\"}, {\"data\": [{\"mode\": \"lines\", \"name\": \"M\", \"text\": [], \"x\": [], \"y\": [], \"type\": \"scatter\"}, {\"mode\": \"lines\", \"name\": \"e\", \"text\": [], \"x\": [], \"y\": [], \"type\": \"scatter\"}, {\"mode\": \"lines\", \"name\": \"x\", \"text\": [], \"x\": [], \"y\": [], \"type\": \"scatter\"}, {\"mode\": \"lines\", \"name\": \"i\", \"text\": [], \"x\": [], \"y\": [], \"type\": \"scatter\"}, {\"mode\": \"lines\", \"name\": \"c\", \"text\": [], \"x\": [], \"y\": [], \"type\": \"scatter\"}, {\"mode\": \"lines\", \"name\": \"o\", \"text\": [], \"x\": [], \"y\": [], \"type\": \"scatter\"}, {\"mode\": \"lines\", \"name\": \"_\", \"text\": [], \"x\": [], \"y\": [], \"type\": \"scatter\"}, {\"mode\": \"lines\", \"name\": \"S\", \"text\": [], \"x\": [], \"y\": [], \"type\": \"scatter\"}, {\"mode\": \"lines\", \"name\": \"S\", \"text\": [], \"x\": [], \"y\": [], \"type\": \"scatter\"}], \"name\": \"02-03-2020\"}, {\"data\": [{\"mode\": \"lines\", \"name\": \"M\", \"text\": [], \"x\": [], \"y\": [], \"type\": \"scatter\"}, {\"mode\": \"lines\", \"name\": \"e\", \"text\": [], \"x\": [], \"y\": [], \"type\": \"scatter\"}, {\"mode\": \"lines\", \"name\": \"x\", \"text\": [], \"x\": [], \"y\": [], \"type\": \"scatter\"}, {\"mode\": \"lines\", \"name\": \"i\", \"text\": [], \"x\": [], \"y\": [], \"type\": \"scatter\"}, {\"mode\": \"lines\", \"name\": \"c\", \"text\": [], \"x\": [], \"y\": [], \"type\": \"scatter\"}, {\"mode\": \"lines\", \"name\": \"o\", \"text\": [], \"x\": [], \"y\": [], \"type\": \"scatter\"}, {\"mode\": \"lines\", \"name\": \"_\", \"text\": [], \"x\": [], \"y\": [], \"type\": \"scatter\"}, {\"mode\": \"lines\", \"name\": \"S\", \"text\": [], \"x\": [], \"y\": [], \"type\": \"scatter\"}, {\"mode\": \"lines\", \"name\": \"S\", \"text\": [], \"x\": [], \"y\": [], \"type\": \"scatter\"}], \"name\": \"03-03-2020\"}, {\"data\": [{\"mode\": \"lines\", \"name\": \"M\", \"text\": [], \"x\": [], \"y\": [], \"type\": \"scatter\"}, {\"mode\": \"lines\", \"name\": \"e\", \"text\": [], \"x\": [], \"y\": [], \"type\": \"scatter\"}, {\"mode\": \"lines\", \"name\": \"x\", \"text\": [], \"x\": [], \"y\": [], \"type\": \"scatter\"}, {\"mode\": \"lines\", \"name\": \"i\", \"text\": [], \"x\": [], \"y\": [], \"type\": \"scatter\"}, {\"mode\": \"lines\", \"name\": \"c\", \"text\": [], \"x\": [], \"y\": [], \"type\": \"scatter\"}, {\"mode\": \"lines\", \"name\": \"o\", \"text\": [], \"x\": [], \"y\": [], \"type\": \"scatter\"}, {\"mode\": \"lines\", \"name\": \"_\", \"text\": [], \"x\": [], \"y\": [], \"type\": \"scatter\"}, {\"mode\": \"lines\", \"name\": \"S\", \"text\": [], \"x\": [], \"y\": [], \"type\": \"scatter\"}, {\"mode\": \"lines\", \"name\": \"S\", \"text\": [], \"x\": [], \"y\": [], \"type\": \"scatter\"}], \"name\": \"04-03-2020\"}, {\"data\": [{\"mode\": \"lines\", \"name\": \"M\", \"text\": [], \"x\": [], \"y\": [], \"type\": \"scatter\"}, {\"mode\": \"lines\", \"name\": \"e\", \"text\": [], \"x\": [], \"y\": [], \"type\": \"scatter\"}, {\"mode\": \"lines\", \"name\": \"x\", \"text\": [], \"x\": [], \"y\": [], \"type\": \"scatter\"}, {\"mode\": \"lines\", \"name\": \"i\", \"text\": [], \"x\": [], \"y\": [], \"type\": \"scatter\"}, {\"mode\": \"lines\", \"name\": \"c\", \"text\": [], \"x\": [], \"y\": [], \"type\": \"scatter\"}, {\"mode\": \"lines\", \"name\": \"o\", \"text\": [], \"x\": [], \"y\": [], \"type\": \"scatter\"}, {\"mode\": \"lines\", \"name\": \"_\", \"text\": [], \"x\": [], \"y\": [], \"type\": \"scatter\"}, {\"mode\": \"lines\", \"name\": \"S\", \"text\": [], \"x\": [], \"y\": [], \"type\": \"scatter\"}, {\"mode\": \"lines\", \"name\": \"S\", \"text\": [], \"x\": [], \"y\": [], \"type\": \"scatter\"}], \"name\": \"05-03-2020\"}, {\"data\": [{\"mode\": \"lines\", \"name\": \"M\", \"text\": [], \"x\": [], \"y\": [], \"type\": \"scatter\"}, {\"mode\": \"lines\", \"name\": \"e\", \"text\": [], \"x\": [], \"y\": [], \"type\": \"scatter\"}, {\"mode\": \"lines\", \"name\": \"x\", \"text\": [], \"x\": [], \"y\": [], \"type\": \"scatter\"}, {\"mode\": \"lines\", \"name\": \"i\", \"text\": [], \"x\": [], \"y\": [], \"type\": \"scatter\"}, {\"mode\": \"lines\", \"name\": \"c\", \"text\": [], \"x\": [], \"y\": [], \"type\": \"scatter\"}, {\"mode\": \"lines\", \"name\": \"o\", \"text\": [], \"x\": [], \"y\": [], \"type\": \"scatter\"}, {\"mode\": \"lines\", \"name\": \"_\", \"text\": [], \"x\": [], \"y\": [], \"type\": \"scatter\"}, {\"mode\": \"lines\", \"name\": \"S\", \"text\": [], \"x\": [], \"y\": [], \"type\": \"scatter\"}, {\"mode\": \"lines\", \"name\": \"S\", \"text\": [], \"x\": [], \"y\": [], \"type\": \"scatter\"}], \"name\": \"06-03-2020\"}, {\"data\": [{\"mode\": \"lines\", \"name\": \"M\", \"text\": [], \"x\": [], \"y\": [], \"type\": \"scatter\"}, {\"mode\": \"lines\", \"name\": \"e\", \"text\": [], \"x\": [], \"y\": [], \"type\": \"scatter\"}, {\"mode\": \"lines\", \"name\": \"x\", \"text\": [], \"x\": [], \"y\": [], \"type\": \"scatter\"}, {\"mode\": \"lines\", \"name\": \"i\", \"text\": [], \"x\": [], \"y\": [], \"type\": \"scatter\"}, {\"mode\": \"lines\", \"name\": \"c\", \"text\": [], \"x\": [], \"y\": [], \"type\": \"scatter\"}, {\"mode\": \"lines\", \"name\": \"o\", \"text\": [], \"x\": [], \"y\": [], \"type\": \"scatter\"}, {\"mode\": \"lines\", \"name\": \"_\", \"text\": [], \"x\": [], \"y\": [], \"type\": \"scatter\"}, {\"mode\": \"lines\", \"name\": \"S\", \"text\": [], \"x\": [], \"y\": [], \"type\": \"scatter\"}, {\"mode\": \"lines\", \"name\": \"S\", \"text\": [], \"x\": [], \"y\": [], \"type\": \"scatter\"}], \"name\": \"07-03-2020\"}, {\"data\": [{\"mode\": \"lines\", \"name\": \"M\", \"text\": [], \"x\": [], \"y\": [], \"type\": \"scatter\"}, {\"mode\": \"lines\", \"name\": \"e\", \"text\": [], \"x\": [], \"y\": [], \"type\": \"scatter\"}, {\"mode\": \"lines\", \"name\": \"x\", \"text\": [], \"x\": [], \"y\": [], \"type\": \"scatter\"}, {\"mode\": \"lines\", \"name\": \"i\", \"text\": [], \"x\": [], \"y\": [], \"type\": \"scatter\"}, {\"mode\": \"lines\", \"name\": \"c\", \"text\": [], \"x\": [], \"y\": [], \"type\": \"scatter\"}, {\"mode\": \"lines\", \"name\": \"o\", \"text\": [], \"x\": [], \"y\": [], \"type\": \"scatter\"}, {\"mode\": \"lines\", \"name\": \"_\", \"text\": [], \"x\": [], \"y\": [], \"type\": \"scatter\"}, {\"mode\": \"lines\", \"name\": \"S\", \"text\": [], \"x\": [], \"y\": [], \"type\": \"scatter\"}, {\"mode\": \"lines\", \"name\": \"S\", \"text\": [], \"x\": [], \"y\": [], \"type\": \"scatter\"}], \"name\": \"08-03-2020\"}, {\"data\": [{\"mode\": \"lines\", \"name\": \"M\", \"text\": [], \"x\": [], \"y\": [], \"type\": \"scatter\"}, {\"mode\": \"lines\", \"name\": \"e\", \"text\": [], \"x\": [], \"y\": [], \"type\": \"scatter\"}, {\"mode\": \"lines\", \"name\": \"x\", \"text\": [], \"x\": [], \"y\": [], \"type\": \"scatter\"}, {\"mode\": \"lines\", \"name\": \"i\", \"text\": [], \"x\": [], \"y\": [], \"type\": \"scatter\"}, {\"mode\": \"lines\", \"name\": \"c\", \"text\": [], \"x\": [], \"y\": [], \"type\": \"scatter\"}, {\"mode\": \"lines\", \"name\": \"o\", \"text\": [], \"x\": [], \"y\": [], \"type\": \"scatter\"}, {\"mode\": \"lines\", \"name\": \"_\", \"text\": [], \"x\": [], \"y\": [], \"type\": \"scatter\"}, {\"mode\": \"lines\", \"name\": \"S\", \"text\": [], \"x\": [], \"y\": [], \"type\": \"scatter\"}, {\"mode\": \"lines\", \"name\": \"S\", \"text\": [], \"x\": [], \"y\": [], \"type\": \"scatter\"}], \"name\": \"09-03-2020\"}, {\"data\": [{\"mode\": \"lines\", \"name\": \"M\", \"text\": [], \"x\": [], \"y\": [], \"type\": \"scatter\"}, {\"mode\": \"lines\", \"name\": \"e\", \"text\": [], \"x\": [], \"y\": [], \"type\": \"scatter\"}, {\"mode\": \"lines\", \"name\": \"x\", \"text\": [], \"x\": [], \"y\": [], \"type\": \"scatter\"}, {\"mode\": \"lines\", \"name\": \"i\", \"text\": [], \"x\": [], \"y\": [], \"type\": \"scatter\"}, {\"mode\": \"lines\", \"name\": \"c\", \"text\": [], \"x\": [], \"y\": [], \"type\": \"scatter\"}, {\"mode\": \"lines\", \"name\": \"o\", \"text\": [], \"x\": [], \"y\": [], \"type\": \"scatter\"}, {\"mode\": \"lines\", \"name\": \"_\", \"text\": [], \"x\": [], \"y\": [], \"type\": \"scatter\"}, {\"mode\": \"lines\", \"name\": \"S\", \"text\": [], \"x\": [], \"y\": [], \"type\": \"scatter\"}, {\"mode\": \"lines\", \"name\": \"S\", \"text\": [], \"x\": [], \"y\": [], \"type\": \"scatter\"}], \"name\": \"10-03-2020\"}, {\"data\": [{\"mode\": \"lines\", \"name\": \"M\", \"text\": [], \"x\": [], \"y\": [], \"type\": \"scatter\"}, {\"mode\": \"lines\", \"name\": \"e\", \"text\": [], \"x\": [], \"y\": [], \"type\": \"scatter\"}, {\"mode\": \"lines\", \"name\": \"x\", \"text\": [], \"x\": [], \"y\": [], \"type\": \"scatter\"}, {\"mode\": \"lines\", \"name\": \"i\", \"text\": [], \"x\": [], \"y\": [], \"type\": \"scatter\"}, {\"mode\": \"lines\", \"name\": \"c\", \"text\": [], \"x\": [], \"y\": [], \"type\": \"scatter\"}, {\"mode\": \"lines\", \"name\": \"o\", \"text\": [], \"x\": [], \"y\": [], \"type\": \"scatter\"}, {\"mode\": \"lines\", \"name\": \"_\", \"text\": [], \"x\": [], \"y\": [], \"type\": \"scatter\"}, {\"mode\": \"lines\", \"name\": \"S\", \"text\": [], \"x\": [], \"y\": [], \"type\": \"scatter\"}, {\"mode\": \"lines\", \"name\": \"S\", \"text\": [], \"x\": [], \"y\": [], \"type\": \"scatter\"}], \"name\": \"11-03-2020\"}, {\"data\": [{\"mode\": \"lines\", \"name\": \"M\", \"text\": [], \"x\": [], \"y\": [], \"type\": \"scatter\"}, {\"mode\": \"lines\", \"name\": \"e\", \"text\": [], \"x\": [], \"y\": [], \"type\": \"scatter\"}, {\"mode\": \"lines\", \"name\": \"x\", \"text\": [], \"x\": [], \"y\": [], \"type\": \"scatter\"}, {\"mode\": \"lines\", \"name\": \"i\", \"text\": [], \"x\": [], \"y\": [], \"type\": \"scatter\"}, {\"mode\": \"lines\", \"name\": \"c\", \"text\": [], \"x\": [], \"y\": [], \"type\": \"scatter\"}, {\"mode\": \"lines\", \"name\": \"o\", \"text\": [], \"x\": [], \"y\": [], \"type\": \"scatter\"}, {\"mode\": \"lines\", \"name\": \"_\", \"text\": [], \"x\": [], \"y\": [], \"type\": \"scatter\"}, {\"mode\": \"lines\", \"name\": \"S\", \"text\": [], \"x\": [], \"y\": [], \"type\": \"scatter\"}, {\"mode\": \"lines\", \"name\": \"S\", \"text\": [], \"x\": [], \"y\": [], \"type\": \"scatter\"}], \"name\": \"12-03-2020\"}, {\"data\": [{\"mode\": \"lines\", \"name\": \"M\", \"text\": [], \"x\": [], \"y\": [], \"type\": \"scatter\"}, {\"mode\": \"lines\", \"name\": \"e\", \"text\": [], \"x\": [], \"y\": [], \"type\": \"scatter\"}, {\"mode\": \"lines\", \"name\": \"x\", \"text\": [], \"x\": [], \"y\": [], \"type\": \"scatter\"}, {\"mode\": \"lines\", \"name\": \"i\", \"text\": [], \"x\": [], \"y\": [], \"type\": \"scatter\"}, {\"mode\": \"lines\", \"name\": \"c\", \"text\": [], \"x\": [], \"y\": [], \"type\": \"scatter\"}, {\"mode\": \"lines\", \"name\": \"o\", \"text\": [], \"x\": [], \"y\": [], \"type\": \"scatter\"}, {\"mode\": \"lines\", \"name\": \"_\", \"text\": [], \"x\": [], \"y\": [], \"type\": \"scatter\"}, {\"mode\": \"lines\", \"name\": \"S\", \"text\": [], \"x\": [], \"y\": [], \"type\": \"scatter\"}, {\"mode\": \"lines\", \"name\": \"S\", \"text\": [], \"x\": [], \"y\": [], \"type\": \"scatter\"}], \"name\": \"13-03-2020\"}, {\"data\": [{\"mode\": \"lines\", \"name\": \"M\", \"text\": [], \"x\": [], \"y\": [], \"type\": \"scatter\"}, {\"mode\": \"lines\", \"name\": \"e\", \"text\": [], \"x\": [], \"y\": [], \"type\": \"scatter\"}, {\"mode\": \"lines\", \"name\": \"x\", \"text\": [], \"x\": [], \"y\": [], \"type\": \"scatter\"}, {\"mode\": \"lines\", \"name\": \"i\", \"text\": [], \"x\": [], \"y\": [], \"type\": \"scatter\"}, {\"mode\": \"lines\", \"name\": \"c\", \"text\": [], \"x\": [], \"y\": [], \"type\": \"scatter\"}, {\"mode\": \"lines\", \"name\": \"o\", \"text\": [], \"x\": [], \"y\": [], \"type\": \"scatter\"}, {\"mode\": \"lines\", \"name\": \"_\", \"text\": [], \"x\": [], \"y\": [], \"type\": \"scatter\"}, {\"mode\": \"lines\", \"name\": \"S\", \"text\": [], \"x\": [], \"y\": [], \"type\": \"scatter\"}, {\"mode\": \"lines\", \"name\": \"S\", \"text\": [], \"x\": [], \"y\": [], \"type\": \"scatter\"}], \"name\": \"14-03-2020\"}, {\"data\": [{\"mode\": \"lines\", \"name\": \"M\", \"text\": [], \"x\": [], \"y\": [], \"type\": \"scatter\"}, {\"mode\": \"lines\", \"name\": \"e\", \"text\": [], \"x\": [], \"y\": [], \"type\": \"scatter\"}, {\"mode\": \"lines\", \"name\": \"x\", \"text\": [], \"x\": [], \"y\": [], \"type\": \"scatter\"}, {\"mode\": \"lines\", \"name\": \"i\", \"text\": [], \"x\": [], \"y\": [], \"type\": \"scatter\"}, {\"mode\": \"lines\", \"name\": \"c\", \"text\": [], \"x\": [], \"y\": [], \"type\": \"scatter\"}, {\"mode\": \"lines\", \"name\": \"o\", \"text\": [], \"x\": [], \"y\": [], \"type\": \"scatter\"}, {\"mode\": \"lines\", \"name\": \"_\", \"text\": [], \"x\": [], \"y\": [], \"type\": \"scatter\"}, {\"mode\": \"lines\", \"name\": \"S\", \"text\": [], \"x\": [], \"y\": [], \"type\": \"scatter\"}, {\"mode\": \"lines\", \"name\": \"S\", \"text\": [], \"x\": [], \"y\": [], \"type\": \"scatter\"}], \"name\": \"15-03-2020\"}, {\"data\": [{\"mode\": \"lines\", \"name\": \"M\", \"text\": [], \"x\": [], \"y\": [], \"type\": \"scatter\"}, {\"mode\": \"lines\", \"name\": \"e\", \"text\": [], \"x\": [], \"y\": [], \"type\": \"scatter\"}, {\"mode\": \"lines\", \"name\": \"x\", \"text\": [], \"x\": [], \"y\": [], \"type\": \"scatter\"}, {\"mode\": \"lines\", \"name\": \"i\", \"text\": [], \"x\": [], \"y\": [], \"type\": \"scatter\"}, {\"mode\": \"lines\", \"name\": \"c\", \"text\": [], \"x\": [], \"y\": [], \"type\": \"scatter\"}, {\"mode\": \"lines\", \"name\": \"o\", \"text\": [], \"x\": [], \"y\": [], \"type\": \"scatter\"}, {\"mode\": \"lines\", \"name\": \"_\", \"text\": [], \"x\": [], \"y\": [], \"type\": \"scatter\"}, {\"mode\": \"lines\", \"name\": \"S\", \"text\": [], \"x\": [], \"y\": [], \"type\": \"scatter\"}, {\"mode\": \"lines\", \"name\": \"S\", \"text\": [], \"x\": [], \"y\": [], \"type\": \"scatter\"}], \"name\": \"16-03-2020\"}, {\"data\": [{\"mode\": \"lines\", \"name\": \"M\", \"text\": [], \"x\": [], \"y\": [], \"type\": \"scatter\"}, {\"mode\": \"lines\", \"name\": \"e\", \"text\": [], \"x\": [], \"y\": [], \"type\": \"scatter\"}, {\"mode\": \"lines\", \"name\": \"x\", \"text\": [], \"x\": [], \"y\": [], \"type\": \"scatter\"}, {\"mode\": \"lines\", \"name\": \"i\", \"text\": [], \"x\": [], \"y\": [], \"type\": \"scatter\"}, {\"mode\": \"lines\", \"name\": \"c\", \"text\": [], \"x\": [], \"y\": [], \"type\": \"scatter\"}, {\"mode\": \"lines\", \"name\": \"o\", \"text\": [], \"x\": [], \"y\": [], \"type\": \"scatter\"}, {\"mode\": \"lines\", \"name\": \"_\", \"text\": [], \"x\": [], \"y\": [], \"type\": \"scatter\"}, {\"mode\": \"lines\", \"name\": \"S\", \"text\": [], \"x\": [], \"y\": [], \"type\": \"scatter\"}, {\"mode\": \"lines\", \"name\": \"S\", \"text\": [], \"x\": [], \"y\": [], \"type\": \"scatter\"}], \"name\": \"17-03-2020\"}, {\"data\": [{\"mode\": \"lines\", \"name\": \"M\", \"text\": [], \"x\": [], \"y\": [], \"type\": \"scatter\"}, {\"mode\": \"lines\", \"name\": \"e\", \"text\": [], \"x\": [], \"y\": [], \"type\": \"scatter\"}, {\"mode\": \"lines\", \"name\": \"x\", \"text\": [], \"x\": [], \"y\": [], \"type\": \"scatter\"}, {\"mode\": \"lines\", \"name\": \"i\", \"text\": [], \"x\": [], \"y\": [], \"type\": \"scatter\"}, {\"mode\": \"lines\", \"name\": \"c\", \"text\": [], \"x\": [], \"y\": [], \"type\": \"scatter\"}, {\"mode\": \"lines\", \"name\": \"o\", \"text\": [], \"x\": [], \"y\": [], \"type\": \"scatter\"}, {\"mode\": \"lines\", \"name\": \"_\", \"text\": [], \"x\": [], \"y\": [], \"type\": \"scatter\"}, {\"mode\": \"lines\", \"name\": \"S\", \"text\": [], \"x\": [], \"y\": [], \"type\": \"scatter\"}, {\"mode\": \"lines\", \"name\": \"S\", \"text\": [], \"x\": [], \"y\": [], \"type\": \"scatter\"}], \"name\": \"18-03-2020\"}, {\"data\": [{\"mode\": \"lines\", \"name\": \"M\", \"text\": [], \"x\": [], \"y\": [], \"type\": \"scatter\"}, {\"mode\": \"lines\", \"name\": \"e\", \"text\": [], \"x\": [], \"y\": [], \"type\": \"scatter\"}, {\"mode\": \"lines\", \"name\": \"x\", \"text\": [], \"x\": [], \"y\": [], \"type\": \"scatter\"}, {\"mode\": \"lines\", \"name\": \"i\", \"text\": [], \"x\": [], \"y\": [], \"type\": \"scatter\"}, {\"mode\": \"lines\", \"name\": \"c\", \"text\": [], \"x\": [], \"y\": [], \"type\": \"scatter\"}, {\"mode\": \"lines\", \"name\": \"o\", \"text\": [], \"x\": [], \"y\": [], \"type\": \"scatter\"}, {\"mode\": \"lines\", \"name\": \"_\", \"text\": [], \"x\": [], \"y\": [], \"type\": \"scatter\"}, {\"mode\": \"lines\", \"name\": \"S\", \"text\": [], \"x\": [], \"y\": [], \"type\": \"scatter\"}, {\"mode\": \"lines\", \"name\": \"S\", \"text\": [], \"x\": [], \"y\": [], \"type\": \"scatter\"}], \"name\": \"19-03-2020\"}, {\"data\": [{\"mode\": \"lines\", \"name\": \"M\", \"text\": [], \"x\": [], \"y\": [], \"type\": \"scatter\"}, {\"mode\": \"lines\", \"name\": \"e\", \"text\": [], \"x\": [], \"y\": [], \"type\": \"scatter\"}, {\"mode\": \"lines\", \"name\": \"x\", \"text\": [], \"x\": [], \"y\": [], \"type\": \"scatter\"}, {\"mode\": \"lines\", \"name\": \"i\", \"text\": [], \"x\": [], \"y\": [], \"type\": \"scatter\"}, {\"mode\": \"lines\", \"name\": \"c\", \"text\": [], \"x\": [], \"y\": [], \"type\": \"scatter\"}, {\"mode\": \"lines\", \"name\": \"o\", \"text\": [], \"x\": [], \"y\": [], \"type\": \"scatter\"}, {\"mode\": \"lines\", \"name\": \"_\", \"text\": [], \"x\": [], \"y\": [], \"type\": \"scatter\"}, {\"mode\": \"lines\", \"name\": \"S\", \"text\": [], \"x\": [], \"y\": [], \"type\": \"scatter\"}, {\"mode\": \"lines\", \"name\": \"S\", \"text\": [], \"x\": [], \"y\": [], \"type\": \"scatter\"}], \"name\": \"20-03-2020\"}, {\"data\": [{\"mode\": \"lines\", \"name\": \"M\", \"text\": [], \"x\": [], \"y\": [], \"type\": \"scatter\"}, {\"mode\": \"lines\", \"name\": \"e\", \"text\": [], \"x\": [], \"y\": [], \"type\": \"scatter\"}, {\"mode\": \"lines\", \"name\": \"x\", \"text\": [], \"x\": [], \"y\": [], \"type\": \"scatter\"}, {\"mode\": \"lines\", \"name\": \"i\", \"text\": [], \"x\": [], \"y\": [], \"type\": \"scatter\"}, {\"mode\": \"lines\", \"name\": \"c\", \"text\": [], \"x\": [], \"y\": [], \"type\": \"scatter\"}, {\"mode\": \"lines\", \"name\": \"o\", \"text\": [], \"x\": [], \"y\": [], \"type\": \"scatter\"}, {\"mode\": \"lines\", \"name\": \"_\", \"text\": [], \"x\": [], \"y\": [], \"type\": \"scatter\"}, {\"mode\": \"lines\", \"name\": \"S\", \"text\": [], \"x\": [], \"y\": [], \"type\": \"scatter\"}, {\"mode\": \"lines\", \"name\": \"S\", \"text\": [], \"x\": [], \"y\": [], \"type\": \"scatter\"}], \"name\": \"21-03-2020\"}, {\"data\": [{\"mode\": \"lines\", \"name\": \"M\", \"text\": [], \"x\": [], \"y\": [], \"type\": \"scatter\"}, {\"mode\": \"lines\", \"name\": \"e\", \"text\": [], \"x\": [], \"y\": [], \"type\": \"scatter\"}, {\"mode\": \"lines\", \"name\": \"x\", \"text\": [], \"x\": [], \"y\": [], \"type\": \"scatter\"}, {\"mode\": \"lines\", \"name\": \"i\", \"text\": [], \"x\": [], \"y\": [], \"type\": \"scatter\"}, {\"mode\": \"lines\", \"name\": \"c\", \"text\": [], \"x\": [], \"y\": [], \"type\": \"scatter\"}, {\"mode\": \"lines\", \"name\": \"o\", \"text\": [], \"x\": [], \"y\": [], \"type\": \"scatter\"}, {\"mode\": \"lines\", \"name\": \"_\", \"text\": [], \"x\": [], \"y\": [], \"type\": \"scatter\"}, {\"mode\": \"lines\", \"name\": \"S\", \"text\": [], \"x\": [], \"y\": [], \"type\": \"scatter\"}, {\"mode\": \"lines\", \"name\": \"S\", \"text\": [], \"x\": [], \"y\": [], \"type\": \"scatter\"}], \"name\": \"22-03-2020\"}, {\"data\": [{\"mode\": \"lines\", \"name\": \"M\", \"text\": [], \"x\": [], \"y\": [], \"type\": \"scatter\"}, {\"mode\": \"lines\", \"name\": \"e\", \"text\": [], \"x\": [], \"y\": [], \"type\": \"scatter\"}, {\"mode\": \"lines\", \"name\": \"x\", \"text\": [], \"x\": [], \"y\": [], \"type\": \"scatter\"}, {\"mode\": \"lines\", \"name\": \"i\", \"text\": [], \"x\": [], \"y\": [], \"type\": \"scatter\"}, {\"mode\": \"lines\", \"name\": \"c\", \"text\": [], \"x\": [], \"y\": [], \"type\": \"scatter\"}, {\"mode\": \"lines\", \"name\": \"o\", \"text\": [], \"x\": [], \"y\": [], \"type\": \"scatter\"}, {\"mode\": \"lines\", \"name\": \"_\", \"text\": [], \"x\": [], \"y\": [], \"type\": \"scatter\"}, {\"mode\": \"lines\", \"name\": \"S\", \"text\": [], \"x\": [], \"y\": [], \"type\": \"scatter\"}, {\"mode\": \"lines\", \"name\": \"S\", \"text\": [], \"x\": [], \"y\": [], \"type\": \"scatter\"}], \"name\": \"23-03-2020\"}, {\"data\": [{\"mode\": \"lines\", \"name\": \"M\", \"text\": [], \"x\": [], \"y\": [], \"type\": \"scatter\"}, {\"mode\": \"lines\", \"name\": \"e\", \"text\": [], \"x\": [], \"y\": [], \"type\": \"scatter\"}, {\"mode\": \"lines\", \"name\": \"x\", \"text\": [], \"x\": [], \"y\": [], \"type\": \"scatter\"}, {\"mode\": \"lines\", \"name\": \"i\", \"text\": [], \"x\": [], \"y\": [], \"type\": \"scatter\"}, {\"mode\": \"lines\", \"name\": \"c\", \"text\": [], \"x\": [], \"y\": [], \"type\": \"scatter\"}, {\"mode\": \"lines\", \"name\": \"o\", \"text\": [], \"x\": [], \"y\": [], \"type\": \"scatter\"}, {\"mode\": \"lines\", \"name\": \"_\", \"text\": [], \"x\": [], \"y\": [], \"type\": \"scatter\"}, {\"mode\": \"lines\", \"name\": \"S\", \"text\": [], \"x\": [], \"y\": [], \"type\": \"scatter\"}, {\"mode\": \"lines\", \"name\": \"S\", \"text\": [], \"x\": [], \"y\": [], \"type\": \"scatter\"}], \"name\": \"24-03-2020\"}, {\"data\": [{\"mode\": \"lines\", \"name\": \"M\", \"text\": [], \"x\": [], \"y\": [], \"type\": \"scatter\"}, {\"mode\": \"lines\", \"name\": \"e\", \"text\": [], \"x\": [], \"y\": [], \"type\": \"scatter\"}, {\"mode\": \"lines\", \"name\": \"x\", \"text\": [], \"x\": [], \"y\": [], \"type\": \"scatter\"}, {\"mode\": \"lines\", \"name\": \"i\", \"text\": [], \"x\": [], \"y\": [], \"type\": \"scatter\"}, {\"mode\": \"lines\", \"name\": \"c\", \"text\": [], \"x\": [], \"y\": [], \"type\": \"scatter\"}, {\"mode\": \"lines\", \"name\": \"o\", \"text\": [], \"x\": [], \"y\": [], \"type\": \"scatter\"}, {\"mode\": \"lines\", \"name\": \"_\", \"text\": [], \"x\": [], \"y\": [], \"type\": \"scatter\"}, {\"mode\": \"lines\", \"name\": \"S\", \"text\": [], \"x\": [], \"y\": [], \"type\": \"scatter\"}, {\"mode\": \"lines\", \"name\": \"S\", \"text\": [], \"x\": [], \"y\": [], \"type\": \"scatter\"}], \"name\": \"25-03-2020\"}, {\"data\": [{\"mode\": \"lines\", \"name\": \"M\", \"text\": [], \"x\": [], \"y\": [], \"type\": \"scatter\"}, {\"mode\": \"lines\", \"name\": \"e\", \"text\": [], \"x\": [], \"y\": [], \"type\": \"scatter\"}, {\"mode\": \"lines\", \"name\": \"x\", \"text\": [], \"x\": [], \"y\": [], \"type\": \"scatter\"}, {\"mode\": \"lines\", \"name\": \"i\", \"text\": [], \"x\": [], \"y\": [], \"type\": \"scatter\"}, {\"mode\": \"lines\", \"name\": \"c\", \"text\": [], \"x\": [], \"y\": [], \"type\": \"scatter\"}, {\"mode\": \"lines\", \"name\": \"o\", \"text\": [], \"x\": [], \"y\": [], \"type\": \"scatter\"}, {\"mode\": \"lines\", \"name\": \"_\", \"text\": [], \"x\": [], \"y\": [], \"type\": \"scatter\"}, {\"mode\": \"lines\", \"name\": \"S\", \"text\": [], \"x\": [], \"y\": [], \"type\": \"scatter\"}, {\"mode\": \"lines\", \"name\": \"S\", \"text\": [], \"x\": [], \"y\": [], \"type\": \"scatter\"}], \"name\": \"26-03-2020\"}, {\"data\": [{\"mode\": \"lines\", \"name\": \"M\", \"text\": [], \"x\": [], \"y\": [], \"type\": \"scatter\"}, {\"mode\": \"lines\", \"name\": \"e\", \"text\": [], \"x\": [], \"y\": [], \"type\": \"scatter\"}, {\"mode\": \"lines\", \"name\": \"x\", \"text\": [], \"x\": [], \"y\": [], \"type\": \"scatter\"}, {\"mode\": \"lines\", \"name\": \"i\", \"text\": [], \"x\": [], \"y\": [], \"type\": \"scatter\"}, {\"mode\": \"lines\", \"name\": \"c\", \"text\": [], \"x\": [], \"y\": [], \"type\": \"scatter\"}, {\"mode\": \"lines\", \"name\": \"o\", \"text\": [], \"x\": [], \"y\": [], \"type\": \"scatter\"}, {\"mode\": \"lines\", \"name\": \"_\", \"text\": [], \"x\": [], \"y\": [], \"type\": \"scatter\"}, {\"mode\": \"lines\", \"name\": \"S\", \"text\": [], \"x\": [], \"y\": [], \"type\": \"scatter\"}, {\"mode\": \"lines\", \"name\": \"S\", \"text\": [], \"x\": [], \"y\": [], \"type\": \"scatter\"}], \"name\": \"27-03-2020\"}, {\"data\": [{\"mode\": \"lines\", \"name\": \"M\", \"text\": [], \"x\": [], \"y\": [], \"type\": \"scatter\"}, {\"mode\": \"lines\", \"name\": \"e\", \"text\": [], \"x\": [], \"y\": [], \"type\": \"scatter\"}, {\"mode\": \"lines\", \"name\": \"x\", \"text\": [], \"x\": [], \"y\": [], \"type\": \"scatter\"}, {\"mode\": \"lines\", \"name\": \"i\", \"text\": [], \"x\": [], \"y\": [], \"type\": \"scatter\"}, {\"mode\": \"lines\", \"name\": \"c\", \"text\": [], \"x\": [], \"y\": [], \"type\": \"scatter\"}, {\"mode\": \"lines\", \"name\": \"o\", \"text\": [], \"x\": [], \"y\": [], \"type\": \"scatter\"}, {\"mode\": \"lines\", \"name\": \"_\", \"text\": [], \"x\": [], \"y\": [], \"type\": \"scatter\"}, {\"mode\": \"lines\", \"name\": \"S\", \"text\": [], \"x\": [], \"y\": [], \"type\": \"scatter\"}, {\"mode\": \"lines\", \"name\": \"S\", \"text\": [], \"x\": [], \"y\": [], \"type\": \"scatter\"}], \"name\": \"28-03-2020\"}, {\"data\": [{\"mode\": \"lines\", \"name\": \"M\", \"text\": [], \"x\": [], \"y\": [], \"type\": \"scatter\"}, {\"mode\": \"lines\", \"name\": \"e\", \"text\": [], \"x\": [], \"y\": [], \"type\": \"scatter\"}, {\"mode\": \"lines\", \"name\": \"x\", \"text\": [], \"x\": [], \"y\": [], \"type\": \"scatter\"}, {\"mode\": \"lines\", \"name\": \"i\", \"text\": [], \"x\": [], \"y\": [], \"type\": \"scatter\"}, {\"mode\": \"lines\", \"name\": \"c\", \"text\": [], \"x\": [], \"y\": [], \"type\": \"scatter\"}, {\"mode\": \"lines\", \"name\": \"o\", \"text\": [], \"x\": [], \"y\": [], \"type\": \"scatter\"}, {\"mode\": \"lines\", \"name\": \"_\", \"text\": [], \"x\": [], \"y\": [], \"type\": \"scatter\"}, {\"mode\": \"lines\", \"name\": \"S\", \"text\": [], \"x\": [], \"y\": [], \"type\": \"scatter\"}, {\"mode\": \"lines\", \"name\": \"S\", \"text\": [], \"x\": [], \"y\": [], \"type\": \"scatter\"}], \"name\": \"29-03-2020\"}, {\"data\": [{\"mode\": \"lines\", \"name\": \"M\", \"text\": [], \"x\": [], \"y\": [], \"type\": \"scatter\"}, {\"mode\": \"lines\", \"name\": \"e\", \"text\": [], \"x\": [], \"y\": [], \"type\": \"scatter\"}, {\"mode\": \"lines\", \"name\": \"x\", \"text\": [], \"x\": [], \"y\": [], \"type\": \"scatter\"}, {\"mode\": \"lines\", \"name\": \"i\", \"text\": [], \"x\": [], \"y\": [], \"type\": \"scatter\"}, {\"mode\": \"lines\", \"name\": \"c\", \"text\": [], \"x\": [], \"y\": [], \"type\": \"scatter\"}, {\"mode\": \"lines\", \"name\": \"o\", \"text\": [], \"x\": [], \"y\": [], \"type\": \"scatter\"}, {\"mode\": \"lines\", \"name\": \"_\", \"text\": [], \"x\": [], \"y\": [], \"type\": \"scatter\"}, {\"mode\": \"lines\", \"name\": \"S\", \"text\": [], \"x\": [], \"y\": [], \"type\": \"scatter\"}, {\"mode\": \"lines\", \"name\": \"S\", \"text\": [], \"x\": [], \"y\": [], \"type\": \"scatter\"}], \"name\": \"30-03-2020\"}, {\"data\": [{\"mode\": \"lines\", \"name\": \"M\", \"text\": [], \"x\": [], \"y\": [], \"type\": \"scatter\"}, {\"mode\": \"lines\", \"name\": \"e\", \"text\": [], \"x\": [], \"y\": [], \"type\": \"scatter\"}, {\"mode\": \"lines\", \"name\": \"x\", \"text\": [], \"x\": [], \"y\": [], \"type\": \"scatter\"}, {\"mode\": \"lines\", \"name\": \"i\", \"text\": [], \"x\": [], \"y\": [], \"type\": \"scatter\"}, {\"mode\": \"lines\", \"name\": \"c\", \"text\": [], \"x\": [], \"y\": [], \"type\": \"scatter\"}, {\"mode\": \"lines\", \"name\": \"o\", \"text\": [], \"x\": [], \"y\": [], \"type\": \"scatter\"}, {\"mode\": \"lines\", \"name\": \"_\", \"text\": [], \"x\": [], \"y\": [], \"type\": \"scatter\"}, {\"mode\": \"lines\", \"name\": \"S\", \"text\": [], \"x\": [], \"y\": [], \"type\": \"scatter\"}, {\"mode\": \"lines\", \"name\": \"S\", \"text\": [], \"x\": [], \"y\": [], \"type\": \"scatter\"}], \"name\": \"31-03-2020\"}, {\"data\": [{\"mode\": \"lines\", \"name\": \"M\", \"text\": [], \"x\": [], \"y\": [], \"type\": \"scatter\"}, {\"mode\": \"lines\", \"name\": \"e\", \"text\": [], \"x\": [], \"y\": [], \"type\": \"scatter\"}, {\"mode\": \"lines\", \"name\": \"x\", \"text\": [], \"x\": [], \"y\": [], \"type\": \"scatter\"}, {\"mode\": \"lines\", \"name\": \"i\", \"text\": [], \"x\": [], \"y\": [], \"type\": \"scatter\"}, {\"mode\": \"lines\", \"name\": \"c\", \"text\": [], \"x\": [], \"y\": [], \"type\": \"scatter\"}, {\"mode\": \"lines\", \"name\": \"o\", \"text\": [], \"x\": [], \"y\": [], \"type\": \"scatter\"}, {\"mode\": \"lines\", \"name\": \"_\", \"text\": [], \"x\": [], \"y\": [], \"type\": \"scatter\"}, {\"mode\": \"lines\", \"name\": \"S\", \"text\": [], \"x\": [], \"y\": [], \"type\": \"scatter\"}, {\"mode\": \"lines\", \"name\": \"S\", \"text\": [], \"x\": [], \"y\": [], \"type\": \"scatter\"}], \"name\": \"01-04-2020\"}, {\"data\": [{\"mode\": \"lines\", \"name\": \"M\", \"text\": [], \"x\": [], \"y\": [], \"type\": \"scatter\"}, {\"mode\": \"lines\", \"name\": \"e\", \"text\": [], \"x\": [], \"y\": [], \"type\": \"scatter\"}, {\"mode\": \"lines\", \"name\": \"x\", \"text\": [], \"x\": [], \"y\": [], \"type\": \"scatter\"}, {\"mode\": \"lines\", \"name\": \"i\", \"text\": [], \"x\": [], \"y\": [], \"type\": \"scatter\"}, {\"mode\": \"lines\", \"name\": \"c\", \"text\": [], \"x\": [], \"y\": [], \"type\": \"scatter\"}, {\"mode\": \"lines\", \"name\": \"o\", \"text\": [], \"x\": [], \"y\": [], \"type\": \"scatter\"}, {\"mode\": \"lines\", \"name\": \"_\", \"text\": [], \"x\": [], \"y\": [], \"type\": \"scatter\"}, {\"mode\": \"lines\", \"name\": \"S\", \"text\": [], \"x\": [], \"y\": [], \"type\": \"scatter\"}, {\"mode\": \"lines\", \"name\": \"S\", \"text\": [], \"x\": [], \"y\": [], \"type\": \"scatter\"}], \"name\": \"02-04-2020\"}, {\"data\": [{\"mode\": \"lines\", \"name\": \"M\", \"text\": [], \"x\": [], \"y\": [], \"type\": \"scatter\"}, {\"mode\": \"lines\", \"name\": \"e\", \"text\": [], \"x\": [], \"y\": [], \"type\": \"scatter\"}, {\"mode\": \"lines\", \"name\": \"x\", \"text\": [], \"x\": [], \"y\": [], \"type\": \"scatter\"}, {\"mode\": \"lines\", \"name\": \"i\", \"text\": [], \"x\": [], \"y\": [], \"type\": \"scatter\"}, {\"mode\": \"lines\", \"name\": \"c\", \"text\": [], \"x\": [], \"y\": [], \"type\": \"scatter\"}, {\"mode\": \"lines\", \"name\": \"o\", \"text\": [], \"x\": [], \"y\": [], \"type\": \"scatter\"}, {\"mode\": \"lines\", \"name\": \"_\", \"text\": [], \"x\": [], \"y\": [], \"type\": \"scatter\"}, {\"mode\": \"lines\", \"name\": \"S\", \"text\": [], \"x\": [], \"y\": [], \"type\": \"scatter\"}, {\"mode\": \"lines\", \"name\": \"S\", \"text\": [], \"x\": [], \"y\": [], \"type\": \"scatter\"}], \"name\": \"03-04-2020\"}, {\"data\": [{\"mode\": \"lines\", \"name\": \"M\", \"text\": [], \"x\": [], \"y\": [], \"type\": \"scatter\"}, {\"mode\": \"lines\", \"name\": \"e\", \"text\": [], \"x\": [], \"y\": [], \"type\": \"scatter\"}, {\"mode\": \"lines\", \"name\": \"x\", \"text\": [], \"x\": [], \"y\": [], \"type\": \"scatter\"}, {\"mode\": \"lines\", \"name\": \"i\", \"text\": [], \"x\": [], \"y\": [], \"type\": \"scatter\"}, {\"mode\": \"lines\", \"name\": \"c\", \"text\": [], \"x\": [], \"y\": [], \"type\": \"scatter\"}, {\"mode\": \"lines\", \"name\": \"o\", \"text\": [], \"x\": [], \"y\": [], \"type\": \"scatter\"}, {\"mode\": \"lines\", \"name\": \"_\", \"text\": [], \"x\": [], \"y\": [], \"type\": \"scatter\"}, {\"mode\": \"lines\", \"name\": \"S\", \"text\": [], \"x\": [], \"y\": [], \"type\": \"scatter\"}, {\"mode\": \"lines\", \"name\": \"S\", \"text\": [], \"x\": [], \"y\": [], \"type\": \"scatter\"}], \"name\": \"04-04-2020\"}, {\"data\": [{\"mode\": \"lines\", \"name\": \"M\", \"text\": [], \"x\": [], \"y\": [], \"type\": \"scatter\"}, {\"mode\": \"lines\", \"name\": \"e\", \"text\": [], \"x\": [], \"y\": [], \"type\": \"scatter\"}, {\"mode\": \"lines\", \"name\": \"x\", \"text\": [], \"x\": [], \"y\": [], \"type\": \"scatter\"}, {\"mode\": \"lines\", \"name\": \"i\", \"text\": [], \"x\": [], \"y\": [], \"type\": \"scatter\"}, {\"mode\": \"lines\", \"name\": \"c\", \"text\": [], \"x\": [], \"y\": [], \"type\": \"scatter\"}, {\"mode\": \"lines\", \"name\": \"o\", \"text\": [], \"x\": [], \"y\": [], \"type\": \"scatter\"}, {\"mode\": \"lines\", \"name\": \"_\", \"text\": [], \"x\": [], \"y\": [], \"type\": \"scatter\"}, {\"mode\": \"lines\", \"name\": \"S\", \"text\": [], \"x\": [], \"y\": [], \"type\": \"scatter\"}, {\"mode\": \"lines\", \"name\": \"S\", \"text\": [], \"x\": [], \"y\": [], \"type\": \"scatter\"}], \"name\": \"05-04-2020\"}, {\"data\": [{\"mode\": \"lines\", \"name\": \"M\", \"text\": [], \"x\": [], \"y\": [], \"type\": \"scatter\"}, {\"mode\": \"lines\", \"name\": \"e\", \"text\": [], \"x\": [], \"y\": [], \"type\": \"scatter\"}, {\"mode\": \"lines\", \"name\": \"x\", \"text\": [], \"x\": [], \"y\": [], \"type\": \"scatter\"}, {\"mode\": \"lines\", \"name\": \"i\", \"text\": [], \"x\": [], \"y\": [], \"type\": \"scatter\"}, {\"mode\": \"lines\", \"name\": \"c\", \"text\": [], \"x\": [], \"y\": [], \"type\": \"scatter\"}, {\"mode\": \"lines\", \"name\": \"o\", \"text\": [], \"x\": [], \"y\": [], \"type\": \"scatter\"}, {\"mode\": \"lines\", \"name\": \"_\", \"text\": [], \"x\": [], \"y\": [], \"type\": \"scatter\"}, {\"mode\": \"lines\", \"name\": \"S\", \"text\": [], \"x\": [], \"y\": [], \"type\": \"scatter\"}, {\"mode\": \"lines\", \"name\": \"S\", \"text\": [], \"x\": [], \"y\": [], \"type\": \"scatter\"}], \"name\": \"06-04-2020\"}, {\"data\": [{\"mode\": \"lines\", \"name\": \"M\", \"text\": [], \"x\": [], \"y\": [], \"type\": \"scatter\"}, {\"mode\": \"lines\", \"name\": \"e\", \"text\": [], \"x\": [], \"y\": [], \"type\": \"scatter\"}, {\"mode\": \"lines\", \"name\": \"x\", \"text\": [], \"x\": [], \"y\": [], \"type\": \"scatter\"}, {\"mode\": \"lines\", \"name\": \"i\", \"text\": [], \"x\": [], \"y\": [], \"type\": \"scatter\"}, {\"mode\": \"lines\", \"name\": \"c\", \"text\": [], \"x\": [], \"y\": [], \"type\": \"scatter\"}, {\"mode\": \"lines\", \"name\": \"o\", \"text\": [], \"x\": [], \"y\": [], \"type\": \"scatter\"}, {\"mode\": \"lines\", \"name\": \"_\", \"text\": [], \"x\": [], \"y\": [], \"type\": \"scatter\"}, {\"mode\": \"lines\", \"name\": \"S\", \"text\": [], \"x\": [], \"y\": [], \"type\": \"scatter\"}, {\"mode\": \"lines\", \"name\": \"S\", \"text\": [], \"x\": [], \"y\": [], \"type\": \"scatter\"}], \"name\": \"07-04-2020\"}, {\"data\": [{\"mode\": \"lines\", \"name\": \"M\", \"text\": [], \"x\": [], \"y\": [], \"type\": \"scatter\"}, {\"mode\": \"lines\", \"name\": \"e\", \"text\": [], \"x\": [], \"y\": [], \"type\": \"scatter\"}, {\"mode\": \"lines\", \"name\": \"x\", \"text\": [], \"x\": [], \"y\": [], \"type\": \"scatter\"}, {\"mode\": \"lines\", \"name\": \"i\", \"text\": [], \"x\": [], \"y\": [], \"type\": \"scatter\"}, {\"mode\": \"lines\", \"name\": \"c\", \"text\": [], \"x\": [], \"y\": [], \"type\": \"scatter\"}, {\"mode\": \"lines\", \"name\": \"o\", \"text\": [], \"x\": [], \"y\": [], \"type\": \"scatter\"}, {\"mode\": \"lines\", \"name\": \"_\", \"text\": [], \"x\": [], \"y\": [], \"type\": \"scatter\"}, {\"mode\": \"lines\", \"name\": \"S\", \"text\": [], \"x\": [], \"y\": [], \"type\": \"scatter\"}, {\"mode\": \"lines\", \"name\": \"S\", \"text\": [], \"x\": [], \"y\": [], \"type\": \"scatter\"}], \"name\": \"08-04-2020\"}, {\"data\": [{\"mode\": \"lines\", \"name\": \"M\", \"text\": [], \"x\": [], \"y\": [], \"type\": \"scatter\"}, {\"mode\": \"lines\", \"name\": \"e\", \"text\": [], \"x\": [], \"y\": [], \"type\": \"scatter\"}, {\"mode\": \"lines\", \"name\": \"x\", \"text\": [], \"x\": [], \"y\": [], \"type\": \"scatter\"}, {\"mode\": \"lines\", \"name\": \"i\", \"text\": [], \"x\": [], \"y\": [], \"type\": \"scatter\"}, {\"mode\": \"lines\", \"name\": \"c\", \"text\": [], \"x\": [], \"y\": [], \"type\": \"scatter\"}, {\"mode\": \"lines\", \"name\": \"o\", \"text\": [], \"x\": [], \"y\": [], \"type\": \"scatter\"}, {\"mode\": \"lines\", \"name\": \"_\", \"text\": [], \"x\": [], \"y\": [], \"type\": \"scatter\"}, {\"mode\": \"lines\", \"name\": \"S\", \"text\": [], \"x\": [], \"y\": [], \"type\": \"scatter\"}, {\"mode\": \"lines\", \"name\": \"S\", \"text\": [], \"x\": [], \"y\": [], \"type\": \"scatter\"}], \"name\": \"09-04-2020\"}, {\"data\": [{\"mode\": \"lines\", \"name\": \"M\", \"text\": [], \"x\": [], \"y\": [], \"type\": \"scatter\"}, {\"mode\": \"lines\", \"name\": \"e\", \"text\": [], \"x\": [], \"y\": [], \"type\": \"scatter\"}, {\"mode\": \"lines\", \"name\": \"x\", \"text\": [], \"x\": [], \"y\": [], \"type\": \"scatter\"}, {\"mode\": \"lines\", \"name\": \"i\", \"text\": [], \"x\": [], \"y\": [], \"type\": \"scatter\"}, {\"mode\": \"lines\", \"name\": \"c\", \"text\": [], \"x\": [], \"y\": [], \"type\": \"scatter\"}, {\"mode\": \"lines\", \"name\": \"o\", \"text\": [], \"x\": [], \"y\": [], \"type\": \"scatter\"}, {\"mode\": \"lines\", \"name\": \"_\", \"text\": [], \"x\": [], \"y\": [], \"type\": \"scatter\"}, {\"mode\": \"lines\", \"name\": \"S\", \"text\": [], \"x\": [], \"y\": [], \"type\": \"scatter\"}, {\"mode\": \"lines\", \"name\": \"S\", \"text\": [], \"x\": [], \"y\": [], \"type\": \"scatter\"}], \"name\": \"10-04-2020\"}, {\"data\": [{\"mode\": \"lines\", \"name\": \"M\", \"text\": [], \"x\": [], \"y\": [], \"type\": \"scatter\"}, {\"mode\": \"lines\", \"name\": \"e\", \"text\": [], \"x\": [], \"y\": [], \"type\": \"scatter\"}, {\"mode\": \"lines\", \"name\": \"x\", \"text\": [], \"x\": [], \"y\": [], \"type\": \"scatter\"}, {\"mode\": \"lines\", \"name\": \"i\", \"text\": [], \"x\": [], \"y\": [], \"type\": \"scatter\"}, {\"mode\": \"lines\", \"name\": \"c\", \"text\": [], \"x\": [], \"y\": [], \"type\": \"scatter\"}, {\"mode\": \"lines\", \"name\": \"o\", \"text\": [], \"x\": [], \"y\": [], \"type\": \"scatter\"}, {\"mode\": \"lines\", \"name\": \"_\", \"text\": [], \"x\": [], \"y\": [], \"type\": \"scatter\"}, {\"mode\": \"lines\", \"name\": \"S\", \"text\": [], \"x\": [], \"y\": [], \"type\": \"scatter\"}, {\"mode\": \"lines\", \"name\": \"S\", \"text\": [], \"x\": [], \"y\": [], \"type\": \"scatter\"}], \"name\": \"11-04-2020\"}, {\"data\": [{\"mode\": \"lines\", \"name\": \"M\", \"text\": [], \"x\": [], \"y\": [], \"type\": \"scatter\"}, {\"mode\": \"lines\", \"name\": \"e\", \"text\": [], \"x\": [], \"y\": [], \"type\": \"scatter\"}, {\"mode\": \"lines\", \"name\": \"x\", \"text\": [], \"x\": [], \"y\": [], \"type\": \"scatter\"}, {\"mode\": \"lines\", \"name\": \"i\", \"text\": [], \"x\": [], \"y\": [], \"type\": \"scatter\"}, {\"mode\": \"lines\", \"name\": \"c\", \"text\": [], \"x\": [], \"y\": [], \"type\": \"scatter\"}, {\"mode\": \"lines\", \"name\": \"o\", \"text\": [], \"x\": [], \"y\": [], \"type\": \"scatter\"}, {\"mode\": \"lines\", \"name\": \"_\", \"text\": [], \"x\": [], \"y\": [], \"type\": \"scatter\"}, {\"mode\": \"lines\", \"name\": \"S\", \"text\": [], \"x\": [], \"y\": [], \"type\": \"scatter\"}, {\"mode\": \"lines\", \"name\": \"S\", \"text\": [], \"x\": [], \"y\": [], \"type\": \"scatter\"}], \"name\": \"12-04-2020\"}, {\"data\": [{\"mode\": \"lines\", \"name\": \"M\", \"text\": [], \"x\": [], \"y\": [], \"type\": \"scatter\"}, {\"mode\": \"lines\", \"name\": \"e\", \"text\": [], \"x\": [], \"y\": [], \"type\": \"scatter\"}, {\"mode\": \"lines\", \"name\": \"x\", \"text\": [], \"x\": [], \"y\": [], \"type\": \"scatter\"}, {\"mode\": \"lines\", \"name\": \"i\", \"text\": [], \"x\": [], \"y\": [], \"type\": \"scatter\"}, {\"mode\": \"lines\", \"name\": \"c\", \"text\": [], \"x\": [], \"y\": [], \"type\": \"scatter\"}, {\"mode\": \"lines\", \"name\": \"o\", \"text\": [], \"x\": [], \"y\": [], \"type\": \"scatter\"}, {\"mode\": \"lines\", \"name\": \"_\", \"text\": [], \"x\": [], \"y\": [], \"type\": \"scatter\"}, {\"mode\": \"lines\", \"name\": \"S\", \"text\": [], \"x\": [], \"y\": [], \"type\": \"scatter\"}, {\"mode\": \"lines\", \"name\": \"S\", \"text\": [], \"x\": [], \"y\": [], \"type\": \"scatter\"}], \"name\": \"13-04-2020\"}, {\"data\": [{\"mode\": \"lines\", \"name\": \"M\", \"text\": [], \"x\": [], \"y\": [], \"type\": \"scatter\"}, {\"mode\": \"lines\", \"name\": \"e\", \"text\": [], \"x\": [], \"y\": [], \"type\": \"scatter\"}, {\"mode\": \"lines\", \"name\": \"x\", \"text\": [], \"x\": [], \"y\": [], \"type\": \"scatter\"}, {\"mode\": \"lines\", \"name\": \"i\", \"text\": [], \"x\": [], \"y\": [], \"type\": \"scatter\"}, {\"mode\": \"lines\", \"name\": \"c\", \"text\": [], \"x\": [], \"y\": [], \"type\": \"scatter\"}, {\"mode\": \"lines\", \"name\": \"o\", \"text\": [], \"x\": [], \"y\": [], \"type\": \"scatter\"}, {\"mode\": \"lines\", \"name\": \"_\", \"text\": [], \"x\": [], \"y\": [], \"type\": \"scatter\"}, {\"mode\": \"lines\", \"name\": \"S\", \"text\": [], \"x\": [], \"y\": [], \"type\": \"scatter\"}, {\"mode\": \"lines\", \"name\": \"S\", \"text\": [], \"x\": [], \"y\": [], \"type\": \"scatter\"}], \"name\": \"14-04-2020\"}, {\"data\": [{\"mode\": \"lines\", \"name\": \"M\", \"text\": [], \"x\": [], \"y\": [], \"type\": \"scatter\"}, {\"mode\": \"lines\", \"name\": \"e\", \"text\": [], \"x\": [], \"y\": [], \"type\": \"scatter\"}, {\"mode\": \"lines\", \"name\": \"x\", \"text\": [], \"x\": [], \"y\": [], \"type\": \"scatter\"}, {\"mode\": \"lines\", \"name\": \"i\", \"text\": [], \"x\": [], \"y\": [], \"type\": \"scatter\"}, {\"mode\": \"lines\", \"name\": \"c\", \"text\": [], \"x\": [], \"y\": [], \"type\": \"scatter\"}, {\"mode\": \"lines\", \"name\": \"o\", \"text\": [], \"x\": [], \"y\": [], \"type\": \"scatter\"}, {\"mode\": \"lines\", \"name\": \"_\", \"text\": [], \"x\": [], \"y\": [], \"type\": \"scatter\"}, {\"mode\": \"lines\", \"name\": \"S\", \"text\": [], \"x\": [], \"y\": [], \"type\": \"scatter\"}, {\"mode\": \"lines\", \"name\": \"S\", \"text\": [], \"x\": [], \"y\": [], \"type\": \"scatter\"}], \"name\": \"15-04-2020\"}, {\"data\": [{\"mode\": \"lines\", \"name\": \"M\", \"text\": [], \"x\": [], \"y\": [], \"type\": \"scatter\"}, {\"mode\": \"lines\", \"name\": \"e\", \"text\": [], \"x\": [], \"y\": [], \"type\": \"scatter\"}, {\"mode\": \"lines\", \"name\": \"x\", \"text\": [], \"x\": [], \"y\": [], \"type\": \"scatter\"}, {\"mode\": \"lines\", \"name\": \"i\", \"text\": [], \"x\": [], \"y\": [], \"type\": \"scatter\"}, {\"mode\": \"lines\", \"name\": \"c\", \"text\": [], \"x\": [], \"y\": [], \"type\": \"scatter\"}, {\"mode\": \"lines\", \"name\": \"o\", \"text\": [], \"x\": [], \"y\": [], \"type\": \"scatter\"}, {\"mode\": \"lines\", \"name\": \"_\", \"text\": [], \"x\": [], \"y\": [], \"type\": \"scatter\"}, {\"mode\": \"lines\", \"name\": \"S\", \"text\": [], \"x\": [], \"y\": [], \"type\": \"scatter\"}, {\"mode\": \"lines\", \"name\": \"S\", \"text\": [], \"x\": [], \"y\": [], \"type\": \"scatter\"}], \"name\": \"16-04-2020\"}, {\"data\": [{\"mode\": \"lines\", \"name\": \"M\", \"text\": [], \"x\": [], \"y\": [], \"type\": \"scatter\"}, {\"mode\": \"lines\", \"name\": \"e\", \"text\": [], \"x\": [], \"y\": [], \"type\": \"scatter\"}, {\"mode\": \"lines\", \"name\": \"x\", \"text\": [], \"x\": [], \"y\": [], \"type\": \"scatter\"}, {\"mode\": \"lines\", \"name\": \"i\", \"text\": [], \"x\": [], \"y\": [], \"type\": \"scatter\"}, {\"mode\": \"lines\", \"name\": \"c\", \"text\": [], \"x\": [], \"y\": [], \"type\": \"scatter\"}, {\"mode\": \"lines\", \"name\": \"o\", \"text\": [], \"x\": [], \"y\": [], \"type\": \"scatter\"}, {\"mode\": \"lines\", \"name\": \"_\", \"text\": [], \"x\": [], \"y\": [], \"type\": \"scatter\"}, {\"mode\": \"lines\", \"name\": \"S\", \"text\": [], \"x\": [], \"y\": [], \"type\": \"scatter\"}, {\"mode\": \"lines\", \"name\": \"S\", \"text\": [], \"x\": [], \"y\": [], \"type\": \"scatter\"}], \"name\": \"17-04-2020\"}, {\"data\": [{\"mode\": \"lines\", \"name\": \"M\", \"text\": [], \"x\": [], \"y\": [], \"type\": \"scatter\"}, {\"mode\": \"lines\", \"name\": \"e\", \"text\": [], \"x\": [], \"y\": [], \"type\": \"scatter\"}, {\"mode\": \"lines\", \"name\": \"x\", \"text\": [], \"x\": [], \"y\": [], \"type\": \"scatter\"}, {\"mode\": \"lines\", \"name\": \"i\", \"text\": [], \"x\": [], \"y\": [], \"type\": \"scatter\"}, {\"mode\": \"lines\", \"name\": \"c\", \"text\": [], \"x\": [], \"y\": [], \"type\": \"scatter\"}, {\"mode\": \"lines\", \"name\": \"o\", \"text\": [], \"x\": [], \"y\": [], \"type\": \"scatter\"}, {\"mode\": \"lines\", \"name\": \"_\", \"text\": [], \"x\": [], \"y\": [], \"type\": \"scatter\"}, {\"mode\": \"lines\", \"name\": \"S\", \"text\": [], \"x\": [], \"y\": [], \"type\": \"scatter\"}, {\"mode\": \"lines\", \"name\": \"S\", \"text\": [], \"x\": [], \"y\": [], \"type\": \"scatter\"}], \"name\": \"18-04-2020\"}, {\"data\": [{\"mode\": \"lines\", \"name\": \"M\", \"text\": [], \"x\": [], \"y\": [], \"type\": \"scatter\"}, {\"mode\": \"lines\", \"name\": \"e\", \"text\": [], \"x\": [], \"y\": [], \"type\": \"scatter\"}, {\"mode\": \"lines\", \"name\": \"x\", \"text\": [], \"x\": [], \"y\": [], \"type\": \"scatter\"}, {\"mode\": \"lines\", \"name\": \"i\", \"text\": [], \"x\": [], \"y\": [], \"type\": \"scatter\"}, {\"mode\": \"lines\", \"name\": \"c\", \"text\": [], \"x\": [], \"y\": [], \"type\": \"scatter\"}, {\"mode\": \"lines\", \"name\": \"o\", \"text\": [], \"x\": [], \"y\": [], \"type\": \"scatter\"}, {\"mode\": \"lines\", \"name\": \"_\", \"text\": [], \"x\": [], \"y\": [], \"type\": \"scatter\"}, {\"mode\": \"lines\", \"name\": \"S\", \"text\": [], \"x\": [], \"y\": [], \"type\": \"scatter\"}, {\"mode\": \"lines\", \"name\": \"S\", \"text\": [], \"x\": [], \"y\": [], \"type\": \"scatter\"}], \"name\": \"15-02-2020\"}, {\"data\": [{\"mode\": \"lines\", \"name\": \"M\", \"text\": [], \"x\": [], \"y\": [], \"type\": \"scatter\"}, {\"mode\": \"lines\", \"name\": \"e\", \"text\": [], \"x\": [], \"y\": [], \"type\": \"scatter\"}, {\"mode\": \"lines\", \"name\": \"x\", \"text\": [], \"x\": [], \"y\": [], \"type\": \"scatter\"}, {\"mode\": \"lines\", \"name\": \"i\", \"text\": [], \"x\": [], \"y\": [], \"type\": \"scatter\"}, {\"mode\": \"lines\", \"name\": \"c\", \"text\": [], \"x\": [], \"y\": [], \"type\": \"scatter\"}, {\"mode\": \"lines\", \"name\": \"o\", \"text\": [], \"x\": [], \"y\": [], \"type\": \"scatter\"}, {\"mode\": \"lines\", \"name\": \"_\", \"text\": [], \"x\": [], \"y\": [], \"type\": \"scatter\"}, {\"mode\": \"lines\", \"name\": \"S\", \"text\": [], \"x\": [], \"y\": [], \"type\": \"scatter\"}, {\"mode\": \"lines\", \"name\": \"S\", \"text\": [], \"x\": [], \"y\": [], \"type\": \"scatter\"}], \"name\": \"16-02-2020\"}, {\"data\": [{\"mode\": \"lines\", \"name\": \"M\", \"text\": [], \"x\": [], \"y\": [], \"type\": \"scatter\"}, {\"mode\": \"lines\", \"name\": \"e\", \"text\": [], \"x\": [], \"y\": [], \"type\": \"scatter\"}, {\"mode\": \"lines\", \"name\": \"x\", \"text\": [], \"x\": [], \"y\": [], \"type\": \"scatter\"}, {\"mode\": \"lines\", \"name\": \"i\", \"text\": [], \"x\": [], \"y\": [], \"type\": \"scatter\"}, {\"mode\": \"lines\", \"name\": \"c\", \"text\": [], \"x\": [], \"y\": [], \"type\": \"scatter\"}, {\"mode\": \"lines\", \"name\": \"o\", \"text\": [], \"x\": [], \"y\": [], \"type\": \"scatter\"}, {\"mode\": \"lines\", \"name\": \"_\", \"text\": [], \"x\": [], \"y\": [], \"type\": \"scatter\"}, {\"mode\": \"lines\", \"name\": \"S\", \"text\": [], \"x\": [], \"y\": [], \"type\": \"scatter\"}, {\"mode\": \"lines\", \"name\": \"S\", \"text\": [], \"x\": [], \"y\": [], \"type\": \"scatter\"}], \"name\": \"17-02-2020\"}, {\"data\": [{\"mode\": \"lines\", \"name\": \"M\", \"text\": [], \"x\": [], \"y\": [], \"type\": \"scatter\"}, {\"mode\": \"lines\", \"name\": \"e\", \"text\": [], \"x\": [], \"y\": [], \"type\": \"scatter\"}, {\"mode\": \"lines\", \"name\": \"x\", \"text\": [], \"x\": [], \"y\": [], \"type\": \"scatter\"}, {\"mode\": \"lines\", \"name\": \"i\", \"text\": [], \"x\": [], \"y\": [], \"type\": \"scatter\"}, {\"mode\": \"lines\", \"name\": \"c\", \"text\": [], \"x\": [], \"y\": [], \"type\": \"scatter\"}, {\"mode\": \"lines\", \"name\": \"o\", \"text\": [], \"x\": [], \"y\": [], \"type\": \"scatter\"}, {\"mode\": \"lines\", \"name\": \"_\", \"text\": [], \"x\": [], \"y\": [], \"type\": \"scatter\"}, {\"mode\": \"lines\", \"name\": \"S\", \"text\": [], \"x\": [], \"y\": [], \"type\": \"scatter\"}, {\"mode\": \"lines\", \"name\": \"S\", \"text\": [], \"x\": [], \"y\": [], \"type\": \"scatter\"}], \"name\": \"18-02-2020\"}, {\"data\": [{\"mode\": \"lines\", \"name\": \"M\", \"text\": [], \"x\": [], \"y\": [], \"type\": \"scatter\"}, {\"mode\": \"lines\", \"name\": \"e\", \"text\": [], \"x\": [], \"y\": [], \"type\": \"scatter\"}, {\"mode\": \"lines\", \"name\": \"x\", \"text\": [], \"x\": [], \"y\": [], \"type\": \"scatter\"}, {\"mode\": \"lines\", \"name\": \"i\", \"text\": [], \"x\": [], \"y\": [], \"type\": \"scatter\"}, {\"mode\": \"lines\", \"name\": \"c\", \"text\": [], \"x\": [], \"y\": [], \"type\": \"scatter\"}, {\"mode\": \"lines\", \"name\": \"o\", \"text\": [], \"x\": [], \"y\": [], \"type\": \"scatter\"}, {\"mode\": \"lines\", \"name\": \"_\", \"text\": [], \"x\": [], \"y\": [], \"type\": \"scatter\"}, {\"mode\": \"lines\", \"name\": \"S\", \"text\": [], \"x\": [], \"y\": [], \"type\": \"scatter\"}, {\"mode\": \"lines\", \"name\": \"S\", \"text\": [], \"x\": [], \"y\": [], \"type\": \"scatter\"}], \"name\": \"19-02-2020\"}, {\"data\": [{\"mode\": \"lines\", \"name\": \"M\", \"text\": [], \"x\": [], \"y\": [], \"type\": \"scatter\"}, {\"mode\": \"lines\", \"name\": \"e\", \"text\": [], \"x\": [], \"y\": [], \"type\": \"scatter\"}, {\"mode\": \"lines\", \"name\": \"x\", \"text\": [], \"x\": [], \"y\": [], \"type\": \"scatter\"}, {\"mode\": \"lines\", \"name\": \"i\", \"text\": [], \"x\": [], \"y\": [], \"type\": \"scatter\"}, {\"mode\": \"lines\", \"name\": \"c\", \"text\": [], \"x\": [], \"y\": [], \"type\": \"scatter\"}, {\"mode\": \"lines\", \"name\": \"o\", \"text\": [], \"x\": [], \"y\": [], \"type\": \"scatter\"}, {\"mode\": \"lines\", \"name\": \"_\", \"text\": [], \"x\": [], \"y\": [], \"type\": \"scatter\"}, {\"mode\": \"lines\", \"name\": \"S\", \"text\": [], \"x\": [], \"y\": [], \"type\": \"scatter\"}, {\"mode\": \"lines\", \"name\": \"S\", \"text\": [], \"x\": [], \"y\": [], \"type\": \"scatter\"}], \"name\": \"20-02-2020\"}, {\"data\": [{\"mode\": \"lines\", \"name\": \"M\", \"text\": [], \"x\": [], \"y\": [], \"type\": \"scatter\"}, {\"mode\": \"lines\", \"name\": \"e\", \"text\": [], \"x\": [], \"y\": [], \"type\": \"scatter\"}, {\"mode\": \"lines\", \"name\": \"x\", \"text\": [], \"x\": [], \"y\": [], \"type\": \"scatter\"}, {\"mode\": \"lines\", \"name\": \"i\", \"text\": [], \"x\": [], \"y\": [], \"type\": \"scatter\"}, {\"mode\": \"lines\", \"name\": \"c\", \"text\": [], \"x\": [], \"y\": [], \"type\": \"scatter\"}, {\"mode\": \"lines\", \"name\": \"o\", \"text\": [], \"x\": [], \"y\": [], \"type\": \"scatter\"}, {\"mode\": \"lines\", \"name\": \"_\", \"text\": [], \"x\": [], \"y\": [], \"type\": \"scatter\"}, {\"mode\": \"lines\", \"name\": \"S\", \"text\": [], \"x\": [], \"y\": [], \"type\": \"scatter\"}, {\"mode\": \"lines\", \"name\": \"S\", \"text\": [], \"x\": [], \"y\": [], \"type\": \"scatter\"}], \"name\": \"21-02-2020\"}, {\"data\": [{\"mode\": \"lines\", \"name\": \"M\", \"text\": [], \"x\": [], \"y\": [], \"type\": \"scatter\"}, {\"mode\": \"lines\", \"name\": \"e\", \"text\": [], \"x\": [], \"y\": [], \"type\": \"scatter\"}, {\"mode\": \"lines\", \"name\": \"x\", \"text\": [], \"x\": [], \"y\": [], \"type\": \"scatter\"}, {\"mode\": \"lines\", \"name\": \"i\", \"text\": [], \"x\": [], \"y\": [], \"type\": \"scatter\"}, {\"mode\": \"lines\", \"name\": \"c\", \"text\": [], \"x\": [], \"y\": [], \"type\": \"scatter\"}, {\"mode\": \"lines\", \"name\": \"o\", \"text\": [], \"x\": [], \"y\": [], \"type\": \"scatter\"}, {\"mode\": \"lines\", \"name\": \"_\", \"text\": [], \"x\": [], \"y\": [], \"type\": \"scatter\"}, {\"mode\": \"lines\", \"name\": \"S\", \"text\": [], \"x\": [], \"y\": [], \"type\": \"scatter\"}, {\"mode\": \"lines\", \"name\": \"S\", \"text\": [], \"x\": [], \"y\": [], \"type\": \"scatter\"}], \"name\": \"22-02-2020\"}, {\"data\": [{\"mode\": \"lines\", \"name\": \"M\", \"text\": [], \"x\": [], \"y\": [], \"type\": \"scatter\"}, {\"mode\": \"lines\", \"name\": \"e\", \"text\": [], \"x\": [], \"y\": [], \"type\": \"scatter\"}, {\"mode\": \"lines\", \"name\": \"x\", \"text\": [], \"x\": [], \"y\": [], \"type\": \"scatter\"}, {\"mode\": \"lines\", \"name\": \"i\", \"text\": [], \"x\": [], \"y\": [], \"type\": \"scatter\"}, {\"mode\": \"lines\", \"name\": \"c\", \"text\": [], \"x\": [], \"y\": [], \"type\": \"scatter\"}, {\"mode\": \"lines\", \"name\": \"o\", \"text\": [], \"x\": [], \"y\": [], \"type\": \"scatter\"}, {\"mode\": \"lines\", \"name\": \"_\", \"text\": [], \"x\": [], \"y\": [], \"type\": \"scatter\"}, {\"mode\": \"lines\", \"name\": \"S\", \"text\": [], \"x\": [], \"y\": [], \"type\": \"scatter\"}, {\"mode\": \"lines\", \"name\": \"S\", \"text\": [], \"x\": [], \"y\": [], \"type\": \"scatter\"}], \"name\": \"23-02-2020\"}, {\"data\": [{\"mode\": \"lines\", \"name\": \"M\", \"text\": [], \"x\": [], \"y\": [], \"type\": \"scatter\"}, {\"mode\": \"lines\", \"name\": \"e\", \"text\": [], \"x\": [], \"y\": [], \"type\": \"scatter\"}, {\"mode\": \"lines\", \"name\": \"x\", \"text\": [], \"x\": [], \"y\": [], \"type\": \"scatter\"}, {\"mode\": \"lines\", \"name\": \"i\", \"text\": [], \"x\": [], \"y\": [], \"type\": \"scatter\"}, {\"mode\": \"lines\", \"name\": \"c\", \"text\": [], \"x\": [], \"y\": [], \"type\": \"scatter\"}, {\"mode\": \"lines\", \"name\": \"o\", \"text\": [], \"x\": [], \"y\": [], \"type\": \"scatter\"}, {\"mode\": \"lines\", \"name\": \"_\", \"text\": [], \"x\": [], \"y\": [], \"type\": \"scatter\"}, {\"mode\": \"lines\", \"name\": \"S\", \"text\": [], \"x\": [], \"y\": [], \"type\": \"scatter\"}, {\"mode\": \"lines\", \"name\": \"S\", \"text\": [], \"x\": [], \"y\": [], \"type\": \"scatter\"}], \"name\": \"24-02-2020\"}, {\"data\": [{\"mode\": \"lines\", \"name\": \"M\", \"text\": [], \"x\": [], \"y\": [], \"type\": \"scatter\"}, {\"mode\": \"lines\", \"name\": \"e\", \"text\": [], \"x\": [], \"y\": [], \"type\": \"scatter\"}, {\"mode\": \"lines\", \"name\": \"x\", \"text\": [], \"x\": [], \"y\": [], \"type\": \"scatter\"}, {\"mode\": \"lines\", \"name\": \"i\", \"text\": [], \"x\": [], \"y\": [], \"type\": \"scatter\"}, {\"mode\": \"lines\", \"name\": \"c\", \"text\": [], \"x\": [], \"y\": [], \"type\": \"scatter\"}, {\"mode\": \"lines\", \"name\": \"o\", \"text\": [], \"x\": [], \"y\": [], \"type\": \"scatter\"}, {\"mode\": \"lines\", \"name\": \"_\", \"text\": [], \"x\": [], \"y\": [], \"type\": \"scatter\"}, {\"mode\": \"lines\", \"name\": \"S\", \"text\": [], \"x\": [], \"y\": [], \"type\": \"scatter\"}, {\"mode\": \"lines\", \"name\": \"S\", \"text\": [], \"x\": [], \"y\": [], \"type\": \"scatter\"}], \"name\": \"25-02-2020\"}, {\"data\": [{\"mode\": \"lines\", \"name\": \"M\", \"text\": [], \"x\": [], \"y\": [], \"type\": \"scatter\"}, {\"mode\": \"lines\", \"name\": \"e\", \"text\": [], \"x\": [], \"y\": [], \"type\": \"scatter\"}, {\"mode\": \"lines\", \"name\": \"x\", \"text\": [], \"x\": [], \"y\": [], \"type\": \"scatter\"}, {\"mode\": \"lines\", \"name\": \"i\", \"text\": [], \"x\": [], \"y\": [], \"type\": \"scatter\"}, {\"mode\": \"lines\", \"name\": \"c\", \"text\": [], \"x\": [], \"y\": [], \"type\": \"scatter\"}, {\"mode\": \"lines\", \"name\": \"o\", \"text\": [], \"x\": [], \"y\": [], \"type\": \"scatter\"}, {\"mode\": \"lines\", \"name\": \"_\", \"text\": [], \"x\": [], \"y\": [], \"type\": \"scatter\"}, {\"mode\": \"lines\", \"name\": \"S\", \"text\": [], \"x\": [], \"y\": [], \"type\": \"scatter\"}, {\"mode\": \"lines\", \"name\": \"S\", \"text\": [], \"x\": [], \"y\": [], \"type\": \"scatter\"}], \"name\": \"26-02-2020\"}, {\"data\": [{\"mode\": \"lines\", \"name\": \"M\", \"text\": [], \"x\": [], \"y\": [], \"type\": \"scatter\"}, {\"mode\": \"lines\", \"name\": \"e\", \"text\": [], \"x\": [], \"y\": [], \"type\": \"scatter\"}, {\"mode\": \"lines\", \"name\": \"x\", \"text\": [], \"x\": [], \"y\": [], \"type\": \"scatter\"}, {\"mode\": \"lines\", \"name\": \"i\", \"text\": [], \"x\": [], \"y\": [], \"type\": \"scatter\"}, {\"mode\": \"lines\", \"name\": \"c\", \"text\": [], \"x\": [], \"y\": [], \"type\": \"scatter\"}, {\"mode\": \"lines\", \"name\": \"o\", \"text\": [], \"x\": [], \"y\": [], \"type\": \"scatter\"}, {\"mode\": \"lines\", \"name\": \"_\", \"text\": [], \"x\": [], \"y\": [], \"type\": \"scatter\"}, {\"mode\": \"lines\", \"name\": \"S\", \"text\": [], \"x\": [], \"y\": [], \"type\": \"scatter\"}, {\"mode\": \"lines\", \"name\": \"S\", \"text\": [], \"x\": [], \"y\": [], \"type\": \"scatter\"}], \"name\": \"27-02-2020\"}, {\"data\": [{\"mode\": \"lines\", \"name\": \"M\", \"text\": [], \"x\": [], \"y\": [], \"type\": \"scatter\"}, {\"mode\": \"lines\", \"name\": \"e\", \"text\": [], \"x\": [], \"y\": [], \"type\": \"scatter\"}, {\"mode\": \"lines\", \"name\": \"x\", \"text\": [], \"x\": [], \"y\": [], \"type\": \"scatter\"}, {\"mode\": \"lines\", \"name\": \"i\", \"text\": [], \"x\": [], \"y\": [], \"type\": \"scatter\"}, {\"mode\": \"lines\", \"name\": \"c\", \"text\": [], \"x\": [], \"y\": [], \"type\": \"scatter\"}, {\"mode\": \"lines\", \"name\": \"o\", \"text\": [], \"x\": [], \"y\": [], \"type\": \"scatter\"}, {\"mode\": \"lines\", \"name\": \"_\", \"text\": [], \"x\": [], \"y\": [], \"type\": \"scatter\"}, {\"mode\": \"lines\", \"name\": \"S\", \"text\": [], \"x\": [], \"y\": [], \"type\": \"scatter\"}, {\"mode\": \"lines\", \"name\": \"S\", \"text\": [], \"x\": [], \"y\": [], \"type\": \"scatter\"}], \"name\": \"28-02-2020\"}, {\"data\": [{\"mode\": \"lines\", \"name\": \"M\", \"text\": [], \"x\": [], \"y\": [], \"type\": \"scatter\"}, {\"mode\": \"lines\", \"name\": \"e\", \"text\": [], \"x\": [], \"y\": [], \"type\": \"scatter\"}, {\"mode\": \"lines\", \"name\": \"x\", \"text\": [], \"x\": [], \"y\": [], \"type\": \"scatter\"}, {\"mode\": \"lines\", \"name\": \"i\", \"text\": [], \"x\": [], \"y\": [], \"type\": \"scatter\"}, {\"mode\": \"lines\", \"name\": \"c\", \"text\": [], \"x\": [], \"y\": [], \"type\": \"scatter\"}, {\"mode\": \"lines\", \"name\": \"o\", \"text\": [], \"x\": [], \"y\": [], \"type\": \"scatter\"}, {\"mode\": \"lines\", \"name\": \"_\", \"text\": [], \"x\": [], \"y\": [], \"type\": \"scatter\"}, {\"mode\": \"lines\", \"name\": \"S\", \"text\": [], \"x\": [], \"y\": [], \"type\": \"scatter\"}, {\"mode\": \"lines\", \"name\": \"S\", \"text\": [], \"x\": [], \"y\": [], \"type\": \"scatter\"}], \"name\": \"29-02-2020\"}, {\"data\": [{\"mode\": \"lines\", \"name\": \"M\", \"text\": [], \"x\": [], \"y\": [], \"type\": \"scatter\"}, {\"mode\": \"lines\", \"name\": \"e\", \"text\": [], \"x\": [], \"y\": [], \"type\": \"scatter\"}, {\"mode\": \"lines\", \"name\": \"x\", \"text\": [], \"x\": [], \"y\": [], \"type\": \"scatter\"}, {\"mode\": \"lines\", \"name\": \"i\", \"text\": [], \"x\": [], \"y\": [], \"type\": \"scatter\"}, {\"mode\": \"lines\", \"name\": \"c\", \"text\": [], \"x\": [], \"y\": [], \"type\": \"scatter\"}, {\"mode\": \"lines\", \"name\": \"o\", \"text\": [], \"x\": [], \"y\": [], \"type\": \"scatter\"}, {\"mode\": \"lines\", \"name\": \"_\", \"text\": [], \"x\": [], \"y\": [], \"type\": \"scatter\"}, {\"mode\": \"lines\", \"name\": \"S\", \"text\": [], \"x\": [], \"y\": [], \"type\": \"scatter\"}, {\"mode\": \"lines\", \"name\": \"S\", \"text\": [], \"x\": [], \"y\": [], \"type\": \"scatter\"}], \"name\": \"01-03-2020\"}, {\"data\": [{\"mode\": \"lines\", \"name\": \"M\", \"text\": [], \"x\": [], \"y\": [], \"type\": \"scatter\"}, {\"mode\": \"lines\", \"name\": \"e\", \"text\": [], \"x\": [], \"y\": [], \"type\": \"scatter\"}, {\"mode\": \"lines\", \"name\": \"x\", \"text\": [], \"x\": [], \"y\": [], \"type\": \"scatter\"}, {\"mode\": \"lines\", \"name\": \"i\", \"text\": [], \"x\": [], \"y\": [], \"type\": \"scatter\"}, {\"mode\": \"lines\", \"name\": \"c\", \"text\": [], \"x\": [], \"y\": [], \"type\": \"scatter\"}, {\"mode\": \"lines\", \"name\": \"o\", \"text\": [], \"x\": [], \"y\": [], \"type\": \"scatter\"}, {\"mode\": \"lines\", \"name\": \"_\", \"text\": [], \"x\": [], \"y\": [], \"type\": \"scatter\"}, {\"mode\": \"lines\", \"name\": \"S\", \"text\": [], \"x\": [], \"y\": [], \"type\": \"scatter\"}, {\"mode\": \"lines\", \"name\": \"S\", \"text\": [], \"x\": [], \"y\": [], \"type\": \"scatter\"}], \"name\": \"02-03-2020\"}, {\"data\": [{\"mode\": \"lines\", \"name\": \"M\", \"text\": [], \"x\": [], \"y\": [], \"type\": \"scatter\"}, {\"mode\": \"lines\", \"name\": \"e\", \"text\": [], \"x\": [], \"y\": [], \"type\": \"scatter\"}, {\"mode\": \"lines\", \"name\": \"x\", \"text\": [], \"x\": [], \"y\": [], \"type\": \"scatter\"}, {\"mode\": \"lines\", \"name\": \"i\", \"text\": [], \"x\": [], \"y\": [], \"type\": \"scatter\"}, {\"mode\": \"lines\", \"name\": \"c\", \"text\": [], \"x\": [], \"y\": [], \"type\": \"scatter\"}, {\"mode\": \"lines\", \"name\": \"o\", \"text\": [], \"x\": [], \"y\": [], \"type\": \"scatter\"}, {\"mode\": \"lines\", \"name\": \"_\", \"text\": [], \"x\": [], \"y\": [], \"type\": \"scatter\"}, {\"mode\": \"lines\", \"name\": \"S\", \"text\": [], \"x\": [], \"y\": [], \"type\": \"scatter\"}, {\"mode\": \"lines\", \"name\": \"S\", \"text\": [], \"x\": [], \"y\": [], \"type\": \"scatter\"}], \"name\": \"03-03-2020\"}, {\"data\": [{\"mode\": \"lines\", \"name\": \"M\", \"text\": [], \"x\": [], \"y\": [], \"type\": \"scatter\"}, {\"mode\": \"lines\", \"name\": \"e\", \"text\": [], \"x\": [], \"y\": [], \"type\": \"scatter\"}, {\"mode\": \"lines\", \"name\": \"x\", \"text\": [], \"x\": [], \"y\": [], \"type\": \"scatter\"}, {\"mode\": \"lines\", \"name\": \"i\", \"text\": [], \"x\": [], \"y\": [], \"type\": \"scatter\"}, {\"mode\": \"lines\", \"name\": \"c\", \"text\": [], \"x\": [], \"y\": [], \"type\": \"scatter\"}, {\"mode\": \"lines\", \"name\": \"o\", \"text\": [], \"x\": [], \"y\": [], \"type\": \"scatter\"}, {\"mode\": \"lines\", \"name\": \"_\", \"text\": [], \"x\": [], \"y\": [], \"type\": \"scatter\"}, {\"mode\": \"lines\", \"name\": \"S\", \"text\": [], \"x\": [], \"y\": [], \"type\": \"scatter\"}, {\"mode\": \"lines\", \"name\": \"S\", \"text\": [], \"x\": [], \"y\": [], \"type\": \"scatter\"}], \"name\": \"04-03-2020\"}, {\"data\": [{\"mode\": \"lines\", \"name\": \"M\", \"text\": [], \"x\": [], \"y\": [], \"type\": \"scatter\"}, {\"mode\": \"lines\", \"name\": \"e\", \"text\": [], \"x\": [], \"y\": [], \"type\": \"scatter\"}, {\"mode\": \"lines\", \"name\": \"x\", \"text\": [], \"x\": [], \"y\": [], \"type\": \"scatter\"}, {\"mode\": \"lines\", \"name\": \"i\", \"text\": [], \"x\": [], \"y\": [], \"type\": \"scatter\"}, {\"mode\": \"lines\", \"name\": \"c\", \"text\": [], \"x\": [], \"y\": [], \"type\": \"scatter\"}, {\"mode\": \"lines\", \"name\": \"o\", \"text\": [], \"x\": [], \"y\": [], \"type\": \"scatter\"}, {\"mode\": \"lines\", \"name\": \"_\", \"text\": [], \"x\": [], \"y\": [], \"type\": \"scatter\"}, {\"mode\": \"lines\", \"name\": \"S\", \"text\": [], \"x\": [], \"y\": [], \"type\": \"scatter\"}, {\"mode\": \"lines\", \"name\": \"S\", \"text\": [], \"x\": [], \"y\": [], \"type\": \"scatter\"}], \"name\": \"05-03-2020\"}, {\"data\": [{\"mode\": \"lines\", \"name\": \"M\", \"text\": [], \"x\": [], \"y\": [], \"type\": \"scatter\"}, {\"mode\": \"lines\", \"name\": \"e\", \"text\": [], \"x\": [], \"y\": [], \"type\": \"scatter\"}, {\"mode\": \"lines\", \"name\": \"x\", \"text\": [], \"x\": [], \"y\": [], \"type\": \"scatter\"}, {\"mode\": \"lines\", \"name\": \"i\", \"text\": [], \"x\": [], \"y\": [], \"type\": \"scatter\"}, {\"mode\": \"lines\", \"name\": \"c\", \"text\": [], \"x\": [], \"y\": [], \"type\": \"scatter\"}, {\"mode\": \"lines\", \"name\": \"o\", \"text\": [], \"x\": [], \"y\": [], \"type\": \"scatter\"}, {\"mode\": \"lines\", \"name\": \"_\", \"text\": [], \"x\": [], \"y\": [], \"type\": \"scatter\"}, {\"mode\": \"lines\", \"name\": \"S\", \"text\": [], \"x\": [], \"y\": [], \"type\": \"scatter\"}, {\"mode\": \"lines\", \"name\": \"S\", \"text\": [], \"x\": [], \"y\": [], \"type\": \"scatter\"}], \"name\": \"06-03-2020\"}, {\"data\": [{\"mode\": \"lines\", \"name\": \"M\", \"text\": [], \"x\": [], \"y\": [], \"type\": \"scatter\"}, {\"mode\": \"lines\", \"name\": \"e\", \"text\": [], \"x\": [], \"y\": [], \"type\": \"scatter\"}, {\"mode\": \"lines\", \"name\": \"x\", \"text\": [], \"x\": [], \"y\": [], \"type\": \"scatter\"}, {\"mode\": \"lines\", \"name\": \"i\", \"text\": [], \"x\": [], \"y\": [], \"type\": \"scatter\"}, {\"mode\": \"lines\", \"name\": \"c\", \"text\": [], \"x\": [], \"y\": [], \"type\": \"scatter\"}, {\"mode\": \"lines\", \"name\": \"o\", \"text\": [], \"x\": [], \"y\": [], \"type\": \"scatter\"}, {\"mode\": \"lines\", \"name\": \"_\", \"text\": [], \"x\": [], \"y\": [], \"type\": \"scatter\"}, {\"mode\": \"lines\", \"name\": \"S\", \"text\": [], \"x\": [], \"y\": [], \"type\": \"scatter\"}, {\"mode\": \"lines\", \"name\": \"S\", \"text\": [], \"x\": [], \"y\": [], \"type\": \"scatter\"}], \"name\": \"07-03-2020\"}, {\"data\": [{\"mode\": \"lines\", \"name\": \"M\", \"text\": [], \"x\": [], \"y\": [], \"type\": \"scatter\"}, {\"mode\": \"lines\", \"name\": \"e\", \"text\": [], \"x\": [], \"y\": [], \"type\": \"scatter\"}, {\"mode\": \"lines\", \"name\": \"x\", \"text\": [], \"x\": [], \"y\": [], \"type\": \"scatter\"}, {\"mode\": \"lines\", \"name\": \"i\", \"text\": [], \"x\": [], \"y\": [], \"type\": \"scatter\"}, {\"mode\": \"lines\", \"name\": \"c\", \"text\": [], \"x\": [], \"y\": [], \"type\": \"scatter\"}, {\"mode\": \"lines\", \"name\": \"o\", \"text\": [], \"x\": [], \"y\": [], \"type\": \"scatter\"}, {\"mode\": \"lines\", \"name\": \"_\", \"text\": [], \"x\": [], \"y\": [], \"type\": \"scatter\"}, {\"mode\": \"lines\", \"name\": \"S\", \"text\": [], \"x\": [], \"y\": [], \"type\": \"scatter\"}, {\"mode\": \"lines\", \"name\": \"S\", \"text\": [], \"x\": [], \"y\": [], \"type\": \"scatter\"}], \"name\": \"08-03-2020\"}, {\"data\": [{\"mode\": \"lines\", \"name\": \"M\", \"text\": [], \"x\": [], \"y\": [], \"type\": \"scatter\"}, {\"mode\": \"lines\", \"name\": \"e\", \"text\": [], \"x\": [], \"y\": [], \"type\": \"scatter\"}, {\"mode\": \"lines\", \"name\": \"x\", \"text\": [], \"x\": [], \"y\": [], \"type\": \"scatter\"}, {\"mode\": \"lines\", \"name\": \"i\", \"text\": [], \"x\": [], \"y\": [], \"type\": \"scatter\"}, {\"mode\": \"lines\", \"name\": \"c\", \"text\": [], \"x\": [], \"y\": [], \"type\": \"scatter\"}, {\"mode\": \"lines\", \"name\": \"o\", \"text\": [], \"x\": [], \"y\": [], \"type\": \"scatter\"}, {\"mode\": \"lines\", \"name\": \"_\", \"text\": [], \"x\": [], \"y\": [], \"type\": \"scatter\"}, {\"mode\": \"lines\", \"name\": \"S\", \"text\": [], \"x\": [], \"y\": [], \"type\": \"scatter\"}, {\"mode\": \"lines\", \"name\": \"S\", \"text\": [], \"x\": [], \"y\": [], \"type\": \"scatter\"}], \"name\": \"09-03-2020\"}, {\"data\": [{\"mode\": \"lines\", \"name\": \"M\", \"text\": [], \"x\": [], \"y\": [], \"type\": \"scatter\"}, {\"mode\": \"lines\", \"name\": \"e\", \"text\": [], \"x\": [], \"y\": [], \"type\": \"scatter\"}, {\"mode\": \"lines\", \"name\": \"x\", \"text\": [], \"x\": [], \"y\": [], \"type\": \"scatter\"}, {\"mode\": \"lines\", \"name\": \"i\", \"text\": [], \"x\": [], \"y\": [], \"type\": \"scatter\"}, {\"mode\": \"lines\", \"name\": \"c\", \"text\": [], \"x\": [], \"y\": [], \"type\": \"scatter\"}, {\"mode\": \"lines\", \"name\": \"o\", \"text\": [], \"x\": [], \"y\": [], \"type\": \"scatter\"}, {\"mode\": \"lines\", \"name\": \"_\", \"text\": [], \"x\": [], \"y\": [], \"type\": \"scatter\"}, {\"mode\": \"lines\", \"name\": \"S\", \"text\": [], \"x\": [], \"y\": [], \"type\": \"scatter\"}, {\"mode\": \"lines\", \"name\": \"S\", \"text\": [], \"x\": [], \"y\": [], \"type\": \"scatter\"}], \"name\": \"10-03-2020\"}, {\"data\": [{\"mode\": \"lines\", \"name\": \"M\", \"text\": [], \"x\": [], \"y\": [], \"type\": \"scatter\"}, {\"mode\": \"lines\", \"name\": \"e\", \"text\": [], \"x\": [], \"y\": [], \"type\": \"scatter\"}, {\"mode\": \"lines\", \"name\": \"x\", \"text\": [], \"x\": [], \"y\": [], \"type\": \"scatter\"}, {\"mode\": \"lines\", \"name\": \"i\", \"text\": [], \"x\": [], \"y\": [], \"type\": \"scatter\"}, {\"mode\": \"lines\", \"name\": \"c\", \"text\": [], \"x\": [], \"y\": [], \"type\": \"scatter\"}, {\"mode\": \"lines\", \"name\": \"o\", \"text\": [], \"x\": [], \"y\": [], \"type\": \"scatter\"}, {\"mode\": \"lines\", \"name\": \"_\", \"text\": [], \"x\": [], \"y\": [], \"type\": \"scatter\"}, {\"mode\": \"lines\", \"name\": \"S\", \"text\": [], \"x\": [], \"y\": [], \"type\": \"scatter\"}, {\"mode\": \"lines\", \"name\": \"S\", \"text\": [], \"x\": [], \"y\": [], \"type\": \"scatter\"}], \"name\": \"11-03-2020\"}, {\"data\": [{\"mode\": \"lines\", \"name\": \"M\", \"text\": [], \"x\": [], \"y\": [], \"type\": \"scatter\"}, {\"mode\": \"lines\", \"name\": \"e\", \"text\": [], \"x\": [], \"y\": [], \"type\": \"scatter\"}, {\"mode\": \"lines\", \"name\": \"x\", \"text\": [], \"x\": [], \"y\": [], \"type\": \"scatter\"}, {\"mode\": \"lines\", \"name\": \"i\", \"text\": [], \"x\": [], \"y\": [], \"type\": \"scatter\"}, {\"mode\": \"lines\", \"name\": \"c\", \"text\": [], \"x\": [], \"y\": [], \"type\": \"scatter\"}, {\"mode\": \"lines\", \"name\": \"o\", \"text\": [], \"x\": [], \"y\": [], \"type\": \"scatter\"}, {\"mode\": \"lines\", \"name\": \"_\", \"text\": [], \"x\": [], \"y\": [], \"type\": \"scatter\"}, {\"mode\": \"lines\", \"name\": \"S\", \"text\": [], \"x\": [], \"y\": [], \"type\": \"scatter\"}, {\"mode\": \"lines\", \"name\": \"S\", \"text\": [], \"x\": [], \"y\": [], \"type\": \"scatter\"}], \"name\": \"12-03-2020\"}, {\"data\": [{\"mode\": \"lines\", \"name\": \"M\", \"text\": [], \"x\": [], \"y\": [], \"type\": \"scatter\"}, {\"mode\": \"lines\", \"name\": \"e\", \"text\": [], \"x\": [], \"y\": [], \"type\": \"scatter\"}, {\"mode\": \"lines\", \"name\": \"x\", \"text\": [], \"x\": [], \"y\": [], \"type\": \"scatter\"}, {\"mode\": \"lines\", \"name\": \"i\", \"text\": [], \"x\": [], \"y\": [], \"type\": \"scatter\"}, {\"mode\": \"lines\", \"name\": \"c\", \"text\": [], \"x\": [], \"y\": [], \"type\": \"scatter\"}, {\"mode\": \"lines\", \"name\": \"o\", \"text\": [], \"x\": [], \"y\": [], \"type\": \"scatter\"}, {\"mode\": \"lines\", \"name\": \"_\", \"text\": [], \"x\": [], \"y\": [], \"type\": \"scatter\"}, {\"mode\": \"lines\", \"name\": \"S\", \"text\": [], \"x\": [], \"y\": [], \"type\": \"scatter\"}, {\"mode\": \"lines\", \"name\": \"S\", \"text\": [], \"x\": [], \"y\": [], \"type\": \"scatter\"}], \"name\": \"13-03-2020\"}, {\"data\": [{\"mode\": \"lines\", \"name\": \"M\", \"text\": [], \"x\": [], \"y\": [], \"type\": \"scatter\"}, {\"mode\": \"lines\", \"name\": \"e\", \"text\": [], \"x\": [], \"y\": [], \"type\": \"scatter\"}, {\"mode\": \"lines\", \"name\": \"x\", \"text\": [], \"x\": [], \"y\": [], \"type\": \"scatter\"}, {\"mode\": \"lines\", \"name\": \"i\", \"text\": [], \"x\": [], \"y\": [], \"type\": \"scatter\"}, {\"mode\": \"lines\", \"name\": \"c\", \"text\": [], \"x\": [], \"y\": [], \"type\": \"scatter\"}, {\"mode\": \"lines\", \"name\": \"o\", \"text\": [], \"x\": [], \"y\": [], \"type\": \"scatter\"}, {\"mode\": \"lines\", \"name\": \"_\", \"text\": [], \"x\": [], \"y\": [], \"type\": \"scatter\"}, {\"mode\": \"lines\", \"name\": \"S\", \"text\": [], \"x\": [], \"y\": [], \"type\": \"scatter\"}, {\"mode\": \"lines\", \"name\": \"S\", \"text\": [], \"x\": [], \"y\": [], \"type\": \"scatter\"}], \"name\": \"14-03-2020\"}, {\"data\": [{\"mode\": \"lines\", \"name\": \"M\", \"text\": [], \"x\": [], \"y\": [], \"type\": \"scatter\"}, {\"mode\": \"lines\", \"name\": \"e\", \"text\": [], \"x\": [], \"y\": [], \"type\": \"scatter\"}, {\"mode\": \"lines\", \"name\": \"x\", \"text\": [], \"x\": [], \"y\": [], \"type\": \"scatter\"}, {\"mode\": \"lines\", \"name\": \"i\", \"text\": [], \"x\": [], \"y\": [], \"type\": \"scatter\"}, {\"mode\": \"lines\", \"name\": \"c\", \"text\": [], \"x\": [], \"y\": [], \"type\": \"scatter\"}, {\"mode\": \"lines\", \"name\": \"o\", \"text\": [], \"x\": [], \"y\": [], \"type\": \"scatter\"}, {\"mode\": \"lines\", \"name\": \"_\", \"text\": [], \"x\": [], \"y\": [], \"type\": \"scatter\"}, {\"mode\": \"lines\", \"name\": \"S\", \"text\": [], \"x\": [], \"y\": [], \"type\": \"scatter\"}, {\"mode\": \"lines\", \"name\": \"S\", \"text\": [], \"x\": [], \"y\": [], \"type\": \"scatter\"}], \"name\": \"15-03-2020\"}, {\"data\": [{\"mode\": \"lines\", \"name\": \"M\", \"text\": [], \"x\": [], \"y\": [], \"type\": \"scatter\"}, {\"mode\": \"lines\", \"name\": \"e\", \"text\": [], \"x\": [], \"y\": [], \"type\": \"scatter\"}, {\"mode\": \"lines\", \"name\": \"x\", \"text\": [], \"x\": [], \"y\": [], \"type\": \"scatter\"}, {\"mode\": \"lines\", \"name\": \"i\", \"text\": [], \"x\": [], \"y\": [], \"type\": \"scatter\"}, {\"mode\": \"lines\", \"name\": \"c\", \"text\": [], \"x\": [], \"y\": [], \"type\": \"scatter\"}, {\"mode\": \"lines\", \"name\": \"o\", \"text\": [], \"x\": [], \"y\": [], \"type\": \"scatter\"}, {\"mode\": \"lines\", \"name\": \"_\", \"text\": [], \"x\": [], \"y\": [], \"type\": \"scatter\"}, {\"mode\": \"lines\", \"name\": \"S\", \"text\": [], \"x\": [], \"y\": [], \"type\": \"scatter\"}, {\"mode\": \"lines\", \"name\": \"S\", \"text\": [], \"x\": [], \"y\": [], \"type\": \"scatter\"}], \"name\": \"16-03-2020\"}, {\"data\": [{\"mode\": \"lines\", \"name\": \"M\", \"text\": [], \"x\": [], \"y\": [], \"type\": \"scatter\"}, {\"mode\": \"lines\", \"name\": \"e\", \"text\": [], \"x\": [], \"y\": [], \"type\": \"scatter\"}, {\"mode\": \"lines\", \"name\": \"x\", \"text\": [], \"x\": [], \"y\": [], \"type\": \"scatter\"}, {\"mode\": \"lines\", \"name\": \"i\", \"text\": [], \"x\": [], \"y\": [], \"type\": \"scatter\"}, {\"mode\": \"lines\", \"name\": \"c\", \"text\": [], \"x\": [], \"y\": [], \"type\": \"scatter\"}, {\"mode\": \"lines\", \"name\": \"o\", \"text\": [], \"x\": [], \"y\": [], \"type\": \"scatter\"}, {\"mode\": \"lines\", \"name\": \"_\", \"text\": [], \"x\": [], \"y\": [], \"type\": \"scatter\"}, {\"mode\": \"lines\", \"name\": \"S\", \"text\": [], \"x\": [], \"y\": [], \"type\": \"scatter\"}, {\"mode\": \"lines\", \"name\": \"S\", \"text\": [], \"x\": [], \"y\": [], \"type\": \"scatter\"}], \"name\": \"17-03-2020\"}, {\"data\": [{\"mode\": \"lines\", \"name\": \"M\", \"text\": [], \"x\": [], \"y\": [], \"type\": \"scatter\"}, {\"mode\": \"lines\", \"name\": \"e\", \"text\": [], \"x\": [], \"y\": [], \"type\": \"scatter\"}, {\"mode\": \"lines\", \"name\": \"x\", \"text\": [], \"x\": [], \"y\": [], \"type\": \"scatter\"}, {\"mode\": \"lines\", \"name\": \"i\", \"text\": [], \"x\": [], \"y\": [], \"type\": \"scatter\"}, {\"mode\": \"lines\", \"name\": \"c\", \"text\": [], \"x\": [], \"y\": [], \"type\": \"scatter\"}, {\"mode\": \"lines\", \"name\": \"o\", \"text\": [], \"x\": [], \"y\": [], \"type\": \"scatter\"}, {\"mode\": \"lines\", \"name\": \"_\", \"text\": [], \"x\": [], \"y\": [], \"type\": \"scatter\"}, {\"mode\": \"lines\", \"name\": \"S\", \"text\": [], \"x\": [], \"y\": [], \"type\": \"scatter\"}, {\"mode\": \"lines\", \"name\": \"S\", \"text\": [], \"x\": [], \"y\": [], \"type\": \"scatter\"}], \"name\": \"18-03-2020\"}, {\"data\": [{\"mode\": \"lines\", \"name\": \"M\", \"text\": [], \"x\": [], \"y\": [], \"type\": \"scatter\"}, {\"mode\": \"lines\", \"name\": \"e\", \"text\": [], \"x\": [], \"y\": [], \"type\": \"scatter\"}, {\"mode\": \"lines\", \"name\": \"x\", \"text\": [], \"x\": [], \"y\": [], \"type\": \"scatter\"}, {\"mode\": \"lines\", \"name\": \"i\", \"text\": [], \"x\": [], \"y\": [], \"type\": \"scatter\"}, {\"mode\": \"lines\", \"name\": \"c\", \"text\": [], \"x\": [], \"y\": [], \"type\": \"scatter\"}, {\"mode\": \"lines\", \"name\": \"o\", \"text\": [], \"x\": [], \"y\": [], \"type\": \"scatter\"}, {\"mode\": \"lines\", \"name\": \"_\", \"text\": [], \"x\": [], \"y\": [], \"type\": \"scatter\"}, {\"mode\": \"lines\", \"name\": \"S\", \"text\": [], \"x\": [], \"y\": [], \"type\": \"scatter\"}, {\"mode\": \"lines\", \"name\": \"S\", \"text\": [], \"x\": [], \"y\": [], \"type\": \"scatter\"}], \"name\": \"19-03-2020\"}, {\"data\": [{\"mode\": \"lines\", \"name\": \"M\", \"text\": [], \"x\": [], \"y\": [], \"type\": \"scatter\"}, {\"mode\": \"lines\", \"name\": \"e\", \"text\": [], \"x\": [], \"y\": [], \"type\": \"scatter\"}, {\"mode\": \"lines\", \"name\": \"x\", \"text\": [], \"x\": [], \"y\": [], \"type\": \"scatter\"}, {\"mode\": \"lines\", \"name\": \"i\", \"text\": [], \"x\": [], \"y\": [], \"type\": \"scatter\"}, {\"mode\": \"lines\", \"name\": \"c\", \"text\": [], \"x\": [], \"y\": [], \"type\": \"scatter\"}, {\"mode\": \"lines\", \"name\": \"o\", \"text\": [], \"x\": [], \"y\": [], \"type\": \"scatter\"}, {\"mode\": \"lines\", \"name\": \"_\", \"text\": [], \"x\": [], \"y\": [], \"type\": \"scatter\"}, {\"mode\": \"lines\", \"name\": \"S\", \"text\": [], \"x\": [], \"y\": [], \"type\": \"scatter\"}, {\"mode\": \"lines\", \"name\": \"S\", \"text\": [], \"x\": [], \"y\": [], \"type\": \"scatter\"}], \"name\": \"20-03-2020\"}, {\"data\": [{\"mode\": \"lines\", \"name\": \"M\", \"text\": [], \"x\": [], \"y\": [], \"type\": \"scatter\"}, {\"mode\": \"lines\", \"name\": \"e\", \"text\": [], \"x\": [], \"y\": [], \"type\": \"scatter\"}, {\"mode\": \"lines\", \"name\": \"x\", \"text\": [], \"x\": [], \"y\": [], \"type\": \"scatter\"}, {\"mode\": \"lines\", \"name\": \"i\", \"text\": [], \"x\": [], \"y\": [], \"type\": \"scatter\"}, {\"mode\": \"lines\", \"name\": \"c\", \"text\": [], \"x\": [], \"y\": [], \"type\": \"scatter\"}, {\"mode\": \"lines\", \"name\": \"o\", \"text\": [], \"x\": [], \"y\": [], \"type\": \"scatter\"}, {\"mode\": \"lines\", \"name\": \"_\", \"text\": [], \"x\": [], \"y\": [], \"type\": \"scatter\"}, {\"mode\": \"lines\", \"name\": \"S\", \"text\": [], \"x\": [], \"y\": [], \"type\": \"scatter\"}, {\"mode\": \"lines\", \"name\": \"S\", \"text\": [], \"x\": [], \"y\": [], \"type\": \"scatter\"}], \"name\": \"21-03-2020\"}, {\"data\": [{\"mode\": \"lines\", \"name\": \"M\", \"text\": [], \"x\": [], \"y\": [], \"type\": \"scatter\"}, {\"mode\": \"lines\", \"name\": \"e\", \"text\": [], \"x\": [], \"y\": [], \"type\": \"scatter\"}, {\"mode\": \"lines\", \"name\": \"x\", \"text\": [], \"x\": [], \"y\": [], \"type\": \"scatter\"}, {\"mode\": \"lines\", \"name\": \"i\", \"text\": [], \"x\": [], \"y\": [], \"type\": \"scatter\"}, {\"mode\": \"lines\", \"name\": \"c\", \"text\": [], \"x\": [], \"y\": [], \"type\": \"scatter\"}, {\"mode\": \"lines\", \"name\": \"o\", \"text\": [], \"x\": [], \"y\": [], \"type\": \"scatter\"}, {\"mode\": \"lines\", \"name\": \"_\", \"text\": [], \"x\": [], \"y\": [], \"type\": \"scatter\"}, {\"mode\": \"lines\", \"name\": \"S\", \"text\": [], \"x\": [], \"y\": [], \"type\": \"scatter\"}, {\"mode\": \"lines\", \"name\": \"S\", \"text\": [], \"x\": [], \"y\": [], \"type\": \"scatter\"}], \"name\": \"22-03-2020\"}, {\"data\": [{\"mode\": \"lines\", \"name\": \"M\", \"text\": [], \"x\": [], \"y\": [], \"type\": \"scatter\"}, {\"mode\": \"lines\", \"name\": \"e\", \"text\": [], \"x\": [], \"y\": [], \"type\": \"scatter\"}, {\"mode\": \"lines\", \"name\": \"x\", \"text\": [], \"x\": [], \"y\": [], \"type\": \"scatter\"}, {\"mode\": \"lines\", \"name\": \"i\", \"text\": [], \"x\": [], \"y\": [], \"type\": \"scatter\"}, {\"mode\": \"lines\", \"name\": \"c\", \"text\": [], \"x\": [], \"y\": [], \"type\": \"scatter\"}, {\"mode\": \"lines\", \"name\": \"o\", \"text\": [], \"x\": [], \"y\": [], \"type\": \"scatter\"}, {\"mode\": \"lines\", \"name\": \"_\", \"text\": [], \"x\": [], \"y\": [], \"type\": \"scatter\"}, {\"mode\": \"lines\", \"name\": \"S\", \"text\": [], \"x\": [], \"y\": [], \"type\": \"scatter\"}, {\"mode\": \"lines\", \"name\": \"S\", \"text\": [], \"x\": [], \"y\": [], \"type\": \"scatter\"}], \"name\": \"23-03-2020\"}, {\"data\": [{\"mode\": \"lines\", \"name\": \"M\", \"text\": [], \"x\": [], \"y\": [], \"type\": \"scatter\"}, {\"mode\": \"lines\", \"name\": \"e\", \"text\": [], \"x\": [], \"y\": [], \"type\": \"scatter\"}, {\"mode\": \"lines\", \"name\": \"x\", \"text\": [], \"x\": [], \"y\": [], \"type\": \"scatter\"}, {\"mode\": \"lines\", \"name\": \"i\", \"text\": [], \"x\": [], \"y\": [], \"type\": \"scatter\"}, {\"mode\": \"lines\", \"name\": \"c\", \"text\": [], \"x\": [], \"y\": [], \"type\": \"scatter\"}, {\"mode\": \"lines\", \"name\": \"o\", \"text\": [], \"x\": [], \"y\": [], \"type\": \"scatter\"}, {\"mode\": \"lines\", \"name\": \"_\", \"text\": [], \"x\": [], \"y\": [], \"type\": \"scatter\"}, {\"mode\": \"lines\", \"name\": \"S\", \"text\": [], \"x\": [], \"y\": [], \"type\": \"scatter\"}, {\"mode\": \"lines\", \"name\": \"S\", \"text\": [], \"x\": [], \"y\": [], \"type\": \"scatter\"}], \"name\": \"24-03-2020\"}, {\"data\": [{\"mode\": \"lines\", \"name\": \"M\", \"text\": [], \"x\": [], \"y\": [], \"type\": \"scatter\"}, {\"mode\": \"lines\", \"name\": \"e\", \"text\": [], \"x\": [], \"y\": [], \"type\": \"scatter\"}, {\"mode\": \"lines\", \"name\": \"x\", \"text\": [], \"x\": [], \"y\": [], \"type\": \"scatter\"}, {\"mode\": \"lines\", \"name\": \"i\", \"text\": [], \"x\": [], \"y\": [], \"type\": \"scatter\"}, {\"mode\": \"lines\", \"name\": \"c\", \"text\": [], \"x\": [], \"y\": [], \"type\": \"scatter\"}, {\"mode\": \"lines\", \"name\": \"o\", \"text\": [], \"x\": [], \"y\": [], \"type\": \"scatter\"}, {\"mode\": \"lines\", \"name\": \"_\", \"text\": [], \"x\": [], \"y\": [], \"type\": \"scatter\"}, {\"mode\": \"lines\", \"name\": \"S\", \"text\": [], \"x\": [], \"y\": [], \"type\": \"scatter\"}, {\"mode\": \"lines\", \"name\": \"S\", \"text\": [], \"x\": [], \"y\": [], \"type\": \"scatter\"}], \"name\": \"25-03-2020\"}, {\"data\": [{\"mode\": \"lines\", \"name\": \"M\", \"text\": [], \"x\": [], \"y\": [], \"type\": \"scatter\"}, {\"mode\": \"lines\", \"name\": \"e\", \"text\": [], \"x\": [], \"y\": [], \"type\": \"scatter\"}, {\"mode\": \"lines\", \"name\": \"x\", \"text\": [], \"x\": [], \"y\": [], \"type\": \"scatter\"}, {\"mode\": \"lines\", \"name\": \"i\", \"text\": [], \"x\": [], \"y\": [], \"type\": \"scatter\"}, {\"mode\": \"lines\", \"name\": \"c\", \"text\": [], \"x\": [], \"y\": [], \"type\": \"scatter\"}, {\"mode\": \"lines\", \"name\": \"o\", \"text\": [], \"x\": [], \"y\": [], \"type\": \"scatter\"}, {\"mode\": \"lines\", \"name\": \"_\", \"text\": [], \"x\": [], \"y\": [], \"type\": \"scatter\"}, {\"mode\": \"lines\", \"name\": \"S\", \"text\": [], \"x\": [], \"y\": [], \"type\": \"scatter\"}, {\"mode\": \"lines\", \"name\": \"S\", \"text\": [], \"x\": [], \"y\": [], \"type\": \"scatter\"}], \"name\": \"26-03-2020\"}, {\"data\": [{\"mode\": \"lines\", \"name\": \"M\", \"text\": [], \"x\": [], \"y\": [], \"type\": \"scatter\"}, {\"mode\": \"lines\", \"name\": \"e\", \"text\": [], \"x\": [], \"y\": [], \"type\": \"scatter\"}, {\"mode\": \"lines\", \"name\": \"x\", \"text\": [], \"x\": [], \"y\": [], \"type\": \"scatter\"}, {\"mode\": \"lines\", \"name\": \"i\", \"text\": [], \"x\": [], \"y\": [], \"type\": \"scatter\"}, {\"mode\": \"lines\", \"name\": \"c\", \"text\": [], \"x\": [], \"y\": [], \"type\": \"scatter\"}, {\"mode\": \"lines\", \"name\": \"o\", \"text\": [], \"x\": [], \"y\": [], \"type\": \"scatter\"}, {\"mode\": \"lines\", \"name\": \"_\", \"text\": [], \"x\": [], \"y\": [], \"type\": \"scatter\"}, {\"mode\": \"lines\", \"name\": \"S\", \"text\": [], \"x\": [], \"y\": [], \"type\": \"scatter\"}, {\"mode\": \"lines\", \"name\": \"S\", \"text\": [], \"x\": [], \"y\": [], \"type\": \"scatter\"}], \"name\": \"27-03-2020\"}, {\"data\": [{\"mode\": \"lines\", \"name\": \"M\", \"text\": [], \"x\": [], \"y\": [], \"type\": \"scatter\"}, {\"mode\": \"lines\", \"name\": \"e\", \"text\": [], \"x\": [], \"y\": [], \"type\": \"scatter\"}, {\"mode\": \"lines\", \"name\": \"x\", \"text\": [], \"x\": [], \"y\": [], \"type\": \"scatter\"}, {\"mode\": \"lines\", \"name\": \"i\", \"text\": [], \"x\": [], \"y\": [], \"type\": \"scatter\"}, {\"mode\": \"lines\", \"name\": \"c\", \"text\": [], \"x\": [], \"y\": [], \"type\": \"scatter\"}, {\"mode\": \"lines\", \"name\": \"o\", \"text\": [], \"x\": [], \"y\": [], \"type\": \"scatter\"}, {\"mode\": \"lines\", \"name\": \"_\", \"text\": [], \"x\": [], \"y\": [], \"type\": \"scatter\"}, {\"mode\": \"lines\", \"name\": \"S\", \"text\": [], \"x\": [], \"y\": [], \"type\": \"scatter\"}, {\"mode\": \"lines\", \"name\": \"S\", \"text\": [], \"x\": [], \"y\": [], \"type\": \"scatter\"}], \"name\": \"28-03-2020\"}, {\"data\": [{\"mode\": \"lines\", \"name\": \"M\", \"text\": [], \"x\": [], \"y\": [], \"type\": \"scatter\"}, {\"mode\": \"lines\", \"name\": \"e\", \"text\": [], \"x\": [], \"y\": [], \"type\": \"scatter\"}, {\"mode\": \"lines\", \"name\": \"x\", \"text\": [], \"x\": [], \"y\": [], \"type\": \"scatter\"}, {\"mode\": \"lines\", \"name\": \"i\", \"text\": [], \"x\": [], \"y\": [], \"type\": \"scatter\"}, {\"mode\": \"lines\", \"name\": \"c\", \"text\": [], \"x\": [], \"y\": [], \"type\": \"scatter\"}, {\"mode\": \"lines\", \"name\": \"o\", \"text\": [], \"x\": [], \"y\": [], \"type\": \"scatter\"}, {\"mode\": \"lines\", \"name\": \"_\", \"text\": [], \"x\": [], \"y\": [], \"type\": \"scatter\"}, {\"mode\": \"lines\", \"name\": \"S\", \"text\": [], \"x\": [], \"y\": [], \"type\": \"scatter\"}, {\"mode\": \"lines\", \"name\": \"S\", \"text\": [], \"x\": [], \"y\": [], \"type\": \"scatter\"}], \"name\": \"29-03-2020\"}, {\"data\": [{\"mode\": \"lines\", \"name\": \"M\", \"text\": [], \"x\": [], \"y\": [], \"type\": \"scatter\"}, {\"mode\": \"lines\", \"name\": \"e\", \"text\": [], \"x\": [], \"y\": [], \"type\": \"scatter\"}, {\"mode\": \"lines\", \"name\": \"x\", \"text\": [], \"x\": [], \"y\": [], \"type\": \"scatter\"}, {\"mode\": \"lines\", \"name\": \"i\", \"text\": [], \"x\": [], \"y\": [], \"type\": \"scatter\"}, {\"mode\": \"lines\", \"name\": \"c\", \"text\": [], \"x\": [], \"y\": [], \"type\": \"scatter\"}, {\"mode\": \"lines\", \"name\": \"o\", \"text\": [], \"x\": [], \"y\": [], \"type\": \"scatter\"}, {\"mode\": \"lines\", \"name\": \"_\", \"text\": [], \"x\": [], \"y\": [], \"type\": \"scatter\"}, {\"mode\": \"lines\", \"name\": \"S\", \"text\": [], \"x\": [], \"y\": [], \"type\": \"scatter\"}, {\"mode\": \"lines\", \"name\": \"S\", \"text\": [], \"x\": [], \"y\": [], \"type\": \"scatter\"}], \"name\": \"30-03-2020\"}, {\"data\": [{\"mode\": \"lines\", \"name\": \"M\", \"text\": [], \"x\": [], \"y\": [], \"type\": \"scatter\"}, {\"mode\": \"lines\", \"name\": \"e\", \"text\": [], \"x\": [], \"y\": [], \"type\": \"scatter\"}, {\"mode\": \"lines\", \"name\": \"x\", \"text\": [], \"x\": [], \"y\": [], \"type\": \"scatter\"}, {\"mode\": \"lines\", \"name\": \"i\", \"text\": [], \"x\": [], \"y\": [], \"type\": \"scatter\"}, {\"mode\": \"lines\", \"name\": \"c\", \"text\": [], \"x\": [], \"y\": [], \"type\": \"scatter\"}, {\"mode\": \"lines\", \"name\": \"o\", \"text\": [], \"x\": [], \"y\": [], \"type\": \"scatter\"}, {\"mode\": \"lines\", \"name\": \"_\", \"text\": [], \"x\": [], \"y\": [], \"type\": \"scatter\"}, {\"mode\": \"lines\", \"name\": \"S\", \"text\": [], \"x\": [], \"y\": [], \"type\": \"scatter\"}, {\"mode\": \"lines\", \"name\": \"S\", \"text\": [], \"x\": [], \"y\": [], \"type\": \"scatter\"}], \"name\": \"31-03-2020\"}, {\"data\": [{\"mode\": \"lines\", \"name\": \"M\", \"text\": [], \"x\": [], \"y\": [], \"type\": \"scatter\"}, {\"mode\": \"lines\", \"name\": \"e\", \"text\": [], \"x\": [], \"y\": [], \"type\": \"scatter\"}, {\"mode\": \"lines\", \"name\": \"x\", \"text\": [], \"x\": [], \"y\": [], \"type\": \"scatter\"}, {\"mode\": \"lines\", \"name\": \"i\", \"text\": [], \"x\": [], \"y\": [], \"type\": \"scatter\"}, {\"mode\": \"lines\", \"name\": \"c\", \"text\": [], \"x\": [], \"y\": [], \"type\": \"scatter\"}, {\"mode\": \"lines\", \"name\": \"o\", \"text\": [], \"x\": [], \"y\": [], \"type\": \"scatter\"}, {\"mode\": \"lines\", \"name\": \"_\", \"text\": [], \"x\": [], \"y\": [], \"type\": \"scatter\"}, {\"mode\": \"lines\", \"name\": \"S\", \"text\": [], \"x\": [], \"y\": [], \"type\": \"scatter\"}, {\"mode\": \"lines\", \"name\": \"S\", \"text\": [], \"x\": [], \"y\": [], \"type\": \"scatter\"}], \"name\": \"01-04-2020\"}, {\"data\": [{\"mode\": \"lines\", \"name\": \"M\", \"text\": [], \"x\": [], \"y\": [], \"type\": \"scatter\"}, {\"mode\": \"lines\", \"name\": \"e\", \"text\": [], \"x\": [], \"y\": [], \"type\": \"scatter\"}, {\"mode\": \"lines\", \"name\": \"x\", \"text\": [], \"x\": [], \"y\": [], \"type\": \"scatter\"}, {\"mode\": \"lines\", \"name\": \"i\", \"text\": [], \"x\": [], \"y\": [], \"type\": \"scatter\"}, {\"mode\": \"lines\", \"name\": \"c\", \"text\": [], \"x\": [], \"y\": [], \"type\": \"scatter\"}, {\"mode\": \"lines\", \"name\": \"o\", \"text\": [], \"x\": [], \"y\": [], \"type\": \"scatter\"}, {\"mode\": \"lines\", \"name\": \"_\", \"text\": [], \"x\": [], \"y\": [], \"type\": \"scatter\"}, {\"mode\": \"lines\", \"name\": \"S\", \"text\": [], \"x\": [], \"y\": [], \"type\": \"scatter\"}, {\"mode\": \"lines\", \"name\": \"S\", \"text\": [], \"x\": [], \"y\": [], \"type\": \"scatter\"}], \"name\": \"02-04-2020\"}, {\"data\": [{\"mode\": \"lines\", \"name\": \"M\", \"text\": [], \"x\": [], \"y\": [], \"type\": \"scatter\"}, {\"mode\": \"lines\", \"name\": \"e\", \"text\": [], \"x\": [], \"y\": [], \"type\": \"scatter\"}, {\"mode\": \"lines\", \"name\": \"x\", \"text\": [], \"x\": [], \"y\": [], \"type\": \"scatter\"}, {\"mode\": \"lines\", \"name\": \"i\", \"text\": [], \"x\": [], \"y\": [], \"type\": \"scatter\"}, {\"mode\": \"lines\", \"name\": \"c\", \"text\": [], \"x\": [], \"y\": [], \"type\": \"scatter\"}, {\"mode\": \"lines\", \"name\": \"o\", \"text\": [], \"x\": [], \"y\": [], \"type\": \"scatter\"}, {\"mode\": \"lines\", \"name\": \"_\", \"text\": [], \"x\": [], \"y\": [], \"type\": \"scatter\"}, {\"mode\": \"lines\", \"name\": \"S\", \"text\": [], \"x\": [], \"y\": [], \"type\": \"scatter\"}, {\"mode\": \"lines\", \"name\": \"S\", \"text\": [], \"x\": [], \"y\": [], \"type\": \"scatter\"}], \"name\": \"03-04-2020\"}, {\"data\": [{\"mode\": \"lines\", \"name\": \"M\", \"text\": [], \"x\": [], \"y\": [], \"type\": \"scatter\"}, {\"mode\": \"lines\", \"name\": \"e\", \"text\": [], \"x\": [], \"y\": [], \"type\": \"scatter\"}, {\"mode\": \"lines\", \"name\": \"x\", \"text\": [], \"x\": [], \"y\": [], \"type\": \"scatter\"}, {\"mode\": \"lines\", \"name\": \"i\", \"text\": [], \"x\": [], \"y\": [], \"type\": \"scatter\"}, {\"mode\": \"lines\", \"name\": \"c\", \"text\": [], \"x\": [], \"y\": [], \"type\": \"scatter\"}, {\"mode\": \"lines\", \"name\": \"o\", \"text\": [], \"x\": [], \"y\": [], \"type\": \"scatter\"}, {\"mode\": \"lines\", \"name\": \"_\", \"text\": [], \"x\": [], \"y\": [], \"type\": \"scatter\"}, {\"mode\": \"lines\", \"name\": \"S\", \"text\": [], \"x\": [], \"y\": [], \"type\": \"scatter\"}, {\"mode\": \"lines\", \"name\": \"S\", \"text\": [], \"x\": [], \"y\": [], \"type\": \"scatter\"}], \"name\": \"04-04-2020\"}, {\"data\": [{\"mode\": \"lines\", \"name\": \"M\", \"text\": [], \"x\": [], \"y\": [], \"type\": \"scatter\"}, {\"mode\": \"lines\", \"name\": \"e\", \"text\": [], \"x\": [], \"y\": [], \"type\": \"scatter\"}, {\"mode\": \"lines\", \"name\": \"x\", \"text\": [], \"x\": [], \"y\": [], \"type\": \"scatter\"}, {\"mode\": \"lines\", \"name\": \"i\", \"text\": [], \"x\": [], \"y\": [], \"type\": \"scatter\"}, {\"mode\": \"lines\", \"name\": \"c\", \"text\": [], \"x\": [], \"y\": [], \"type\": \"scatter\"}, {\"mode\": \"lines\", \"name\": \"o\", \"text\": [], \"x\": [], \"y\": [], \"type\": \"scatter\"}, {\"mode\": \"lines\", \"name\": \"_\", \"text\": [], \"x\": [], \"y\": [], \"type\": \"scatter\"}, {\"mode\": \"lines\", \"name\": \"S\", \"text\": [], \"x\": [], \"y\": [], \"type\": \"scatter\"}, {\"mode\": \"lines\", \"name\": \"S\", \"text\": [], \"x\": [], \"y\": [], \"type\": \"scatter\"}], \"name\": \"05-04-2020\"}, {\"data\": [{\"mode\": \"lines\", \"name\": \"M\", \"text\": [], \"x\": [], \"y\": [], \"type\": \"scatter\"}, {\"mode\": \"lines\", \"name\": \"e\", \"text\": [], \"x\": [], \"y\": [], \"type\": \"scatter\"}, {\"mode\": \"lines\", \"name\": \"x\", \"text\": [], \"x\": [], \"y\": [], \"type\": \"scatter\"}, {\"mode\": \"lines\", \"name\": \"i\", \"text\": [], \"x\": [], \"y\": [], \"type\": \"scatter\"}, {\"mode\": \"lines\", \"name\": \"c\", \"text\": [], \"x\": [], \"y\": [], \"type\": \"scatter\"}, {\"mode\": \"lines\", \"name\": \"o\", \"text\": [], \"x\": [], \"y\": [], \"type\": \"scatter\"}, {\"mode\": \"lines\", \"name\": \"_\", \"text\": [], \"x\": [], \"y\": [], \"type\": \"scatter\"}, {\"mode\": \"lines\", \"name\": \"S\", \"text\": [], \"x\": [], \"y\": [], \"type\": \"scatter\"}, {\"mode\": \"lines\", \"name\": \"S\", \"text\": [], \"x\": [], \"y\": [], \"type\": \"scatter\"}], \"name\": \"06-04-2020\"}, {\"data\": [{\"mode\": \"lines\", \"name\": \"M\", \"text\": [], \"x\": [], \"y\": [], \"type\": \"scatter\"}, {\"mode\": \"lines\", \"name\": \"e\", \"text\": [], \"x\": [], \"y\": [], \"type\": \"scatter\"}, {\"mode\": \"lines\", \"name\": \"x\", \"text\": [], \"x\": [], \"y\": [], \"type\": \"scatter\"}, {\"mode\": \"lines\", \"name\": \"i\", \"text\": [], \"x\": [], \"y\": [], \"type\": \"scatter\"}, {\"mode\": \"lines\", \"name\": \"c\", \"text\": [], \"x\": [], \"y\": [], \"type\": \"scatter\"}, {\"mode\": \"lines\", \"name\": \"o\", \"text\": [], \"x\": [], \"y\": [], \"type\": \"scatter\"}, {\"mode\": \"lines\", \"name\": \"_\", \"text\": [], \"x\": [], \"y\": [], \"type\": \"scatter\"}, {\"mode\": \"lines\", \"name\": \"S\", \"text\": [], \"x\": [], \"y\": [], \"type\": \"scatter\"}, {\"mode\": \"lines\", \"name\": \"S\", \"text\": [], \"x\": [], \"y\": [], \"type\": \"scatter\"}], \"name\": \"07-04-2020\"}, {\"data\": [{\"mode\": \"lines\", \"name\": \"M\", \"text\": [], \"x\": [], \"y\": [], \"type\": \"scatter\"}, {\"mode\": \"lines\", \"name\": \"e\", \"text\": [], \"x\": [], \"y\": [], \"type\": \"scatter\"}, {\"mode\": \"lines\", \"name\": \"x\", \"text\": [], \"x\": [], \"y\": [], \"type\": \"scatter\"}, {\"mode\": \"lines\", \"name\": \"i\", \"text\": [], \"x\": [], \"y\": [], \"type\": \"scatter\"}, {\"mode\": \"lines\", \"name\": \"c\", \"text\": [], \"x\": [], \"y\": [], \"type\": \"scatter\"}, {\"mode\": \"lines\", \"name\": \"o\", \"text\": [], \"x\": [], \"y\": [], \"type\": \"scatter\"}, {\"mode\": \"lines\", \"name\": \"_\", \"text\": [], \"x\": [], \"y\": [], \"type\": \"scatter\"}, {\"mode\": \"lines\", \"name\": \"S\", \"text\": [], \"x\": [], \"y\": [], \"type\": \"scatter\"}, {\"mode\": \"lines\", \"name\": \"S\", \"text\": [], \"x\": [], \"y\": [], \"type\": \"scatter\"}], \"name\": \"08-04-2020\"}, {\"data\": [{\"mode\": \"lines\", \"name\": \"M\", \"text\": [], \"x\": [], \"y\": [], \"type\": \"scatter\"}, {\"mode\": \"lines\", \"name\": \"e\", \"text\": [], \"x\": [], \"y\": [], \"type\": \"scatter\"}, {\"mode\": \"lines\", \"name\": \"x\", \"text\": [], \"x\": [], \"y\": [], \"type\": \"scatter\"}, {\"mode\": \"lines\", \"name\": \"i\", \"text\": [], \"x\": [], \"y\": [], \"type\": \"scatter\"}, {\"mode\": \"lines\", \"name\": \"c\", \"text\": [], \"x\": [], \"y\": [], \"type\": \"scatter\"}, {\"mode\": \"lines\", \"name\": \"o\", \"text\": [], \"x\": [], \"y\": [], \"type\": \"scatter\"}, {\"mode\": \"lines\", \"name\": \"_\", \"text\": [], \"x\": [], \"y\": [], \"type\": \"scatter\"}, {\"mode\": \"lines\", \"name\": \"S\", \"text\": [], \"x\": [], \"y\": [], \"type\": \"scatter\"}, {\"mode\": \"lines\", \"name\": \"S\", \"text\": [], \"x\": [], \"y\": [], \"type\": \"scatter\"}], \"name\": \"09-04-2020\"}, {\"data\": [{\"mode\": \"lines\", \"name\": \"M\", \"text\": [], \"x\": [], \"y\": [], \"type\": \"scatter\"}, {\"mode\": \"lines\", \"name\": \"e\", \"text\": [], \"x\": [], \"y\": [], \"type\": \"scatter\"}, {\"mode\": \"lines\", \"name\": \"x\", \"text\": [], \"x\": [], \"y\": [], \"type\": \"scatter\"}, {\"mode\": \"lines\", \"name\": \"i\", \"text\": [], \"x\": [], \"y\": [], \"type\": \"scatter\"}, {\"mode\": \"lines\", \"name\": \"c\", \"text\": [], \"x\": [], \"y\": [], \"type\": \"scatter\"}, {\"mode\": \"lines\", \"name\": \"o\", \"text\": [], \"x\": [], \"y\": [], \"type\": \"scatter\"}, {\"mode\": \"lines\", \"name\": \"_\", \"text\": [], \"x\": [], \"y\": [], \"type\": \"scatter\"}, {\"mode\": \"lines\", \"name\": \"S\", \"text\": [], \"x\": [], \"y\": [], \"type\": \"scatter\"}, {\"mode\": \"lines\", \"name\": \"S\", \"text\": [], \"x\": [], \"y\": [], \"type\": \"scatter\"}], \"name\": \"10-04-2020\"}, {\"data\": [{\"mode\": \"lines\", \"name\": \"M\", \"text\": [], \"x\": [], \"y\": [], \"type\": \"scatter\"}, {\"mode\": \"lines\", \"name\": \"e\", \"text\": [], \"x\": [], \"y\": [], \"type\": \"scatter\"}, {\"mode\": \"lines\", \"name\": \"x\", \"text\": [], \"x\": [], \"y\": [], \"type\": \"scatter\"}, {\"mode\": \"lines\", \"name\": \"i\", \"text\": [], \"x\": [], \"y\": [], \"type\": \"scatter\"}, {\"mode\": \"lines\", \"name\": \"c\", \"text\": [], \"x\": [], \"y\": [], \"type\": \"scatter\"}, {\"mode\": \"lines\", \"name\": \"o\", \"text\": [], \"x\": [], \"y\": [], \"type\": \"scatter\"}, {\"mode\": \"lines\", \"name\": \"_\", \"text\": [], \"x\": [], \"y\": [], \"type\": \"scatter\"}, {\"mode\": \"lines\", \"name\": \"S\", \"text\": [], \"x\": [], \"y\": [], \"type\": \"scatter\"}, {\"mode\": \"lines\", \"name\": \"S\", \"text\": [], \"x\": [], \"y\": [], \"type\": \"scatter\"}], \"name\": \"11-04-2020\"}, {\"data\": [{\"mode\": \"lines\", \"name\": \"M\", \"text\": [], \"x\": [], \"y\": [], \"type\": \"scatter\"}, {\"mode\": \"lines\", \"name\": \"e\", \"text\": [], \"x\": [], \"y\": [], \"type\": \"scatter\"}, {\"mode\": \"lines\", \"name\": \"x\", \"text\": [], \"x\": [], \"y\": [], \"type\": \"scatter\"}, {\"mode\": \"lines\", \"name\": \"i\", \"text\": [], \"x\": [], \"y\": [], \"type\": \"scatter\"}, {\"mode\": \"lines\", \"name\": \"c\", \"text\": [], \"x\": [], \"y\": [], \"type\": \"scatter\"}, {\"mode\": \"lines\", \"name\": \"o\", \"text\": [], \"x\": [], \"y\": [], \"type\": \"scatter\"}, {\"mode\": \"lines\", \"name\": \"_\", \"text\": [], \"x\": [], \"y\": [], \"type\": \"scatter\"}, {\"mode\": \"lines\", \"name\": \"S\", \"text\": [], \"x\": [], \"y\": [], \"type\": \"scatter\"}, {\"mode\": \"lines\", \"name\": \"S\", \"text\": [], \"x\": [], \"y\": [], \"type\": \"scatter\"}], \"name\": \"12-04-2020\"}, {\"data\": [{\"mode\": \"lines\", \"name\": \"M\", \"text\": [], \"x\": [], \"y\": [], \"type\": \"scatter\"}, {\"mode\": \"lines\", \"name\": \"e\", \"text\": [], \"x\": [], \"y\": [], \"type\": \"scatter\"}, {\"mode\": \"lines\", \"name\": \"x\", \"text\": [], \"x\": [], \"y\": [], \"type\": \"scatter\"}, {\"mode\": \"lines\", \"name\": \"i\", \"text\": [], \"x\": [], \"y\": [], \"type\": \"scatter\"}, {\"mode\": \"lines\", \"name\": \"c\", \"text\": [], \"x\": [], \"y\": [], \"type\": \"scatter\"}, {\"mode\": \"lines\", \"name\": \"o\", \"text\": [], \"x\": [], \"y\": [], \"type\": \"scatter\"}, {\"mode\": \"lines\", \"name\": \"_\", \"text\": [], \"x\": [], \"y\": [], \"type\": \"scatter\"}, {\"mode\": \"lines\", \"name\": \"S\", \"text\": [], \"x\": [], \"y\": [], \"type\": \"scatter\"}, {\"mode\": \"lines\", \"name\": \"S\", \"text\": [], \"x\": [], \"y\": [], \"type\": \"scatter\"}], \"name\": \"13-04-2020\"}, {\"data\": [{\"mode\": \"lines\", \"name\": \"M\", \"text\": [], \"x\": [], \"y\": [], \"type\": \"scatter\"}, {\"mode\": \"lines\", \"name\": \"e\", \"text\": [], \"x\": [], \"y\": [], \"type\": \"scatter\"}, {\"mode\": \"lines\", \"name\": \"x\", \"text\": [], \"x\": [], \"y\": [], \"type\": \"scatter\"}, {\"mode\": \"lines\", \"name\": \"i\", \"text\": [], \"x\": [], \"y\": [], \"type\": \"scatter\"}, {\"mode\": \"lines\", \"name\": \"c\", \"text\": [], \"x\": [], \"y\": [], \"type\": \"scatter\"}, {\"mode\": \"lines\", \"name\": \"o\", \"text\": [], \"x\": [], \"y\": [], \"type\": \"scatter\"}, {\"mode\": \"lines\", \"name\": \"_\", \"text\": [], \"x\": [], \"y\": [], \"type\": \"scatter\"}, {\"mode\": \"lines\", \"name\": \"S\", \"text\": [], \"x\": [], \"y\": [], \"type\": \"scatter\"}, {\"mode\": \"lines\", \"name\": \"S\", \"text\": [], \"x\": [], \"y\": [], \"type\": \"scatter\"}], \"name\": \"14-04-2020\"}, {\"data\": [{\"mode\": \"lines\", \"name\": \"M\", \"text\": [], \"x\": [], \"y\": [], \"type\": \"scatter\"}, {\"mode\": \"lines\", \"name\": \"e\", \"text\": [], \"x\": [], \"y\": [], \"type\": \"scatter\"}, {\"mode\": \"lines\", \"name\": \"x\", \"text\": [], \"x\": [], \"y\": [], \"type\": \"scatter\"}, {\"mode\": \"lines\", \"name\": \"i\", \"text\": [], \"x\": [], \"y\": [], \"type\": \"scatter\"}, {\"mode\": \"lines\", \"name\": \"c\", \"text\": [], \"x\": [], \"y\": [], \"type\": \"scatter\"}, {\"mode\": \"lines\", \"name\": \"o\", \"text\": [], \"x\": [], \"y\": [], \"type\": \"scatter\"}, {\"mode\": \"lines\", \"name\": \"_\", \"text\": [], \"x\": [], \"y\": [], \"type\": \"scatter\"}, {\"mode\": \"lines\", \"name\": \"S\", \"text\": [], \"x\": [], \"y\": [], \"type\": \"scatter\"}, {\"mode\": \"lines\", \"name\": \"S\", \"text\": [], \"x\": [], \"y\": [], \"type\": \"scatter\"}], \"name\": \"15-04-2020\"}, {\"data\": [{\"mode\": \"lines\", \"name\": \"M\", \"text\": [], \"x\": [], \"y\": [], \"type\": \"scatter\"}, {\"mode\": \"lines\", \"name\": \"e\", \"text\": [], \"x\": [], \"y\": [], \"type\": \"scatter\"}, {\"mode\": \"lines\", \"name\": \"x\", \"text\": [], \"x\": [], \"y\": [], \"type\": \"scatter\"}, {\"mode\": \"lines\", \"name\": \"i\", \"text\": [], \"x\": [], \"y\": [], \"type\": \"scatter\"}, {\"mode\": \"lines\", \"name\": \"c\", \"text\": [], \"x\": [], \"y\": [], \"type\": \"scatter\"}, {\"mode\": \"lines\", \"name\": \"o\", \"text\": [], \"x\": [], \"y\": [], \"type\": \"scatter\"}, {\"mode\": \"lines\", \"name\": \"_\", \"text\": [], \"x\": [], \"y\": [], \"type\": \"scatter\"}, {\"mode\": \"lines\", \"name\": \"S\", \"text\": [], \"x\": [], \"y\": [], \"type\": \"scatter\"}, {\"mode\": \"lines\", \"name\": \"S\", \"text\": [], \"x\": [], \"y\": [], \"type\": \"scatter\"}], \"name\": \"16-04-2020\"}, {\"data\": [{\"mode\": \"lines\", \"name\": \"M\", \"text\": [], \"x\": [], \"y\": [], \"type\": \"scatter\"}, {\"mode\": \"lines\", \"name\": \"e\", \"text\": [], \"x\": [], \"y\": [], \"type\": \"scatter\"}, {\"mode\": \"lines\", \"name\": \"x\", \"text\": [], \"x\": [], \"y\": [], \"type\": \"scatter\"}, {\"mode\": \"lines\", \"name\": \"i\", \"text\": [], \"x\": [], \"y\": [], \"type\": \"scatter\"}, {\"mode\": \"lines\", \"name\": \"c\", \"text\": [], \"x\": [], \"y\": [], \"type\": \"scatter\"}, {\"mode\": \"lines\", \"name\": \"o\", \"text\": [], \"x\": [], \"y\": [], \"type\": \"scatter\"}, {\"mode\": \"lines\", \"name\": \"_\", \"text\": [], \"x\": [], \"y\": [], \"type\": \"scatter\"}, {\"mode\": \"lines\", \"name\": \"S\", \"text\": [], \"x\": [], \"y\": [], \"type\": \"scatter\"}, {\"mode\": \"lines\", \"name\": \"S\", \"text\": [], \"x\": [], \"y\": [], \"type\": \"scatter\"}], \"name\": \"17-04-2020\"}, {\"data\": [{\"mode\": \"lines\", \"name\": \"M\", \"text\": [], \"x\": [], \"y\": [], \"type\": \"scatter\"}, {\"mode\": \"lines\", \"name\": \"e\", \"text\": [], \"x\": [], \"y\": [], \"type\": \"scatter\"}, {\"mode\": \"lines\", \"name\": \"x\", \"text\": [], \"x\": [], \"y\": [], \"type\": \"scatter\"}, {\"mode\": \"lines\", \"name\": \"i\", \"text\": [], \"x\": [], \"y\": [], \"type\": \"scatter\"}, {\"mode\": \"lines\", \"name\": \"c\", \"text\": [], \"x\": [], \"y\": [], \"type\": \"scatter\"}, {\"mode\": \"lines\", \"name\": \"o\", \"text\": [], \"x\": [], \"y\": [], \"type\": \"scatter\"}, {\"mode\": \"lines\", \"name\": \"_\", \"text\": [], \"x\": [], \"y\": [], \"type\": \"scatter\"}, {\"mode\": \"lines\", \"name\": \"S\", \"text\": [], \"x\": [], \"y\": [], \"type\": \"scatter\"}, {\"mode\": \"lines\", \"name\": \"S\", \"text\": [], \"x\": [], \"y\": [], \"type\": \"scatter\"}], \"name\": \"18-04-2020\"}]);\n",
       "                        }).then(function(){\n",
       "                            \n",
       "var gd = document.getElementById('6f6342f0-58c6-46c3-a1ca-543efb603632');\n",
       "var x = new MutationObserver(function (mutations, observer) {{\n",
       "        var display = window.getComputedStyle(gd).display;\n",
       "        if (!display || display === 'none') {{\n",
       "            console.log([gd, 'removed!']);\n",
       "            Plotly.purge(gd);\n",
       "            observer.disconnect();\n",
       "        }}\n",
       "}});\n",
       "\n",
       "// Listen for the removal of the full notebook cells\n",
       "var notebookContainer = gd.closest('#notebook-container');\n",
       "if (notebookContainer) {{\n",
       "    x.observe(notebookContainer, {childList: true});\n",
       "}}\n",
       "\n",
       "// Listen for the clearing of the current output cell\n",
       "var outputEl = gd.closest('.output');\n",
       "if (outputEl) {{\n",
       "    x.observe(outputEl, {childList: true});\n",
       "}}\n",
       "\n",
       "                        })\n",
       "                };\n",
       "                });\n",
       "            </script>\n",
       "        </div>"
      ]
     },
     "metadata": {},
     "output_type": "display_data"
    }
   ],
   "source": [
    "# Make frames\n",
    "\n",
    "for year in years:\n",
    "    \n",
    "    frame = {'data': [], 'name': str(year)}\n",
    "    \n",
    "    for region in regions:\n",
    "        \n",
    "        dataset_by_year = dataset[dataset['Date_Confirmed'] == year]\n",
    "        dataset_by_year_and_region = dataset_by_year[\n",
    "            dataset_by_year['Region'] == region]\n",
    "        \n",
    "        data_dict = {\n",
    "                    'x': list(dataset_by_year_and_region['total']),\n",
    "                    'y': list(dataset_by_year_and_region['daily']),\n",
    "                    'mode': 'lines',\n",
    "                    'text': list(dataset_by_year_and_region['Region']),\n",
    "                    'name': region\n",
    "            }\n",
    "        frame['data'].append(data_dict)\n",
    "        \n",
    "    fig_dict['frames'].append(frame)\n",
    "    slider_step = {'args': [\n",
    "        [year],\n",
    "        {'frame': {'duration': 300, 'redraw': False},\n",
    "         'mode': 'immediate',\n",
    "         'transition': {'duration': 300}}\n",
    "    ],\n",
    "        'label': year,\n",
    "        'method': 'animate'}\n",
    "    sliders_dict['steps'].append(slider_step)\n",
    "    \n",
    "fig_dict['layout']['sliders'] = [sliders_dict]\n",
    "\n",
    "fig = go.Figure(fig_dict)\n",
    "\n",
    "fig.show()"
   ]
  },
  {
   "cell_type": "code",
   "execution_count": null,
   "metadata": {},
   "outputs": [],
   "source": []
  }
 ],
 "metadata": {
  "kernelspec": {
   "display_name": "Python 3",
   "language": "python",
   "name": "python3"
  },
  "language_info": {
   "codemirror_mode": {
    "name": "ipython",
    "version": 3
   },
   "file_extension": ".py",
   "mimetype": "text/x-python",
   "name": "python",
   "nbconvert_exporter": "python",
   "pygments_lexer": "ipython3",
   "version": "3.7.4"
  }
 },
 "nbformat": 4,
 "nbformat_minor": 4
}
