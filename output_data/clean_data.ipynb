{
 "cells": [
  {
   "cell_type": "code",
   "execution_count": 46,
   "metadata": {},
   "outputs": [],
   "source": [
    "import pandas as pd\n",
    "import numpy as np"
   ]
  },
  {
   "cell_type": "code",
   "execution_count": 47,
   "metadata": {},
   "outputs": [],
   "source": [
    "# Valid until 05 march 2020"
   ]
  },
  {
   "cell_type": "code",
   "execution_count": 48,
   "metadata": {},
   "outputs": [],
   "source": [
    "df1 = pd.read_csv('covid_mex_20200401.csv')"
   ]
  },
  {
   "cell_type": "code",
   "execution_count": 49,
   "metadata": {},
   "outputs": [],
   "source": [
    "df2 = pd.read_csv('../data/mexico_covid_19_data/csv/raw_covid_mex_20200402.csv')\n",
    "df3 = pd.read_csv('../data/mexico_covid_19_data/csv/raw_covid_mex_20200403.csv')\n",
    "df4 = pd.read_csv('../data/mexico_covid_19_data/csv/raw_covid_mex_20200404.csv')\n",
    "df5 = pd.read_csv('../data/mexico_covid_19_data/csv/raw_covid_mex_20200405.csv')"
   ]
  },
  {
   "cell_type": "code",
   "execution_count": 50,
   "metadata": {},
   "outputs": [],
   "source": [
    "my_dfs = [df1, df2, df3, df4, df5]\n",
    "\n",
    "for df in my_dfs:\n",
    "    for column in df.columns:\n",
    "        if 'Case_ID' in column:\n",
    "            df.drop(column, axis = 1, inplace=True)"
   ]
  },
  {
   "cell_type": "code",
   "execution_count": 51,
   "metadata": {},
   "outputs": [],
   "source": [
    "res2 = df1.combine_first(df2).reset_index()\n",
    "res2.index = np.arange(1, (len(res2)+1))\n",
    "res2 = res2.reset_index()\n",
    "res2 = res2.rename(columns={'level_0':'Case_ID'})\n",
    "res2 = res2.drop(['index'], axis=1)\n",
    "res2.to_csv('covid_mex_20200402.csv', index=False)"
   ]
  },
  {
   "cell_type": "code",
   "execution_count": 53,
   "metadata": {},
   "outputs": [],
   "source": [
    "res3 = df2.combine_first(df3).reset_index()\n",
    "res3.index = np.arange(1, (len(res3)+1))\n",
    "res3 = res3.reset_index()\n",
    "res3 = res3.rename(columns={'level_0':'Case_ID'})\n",
    "res3 = res3.drop(['index'], axis=1)\n",
    "res3.to_csv('covid_mex_20200403.csv', index=False)"
   ]
  },
  {
   "cell_type": "code",
   "execution_count": 25,
   "metadata": {},
   "outputs": [],
   "source": [
    "res4 = df3.combine_first(df3).reset_index()\n",
    "res4.index = np.arange(1, (len(res4)+1))\n",
    "res4 = res4.reset_index()\n",
    "res4 = res4.rename(columns={'level_0':'Case_ID'})\n",
    "res4 = res4.drop(['index'], axis=1)\n",
    "res4.to_csv('covid_mex_20200404.csv', index=False)"
   ]
  },
  {
   "cell_type": "code",
   "execution_count": 26,
   "metadata": {},
   "outputs": [],
   "source": [
    "res3 = df2.combine_first(df3).reset_index()\n",
    "res3.index = np.arange(1, (len(res3)+1))\n",
    "res3 = res3.reset_index()\n",
    "res3 = res3.rename(columns={'level_0':'Case_ID'})\n",
    "res3 = res3.drop(['index'], axis=1)\n",
    "res3.to_csv('covid_mex_20200403.csv', index=False)"
   ]
  },
  {
   "cell_type": "code",
   "execution_count": null,
   "metadata": {},
   "outputs": [],
   "source": []
  }
 ],
 "metadata": {
  "kernelspec": {
   "display_name": "Python 3",
   "language": "python",
   "name": "python3"
  },
  "language_info": {
   "codemirror_mode": {
    "name": "ipython",
    "version": 3
   },
   "file_extension": ".py",
   "mimetype": "text/x-python",
   "name": "python",
   "nbconvert_exporter": "python",
   "pygments_lexer": "ipython3",
   "version": "3.7.4"
  }
 },
 "nbformat": 4,
 "nbformat_minor": 4
}
