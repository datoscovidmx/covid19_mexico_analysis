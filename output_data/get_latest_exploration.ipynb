{
 "cells": [
  {
   "cell_type": "code",
   "execution_count": 44,
   "metadata": {},
   "outputs": [],
   "source": [
    "import os\n",
    "from datetime import datetime\n",
    "from shutil import copyfile\n",
    "import pandas as pd\n",
    "from datetime import datetime\n",
    "import numpy as np"
   ]
  },
  {
   "cell_type": "code",
   "execution_count": 45,
   "metadata": {},
   "outputs": [],
   "source": [
    "def get_date(raw_file_name):\n",
    "    return datetime.strptime(raw_file_name.split('covid19-')[1].replace('.csv', ''), '%Y-%m-%d')"
   ]
  },
  {
   "cell_type": "code",
   "execution_count": 46,
   "metadata": {},
   "outputs": [],
   "source": [
    "def convert_back_to_str_file(date):\n",
    "    return  'mexico-covid19-' + date.isoformat().split('T')[0] + '.csv'"
   ]
  },
  {
   "cell_type": "code",
   "execution_count": 70,
   "metadata": {},
   "outputs": [],
   "source": [
    "def fix_dateformat(date_string):\n",
    "    if pd.isna(date_string): return ''\n",
    "    try:\n",
    "        date = datetime.strptime(date_string, '%d-%m-%Y')\n",
    "        if (datetime.now() - date).days < 0:\n",
    "            raise\n",
    "        return date.isoformat().split('T')[0]\n",
    "    except:\n",
    "        try:\n",
    "            date = datetime.strptime(date_string, '%m-%d-%Y')\n",
    "            return date.isoformat().split('T')[0]\n",
    "        except:\n",
    "            None # print(date_string) should be just nan\n",
    "    return ''"
   ]
  },
  {
   "cell_type": "code",
   "execution_count": 73,
   "metadata": {},
   "outputs": [],
   "source": [
    "def switch_date(date_string):\n",
    "    date_str_array = date_string.split('-')\n",
    "    return date_str_array[0]+'-'+date_str_array[2]+'-'+date_str_array[1]"
   ]
  },
  {
   "cell_type": "code",
   "execution_count": 82,
   "metadata": {},
   "outputs": [],
   "source": [
    "def fix_row_details(row_o):\n",
    "    row = row_o.to_dict()\n",
    "    if row['Date_Arrival'] == '' or row['Date_Confirmed']=='' or row['Date_Symptoms'] == '': return row\n",
    "    date_arrival = datetime.strptime(row['Date_Arrival'], '%Y-%m-%d')\n",
    "    date_confirmed = datetime.strptime(row['Date_Confirmed'], '%Y-%m-%d')\n",
    "    date_symptoms = datetime.strptime(row['Date_Symptoms'], '%Y-%m-%d')\n",
    "    if date_arrival > date_confirmed and date_arrival < datetime.now():\n",
    "        row['Date_Arrival'] = switch_date(row['Date_Arrival'])\n",
    "    return row"
   ]
  },
  {
   "cell_type": "code",
   "execution_count": 85,
   "metadata": {},
   "outputs": [],
   "source": [
    "available_files = [file for file in os.listdir() if 'mexico' in file] \n",
    "max_date = max([get_date(file) for file in available_files])\n",
    "max_date_file = convert_back_to_str_file(max_date)\n",
    "df_data = pd.read_csv(max_date_file)\n",
    "for column_name in ['Date_Arrival', 'Date_Confirmed','Date_Symptoms']:\n",
    "    df_data[column_name] = df_data[column_name].apply(lambda x: fix_dateformat(x))\n",
    "df_data = pd.DataFrame([fix_row_details(row) for i, row in df_data.iterrows()])\n",
    "df_data.to_csv('latest.csv', index=None)"
   ]
  },
  {
   "cell_type": "code",
   "execution_count": 84,
   "metadata": {},
   "outputs": [],
   "source": []
  },
  {
   "cell_type": "code",
   "execution_count": null,
   "metadata": {},
   "outputs": [],
   "source": []
  }
 ],
 "metadata": {
  "kernelspec": {
   "display_name": "Python 3",
   "language": "python",
   "name": "python3"
  },
  "language_info": {
   "codemirror_mode": {
    "name": "ipython",
    "version": 3
   },
   "file_extension": ".py",
   "mimetype": "text/x-python",
   "name": "python",
   "nbconvert_exporter": "python",
   "pygments_lexer": "ipython3",
   "version": "3.7.3"
  }
 },
 "nbformat": 4,
 "nbformat_minor": 4
}
