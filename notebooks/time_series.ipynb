{
 "cells": [
  {
   "cell_type": "code",
   "execution_count": 100,
   "metadata": {},
   "outputs": [],
   "source": [
    "# https://stackoverflow.com/questions/31569549/how-to-groupby-a-dataframe-in-pandas-and-keep-columns"
   ]
  },
  {
   "cell_type": "code",
   "execution_count": 101,
   "metadata": {},
   "outputs": [],
   "source": [
    "# We need to get the following params: import_status date_onset date_confirm report_delay region"
   ]
  },
  {
   "cell_type": "code",
   "execution_count": 125,
   "metadata": {},
   "outputs": [],
   "source": [
    "import numpy as np\n",
    "import pandas as pd"
   ]
  },
  {
   "cell_type": "code",
   "execution_count": 126,
   "metadata": {},
   "outputs": [],
   "source": [
    "data = pd.read_csv('../latest_raw.csv', encoding='utf-8')"
   ]
  },
  {
   "cell_type": "code",
   "execution_count": 127,
   "metadata": {},
   "outputs": [],
   "source": [
    "data = data[[\n",
    "    'ID_REGISTRO','FECHA_INGRESO','FECHA_SINTOMAS','FECHA_DEF','ENTIDAD_RES','ENTIDAD_UM','PAIS_ORIGEN','RESULTADO'\n",
    "]]"
   ]
  },
  {
   "cell_type": "code",
   "execution_count": 128,
   "metadata": {},
   "outputs": [
    {
     "name": "stdout",
     "output_type": "stream",
     "text": [
      "False\n"
     ]
    }
   ],
   "source": [
    "print(data.set_index(['ID_REGISTRO']).index.is_unique)"
   ]
  },
  {
   "cell_type": "code",
   "execution_count": 160,
   "metadata": {},
   "outputs": [],
   "source": [
    "dat = data.copy()"
   ]
  },
  {
   "cell_type": "code",
   "execution_count": 161,
   "metadata": {},
   "outputs": [],
   "source": [
    "#dat.loc[dat['FECHA_INGRESO'].str.startswith('9999'), 'FECHA_INGRESO'] = np.nan\n",
    "#dat.loc[dat['FECHA_DEF'].str.startswith('9999'), 'FECHA_DEF'] = np.nan\n",
    "#dat.loc[dat['FECHA_SINTOMAS'].str.startswith('9999'), 'FECHA_SINTOMAS'] = np.nan"
   ]
  },
  {
   "cell_type": "code",
   "execution_count": 162,
   "metadata": {},
   "outputs": [],
   "source": [
    "dat['FECHA_INGRESO'] = pd.to_datetime(data.FECHA_INGRESO, format='%Y-%m-%d', errors='coerce')\n",
    "dat['FECHA_INGRESO'] = dat['FECHA_INGRESO'].dt.strftime('%Y-%m-%d')\n",
    "dat = dat.set_index(pd.DatetimeIndex(data['FECHA_INGRESO'])).sort_index()"
   ]
  },
  {
   "cell_type": "code",
   "execution_count": 163,
   "metadata": {},
   "outputs": [],
   "source": [
    "import janitor"
   ]
  },
  {
   "cell_type": "code",
   "execution_count": 164,
   "metadata": {},
   "outputs": [],
   "source": [
    "tbl_x = dat.filter_date('FECHA_INGRESO','2020-01-06','2020-04-20') # dates group by testing site \n",
    "tbl_x = tbl_x.drop(['ENTIDAD_RES'], axis=1) # drop by residence\n",
    "tbl_x = tbl_x.set_index(\n",
    "    ['FECHA_INGRESO', 'FECHA_SINTOMAS', 'FECHA_DEF', 'ENTIDAD_UM', 'ID_REGISTRO', 'PAIS_ORIGEN', 'RESULTADO']\n",
    ")\n",
    "tbl_x = tbl_x.groupby(\n",
    "    ['FECHA_INGRESO', 'FECHA_SINTOMAS', 'FECHA_DEF', 'ENTIDAD_UM', 'ID_REGISTRO', 'PAIS_ORIGEN', 'RESULTADO'], as_index=True).count().reset_index()\n",
    "tbl_x = tbl_x.rename(columns={'ENTIDAD_UM':'Region_ID'}) # set region"
   ]
  },
  {
   "cell_type": "code",
   "execution_count": 165,
   "metadata": {},
   "outputs": [],
   "source": [
    "tbl_y = dat.filter_date('FECHA_INGRESO','2020-04-21','2022-12-31') # dates to group by region of residence\n",
    "tbl_y = tbl_y.drop(['ENTIDAD_UM'], axis=1) # drop by region\n",
    "tbl_y = tbl_y.set_index(\n",
    "    ['FECHA_INGRESO', 'FECHA_SINTOMAS', 'FECHA_DEF', 'ENTIDAD_RES', 'ID_REGISTRO', 'PAIS_ORIGEN', 'RESULTADO']\n",
    ")\n",
    "tbl_y = tbl_y.groupby(\n",
    "    ['FECHA_INGRESO', 'FECHA_SINTOMAS', 'FECHA_DEF', 'ENTIDAD_RES', 'ID_REGISTRO', 'PAIS_ORIGEN', 'RESULTADO'], as_index=True).count().reset_index()\n",
    "tbl_y = tbl_y.rename(columns={'ENTIDAD_RES':'Region_ID'}) # set region"
   ]
  },
  {
   "cell_type": "code",
   "execution_count": 166,
   "metadata": {},
   "outputs": [],
   "source": [
    "tbl = pd.concat([tbl_x, tbl_y], sort=False)"
   ]
  },
  {
   "cell_type": "code",
   "execution_count": 178,
   "metadata": {},
   "outputs": [],
   "source": [
    "tbl = tbl.rename(\n",
    "    columns = {\n",
    "        'FECHA_INGRESO':'Date_Confirmed',\n",
    "        'FECHA_SINTOMAS':'Date_Symptoms',\n",
    "        'FECHA_DEF':'Date_Death',\n",
    "        'ID_REGISTRO':'Case_ID',\n",
    "        'RESULTADO':'Status',\n",
    "        'PAIS_ORIGEN':'Origin'\n",
    "    })"
   ]
  },
  {
   "cell_type": "code",
   "execution_count": 179,
   "metadata": {},
   "outputs": [],
   "source": [
    "geo = pd.read_csv('../data/geo/entidades.csv')"
   ]
  },
  {
   "cell_type": "code",
   "execution_count": 180,
   "metadata": {},
   "outputs": [
    {
     "data": {
      "text/plain": [
       "Index(['CLAVE_ENTIDAD', 'ENTIDAD_FEDERATIVA', 'ABREVIATURA'], dtype='object')"
      ]
     },
     "execution_count": 180,
     "metadata": {},
     "output_type": "execute_result"
    }
   ],
   "source": [
    "geo.keys()"
   ]
  },
  {
   "cell_type": "code",
   "execution_count": 181,
   "metadata": {},
   "outputs": [],
   "source": [
    "geo = geo.rename(columns={'CLAVE_ENTIDAD':'Region_ID', 'ENTIDAD_FEDERATIVA':'Region', 'ABREVIATURA':'Region_Key'})"
   ]
  },
  {
   "cell_type": "code",
   "execution_count": 182,
   "metadata": {},
   "outputs": [],
   "source": [
    "output = pd.merge(tbl, geo, on='Region_ID') "
   ]
  },
  {
   "cell_type": "code",
   "execution_count": 183,
   "metadata": {},
   "outputs": [],
   "source": [
    "output = output[['Date_Confirmed', 'Date_Symptoms', 'Date_Death', 'Region', 'Region_ID', 'Region_Key', 'Origin', 'Status']]"
   ]
  },
  {
   "cell_type": "code",
   "execution_count": 184,
   "metadata": {},
   "outputs": [],
   "source": [
    "output['Region'] = output['Region'].str.replace('Á','A')\n",
    "output['Region'] = output['Region'].str.replace('É','E')\n",
    "output['Region'] = output['Region'].str.replace('Í','I')\n",
    "output['Region'] = output['Region'].str.replace('Ó','O')\n",
    "output['Region'] = output['Region'].str.replace('Ú','U')"
   ]
  },
  {
   "cell_type": "code",
   "execution_count": 185,
   "metadata": {},
   "outputs": [],
   "source": [
    "output['Region'] = output['Region'].str.replace('COAHUILA DE ZARAGOZA','COAHUILA')\n",
    "output['Region'] = output['Region'].str.replace('MICHOACAN DE OCAMPO','MICHOACAN')\n",
    "output['Region'] = output['Region'].str.replace('VERACRUZ DE IGNACIO DE LA LLAVE','VERACRUZ')"
   ]
  },
  {
   "cell_type": "code",
   "execution_count": 186,
   "metadata": {},
   "outputs": [],
   "source": [
    "output = output.sort_values(['Date_Confirmed', 'Date_Symptoms', 'Region'])"
   ]
  },
  {
   "cell_type": "code",
   "execution_count": 187,
   "metadata": {},
   "outputs": [
    {
     "data": {
      "text/plain": [
       "array(['JALISCO', 'QUINTANA ROO', 'CIUDAD DE MEXICO', 'COAHUILA',\n",
       "       'VERACRUZ', 'BAJA CALIFORNIA', 'DURANGO', 'TABASCO', 'MEXICO',\n",
       "       'NAYARIT', 'SONORA', 'GUANAJUATO', 'MORELOS', 'TAMAULIPAS',\n",
       "       'HIDALGO', 'PUEBLA', 'AGUASCALIENTES', 'BAJA CALIFORNIA SUR',\n",
       "       'YUCATAN', 'MICHOACAN', 'GUERRERO', 'OAXACA', 'SINALOA',\n",
       "       'NUEVO LEON', 'TLAXCALA', 'CHIHUAHUA', 'ZACATECAS',\n",
       "       'SAN LUIS POTOSI', 'CHIAPAS', 'QUERETARO', 'CAMPECHE', 'COLIMA'],\n",
       "      dtype=object)"
      ]
     },
     "execution_count": 187,
     "metadata": {},
     "output_type": "execute_result"
    }
   ],
   "source": [
    "output.Region.unique()"
   ]
  },
  {
   "cell_type": "code",
   "execution_count": 188,
   "metadata": {},
   "outputs": [
    {
     "data": {
      "text/plain": [
       "array(['Local', 'Alemania', 'Cuba', 'Grecia', 'Nicaragua',\n",
       "       'Estados Unidos de América', 'Estados Unidos de Am�rica', 'Otro',\n",
       "       'España', 'Espa�a', 'Colombia', 'Egipto', 'El Salvador', 'Ecuador',\n",
       "       'Venezuela', 'Haití', 'Hait�', 'República de Honduras',\n",
       "       'Rep�blica de Honduras', 'Guatemala', 'Francia', 'Bolivia',\n",
       "       'Dinamarca', 'Japón', 'Jap�n', 'China', 'Perú', 'Per�', 'Camerún',\n",
       "       'Camer�n', 'Chile', 'Eritrea', 'Canadá', 'Canad�', 'Brasil',\n",
       "       'Belice', 'Irlanda', 'Costa de Marfil', 'Italia', 'Malasia',\n",
       "       'Argentina', 'Suecia'], dtype=object)"
      ]
     },
     "execution_count": 188,
     "metadata": {},
     "output_type": "execute_result"
    }
   ],
   "source": [
    "output.Origin.unique()"
   ]
  },
  {
   "cell_type": "code",
   "execution_count": 189,
   "metadata": {},
   "outputs": [
    {
     "data": {
      "text/html": [
       "<div>\n",
       "<style scoped>\n",
       "    .dataframe tbody tr th:only-of-type {\n",
       "        vertical-align: middle;\n",
       "    }\n",
       "\n",
       "    .dataframe tbody tr th {\n",
       "        vertical-align: top;\n",
       "    }\n",
       "\n",
       "    .dataframe thead th {\n",
       "        text-align: right;\n",
       "    }\n",
       "</style>\n",
       "<table border=\"1\" class=\"dataframe\">\n",
       "  <thead>\n",
       "    <tr style=\"text-align: right;\">\n",
       "      <th></th>\n",
       "      <th>Date_Confirmed</th>\n",
       "      <th>Date_Symptoms</th>\n",
       "      <th>Date_Death</th>\n",
       "      <th>Region</th>\n",
       "      <th>Region_ID</th>\n",
       "      <th>Region_Key</th>\n",
       "      <th>Origin</th>\n",
       "      <th>Status</th>\n",
       "    </tr>\n",
       "  </thead>\n",
       "  <tbody>\n",
       "    <tr>\n",
       "      <td>0</td>\n",
       "      <td>2020-01-06</td>\n",
       "      <td>2020-01-02</td>\n",
       "      <td>9999-99-99</td>\n",
       "      <td>JALISCO</td>\n",
       "      <td>14</td>\n",
       "      <td>JC</td>\n",
       "      <td>Local</td>\n",
       "      <td>2</td>\n",
       "    </tr>\n",
       "    <tr>\n",
       "      <td>11331</td>\n",
       "      <td>2020-01-06</td>\n",
       "      <td>2020-01-02</td>\n",
       "      <td>9999-99-99</td>\n",
       "      <td>QUINTANA ROO</td>\n",
       "      <td>23</td>\n",
       "      <td>QR</td>\n",
       "      <td>Local</td>\n",
       "      <td>2</td>\n",
       "    </tr>\n",
       "    <tr>\n",
       "      <td>22425</td>\n",
       "      <td>2020-01-06</td>\n",
       "      <td>2020-01-03</td>\n",
       "      <td>9999-99-99</td>\n",
       "      <td>CIUDAD DE MEXICO</td>\n",
       "      <td>9</td>\n",
       "      <td>DF</td>\n",
       "      <td>Local</td>\n",
       "      <td>2</td>\n",
       "    </tr>\n",
       "    <tr>\n",
       "      <td>14738</td>\n",
       "      <td>2020-01-06</td>\n",
       "      <td>2020-01-03</td>\n",
       "      <td>9999-99-99</td>\n",
       "      <td>COAHUILA</td>\n",
       "      <td>5</td>\n",
       "      <td>CL</td>\n",
       "      <td>Local</td>\n",
       "      <td>2</td>\n",
       "    </tr>\n",
       "    <tr>\n",
       "      <td>1</td>\n",
       "      <td>2020-01-06</td>\n",
       "      <td>2020-01-03</td>\n",
       "      <td>9999-99-99</td>\n",
       "      <td>JALISCO</td>\n",
       "      <td>14</td>\n",
       "      <td>JC</td>\n",
       "      <td>Local</td>\n",
       "      <td>2</td>\n",
       "    </tr>\n",
       "    <tr>\n",
       "      <td>...</td>\n",
       "      <td>...</td>\n",
       "      <td>...</td>\n",
       "      <td>...</td>\n",
       "      <td>...</td>\n",
       "      <td>...</td>\n",
       "      <td>...</td>\n",
       "      <td>...</td>\n",
       "      <td>...</td>\n",
       "    </tr>\n",
       "    <tr>\n",
       "      <td>143627</td>\n",
       "      <td>2020-05-08</td>\n",
       "      <td>2020-05-08</td>\n",
       "      <td>9999-99-99</td>\n",
       "      <td>TAMAULIPAS</td>\n",
       "      <td>28</td>\n",
       "      <td>TS</td>\n",
       "      <td>Local</td>\n",
       "      <td>3</td>\n",
       "    </tr>\n",
       "    <tr>\n",
       "      <td>143628</td>\n",
       "      <td>2020-05-08</td>\n",
       "      <td>2020-05-08</td>\n",
       "      <td>9999-99-99</td>\n",
       "      <td>TAMAULIPAS</td>\n",
       "      <td>28</td>\n",
       "      <td>TS</td>\n",
       "      <td>Local</td>\n",
       "      <td>3</td>\n",
       "    </tr>\n",
       "    <tr>\n",
       "      <td>77927</td>\n",
       "      <td>2020-05-08</td>\n",
       "      <td>2020-05-08</td>\n",
       "      <td>9999-99-99</td>\n",
       "      <td>VERACRUZ</td>\n",
       "      <td>30</td>\n",
       "      <td>VZ</td>\n",
       "      <td>Local</td>\n",
       "      <td>3</td>\n",
       "    </tr>\n",
       "    <tr>\n",
       "      <td>161144</td>\n",
       "      <td>2020-05-08</td>\n",
       "      <td>2020-05-08</td>\n",
       "      <td>9999-99-99</td>\n",
       "      <td>YUCATAN</td>\n",
       "      <td>31</td>\n",
       "      <td>YN</td>\n",
       "      <td>Local</td>\n",
       "      <td>3</td>\n",
       "    </tr>\n",
       "    <tr>\n",
       "      <td>161145</td>\n",
       "      <td>2020-05-08</td>\n",
       "      <td>2020-05-08</td>\n",
       "      <td>9999-99-99</td>\n",
       "      <td>YUCATAN</td>\n",
       "      <td>31</td>\n",
       "      <td>YN</td>\n",
       "      <td>Local</td>\n",
       "      <td>3</td>\n",
       "    </tr>\n",
       "  </tbody>\n",
       "</table>\n",
       "<p>204499 rows × 8 columns</p>\n",
       "</div>"
      ],
      "text/plain": [
       "       Date_Confirmed Date_Symptoms  Date_Death            Region  Region_ID  \\\n",
       "0          2020-01-06    2020-01-02  9999-99-99           JALISCO         14   \n",
       "11331      2020-01-06    2020-01-02  9999-99-99      QUINTANA ROO         23   \n",
       "22425      2020-01-06    2020-01-03  9999-99-99  CIUDAD DE MEXICO          9   \n",
       "14738      2020-01-06    2020-01-03  9999-99-99          COAHUILA          5   \n",
       "1          2020-01-06    2020-01-03  9999-99-99           JALISCO         14   \n",
       "...               ...           ...         ...               ...        ...   \n",
       "143627     2020-05-08    2020-05-08  9999-99-99        TAMAULIPAS         28   \n",
       "143628     2020-05-08    2020-05-08  9999-99-99        TAMAULIPAS         28   \n",
       "77927      2020-05-08    2020-05-08  9999-99-99          VERACRUZ         30   \n",
       "161144     2020-05-08    2020-05-08  9999-99-99           YUCATAN         31   \n",
       "161145     2020-05-08    2020-05-08  9999-99-99           YUCATAN         31   \n",
       "\n",
       "       Region_Key Origin  Status  \n",
       "0              JC  Local       2  \n",
       "11331          QR  Local       2  \n",
       "22425          DF  Local       2  \n",
       "14738          CL  Local       2  \n",
       "1              JC  Local       2  \n",
       "...           ...    ...     ...  \n",
       "143627         TS  Local       3  \n",
       "143628         TS  Local       3  \n",
       "77927          VZ  Local       3  \n",
       "161144         YN  Local       3  \n",
       "161145         YN  Local       3  \n",
       "\n",
       "[204499 rows x 8 columns]"
      ]
     },
     "execution_count": 189,
     "metadata": {},
     "output_type": "execute_result"
    }
   ],
   "source": [
    "output"
   ]
  },
  {
   "cell_type": "markdown",
   "metadata": {},
   "source": [
    "### By status"
   ]
  },
  {
   "cell_type": "code",
   "execution_count": 61,
   "metadata": {},
   "outputs": [],
   "source": [
    "# Latest time series"
   ]
  },
  {
   "cell_type": "code",
   "execution_count": 73,
   "metadata": {},
   "outputs": [],
   "source": [
    "latest = output.copy()"
   ]
  },
  {
   "cell_type": "code",
   "execution_count": 74,
   "metadata": {},
   "outputs": [],
   "source": [
    "latest = latest[latest['Status']==1]\n",
    "latest = latest[latest.Date_Death.str.startswith(('9999'))] # active cases in patients not deceased\n",
    "latest = latest[['Date_Confirmed','Date_Symptoms','Date_Death','Region','Region_ID','Region_Key','Origin','Status']]"
   ]
  },
  {
   "cell_type": "code",
   "execution_count": 76,
   "metadata": {},
   "outputs": [],
   "source": [
    "latest.to_csv('../latest.csv', index=False)"
   ]
  },
  {
   "cell_type": "raw",
   "metadata": {},
   "source": [
    "# Active cases\n",
    "tbl_1 = output.copy()\n",
    "tbl_1 = tbl_1[tbl_1.Date_Death.str.startswith(('9999'))] # active cases in patients not deceased\n",
    "\n",
    "positive = tbl_1[tbl_1['Status']==1]\n",
    "positive = positive.drop(['Date_Death'], axis=1)\n",
    "\n",
    "negative = tbl_1[tbl_1['Status']==2]\n",
    "negative = negative.drop(['Date_Death'], axis=1)\n",
    "\n",
    "suspects = tbl_1[tbl_1['Status']==3]\n",
    "suspects = suspects.drop(['Date_Death'], axis=1)\n",
    "\n",
    "# Deceased\n",
    "tbl_2 = output.copy()\n",
    "tbl_2 = tbl_2[~tbl_\".Date_Death.str.startswith(('9999'))] # to-do: check if deceased can have pending testing results in the db\n",
    "deceased = tbl_2\n",
    "\n",
    "test1 = positive.reset_index()\n",
    "test1.Date_Confirmed = test1.Date_Confirmed.astype('str')\n",
    "test1 = test1[test1.Date_Confirmed.str.startswith(('2020-05-04'))]\n",
    "len(test1)\n",
    "\n",
    "test2 = suspects.reset_index()\n",
    "test2.Date_Confirmed = test2.Date_Confirmed.astype('str')\n",
    "test2 = test2[test2.Date_Confirmed.str.startswith(('2020-05-04'))]\n",
    "len(test2)"
   ]
  }
 ],
 "metadata": {
  "kernelspec": {
   "display_name": "Python 3",
   "language": "python",
   "name": "python3"
  },
  "language_info": {
   "codemirror_mode": {
    "name": "ipython",
    "version": 3
   },
   "file_extension": ".py",
   "mimetype": "text/x-python",
   "name": "python",
   "nbconvert_exporter": "python",
   "pygments_lexer": "ipython3",
   "version": "3.7.4"
  }
 },
 "nbformat": 4,
 "nbformat_minor": 4
}
