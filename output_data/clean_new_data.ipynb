{
 "cells": [
  {
   "cell_type": "code",
   "execution_count": 275,
   "metadata": {},
   "outputs": [],
   "source": [
    "import pandas as pd\n",
    "import numpy as np"
   ]
  },
  {
   "cell_type": "code",
   "execution_count": 276,
   "metadata": {},
   "outputs": [],
   "source": [
    "# Last data with old format\n",
    "df5 = pd.read_csv('covid_mex_20200405.csv')\n",
    "df5 = df5.drop(['Date_Arrival'], axis=1)"
   ]
  },
  {
   "cell_type": "code",
   "execution_count": 279,
   "metadata": {},
   "outputs": [],
   "source": [
    "# New data format starts at 06/04/2020\n",
    "df6 = pd.read_csv('../data/mexico_covid_19_data/csv/raw_covid_mex_20200406.csv')"
   ]
  },
  {
   "cell_type": "code",
   "execution_count": 336,
   "metadata": {},
   "outputs": [
    {
     "data": {
      "text/plain": [
       "2439"
      ]
     },
     "execution_count": 336,
     "metadata": {},
     "output_type": "execute_result"
    }
   ],
   "source": [
    "# The raw files were basically converted from pdf to csv using zamzar\n",
    "df6 = df6.drop(['Case_ID'], axis=1) # Remove this column to merge\n",
    "df6['Origin'].fillna('Contacto', inplace=True) # New data doesn't specify but we'll assume it remains by contact unless otherwise specified\n",
    "df6.index = np.arange(1, (len(df6)+1)) # New index that doesn't start from 0\n",
    "df6 = df6.reset_index() # Add index to columns\n",
    "df6 = df6.rename(columns={'index':'Case_ID'}) # Rename index\n",
    "len(df6)"
   ]
  },
  {
   "cell_type": "code",
   "execution_count": 337,
   "metadata": {},
   "outputs": [
    {
     "data": {
      "text/plain": [
       "2439"
      ]
     },
     "execution_count": 337,
     "metadata": {},
     "output_type": "execute_result"
    }
   ],
   "source": [
    "# https://stackoverflow.com/questions/19125091/pandas-merge-how-to-avoid-duplicating-columns\n",
    "df6 = df6.merge(df5, on='Case_ID', left_index=True, right_index=True, how='outer', suffixes=('', '_y')) # Match for confirmed dates from previous report\n",
    "# https://stackoverflow.com/questions/19071199/drop-columns-whose-name-contains-a-specific-string-from-pandas-dataframe\n",
    "df6 = df6.loc[:,~df6.columns.str.contains('_y', case=False)] # Drop suffix\n",
    "len(df6)"
   ]
  },
  {
   "cell_type": "code",
   "execution_count": 345,
   "metadata": {},
   "outputs": [
    {
     "data": {
      "text/plain": [
       "295"
      ]
     },
     "execution_count": 345,
     "metadata": {},
     "output_type": "execute_result"
    }
   ],
   "source": [
    "# Number of new cases should be:\n",
    "len(df6) - len(df5)"
   ]
  },
  {
   "cell_type": "code",
   "execution_count": 339,
   "metadata": {},
   "outputs": [],
   "source": [
    "# https://stackoverflow.com/questions/37313691/how-to-remove-a-pandas-dataframe-from-another-dataframe\n",
    "out6 = df6.append(df5) # The resulting length after this opreration should match the new cases!\n",
    "out6 = out6[~out6.index.duplicated(keep=False)] # Had to test several times to guess...\n",
    "out6.Date_Confirmed = out6.Date_Confirmed.fillna('06/04/2020')\n",
    "out6 = pd.concat([df5, out6], sort=False)\n",
    "out6.to_csv('covid_mex_20200406.csv', index=False)"
   ]
  },
  {
   "cell_type": "code",
   "execution_count": 346,
   "metadata": {},
   "outputs": [],
   "source": [
    "# From the analysis above we can deduce that the new data is probably just being appended to the end of the last report (?)\n",
    "# Will do the same method for the next few days, and if it remains consistent, will make it functional\n",
    "# But until now it is more prudent treat each report as a case-by-case basis, sadly"
   ]
  },
  {
   "cell_type": "code",
   "execution_count": null,
   "metadata": {},
   "outputs": [],
   "source": [
    "# 07/04/2020"
   ]
  },
  {
   "cell_type": "code",
   "execution_count": 364,
   "metadata": {},
   "outputs": [],
   "source": [
    "df7 = pd.read_csv('../data/mexico_covid_19_data/csv/raw_covid_mex_20200407.csv')\n",
    "df7['Origin'].fillna('Contacto', inplace=True)\n",
    "\n",
    "out7 = df7.append(out6) # The resulting length after this opreration should match the new cases!\n",
    "out7 = out7[~out7.index.duplicated(keep=False)] # Had to test several times to guess...\n",
    "out7.Date_Confirmed = out7.Date_Confirmed.fillna('07/04/2020')\n",
    "out7 = pd.concat([out6, out7], sort=False) # Use last file in memory, sorry\n",
    "out7.to_csv('covid_mex_20200407.csv', index=False)"
   ]
  },
  {
   "cell_type": "code",
   "execution_count": 384,
   "metadata": {},
   "outputs": [],
   "source": [
    "# 08/04/2020\n",
    "df8 = pd.read_csv('../data/mexico_covid_19_data/csv/raw_covid_mex_20200408.csv') # Origin is now removed from the daily report\n",
    "df8 = df8.merge(df7, on='Case_ID', left_index=True, right_index=True, how='outer', suffixes=('', '_y')) # Match deprecated columns from last report\n",
    "df8 = df8.loc[:,~df8.columns.str.contains('_y', case=False)] # Drop suffix\n",
    "df8['Origin'].fillna('Contacto', inplace=True) # Fill after merge\n",
    "\n",
    "out8 = df8.append(out7) # The resulting length after this opreration should match the new cases!\n",
    "out8 = out8[~out8.index.duplicated(keep=False)] # Had to test several times to guess...\n",
    "out8.Date_Confirmed = out8.Date_Confirmed.fillna('08/04/2020')\n",
    "out8 = pd.concat([out7, out8], sort=False) # Use last file in memory, sorry\n",
    "out8.to_csv('covid_mex_20200408.csv', index=False)"
   ]
  },
  {
   "cell_type": "code",
   "execution_count": 389,
   "metadata": {},
   "outputs": [],
   "source": [
    "# 09/04/2020\n",
    "df9 = pd.read_csv('../data/mexico_covid_19_data/csv/raw_covid_mex_20200409.csv') # Origin is now removed from the daily report\n",
    "df9 = df9.merge(df8, on='Case_ID', left_index=True, right_index=True, how='outer', suffixes=('', '_y')) # Match deprecated columns from last report\n",
    "df9 = df9.loc[:,~df9.columns.str.contains('_y', case=False)] # Drop suffix\n",
    "df9['Origin'].fillna('Contacto', inplace=True) # Fill after merge\n",
    "\n",
    "out9 = df9.append(out8)\n",
    "out9 = out9[~out9.index.duplicated(keep=False)]\n",
    "out9.Date_Confirmed = out9.Date_Confirmed.fillna('09/04/2020')\n",
    "out9 = pd.concat([out8, out9], sort=False) # Use last file in memory, sorry\n",
    "out9.to_csv('covid_mex_20200409.csv', index=False)"
   ]
  }
 ],
 "metadata": {
  "kernelspec": {
   "display_name": "Python 3",
   "language": "python",
   "name": "python3"
  },
  "language_info": {
   "codemirror_mode": {
    "name": "ipython",
    "version": 3
   },
   "file_extension": ".py",
   "mimetype": "text/x-python",
   "name": "python",
   "nbconvert_exporter": "python",
   "pygments_lexer": "ipython3",
   "version": "3.7.4"
  }
 },
 "nbformat": 4,
 "nbformat_minor": 4
}
