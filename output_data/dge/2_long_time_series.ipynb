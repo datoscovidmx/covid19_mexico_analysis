{
 "cells": [
  {
   "cell_type": "code",
   "execution_count": 159,
   "metadata": {},
   "outputs": [],
   "source": [
    "import pandas as pd\n",
    "import janitor"
   ]
  },
  {
   "cell_type": "code",
   "execution_count": 160,
   "metadata": {},
   "outputs": [],
   "source": [
    "# Group and keep columns with 'as_index'\n",
    "# https://stackoverflow.com/questions/31569549/how-to-groupby-a-dataframe-in-pandas-and-keep-columns"
   ]
  },
  {
   "cell_type": "markdown",
   "metadata": {},
   "source": [
    "### Daily report data"
   ]
  },
  {
   "cell_type": "code",
   "execution_count": 161,
   "metadata": {},
   "outputs": [],
   "source": [
    "data = pd.read_csv('filter.csv', encoding='utf-8')"
   ]
  },
  {
   "cell_type": "code",
   "execution_count": 162,
   "metadata": {},
   "outputs": [
    {
     "name": "stdout",
     "output_type": "stream",
     "text": [
      "False\n"
     ]
    }
   ],
   "source": [
    "print(data.set_index(['ID_REGISTRO']).index.is_unique) # ids are not unique... it's unclear how reports are aggregated"
   ]
  },
  {
   "cell_type": "code",
   "execution_count": 163,
   "metadata": {},
   "outputs": [],
   "source": [
    "data['FECHA_INGRESO'] = pd.to_datetime(data.FECHA_INGRESO, format='%Y-%m-%d', errors='coerce')\n",
    "data['FECHA_INGRESO'] = data['FECHA_INGRESO'].dt.strftime('%Y-%m-%d')\n",
    "data = data.set_index(pd.DatetimeIndex(data['FECHA_INGRESO'])).sort_index()"
   ]
  },
  {
   "cell_type": "code",
   "execution_count": 164,
   "metadata": {},
   "outputs": [
    {
     "data": {
      "text/plain": [
       "163973"
      ]
     },
     "execution_count": 164,
     "metadata": {},
     "output_type": "execute_result"
    }
   ],
   "source": [
    "len(data)"
   ]
  },
  {
   "cell_type": "markdown",
   "metadata": {},
   "source": [
    "### Note\n",
    "Daily report for april 20 (ie, reported in 21 april) stops using testing site (ENTIDAD_UM),\n",
    "<br>\n",
    "And starts using region of residence (ENTIDAD_RES) so we shall treat both sets of data accordingly"
   ]
  },
  {
   "cell_type": "raw",
   "metadata": {},
   "source": [
    "dat"
   ]
  },
  {
   "cell_type": "code",
   "execution_count": 165,
   "metadata": {},
   "outputs": [],
   "source": [
    "dat = data.copy()"
   ]
  },
  {
   "cell_type": "code",
   "execution_count": 166,
   "metadata": {},
   "outputs": [],
   "source": [
    "tbl_x = dat.filter_date('FECHA_INGRESO','2020-01-06','2020-04-20')\n",
    "tbl_x = tbl_x.drop(['ENTIDAD_RES'], axis=1) # drop by region\n",
    "tbl_x = tbl_x.set_index(\n",
    "    ['FECHA_INGRESO', 'FECHA_SINTOMAS', 'FECHA_DEF', 'ENTIDAD_UM', 'ID_REGISTRO', 'PAIS_ORIGEN']\n",
    ")\n",
    "tbl_x = tbl_x.groupby(\n",
    "    ['FECHA_INGRESO', 'FECHA_SINTOMAS', 'FECHA_DEF', 'ENTIDAD_UM', 'ID_REGISTRO', 'PAIS_ORIGEN'], as_index=True).count().reset_index()\n",
    "tbl_x = tbl_x.rename(columns={'ENTIDAD_UM':'Region_ID'})"
   ]
  },
  {
   "cell_type": "code",
   "execution_count": 167,
   "metadata": {},
   "outputs": [],
   "source": [
    "tbl_y = dat.filter_date('FECHA_INGRESO','2020-04-20','2022-12-31') # the long con\n",
    "tbl_y = tbl_y.drop(['ENTIDAD_UM'], axis=1) # drop by region\n",
    "tbl_y = tbl_y.set_index(\n",
    "    ['FECHA_INGRESO', 'FECHA_SINTOMAS', 'FECHA_DEF', 'ENTIDAD_RES', 'ID_REGISTRO', 'PAIS_ORIGEN']\n",
    ")\n",
    "tbl_y = tbl_y.groupby(\n",
    "    ['FECHA_INGRESO', 'FECHA_SINTOMAS', 'FECHA_DEF', 'ENTIDAD_RES', 'ID_REGISTRO', 'PAIS_ORIGEN'], as_index=True).count().reset_index()\n",
    "tbl_y = tbl_y.rename(columns={'ENTIDAD_RES':'Region_ID'})"
   ]
  },
  {
   "cell_type": "code",
   "execution_count": 168,
   "metadata": {},
   "outputs": [],
   "source": [
    "tbl = pd.concat([tbl_x, tbl_y])"
   ]
  },
  {
   "cell_type": "code",
   "execution_count": 169,
   "metadata": {},
   "outputs": [
    {
     "data": {
      "text/html": [
       "<div>\n",
       "<style scoped>\n",
       "    .dataframe tbody tr th:only-of-type {\n",
       "        vertical-align: middle;\n",
       "    }\n",
       "\n",
       "    .dataframe tbody tr th {\n",
       "        vertical-align: top;\n",
       "    }\n",
       "\n",
       "    .dataframe thead th {\n",
       "        text-align: right;\n",
       "    }\n",
       "</style>\n",
       "<table border=\"1\" class=\"dataframe\">\n",
       "  <thead>\n",
       "    <tr style=\"text-align: right;\">\n",
       "      <th></th>\n",
       "      <th>FECHA_INGRESO</th>\n",
       "      <th>FECHA_SINTOMAS</th>\n",
       "      <th>FECHA_DEF</th>\n",
       "      <th>Region_ID</th>\n",
       "      <th>ID_REGISTRO</th>\n",
       "      <th>PAIS_ORIGEN</th>\n",
       "      <th>RESULTADO</th>\n",
       "    </tr>\n",
       "  </thead>\n",
       "  <tbody>\n",
       "    <tr>\n",
       "      <td>0</td>\n",
       "      <td>2020-01-06</td>\n",
       "      <td>2020-01-06</td>\n",
       "      <td>9999-99-99</td>\n",
       "      <td>18</td>\n",
       "      <td>09f6d9</td>\n",
       "      <td>Local</td>\n",
       "      <td>9</td>\n",
       "    </tr>\n",
       "    <tr>\n",
       "      <td>1</td>\n",
       "      <td>2020-01-08</td>\n",
       "      <td>2020-01-08</td>\n",
       "      <td>9999-99-99</td>\n",
       "      <td>30</td>\n",
       "      <td>1c29f8</td>\n",
       "      <td>Local</td>\n",
       "      <td>8</td>\n",
       "    </tr>\n",
       "    <tr>\n",
       "      <td>2</td>\n",
       "      <td>2020-01-14</td>\n",
       "      <td>2020-01-14</td>\n",
       "      <td>9999-99-99</td>\n",
       "      <td>1</td>\n",
       "      <td>0ceb0f</td>\n",
       "      <td>Local</td>\n",
       "      <td>1</td>\n",
       "    </tr>\n",
       "    <tr>\n",
       "      <td>3</td>\n",
       "      <td>2020-01-27</td>\n",
       "      <td>2020-01-27</td>\n",
       "      <td>9999-99-99</td>\n",
       "      <td>15</td>\n",
       "      <td>1879e0</td>\n",
       "      <td>Local</td>\n",
       "      <td>1</td>\n",
       "    </tr>\n",
       "    <tr>\n",
       "      <td>4</td>\n",
       "      <td>2020-02-07</td>\n",
       "      <td>2020-02-07</td>\n",
       "      <td>9999-99-99</td>\n",
       "      <td>11</td>\n",
       "      <td>03e780</td>\n",
       "      <td>Local</td>\n",
       "      <td>6</td>\n",
       "    </tr>\n",
       "    <tr>\n",
       "      <td>...</td>\n",
       "      <td>...</td>\n",
       "      <td>...</td>\n",
       "      <td>...</td>\n",
       "      <td>...</td>\n",
       "      <td>...</td>\n",
       "      <td>...</td>\n",
       "      <td>...</td>\n",
       "    </tr>\n",
       "    <tr>\n",
       "      <td>5087</td>\n",
       "      <td>2020-04-27</td>\n",
       "      <td>2020-04-26</td>\n",
       "      <td>9999-99-99</td>\n",
       "      <td>29</td>\n",
       "      <td>06a5f6</td>\n",
       "      <td>Local</td>\n",
       "      <td>1</td>\n",
       "    </tr>\n",
       "    <tr>\n",
       "      <td>5088</td>\n",
       "      <td>2020-04-27</td>\n",
       "      <td>2020-04-27</td>\n",
       "      <td>9999-99-99</td>\n",
       "      <td>28</td>\n",
       "      <td>0ce4e9</td>\n",
       "      <td>Local</td>\n",
       "      <td>1</td>\n",
       "    </tr>\n",
       "    <tr>\n",
       "      <td>5089</td>\n",
       "      <td>2020-04-27</td>\n",
       "      <td>2020-04-27</td>\n",
       "      <td>9999-99-99</td>\n",
       "      <td>29</td>\n",
       "      <td>052d4e</td>\n",
       "      <td>Local</td>\n",
       "      <td>1</td>\n",
       "    </tr>\n",
       "    <tr>\n",
       "      <td>5090</td>\n",
       "      <td>2020-04-27</td>\n",
       "      <td>2020-04-27</td>\n",
       "      <td>9999-99-99</td>\n",
       "      <td>29</td>\n",
       "      <td>15c086</td>\n",
       "      <td>Local</td>\n",
       "      <td>1</td>\n",
       "    </tr>\n",
       "    <tr>\n",
       "      <td>5091</td>\n",
       "      <td>2020-04-28</td>\n",
       "      <td>2020-04-17</td>\n",
       "      <td>9999-99-99</td>\n",
       "      <td>8</td>\n",
       "      <td>1e5557</td>\n",
       "      <td>Local</td>\n",
       "      <td>1</td>\n",
       "    </tr>\n",
       "  </tbody>\n",
       "</table>\n",
       "<p>19019 rows × 7 columns</p>\n",
       "</div>"
      ],
      "text/plain": [
       "     FECHA_INGRESO FECHA_SINTOMAS   FECHA_DEF  Region_ID ID_REGISTRO  \\\n",
       "0       2020-01-06     2020-01-06  9999-99-99         18      09f6d9   \n",
       "1       2020-01-08     2020-01-08  9999-99-99         30      1c29f8   \n",
       "2       2020-01-14     2020-01-14  9999-99-99          1      0ceb0f   \n",
       "3       2020-01-27     2020-01-27  9999-99-99         15      1879e0   \n",
       "4       2020-02-07     2020-02-07  9999-99-99         11      03e780   \n",
       "...            ...            ...         ...        ...         ...   \n",
       "5087    2020-04-27     2020-04-26  9999-99-99         29      06a5f6   \n",
       "5088    2020-04-27     2020-04-27  9999-99-99         28      0ce4e9   \n",
       "5089    2020-04-27     2020-04-27  9999-99-99         29      052d4e   \n",
       "5090    2020-04-27     2020-04-27  9999-99-99         29      15c086   \n",
       "5091    2020-04-28     2020-04-17  9999-99-99          8      1e5557   \n",
       "\n",
       "     PAIS_ORIGEN  RESULTADO  \n",
       "0          Local          9  \n",
       "1          Local          8  \n",
       "2          Local          1  \n",
       "3          Local          1  \n",
       "4          Local          6  \n",
       "...          ...        ...  \n",
       "5087       Local          1  \n",
       "5088       Local          1  \n",
       "5089       Local          1  \n",
       "5090       Local          1  \n",
       "5091       Local          1  \n",
       "\n",
       "[19019 rows x 7 columns]"
      ]
     },
     "execution_count": 169,
     "metadata": {},
     "output_type": "execute_result"
    }
   ],
   "source": [
    "tbl"
   ]
  },
  {
   "cell_type": "code",
   "execution_count": 170,
   "metadata": {},
   "outputs": [],
   "source": [
    "tbl = tbl.rename(\n",
    "    columns={\n",
    "        'FECHA_INGRESO':'Date_Confirmed',\n",
    "        'FECHA_SINTOMAS':'Date_Symptoms',\n",
    "        'ID_REGISTRO':'Case_ID',\n",
    "        'RESULTADO':'Status',\n",
    "        'PAIS_ORIGEN':'Origin'\n",
    "    })"
   ]
  },
  {
   "cell_type": "code",
   "execution_count": 171,
   "metadata": {},
   "outputs": [],
   "source": [
    "tbl['Status'] = '1'"
   ]
  },
  {
   "cell_type": "code",
   "execution_count": 172,
   "metadata": {},
   "outputs": [
    {
     "data": {
      "text/html": [
       "<div>\n",
       "<style scoped>\n",
       "    .dataframe tbody tr th:only-of-type {\n",
       "        vertical-align: middle;\n",
       "    }\n",
       "\n",
       "    .dataframe tbody tr th {\n",
       "        vertical-align: top;\n",
       "    }\n",
       "\n",
       "    .dataframe thead th {\n",
       "        text-align: right;\n",
       "    }\n",
       "</style>\n",
       "<table border=\"1\" class=\"dataframe\">\n",
       "  <thead>\n",
       "    <tr style=\"text-align: right;\">\n",
       "      <th></th>\n",
       "      <th>Date_Confirmed</th>\n",
       "      <th>Date_Symptoms</th>\n",
       "      <th>FECHA_DEF</th>\n",
       "      <th>Region_ID</th>\n",
       "      <th>Case_ID</th>\n",
       "      <th>Origin</th>\n",
       "      <th>Status</th>\n",
       "    </tr>\n",
       "  </thead>\n",
       "  <tbody>\n",
       "    <tr>\n",
       "      <td>0</td>\n",
       "      <td>2020-01-06</td>\n",
       "      <td>2020-01-06</td>\n",
       "      <td>9999-99-99</td>\n",
       "      <td>18</td>\n",
       "      <td>09f6d9</td>\n",
       "      <td>Local</td>\n",
       "      <td>1</td>\n",
       "    </tr>\n",
       "    <tr>\n",
       "      <td>1</td>\n",
       "      <td>2020-01-08</td>\n",
       "      <td>2020-01-08</td>\n",
       "      <td>9999-99-99</td>\n",
       "      <td>30</td>\n",
       "      <td>1c29f8</td>\n",
       "      <td>Local</td>\n",
       "      <td>1</td>\n",
       "    </tr>\n",
       "    <tr>\n",
       "      <td>2</td>\n",
       "      <td>2020-01-14</td>\n",
       "      <td>2020-01-14</td>\n",
       "      <td>9999-99-99</td>\n",
       "      <td>1</td>\n",
       "      <td>0ceb0f</td>\n",
       "      <td>Local</td>\n",
       "      <td>1</td>\n",
       "    </tr>\n",
       "    <tr>\n",
       "      <td>3</td>\n",
       "      <td>2020-01-27</td>\n",
       "      <td>2020-01-27</td>\n",
       "      <td>9999-99-99</td>\n",
       "      <td>15</td>\n",
       "      <td>1879e0</td>\n",
       "      <td>Local</td>\n",
       "      <td>1</td>\n",
       "    </tr>\n",
       "    <tr>\n",
       "      <td>4</td>\n",
       "      <td>2020-02-07</td>\n",
       "      <td>2020-02-07</td>\n",
       "      <td>9999-99-99</td>\n",
       "      <td>11</td>\n",
       "      <td>03e780</td>\n",
       "      <td>Local</td>\n",
       "      <td>1</td>\n",
       "    </tr>\n",
       "    <tr>\n",
       "      <td>...</td>\n",
       "      <td>...</td>\n",
       "      <td>...</td>\n",
       "      <td>...</td>\n",
       "      <td>...</td>\n",
       "      <td>...</td>\n",
       "      <td>...</td>\n",
       "      <td>...</td>\n",
       "    </tr>\n",
       "    <tr>\n",
       "      <td>5087</td>\n",
       "      <td>2020-04-27</td>\n",
       "      <td>2020-04-26</td>\n",
       "      <td>9999-99-99</td>\n",
       "      <td>29</td>\n",
       "      <td>06a5f6</td>\n",
       "      <td>Local</td>\n",
       "      <td>1</td>\n",
       "    </tr>\n",
       "    <tr>\n",
       "      <td>5088</td>\n",
       "      <td>2020-04-27</td>\n",
       "      <td>2020-04-27</td>\n",
       "      <td>9999-99-99</td>\n",
       "      <td>28</td>\n",
       "      <td>0ce4e9</td>\n",
       "      <td>Local</td>\n",
       "      <td>1</td>\n",
       "    </tr>\n",
       "    <tr>\n",
       "      <td>5089</td>\n",
       "      <td>2020-04-27</td>\n",
       "      <td>2020-04-27</td>\n",
       "      <td>9999-99-99</td>\n",
       "      <td>29</td>\n",
       "      <td>052d4e</td>\n",
       "      <td>Local</td>\n",
       "      <td>1</td>\n",
       "    </tr>\n",
       "    <tr>\n",
       "      <td>5090</td>\n",
       "      <td>2020-04-27</td>\n",
       "      <td>2020-04-27</td>\n",
       "      <td>9999-99-99</td>\n",
       "      <td>29</td>\n",
       "      <td>15c086</td>\n",
       "      <td>Local</td>\n",
       "      <td>1</td>\n",
       "    </tr>\n",
       "    <tr>\n",
       "      <td>5091</td>\n",
       "      <td>2020-04-28</td>\n",
       "      <td>2020-04-17</td>\n",
       "      <td>9999-99-99</td>\n",
       "      <td>8</td>\n",
       "      <td>1e5557</td>\n",
       "      <td>Local</td>\n",
       "      <td>1</td>\n",
       "    </tr>\n",
       "  </tbody>\n",
       "</table>\n",
       "<p>19019 rows × 7 columns</p>\n",
       "</div>"
      ],
      "text/plain": [
       "     Date_Confirmed Date_Symptoms   FECHA_DEF  Region_ID Case_ID Origin Status\n",
       "0        2020-01-06    2020-01-06  9999-99-99         18  09f6d9  Local      1\n",
       "1        2020-01-08    2020-01-08  9999-99-99         30  1c29f8  Local      1\n",
       "2        2020-01-14    2020-01-14  9999-99-99          1  0ceb0f  Local      1\n",
       "3        2020-01-27    2020-01-27  9999-99-99         15  1879e0  Local      1\n",
       "4        2020-02-07    2020-02-07  9999-99-99         11  03e780  Local      1\n",
       "...             ...           ...         ...        ...     ...    ...    ...\n",
       "5087     2020-04-27    2020-04-26  9999-99-99         29  06a5f6  Local      1\n",
       "5088     2020-04-27    2020-04-27  9999-99-99         28  0ce4e9  Local      1\n",
       "5089     2020-04-27    2020-04-27  9999-99-99         29  052d4e  Local      1\n",
       "5090     2020-04-27    2020-04-27  9999-99-99         29  15c086  Local      1\n",
       "5091     2020-04-28    2020-04-17  9999-99-99          8  1e5557  Local      1\n",
       "\n",
       "[19019 rows x 7 columns]"
      ]
     },
     "execution_count": 172,
     "metadata": {},
     "output_type": "execute_result"
    }
   ],
   "source": [
    "tbl"
   ]
  },
  {
   "cell_type": "code",
   "execution_count": 173,
   "metadata": {},
   "outputs": [],
   "source": [
    "#tbl[~tbl.FECHA_DEF.str.startswith(('9999'))]\n",
    "tbl = tbl[tbl.FECHA_DEF.str.startswith(('9999'))] # Not deceased"
   ]
  },
  {
   "cell_type": "code",
   "execution_count": 174,
   "metadata": {},
   "outputs": [],
   "source": [
    "tbl = tbl.drop(['FECHA_DEF'], axis=1)"
   ]
  },
  {
   "cell_type": "code",
   "execution_count": 175,
   "metadata": {},
   "outputs": [
    {
     "data": {
      "text/html": [
       "<div>\n",
       "<style scoped>\n",
       "    .dataframe tbody tr th:only-of-type {\n",
       "        vertical-align: middle;\n",
       "    }\n",
       "\n",
       "    .dataframe tbody tr th {\n",
       "        vertical-align: top;\n",
       "    }\n",
       "\n",
       "    .dataframe thead th {\n",
       "        text-align: right;\n",
       "    }\n",
       "</style>\n",
       "<table border=\"1\" class=\"dataframe\">\n",
       "  <thead>\n",
       "    <tr style=\"text-align: right;\">\n",
       "      <th></th>\n",
       "      <th>Date_Confirmed</th>\n",
       "      <th>Date_Symptoms</th>\n",
       "      <th>Region_ID</th>\n",
       "      <th>Case_ID</th>\n",
       "      <th>Origin</th>\n",
       "      <th>Status</th>\n",
       "    </tr>\n",
       "  </thead>\n",
       "  <tbody>\n",
       "    <tr>\n",
       "      <td>0</td>\n",
       "      <td>2020-01-06</td>\n",
       "      <td>2020-01-06</td>\n",
       "      <td>18</td>\n",
       "      <td>09f6d9</td>\n",
       "      <td>Local</td>\n",
       "      <td>1</td>\n",
       "    </tr>\n",
       "    <tr>\n",
       "      <td>1</td>\n",
       "      <td>2020-01-08</td>\n",
       "      <td>2020-01-08</td>\n",
       "      <td>30</td>\n",
       "      <td>1c29f8</td>\n",
       "      <td>Local</td>\n",
       "      <td>1</td>\n",
       "    </tr>\n",
       "    <tr>\n",
       "      <td>2</td>\n",
       "      <td>2020-01-14</td>\n",
       "      <td>2020-01-14</td>\n",
       "      <td>1</td>\n",
       "      <td>0ceb0f</td>\n",
       "      <td>Local</td>\n",
       "      <td>1</td>\n",
       "    </tr>\n",
       "    <tr>\n",
       "      <td>3</td>\n",
       "      <td>2020-01-27</td>\n",
       "      <td>2020-01-27</td>\n",
       "      <td>15</td>\n",
       "      <td>1879e0</td>\n",
       "      <td>Local</td>\n",
       "      <td>1</td>\n",
       "    </tr>\n",
       "    <tr>\n",
       "      <td>4</td>\n",
       "      <td>2020-02-07</td>\n",
       "      <td>2020-02-07</td>\n",
       "      <td>11</td>\n",
       "      <td>03e780</td>\n",
       "      <td>Local</td>\n",
       "      <td>1</td>\n",
       "    </tr>\n",
       "    <tr>\n",
       "      <td>...</td>\n",
       "      <td>...</td>\n",
       "      <td>...</td>\n",
       "      <td>...</td>\n",
       "      <td>...</td>\n",
       "      <td>...</td>\n",
       "      <td>...</td>\n",
       "    </tr>\n",
       "    <tr>\n",
       "      <td>5087</td>\n",
       "      <td>2020-04-27</td>\n",
       "      <td>2020-04-26</td>\n",
       "      <td>29</td>\n",
       "      <td>06a5f6</td>\n",
       "      <td>Local</td>\n",
       "      <td>1</td>\n",
       "    </tr>\n",
       "    <tr>\n",
       "      <td>5088</td>\n",
       "      <td>2020-04-27</td>\n",
       "      <td>2020-04-27</td>\n",
       "      <td>28</td>\n",
       "      <td>0ce4e9</td>\n",
       "      <td>Local</td>\n",
       "      <td>1</td>\n",
       "    </tr>\n",
       "    <tr>\n",
       "      <td>5089</td>\n",
       "      <td>2020-04-27</td>\n",
       "      <td>2020-04-27</td>\n",
       "      <td>29</td>\n",
       "      <td>052d4e</td>\n",
       "      <td>Local</td>\n",
       "      <td>1</td>\n",
       "    </tr>\n",
       "    <tr>\n",
       "      <td>5090</td>\n",
       "      <td>2020-04-27</td>\n",
       "      <td>2020-04-27</td>\n",
       "      <td>29</td>\n",
       "      <td>15c086</td>\n",
       "      <td>Local</td>\n",
       "      <td>1</td>\n",
       "    </tr>\n",
       "    <tr>\n",
       "      <td>5091</td>\n",
       "      <td>2020-04-28</td>\n",
       "      <td>2020-04-17</td>\n",
       "      <td>8</td>\n",
       "      <td>1e5557</td>\n",
       "      <td>Local</td>\n",
       "      <td>1</td>\n",
       "    </tr>\n",
       "  </tbody>\n",
       "</table>\n",
       "<p>17372 rows × 6 columns</p>\n",
       "</div>"
      ],
      "text/plain": [
       "     Date_Confirmed Date_Symptoms  Region_ID Case_ID Origin Status\n",
       "0        2020-01-06    2020-01-06         18  09f6d9  Local      1\n",
       "1        2020-01-08    2020-01-08         30  1c29f8  Local      1\n",
       "2        2020-01-14    2020-01-14          1  0ceb0f  Local      1\n",
       "3        2020-01-27    2020-01-27         15  1879e0  Local      1\n",
       "4        2020-02-07    2020-02-07         11  03e780  Local      1\n",
       "...             ...           ...        ...     ...    ...    ...\n",
       "5087     2020-04-27    2020-04-26         29  06a5f6  Local      1\n",
       "5088     2020-04-27    2020-04-27         28  0ce4e9  Local      1\n",
       "5089     2020-04-27    2020-04-27         29  052d4e  Local      1\n",
       "5090     2020-04-27    2020-04-27         29  15c086  Local      1\n",
       "5091     2020-04-28    2020-04-17          8  1e5557  Local      1\n",
       "\n",
       "[17372 rows x 6 columns]"
      ]
     },
     "execution_count": 175,
     "metadata": {},
     "output_type": "execute_result"
    }
   ],
   "source": [
    "tbl"
   ]
  },
  {
   "cell_type": "code",
   "execution_count": 176,
   "metadata": {},
   "outputs": [],
   "source": [
    "#tbl.to_csv('confirmed_by_date.csv', index=False)"
   ]
  },
  {
   "cell_type": "code",
   "execution_count": 177,
   "metadata": {},
   "outputs": [],
   "source": [
    "geo = pd.read_csv('../../data/dge/meta_data/entidades.csv')"
   ]
  },
  {
   "cell_type": "code",
   "execution_count": 178,
   "metadata": {},
   "outputs": [
    {
     "data": {
      "text/plain": [
       "Index(['CLAVE_ENTIDAD', 'ENTIDAD_FEDERATIVA', 'ABREVIATURA'], dtype='object')"
      ]
     },
     "execution_count": 178,
     "metadata": {},
     "output_type": "execute_result"
    }
   ],
   "source": [
    "geo.keys()"
   ]
  },
  {
   "cell_type": "code",
   "execution_count": 179,
   "metadata": {},
   "outputs": [],
   "source": [
    "geo = geo.rename(columns={'CLAVE_ENTIDAD':'Region_ID', 'ENTIDAD_FEDERATIVA':'Region', 'ABREVIATURA':'Region_Key'})"
   ]
  },
  {
   "cell_type": "code",
   "execution_count": 180,
   "metadata": {},
   "outputs": [],
   "source": [
    "output = pd.merge(tbl, geo, on='Region_ID') "
   ]
  },
  {
   "cell_type": "code",
   "execution_count": 181,
   "metadata": {},
   "outputs": [],
   "source": [
    "output = output[['Date_Confirmed', 'Date_Symptoms', 'Region', 'Region_ID', 'Region_Key', 'Origin']]"
   ]
  },
  {
   "cell_type": "code",
   "execution_count": 182,
   "metadata": {},
   "outputs": [
    {
     "data": {
      "text/html": [
       "<div>\n",
       "<style scoped>\n",
       "    .dataframe tbody tr th:only-of-type {\n",
       "        vertical-align: middle;\n",
       "    }\n",
       "\n",
       "    .dataframe tbody tr th {\n",
       "        vertical-align: top;\n",
       "    }\n",
       "\n",
       "    .dataframe thead th {\n",
       "        text-align: right;\n",
       "    }\n",
       "</style>\n",
       "<table border=\"1\" class=\"dataframe\">\n",
       "  <thead>\n",
       "    <tr style=\"text-align: right;\">\n",
       "      <th></th>\n",
       "      <th>Date_Confirmed</th>\n",
       "      <th>Date_Symptoms</th>\n",
       "      <th>Region</th>\n",
       "      <th>Region_ID</th>\n",
       "      <th>Region_Key</th>\n",
       "      <th>Origin</th>\n",
       "    </tr>\n",
       "  </thead>\n",
       "  <tbody>\n",
       "    <tr>\n",
       "      <td>0</td>\n",
       "      <td>2020-01-06</td>\n",
       "      <td>2020-01-06</td>\n",
       "      <td>NAYARIT</td>\n",
       "      <td>18</td>\n",
       "      <td>NT</td>\n",
       "      <td>Local</td>\n",
       "    </tr>\n",
       "    <tr>\n",
       "      <td>1</td>\n",
       "      <td>2020-03-18</td>\n",
       "      <td>2020-03-17</td>\n",
       "      <td>NAYARIT</td>\n",
       "      <td>18</td>\n",
       "      <td>NT</td>\n",
       "      <td>Local</td>\n",
       "    </tr>\n",
       "    <tr>\n",
       "      <td>2</td>\n",
       "      <td>2020-03-19</td>\n",
       "      <td>2020-03-10</td>\n",
       "      <td>NAYARIT</td>\n",
       "      <td>18</td>\n",
       "      <td>NT</td>\n",
       "      <td>Local</td>\n",
       "    </tr>\n",
       "    <tr>\n",
       "      <td>3</td>\n",
       "      <td>2020-03-23</td>\n",
       "      <td>2020-03-19</td>\n",
       "      <td>NAYARIT</td>\n",
       "      <td>18</td>\n",
       "      <td>NT</td>\n",
       "      <td>Local</td>\n",
       "    </tr>\n",
       "    <tr>\n",
       "      <td>4</td>\n",
       "      <td>2020-03-24</td>\n",
       "      <td>2020-03-21</td>\n",
       "      <td>NAYARIT</td>\n",
       "      <td>18</td>\n",
       "      <td>NT</td>\n",
       "      <td>Local</td>\n",
       "    </tr>\n",
       "    <tr>\n",
       "      <td>...</td>\n",
       "      <td>...</td>\n",
       "      <td>...</td>\n",
       "      <td>...</td>\n",
       "      <td>...</td>\n",
       "      <td>...</td>\n",
       "      <td>...</td>\n",
       "    </tr>\n",
       "    <tr>\n",
       "      <td>17367</td>\n",
       "      <td>2020-04-26</td>\n",
       "      <td>2020-04-26</td>\n",
       "      <td>TLAXCALA</td>\n",
       "      <td>29</td>\n",
       "      <td>TL</td>\n",
       "      <td>Local</td>\n",
       "    </tr>\n",
       "    <tr>\n",
       "      <td>17368</td>\n",
       "      <td>2020-04-26</td>\n",
       "      <td>2020-04-26</td>\n",
       "      <td>TLAXCALA</td>\n",
       "      <td>29</td>\n",
       "      <td>TL</td>\n",
       "      <td>Local</td>\n",
       "    </tr>\n",
       "    <tr>\n",
       "      <td>17369</td>\n",
       "      <td>2020-04-27</td>\n",
       "      <td>2020-04-26</td>\n",
       "      <td>TLAXCALA</td>\n",
       "      <td>29</td>\n",
       "      <td>TL</td>\n",
       "      <td>Local</td>\n",
       "    </tr>\n",
       "    <tr>\n",
       "      <td>17370</td>\n",
       "      <td>2020-04-27</td>\n",
       "      <td>2020-04-27</td>\n",
       "      <td>TLAXCALA</td>\n",
       "      <td>29</td>\n",
       "      <td>TL</td>\n",
       "      <td>Local</td>\n",
       "    </tr>\n",
       "    <tr>\n",
       "      <td>17371</td>\n",
       "      <td>2020-04-27</td>\n",
       "      <td>2020-04-27</td>\n",
       "      <td>TLAXCALA</td>\n",
       "      <td>29</td>\n",
       "      <td>TL</td>\n",
       "      <td>Local</td>\n",
       "    </tr>\n",
       "  </tbody>\n",
       "</table>\n",
       "<p>17372 rows × 6 columns</p>\n",
       "</div>"
      ],
      "text/plain": [
       "      Date_Confirmed Date_Symptoms    Region  Region_ID Region_Key Origin\n",
       "0         2020-01-06    2020-01-06   NAYARIT         18         NT  Local\n",
       "1         2020-03-18    2020-03-17   NAYARIT         18         NT  Local\n",
       "2         2020-03-19    2020-03-10   NAYARIT         18         NT  Local\n",
       "3         2020-03-23    2020-03-19   NAYARIT         18         NT  Local\n",
       "4         2020-03-24    2020-03-21   NAYARIT         18         NT  Local\n",
       "...              ...           ...       ...        ...        ...    ...\n",
       "17367     2020-04-26    2020-04-26  TLAXCALA         29         TL  Local\n",
       "17368     2020-04-26    2020-04-26  TLAXCALA         29         TL  Local\n",
       "17369     2020-04-27    2020-04-26  TLAXCALA         29         TL  Local\n",
       "17370     2020-04-27    2020-04-27  TLAXCALA         29         TL  Local\n",
       "17371     2020-04-27    2020-04-27  TLAXCALA         29         TL  Local\n",
       "\n",
       "[17372 rows x 6 columns]"
      ]
     },
     "execution_count": 182,
     "metadata": {},
     "output_type": "execute_result"
    }
   ],
   "source": [
    "output"
   ]
  },
  {
   "cell_type": "code",
   "execution_count": 183,
   "metadata": {},
   "outputs": [],
   "source": [
    "output['Region'] = output['Region'].str.replace('COAHUILA DE ZARAGOZA','COAHUILA')\n",
    "output['Region'] = output['Region'].str.replace('MICHOACÁN DE OCAMPO','MICHOACAN')\n",
    "output['Region'] = output['Region'].str.replace('VERACRUZ DE IGNACIO DE LA LLAVE','VERACRUZ')"
   ]
  },
  {
   "cell_type": "code",
   "execution_count": 184,
   "metadata": {},
   "outputs": [
    {
     "data": {
      "text/plain": [
       "array(['NAYARIT', 'VERACRUZ', 'AGUASCALIENTES', 'MÉXICO', 'GUANAJUATO',\n",
       "       'BAJA CALIFORNIA', 'CIUDAD DE MÉXICO', 'COAHUILA', 'SINALOA',\n",
       "       'CHIAPAS', 'YUCATÁN', 'MORELOS', 'NUEVO LEÓN', 'QUERÉTARO',\n",
       "       'PUEBLA', 'DURANGO', 'JALISCO', 'QUINTANA ROO', 'CAMPECHE',\n",
       "       'SAN LUIS POTOSÍ', 'GUERRERO', 'OAXACA', 'COLIMA', 'CHIHUAHUA',\n",
       "       'SONORA', 'TAMAULIPAS', 'HIDALGO', 'TABASCO', 'MICHOACAN',\n",
       "       'BAJA CALIFORNIA SUR', 'ZACATECAS', 'TLAXCALA'], dtype=object)"
      ]
     },
     "execution_count": 184,
     "metadata": {},
     "output_type": "execute_result"
    }
   ],
   "source": [
    "output.Region.unique()"
   ]
  },
  {
   "cell_type": "code",
   "execution_count": 185,
   "metadata": {},
   "outputs": [
    {
     "data": {
      "text/plain": [
       "array(['Local', 'Estados Unidos de AmÃ©rica', 'Estados Unidos de América',\n",
       "       'Venezuela', 'PerÃº', 'Perú', 'El Salvador', 'Brasil', 'Cuba',\n",
       "       'Guatemala', 'Canadá', 'Alemania', 'RepÃºblica de Honduras',\n",
       "       'República de Honduras', 'Otro', 'CamerÃºn', 'Camerún', 'Chile'],\n",
       "      dtype=object)"
      ]
     },
     "execution_count": 185,
     "metadata": {},
     "output_type": "execute_result"
    }
   ],
   "source": [
    "output.Origin.unique()"
   ]
  },
  {
   "cell_type": "code",
   "execution_count": 186,
   "metadata": {},
   "outputs": [],
   "source": [
    "output.to_csv('../../latest.csv', index=False)"
   ]
  }
 ],
 "metadata": {
  "kernelspec": {
   "display_name": "Python 3",
   "language": "python",
   "name": "python3"
  },
  "language_info": {
   "codemirror_mode": {
    "name": "ipython",
    "version": 3
   },
   "file_extension": ".py",
   "mimetype": "text/x-python",
   "name": "python",
   "nbconvert_exporter": "python",
   "pygments_lexer": "ipython3",
   "version": "3.7.4"
  }
 },
 "nbformat": 4,
 "nbformat_minor": 4
}
