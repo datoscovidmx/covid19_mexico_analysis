{
 "cells": [
  {
   "cell_type": "code",
   "execution_count": 20,
   "metadata": {},
   "outputs": [],
   "source": [
    "import pandas as pd"
   ]
  },
  {
   "cell_type": "code",
   "execution_count": 28,
   "metadata": {},
   "outputs": [],
   "source": [
    "# Valid until 05 march 2020"
   ]
  },
  {
   "cell_type": "code",
   "execution_count": 21,
   "metadata": {},
   "outputs": [],
   "source": [
    "df1 = pd.read_csv('covid_mex_20200401.csv')"
   ]
  },
  {
   "cell_type": "code",
   "execution_count": 22,
   "metadata": {},
   "outputs": [],
   "source": [
    "df2 = pd.read_csv('../data/mexico_covid_19_data/csv/raw_covid_mex_20200402.csv')\n",
    "df3 = pd.read_csv('../data/mexico_covid_19_data/csv/raw_covid_mex_20200403.csv')\n",
    "df4 = pd.read_csv('../data/mexico_covid_19_data/csv/raw_covid_mex_20200404.csv')\n",
    "df5 = pd.read_csv('../data/mexico_covid_19_data/csv/raw_covid_mex_20200405.csv')"
   ]
  },
  {
   "cell_type": "code",
   "execution_count": 23,
   "metadata": {},
   "outputs": [],
   "source": [
    "my_dfs = [df1, df2, df3, df4, df5]\n",
    "\n",
    "for df in my_dfs:\n",
    "    for column in df.columns:\n",
    "        if 'Case_ID' in column:\n",
    "            df.drop(column, axis = 1, inplace=True)"
   ]
  },
  {
   "cell_type": "code",
   "execution_count": 24,
   "metadata": {},
   "outputs": [],
   "source": [
    "res2 = df1.combine_first(df2).reset_index()\n",
    "res2 = res2.rename(columns={'index':'Case_ID'})\n",
    "res2.to_csv('covid_mex_20200402.csv', index=False)"
   ]
  },
  {
   "cell_type": "code",
   "execution_count": 25,
   "metadata": {},
   "outputs": [],
   "source": [
    "res3 = df2.combine_first(df3).reset_index()\n",
    "res3 = res2.rename(columns={'index':'Case_ID'})\n",
    "res3.to_csv('covid_mex_20200403.csv', index=False)"
   ]
  },
  {
   "cell_type": "code",
   "execution_count": 26,
   "metadata": {},
   "outputs": [],
   "source": [
    "res4 = df3.combine_first(df4).reset_index()\n",
    "res4 = res3.rename(columns={'index':'Case_ID'})\n",
    "res4.to_csv('covid_mex_20200404.csv', index=False)"
   ]
  },
  {
   "cell_type": "code",
   "execution_count": 27,
   "metadata": {},
   "outputs": [],
   "source": [
    "res5 = df4.combine_first(df5).reset_index()\n",
    "res5 = res5.rename(columns={'index':'Case_ID'})\n",
    "res5.to_csv('covid_mex_20200405.csv', index=False)"
   ]
  },
  {
   "cell_type": "code",
   "execution_count": null,
   "metadata": {},
   "outputs": [],
   "source": [
    "# From 06 march onwards ..."
   ]
  },
  {
   "cell_type": "code",
   "execution_count": 29,
   "metadata": {},
   "outputs": [],
   "source": [
    "df6 = pd.read_csv('../data/mexico_covid_19_data/csv/raw_covid_mex_20200406.csv')"
   ]
  },
  {
   "cell_type": "code",
   "execution_count": 34,
   "metadata": {},
   "outputs": [
    {
     "ename": "TypeError",
     "evalue": "combine() missing 1 required positional argument: 'func'",
     "output_type": "error",
     "traceback": [
      "\u001b[0;31m---------------------------------------------------------------------------\u001b[0m",
      "\u001b[0;31mTypeError\u001b[0m                                 Traceback (most recent call last)",
      "\u001b[0;32m<ipython-input-34-84dca1e8381b>\u001b[0m in \u001b[0;36m<module>\u001b[0;34m\u001b[0m\n\u001b[0;32m----> 1\u001b[0;31m \u001b[0mres6\u001b[0m \u001b[0;34m=\u001b[0m \u001b[0mdf6\u001b[0m\u001b[0;34m.\u001b[0m\u001b[0mcombine\u001b[0m\u001b[0;34m(\u001b[0m\u001b[0mdf5\u001b[0m\u001b[0;34m)\u001b[0m\u001b[0;34m.\u001b[0m\u001b[0mreset_index\u001b[0m\u001b[0;34m(\u001b[0m\u001b[0;34m)\u001b[0m\u001b[0;34m\u001b[0m\u001b[0;34m\u001b[0m\u001b[0m\n\u001b[0m",
      "\u001b[0;31mTypeError\u001b[0m: combine() missing 1 required positional argument: 'func'"
     ]
    }
   ],
   "source": [
    "res6 = df6.combine(df5).reset_index()"
   ]
  },
  {
   "cell_type": "code",
   "execution_count": 33,
   "metadata": {},
   "outputs": [
    {
     "data": {
      "text/html": [
       "<div>\n",
       "<style scoped>\n",
       "    .dataframe tbody tr th:only-of-type {\n",
       "        vertical-align: middle;\n",
       "    }\n",
       "\n",
       "    .dataframe tbody tr th {\n",
       "        vertical-align: top;\n",
       "    }\n",
       "\n",
       "    .dataframe thead th {\n",
       "        text-align: right;\n",
       "    }\n",
       "</style>\n",
       "<table border=\"1\" class=\"dataframe\">\n",
       "  <thead>\n",
       "    <tr style=\"text-align: right;\">\n",
       "      <th></th>\n",
       "      <th>index</th>\n",
       "      <th>Age</th>\n",
       "      <th>Case_ID</th>\n",
       "      <th>Date_Arrival</th>\n",
       "      <th>Date_Confirmed</th>\n",
       "      <th>Date_Symptoms</th>\n",
       "      <th>Origin</th>\n",
       "      <th>Region</th>\n",
       "      <th>Sex</th>\n",
       "      <th>Tested</th>\n",
       "    </tr>\n",
       "  </thead>\n",
       "  <tbody>\n",
       "    <tr>\n",
       "      <td>0</td>\n",
       "      <td>0</td>\n",
       "      <td>31.0</td>\n",
       "      <td>1</td>\n",
       "      <td>22/02/2020</td>\n",
       "      <td>NaN</td>\n",
       "      <td>23/03/2020</td>\n",
       "      <td>Italia</td>\n",
       "      <td>AGUASCALIENTES</td>\n",
       "      <td>FEMENINO</td>\n",
       "      <td>Confirmado</td>\n",
       "    </tr>\n",
       "    <tr>\n",
       "      <td>1</td>\n",
       "      <td>1</td>\n",
       "      <td>21.0</td>\n",
       "      <td>2</td>\n",
       "      <td>21/02/2020</td>\n",
       "      <td>NaN</td>\n",
       "      <td>20/03/2020</td>\n",
       "      <td>Italia</td>\n",
       "      <td>MEXICO</td>\n",
       "      <td>MASCULINO</td>\n",
       "      <td>Confirmado</td>\n",
       "    </tr>\n",
       "    <tr>\n",
       "      <td>2</td>\n",
       "      <td>2</td>\n",
       "      <td>40.0</td>\n",
       "      <td>3</td>\n",
       "      <td>22/02/2020</td>\n",
       "      <td>NaN</td>\n",
       "      <td>25/03/2020</td>\n",
       "      <td>Italia</td>\n",
       "      <td>COAHUILA</td>\n",
       "      <td>MASCULINO</td>\n",
       "      <td>Confirmado</td>\n",
       "    </tr>\n",
       "    <tr>\n",
       "      <td>3</td>\n",
       "      <td>3</td>\n",
       "      <td>27.0</td>\n",
       "      <td>4</td>\n",
       "      <td>25/02/2020</td>\n",
       "      <td>NaN</td>\n",
       "      <td>19/03/2020</td>\n",
       "      <td>Italia</td>\n",
       "      <td>CHIHUAHUA</td>\n",
       "      <td>MASCULINO</td>\n",
       "      <td>Confirmado</td>\n",
       "    </tr>\n",
       "    <tr>\n",
       "      <td>4</td>\n",
       "      <td>4</td>\n",
       "      <td>45.0</td>\n",
       "      <td>5</td>\n",
       "      <td>25/02/2020</td>\n",
       "      <td>NaN</td>\n",
       "      <td>15/03/2020</td>\n",
       "      <td>Italia</td>\n",
       "      <td>SONORA</td>\n",
       "      <td>FEMENINO</td>\n",
       "      <td>Confirmado</td>\n",
       "    </tr>\n",
       "    <tr>\n",
       "      <td>...</td>\n",
       "      <td>...</td>\n",
       "      <td>...</td>\n",
       "      <td>...</td>\n",
       "      <td>...</td>\n",
       "      <td>...</td>\n",
       "      <td>...</td>\n",
       "      <td>...</td>\n",
       "      <td>...</td>\n",
       "      <td>...</td>\n",
       "      <td>...</td>\n",
       "    </tr>\n",
       "    <tr>\n",
       "      <td>2437</td>\n",
       "      <td>2437</td>\n",
       "      <td>59.0</td>\n",
       "      <td>2438</td>\n",
       "      <td>NaN</td>\n",
       "      <td>NaN</td>\n",
       "      <td>26/03/2020</td>\n",
       "      <td>NaN</td>\n",
       "      <td>TABASCO</td>\n",
       "      <td>MASCULINO</td>\n",
       "      <td>Confirmado</td>\n",
       "    </tr>\n",
       "    <tr>\n",
       "      <td>2438</td>\n",
       "      <td>2438</td>\n",
       "      <td>24.0</td>\n",
       "      <td>2439</td>\n",
       "      <td>NaN</td>\n",
       "      <td>NaN</td>\n",
       "      <td>15/03/2020</td>\n",
       "      <td>NaN</td>\n",
       "      <td>TABASCO</td>\n",
       "      <td>FEMENINO</td>\n",
       "      <td>Confirmado</td>\n",
       "    </tr>\n",
       "    <tr>\n",
       "      <td>2439</td>\n",
       "      <td>2439</td>\n",
       "      <td>NaN</td>\n",
       "      <td>Fuente: SINAVE/DGE/InDRE</td>\n",
       "      <td>NaN</td>\n",
       "      <td>NaN</td>\n",
       "      <td>NaN</td>\n",
       "      <td>NaN</td>\n",
       "      <td>NaN</td>\n",
       "      <td>NaN</td>\n",
       "      <td>NaN</td>\n",
       "    </tr>\n",
       "    <tr>\n",
       "      <td>2440</td>\n",
       "      <td>2440</td>\n",
       "      <td>NaN</td>\n",
       "      <td>F: Femenino M: Masculino</td>\n",
       "      <td>NaN</td>\n",
       "      <td>NaN</td>\n",
       "      <td>NaN</td>\n",
       "      <td>NaN</td>\n",
       "      <td>NaN</td>\n",
       "      <td>NaN</td>\n",
       "      <td>NaN</td>\n",
       "    </tr>\n",
       "    <tr>\n",
       "      <td>2441</td>\n",
       "      <td>2441</td>\n",
       "      <td>NaN</td>\n",
       "      <td>Corte: 6 de Abril del 2020 a las 13:00 horas</td>\n",
       "      <td>NaN</td>\n",
       "      <td>NaN</td>\n",
       "      <td>NaN</td>\n",
       "      <td>NaN</td>\n",
       "      <td>NaN</td>\n",
       "      <td>NaN</td>\n",
       "      <td>NaN</td>\n",
       "    </tr>\n",
       "  </tbody>\n",
       "</table>\n",
       "<p>2442 rows × 10 columns</p>\n",
       "</div>"
      ],
      "text/plain": [
       "      index   Age                                       Case_ID Date_Arrival  \\\n",
       "0         0  31.0                                             1   22/02/2020   \n",
       "1         1  21.0                                             2   21/02/2020   \n",
       "2         2  40.0                                             3   22/02/2020   \n",
       "3         3  27.0                                             4   25/02/2020   \n",
       "4         4  45.0                                             5   25/02/2020   \n",
       "...     ...   ...                                           ...          ...   \n",
       "2437   2437  59.0                                          2438          NaN   \n",
       "2438   2438  24.0                                          2439          NaN   \n",
       "2439   2439   NaN                      Fuente: SINAVE/DGE/InDRE          NaN   \n",
       "2440   2440   NaN                      F: Femenino M: Masculino          NaN   \n",
       "2441   2441   NaN  Corte: 6 de Abril del 2020 a las 13:00 horas          NaN   \n",
       "\n",
       "     Date_Confirmed Date_Symptoms  Origin          Region        Sex  \\\n",
       "0               NaN    23/03/2020  Italia  AGUASCALIENTES   FEMENINO   \n",
       "1               NaN    20/03/2020  Italia          MEXICO  MASCULINO   \n",
       "2               NaN    25/03/2020  Italia        COAHUILA  MASCULINO   \n",
       "3               NaN    19/03/2020  Italia       CHIHUAHUA  MASCULINO   \n",
       "4               NaN    15/03/2020  Italia          SONORA   FEMENINO   \n",
       "...             ...           ...     ...             ...        ...   \n",
       "2437            NaN    26/03/2020     NaN         TABASCO  MASCULINO   \n",
       "2438            NaN    15/03/2020     NaN         TABASCO   FEMENINO   \n",
       "2439            NaN           NaN     NaN             NaN        NaN   \n",
       "2440            NaN           NaN     NaN             NaN        NaN   \n",
       "2441            NaN           NaN     NaN             NaN        NaN   \n",
       "\n",
       "          Tested  \n",
       "0     Confirmado  \n",
       "1     Confirmado  \n",
       "2     Confirmado  \n",
       "3     Confirmado  \n",
       "4     Confirmado  \n",
       "...          ...  \n",
       "2437  Confirmado  \n",
       "2438  Confirmado  \n",
       "2439         NaN  \n",
       "2440         NaN  \n",
       "2441         NaN  \n",
       "\n",
       "[2442 rows x 10 columns]"
      ]
     },
     "execution_count": 33,
     "metadata": {},
     "output_type": "execute_result"
    }
   ],
   "source": [
    "res6"
   ]
  },
  {
   "cell_type": "code",
   "execution_count": null,
   "metadata": {},
   "outputs": [],
   "source": []
  }
 ],
 "metadata": {
  "kernelspec": {
   "display_name": "Python 3",
   "language": "python",
   "name": "python3"
  },
  "language_info": {
   "codemirror_mode": {
    "name": "ipython",
    "version": 3
   },
   "file_extension": ".py",
   "mimetype": "text/x-python",
   "name": "python",
   "nbconvert_exporter": "python",
   "pygments_lexer": "ipython3",
   "version": "3.7.4"
  }
 },
 "nbformat": 4,
 "nbformat_minor": 4
}
