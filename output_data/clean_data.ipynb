{
 "cells": [
  {
   "cell_type": "code",
   "execution_count": 1,
   "metadata": {},
   "outputs": [],
   "source": [
    "# https://github.com/pandas-dev/pandas/issues/7509\n",
    "# https://github.com/pandas-dev/pandas/issues/2626"
   ]
  },
  {
   "cell_type": "code",
   "execution_count": 2,
   "metadata": {},
   "outputs": [],
   "source": [
    "import pandas as pd\n",
    "import numpy as np"
   ]
  },
  {
   "cell_type": "markdown",
   "metadata": {},
   "source": [
    "### Old reports\n",
    "Tried different approaches but using _'combine_first()'_ works ok."
   ]
  },
  {
   "cell_type": "code",
   "execution_count": 3,
   "metadata": {},
   "outputs": [],
   "source": [
    "df1 = pd.read_csv('../data/mexico_covid19_data/raw-mexico-covid19-2020-04-01.csv')\n",
    "df2 = pd.read_csv('../data/mexico_covid19_data/raw-mexico-covid19-2020-04-02.csv')\n",
    "df3 = pd.read_csv('../data/mexico_covid19_data/raw-mexico-covid19-2020-04-03.csv')\n",
    "df4 = pd.read_csv('../data/mexico_covid19_data/raw-mexico-covid19-2020-04-04.csv')\n",
    "df5 = pd.read_csv('../data/mexico_covid19_data/raw-mexico-covid19-2020-04-05.csv')"
   ]
  },
  {
   "cell_type": "code",
   "execution_count": 4,
   "metadata": {},
   "outputs": [],
   "source": [
    "my_dfs = [df1, df2, df3, df4, df5]\n",
    "for df in my_dfs:\n",
    "    for column in df.columns:\n",
    "        if 'Case_ID' in column:\n",
    "            df.drop(column, axis = 1, inplace=True)\n",
    "\n",
    "            df['Date_Confirmed'] = pd.to_datetime(df.Date_Confirmed)\n",
    "            df['Date_Confirmed'] = df['Date_Confirmed'].dt.strftime('%d-%m-%Y')\n",
    "            df['Date_Confirmed'] = df['Date_Confirmed'].replace('NaT', '')\n",
    "\n",
    "            df['Date_Symptoms'] = pd.to_datetime(df.Date_Symptoms)\n",
    "            df['Date_Symptoms'] = df['Date_Symptoms'].dt.strftime('%d-%m-%Y')\n",
    "            df['Date_Symptoms'] = df['Date_Symptoms'].replace('NaT', '')"
   ]
  },
  {
   "cell_type": "code",
   "execution_count": 5,
   "metadata": {},
   "outputs": [],
   "source": [
    "def combine_data(df_x, df_y):\n",
    "    out = df_x.combine_first(df_y)\n",
    "    out['Case_ID'] = np.arange(1, (len(out)+1))\n",
    "    out['Age'] = out['Age'].astype(int)\n",
    "    out = out [['Case_ID','Region','Sex','Age','Origin','Date_Symptoms','Date_Confirmed']]\n",
    "    return out"
   ]
  },
  {
   "cell_type": "code",
   "execution_count": 6,
   "metadata": {},
   "outputs": [],
   "source": [
    "def remove_ascii(df):\n",
    "    df.Region = df.Region.str.replace('Á', 'A')\n",
    "    df.Region = df.Region.str.replace('É', 'E')\n",
    "    df.Region = df.Region.str.replace('Í', 'I')\n",
    "    df.Region = df.Region.str.replace('Ó', 'O')\n",
    "    df.Region = df.Region.str.replace('Ú', 'U')\n",
    "    return df"
   ]
  },
  {
   "cell_type": "code",
   "execution_count": 7,
   "metadata": {},
   "outputs": [],
   "source": [
    "out1 = df1"
   ]
  },
  {
   "cell_type": "code",
   "execution_count": 8,
   "metadata": {},
   "outputs": [],
   "source": [
    "out2 = combine_data(out1, df2)"
   ]
  },
  {
   "cell_type": "code",
   "execution_count": 9,
   "metadata": {},
   "outputs": [],
   "source": [
    "out3 = combine_data(out2, df3)"
   ]
  },
  {
   "cell_type": "code",
   "execution_count": 10,
   "metadata": {},
   "outputs": [],
   "source": [
    "out4 = combine_data(out3, df4)"
   ]
  },
  {
   "cell_type": "code",
   "execution_count": 11,
   "metadata": {},
   "outputs": [],
   "source": [
    "out5 = combine_data(out4, df5)"
   ]
  },
  {
   "cell_type": "code",
   "execution_count": 12,
   "metadata": {},
   "outputs": [
    {
     "data": {
      "text/html": [
       "<div>\n",
       "<style scoped>\n",
       "    .dataframe tbody tr th:only-of-type {\n",
       "        vertical-align: middle;\n",
       "    }\n",
       "\n",
       "    .dataframe tbody tr th {\n",
       "        vertical-align: top;\n",
       "    }\n",
       "\n",
       "    .dataframe thead th {\n",
       "        text-align: right;\n",
       "    }\n",
       "</style>\n",
       "<table border=\"1\" class=\"dataframe\">\n",
       "  <thead>\n",
       "    <tr style=\"text-align: right;\">\n",
       "      <th></th>\n",
       "      <th>Case_ID</th>\n",
       "      <th>Region</th>\n",
       "      <th>Sex</th>\n",
       "      <th>Age</th>\n",
       "      <th>Origin</th>\n",
       "      <th>Date_Symptoms</th>\n",
       "      <th>Date_Confirmed</th>\n",
       "    </tr>\n",
       "  </thead>\n",
       "  <tbody>\n",
       "    <tr>\n",
       "      <td>0</td>\n",
       "      <td>1</td>\n",
       "      <td>CIUDAD DE MÉXICO</td>\n",
       "      <td>M</td>\n",
       "      <td>35</td>\n",
       "      <td>Italia</td>\n",
       "      <td>22-02-2020</td>\n",
       "      <td>27-02-2020</td>\n",
       "    </tr>\n",
       "    <tr>\n",
       "      <td>1</td>\n",
       "      <td>2</td>\n",
       "      <td>SINALOA</td>\n",
       "      <td>M</td>\n",
       "      <td>41</td>\n",
       "      <td>Italia</td>\n",
       "      <td>22-02-2020</td>\n",
       "      <td>28-02-2020</td>\n",
       "    </tr>\n",
       "    <tr>\n",
       "      <td>2</td>\n",
       "      <td>3</td>\n",
       "      <td>CIUDAD DE MÉXICO</td>\n",
       "      <td>M</td>\n",
       "      <td>59</td>\n",
       "      <td>Italia</td>\n",
       "      <td>23-02-2020</td>\n",
       "      <td>29-02-2020</td>\n",
       "    </tr>\n",
       "    <tr>\n",
       "      <td>3</td>\n",
       "      <td>4</td>\n",
       "      <td>COAHUILA</td>\n",
       "      <td>F</td>\n",
       "      <td>20</td>\n",
       "      <td>Italia</td>\n",
       "      <td>27-02-2020</td>\n",
       "      <td>29-02-2020</td>\n",
       "    </tr>\n",
       "    <tr>\n",
       "      <td>4</td>\n",
       "      <td>5</td>\n",
       "      <td>CHIAPAS</td>\n",
       "      <td>F</td>\n",
       "      <td>18</td>\n",
       "      <td>Italia</td>\n",
       "      <td>25-02-2020</td>\n",
       "      <td>01-03-2020</td>\n",
       "    </tr>\n",
       "    <tr>\n",
       "      <td>...</td>\n",
       "      <td>...</td>\n",
       "      <td>...</td>\n",
       "      <td>...</td>\n",
       "      <td>...</td>\n",
       "      <td>...</td>\n",
       "      <td>...</td>\n",
       "      <td>...</td>\n",
       "    </tr>\n",
       "    <tr>\n",
       "      <td>2138</td>\n",
       "      <td>2139</td>\n",
       "      <td>CIUDAD DE MÉXICO</td>\n",
       "      <td>F</td>\n",
       "      <td>68</td>\n",
       "      <td>Contacto</td>\n",
       "      <td>20-03-2020</td>\n",
       "      <td>04-05-2020</td>\n",
       "    </tr>\n",
       "    <tr>\n",
       "      <td>2139</td>\n",
       "      <td>2140</td>\n",
       "      <td>CIUDAD DE MÉXICO</td>\n",
       "      <td>M</td>\n",
       "      <td>34</td>\n",
       "      <td>Contacto</td>\n",
       "      <td>20-03-2020</td>\n",
       "      <td>04-05-2020</td>\n",
       "    </tr>\n",
       "    <tr>\n",
       "      <td>2140</td>\n",
       "      <td>2141</td>\n",
       "      <td>CIUDAD DE MÉXICO</td>\n",
       "      <td>F</td>\n",
       "      <td>65</td>\n",
       "      <td>Contacto</td>\n",
       "      <td>21-03-2020</td>\n",
       "      <td>04-05-2020</td>\n",
       "    </tr>\n",
       "    <tr>\n",
       "      <td>2141</td>\n",
       "      <td>2142</td>\n",
       "      <td>CIUDAD DE MÉXICO</td>\n",
       "      <td>M</td>\n",
       "      <td>60</td>\n",
       "      <td>Contacto</td>\n",
       "      <td>22-03-2020</td>\n",
       "      <td>04-05-2020</td>\n",
       "    </tr>\n",
       "    <tr>\n",
       "      <td>2142</td>\n",
       "      <td>2143</td>\n",
       "      <td>CIUDAD DE MÉXICO</td>\n",
       "      <td>M</td>\n",
       "      <td>49</td>\n",
       "      <td>Contacto</td>\n",
       "      <td>19-03-2020</td>\n",
       "      <td>04-05-2020</td>\n",
       "    </tr>\n",
       "  </tbody>\n",
       "</table>\n",
       "<p>2143 rows × 7 columns</p>\n",
       "</div>"
      ],
      "text/plain": [
       "      Case_ID            Region Sex  Age    Origin Date_Symptoms  \\\n",
       "0           1  CIUDAD DE MÉXICO   M   35    Italia    22-02-2020   \n",
       "1           2           SINALOA   M   41    Italia    22-02-2020   \n",
       "2           3  CIUDAD DE MÉXICO   M   59    Italia    23-02-2020   \n",
       "3           4          COAHUILA   F   20    Italia    27-02-2020   \n",
       "4           5           CHIAPAS   F   18    Italia    25-02-2020   \n",
       "...       ...               ...  ..  ...       ...           ...   \n",
       "2138     2139  CIUDAD DE MÉXICO   F   68  Contacto    20-03-2020   \n",
       "2139     2140  CIUDAD DE MÉXICO   M   34  Contacto    20-03-2020   \n",
       "2140     2141  CIUDAD DE MÉXICO   F   65  Contacto    21-03-2020   \n",
       "2141     2142  CIUDAD DE MÉXICO   M   60  Contacto    22-03-2020   \n",
       "2142     2143  CIUDAD DE MÉXICO   M   49  Contacto    19-03-2020   \n",
       "\n",
       "     Date_Confirmed  \n",
       "0        27-02-2020  \n",
       "1        28-02-2020  \n",
       "2        29-02-2020  \n",
       "3        29-02-2020  \n",
       "4        01-03-2020  \n",
       "...             ...  \n",
       "2138     04-05-2020  \n",
       "2139     04-05-2020  \n",
       "2140     04-05-2020  \n",
       "2141     04-05-2020  \n",
       "2142     04-05-2020  \n",
       "\n",
       "[2143 rows x 7 columns]"
      ]
     },
     "execution_count": 12,
     "metadata": {},
     "output_type": "execute_result"
    }
   ],
   "source": [
    "out5"
   ]
  },
  {
   "cell_type": "code",
   "execution_count": 13,
   "metadata": {},
   "outputs": [],
   "source": [
    "(remove_ascii(out5)).to_csv('mexico-covid19-2020-04-05.csv', index=False)"
   ]
  },
  {
   "cell_type": "markdown",
   "metadata": {},
   "source": [
    "### Test\n",
    "1. Find if cases in new reports match the ones already reported\n",
    "2. If that is the case, remove them from the new report\n",
    "3. Finally concat to the previous report"
   ]
  },
  {
   "cell_type": "code",
   "execution_count": 14,
   "metadata": {},
   "outputs": [],
   "source": [
    "old_data = pd.read_csv('../data/mexico_covid19_data/raw-mexico-covid19-2020-04-05.csv')"
   ]
  },
  {
   "cell_type": "code",
   "execution_count": 15,
   "metadata": {},
   "outputs": [],
   "source": [
    "new_data = pd.read_csv('../data/mexico_covid19_data/raw-mexico-covid19-2020-04-06.csv')"
   ]
  },
  {
   "cell_type": "code",
   "execution_count": 16,
   "metadata": {},
   "outputs": [
    {
     "data": {
      "text/plain": [
       "2439"
      ]
     },
     "execution_count": 16,
     "metadata": {},
     "output_type": "execute_result"
    }
   ],
   "source": [
    "new_data = new_data.drop(['Case_ID'], axis=1) # Remove this column before merge\n",
    "new_data['Origin'].fillna('Contacto', inplace=True) # Doesn't specify but we'll assume NA means 'Contact'\n",
    "new_data.index = np.arange(1, (len(new_data)+1)) # New index that doesn't start from 0\n",
    "new_data = new_data.reset_index() # Add index to columns\n",
    "new_data = new_data.rename(columns={'index':'Case_ID'}) # Rename index\n",
    "len(new_data)"
   ]
  },
  {
   "cell_type": "code",
   "execution_count": 17,
   "metadata": {},
   "outputs": [
    {
     "data": {
      "text/plain": [
       "2439"
      ]
     },
     "execution_count": 17,
     "metadata": {},
     "output_type": "execute_result"
    }
   ],
   "source": [
    "new_data = new_data.merge(old_data, on='Case_ID', left_index=True, right_index=True, how='outer', suffixes=('', '_y')) # Match cases from previous report\n",
    "new_data = new_data.loc[:,~new_data.columns.str.contains('_y', case=False)] # Drop suffix\n",
    "len(new_data)"
   ]
  },
  {
   "cell_type": "code",
   "execution_count": 18,
   "metadata": {},
   "outputs": [
    {
     "data": {
      "text/plain": [
       "296"
      ]
     },
     "execution_count": 18,
     "metadata": {},
     "output_type": "execute_result"
    }
   ],
   "source": [
    "# Number of new cases should be...\n",
    "len(new_data) - len(old_data)"
   ]
  },
  {
   "cell_type": "code",
   "execution_count": 19,
   "metadata": {},
   "outputs": [
    {
     "data": {
      "text/plain": [
       "296"
      ]
     },
     "execution_count": 19,
     "metadata": {},
     "output_type": "execute_result"
    }
   ],
   "source": [
    "test = new_data.append(old_data, sort=True) # The resulting length after appending\n",
    "test = test[~test.index.duplicated(keep=False)] # And removing duplicate should match number of new cases\n",
    "len(test)"
   ]
  },
  {
   "cell_type": "markdown",
   "metadata": {},
   "source": [
    "### Make new reports"
   ]
  },
  {
   "cell_type": "code",
   "execution_count": 20,
   "metadata": {},
   "outputs": [],
   "source": [
    "df6 = pd.read_csv('../data/mexico_covid19_data/raw-mexico-covid19-2020-04-06.csv')\n",
    "df6 = df6.drop(['Origin'], axis=1)\n",
    "df7 = pd.read_csv('../data/mexico_covid19_data/raw-mexico-covid19-2020-04-07.csv')\n",
    "df7 = df7.drop(['Origin'], axis=1)"
   ]
  },
  {
   "cell_type": "code",
   "execution_count": 21,
   "metadata": {},
   "outputs": [],
   "source": [
    "df8 = pd.read_csv('../data/mexico_covid19_data/raw-mexico-covid19-2020-04-08.csv')\n",
    "df9 = pd.read_csv('../data/mexico_covid19_data/raw-mexico-covid19-2020-04-09.csv')"
   ]
  },
  {
   "cell_type": "code",
   "execution_count": 22,
   "metadata": {},
   "outputs": [],
   "source": [
    "df10 = pd.read_csv('../data/mexico_covid19_data/raw-mexico-covid19-2020-04-10.csv')\n",
    "df11 = pd.read_csv('../data/mexico_covid19_data/raw-mexico-covid19-2020-04-11.csv')\n",
    "df12 = pd.read_csv('../data/mexico_covid19_data/raw-mexico-covid19-2020-04-12.csv')\n",
    "df13 = pd.read_csv('../data/mexico_covid19_data/raw-mexico-covid19-2020-04-13.csv')\n",
    "df14 = pd.read_csv('../data/mexico_covid19_data/raw-mexico-covid19-2020-04-14.csv')\n",
    "df15 = pd.read_csv('../data/mexico_covid19_data/raw-mexico-covid19-2020-04-15.csv')\n",
    "df16 = pd.read_csv('../data/mexico_covid19_data/raw-mexico-covid19-2020-04-16.csv')"
   ]
  },
  {
   "cell_type": "code",
   "execution_count": 23,
   "metadata": {},
   "outputs": [],
   "source": [
    "my_new_dfs = [df10, df11, df12, df13, df14, df15, df16]\n",
    "for df in my_new_dfs:\n",
    "    df['Sex'] = df['Sex'].str.replace('FEMENINO','F')\n",
    "    df['Sex'] = df['Sex'].str.replace('MASCULINO','M')"
   ]
  },
  {
   "cell_type": "code",
   "execution_count": 24,
   "metadata": {},
   "outputs": [],
   "source": [
    "all_new_dfs = [df6, df7, df8, df9, df10, df11, df12, df13, df14, df15, df16]\n",
    "for df in my_new_dfs:\n",
    "    df['Date_Symptoms'] = pd.to_datetime(df.Date_Symptoms)\n",
    "    df['Date_Symptoms'] = df['Date_Symptoms'].dt.strftime('%d-%m-%Y')\n",
    "    df['Date_Symptoms'] = df['Date_Symptoms'].replace('NaT', '')\n",
    "    df.index = np.arange(1, (len(df)+1))\n",
    "    df = df.reset_index()\n",
    "    df = df.rename(columns={'index':'Case_ID'})"
   ]
  },
  {
   "cell_type": "code",
   "execution_count": 25,
   "metadata": {},
   "outputs": [],
   "source": [
    "def make_new_report(new_data, old_data, new_date):\n",
    "    \n",
    "    new_data['Date_Symptoms'] = pd.to_datetime(new_data.Date_Symptoms)\n",
    "    new_data['Date_Symptoms'] = new_data['Date_Symptoms'].dt.strftime('%d-%m-%Y')\n",
    "    new_data['Date_Symptoms'] = new_data['Date_Symptoms'].replace('NaT', '')\n",
    "    \n",
    "    old_data['Date_Symptoms'] = pd.to_datetime(new_data.Date_Symptoms)\n",
    "    old_data['Date_Symptoms'] = old_data['Date_Symptoms'].dt.strftime('%d-%m-%Y')\n",
    "    old_data['Date_Symptoms'] = old_data['Date_Symptoms'].replace('NaT', '')\n",
    "    \n",
    "    new_data = new_data.merge(old_data, on='Case_ID', left_index=True, right_index=True, how='outer', suffixes=('', '_y'))\n",
    "    new_data = new_data.loc[:,~new_data.columns.str.contains('_y', case=False)]\n",
    "    \n",
    "    app_new_data = new_data.append(old_data, sort=True)\n",
    "    \n",
    "    new_cases = app_new_data[~app_new_data.index.duplicated(keep=False)]\n",
    "    new_cases.Date_Confirmed = new_cases.Date_Confirmed.fillna(new_date)\n",
    "    \n",
    "    new_report = pd.concat([old_data, new_cases], sort=True)\n",
    "    new_report = new_report[['Case_ID','Region','Sex','Age','Date_Symptoms','Date_Confirmed']]\n",
    "    \n",
    "    new_report['Date_Symptoms'] = pd.to_datetime(new_report.Date_Symptoms)\n",
    "    new_report['Date_Symptoms'] = new_report['Date_Symptoms'].dt.strftime('%d-%m-%Y')\n",
    "    new_report['Date_Symptoms'] = new_report['Date_Symptoms'].replace('NaT', '')\n",
    "    \n",
    "    new_report['Age'] = new_report['Age'].astype(int)\n",
    "    \n",
    "    return new_report"
   ]
  },
  {
   "cell_type": "code",
   "execution_count": 26,
   "metadata": {},
   "outputs": [
    {
     "name": "stderr",
     "output_type": "stream",
     "text": [
      "/opt/anaconda3/lib/python3.7/site-packages/pandas/core/generic.py:5208: SettingWithCopyWarning: \n",
      "A value is trying to be set on a copy of a slice from a DataFrame.\n",
      "Try using .loc[row_indexer,col_indexer] = value instead\n",
      "\n",
      "See the caveats in the documentation: http://pandas.pydata.org/pandas-docs/stable/user_guide/indexing.html#returning-a-view-versus-a-copy\n",
      "  self[name] = value\n"
     ]
    }
   ],
   "source": [
    "out6 = make_new_report(df6, out5, '06-04-2020')\n",
    "(remove_ascii(out6)).to_csv('mexico-covid19-2020-04-06.csv', index=False)"
   ]
  },
  {
   "cell_type": "code",
   "execution_count": 27,
   "metadata": {},
   "outputs": [],
   "source": [
    "out7 = make_new_report(df7, out6, '07-04-2020')\n",
    "(remove_ascii(out7)).to_csv('mexico-covid19-2020-04-07.csv', index=False)"
   ]
  },
  {
   "cell_type": "code",
   "execution_count": 28,
   "metadata": {},
   "outputs": [],
   "source": [
    "out8 = make_new_report(df8, out7, '08-04-2020')\n",
    "(remove_ascii(out8)).to_csv('mexico-covid19-2020-04-08.csv', index=False)"
   ]
  },
  {
   "cell_type": "code",
   "execution_count": 29,
   "metadata": {},
   "outputs": [],
   "source": [
    "out9 = make_new_report(df9, out8, '09-04-2020')\n",
    "(remove_ascii(out9)).to_csv('mexico-covid19-2020-04-09.csv', index=False)"
   ]
  },
  {
   "cell_type": "code",
   "execution_count": 30,
   "metadata": {},
   "outputs": [],
   "source": [
    "out10 = make_new_report(df10, out9, '10-04-2020')\n",
    "(remove_ascii(out10)).to_csv('mexico-covid19-2020-04-10.csv', index=False)"
   ]
  },
  {
   "cell_type": "code",
   "execution_count": 31,
   "metadata": {},
   "outputs": [],
   "source": [
    "out11 = make_new_report(df11, out10, '11-04-2020')\n",
    "(remove_ascii(out11)).to_csv('mexico-covid19-2020-04-11.csv', index=False)"
   ]
  },
  {
   "cell_type": "code",
   "execution_count": 32,
   "metadata": {},
   "outputs": [],
   "source": [
    "out12 = make_new_report(df12, out11, '12-04-2020')\n",
    "(remove_ascii(out12)).to_csv('mexico-covid19-2020-04-12.csv', index=False)"
   ]
  },
  {
   "cell_type": "code",
   "execution_count": 33,
   "metadata": {},
   "outputs": [],
   "source": [
    "out13 = make_new_report(df13, out12, '13-04-2020')\n",
    "(remove_ascii(out13)).to_csv('mexico-covid19-2020-04-13.csv', index=False)"
   ]
  },
  {
   "cell_type": "code",
   "execution_count": 34,
   "metadata": {},
   "outputs": [],
   "source": [
    "out14 = make_new_report(df14, out13, '14-04-2020')\n",
    "(remove_ascii(out14)).to_csv('mexico-covid19-2020-04-14.csv', index=False)"
   ]
  },
  {
   "cell_type": "code",
   "execution_count": 35,
   "metadata": {},
   "outputs": [],
   "source": [
    "out15 = make_new_report(df15, out14, '15-04-2020')\n",
    "(remove_ascii(out15)).to_csv('mexico-covid19-2020-04-15.csv', index=False)"
   ]
  },
  {
   "cell_type": "code",
   "execution_count": 36,
   "metadata": {},
   "outputs": [],
   "source": [
    "out16 = make_new_report(df16, out15, '16-04-2020')\n",
    "(remove_ascii(out16)).to_csv('mexico-covid19-2020-04-16.csv', index=False)"
   ]
  }
 ],
 "metadata": {
  "kernelspec": {
   "display_name": "Python 3",
   "language": "python",
   "name": "python3"
  },
  "language_info": {
   "codemirror_mode": {
    "name": "ipython",
    "version": 3
   },
   "file_extension": ".py",
   "mimetype": "text/x-python",
   "name": "python",
   "nbconvert_exporter": "python",
   "pygments_lexer": "ipython3",
   "version": "3.7.4"
  }
 },
 "nbformat": 4,
 "nbformat_minor": 4
}
