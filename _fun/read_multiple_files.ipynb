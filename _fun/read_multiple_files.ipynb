{
 "cells": [
  {
   "cell_type": "raw",
   "metadata": {},
   "source": [
    "def read_multiple_files(directory):\n",
    "    ''' Read multiple csv files and add column with name of directory '''\n",
    "    dfs_folders = []\n",
    "    for folder in os.listdir(directory):\n",
    "        if '.' not in folder: # Annoying ipynb checkpoints :v\n",
    "            print('directory = '+folder)\n",
    "            folder_files = glob.glob(directory+'/'+folder+'/*') # Make sure to separate data sources to its own directory\n",
    "            folder_dataframes = [pd.read_csv(f, low_memory=False) for f in folder_files]\n",
    "            df_folder = pd.concat(folder_dataframes, sort=True)\n",
    "            df_folder['Folder'] = folder\n",
    "            dfs_folders.append(df_folder)\n",
    "    df = pd.concat(dfs_folders, sort=True)\n",
    "    return df"
   ]
  }
 ],
 "metadata": {
  "kernelspec": {
   "display_name": "Python 3",
   "language": "python",
   "name": "python3"
  },
  "language_info": {
   "codemirror_mode": {
    "name": "ipython",
    "version": 3
   },
   "file_extension": ".py",
   "mimetype": "text/x-python",
   "name": "python",
   "nbconvert_exporter": "python",
   "pygments_lexer": "ipython3",
   "version": "3.7.4"
  }
 },
 "nbformat": 4,
 "nbformat_minor": 4
}
