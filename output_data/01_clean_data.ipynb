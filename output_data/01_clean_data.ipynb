{
 "cells": [
  {
   "cell_type": "code",
   "execution_count": 89,
   "metadata": {},
   "outputs": [],
   "source": [
    "# https://github.com/pandas-dev/pandas/issues/7509\n",
    "# https://github.com/pandas-dev/pandas/issues/2626"
   ]
  },
  {
   "cell_type": "code",
   "execution_count": 90,
   "metadata": {},
   "outputs": [],
   "source": [
    "import pandas as pd\n",
    "import numpy as np"
   ]
  },
  {
   "cell_type": "code",
   "execution_count": 91,
   "metadata": {},
   "outputs": [],
   "source": [
    "df1 = pd.read_csv('../data/mexico_covid19_data/raw-mexico-covid19-2020-04-01.csv')\n",
    "df2 = pd.read_csv('../data/mexico_covid19_data/raw-mexico-covid19-2020-04-02.csv')\n",
    "df3 = pd.read_csv('../data/mexico_covid19_data/raw-mexico-covid19-2020-04-03.csv')\n",
    "df4 = pd.read_csv('../data/mexico_covid19_data/raw-mexico-covid19-2020-04-04.csv')\n",
    "df5 = pd.read_csv('../data/mexico_covid19_data/raw-mexico-covid19-2020-04-05.csv')"
   ]
  },
  {
   "cell_type": "markdown",
   "metadata": {},
   "source": [
    "### Old data structure"
   ]
  },
  {
   "cell_type": "code",
   "execution_count": 92,
   "metadata": {},
   "outputs": [],
   "source": [
    "my_dfs = [df1, df2, df3, df4, df5]\n",
    "for df in my_dfs:\n",
    "    for column in df.columns:\n",
    "        if 'Case_ID' in column:\n",
    "            df.drop(column, axis = 1, inplace=True)"
   ]
  },
  {
   "cell_type": "code",
   "execution_count": 106,
   "metadata": {},
   "outputs": [],
   "source": [
    "def combine_data(df_x, df_y, new_date):\n",
    "    \n",
    "    df = df_x.combine_first(df_y)\n",
    "    \n",
    "    df['Date_Confirmed'] = pd.to_datetime(df.Date_Confirmed)\n",
    "    df['Date_Confirmed'] = df['Date_Confirmed'].dt.strftime('%m-%d-%Y')\n",
    "    df['Date_Confirmed'] = df['Date_Confirmed'].replace('NaT', new_date)\n",
    "\n",
    "    df['Date_Symptoms'] = pd.to_datetime(df.Date_Symptoms)\n",
    "    df['Date_Symptoms'] = df['Date_Symptoms'].dt.strftime('%d-%m-%Y')\n",
    "    df['Date_Symptoms'] = df['Date_Symptoms'].replace('NaT', '')\n",
    "    \n",
    "    df['Case_ID'] = np.arange(1, (len(df)+1))\n",
    "    df['Age'] = df['Age'].astype(int)\n",
    "    df['Region'] = df['Region'].str.replace('Á','A').str.replace('É','E').str.replace('Í','I').str.replace('Ó','O').str.replace('Ú','U')\n",
    "    \n",
    "    df = df[['Case_ID','Region','Sex','Age','Origin','Date_Symptoms','Date_Confirmed']]\n",
    "    \n",
    "    return df"
   ]
  },
  {
   "cell_type": "code",
   "execution_count": 94,
   "metadata": {},
   "outputs": [],
   "source": [
    "out1 = df1"
   ]
  },
  {
   "cell_type": "code",
   "execution_count": 96,
   "metadata": {},
   "outputs": [],
   "source": [
    "out1['Date_Confirmed'] = pd.to_datetime(out1.Date_Confirmed)\n",
    "out1['Date_Confirmed'] = out1['Date_Confirmed'].dt.strftime('%d-%m-%Y')"
   ]
  },
  {
   "cell_type": "code",
   "execution_count": 98,
   "metadata": {},
   "outputs": [],
   "source": [
    "out1['Date_Symptoms'] = pd.to_datetime(out1.Date_Symptoms)\n",
    "out1['Date_Symptoms'] = out1['Date_Symptoms'].dt.strftime('%d-%m-%Y')"
   ]
  },
  {
   "cell_type": "code",
   "execution_count": 99,
   "metadata": {},
   "outputs": [],
   "source": [
    "out1['Case_ID'] = np.arange(1, (len(out1)+1))\n",
    "out1 = out1[['Case_ID','Region','Sex','Age','Origin','Date_Symptoms','Date_Confirmed']]\n",
    "out1.Region = out1.Region.str.replace('Á','A').str.replace('É','E').str.replace('Í','I').str.replace('Ó','O').str.replace('Ú','U')"
   ]
  },
  {
   "cell_type": "code",
   "execution_count": 100,
   "metadata": {},
   "outputs": [],
   "source": [
    "out1.to_csv('mexico-covid19-2020-04-01.csv', index=False)"
   ]
  },
  {
   "cell_type": "code",
   "execution_count": 108,
   "metadata": {},
   "outputs": [],
   "source": [
    "out2 = combine_data(out1, df2, '02-04-2020')\n",
    "out2.to_csv('mexico-covid19-2020-04-02.csv', index=False)"
   ]
  },
  {
   "cell_type": "code",
   "execution_count": 109,
   "metadata": {},
   "outputs": [],
   "source": [
    "out3 = combine_data(out2, df3, '03-04-2020')\n",
    "out3.to_csv('mexico-covid19-2020-04-03.csv', index=False)"
   ]
  },
  {
   "cell_type": "code",
   "execution_count": 110,
   "metadata": {},
   "outputs": [],
   "source": [
    "out4 = combine_data(out3, df4, '04-04-2020')\n",
    "out4.to_csv('mexico-covid19-2020-04-04.csv', index=False)"
   ]
  },
  {
   "cell_type": "code",
   "execution_count": 111,
   "metadata": {},
   "outputs": [],
   "source": [
    "out5 = combine_data(out4, df5, '05-04-2020')\n",
    "out5.to_csv('mexico-covid19-2020-04-05.csv', index=False)"
   ]
  },
  {
   "cell_type": "markdown",
   "metadata": {},
   "source": [
    "### New data structure"
   ]
  },
  {
   "cell_type": "code",
   "execution_count": 126,
   "metadata": {},
   "outputs": [],
   "source": [
    "df6 = pd.read_csv('../data/mexico_covid19_data/raw-mexico-covid19-2020-04-06.csv')\n",
    "df7 = pd.read_csv('../data/mexico_covid19_data/raw-mexico-covid19-2020-04-07.csv')\n",
    "df8 = pd.read_csv('../data/mexico_covid19_data/raw-mexico-covid19-2020-04-08.csv')\n",
    "df9 = pd.read_csv('../data/mexico_covid19_data/raw-mexico-covid19-2020-04-09.csv')"
   ]
  },
  {
   "cell_type": "code",
   "execution_count": 127,
   "metadata": {},
   "outputs": [],
   "source": [
    "df10 = pd.read_csv('../data/mexico_covid19_data/raw-mexico-covid19-2020-04-10.csv')\n",
    "df11 = pd.read_csv('../data/mexico_covid19_data/raw-mexico-covid19-2020-04-11.csv')\n",
    "df12 = pd.read_csv('../data/mexico_covid19_data/raw-mexico-covid19-2020-04-12.csv')\n",
    "df13 = pd.read_csv('../data/mexico_covid19_data/raw-mexico-covid19-2020-04-13.csv')\n",
    "df14 = pd.read_csv('../data/mexico_covid19_data/raw-mexico-covid19-2020-04-14.csv')\n",
    "df15 = pd.read_csv('../data/mexico_covid19_data/raw-mexico-covid19-2020-04-15.csv')\n",
    "df16 = pd.read_csv('../data/mexico_covid19_data/raw-mexico-covid19-2020-04-16.csv')"
   ]
  },
  {
   "cell_type": "code",
   "execution_count": 129,
   "metadata": {},
   "outputs": [],
   "source": [
    "def combine_data2(df_x, df_y, new_date):\n",
    "    \n",
    "    df = df_x.combine_first(df_y)\n",
    "    \n",
    "    df['Date_Confirmed'] = pd.to_datetime(df.Date_Confirmed)\n",
    "    df['Date_Confirmed'] = df['Date_Confirmed'].dt.strftime('%d-%m-%Y')\n",
    "    df['Date_Confirmed'] = df['Date_Confirmed'].replace('NaT', new_date)\n",
    "\n",
    "    df['Date_Symptoms'] = pd.to_datetime(df.Date_Symptoms)\n",
    "    df['Date_Symptoms'] = df['Date_Symptoms'].dt.strftime('%d-%m-%Y')\n",
    "    df['Date_Symptoms'] = df['Date_Symptoms'].replace('NaT', '')\n",
    "    \n",
    "    df['Case_ID'] = np.arange(1, (len(df)+1))\n",
    "    df['Age'] = df['Age'].astype(int)\n",
    "    df['Region'] = df['Region'].str.replace('Á','A').str.replace('É','E').str.replace('Í','I').str.replace('Ó','O').str.replace('Ú','U')\n",
    "    \n",
    "    df = df[['Case_ID','Region','Sex','Age','Origin','Date_Symptoms','Date_Confirmed']]\n",
    "    \n",
    "    return df"
   ]
  },
  {
   "cell_type": "code",
   "execution_count": 132,
   "metadata": {},
   "outputs": [],
   "source": [
    "out6 = combine_data2(out5, df6, '06-04-2020')\n",
    "out6['Origin'].fillna('Contacto', inplace=True)\n",
    "out6['Origin'] = out6['Origin'].str.replace('OTRO','Contacto') # Weird string\n",
    "out6.to_csv('mexico-covid19-2020-04-06.csv', index=False)"
   ]
  },
  {
   "cell_type": "code",
   "execution_count": 133,
   "metadata": {},
   "outputs": [],
   "source": [
    "out7 = combine_data2(out6, df7, '07-04-2020')\n",
    "out7['Origin'].fillna('Contacto', inplace=True)\n",
    "out7['Origin'] = out7['Origin'].str.replace('OTRO','Contacto') # Weird string\n",
    "out7.to_csv('mexico-covid19-2020-04-07.csv', index=False)"
   ]
  },
  {
   "cell_type": "code",
   "execution_count": 134,
   "metadata": {},
   "outputs": [],
   "source": [
    "# No 'Origin' column after this; assume it's by 'Contacto'"
   ]
  },
  {
   "cell_type": "code",
   "execution_count": 135,
   "metadata": {},
   "outputs": [],
   "source": [
    "out8 = combine_data2(out7, df8, '08-04-2020')\n",
    "out8['Origin'].fillna('Contacto', inplace=True)\n",
    "out8.to_csv('mexico-covid19-2020-04-08.csv', index=False)"
   ]
  },
  {
   "cell_type": "code",
   "execution_count": 136,
   "metadata": {},
   "outputs": [],
   "source": [
    "out9 = combine_data2(out8, df9, '09-04-2020')\n",
    "out9['Origin'].fillna('Contacto', inplace=True)\n",
    "out9.to_csv('mexico-covid19-2020-04-09.csv', index=False)"
   ]
  },
  {
   "cell_type": "code",
   "execution_count": 137,
   "metadata": {},
   "outputs": [],
   "source": [
    "out10 = combine_data2(out9, df10, '10-04-2020')\n",
    "out10['Origin'].fillna('Contacto', inplace=True)\n",
    "out10.to_csv('mexico-covid19-2020-04-10.csv', index=False)"
   ]
  },
  {
   "cell_type": "code",
   "execution_count": 138,
   "metadata": {},
   "outputs": [],
   "source": [
    "out11 = combine_data2(out10, df11, '11-04-2020')\n",
    "out11['Origin'].fillna('Contacto', inplace=True)\n",
    "out11.to_csv('mexico-covid19-2020-04-11.csv', index=False)"
   ]
  },
  {
   "cell_type": "code",
   "execution_count": 139,
   "metadata": {},
   "outputs": [],
   "source": [
    "out12 = combine_data2(out11, df12, '12-04-2020')\n",
    "out12['Origin'].fillna('Contacto', inplace=True)\n",
    "out12.to_csv('mexico-covid19-2020-04-12.csv', index=False)"
   ]
  },
  {
   "cell_type": "code",
   "execution_count": 140,
   "metadata": {},
   "outputs": [],
   "source": [
    "out13 = combine_data2(out12, df13, '13-04-2020')\n",
    "out13['Origin'].fillna('Contacto', inplace=True)\n",
    "out13.to_csv('mexico-covid19-2020-04-13.csv', index=False)"
   ]
  },
  {
   "cell_type": "code",
   "execution_count": 141,
   "metadata": {},
   "outputs": [],
   "source": [
    "out14 = combine_data2(out13, df14, '14-04-2020')\n",
    "out14['Origin'].fillna('Contacto', inplace=True)\n",
    "out14.to_csv('mexico-covid19-2020-04-14.csv', index=False)"
   ]
  },
  {
   "cell_type": "code",
   "execution_count": 142,
   "metadata": {},
   "outputs": [],
   "source": [
    "out15 = combine_data2(out14, df15, '15-04-2020')\n",
    "out15['Origin'].fillna('Contacto', inplace=True)\n",
    "out15.to_csv('mexico-covid19-2020-04-15.csv', index=False)"
   ]
  },
  {
   "cell_type": "code",
   "execution_count": 143,
   "metadata": {},
   "outputs": [],
   "source": [
    "out16 = combine_data2(out15, df16, '16-04-2020')\n",
    "out16['Origin'].fillna('Contacto', inplace=True)\n",
    "out16.to_csv('mexico-covid19-2020-04-16.csv', index=False)"
   ]
  },
  {
   "cell_type": "code",
   "execution_count": null,
   "metadata": {},
   "outputs": [],
   "source": []
  }
 ],
 "metadata": {
  "kernelspec": {
   "display_name": "Python 3",
   "language": "python",
   "name": "python3"
  },
  "language_info": {
   "codemirror_mode": {
    "name": "ipython",
    "version": 3
   },
   "file_extension": ".py",
   "mimetype": "text/x-python",
   "name": "python",
   "nbconvert_exporter": "python",
   "pygments_lexer": "ipython3",
   "version": "3.7.4"
  }
 },
 "nbformat": 4,
 "nbformat_minor": 4
}
