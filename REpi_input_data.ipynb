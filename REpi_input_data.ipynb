{
 "cells": [
  {
   "cell_type": "code",
   "execution_count": 2,
   "metadata": {},
   "outputs": [
    {
     "name": "stderr",
     "output_type": "stream",
     "text": [
      "\n",
      "Attaching package: ‘lubridate’\n",
      "\n",
      "The following object is masked from ‘package:base’:\n",
      "\n",
      "    date\n",
      "\n",
      "── Attaching packages ─────────────────────────────────────── tidyverse 1.2.1 ──\n",
      "✔ ggplot2 3.0.0     ✔ purrr   0.2.5\n",
      "✔ tibble  1.4.2     ✔ dplyr   0.7.6\n",
      "✔ tidyr   0.8.1     ✔ stringr 1.3.1\n",
      "✔ readr   1.1.1     ✔ forcats 0.3.0\n",
      "── Conflicts ────────────────────────────────────────── tidyverse_conflicts() ──\n",
      "✖ lubridate::as.difftime() masks base::as.difftime()\n",
      "✖ lubridate::date()        masks base::date()\n",
      "✖ dplyr::filter()          masks stats::filter()\n",
      "✖ lubridate::intersect()   masks base::intersect()\n",
      "✖ dplyr::lag()             masks stats::lag()\n",
      "✖ lubridate::setdiff()     masks base::setdiff()\n",
      "✖ lubridate::union()       masks base::union()\n"
     ]
    }
   ],
   "source": [
    "library(\"lubridate\")\n",
    "library(\"tidyverse\")"
   ]
  },
  {
   "cell_type": "code",
   "execution_count": 3,
   "metadata": {},
   "outputs": [
    {
     "name": "stderr",
     "output_type": "stream",
     "text": [
      "Warning message in file(file, \"rt\"):\n",
      "“cannot open URL 'https://raw.githubusercontent.com/marianarf/covid19_mexico_analysis/master/covid_mex_20200410.csv': HTTP status was '404 Not Found'”"
     ]
    },
    {
     "ename": "ERROR",
     "evalue": "Error in file(file, \"rt\"): cannot open the connection to 'https://raw.githubusercontent.com/marianarf/covid19_mexico_analysis/master/covid_mex_20200410.csv'\n",
     "execution_count": 3,
     "output_type": "error",
     "traceback": [
      "Error in file(file, \"rt\"): cannot open the connection to 'https://raw.githubusercontent.com/marianarf/covid19_mexico_analysis/master/covid_mex_20200410.csv'\nTraceback:\n",
      "1. read.csv(\"https://raw.githubusercontent.com/marianarf/covid19_mexico_analysis/master/covid_mex_20200410.csv\")",
      "2. read.table(file = file, header = header, sep = sep, quote = quote, \n .     dec = dec, fill = fill, comment.char = comment.char, ...)",
      "3. file(file, \"rt\")"
     ]
    }
   ],
   "source": [
    "Mex <- read.csv(\"https://raw.githubusercontent.com/marianarf/covid19_mexico_analysis/master/covid_mex_20200410.csv\")\n",
    "Mex$Date_Confirmed <- dmy(as.character(Mex$Date_Confirmed))\n",
    "Mex$Date_Symptoms <- dmy(as.character(Mex$Date_Symptoms))\n",
    "Mex$Date_Symptoms <- dmy(as.character(Mex$Date_Symptoms))\n",
    "Mex$Origin <- if_else(Mex$Origin==\"Contacto\",\"local\",\"imported\")\n",
    "Mex$Origin <- as.factor(Mex$Origin)"
   ]
  },
  {
   "cell_type": "code",
   "execution_count": 75,
   "metadata": {},
   "outputs": [],
   "source": [
    "Mex <- read.csv('https://raw.githubusercontent.com/marianarf/covid19_mexico_analysis/master/output_data/covid_mex_20200410.csv')\n",
    "Mex$Date_Confirmed <- as.Date(Mex$Date_Confirmed, format=\"%d/%m/%y\")\n",
    "Mex$Date_Symptoms <- as.Date(Mex$Date_Symptom, format=\"%d/%m/%y\")\n",
    "Mex$Date_Arrival <- as.Date(Mex$Date_Arrival, format=\"%d/%m/%y\")\n",
    "Mex$Origin <- if_else(Mex$Origin==\"Contacto\",\"local\",\"imported\")\n",
    "Mex$Origin <- as.factor(Mex$Origin)"
   ]
  },
  {
   "cell_type": "code",
   "execution_count": 88,
   "metadata": {},
   "outputs": [],
   "source": [
    "Mex_Clean_arriba50 <- Mex %>% \n",
    "  dplyr::select(-c(Case_ID,Age,Sex,Tested,Date_Arrival)) %>% \n",
    "  group_by(Region,Date_Symptoms,Origin) %>% \n",
    "  summarise(casos = n())  %>% \n",
    "  ungroup() %>% \n",
    "  group_by(Region,Origin) %>% \n",
    "  mutate(acumulado = cumsum(casos))%>% \n",
    "  ungroup() %>% \n",
    "  group_by(Region) %>% \n",
    "  mutate(max = sum(casos)) %>% \n",
    "  filter(max > 50) %>% \n",
    "  dplyr::select(-c(max,casos)) %>% \n",
    "  ungroup() %>% \n",
    "  rename(Estado = Region, \n",
    "         dates = Date_Symptoms, \n",
    "         Origen = Origin, \n",
    "         Incidencia = acumulado)"
   ]
  },
  {
   "cell_type": "code",
   "execution_count": 90,
   "metadata": {},
   "outputs": [
    {
     "data": {
      "text/html": [
       "<table>\n",
       "<thead><tr><th scope=col>Estado</th><th scope=col>dates</th><th scope=col>Origen</th><th scope=col>Incidencia</th></tr></thead>\n",
       "<tbody>\n",
       "\t<tr><td>AGUASCALIENTES</td><td>2020-03-10    </td><td>imported      </td><td> 2            </td></tr>\n",
       "\t<tr><td>AGUASCALIENTES</td><td>2020-03-12    </td><td>imported      </td><td> 3            </td></tr>\n",
       "\t<tr><td>AGUASCALIENTES</td><td>2020-03-12    </td><td>local         </td><td> 1            </td></tr>\n",
       "\t<tr><td>AGUASCALIENTES</td><td>2020-03-14    </td><td>imported      </td><td> 4            </td></tr>\n",
       "\t<tr><td>AGUASCALIENTES</td><td>2020-03-15    </td><td>imported      </td><td> 5            </td></tr>\n",
       "\t<tr><td>AGUASCALIENTES</td><td>2020-03-16    </td><td>imported      </td><td> 6            </td></tr>\n",
       "\t<tr><td>AGUASCALIENTES</td><td>2020-03-16    </td><td>local         </td><td> 4            </td></tr>\n",
       "\t<tr><td>AGUASCALIENTES</td><td>2020-03-17    </td><td>imported      </td><td> 7            </td></tr>\n",
       "\t<tr><td>AGUASCALIENTES</td><td>2020-03-17    </td><td>local         </td><td> 5            </td></tr>\n",
       "\t<tr><td>AGUASCALIENTES</td><td>2020-03-18    </td><td>imported      </td><td> 9            </td></tr>\n",
       "\t<tr><td>AGUASCALIENTES</td><td>2020-03-18    </td><td>local         </td><td> 9            </td></tr>\n",
       "\t<tr><td>AGUASCALIENTES</td><td>2020-03-19    </td><td>imported      </td><td>11            </td></tr>\n",
       "\t<tr><td>AGUASCALIENTES</td><td>2020-03-20    </td><td>imported      </td><td>12            </td></tr>\n",
       "\t<tr><td>AGUASCALIENTES</td><td>2020-03-20    </td><td>local         </td><td>10            </td></tr>\n",
       "\t<tr><td>AGUASCALIENTES</td><td>2020-03-22    </td><td>imported      </td><td>13            </td></tr>\n",
       "</tbody>\n",
       "</table>\n"
      ],
      "text/latex": [
       "\\begin{tabular}{r|llll}\n",
       " Estado & dates & Origen & Incidencia\\\\\n",
       "\\hline\n",
       "\t AGUASCALIENTES & 2020-03-10     & imported       &  2            \\\\\n",
       "\t AGUASCALIENTES & 2020-03-12     & imported       &  3            \\\\\n",
       "\t AGUASCALIENTES & 2020-03-12     & local          &  1            \\\\\n",
       "\t AGUASCALIENTES & 2020-03-14     & imported       &  4            \\\\\n",
       "\t AGUASCALIENTES & 2020-03-15     & imported       &  5            \\\\\n",
       "\t AGUASCALIENTES & 2020-03-16     & imported       &  6            \\\\\n",
       "\t AGUASCALIENTES & 2020-03-16     & local          &  4            \\\\\n",
       "\t AGUASCALIENTES & 2020-03-17     & imported       &  7            \\\\\n",
       "\t AGUASCALIENTES & 2020-03-17     & local          &  5            \\\\\n",
       "\t AGUASCALIENTES & 2020-03-18     & imported       &  9            \\\\\n",
       "\t AGUASCALIENTES & 2020-03-18     & local          &  9            \\\\\n",
       "\t AGUASCALIENTES & 2020-03-19     & imported       & 11            \\\\\n",
       "\t AGUASCALIENTES & 2020-03-20     & imported       & 12            \\\\\n",
       "\t AGUASCALIENTES & 2020-03-20     & local          & 10            \\\\\n",
       "\t AGUASCALIENTES & 2020-03-22     & imported       & 13            \\\\\n",
       "\\end{tabular}\n"
      ],
      "text/markdown": [
       "\n",
       "Estado | dates | Origen | Incidencia | \n",
       "|---|---|---|---|---|---|---|---|---|---|---|---|---|---|---|\n",
       "| AGUASCALIENTES | 2020-03-10     | imported       |  2             | \n",
       "| AGUASCALIENTES | 2020-03-12     | imported       |  3             | \n",
       "| AGUASCALIENTES | 2020-03-12     | local          |  1             | \n",
       "| AGUASCALIENTES | 2020-03-14     | imported       |  4             | \n",
       "| AGUASCALIENTES | 2020-03-15     | imported       |  5             | \n",
       "| AGUASCALIENTES | 2020-03-16     | imported       |  6             | \n",
       "| AGUASCALIENTES | 2020-03-16     | local          |  4             | \n",
       "| AGUASCALIENTES | 2020-03-17     | imported       |  7             | \n",
       "| AGUASCALIENTES | 2020-03-17     | local          |  5             | \n",
       "| AGUASCALIENTES | 2020-03-18     | imported       |  9             | \n",
       "| AGUASCALIENTES | 2020-03-18     | local          |  9             | \n",
       "| AGUASCALIENTES | 2020-03-19     | imported       | 11             | \n",
       "| AGUASCALIENTES | 2020-03-20     | imported       | 12             | \n",
       "| AGUASCALIENTES | 2020-03-20     | local          | 10             | \n",
       "| AGUASCALIENTES | 2020-03-22     | imported       | 13             | \n",
       "\n",
       "\n"
      ],
      "text/plain": [
       "   Estado         dates      Origen   Incidencia\n",
       "1  AGUASCALIENTES 2020-03-10 imported  2        \n",
       "2  AGUASCALIENTES 2020-03-12 imported  3        \n",
       "3  AGUASCALIENTES 2020-03-12 local     1        \n",
       "4  AGUASCALIENTES 2020-03-14 imported  4        \n",
       "5  AGUASCALIENTES 2020-03-15 imported  5        \n",
       "6  AGUASCALIENTES 2020-03-16 imported  6        \n",
       "7  AGUASCALIENTES 2020-03-16 local     4        \n",
       "8  AGUASCALIENTES 2020-03-17 imported  7        \n",
       "9  AGUASCALIENTES 2020-03-17 local     5        \n",
       "10 AGUASCALIENTES 2020-03-18 imported  9        \n",
       "11 AGUASCALIENTES 2020-03-18 local     9        \n",
       "12 AGUASCALIENTES 2020-03-19 imported 11        \n",
       "13 AGUASCALIENTES 2020-03-20 imported 12        \n",
       "14 AGUASCALIENTES 2020-03-20 local    10        \n",
       "15 AGUASCALIENTES 2020-03-22 imported 13        "
      ]
     },
     "metadata": {},
     "output_type": "display_data"
    }
   ],
   "source": [
    "head(Mex_Clean_arriba50, 15)"
   ]
  }
 ],
 "metadata": {
  "kernelspec": {
   "display_name": "R",
   "language": "R",
   "name": "ir"
  },
  "language_info": {
   "codemirror_mode": "r",
   "file_extension": ".r",
   "mimetype": "text/x-r-source",
   "name": "R",
   "pygments_lexer": "r",
   "version": "3.5.1"
  }
 },
 "nbformat": 4,
 "nbformat_minor": 4
}
