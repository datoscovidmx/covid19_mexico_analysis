{
 "cells": [
  {
   "cell_type": "code",
   "execution_count": 30,
   "metadata": {},
   "outputs": [],
   "source": [
    "# An example of building up the structure of a figure as a Python dictionary\n",
    "# and then constructing a graph object figure from that dictionary."
   ]
  },
  {
   "cell_type": "code",
   "execution_count": 31,
   "metadata": {},
   "outputs": [],
   "source": [
    "# https://plotly.com/python/animations/#using-a-slider-and-buttons\n",
    "# https://raw.githubusercontent.com/plotly/datasets/master/gapminderDataFiveYear.csv"
   ]
  },
  {
   "cell_type": "code",
   "execution_count": 46,
   "metadata": {},
   "outputs": [],
   "source": [
    "import pandas as pd"
   ]
  },
  {
   "cell_type": "code",
   "execution_count": 47,
   "metadata": {},
   "outputs": [],
   "source": [
    "dataset = pd.read_csv('output_data/time_series/rolling-time-series.csv')"
   ]
  },
  {
   "cell_type": "code",
   "execution_count": 48,
   "metadata": {},
   "outputs": [],
   "source": [
    "#dataset['Date_Confirmed'] = pd.to_datetime(dataset.Date_Confirmed, format='%d-%m-%Y', errors='coerce')\n",
    "#dataset['Date_Confirmed'] = dataset['Date_Confirmed'].dt.strftime('%d-%m-%Y')"
   ]
  },
  {
   "cell_type": "code",
   "execution_count": 49,
   "metadata": {},
   "outputs": [],
   "source": [
    "from datetime import datetime\n",
    "\n",
    "dataset['Date_Confirmed'] = dataset['Date_Confirmed'].apply(lambda x: datetime.strptime(x, '%Y-%m-%d'))"
   ]
  },
  {
   "cell_type": "code",
   "execution_count": 50,
   "metadata": {},
   "outputs": [],
   "source": [
    "# https://community.plotly.com/t/plotly-doesnt-load-most-of-the-time/32095/3\n",
    "\n",
    "import plotly.graph_objects as go\n",
    "import plotly.io as pio\n",
    "\n",
    "pio.renderers.default = 'chrome'"
   ]
  },
  {
   "cell_type": "code",
   "execution_count": 51,
   "metadata": {},
   "outputs": [],
   "source": [
    "# Make list of regions\n",
    "\n",
    "regions = []\n",
    "\n",
    "for region in dataset['Region']:\n",
    "    if region not in regions:\n",
    "        regions.append(region)"
   ]
  },
  {
   "cell_type": "code",
   "execution_count": 52,
   "metadata": {},
   "outputs": [],
   "source": [
    "years = sorted(list(set(dataset['Date_Confirmed'])))"
   ]
  },
  {
   "cell_type": "code",
   "execution_count": 54,
   "metadata": {},
   "outputs": [],
   "source": [
    "filled_df = []\n",
    "for region in regions:\n",
    "    for year in years:\n",
    "        dataset_by_year = dataset[dataset['Date_Confirmed'] == year]\n",
    "        dataset_by_year_and_region = dataset_by_year[dataset_by_year['Region'] == region]\n",
    "        if len(dataset_by_year_and_region)==0:\n",
    "            dataset_by_year_less = dataset[dataset['Date_Confirmed'] < year]\n",
    "            dataset_by_year_and_region_less = dataset_by_year_less[dataset_by_year_less['Region'] == region]\n",
    "            if len(dataset_by_year_and_region_less)==0:\n",
    "                filled_df.append({'Date_Confirmed': year, 'Region': region, 'total':0, 'daily':0})\n",
    "            else:\n",
    "                last_dict = dataset_by_year_and_region_less.iloc[0].to_dict()\n",
    "                last_dict['Date_Confirmed'] = year\n",
    "                filled_df.append(last_dict)\n",
    "        else:\n",
    "            filled_df.append(dataset_by_year_and_region.iloc[0].to_dict())"
   ]
  },
  {
   "cell_type": "code",
   "execution_count": 55,
   "metadata": {},
   "outputs": [],
   "source": [
    "dataset = pd.DataFrame(filled_df)"
   ]
  },
  {
   "cell_type": "code",
   "execution_count": 56,
   "metadata": {},
   "outputs": [
    {
     "data": {
      "text/plain": [
       "729006.0"
      ]
     },
     "execution_count": 56,
     "metadata": {},
     "output_type": "execute_result"
    }
   ],
   "source": [
    "dataset['total'].max()"
   ]
  },
  {
   "cell_type": "code",
   "execution_count": 57,
   "metadata": {},
   "outputs": [
    {
     "data": {
      "text/plain": [
       "31564.0"
      ]
     },
     "execution_count": 57,
     "metadata": {},
     "output_type": "execute_result"
    }
   ],
   "source": [
    "dataset['daily'].max()"
   ]
  },
  {
   "cell_type": "code",
   "execution_count": 58,
   "metadata": {},
   "outputs": [
    {
     "data": {
      "text/html": [
       "<div>\n",
       "<style scoped>\n",
       "    .dataframe tbody tr th:only-of-type {\n",
       "        vertical-align: middle;\n",
       "    }\n",
       "\n",
       "    .dataframe tbody tr th {\n",
       "        vertical-align: top;\n",
       "    }\n",
       "\n",
       "    .dataframe thead th {\n",
       "        text-align: right;\n",
       "    }\n",
       "</style>\n",
       "<table border=\"1\" class=\"dataframe\">\n",
       "  <thead>\n",
       "    <tr style=\"text-align: right;\">\n",
       "      <th></th>\n",
       "      <th>Date_Confirmed</th>\n",
       "      <th>Region</th>\n",
       "      <th>total</th>\n",
       "      <th>daily</th>\n",
       "    </tr>\n",
       "  </thead>\n",
       "  <tbody>\n",
       "    <tr>\n",
       "      <td>0</td>\n",
       "      <td>2020-03-05</td>\n",
       "      <td>China</td>\n",
       "      <td>2422.0</td>\n",
       "      <td>8.0</td>\n",
       "    </tr>\n",
       "    <tr>\n",
       "      <td>1</td>\n",
       "      <td>2020-03-06</td>\n",
       "      <td>China</td>\n",
       "      <td>2430.0</td>\n",
       "      <td>8.0</td>\n",
       "    </tr>\n",
       "    <tr>\n",
       "      <td>2</td>\n",
       "      <td>2020-03-07</td>\n",
       "      <td>China</td>\n",
       "      <td>2436.0</td>\n",
       "      <td>6.0</td>\n",
       "    </tr>\n",
       "    <tr>\n",
       "      <td>3</td>\n",
       "      <td>2020-03-08</td>\n",
       "      <td>China</td>\n",
       "      <td>2440.0</td>\n",
       "      <td>4.0</td>\n",
       "    </tr>\n",
       "    <tr>\n",
       "      <td>4</td>\n",
       "      <td>2020-03-09</td>\n",
       "      <td>China</td>\n",
       "      <td>2443.0</td>\n",
       "      <td>3.0</td>\n",
       "    </tr>\n",
       "  </tbody>\n",
       "</table>\n",
       "</div>"
      ],
      "text/plain": [
       "  Date_Confirmed Region   total  daily\n",
       "0     2020-03-05  China  2422.0    8.0\n",
       "1     2020-03-06  China  2430.0    8.0\n",
       "2     2020-03-07  China  2436.0    6.0\n",
       "3     2020-03-08  China  2440.0    4.0\n",
       "4     2020-03-09  China  2443.0    3.0"
      ]
     },
     "execution_count": 58,
     "metadata": {},
     "output_type": "execute_result"
    }
   ],
   "source": [
    "dataset.head()"
   ]
  },
  {
   "cell_type": "code",
   "execution_count": 59,
   "metadata": {},
   "outputs": [],
   "source": [
    "#dataset['Date_Confirmed'] = pd.to_datetime(dataset.Date_Confirmed, format='%Y-%m-%d', errors='coerce')"
   ]
  },
  {
   "cell_type": "code",
   "execution_count": 60,
   "metadata": {},
   "outputs": [],
   "source": [
    "#dataset.to_csv('test.csv', index=False)"
   ]
  },
  {
   "cell_type": "code",
   "execution_count": 61,
   "metadata": {},
   "outputs": [
    {
     "data": {
      "text/plain": [
       "9"
      ]
     },
     "execution_count": 61,
     "metadata": {},
     "output_type": "execute_result"
    }
   ],
   "source": [
    "len(str(dataset['total'].max()))+1"
   ]
  },
  {
   "cell_type": "code",
   "execution_count": 62,
   "metadata": {},
   "outputs": [],
   "source": [
    "# Make figure\n",
    "\n",
    "fig_dict = {\n",
    "    'data': [],\n",
    "    'layout': {},\n",
    "    'frames': []\n",
    "}"
   ]
  },
  {
   "cell_type": "code",
   "execution_count": 63,
   "metadata": {},
   "outputs": [],
   "source": [
    "# Fill in most of layout\n",
    "\n",
    "fig_dict['layout']['xaxis'] = {'title': 'casos totales', 'type': 'log', 'range': [0,6]}\n",
    "fig_dict['layout']['yaxis'] = {'title': 'casos diarios', 'type': 'log', 'range': [0,6]}\n",
    "fig_dict['layout']['hovermode'] = 'closest'\n",
    "fig_dict['layout']['sliders'] = {\n",
    "    'args': [\n",
    "        'transition', {\n",
    "            'duration': 400,\n",
    "            'easing': 'cubic-in-out'\n",
    "        }\n",
    "    ],\n",
    "    'initialValue': datetime.strptime('15-02-2020', '%d-%m-%Y').isoformat().split('T')[0],\n",
    "    'plotlycommand': 'animate',\n",
    "    'values': years,\n",
    "    'visible': True\n",
    "    }\n",
    "fig_dict['layout']['updatemenus'] = [\n",
    "    {\n",
    "        'buttons': [\n",
    "            {\n",
    "                'args': [None, {'frame': {'duration': 500, 'redraw': False},\n",
    "                                'fromcurrent': True, 'transition': {'duration': 300,\n",
    "                                                                    'easing': 'quadratic-in-out'}}],\n",
    "                'label': 'Play',\n",
    "                'method': 'animate'\n",
    "            },\n",
    "            {\n",
    "                'args': [[None], {'frame': {'duration': 0, 'redraw': False},\n",
    "                                  'mode': 'immediate',\n",
    "                                  'transition': {'duration': 0}}],\n",
    "                'label': 'Pause',\n",
    "                'method': 'animate'\n",
    "            }\n",
    "        ],\n",
    "        'direction': 'left',\n",
    "        'pad': {'r': 10, 't': 87},\n",
    "        'showactive': False,\n",
    "        'type': 'buttons',\n",
    "        'x': 0.1,\n",
    "        'xanchor': 'right',\n",
    "        'y': 0,\n",
    "        'yanchor': 'top'\n",
    "    }\n",
    "]\n",
    "\n",
    "sliders_dict = {\n",
    "    'active': 0,\n",
    "    'yanchor': 'top',\n",
    "    'xanchor': 'left',\n",
    "    'currentvalue': {\n",
    "        'font': {'size': 20},\n",
    "        'prefix': 'Fecha:',\n",
    "        'visible': True,\n",
    "        'xanchor': 'right'\n",
    "    },\n",
    "    'transition': {'duration': 300, 'easing': 'cubic-in-out'},\n",
    "    'pad': {'b': 10, 't': 50},\n",
    "    'len': 0.9,\n",
    "    'x': 0.1,\n",
    "    'y': 0,\n",
    "    'steps': []\n",
    "}"
   ]
  },
  {
   "cell_type": "code",
   "execution_count": 64,
   "metadata": {},
   "outputs": [],
   "source": [
    "year = datetime.strptime('2020-03-05', '%Y-%m-%d')\n",
    "\n",
    "for region in regions:\n",
    "    \n",
    "    dataset_by_year = dataset[dataset['Date_Confirmed'] == year]\n",
    "    dataset_by_year_and_region = dataset_by_year[dataset_by_year['Region'] == region]\n",
    "    \n",
    "    data_dict = {\n",
    "        'x': list(dataset_by_year_and_region['total']),\n",
    "        'y': list(dataset_by_year_and_region['daily']),\n",
    "        'mode': 'markers',\n",
    "        'text': list(dataset_by_year_and_region['Region']),\n",
    "    }\n",
    "    fig_dict['data'].append(data_dict)"
   ]
  },
  {
   "cell_type": "code",
   "execution_count": 66,
   "metadata": {},
   "outputs": [],
   "source": [
    "# Make frames\n",
    "\n",
    "for year in years:\n",
    "    \n",
    "    frame = {'data': [], 'name': str(year.isoformat().split('T')[0])}\n",
    "    dataset_by_year = dataset[dataset['Date_Confirmed'] <= year]\n",
    "    for region in regions:\n",
    "        dataset_by_year_and_region = dataset_by_year[\n",
    "            dataset_by_year['Region'] == region]\n",
    "        \n",
    "        data_dict = {\n",
    "                    'x': list(dataset_by_year_and_region['total']),\n",
    "                    'y': list(dataset_by_year_and_region['daily']),\n",
    "                    'mode': 'lines',\n",
    "                    'text': list(dataset_by_year_and_region['Region']),\n",
    "                    'name': region\n",
    "            }\n",
    "        frame['data'].append(data_dict)\n",
    "        \n",
    "    fig_dict['frames'].append(frame)\n",
    "    slider_step = {'args': [\n",
    "        [year.isoformat().split('T')[0]],\n",
    "        {'frame': {'duration': 300, 'redraw': False},\n",
    "         'mode': 'immediate',\n",
    "         'transition': {'duration': 300}}\n",
    "    ],\n",
    "        'label': year.isoformat().split('T')[0],\n",
    "        'method': 'animate'}\n",
    "    sliders_dict['steps'].append(slider_step)\n",
    "    \n",
    "fig_dict['layout']['sliders'] = [sliders_dict]"
   ]
  },
  {
   "cell_type": "code",
   "execution_count": 67,
   "metadata": {},
   "outputs": [],
   "source": [
    "#fig_dict['frames'][-1]"
   ]
  },
  {
   "cell_type": "code",
   "execution_count": 68,
   "metadata": {},
   "outputs": [],
   "source": [
    "fig = go.Figure(fig_dict)\n",
    "\n",
    "fig.show()"
   ]
  },
  {
   "cell_type": "code",
   "execution_count": null,
   "metadata": {},
   "outputs": [],
   "source": []
  }
 ],
 "metadata": {
  "kernelspec": {
   "display_name": "Python 3",
   "language": "python",
   "name": "python3"
  },
  "language_info": {
   "codemirror_mode": {
    "name": "ipython",
    "version": 3
   },
   "file_extension": ".py",
   "mimetype": "text/x-python",
   "name": "python",
   "nbconvert_exporter": "python",
   "pygments_lexer": "ipython3",
   "version": "3.7.4"
  }
 },
 "nbformat": 4,
 "nbformat_minor": 4
}
