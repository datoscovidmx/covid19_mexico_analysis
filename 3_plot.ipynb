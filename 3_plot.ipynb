{
 "cells": [
  {
   "cell_type": "code",
   "execution_count": 47,
   "metadata": {},
   "outputs": [],
   "source": [
    "# An example of building up the structure of a figure as a Python dictionary\n",
    "# and then constructing a graph object figure from that dictionary."
   ]
  },
  {
   "cell_type": "code",
   "execution_count": 48,
   "metadata": {},
   "outputs": [],
   "source": [
    "# https://plotly.com/python/animations/#using-a-slider-and-buttons\n",
    "# https://raw.githubusercontent.com/plotly/datasets/master/gapminderDataFiveYear.csv"
   ]
  },
  {
   "cell_type": "code",
   "execution_count": 49,
   "metadata": {},
   "outputs": [],
   "source": [
    "from datetime import datetime\n",
    "\n",
    "import pandas as pd\n",
    "import plotly.graph_objects as go\n",
    "\n",
    "import plotly.io as pio\n",
    "pio.renderers.default = 'chrome' # https://community.plotly.com/t/plotly-doesnt-load-most-of-the-time/32095/3"
   ]
  },
  {
   "cell_type": "code",
   "execution_count": 50,
   "metadata": {},
   "outputs": [],
   "source": [
    "dataset = pd.read_csv('time_series/rolling-time-series.csv')"
   ]
  },
  {
   "cell_type": "code",
   "execution_count": 51,
   "metadata": {},
   "outputs": [],
   "source": [
    "dataset = dataset.replace(regex=['Australia'], value='Australia')\n",
    "dataset = dataset.replace(regex=['India'], value='India')\n",
    "dataset = dataset.replace(regex=['Italy'], value='Italia')\n",
    "dataset = dataset.replace(regex=['Korea, South'], value='Corea del Sur')\n",
    "dataset = dataset.replace(regex=['Mexico'], value='México')\n",
    "dataset = dataset.replace(regex=['Switzerland'], value='Suiza')\n",
    "dataset = dataset.replace(regex=['United Kingdom'], value='Reino Unido')\n",
    "dataset = dataset.replace(regex=['US'], value='USA')"
   ]
  },
  {
   "cell_type": "code",
   "execution_count": 52,
   "metadata": {},
   "outputs": [],
   "source": [
    "dataset['Date_Confirmed'] = dataset['Date_Confirmed'].apply(lambda x: datetime.strptime(x, '%Y-%m-%d'))"
   ]
  },
  {
   "cell_type": "code",
   "execution_count": 53,
   "metadata": {},
   "outputs": [],
   "source": [
    "import janitor\n",
    "dataset = dataset.filter_date('Date_Confirmed','2020-03-10','2020-04-28')"
   ]
  },
  {
   "cell_type": "code",
   "execution_count": 54,
   "metadata": {},
   "outputs": [],
   "source": [
    "# Make list of regions\n",
    "\n",
    "regions = []\n",
    "\n",
    "for region in dataset['Region']:\n",
    "    if region not in regions:\n",
    "        regions.append(region)"
   ]
  },
  {
   "cell_type": "code",
   "execution_count": 55,
   "metadata": {},
   "outputs": [],
   "source": [
    "years = sorted(list(set(dataset['Date_Confirmed'])))"
   ]
  },
  {
   "cell_type": "code",
   "execution_count": 56,
   "metadata": {},
   "outputs": [],
   "source": [
    "filled_df = []\n",
    "\n",
    "for region in regions:\n",
    "    for year in years:\n",
    "        dataset_by_year = dataset[dataset['Date_Confirmed'] == year]\n",
    "        dataset_by_year_and_region = dataset_by_year[dataset_by_year['Region'] == region]\n",
    "        if len(dataset_by_year_and_region) == 0:\n",
    "            dataset_by_year_less = dataset[dataset['Date_Confirmed'] < year]\n",
    "            dataset_by_year_and_region_less = dataset_by_year_less[dataset_by_year_less['Region'] == region]\n",
    "            if len(dataset_by_year_and_region_less) == 0:\n",
    "                filled_df.append({'Date_Confirmed': year, 'Region': region, 'total':0, 'daily':0})\n",
    "            else:\n",
    "                last_dict = dataset_by_year_and_region_less.iloc[0].to_dict()\n",
    "                last_dict['Date_Confirmed'] = year\n",
    "                filled_df.append(last_dict)\n",
    "        else:\n",
    "            filled_df.append(dataset_by_year_and_region.iloc[0].to_dict())"
   ]
  },
  {
   "cell_type": "code",
   "execution_count": 57,
   "metadata": {},
   "outputs": [],
   "source": [
    "dataset = pd.DataFrame(filled_df)"
   ]
  },
  {
   "cell_type": "code",
   "execution_count": 58,
   "metadata": {},
   "outputs": [
    {
     "data": {
      "text/plain": [
       "931371.0"
      ]
     },
     "execution_count": 58,
     "metadata": {},
     "output_type": "execute_result"
    }
   ],
   "source": [
    "dataset['total'].max()"
   ]
  },
  {
   "cell_type": "code",
   "execution_count": 59,
   "metadata": {},
   "outputs": [
    {
     "data": {
      "text/plain": [
       "31595.0"
      ]
     },
     "execution_count": 59,
     "metadata": {},
     "output_type": "execute_result"
    }
   ],
   "source": [
    "dataset['daily'].max()"
   ]
  },
  {
   "cell_type": "code",
   "execution_count": 60,
   "metadata": {},
   "outputs": [
    {
     "data": {
      "text/html": [
       "<div>\n",
       "<style scoped>\n",
       "    .dataframe tbody tr th:only-of-type {\n",
       "        vertical-align: middle;\n",
       "    }\n",
       "\n",
       "    .dataframe tbody tr th {\n",
       "        vertical-align: top;\n",
       "    }\n",
       "\n",
       "    .dataframe thead th {\n",
       "        text-align: right;\n",
       "    }\n",
       "</style>\n",
       "<table border=\"1\" class=\"dataframe\">\n",
       "  <thead>\n",
       "    <tr style=\"text-align: right;\">\n",
       "      <th></th>\n",
       "      <th>Date_Confirmed</th>\n",
       "      <th>Region</th>\n",
       "      <th>total</th>\n",
       "      <th>daily</th>\n",
       "    </tr>\n",
       "  </thead>\n",
       "  <tbody>\n",
       "    <tr>\n",
       "      <td>395</td>\n",
       "      <td>2020-04-24</td>\n",
       "      <td>México</td>\n",
       "      <td>9869.0</td>\n",
       "      <td>857.0</td>\n",
       "    </tr>\n",
       "    <tr>\n",
       "      <td>396</td>\n",
       "      <td>2020-04-25</td>\n",
       "      <td>México</td>\n",
       "      <td>10775.0</td>\n",
       "      <td>906.0</td>\n",
       "    </tr>\n",
       "    <tr>\n",
       "      <td>397</td>\n",
       "      <td>2020-04-26</td>\n",
       "      <td>México</td>\n",
       "      <td>11692.0</td>\n",
       "      <td>917.0</td>\n",
       "    </tr>\n",
       "    <tr>\n",
       "      <td>398</td>\n",
       "      <td>2020-04-27</td>\n",
       "      <td>México</td>\n",
       "      <td>12657.0</td>\n",
       "      <td>965.0</td>\n",
       "    </tr>\n",
       "    <tr>\n",
       "      <td>399</td>\n",
       "      <td>2020-04-28</td>\n",
       "      <td>México</td>\n",
       "      <td>13693.0</td>\n",
       "      <td>1036.0</td>\n",
       "    </tr>\n",
       "  </tbody>\n",
       "</table>\n",
       "</div>"
      ],
      "text/plain": [
       "    Date_Confirmed  Region    total   daily\n",
       "395     2020-04-24  México   9869.0   857.0\n",
       "396     2020-04-25  México  10775.0   906.0\n",
       "397     2020-04-26  México  11692.0   917.0\n",
       "398     2020-04-27  México  12657.0   965.0\n",
       "399     2020-04-28  México  13693.0  1036.0"
      ]
     },
     "execution_count": 60,
     "metadata": {},
     "output_type": "execute_result"
    }
   ],
   "source": [
    "dataset.tail()"
   ]
  },
  {
   "cell_type": "code",
   "execution_count": 61,
   "metadata": {},
   "outputs": [
    {
     "data": {
      "text/plain": [
       "9"
      ]
     },
     "execution_count": 61,
     "metadata": {},
     "output_type": "execute_result"
    }
   ],
   "source": [
    "len(str(dataset['total'].max()))+1"
   ]
  },
  {
   "cell_type": "code",
   "execution_count": 62,
   "metadata": {},
   "outputs": [],
   "source": [
    "fig_dict = {\n",
    "  'data': [],\n",
    "  'layout': {},\n",
    "  'frames': []\n",
    "}"
   ]
  },
  {
   "cell_type": "code",
   "execution_count": 63,
   "metadata": {},
   "outputs": [],
   "source": [
    "fig_dict['layout']['title'] = {\n",
    "  'text': 'Trayectoria global de COVID-19',\n",
    "  'y': 0.9,\n",
    "  'x': 0.5,\n",
    "  'xanchor': 'center',\n",
    "  'yanchor': 'top'\n",
    "}\n",
    "fig_dict['layout']['xaxis'] = {\n",
    "  'title': 'Casos Totales',\n",
    "  'type': 'log',\n",
    "  'range': [0, 6]\n",
    "}\n",
    "fig_dict['layout']['yaxis'] = {\n",
    "  'title': 'Casos Nuevos',\n",
    "  'type': 'log',\n",
    "  'range': [0, 6]\n",
    "}\n",
    "fig_dict['layout']['hovermode'] = 'closest'\n",
    "fig_dict['layout']['sliders'] = {\n",
    "  'args': [\n",
    "    'transition', {\n",
    "      'duration': 200,\n",
    "      'easing': 'cubic-in-out'\n",
    "    }\n",
    "  ],\n",
    "  'initialValue': datetime.strptime('10-03-2020', '%d-%m-%Y').isoformat().split('T')[0],\n",
    "  'plotlycommand': 'animate',\n",
    "  'values': years,\n",
    "  'visible': True\n",
    "}\n",
    "fig_dict['layout']['updatemenus'] = [{\n",
    "  'buttons': [{\n",
    "      'args': [None, {\n",
    "        'frame': {\n",
    "          'duration': 500,\n",
    "          'redraw': False\n",
    "        },\n",
    "        'fromcurrent': True,\n",
    "        'transition': {\n",
    "          'duration': 300,\n",
    "          'easing': 'quadratic-in-out'\n",
    "        }\n",
    "      }],\n",
    "      'label': 'Play',\n",
    "      'method': 'animate'\n",
    "    },\n",
    "    {\n",
    "      'args': [\n",
    "        [None], {\n",
    "          'frame': {\n",
    "            'duration': 0,\n",
    "            'redraw': False\n",
    "          },\n",
    "          'mode': 'immediate',\n",
    "          'transition': {\n",
    "            'duration': 0\n",
    "          }\n",
    "        }\n",
    "      ],\n",
    "      'label': 'Pause',\n",
    "      'method': 'animate'\n",
    "    }\n",
    "  ],\n",
    "  'direction': 'left',\n",
    "  'pad': {\n",
    "    'r': 10,\n",
    "    't': 30,\n",
    "  },\n",
    "  'showactive': True,\n",
    "  'type': 'buttons',\n",
    "  'x': 0.1,\n",
    "  'xanchor': 'right',\n",
    "  'y': 0,\n",
    "  'yanchor': 'top'\n",
    "}]"
   ]
  },
  {
   "cell_type": "code",
   "execution_count": 64,
   "metadata": {},
   "outputs": [],
   "source": [
    "sliders_dict = {\n",
    "  'active': 0,\n",
    "  'yanchor': 'top',\n",
    "  'xanchor': 'left',\n",
    "  'currentvalue': {\n",
    "    'font': {\n",
    "      'size': 15\n",
    "    },\n",
    "    'prefix': 'Fecha:',\n",
    "    'visible': True,\n",
    "    'xanchor': 'right'\n",
    "  },\n",
    "  'transition': {\n",
    "    'duration': 300,\n",
    "    'easing': 'cubic-in-out'\n",
    "  },\n",
    "  'pad': {\n",
    "    'r': 0,\n",
    "    't': 50,\n",
    "  },\n",
    "  'len': 1,\n",
    "  'steps': []\n",
    "}"
   ]
  },
  {
   "cell_type": "code",
   "execution_count": 65,
   "metadata": {},
   "outputs": [],
   "source": [
    "year = datetime.strptime('2020-03-10', '%Y-%m-%d')\n",
    "\n",
    "for region in regions:\n",
    "    \n",
    "    dataset_by_year = dataset[dataset['Date_Confirmed'] == year]\n",
    "    dataset_by_year_and_region = dataset_by_year[dataset_by_year['Region'] == region]\n",
    "    \n",
    "    line_color = 'red' if region == 'México' else '#A9A9A9'\n",
    "    \n",
    "    data_dict = {\n",
    "        'x': list(dataset_by_year_and_region['total']),\n",
    "        'y': list(dataset_by_year_and_region['daily']),\n",
    "        'mode': 'lines',\n",
    "        'text': list(dataset_by_year_and_region['Region']),\n",
    "        'line_color': line_color,\n",
    "        #'hoverinfo': 'none',\n",
    "    }\n",
    "    \n",
    "    data_dict_2 = {\n",
    "        'x': list(dataset_by_year_and_region['total']),\n",
    "        'y': list(dataset_by_year_and_region['daily']),\n",
    "        'mode': 'lines',\n",
    "        'text': list(dataset_by_year_and_region['Region']),\n",
    "        'line_color': line_color,\n",
    "        #'hoverinfo': 'none',\n",
    "    }\n",
    "    \n",
    "    fig_dict['data'].append(data_dict)\n",
    "    fig_dict['data'].append(data_dict_2)"
   ]
  },
  {
   "cell_type": "code",
   "execution_count": 66,
   "metadata": {},
   "outputs": [],
   "source": [
    "# Make frames"
   ]
  },
  {
   "cell_type": "code",
   "execution_count": 67,
   "metadata": {},
   "outputs": [],
   "source": [
    "for y, year in enumerate(years):\n",
    "    \n",
    "    frame = {'data': [], 'name': str(year.isoformat().split('T')[0])}\n",
    "    frame_2 = frame.copy()\n",
    "    \n",
    "    dataset_by_year = dataset[dataset['Date_Confirmed'] <= year]\n",
    "    \n",
    "    for region in regions:\n",
    "        dataset_by_year_and_region = dataset_by_year[\n",
    "            dataset_by_year['Region'] == region]\n",
    "        \n",
    "        line_color = 'red' if region == 'México' else '#A9A9A9'\n",
    "            \n",
    "        data_dict = {\n",
    "                    'x': list(dataset_by_year_and_region['total']),\n",
    "                    'y': list(dataset_by_year_and_region['daily']),\n",
    "                    'mode': 'lines',\n",
    "                    'text': list(dataset_by_year_and_region['Region']),\n",
    "                    'textposition': 'bottom center',\n",
    "                    'name': region,\n",
    "                    'line_color': line_color,\n",
    "                    #'hoverinfo': 'none',\n",
    "            }\n",
    "        \n",
    "        data_dict_2 = {\n",
    "                    'x': [list(dataset_by_year_and_region['total'])[-1]],\n",
    "                    'y': [list(dataset_by_year_and_region['daily'])[-1]],\n",
    "                    'mode': 'markers+text',\n",
    "                    'text': [list(dataset_by_year_and_region['Region'])[-1]],\n",
    "                    'textposition': 'bottom center',\n",
    "                    'name': region,\n",
    "                    'line_color': line_color,\n",
    "                    #'hoverinfo': 'none',\n",
    "            }\n",
    "        \n",
    "        frame['data'].append(data_dict)\n",
    "        frame['data'].append(data_dict_2)\n",
    "        \n",
    "    fig_dict['frames'].append(frame)\n",
    "    \n",
    "    slider_step = {'args': [\n",
    "        [year.isoformat().split('T')[0]],\n",
    "        {'frame': {'duration': 200, 'redraw': True},\n",
    "         'mode': 'immediate',\n",
    "         'transition': {'duration': 200}}\n",
    "    ],\n",
    "        'label': year.isoformat().split('T')[0],\n",
    "        'method': 'animate'}\n",
    "    \n",
    "    sliders_dict['steps'].append(slider_step)\n",
    "    \n",
    "fig_dict['layout']['sliders'] = [sliders_dict]"
   ]
  },
  {
   "cell_type": "code",
   "execution_count": 68,
   "metadata": {},
   "outputs": [],
   "source": [
    "fig = go.Figure(fig_dict)\n",
    "\n",
    "fig.show()"
   ]
  },
  {
   "cell_type": "code",
   "execution_count": 69,
   "metadata": {},
   "outputs": [],
   "source": [
    "# 'hovertemplate': 'Nuevos casos: %{y:.0f}</br>Casos Totales: %{x:.0f}<extra></extra>'"
   ]
  },
  {
   "cell_type": "code",
   "execution_count": 70,
   "metadata": {},
   "outputs": [],
   "source": [
    "# fig_dict['frames'][-1]"
   ]
  },
  {
   "cell_type": "code",
   "execution_count": 71,
   "metadata": {},
   "outputs": [],
   "source": [
    "# https://plotly.com/python/interactive-html-export/\n",
    "fig.write_html('plot.html')"
   ]
  },
  {
   "cell_type": "code",
   "execution_count": null,
   "metadata": {},
   "outputs": [],
   "source": []
  }
 ],
 "metadata": {
  "kernelspec": {
   "display_name": "Python 3",
   "language": "python",
   "name": "python3"
  },
  "language_info": {
   "codemirror_mode": {
    "name": "ipython",
    "version": 3
   },
   "file_extension": ".py",
   "mimetype": "text/x-python",
   "name": "python",
   "nbconvert_exporter": "python",
   "pygments_lexer": "ipython3",
   "version": "3.7.4"
  }
 },
 "nbformat": 4,
 "nbformat_minor": 4
}
