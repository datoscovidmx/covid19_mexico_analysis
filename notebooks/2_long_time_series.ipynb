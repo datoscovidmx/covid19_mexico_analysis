{
 "cells": [
  {
   "cell_type": "code",
   "execution_count": 58,
   "metadata": {},
   "outputs": [],
   "source": [
    "import pandas as pd\n",
    "import janitor"
   ]
  },
  {
   "cell_type": "code",
   "execution_count": 59,
   "metadata": {},
   "outputs": [],
   "source": [
    "# Group and keep columns with 'as_index'\n",
    "# https://stackoverflow.com/questions/31569549/how-to-groupby-a-dataframe-in-pandas-and-keep-columns"
   ]
  },
  {
   "cell_type": "markdown",
   "metadata": {},
   "source": [
    "### Daily report data"
   ]
  },
  {
   "cell_type": "code",
   "execution_count": 60,
   "metadata": {},
   "outputs": [],
   "source": [
    "data = pd.read_csv('../latest_raw.csv', encoding='utf-8')\n",
    "data = data.drop(['MUNICIPIO_RES'], axis=1) # readily drop this column"
   ]
  },
  {
   "cell_type": "code",
   "execution_count": 61,
   "metadata": {},
   "outputs": [
    {
     "name": "stdout",
     "output_type": "stream",
     "text": [
      "False\n"
     ]
    }
   ],
   "source": [
    "print(data.set_index(['ID_REGISTRO']).index.is_unique) # ids are not unique... it's unclear how reports are aggregated"
   ]
  },
  {
   "cell_type": "code",
   "execution_count": 62,
   "metadata": {},
   "outputs": [],
   "source": [
    "data['FECHA_INGRESO'] = pd.to_datetime(data.FECHA_INGRESO, format='%Y-%m-%d', errors='coerce')\n",
    "data['FECHA_INGRESO'] = data['FECHA_INGRESO'].dt.strftime('%Y-%m-%d')\n",
    "data = data.set_index(pd.DatetimeIndex(data['FECHA_INGRESO'])).sort_index()"
   ]
  },
  {
   "cell_type": "code",
   "execution_count": 63,
   "metadata": {},
   "outputs": [
    {
     "data": {
      "text/plain": [
       "292124"
      ]
     },
     "execution_count": 63,
     "metadata": {},
     "output_type": "execute_result"
    }
   ],
   "source": [
    "len(data)"
   ]
  },
  {
   "cell_type": "markdown",
   "metadata": {},
   "source": [
    "### Note\n",
    "Daily report for april 20 (ie, reported in 21 april) stops using testing site (ENTIDAD_UM),\n",
    "<br>\n",
    "And starts using region of residence (ENTIDAD_RES) so we shall treat both sets of data accordingly"
   ]
  },
  {
   "cell_type": "raw",
   "metadata": {},
   "source": [
    "dat"
   ]
  },
  {
   "cell_type": "code",
   "execution_count": 64,
   "metadata": {},
   "outputs": [],
   "source": [
    "dat = data.copy()"
   ]
  },
  {
   "cell_type": "code",
   "execution_count": 65,
   "metadata": {},
   "outputs": [],
   "source": [
    "tbl_x = dat.filter_date('FECHA_INGRESO','2020-01-06','2020-04-20')\n",
    "tbl_x = tbl_x.drop(['ENTIDAD_RES'], axis=1) # drop by region\n",
    "tbl_x = tbl_x.set_index(\n",
    "    ['FECHA_INGRESO', 'FECHA_SINTOMAS', 'FECHA_DEF', 'ENTIDAD_UM', 'ID_REGISTRO', 'PAIS_ORIGEN']\n",
    ")\n",
    "tbl_x = tbl_x.groupby(\n",
    "    ['FECHA_INGRESO', 'FECHA_SINTOMAS', 'FECHA_DEF', 'ENTIDAD_UM', 'ID_REGISTRO', 'PAIS_ORIGEN'], as_index=True).count().reset_index()\n",
    "tbl_x = tbl_x.rename(columns={'ENTIDAD_UM':'Region_ID'})"
   ]
  },
  {
   "cell_type": "code",
   "execution_count": 66,
   "metadata": {},
   "outputs": [],
   "source": [
    "tbl_y = dat.filter_date('FECHA_INGRESO','2020-04-21','2022-12-31') # the long con\n",
    "tbl_y = tbl_y.drop(['ENTIDAD_UM'], axis=1) # drop by region\n",
    "tbl_y = tbl_y.set_index(\n",
    "    ['FECHA_INGRESO', 'FECHA_SINTOMAS', 'FECHA_DEF', 'ENTIDAD_RES', 'ID_REGISTRO', 'PAIS_ORIGEN']\n",
    ")\n",
    "tbl_y = tbl_y.groupby(\n",
    "    ['FECHA_INGRESO', 'FECHA_SINTOMAS', 'FECHA_DEF', 'ENTIDAD_RES', 'ID_REGISTRO', 'PAIS_ORIGEN'], as_index=True).count().reset_index()\n",
    "tbl_y = tbl_y.rename(columns={'ENTIDAD_RES':'Region_ID'})"
   ]
  },
  {
   "cell_type": "code",
   "execution_count": 67,
   "metadata": {},
   "outputs": [],
   "source": [
    "tbl = pd.concat([tbl_x, tbl_y])"
   ]
  },
  {
   "cell_type": "code",
   "execution_count": 68,
   "metadata": {},
   "outputs": [
    {
     "data": {
      "text/html": [
       "<div>\n",
       "<style scoped>\n",
       "    .dataframe tbody tr th:only-of-type {\n",
       "        vertical-align: middle;\n",
       "    }\n",
       "\n",
       "    .dataframe tbody tr th {\n",
       "        vertical-align: top;\n",
       "    }\n",
       "\n",
       "    .dataframe thead th {\n",
       "        text-align: right;\n",
       "    }\n",
       "</style>\n",
       "<table border=\"1\" class=\"dataframe\">\n",
       "  <thead>\n",
       "    <tr style=\"text-align: right;\">\n",
       "      <th></th>\n",
       "      <th>FECHA_INGRESO</th>\n",
       "      <th>FECHA_SINTOMAS</th>\n",
       "      <th>FECHA_DEF</th>\n",
       "      <th>Region_ID</th>\n",
       "      <th>ID_REGISTRO</th>\n",
       "      <th>PAIS_ORIGEN</th>\n",
       "      <th>RESULTADO</th>\n",
       "    </tr>\n",
       "  </thead>\n",
       "  <tbody>\n",
       "    <tr>\n",
       "      <td>0</td>\n",
       "      <td>2020-01-06</td>\n",
       "      <td>2020-01-06</td>\n",
       "      <td>9999-99-99</td>\n",
       "      <td>18</td>\n",
       "      <td>09f6d9</td>\n",
       "      <td>Local</td>\n",
       "      <td>15</td>\n",
       "    </tr>\n",
       "    <tr>\n",
       "      <td>1</td>\n",
       "      <td>2020-01-08</td>\n",
       "      <td>2020-01-08</td>\n",
       "      <td>9999-99-99</td>\n",
       "      <td>30</td>\n",
       "      <td>1c29f8</td>\n",
       "      <td>Local</td>\n",
       "      <td>13</td>\n",
       "    </tr>\n",
       "    <tr>\n",
       "      <td>2</td>\n",
       "      <td>2020-01-14</td>\n",
       "      <td>2020-01-14</td>\n",
       "      <td>9999-99-99</td>\n",
       "      <td>1</td>\n",
       "      <td>0ceb0f</td>\n",
       "      <td>Local</td>\n",
       "      <td>7</td>\n",
       "    </tr>\n",
       "    <tr>\n",
       "      <td>3</td>\n",
       "      <td>2020-01-27</td>\n",
       "      <td>2020-01-27</td>\n",
       "      <td>9999-99-99</td>\n",
       "      <td>15</td>\n",
       "      <td>1879e0</td>\n",
       "      <td>Local</td>\n",
       "      <td>1</td>\n",
       "    </tr>\n",
       "    <tr>\n",
       "      <td>4</td>\n",
       "      <td>2020-01-28</td>\n",
       "      <td>2020-01-25</td>\n",
       "      <td>9999-99-99</td>\n",
       "      <td>3</td>\n",
       "      <td>146a80</td>\n",
       "      <td>Local</td>\n",
       "      <td>1</td>\n",
       "    </tr>\n",
       "    <tr>\n",
       "      <td>...</td>\n",
       "      <td>...</td>\n",
       "      <td>...</td>\n",
       "      <td>...</td>\n",
       "      <td>...</td>\n",
       "      <td>...</td>\n",
       "      <td>...</td>\n",
       "      <td>...</td>\n",
       "    </tr>\n",
       "    <tr>\n",
       "      <td>11842</td>\n",
       "      <td>2020-05-03</td>\n",
       "      <td>2020-05-01</td>\n",
       "      <td>9999-99-99</td>\n",
       "      <td>25</td>\n",
       "      <td>192d9b</td>\n",
       "      <td>Local</td>\n",
       "      <td>1</td>\n",
       "    </tr>\n",
       "    <tr>\n",
       "      <td>11843</td>\n",
       "      <td>2020-05-03</td>\n",
       "      <td>2020-05-02</td>\n",
       "      <td>2020-05-03</td>\n",
       "      <td>27</td>\n",
       "      <td>1651ee</td>\n",
       "      <td>Local</td>\n",
       "      <td>1</td>\n",
       "    </tr>\n",
       "    <tr>\n",
       "      <td>11844</td>\n",
       "      <td>2020-05-03</td>\n",
       "      <td>2020-05-02</td>\n",
       "      <td>9999-99-99</td>\n",
       "      <td>14</td>\n",
       "      <td>0db6a0</td>\n",
       "      <td>Local</td>\n",
       "      <td>1</td>\n",
       "    </tr>\n",
       "    <tr>\n",
       "      <td>11845</td>\n",
       "      <td>2020-05-03</td>\n",
       "      <td>2020-05-02</td>\n",
       "      <td>9999-99-99</td>\n",
       "      <td>31</td>\n",
       "      <td>04bc6f</td>\n",
       "      <td>Local</td>\n",
       "      <td>1</td>\n",
       "    </tr>\n",
       "    <tr>\n",
       "      <td>11846</td>\n",
       "      <td>2020-05-03</td>\n",
       "      <td>2020-05-03</td>\n",
       "      <td>9999-99-99</td>\n",
       "      <td>28</td>\n",
       "      <td>0bc634</td>\n",
       "      <td>Local</td>\n",
       "      <td>1</td>\n",
       "    </tr>\n",
       "  </tbody>\n",
       "</table>\n",
       "<p>26653 rows × 7 columns</p>\n",
       "</div>"
      ],
      "text/plain": [
       "      FECHA_INGRESO FECHA_SINTOMAS   FECHA_DEF  Region_ID ID_REGISTRO  \\\n",
       "0        2020-01-06     2020-01-06  9999-99-99         18      09f6d9   \n",
       "1        2020-01-08     2020-01-08  9999-99-99         30      1c29f8   \n",
       "2        2020-01-14     2020-01-14  9999-99-99          1      0ceb0f   \n",
       "3        2020-01-27     2020-01-27  9999-99-99         15      1879e0   \n",
       "4        2020-01-28     2020-01-25  9999-99-99          3      146a80   \n",
       "...             ...            ...         ...        ...         ...   \n",
       "11842    2020-05-03     2020-05-01  9999-99-99         25      192d9b   \n",
       "11843    2020-05-03     2020-05-02  2020-05-03         27      1651ee   \n",
       "11844    2020-05-03     2020-05-02  9999-99-99         14      0db6a0   \n",
       "11845    2020-05-03     2020-05-02  9999-99-99         31      04bc6f   \n",
       "11846    2020-05-03     2020-05-03  9999-99-99         28      0bc634   \n",
       "\n",
       "      PAIS_ORIGEN  RESULTADO  \n",
       "0           Local         15  \n",
       "1           Local         13  \n",
       "2           Local          7  \n",
       "3           Local          1  \n",
       "4           Local          1  \n",
       "...           ...        ...  \n",
       "11842       Local          1  \n",
       "11843       Local          1  \n",
       "11844       Local          1  \n",
       "11845       Local          1  \n",
       "11846       Local          1  \n",
       "\n",
       "[26653 rows x 7 columns]"
      ]
     },
     "execution_count": 68,
     "metadata": {},
     "output_type": "execute_result"
    }
   ],
   "source": [
    "tbl"
   ]
  },
  {
   "cell_type": "code",
   "execution_count": 69,
   "metadata": {},
   "outputs": [],
   "source": [
    "tbl = tbl.rename(\n",
    "    columns={\n",
    "        'FECHA_INGRESO':'Date_Confirmed',\n",
    "        'FECHA_SINTOMAS':'Date_Symptoms',\n",
    "        'ID_REGISTRO':'Case_ID',\n",
    "        'RESULTADO':'Status',\n",
    "        'PAIS_ORIGEN':'Origin'\n",
    "    })"
   ]
  },
  {
   "cell_type": "code",
   "execution_count": 70,
   "metadata": {},
   "outputs": [],
   "source": [
    "tbl['Status'] = '1'"
   ]
  },
  {
   "cell_type": "code",
   "execution_count": 71,
   "metadata": {},
   "outputs": [
    {
     "data": {
      "text/html": [
       "<div>\n",
       "<style scoped>\n",
       "    .dataframe tbody tr th:only-of-type {\n",
       "        vertical-align: middle;\n",
       "    }\n",
       "\n",
       "    .dataframe tbody tr th {\n",
       "        vertical-align: top;\n",
       "    }\n",
       "\n",
       "    .dataframe thead th {\n",
       "        text-align: right;\n",
       "    }\n",
       "</style>\n",
       "<table border=\"1\" class=\"dataframe\">\n",
       "  <thead>\n",
       "    <tr style=\"text-align: right;\">\n",
       "      <th></th>\n",
       "      <th>Date_Confirmed</th>\n",
       "      <th>Date_Symptoms</th>\n",
       "      <th>FECHA_DEF</th>\n",
       "      <th>Region_ID</th>\n",
       "      <th>Case_ID</th>\n",
       "      <th>Origin</th>\n",
       "      <th>Status</th>\n",
       "    </tr>\n",
       "  </thead>\n",
       "  <tbody>\n",
       "    <tr>\n",
       "      <td>0</td>\n",
       "      <td>2020-01-06</td>\n",
       "      <td>2020-01-06</td>\n",
       "      <td>9999-99-99</td>\n",
       "      <td>18</td>\n",
       "      <td>09f6d9</td>\n",
       "      <td>Local</td>\n",
       "      <td>1</td>\n",
       "    </tr>\n",
       "    <tr>\n",
       "      <td>1</td>\n",
       "      <td>2020-01-08</td>\n",
       "      <td>2020-01-08</td>\n",
       "      <td>9999-99-99</td>\n",
       "      <td>30</td>\n",
       "      <td>1c29f8</td>\n",
       "      <td>Local</td>\n",
       "      <td>1</td>\n",
       "    </tr>\n",
       "    <tr>\n",
       "      <td>2</td>\n",
       "      <td>2020-01-14</td>\n",
       "      <td>2020-01-14</td>\n",
       "      <td>9999-99-99</td>\n",
       "      <td>1</td>\n",
       "      <td>0ceb0f</td>\n",
       "      <td>Local</td>\n",
       "      <td>1</td>\n",
       "    </tr>\n",
       "    <tr>\n",
       "      <td>3</td>\n",
       "      <td>2020-01-27</td>\n",
       "      <td>2020-01-27</td>\n",
       "      <td>9999-99-99</td>\n",
       "      <td>15</td>\n",
       "      <td>1879e0</td>\n",
       "      <td>Local</td>\n",
       "      <td>1</td>\n",
       "    </tr>\n",
       "    <tr>\n",
       "      <td>4</td>\n",
       "      <td>2020-01-28</td>\n",
       "      <td>2020-01-25</td>\n",
       "      <td>9999-99-99</td>\n",
       "      <td>3</td>\n",
       "      <td>146a80</td>\n",
       "      <td>Local</td>\n",
       "      <td>1</td>\n",
       "    </tr>\n",
       "    <tr>\n",
       "      <td>...</td>\n",
       "      <td>...</td>\n",
       "      <td>...</td>\n",
       "      <td>...</td>\n",
       "      <td>...</td>\n",
       "      <td>...</td>\n",
       "      <td>...</td>\n",
       "      <td>...</td>\n",
       "    </tr>\n",
       "    <tr>\n",
       "      <td>11842</td>\n",
       "      <td>2020-05-03</td>\n",
       "      <td>2020-05-01</td>\n",
       "      <td>9999-99-99</td>\n",
       "      <td>25</td>\n",
       "      <td>192d9b</td>\n",
       "      <td>Local</td>\n",
       "      <td>1</td>\n",
       "    </tr>\n",
       "    <tr>\n",
       "      <td>11843</td>\n",
       "      <td>2020-05-03</td>\n",
       "      <td>2020-05-02</td>\n",
       "      <td>2020-05-03</td>\n",
       "      <td>27</td>\n",
       "      <td>1651ee</td>\n",
       "      <td>Local</td>\n",
       "      <td>1</td>\n",
       "    </tr>\n",
       "    <tr>\n",
       "      <td>11844</td>\n",
       "      <td>2020-05-03</td>\n",
       "      <td>2020-05-02</td>\n",
       "      <td>9999-99-99</td>\n",
       "      <td>14</td>\n",
       "      <td>0db6a0</td>\n",
       "      <td>Local</td>\n",
       "      <td>1</td>\n",
       "    </tr>\n",
       "    <tr>\n",
       "      <td>11845</td>\n",
       "      <td>2020-05-03</td>\n",
       "      <td>2020-05-02</td>\n",
       "      <td>9999-99-99</td>\n",
       "      <td>31</td>\n",
       "      <td>04bc6f</td>\n",
       "      <td>Local</td>\n",
       "      <td>1</td>\n",
       "    </tr>\n",
       "    <tr>\n",
       "      <td>11846</td>\n",
       "      <td>2020-05-03</td>\n",
       "      <td>2020-05-03</td>\n",
       "      <td>9999-99-99</td>\n",
       "      <td>28</td>\n",
       "      <td>0bc634</td>\n",
       "      <td>Local</td>\n",
       "      <td>1</td>\n",
       "    </tr>\n",
       "  </tbody>\n",
       "</table>\n",
       "<p>26653 rows × 7 columns</p>\n",
       "</div>"
      ],
      "text/plain": [
       "      Date_Confirmed Date_Symptoms   FECHA_DEF  Region_ID Case_ID Origin  \\\n",
       "0         2020-01-06    2020-01-06  9999-99-99         18  09f6d9  Local   \n",
       "1         2020-01-08    2020-01-08  9999-99-99         30  1c29f8  Local   \n",
       "2         2020-01-14    2020-01-14  9999-99-99          1  0ceb0f  Local   \n",
       "3         2020-01-27    2020-01-27  9999-99-99         15  1879e0  Local   \n",
       "4         2020-01-28    2020-01-25  9999-99-99          3  146a80  Local   \n",
       "...              ...           ...         ...        ...     ...    ...   \n",
       "11842     2020-05-03    2020-05-01  9999-99-99         25  192d9b  Local   \n",
       "11843     2020-05-03    2020-05-02  2020-05-03         27  1651ee  Local   \n",
       "11844     2020-05-03    2020-05-02  9999-99-99         14  0db6a0  Local   \n",
       "11845     2020-05-03    2020-05-02  9999-99-99         31  04bc6f  Local   \n",
       "11846     2020-05-03    2020-05-03  9999-99-99         28  0bc634  Local   \n",
       "\n",
       "      Status  \n",
       "0          1  \n",
       "1          1  \n",
       "2          1  \n",
       "3          1  \n",
       "4          1  \n",
       "...      ...  \n",
       "11842      1  \n",
       "11843      1  \n",
       "11844      1  \n",
       "11845      1  \n",
       "11846      1  \n",
       "\n",
       "[26653 rows x 7 columns]"
      ]
     },
     "execution_count": 71,
     "metadata": {},
     "output_type": "execute_result"
    }
   ],
   "source": [
    "tbl"
   ]
  },
  {
   "cell_type": "code",
   "execution_count": 72,
   "metadata": {},
   "outputs": [],
   "source": [
    "#tbl[~tbl.FECHA_DEF.str.startswith(('9999'))]\n",
    "tbl = tbl[tbl.FECHA_DEF.str.startswith(('9999'))] # Not deceased"
   ]
  },
  {
   "cell_type": "code",
   "execution_count": 73,
   "metadata": {},
   "outputs": [],
   "source": [
    "tbl = tbl.drop(['FECHA_DEF'], axis=1)"
   ]
  },
  {
   "cell_type": "code",
   "execution_count": 74,
   "metadata": {},
   "outputs": [
    {
     "data": {
      "text/html": [
       "<div>\n",
       "<style scoped>\n",
       "    .dataframe tbody tr th:only-of-type {\n",
       "        vertical-align: middle;\n",
       "    }\n",
       "\n",
       "    .dataframe tbody tr th {\n",
       "        vertical-align: top;\n",
       "    }\n",
       "\n",
       "    .dataframe thead th {\n",
       "        text-align: right;\n",
       "    }\n",
       "</style>\n",
       "<table border=\"1\" class=\"dataframe\">\n",
       "  <thead>\n",
       "    <tr style=\"text-align: right;\">\n",
       "      <th></th>\n",
       "      <th>Date_Confirmed</th>\n",
       "      <th>Date_Symptoms</th>\n",
       "      <th>Region_ID</th>\n",
       "      <th>Case_ID</th>\n",
       "      <th>Origin</th>\n",
       "      <th>Status</th>\n",
       "    </tr>\n",
       "  </thead>\n",
       "  <tbody>\n",
       "    <tr>\n",
       "      <td>0</td>\n",
       "      <td>2020-01-06</td>\n",
       "      <td>2020-01-06</td>\n",
       "      <td>18</td>\n",
       "      <td>09f6d9</td>\n",
       "      <td>Local</td>\n",
       "      <td>1</td>\n",
       "    </tr>\n",
       "    <tr>\n",
       "      <td>1</td>\n",
       "      <td>2020-01-08</td>\n",
       "      <td>2020-01-08</td>\n",
       "      <td>30</td>\n",
       "      <td>1c29f8</td>\n",
       "      <td>Local</td>\n",
       "      <td>1</td>\n",
       "    </tr>\n",
       "    <tr>\n",
       "      <td>2</td>\n",
       "      <td>2020-01-14</td>\n",
       "      <td>2020-01-14</td>\n",
       "      <td>1</td>\n",
       "      <td>0ceb0f</td>\n",
       "      <td>Local</td>\n",
       "      <td>1</td>\n",
       "    </tr>\n",
       "    <tr>\n",
       "      <td>3</td>\n",
       "      <td>2020-01-27</td>\n",
       "      <td>2020-01-27</td>\n",
       "      <td>15</td>\n",
       "      <td>1879e0</td>\n",
       "      <td>Local</td>\n",
       "      <td>1</td>\n",
       "    </tr>\n",
       "    <tr>\n",
       "      <td>4</td>\n",
       "      <td>2020-01-28</td>\n",
       "      <td>2020-01-25</td>\n",
       "      <td>3</td>\n",
       "      <td>146a80</td>\n",
       "      <td>Local</td>\n",
       "      <td>1</td>\n",
       "    </tr>\n",
       "    <tr>\n",
       "      <td>...</td>\n",
       "      <td>...</td>\n",
       "      <td>...</td>\n",
       "      <td>...</td>\n",
       "      <td>...</td>\n",
       "      <td>...</td>\n",
       "      <td>...</td>\n",
       "    </tr>\n",
       "    <tr>\n",
       "      <td>11841</td>\n",
       "      <td>2020-05-03</td>\n",
       "      <td>2020-05-01</td>\n",
       "      <td>25</td>\n",
       "      <td>0d5f1e</td>\n",
       "      <td>Local</td>\n",
       "      <td>1</td>\n",
       "    </tr>\n",
       "    <tr>\n",
       "      <td>11842</td>\n",
       "      <td>2020-05-03</td>\n",
       "      <td>2020-05-01</td>\n",
       "      <td>25</td>\n",
       "      <td>192d9b</td>\n",
       "      <td>Local</td>\n",
       "      <td>1</td>\n",
       "    </tr>\n",
       "    <tr>\n",
       "      <td>11844</td>\n",
       "      <td>2020-05-03</td>\n",
       "      <td>2020-05-02</td>\n",
       "      <td>14</td>\n",
       "      <td>0db6a0</td>\n",
       "      <td>Local</td>\n",
       "      <td>1</td>\n",
       "    </tr>\n",
       "    <tr>\n",
       "      <td>11845</td>\n",
       "      <td>2020-05-03</td>\n",
       "      <td>2020-05-02</td>\n",
       "      <td>31</td>\n",
       "      <td>04bc6f</td>\n",
       "      <td>Local</td>\n",
       "      <td>1</td>\n",
       "    </tr>\n",
       "    <tr>\n",
       "      <td>11846</td>\n",
       "      <td>2020-05-03</td>\n",
       "      <td>2020-05-03</td>\n",
       "      <td>28</td>\n",
       "      <td>0bc634</td>\n",
       "      <td>Local</td>\n",
       "      <td>1</td>\n",
       "    </tr>\n",
       "  </tbody>\n",
       "</table>\n",
       "<p>24344 rows × 6 columns</p>\n",
       "</div>"
      ],
      "text/plain": [
       "      Date_Confirmed Date_Symptoms  Region_ID Case_ID Origin Status\n",
       "0         2020-01-06    2020-01-06         18  09f6d9  Local      1\n",
       "1         2020-01-08    2020-01-08         30  1c29f8  Local      1\n",
       "2         2020-01-14    2020-01-14          1  0ceb0f  Local      1\n",
       "3         2020-01-27    2020-01-27         15  1879e0  Local      1\n",
       "4         2020-01-28    2020-01-25          3  146a80  Local      1\n",
       "...              ...           ...        ...     ...    ...    ...\n",
       "11841     2020-05-03    2020-05-01         25  0d5f1e  Local      1\n",
       "11842     2020-05-03    2020-05-01         25  192d9b  Local      1\n",
       "11844     2020-05-03    2020-05-02         14  0db6a0  Local      1\n",
       "11845     2020-05-03    2020-05-02         31  04bc6f  Local      1\n",
       "11846     2020-05-03    2020-05-03         28  0bc634  Local      1\n",
       "\n",
       "[24344 rows x 6 columns]"
      ]
     },
     "execution_count": 74,
     "metadata": {},
     "output_type": "execute_result"
    }
   ],
   "source": [
    "tbl"
   ]
  },
  {
   "cell_type": "code",
   "execution_count": 75,
   "metadata": {},
   "outputs": [],
   "source": [
    "geo = pd.read_csv('../data/geo/entidades.csv')"
   ]
  },
  {
   "cell_type": "code",
   "execution_count": 76,
   "metadata": {},
   "outputs": [
    {
     "data": {
      "text/plain": [
       "Index(['CLAVE_ENTIDAD', 'ENTIDAD_FEDERATIVA', 'ABREVIATURA'], dtype='object')"
      ]
     },
     "execution_count": 76,
     "metadata": {},
     "output_type": "execute_result"
    }
   ],
   "source": [
    "geo.keys()"
   ]
  },
  {
   "cell_type": "code",
   "execution_count": 77,
   "metadata": {},
   "outputs": [],
   "source": [
    "geo = geo.rename(columns={'CLAVE_ENTIDAD':'Region_ID', 'ENTIDAD_FEDERATIVA':'Region', 'ABREVIATURA':'Region_Key'})"
   ]
  },
  {
   "cell_type": "code",
   "execution_count": 78,
   "metadata": {},
   "outputs": [],
   "source": [
    "output = pd.merge(tbl, geo, on='Region_ID') "
   ]
  },
  {
   "cell_type": "code",
   "execution_count": 79,
   "metadata": {},
   "outputs": [],
   "source": [
    "output = output[['Date_Confirmed', 'Date_Symptoms', 'Region', 'Region_ID', 'Region_Key', 'Origin']]"
   ]
  },
  {
   "cell_type": "code",
   "execution_count": 80,
   "metadata": {},
   "outputs": [
    {
     "data": {
      "text/html": [
       "<div>\n",
       "<style scoped>\n",
       "    .dataframe tbody tr th:only-of-type {\n",
       "        vertical-align: middle;\n",
       "    }\n",
       "\n",
       "    .dataframe tbody tr th {\n",
       "        vertical-align: top;\n",
       "    }\n",
       "\n",
       "    .dataframe thead th {\n",
       "        text-align: right;\n",
       "    }\n",
       "</style>\n",
       "<table border=\"1\" class=\"dataframe\">\n",
       "  <thead>\n",
       "    <tr style=\"text-align: right;\">\n",
       "      <th></th>\n",
       "      <th>Date_Confirmed</th>\n",
       "      <th>Date_Symptoms</th>\n",
       "      <th>Region</th>\n",
       "      <th>Region_ID</th>\n",
       "      <th>Region_Key</th>\n",
       "      <th>Origin</th>\n",
       "    </tr>\n",
       "  </thead>\n",
       "  <tbody>\n",
       "    <tr>\n",
       "      <td>0</td>\n",
       "      <td>2020-01-06</td>\n",
       "      <td>2020-01-06</td>\n",
       "      <td>NAYARIT</td>\n",
       "      <td>18</td>\n",
       "      <td>NT</td>\n",
       "      <td>Local</td>\n",
       "    </tr>\n",
       "    <tr>\n",
       "      <td>1</td>\n",
       "      <td>2020-03-18</td>\n",
       "      <td>2020-03-17</td>\n",
       "      <td>NAYARIT</td>\n",
       "      <td>18</td>\n",
       "      <td>NT</td>\n",
       "      <td>Local</td>\n",
       "    </tr>\n",
       "    <tr>\n",
       "      <td>2</td>\n",
       "      <td>2020-03-19</td>\n",
       "      <td>2020-03-10</td>\n",
       "      <td>NAYARIT</td>\n",
       "      <td>18</td>\n",
       "      <td>NT</td>\n",
       "      <td>Local</td>\n",
       "    </tr>\n",
       "    <tr>\n",
       "      <td>3</td>\n",
       "      <td>2020-03-23</td>\n",
       "      <td>2020-03-19</td>\n",
       "      <td>NAYARIT</td>\n",
       "      <td>18</td>\n",
       "      <td>NT</td>\n",
       "      <td>Local</td>\n",
       "    </tr>\n",
       "    <tr>\n",
       "      <td>4</td>\n",
       "      <td>2020-03-24</td>\n",
       "      <td>2020-03-21</td>\n",
       "      <td>NAYARIT</td>\n",
       "      <td>18</td>\n",
       "      <td>NT</td>\n",
       "      <td>Local</td>\n",
       "    </tr>\n",
       "    <tr>\n",
       "      <td>...</td>\n",
       "      <td>...</td>\n",
       "      <td>...</td>\n",
       "      <td>...</td>\n",
       "      <td>...</td>\n",
       "      <td>...</td>\n",
       "      <td>...</td>\n",
       "    </tr>\n",
       "    <tr>\n",
       "      <td>24339</td>\n",
       "      <td>2020-05-02</td>\n",
       "      <td>2020-04-18</td>\n",
       "      <td>TLAXCALA</td>\n",
       "      <td>29</td>\n",
       "      <td>TL</td>\n",
       "      <td>Local</td>\n",
       "    </tr>\n",
       "    <tr>\n",
       "      <td>24340</td>\n",
       "      <td>2020-05-02</td>\n",
       "      <td>2020-04-24</td>\n",
       "      <td>TLAXCALA</td>\n",
       "      <td>29</td>\n",
       "      <td>TL</td>\n",
       "      <td>Local</td>\n",
       "    </tr>\n",
       "    <tr>\n",
       "      <td>24341</td>\n",
       "      <td>2020-05-02</td>\n",
       "      <td>2020-04-27</td>\n",
       "      <td>TLAXCALA</td>\n",
       "      <td>29</td>\n",
       "      <td>TL</td>\n",
       "      <td>Local</td>\n",
       "    </tr>\n",
       "    <tr>\n",
       "      <td>24342</td>\n",
       "      <td>2020-05-02</td>\n",
       "      <td>2020-04-29</td>\n",
       "      <td>TLAXCALA</td>\n",
       "      <td>29</td>\n",
       "      <td>TL</td>\n",
       "      <td>Local</td>\n",
       "    </tr>\n",
       "    <tr>\n",
       "      <td>24343</td>\n",
       "      <td>2020-05-02</td>\n",
       "      <td>2020-04-30</td>\n",
       "      <td>TLAXCALA</td>\n",
       "      <td>29</td>\n",
       "      <td>TL</td>\n",
       "      <td>Local</td>\n",
       "    </tr>\n",
       "  </tbody>\n",
       "</table>\n",
       "<p>24344 rows × 6 columns</p>\n",
       "</div>"
      ],
      "text/plain": [
       "      Date_Confirmed Date_Symptoms    Region  Region_ID Region_Key Origin\n",
       "0         2020-01-06    2020-01-06   NAYARIT         18         NT  Local\n",
       "1         2020-03-18    2020-03-17   NAYARIT         18         NT  Local\n",
       "2         2020-03-19    2020-03-10   NAYARIT         18         NT  Local\n",
       "3         2020-03-23    2020-03-19   NAYARIT         18         NT  Local\n",
       "4         2020-03-24    2020-03-21   NAYARIT         18         NT  Local\n",
       "...              ...           ...       ...        ...        ...    ...\n",
       "24339     2020-05-02    2020-04-18  TLAXCALA         29         TL  Local\n",
       "24340     2020-05-02    2020-04-24  TLAXCALA         29         TL  Local\n",
       "24341     2020-05-02    2020-04-27  TLAXCALA         29         TL  Local\n",
       "24342     2020-05-02    2020-04-29  TLAXCALA         29         TL  Local\n",
       "24343     2020-05-02    2020-04-30  TLAXCALA         29         TL  Local\n",
       "\n",
       "[24344 rows x 6 columns]"
      ]
     },
     "execution_count": 80,
     "metadata": {},
     "output_type": "execute_result"
    }
   ],
   "source": [
    "output"
   ]
  },
  {
   "cell_type": "code",
   "execution_count": 81,
   "metadata": {},
   "outputs": [],
   "source": [
    "output['Region'] = output['Region'].str.replace('COAHUILA DE ZARAGOZA','COAHUILA')\n",
    "output['Region'] = output['Region'].str.replace('MICHOACÁN DE OCAMPO','MICHOACAN')\n",
    "output['Region'] = output['Region'].str.replace('VERACRUZ DE IGNACIO DE LA LLAVE','VERACRUZ')"
   ]
  },
  {
   "cell_type": "code",
   "execution_count": 82,
   "metadata": {},
   "outputs": [],
   "source": [
    "output = output.sort_values(['Date_Confirmed', 'Date_Symptoms', 'Region'])"
   ]
  },
  {
   "cell_type": "code",
   "execution_count": 83,
   "metadata": {},
   "outputs": [
    {
     "data": {
      "text/plain": [
       "array(['NAYARIT', 'VERACRUZ', 'AGUASCALIENTES', 'MÉXICO',\n",
       "       'BAJA CALIFORNIA SUR', 'GUANAJUATO', 'BAJA CALIFORNIA',\n",
       "       'CIUDAD DE MÉXICO', 'COAHUILA', 'SINALOA', 'CHIAPAS', 'YUCATÁN',\n",
       "       'MORELOS', 'NUEVO LEÓN', 'QUERÉTARO', 'PUEBLA', 'DURANGO',\n",
       "       'JALISCO', 'QUINTANA ROO', 'CAMPECHE', 'SAN LUIS POTOSÍ',\n",
       "       'GUERRERO', 'OAXACA', 'CHIHUAHUA', 'COLIMA', 'SONORA',\n",
       "       'TAMAULIPAS', 'HIDALGO', 'TABASCO', 'MICHOACAN', 'ZACATECAS',\n",
       "       'TLAXCALA'], dtype=object)"
      ]
     },
     "execution_count": 83,
     "metadata": {},
     "output_type": "execute_result"
    }
   ],
   "source": [
    "output.Region.unique()"
   ]
  },
  {
   "cell_type": "code",
   "execution_count": 84,
   "metadata": {},
   "outputs": [
    {
     "data": {
      "text/plain": [
       "array(['Local', 'Alemania', 'Estados Unidos de América',\n",
       "       'Estados Unidos de Am�rica', 'República de Honduras',\n",
       "       'Rep�blica de Honduras', 'Venezuela', 'Cuba', 'Guatemala', 'Otro',\n",
       "       'Perú', 'Per�', 'Camerún', 'Camer�n', 'Chile', 'El Salvador',\n",
       "       'Canad�', 'Brasil', 'Colombia', 'Ecuador', 'Hait�'], dtype=object)"
      ]
     },
     "execution_count": 84,
     "metadata": {},
     "output_type": "execute_result"
    }
   ],
   "source": [
    "output.Origin.unique()"
   ]
  },
  {
   "cell_type": "code",
   "execution_count": 85,
   "metadata": {},
   "outputs": [],
   "source": [
    "output.to_csv('../latest.csv', index=False)"
   ]
  }
 ],
 "metadata": {
  "kernelspec": {
   "display_name": "Python 3",
   "language": "python",
   "name": "python3"
  },
  "language_info": {
   "codemirror_mode": {
    "name": "ipython",
    "version": 3
   },
   "file_extension": ".py",
   "mimetype": "text/x-python",
   "name": "python",
   "nbconvert_exporter": "python",
   "pygments_lexer": "ipython3",
   "version": "3.7.4"
  }
 },
 "nbformat": 4,
 "nbformat_minor": 4
}
