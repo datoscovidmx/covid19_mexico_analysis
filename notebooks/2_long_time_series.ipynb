{
 "cells": [
  {
   "cell_type": "code",
   "execution_count": 1,
   "metadata": {},
   "outputs": [],
   "source": [
    "import pandas as pd\n",
    "import janitor"
   ]
  },
  {
   "cell_type": "code",
   "execution_count": 2,
   "metadata": {},
   "outputs": [],
   "source": [
    "# Group and keep columns with 'as_index'\n",
    "# https://stackoverflow.com/questions/31569549/how-to-groupby-a-dataframe-in-pandas-and-keep-columns"
   ]
  },
  {
   "cell_type": "markdown",
   "metadata": {},
   "source": [
    "### Daily report data"
   ]
  },
  {
   "cell_type": "code",
   "execution_count": 3,
   "metadata": {},
   "outputs": [],
   "source": [
    "data = pd.read_csv('../latest_raw.csv', encoding='utf-8')\n",
    "data = data.drop(['MUNICIPIO_RES'], axis=1) # readily drop this column"
   ]
  },
  {
   "cell_type": "code",
   "execution_count": 4,
   "metadata": {},
   "outputs": [
    {
     "name": "stdout",
     "output_type": "stream",
     "text": [
      "False\n"
     ]
    }
   ],
   "source": [
    "print(data.set_index(['ID_REGISTRO']).index.is_unique)"
   ]
  },
  {
   "cell_type": "code",
   "execution_count": 5,
   "metadata": {},
   "outputs": [],
   "source": [
    "data['FECHA_INGRESO'] = pd.to_datetime(data.FECHA_INGRESO, format='%Y-%m-%d', errors='coerce')\n",
    "data['FECHA_INGRESO'] = data['FECHA_INGRESO'].dt.strftime('%Y-%m-%d')\n",
    "data = data.set_index(pd.DatetimeIndex(data['FECHA_INGRESO'])).sort_index()"
   ]
  },
  {
   "cell_type": "code",
   "execution_count": 6,
   "metadata": {},
   "outputs": [
    {
     "data": {
      "text/plain": [
       "765794"
      ]
     },
     "execution_count": 6,
     "metadata": {},
     "output_type": "execute_result"
    }
   ],
   "source": [
    "len(data)"
   ]
  },
  {
   "cell_type": "markdown",
   "metadata": {},
   "source": [
    "### Note\n",
    "Daily report for april 20 (ie, reported in 21 april) stops using testing site (ENTIDAD_UM),\n",
    "<br>\n",
    "And starts using region of residence (ENTIDAD_RES) so we shall treat both sets of data accordingly"
   ]
  },
  {
   "cell_type": "raw",
   "metadata": {},
   "source": [
    "dat"
   ]
  },
  {
   "cell_type": "code",
   "execution_count": 7,
   "metadata": {},
   "outputs": [],
   "source": [
    "dat = data.copy()"
   ]
  },
  {
   "cell_type": "code",
   "execution_count": 8,
   "metadata": {},
   "outputs": [],
   "source": [
    "tbl_x = dat.filter_date('FECHA_INGRESO','2020-01-06','2020-04-20')\n",
    "tbl_x = tbl_x.drop(['ENTIDAD_RES'], axis=1) # drop by region\n",
    "tbl_x = tbl_x.set_index(\n",
    "    ['FECHA_INGRESO', 'FECHA_SINTOMAS', 'FECHA_DEF', 'ENTIDAD_UM', 'ID_REGISTRO', 'PAIS_ORIGEN', 'RESULTADO']\n",
    ")\n",
    "tbl_x = tbl_x.groupby(\n",
    "    ['FECHA_INGRESO', 'FECHA_SINTOMAS', 'FECHA_DEF', 'ENTIDAD_UM', 'ID_REGISTRO', 'PAIS_ORIGEN', 'RESULTADO'], as_index=True).count().reset_index()\n",
    "tbl_x = tbl_x.rename(columns={'ENTIDAD_UM':'Region_ID'})"
   ]
  },
  {
   "cell_type": "code",
   "execution_count": 9,
   "metadata": {},
   "outputs": [],
   "source": [
    "tbl_y = dat.filter_date('FECHA_INGRESO','2020-04-21','2022-12-31') # the long con\n",
    "tbl_y = tbl_y.drop(['ENTIDAD_UM'], axis=1) # drop by region\n",
    "tbl_y = tbl_y.set_index(\n",
    "    ['FECHA_INGRESO', 'FECHA_SINTOMAS', 'FECHA_DEF', 'ENTIDAD_RES', 'ID_REGISTRO', 'PAIS_ORIGEN', 'RESULTADO']\n",
    ")\n",
    "tbl_y = tbl_y.groupby(\n",
    "    ['FECHA_INGRESO', 'FECHA_SINTOMAS', 'FECHA_DEF', 'ENTIDAD_RES', 'ID_REGISTRO', 'PAIS_ORIGEN', 'RESULTADO'], as_index=True).count().reset_index()\n",
    "tbl_y = tbl_y.rename(columns={'ENTIDAD_RES':'Region_ID'})"
   ]
  },
  {
   "cell_type": "code",
   "execution_count": 10,
   "metadata": {},
   "outputs": [],
   "source": [
    "tbl = pd.concat([tbl_x, tbl_y])"
   ]
  },
  {
   "cell_type": "code",
   "execution_count": 11,
   "metadata": {},
   "outputs": [
    {
     "data": {
      "text/html": [
       "<div>\n",
       "<style scoped>\n",
       "    .dataframe tbody tr th:only-of-type {\n",
       "        vertical-align: middle;\n",
       "    }\n",
       "\n",
       "    .dataframe tbody tr th {\n",
       "        vertical-align: top;\n",
       "    }\n",
       "\n",
       "    .dataframe thead th {\n",
       "        text-align: right;\n",
       "    }\n",
       "</style>\n",
       "<table border=\"1\" class=\"dataframe\">\n",
       "  <thead>\n",
       "    <tr style=\"text-align: right;\">\n",
       "      <th></th>\n",
       "      <th>FECHA_INGRESO</th>\n",
       "      <th>FECHA_SINTOMAS</th>\n",
       "      <th>FECHA_DEF</th>\n",
       "      <th>Region_ID</th>\n",
       "      <th>ID_REGISTRO</th>\n",
       "      <th>PAIS_ORIGEN</th>\n",
       "      <th>RESULTADO</th>\n",
       "    </tr>\n",
       "  </thead>\n",
       "  <tbody>\n",
       "    <tr>\n",
       "      <td>0</td>\n",
       "      <td>2020-01-06</td>\n",
       "      <td>2020-01-02</td>\n",
       "      <td>9999-99-99</td>\n",
       "      <td>14</td>\n",
       "      <td>05afcc</td>\n",
       "      <td>Local</td>\n",
       "      <td>2</td>\n",
       "    </tr>\n",
       "    <tr>\n",
       "      <td>1</td>\n",
       "      <td>2020-01-06</td>\n",
       "      <td>2020-01-02</td>\n",
       "      <td>9999-99-99</td>\n",
       "      <td>23</td>\n",
       "      <td>1c405f</td>\n",
       "      <td>Local</td>\n",
       "      <td>2</td>\n",
       "    </tr>\n",
       "    <tr>\n",
       "      <td>2</td>\n",
       "      <td>2020-01-06</td>\n",
       "      <td>2020-01-03</td>\n",
       "      <td>9999-99-99</td>\n",
       "      <td>5</td>\n",
       "      <td>0131f0</td>\n",
       "      <td>Local</td>\n",
       "      <td>2</td>\n",
       "    </tr>\n",
       "    <tr>\n",
       "      <td>3</td>\n",
       "      <td>2020-01-06</td>\n",
       "      <td>2020-01-03</td>\n",
       "      <td>9999-99-99</td>\n",
       "      <td>9</td>\n",
       "      <td>105f1c</td>\n",
       "      <td>Local</td>\n",
       "      <td>2</td>\n",
       "    </tr>\n",
       "    <tr>\n",
       "      <td>4</td>\n",
       "      <td>2020-01-06</td>\n",
       "      <td>2020-01-03</td>\n",
       "      <td>9999-99-99</td>\n",
       "      <td>14</td>\n",
       "      <td>01fefc</td>\n",
       "      <td>Local</td>\n",
       "      <td>2</td>\n",
       "    </tr>\n",
       "    <tr>\n",
       "      <td>...</td>\n",
       "      <td>...</td>\n",
       "      <td>...</td>\n",
       "      <td>...</td>\n",
       "      <td>...</td>\n",
       "      <td>...</td>\n",
       "      <td>...</td>\n",
       "      <td>...</td>\n",
       "    </tr>\n",
       "    <tr>\n",
       "      <td>68148</td>\n",
       "      <td>2020-05-04</td>\n",
       "      <td>2020-05-04</td>\n",
       "      <td>9999-99-99</td>\n",
       "      <td>28</td>\n",
       "      <td>19e963</td>\n",
       "      <td>Local</td>\n",
       "      <td>3</td>\n",
       "    </tr>\n",
       "    <tr>\n",
       "      <td>68149</td>\n",
       "      <td>2020-05-04</td>\n",
       "      <td>2020-05-04</td>\n",
       "      <td>9999-99-99</td>\n",
       "      <td>28</td>\n",
       "      <td>1a4556</td>\n",
       "      <td>Local</td>\n",
       "      <td>3</td>\n",
       "    </tr>\n",
       "    <tr>\n",
       "      <td>68150</td>\n",
       "      <td>2020-05-04</td>\n",
       "      <td>2020-05-04</td>\n",
       "      <td>9999-99-99</td>\n",
       "      <td>28</td>\n",
       "      <td>1d4827</td>\n",
       "      <td>Local</td>\n",
       "      <td>3</td>\n",
       "    </tr>\n",
       "    <tr>\n",
       "      <td>68151</td>\n",
       "      <td>2020-05-04</td>\n",
       "      <td>2020-05-04</td>\n",
       "      <td>9999-99-99</td>\n",
       "      <td>28</td>\n",
       "      <td>1dc515</td>\n",
       "      <td>Local</td>\n",
       "      <td>3</td>\n",
       "    </tr>\n",
       "    <tr>\n",
       "      <td>68152</td>\n",
       "      <td>2020-05-04</td>\n",
       "      <td>2020-05-04</td>\n",
       "      <td>9999-99-99</td>\n",
       "      <td>30</td>\n",
       "      <td>0d9758</td>\n",
       "      <td>Local</td>\n",
       "      <td>3</td>\n",
       "    </tr>\n",
       "  </tbody>\n",
       "</table>\n",
       "<p>127146 rows × 7 columns</p>\n",
       "</div>"
      ],
      "text/plain": [
       "      FECHA_INGRESO FECHA_SINTOMAS   FECHA_DEF  Region_ID ID_REGISTRO  \\\n",
       "0        2020-01-06     2020-01-02  9999-99-99         14      05afcc   \n",
       "1        2020-01-06     2020-01-02  9999-99-99         23      1c405f   \n",
       "2        2020-01-06     2020-01-03  9999-99-99          5      0131f0   \n",
       "3        2020-01-06     2020-01-03  9999-99-99          9      105f1c   \n",
       "4        2020-01-06     2020-01-03  9999-99-99         14      01fefc   \n",
       "...             ...            ...         ...        ...         ...   \n",
       "68148    2020-05-04     2020-05-04  9999-99-99         28      19e963   \n",
       "68149    2020-05-04     2020-05-04  9999-99-99         28      1a4556   \n",
       "68150    2020-05-04     2020-05-04  9999-99-99         28      1d4827   \n",
       "68151    2020-05-04     2020-05-04  9999-99-99         28      1dc515   \n",
       "68152    2020-05-04     2020-05-04  9999-99-99         30      0d9758   \n",
       "\n",
       "      PAIS_ORIGEN  RESULTADO  \n",
       "0           Local          2  \n",
       "1           Local          2  \n",
       "2           Local          2  \n",
       "3           Local          2  \n",
       "4           Local          2  \n",
       "...           ...        ...  \n",
       "68148       Local          3  \n",
       "68149       Local          3  \n",
       "68150       Local          3  \n",
       "68151       Local          3  \n",
       "68152       Local          3  \n",
       "\n",
       "[127146 rows x 7 columns]"
      ]
     },
     "execution_count": 11,
     "metadata": {},
     "output_type": "execute_result"
    }
   ],
   "source": [
    "tbl"
   ]
  },
  {
   "cell_type": "code",
   "execution_count": 12,
   "metadata": {},
   "outputs": [],
   "source": [
    "tbl = tbl.rename(\n",
    "    columns={\n",
    "        'FECHA_INGRESO':'Date_Confirmed',\n",
    "        'FECHA_SINTOMAS':'Date_Symptoms',\n",
    "        'FECHA_DEF':'Date_Death',\n",
    "        'ID_REGISTRO':'Case_ID',\n",
    "        'RESULTADO':'Status',\n",
    "        'PAIS_ORIGEN':'Origin'\n",
    "    })"
   ]
  },
  {
   "cell_type": "code",
   "execution_count": 13,
   "metadata": {},
   "outputs": [
    {
     "data": {
      "text/html": [
       "<div>\n",
       "<style scoped>\n",
       "    .dataframe tbody tr th:only-of-type {\n",
       "        vertical-align: middle;\n",
       "    }\n",
       "\n",
       "    .dataframe tbody tr th {\n",
       "        vertical-align: top;\n",
       "    }\n",
       "\n",
       "    .dataframe thead th {\n",
       "        text-align: right;\n",
       "    }\n",
       "</style>\n",
       "<table border=\"1\" class=\"dataframe\">\n",
       "  <thead>\n",
       "    <tr style=\"text-align: right;\">\n",
       "      <th></th>\n",
       "      <th>Date_Confirmed</th>\n",
       "      <th>Date_Symptoms</th>\n",
       "      <th>Date_Death</th>\n",
       "      <th>Region_ID</th>\n",
       "      <th>Case_ID</th>\n",
       "      <th>Origin</th>\n",
       "      <th>Status</th>\n",
       "    </tr>\n",
       "  </thead>\n",
       "  <tbody>\n",
       "    <tr>\n",
       "      <td>0</td>\n",
       "      <td>2020-01-06</td>\n",
       "      <td>2020-01-02</td>\n",
       "      <td>9999-99-99</td>\n",
       "      <td>14</td>\n",
       "      <td>05afcc</td>\n",
       "      <td>Local</td>\n",
       "      <td>2</td>\n",
       "    </tr>\n",
       "    <tr>\n",
       "      <td>1</td>\n",
       "      <td>2020-01-06</td>\n",
       "      <td>2020-01-02</td>\n",
       "      <td>9999-99-99</td>\n",
       "      <td>23</td>\n",
       "      <td>1c405f</td>\n",
       "      <td>Local</td>\n",
       "      <td>2</td>\n",
       "    </tr>\n",
       "    <tr>\n",
       "      <td>2</td>\n",
       "      <td>2020-01-06</td>\n",
       "      <td>2020-01-03</td>\n",
       "      <td>9999-99-99</td>\n",
       "      <td>5</td>\n",
       "      <td>0131f0</td>\n",
       "      <td>Local</td>\n",
       "      <td>2</td>\n",
       "    </tr>\n",
       "    <tr>\n",
       "      <td>3</td>\n",
       "      <td>2020-01-06</td>\n",
       "      <td>2020-01-03</td>\n",
       "      <td>9999-99-99</td>\n",
       "      <td>9</td>\n",
       "      <td>105f1c</td>\n",
       "      <td>Local</td>\n",
       "      <td>2</td>\n",
       "    </tr>\n",
       "    <tr>\n",
       "      <td>4</td>\n",
       "      <td>2020-01-06</td>\n",
       "      <td>2020-01-03</td>\n",
       "      <td>9999-99-99</td>\n",
       "      <td>14</td>\n",
       "      <td>01fefc</td>\n",
       "      <td>Local</td>\n",
       "      <td>2</td>\n",
       "    </tr>\n",
       "    <tr>\n",
       "      <td>...</td>\n",
       "      <td>...</td>\n",
       "      <td>...</td>\n",
       "      <td>...</td>\n",
       "      <td>...</td>\n",
       "      <td>...</td>\n",
       "      <td>...</td>\n",
       "      <td>...</td>\n",
       "    </tr>\n",
       "    <tr>\n",
       "      <td>68148</td>\n",
       "      <td>2020-05-04</td>\n",
       "      <td>2020-05-04</td>\n",
       "      <td>9999-99-99</td>\n",
       "      <td>28</td>\n",
       "      <td>19e963</td>\n",
       "      <td>Local</td>\n",
       "      <td>3</td>\n",
       "    </tr>\n",
       "    <tr>\n",
       "      <td>68149</td>\n",
       "      <td>2020-05-04</td>\n",
       "      <td>2020-05-04</td>\n",
       "      <td>9999-99-99</td>\n",
       "      <td>28</td>\n",
       "      <td>1a4556</td>\n",
       "      <td>Local</td>\n",
       "      <td>3</td>\n",
       "    </tr>\n",
       "    <tr>\n",
       "      <td>68150</td>\n",
       "      <td>2020-05-04</td>\n",
       "      <td>2020-05-04</td>\n",
       "      <td>9999-99-99</td>\n",
       "      <td>28</td>\n",
       "      <td>1d4827</td>\n",
       "      <td>Local</td>\n",
       "      <td>3</td>\n",
       "    </tr>\n",
       "    <tr>\n",
       "      <td>68151</td>\n",
       "      <td>2020-05-04</td>\n",
       "      <td>2020-05-04</td>\n",
       "      <td>9999-99-99</td>\n",
       "      <td>28</td>\n",
       "      <td>1dc515</td>\n",
       "      <td>Local</td>\n",
       "      <td>3</td>\n",
       "    </tr>\n",
       "    <tr>\n",
       "      <td>68152</td>\n",
       "      <td>2020-05-04</td>\n",
       "      <td>2020-05-04</td>\n",
       "      <td>9999-99-99</td>\n",
       "      <td>30</td>\n",
       "      <td>0d9758</td>\n",
       "      <td>Local</td>\n",
       "      <td>3</td>\n",
       "    </tr>\n",
       "  </tbody>\n",
       "</table>\n",
       "<p>127146 rows × 7 columns</p>\n",
       "</div>"
      ],
      "text/plain": [
       "      Date_Confirmed Date_Symptoms  Date_Death  Region_ID Case_ID Origin  \\\n",
       "0         2020-01-06    2020-01-02  9999-99-99         14  05afcc  Local   \n",
       "1         2020-01-06    2020-01-02  9999-99-99         23  1c405f  Local   \n",
       "2         2020-01-06    2020-01-03  9999-99-99          5  0131f0  Local   \n",
       "3         2020-01-06    2020-01-03  9999-99-99          9  105f1c  Local   \n",
       "4         2020-01-06    2020-01-03  9999-99-99         14  01fefc  Local   \n",
       "...              ...           ...         ...        ...     ...    ...   \n",
       "68148     2020-05-04    2020-05-04  9999-99-99         28  19e963  Local   \n",
       "68149     2020-05-04    2020-05-04  9999-99-99         28  1a4556  Local   \n",
       "68150     2020-05-04    2020-05-04  9999-99-99         28  1d4827  Local   \n",
       "68151     2020-05-04    2020-05-04  9999-99-99         28  1dc515  Local   \n",
       "68152     2020-05-04    2020-05-04  9999-99-99         30  0d9758  Local   \n",
       "\n",
       "       Status  \n",
       "0           2  \n",
       "1           2  \n",
       "2           2  \n",
       "3           2  \n",
       "4           2  \n",
       "...       ...  \n",
       "68148       3  \n",
       "68149       3  \n",
       "68150       3  \n",
       "68151       3  \n",
       "68152       3  \n",
       "\n",
       "[127146 rows x 7 columns]"
      ]
     },
     "execution_count": 13,
     "metadata": {},
     "output_type": "execute_result"
    }
   ],
   "source": [
    "tbl"
   ]
  },
  {
   "cell_type": "code",
   "execution_count": 14,
   "metadata": {},
   "outputs": [
    {
     "data": {
      "text/html": [
       "<div>\n",
       "<style scoped>\n",
       "    .dataframe tbody tr th:only-of-type {\n",
       "        vertical-align: middle;\n",
       "    }\n",
       "\n",
       "    .dataframe tbody tr th {\n",
       "        vertical-align: top;\n",
       "    }\n",
       "\n",
       "    .dataframe thead th {\n",
       "        text-align: right;\n",
       "    }\n",
       "</style>\n",
       "<table border=\"1\" class=\"dataframe\">\n",
       "  <thead>\n",
       "    <tr style=\"text-align: right;\">\n",
       "      <th></th>\n",
       "      <th>Date_Confirmed</th>\n",
       "      <th>Date_Symptoms</th>\n",
       "      <th>Date_Death</th>\n",
       "      <th>Region_ID</th>\n",
       "      <th>Case_ID</th>\n",
       "      <th>Origin</th>\n",
       "      <th>Status</th>\n",
       "    </tr>\n",
       "  </thead>\n",
       "  <tbody>\n",
       "    <tr>\n",
       "      <td>0</td>\n",
       "      <td>2020-01-06</td>\n",
       "      <td>2020-01-02</td>\n",
       "      <td>9999-99-99</td>\n",
       "      <td>14</td>\n",
       "      <td>05afcc</td>\n",
       "      <td>Local</td>\n",
       "      <td>2</td>\n",
       "    </tr>\n",
       "    <tr>\n",
       "      <td>1</td>\n",
       "      <td>2020-01-06</td>\n",
       "      <td>2020-01-02</td>\n",
       "      <td>9999-99-99</td>\n",
       "      <td>23</td>\n",
       "      <td>1c405f</td>\n",
       "      <td>Local</td>\n",
       "      <td>2</td>\n",
       "    </tr>\n",
       "    <tr>\n",
       "      <td>2</td>\n",
       "      <td>2020-01-06</td>\n",
       "      <td>2020-01-03</td>\n",
       "      <td>9999-99-99</td>\n",
       "      <td>5</td>\n",
       "      <td>0131f0</td>\n",
       "      <td>Local</td>\n",
       "      <td>2</td>\n",
       "    </tr>\n",
       "    <tr>\n",
       "      <td>3</td>\n",
       "      <td>2020-01-06</td>\n",
       "      <td>2020-01-03</td>\n",
       "      <td>9999-99-99</td>\n",
       "      <td>9</td>\n",
       "      <td>105f1c</td>\n",
       "      <td>Local</td>\n",
       "      <td>2</td>\n",
       "    </tr>\n",
       "    <tr>\n",
       "      <td>4</td>\n",
       "      <td>2020-01-06</td>\n",
       "      <td>2020-01-03</td>\n",
       "      <td>9999-99-99</td>\n",
       "      <td>14</td>\n",
       "      <td>01fefc</td>\n",
       "      <td>Local</td>\n",
       "      <td>2</td>\n",
       "    </tr>\n",
       "    <tr>\n",
       "      <td>...</td>\n",
       "      <td>...</td>\n",
       "      <td>...</td>\n",
       "      <td>...</td>\n",
       "      <td>...</td>\n",
       "      <td>...</td>\n",
       "      <td>...</td>\n",
       "      <td>...</td>\n",
       "    </tr>\n",
       "    <tr>\n",
       "      <td>68148</td>\n",
       "      <td>2020-05-04</td>\n",
       "      <td>2020-05-04</td>\n",
       "      <td>9999-99-99</td>\n",
       "      <td>28</td>\n",
       "      <td>19e963</td>\n",
       "      <td>Local</td>\n",
       "      <td>3</td>\n",
       "    </tr>\n",
       "    <tr>\n",
       "      <td>68149</td>\n",
       "      <td>2020-05-04</td>\n",
       "      <td>2020-05-04</td>\n",
       "      <td>9999-99-99</td>\n",
       "      <td>28</td>\n",
       "      <td>1a4556</td>\n",
       "      <td>Local</td>\n",
       "      <td>3</td>\n",
       "    </tr>\n",
       "    <tr>\n",
       "      <td>68150</td>\n",
       "      <td>2020-05-04</td>\n",
       "      <td>2020-05-04</td>\n",
       "      <td>9999-99-99</td>\n",
       "      <td>28</td>\n",
       "      <td>1d4827</td>\n",
       "      <td>Local</td>\n",
       "      <td>3</td>\n",
       "    </tr>\n",
       "    <tr>\n",
       "      <td>68151</td>\n",
       "      <td>2020-05-04</td>\n",
       "      <td>2020-05-04</td>\n",
       "      <td>9999-99-99</td>\n",
       "      <td>28</td>\n",
       "      <td>1dc515</td>\n",
       "      <td>Local</td>\n",
       "      <td>3</td>\n",
       "    </tr>\n",
       "    <tr>\n",
       "      <td>68152</td>\n",
       "      <td>2020-05-04</td>\n",
       "      <td>2020-05-04</td>\n",
       "      <td>9999-99-99</td>\n",
       "      <td>30</td>\n",
       "      <td>0d9758</td>\n",
       "      <td>Local</td>\n",
       "      <td>3</td>\n",
       "    </tr>\n",
       "  </tbody>\n",
       "</table>\n",
       "<p>127146 rows × 7 columns</p>\n",
       "</div>"
      ],
      "text/plain": [
       "      Date_Confirmed Date_Symptoms  Date_Death  Region_ID Case_ID Origin  \\\n",
       "0         2020-01-06    2020-01-02  9999-99-99         14  05afcc  Local   \n",
       "1         2020-01-06    2020-01-02  9999-99-99         23  1c405f  Local   \n",
       "2         2020-01-06    2020-01-03  9999-99-99          5  0131f0  Local   \n",
       "3         2020-01-06    2020-01-03  9999-99-99          9  105f1c  Local   \n",
       "4         2020-01-06    2020-01-03  9999-99-99         14  01fefc  Local   \n",
       "...              ...           ...         ...        ...     ...    ...   \n",
       "68148     2020-05-04    2020-05-04  9999-99-99         28  19e963  Local   \n",
       "68149     2020-05-04    2020-05-04  9999-99-99         28  1a4556  Local   \n",
       "68150     2020-05-04    2020-05-04  9999-99-99         28  1d4827  Local   \n",
       "68151     2020-05-04    2020-05-04  9999-99-99         28  1dc515  Local   \n",
       "68152     2020-05-04    2020-05-04  9999-99-99         30  0d9758  Local   \n",
       "\n",
       "       Status  \n",
       "0           2  \n",
       "1           2  \n",
       "2           2  \n",
       "3           2  \n",
       "4           2  \n",
       "...       ...  \n",
       "68148       3  \n",
       "68149       3  \n",
       "68150       3  \n",
       "68151       3  \n",
       "68152       3  \n",
       "\n",
       "[127146 rows x 7 columns]"
      ]
     },
     "execution_count": 14,
     "metadata": {},
     "output_type": "execute_result"
    }
   ],
   "source": [
    "tbl"
   ]
  },
  {
   "cell_type": "code",
   "execution_count": 15,
   "metadata": {},
   "outputs": [],
   "source": [
    "geo = pd.read_csv('../data/geo/entidades.csv')"
   ]
  },
  {
   "cell_type": "code",
   "execution_count": 16,
   "metadata": {},
   "outputs": [
    {
     "data": {
      "text/plain": [
       "Index(['CLAVE_ENTIDAD', 'ENTIDAD_FEDERATIVA', 'ABREVIATURA'], dtype='object')"
      ]
     },
     "execution_count": 16,
     "metadata": {},
     "output_type": "execute_result"
    }
   ],
   "source": [
    "geo.keys()"
   ]
  },
  {
   "cell_type": "code",
   "execution_count": 17,
   "metadata": {},
   "outputs": [],
   "source": [
    "geo = geo.rename(columns={'CLAVE_ENTIDAD':'Region_ID', 'ENTIDAD_FEDERATIVA':'Region', 'ABREVIATURA':'Region_Key'})"
   ]
  },
  {
   "cell_type": "code",
   "execution_count": 47,
   "metadata": {},
   "outputs": [],
   "source": [
    "output = pd.merge(tbl, geo, on='Region_ID') "
   ]
  },
  {
   "cell_type": "code",
   "execution_count": 48,
   "metadata": {},
   "outputs": [],
   "source": [
    "output = output[['Date_Confirmed', 'Date_Symptoms', 'Date_Death', 'Region', 'Region_ID', 'Region_Key', 'Origin', 'Status']]"
   ]
  },
  {
   "cell_type": "code",
   "execution_count": 49,
   "metadata": {},
   "outputs": [
    {
     "data": {
      "text/html": [
       "<div>\n",
       "<style scoped>\n",
       "    .dataframe tbody tr th:only-of-type {\n",
       "        vertical-align: middle;\n",
       "    }\n",
       "\n",
       "    .dataframe tbody tr th {\n",
       "        vertical-align: top;\n",
       "    }\n",
       "\n",
       "    .dataframe thead th {\n",
       "        text-align: right;\n",
       "    }\n",
       "</style>\n",
       "<table border=\"1\" class=\"dataframe\">\n",
       "  <thead>\n",
       "    <tr style=\"text-align: right;\">\n",
       "      <th></th>\n",
       "      <th>Date_Confirmed</th>\n",
       "      <th>Date_Symptoms</th>\n",
       "      <th>Date_Death</th>\n",
       "      <th>Region</th>\n",
       "      <th>Region_ID</th>\n",
       "      <th>Region_Key</th>\n",
       "      <th>Origin</th>\n",
       "      <th>Status</th>\n",
       "    </tr>\n",
       "  </thead>\n",
       "  <tbody>\n",
       "    <tr>\n",
       "      <td>0</td>\n",
       "      <td>2020-01-06</td>\n",
       "      <td>2020-01-02</td>\n",
       "      <td>9999-99-99</td>\n",
       "      <td>JALISCO</td>\n",
       "      <td>14</td>\n",
       "      <td>JC</td>\n",
       "      <td>Local</td>\n",
       "      <td>2</td>\n",
       "    </tr>\n",
       "    <tr>\n",
       "      <td>1</td>\n",
       "      <td>2020-01-06</td>\n",
       "      <td>2020-01-03</td>\n",
       "      <td>9999-99-99</td>\n",
       "      <td>JALISCO</td>\n",
       "      <td>14</td>\n",
       "      <td>JC</td>\n",
       "      <td>Local</td>\n",
       "      <td>2</td>\n",
       "    </tr>\n",
       "    <tr>\n",
       "      <td>2</td>\n",
       "      <td>2020-01-06</td>\n",
       "      <td>2020-01-06</td>\n",
       "      <td>9999-99-99</td>\n",
       "      <td>JALISCO</td>\n",
       "      <td>14</td>\n",
       "      <td>JC</td>\n",
       "      <td>Local</td>\n",
       "      <td>2</td>\n",
       "    </tr>\n",
       "    <tr>\n",
       "      <td>3</td>\n",
       "      <td>2020-01-07</td>\n",
       "      <td>2020-01-01</td>\n",
       "      <td>9999-99-99</td>\n",
       "      <td>JALISCO</td>\n",
       "      <td>14</td>\n",
       "      <td>JC</td>\n",
       "      <td>Local</td>\n",
       "      <td>2</td>\n",
       "    </tr>\n",
       "    <tr>\n",
       "      <td>4</td>\n",
       "      <td>2020-01-07</td>\n",
       "      <td>2020-01-02</td>\n",
       "      <td>9999-99-99</td>\n",
       "      <td>JALISCO</td>\n",
       "      <td>14</td>\n",
       "      <td>JC</td>\n",
       "      <td>Local</td>\n",
       "      <td>2</td>\n",
       "    </tr>\n",
       "    <tr>\n",
       "      <td>...</td>\n",
       "      <td>...</td>\n",
       "      <td>...</td>\n",
       "      <td>...</td>\n",
       "      <td>...</td>\n",
       "      <td>...</td>\n",
       "      <td>...</td>\n",
       "      <td>...</td>\n",
       "      <td>...</td>\n",
       "    </tr>\n",
       "    <tr>\n",
       "      <td>127141</td>\n",
       "      <td>2020-05-03</td>\n",
       "      <td>2020-04-30</td>\n",
       "      <td>9999-99-99</td>\n",
       "      <td>COLIMA</td>\n",
       "      <td>6</td>\n",
       "      <td>CM</td>\n",
       "      <td>Local</td>\n",
       "      <td>3</td>\n",
       "    </tr>\n",
       "    <tr>\n",
       "      <td>127142</td>\n",
       "      <td>2020-05-03</td>\n",
       "      <td>2020-05-02</td>\n",
       "      <td>9999-99-99</td>\n",
       "      <td>COLIMA</td>\n",
       "      <td>6</td>\n",
       "      <td>CM</td>\n",
       "      <td>Local</td>\n",
       "      <td>3</td>\n",
       "    </tr>\n",
       "    <tr>\n",
       "      <td>127143</td>\n",
       "      <td>2020-05-03</td>\n",
       "      <td>2020-05-03</td>\n",
       "      <td>9999-99-99</td>\n",
       "      <td>COLIMA</td>\n",
       "      <td>6</td>\n",
       "      <td>CM</td>\n",
       "      <td>Local</td>\n",
       "      <td>3</td>\n",
       "    </tr>\n",
       "    <tr>\n",
       "      <td>127144</td>\n",
       "      <td>2020-05-04</td>\n",
       "      <td>2020-04-30</td>\n",
       "      <td>9999-99-99</td>\n",
       "      <td>COLIMA</td>\n",
       "      <td>6</td>\n",
       "      <td>CM</td>\n",
       "      <td>Local</td>\n",
       "      <td>3</td>\n",
       "    </tr>\n",
       "    <tr>\n",
       "      <td>127145</td>\n",
       "      <td>2020-05-04</td>\n",
       "      <td>2020-05-02</td>\n",
       "      <td>9999-99-99</td>\n",
       "      <td>COLIMA</td>\n",
       "      <td>6</td>\n",
       "      <td>CM</td>\n",
       "      <td>Local</td>\n",
       "      <td>3</td>\n",
       "    </tr>\n",
       "  </tbody>\n",
       "</table>\n",
       "<p>127146 rows × 8 columns</p>\n",
       "</div>"
      ],
      "text/plain": [
       "       Date_Confirmed Date_Symptoms  Date_Death   Region  Region_ID  \\\n",
       "0          2020-01-06    2020-01-02  9999-99-99  JALISCO         14   \n",
       "1          2020-01-06    2020-01-03  9999-99-99  JALISCO         14   \n",
       "2          2020-01-06    2020-01-06  9999-99-99  JALISCO         14   \n",
       "3          2020-01-07    2020-01-01  9999-99-99  JALISCO         14   \n",
       "4          2020-01-07    2020-01-02  9999-99-99  JALISCO         14   \n",
       "...               ...           ...         ...      ...        ...   \n",
       "127141     2020-05-03    2020-04-30  9999-99-99   COLIMA          6   \n",
       "127142     2020-05-03    2020-05-02  9999-99-99   COLIMA          6   \n",
       "127143     2020-05-03    2020-05-03  9999-99-99   COLIMA          6   \n",
       "127144     2020-05-04    2020-04-30  9999-99-99   COLIMA          6   \n",
       "127145     2020-05-04    2020-05-02  9999-99-99   COLIMA          6   \n",
       "\n",
       "       Region_Key Origin  Status  \n",
       "0              JC  Local       2  \n",
       "1              JC  Local       2  \n",
       "2              JC  Local       2  \n",
       "3              JC  Local       2  \n",
       "4              JC  Local       2  \n",
       "...           ...    ...     ...  \n",
       "127141         CM  Local       3  \n",
       "127142         CM  Local       3  \n",
       "127143         CM  Local       3  \n",
       "127144         CM  Local       3  \n",
       "127145         CM  Local       3  \n",
       "\n",
       "[127146 rows x 8 columns]"
      ]
     },
     "execution_count": 49,
     "metadata": {},
     "output_type": "execute_result"
    }
   ],
   "source": [
    "output"
   ]
  },
  {
   "cell_type": "code",
   "execution_count": 50,
   "metadata": {},
   "outputs": [],
   "source": [
    "output['Region'] = output['Region'].str.replace('COAHUILA DE ZARAGOZA','COAHUILA')\n",
    "output['Region'] = output['Region'].str.replace('MICHOACÁN DE OCAMPO','MICHOACAN')\n",
    "output['Region'] = output['Region'].str.replace('VERACRUZ DE IGNACIO DE LA LLAVE','VERACRUZ')"
   ]
  },
  {
   "cell_type": "code",
   "execution_count": 51,
   "metadata": {},
   "outputs": [],
   "source": [
    "output = output.sort_values(['Date_Confirmed', 'Date_Symptoms', 'Region'])"
   ]
  },
  {
   "cell_type": "code",
   "execution_count": 52,
   "metadata": {},
   "outputs": [
    {
     "data": {
      "text/plain": [
       "array(['JALISCO', 'QUINTANA ROO', 'CIUDAD DE MÉXICO', 'COAHUILA',\n",
       "       'VERACRUZ', 'BAJA CALIFORNIA', 'DURANGO', 'TABASCO', 'MÉXICO',\n",
       "       'NAYARIT', 'SONORA', 'GUANAJUATO', 'MORELOS', 'TAMAULIPAS',\n",
       "       'HIDALGO', 'PUEBLA', 'AGUASCALIENTES', 'BAJA CALIFORNIA SUR',\n",
       "       'YUCATÁN', 'MICHOACAN', 'GUERRERO', 'OAXACA', 'SINALOA',\n",
       "       'NUEVO LEÓN', 'TLAXCALA', 'CHIHUAHUA', 'ZACATECAS',\n",
       "       'SAN LUIS POTOSÍ', 'CHIAPAS', 'QUERÉTARO', 'CAMPECHE', 'COLIMA'],\n",
       "      dtype=object)"
      ]
     },
     "execution_count": 52,
     "metadata": {},
     "output_type": "execute_result"
    }
   ],
   "source": [
    "output.Region.unique()"
   ]
  },
  {
   "cell_type": "code",
   "execution_count": 53,
   "metadata": {},
   "outputs": [
    {
     "data": {
      "text/plain": [
       "array(['Local', 'Alemania', 'Cuba', 'Grecia', 'Estados Unidos de Am�rica',\n",
       "       'Espa�a', 'Colombia', 'Egipto', 'El Salvador', 'Ecuador',\n",
       "       'Venezuela', 'Hait�', 'Rep�blica de Honduras', 'Guatemala', 'Otro',\n",
       "       'Bolivia', 'Nicaragua', 'China', 'Per�', 'Camer�n', 'Chile',\n",
       "       'Jap�n', 'Eritrea', 'Canad�', 'Brasil', 'Belice', 'Irlanda',\n",
       "       'Costa de Marfil', 'Italia', 'Francia'], dtype=object)"
      ]
     },
     "execution_count": 53,
     "metadata": {},
     "output_type": "execute_result"
    }
   ],
   "source": [
    "output.Origin.unique()"
   ]
  },
  {
   "cell_type": "code",
   "execution_count": 54,
   "metadata": {},
   "outputs": [
    {
     "data": {
      "text/html": [
       "<div>\n",
       "<style scoped>\n",
       "    .dataframe tbody tr th:only-of-type {\n",
       "        vertical-align: middle;\n",
       "    }\n",
       "\n",
       "    .dataframe tbody tr th {\n",
       "        vertical-align: top;\n",
       "    }\n",
       "\n",
       "    .dataframe thead th {\n",
       "        text-align: right;\n",
       "    }\n",
       "</style>\n",
       "<table border=\"1\" class=\"dataframe\">\n",
       "  <thead>\n",
       "    <tr style=\"text-align: right;\">\n",
       "      <th></th>\n",
       "      <th>Date_Confirmed</th>\n",
       "      <th>Date_Symptoms</th>\n",
       "      <th>Date_Death</th>\n",
       "      <th>Region</th>\n",
       "      <th>Region_ID</th>\n",
       "      <th>Region_Key</th>\n",
       "      <th>Origin</th>\n",
       "      <th>Status</th>\n",
       "    </tr>\n",
       "  </thead>\n",
       "  <tbody>\n",
       "    <tr>\n",
       "      <td>0</td>\n",
       "      <td>2020-01-06</td>\n",
       "      <td>2020-01-02</td>\n",
       "      <td>9999-99-99</td>\n",
       "      <td>JALISCO</td>\n",
       "      <td>14</td>\n",
       "      <td>JC</td>\n",
       "      <td>Local</td>\n",
       "      <td>2</td>\n",
       "    </tr>\n",
       "    <tr>\n",
       "      <td>7945</td>\n",
       "      <td>2020-01-06</td>\n",
       "      <td>2020-01-02</td>\n",
       "      <td>9999-99-99</td>\n",
       "      <td>QUINTANA ROO</td>\n",
       "      <td>23</td>\n",
       "      <td>QR</td>\n",
       "      <td>Local</td>\n",
       "      <td>2</td>\n",
       "    </tr>\n",
       "    <tr>\n",
       "      <td>15105</td>\n",
       "      <td>2020-01-06</td>\n",
       "      <td>2020-01-03</td>\n",
       "      <td>9999-99-99</td>\n",
       "      <td>CIUDAD DE MÉXICO</td>\n",
       "      <td>9</td>\n",
       "      <td>DF</td>\n",
       "      <td>Local</td>\n",
       "      <td>2</td>\n",
       "    </tr>\n",
       "    <tr>\n",
       "      <td>10228</td>\n",
       "      <td>2020-01-06</td>\n",
       "      <td>2020-01-03</td>\n",
       "      <td>9999-99-99</td>\n",
       "      <td>COAHUILA</td>\n",
       "      <td>5</td>\n",
       "      <td>CL</td>\n",
       "      <td>Local</td>\n",
       "      <td>2</td>\n",
       "    </tr>\n",
       "    <tr>\n",
       "      <td>1</td>\n",
       "      <td>2020-01-06</td>\n",
       "      <td>2020-01-03</td>\n",
       "      <td>9999-99-99</td>\n",
       "      <td>JALISCO</td>\n",
       "      <td>14</td>\n",
       "      <td>JC</td>\n",
       "      <td>Local</td>\n",
       "      <td>2</td>\n",
       "    </tr>\n",
       "    <tr>\n",
       "      <td>...</td>\n",
       "      <td>...</td>\n",
       "      <td>...</td>\n",
       "      <td>...</td>\n",
       "      <td>...</td>\n",
       "      <td>...</td>\n",
       "      <td>...</td>\n",
       "      <td>...</td>\n",
       "      <td>...</td>\n",
       "    </tr>\n",
       "    <tr>\n",
       "      <td>88254</td>\n",
       "      <td>2020-05-04</td>\n",
       "      <td>2020-05-04</td>\n",
       "      <td>9999-99-99</td>\n",
       "      <td>TAMAULIPAS</td>\n",
       "      <td>28</td>\n",
       "      <td>TS</td>\n",
       "      <td>Local</td>\n",
       "      <td>3</td>\n",
       "    </tr>\n",
       "    <tr>\n",
       "      <td>88255</td>\n",
       "      <td>2020-05-04</td>\n",
       "      <td>2020-05-04</td>\n",
       "      <td>9999-99-99</td>\n",
       "      <td>TAMAULIPAS</td>\n",
       "      <td>28</td>\n",
       "      <td>TS</td>\n",
       "      <td>Local</td>\n",
       "      <td>3</td>\n",
       "    </tr>\n",
       "    <tr>\n",
       "      <td>88256</td>\n",
       "      <td>2020-05-04</td>\n",
       "      <td>2020-05-04</td>\n",
       "      <td>9999-99-99</td>\n",
       "      <td>TAMAULIPAS</td>\n",
       "      <td>28</td>\n",
       "      <td>TS</td>\n",
       "      <td>Local</td>\n",
       "      <td>3</td>\n",
       "    </tr>\n",
       "    <tr>\n",
       "      <td>88257</td>\n",
       "      <td>2020-05-04</td>\n",
       "      <td>2020-05-04</td>\n",
       "      <td>9999-99-99</td>\n",
       "      <td>TAMAULIPAS</td>\n",
       "      <td>28</td>\n",
       "      <td>TS</td>\n",
       "      <td>Local</td>\n",
       "      <td>3</td>\n",
       "    </tr>\n",
       "    <tr>\n",
       "      <td>48760</td>\n",
       "      <td>2020-05-04</td>\n",
       "      <td>2020-05-04</td>\n",
       "      <td>9999-99-99</td>\n",
       "      <td>VERACRUZ</td>\n",
       "      <td>30</td>\n",
       "      <td>VZ</td>\n",
       "      <td>Local</td>\n",
       "      <td>3</td>\n",
       "    </tr>\n",
       "  </tbody>\n",
       "</table>\n",
       "<p>127146 rows × 8 columns</p>\n",
       "</div>"
      ],
      "text/plain": [
       "      Date_Confirmed Date_Symptoms  Date_Death            Region  Region_ID  \\\n",
       "0         2020-01-06    2020-01-02  9999-99-99           JALISCO         14   \n",
       "7945      2020-01-06    2020-01-02  9999-99-99      QUINTANA ROO         23   \n",
       "15105     2020-01-06    2020-01-03  9999-99-99  CIUDAD DE MÉXICO          9   \n",
       "10228     2020-01-06    2020-01-03  9999-99-99          COAHUILA          5   \n",
       "1         2020-01-06    2020-01-03  9999-99-99           JALISCO         14   \n",
       "...              ...           ...         ...               ...        ...   \n",
       "88254     2020-05-04    2020-05-04  9999-99-99        TAMAULIPAS         28   \n",
       "88255     2020-05-04    2020-05-04  9999-99-99        TAMAULIPAS         28   \n",
       "88256     2020-05-04    2020-05-04  9999-99-99        TAMAULIPAS         28   \n",
       "88257     2020-05-04    2020-05-04  9999-99-99        TAMAULIPAS         28   \n",
       "48760     2020-05-04    2020-05-04  9999-99-99          VERACRUZ         30   \n",
       "\n",
       "      Region_Key Origin  Status  \n",
       "0             JC  Local       2  \n",
       "7945          QR  Local       2  \n",
       "15105         DF  Local       2  \n",
       "10228         CL  Local       2  \n",
       "1             JC  Local       2  \n",
       "...          ...    ...     ...  \n",
       "88254         TS  Local       3  \n",
       "88255         TS  Local       3  \n",
       "88256         TS  Local       3  \n",
       "88257         TS  Local       3  \n",
       "48760         VZ  Local       3  \n",
       "\n",
       "[127146 rows x 8 columns]"
      ]
     },
     "execution_count": 54,
     "metadata": {},
     "output_type": "execute_result"
    }
   ],
   "source": [
    "output"
   ]
  },
  {
   "cell_type": "markdown",
   "metadata": {},
   "source": [
    "### By status"
   ]
  },
  {
   "cell_type": "code",
   "execution_count": 239,
   "metadata": {},
   "outputs": [],
   "source": [
    "# Active cases"
   ]
  },
  {
   "cell_type": "code",
   "execution_count": 244,
   "metadata": {},
   "outputs": [],
   "source": [
    "tbl_1 = output.copy()\n",
    "tbl_1 = tbl_1[tbl_1.Date_Death.str.startswith(('9999'))] # active cases in patients not deceased"
   ]
  },
  {
   "cell_type": "code",
   "execution_count": 245,
   "metadata": {},
   "outputs": [],
   "source": [
    "positive = tbl_1[tbl_1['Status']==1]\n",
    "positive = positive.drop(['Date_Death'], axis=1)"
   ]
  },
  {
   "cell_type": "code",
   "execution_count": 246,
   "metadata": {},
   "outputs": [],
   "source": [
    "negative = tbl_1[tbl_1['Status']==2]\n",
    "negative = negative.drop(['Date_Death'], axis=1)"
   ]
  },
  {
   "cell_type": "code",
   "execution_count": 247,
   "metadata": {},
   "outputs": [],
   "source": [
    "suspects = tbl_1[tbl_1['Status']==3]\n",
    "suspects = suspects.drop(['Date_Death'], axis=1)"
   ]
  },
  {
   "cell_type": "code",
   "execution_count": 248,
   "metadata": {},
   "outputs": [],
   "source": [
    "# Deceased patients"
   ]
  },
  {
   "cell_type": "code",
   "execution_count": 249,
   "metadata": {},
   "outputs": [],
   "source": [
    "tbl_2 = tbl[~tbl.Date_Death.str.startswith(('9999'))] # to-do: check if \n",
    "deceased = tbl_2"
   ]
  },
  {
   "cell_type": "code",
   "execution_count": 250,
   "metadata": {},
   "outputs": [
    {
     "data": {
      "text/plain": [
       "3932"
      ]
     },
     "execution_count": 250,
     "metadata": {},
     "output_type": "execute_result"
    }
   ],
   "source": [
    "len(deceased)"
   ]
  },
  {
   "cell_type": "code",
   "execution_count": 252,
   "metadata": {},
   "outputs": [],
   "source": [
    "# Save"
   ]
  },
  {
   "cell_type": "code",
   "execution_count": 253,
   "metadata": {},
   "outputs": [],
   "source": [
    "positive.to_csv('../total_positive.csv', index=False)"
   ]
  },
  {
   "cell_type": "code",
   "execution_count": 254,
   "metadata": {},
   "outputs": [],
   "source": [
    "negative.to_csv('../total_negative.csv', index=False)"
   ]
  },
  {
   "cell_type": "code",
   "execution_count": 255,
   "metadata": {},
   "outputs": [],
   "source": [
    "suspects.to_csv('../total_suspects.csv', index=False)"
   ]
  },
  {
   "cell_type": "code",
   "execution_count": 256,
   "metadata": {},
   "outputs": [],
   "source": [
    "deceased.to_csv('../total_deceased.csv', index=False)"
   ]
  },
  {
   "cell_type": "code",
   "execution_count": 257,
   "metadata": {},
   "outputs": [],
   "source": [
    "# Periodicity on reports"
   ]
  },
  {
   "cell_type": "code",
   "execution_count": 267,
   "metadata": {},
   "outputs": [],
   "source": [
    "test1 = positive.reset_index()\n",
    "test1.Date_Confirmed = test1.Date_Confirmed.astype('str')"
   ]
  },
  {
   "cell_type": "code",
   "execution_count": 268,
   "metadata": {},
   "outputs": [],
   "source": [
    "test1 = test1[test1.Date_Confirmed.str.startswith(('2020-05-01'))]"
   ]
  },
  {
   "cell_type": "code",
   "execution_count": 269,
   "metadata": {},
   "outputs": [
    {
     "data": {
      "text/plain": [
       "376"
      ]
     },
     "execution_count": 269,
     "metadata": {},
     "output_type": "execute_result"
    }
   ],
   "source": [
    "len(test1)"
   ]
  },
  {
   "cell_type": "code",
   "execution_count": 270,
   "metadata": {},
   "outputs": [],
   "source": [
    "test2 = suspects.reset_index()\n",
    "test2.Date_Confirmed = test2.Date_Confirmed.astype('str')"
   ]
  },
  {
   "cell_type": "code",
   "execution_count": 271,
   "metadata": {},
   "outputs": [],
   "source": [
    "test2 = test2[test2.Date_Confirmed.str.startswith(('2020-05-01'))]"
   ]
  },
  {
   "cell_type": "code",
   "execution_count": 272,
   "metadata": {},
   "outputs": [
    {
     "data": {
      "text/plain": [
       "2636"
      ]
     },
     "execution_count": 272,
     "metadata": {},
     "output_type": "execute_result"
    }
   ],
   "source": [
    "len(test2)"
   ]
  },
  {
   "cell_type": "code",
   "execution_count": null,
   "metadata": {},
   "outputs": [],
   "source": [
    "# Latest time series"
   ]
  },
  {
   "cell_type": "code",
   "execution_count": null,
   "metadata": {},
   "outputs": [],
   "source": [
    "latest = output.copy()"
   ]
  },
  {
   "cell_type": "code",
   "execution_count": 265,
   "metadata": {},
   "outputs": [],
   "source": [
    "latest = latest[latest.Date_Death.str.startswith(('9999'))] # active cases in patients not deceased\n",
    "latest = latest[latest['Status']==1]\n",
    "latest = latest[['Date_Confirmed','Date_Symptoms','Region','Region_ID','Region_Key','Origin','Status']]"
   ]
  },
  {
   "cell_type": "code",
   "execution_count": 266,
   "metadata": {},
   "outputs": [],
   "source": [
    "latest.to_csv('../latest.csv', index=False)"
   ]
  }
 ],
 "metadata": {
  "kernelspec": {
   "display_name": "Python 3",
   "language": "python",
   "name": "python3"
  },
  "language_info": {
   "codemirror_mode": {
    "name": "ipython",
    "version": 3
   },
   "file_extension": ".py",
   "mimetype": "text/x-python",
   "name": "python",
   "nbconvert_exporter": "python",
   "pygments_lexer": "ipython3",
   "version": "3.7.4"
  }
 },
 "nbformat": 4,
 "nbformat_minor": 4
}
