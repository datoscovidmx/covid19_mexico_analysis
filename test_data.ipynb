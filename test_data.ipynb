{
 "cells": [
  {
   "cell_type": "code",
   "execution_count": 1,
   "metadata": {},
   "outputs": [],
   "source": [
    "import pandas as pd\n",
    "import numpy as np"
   ]
  },
  {
   "cell_type": "markdown",
   "metadata": {},
   "source": [
    "# COVID-19"
   ]
  },
  {
   "cell_type": "code",
   "execution_count": 2,
   "metadata": {},
   "outputs": [],
   "source": [
    "# Total cases"
   ]
  },
  {
   "cell_type": "code",
   "execution_count": 21,
   "metadata": {},
   "outputs": [],
   "source": [
    "    # World regions\n",
    "world_total = pd.read_csv('output_data/time_series/total-world-covid19.csv')\n",
    "world_total['Date_Confirmed'] = pd.DatetimeIndex(world_total['Date_Confirmed'])\n",
    "world_total = world_total[['Date_Confirmed','China','Italy','Spain','United Kingdom','Korea, South','US','Mexico']]\n",
    "\n",
    "    # Mexico regions\n",
    "mexico_total = pd.read_csv('output_data/time_series/total-mexico-covid19.csv')\n",
    "mexico_total['Date_Confirmed'] = pd.DatetimeIndex(mexico_total['Date_Confirmed'])\n",
    "mexico_total['Mexico_SS'] = mexico_total.sum(axis=1) # Sum rows for Mexico total (to indicate: Secretaría de Salud)"
   ]
  },
  {
   "cell_type": "code",
   "execution_count": 22,
   "metadata": {},
   "outputs": [],
   "source": [
    "# Daily cases"
   ]
  },
  {
   "cell_type": "code",
   "execution_count": 23,
   "metadata": {},
   "outputs": [],
   "source": [
    "    # World regions\n",
    "world_daily = pd.read_csv('output_data/time_series/daily-world_covid19.csv')\n",
    "world_daily['Date_Confirmed'] = pd.DatetimeIndex(world_daily['Date_Confirmed'])\n",
    "world_daily = world_daily[['Date_Confirmed','China','Italy','Spain','United Kingdom','Korea, South','US','Mexico']]\n",
    "\n",
    "    # Mexico regions\n",
    "mexico_daily = pd.read_csv('output_data/time_series/daily-mexico-covid19.csv')\n",
    "mexico_daily['Date_Confirmed'] = pd.DatetimeIndex(mexico_daily['Date_Confirmed'])\n",
    "mexico_daily['Mexico_SS'] = mexico_daily.sum(axis=1) # Sum rows for Mexico total (to indicate: Secretaría de Salud)"
   ]
  },
  {
   "cell_type": "code",
   "execution_count": 24,
   "metadata": {},
   "outputs": [],
   "source": [
    "# Merge world and Mexico data and produce time series"
   ]
  },
  {
   "cell_type": "code",
   "execution_count": 25,
   "metadata": {},
   "outputs": [],
   "source": [
    "    # Total\n",
    "total = world_total#.merge(mexico_ts, on='Date_Confirmed', how='outer') # Uncomment to include mexican regions\n",
    "total = total.fillna(method='ffill') # First fill missing time series totals with previous row value\n",
    "total = total.replace(0, np.nan) # Now convert 0 to NaN\n",
    "\n",
    "    # Daily\n",
    "daily = world_daily#.merge(mexico_daily, on='Date_Confirmed', how='outer') # Uncomment to include mexican regions"
   ]
  },
  {
   "cell_type": "code",
   "execution_count": 26,
   "metadata": {},
   "outputs": [],
   "source": [
    "# Make sure datetimes are correct"
   ]
  },
  {
   "cell_type": "code",
   "execution_count": 27,
   "metadata": {},
   "outputs": [],
   "source": [
    "    # Total\n",
    "total['Date_Confirmed'] = pd.to_datetime(total.Date_Confirmed, format='%d-%m-%Y', errors='coerce')\n",
    "total['Date_Confirmed'] = total['Date_Confirmed'].dt.strftime('%d-%m-%Y')\n",
    "total = total.set_index(pd.DatetimeIndex(total['Date_Confirmed']))\n",
    "total.index = total.index.strftime('%d-%m-%Y')\n",
    "\n",
    "    # Daily\n",
    "daily['Date_Confirmed'] = pd.to_datetime(daily.Date_Confirmed, format='%d-%m-%Y', errors='coerce')\n",
    "daily['Date_Confirmed'] = daily['Date_Confirmed'].dt.strftime('%d-%m-%Y')\n",
    "daily = daily.set_index(pd.DatetimeIndex(daily['Date_Confirmed']))\n",
    "daily.index = daily.index.strftime('%d-%m-%Y')"
   ]
  },
  {
   "cell_type": "code",
   "execution_count": 28,
   "metadata": {},
   "outputs": [
    {
     "data": {
      "text/html": [
       "<div>\n",
       "<style scoped>\n",
       "    .dataframe tbody tr th:only-of-type {\n",
       "        vertical-align: middle;\n",
       "    }\n",
       "\n",
       "    .dataframe tbody tr th {\n",
       "        vertical-align: top;\n",
       "    }\n",
       "\n",
       "    .dataframe thead th {\n",
       "        text-align: right;\n",
       "    }\n",
       "</style>\n",
       "<table border=\"1\" class=\"dataframe\">\n",
       "  <thead>\n",
       "    <tr style=\"text-align: right;\">\n",
       "      <th></th>\n",
       "      <th>Date_Confirmed</th>\n",
       "      <th>China</th>\n",
       "      <th>Italy</th>\n",
       "      <th>Spain</th>\n",
       "      <th>United Kingdom</th>\n",
       "      <th>Korea, South</th>\n",
       "      <th>US</th>\n",
       "      <th>Mexico</th>\n",
       "    </tr>\n",
       "  </thead>\n",
       "  <tbody>\n",
       "    <tr>\n",
       "      <td>22-01-2020</td>\n",
       "      <td>22-01-2020</td>\n",
       "      <td>17.0</td>\n",
       "      <td>NaN</td>\n",
       "      <td>NaN</td>\n",
       "      <td>NaN</td>\n",
       "      <td>1.0</td>\n",
       "      <td>1.0</td>\n",
       "      <td>NaN</td>\n",
       "    </tr>\n",
       "    <tr>\n",
       "      <td>23-01-2020</td>\n",
       "      <td>23-01-2020</td>\n",
       "      <td>19.0</td>\n",
       "      <td>NaN</td>\n",
       "      <td>NaN</td>\n",
       "      <td>NaN</td>\n",
       "      <td>1.0</td>\n",
       "      <td>1.0</td>\n",
       "      <td>NaN</td>\n",
       "    </tr>\n",
       "    <tr>\n",
       "      <td>24-01-2020</td>\n",
       "      <td>24-01-2020</td>\n",
       "      <td>28.0</td>\n",
       "      <td>NaN</td>\n",
       "      <td>NaN</td>\n",
       "      <td>NaN</td>\n",
       "      <td>2.0</td>\n",
       "      <td>2.0</td>\n",
       "      <td>NaN</td>\n",
       "    </tr>\n",
       "    <tr>\n",
       "      <td>25-01-2020</td>\n",
       "      <td>25-01-2020</td>\n",
       "      <td>43.0</td>\n",
       "      <td>NaN</td>\n",
       "      <td>NaN</td>\n",
       "      <td>NaN</td>\n",
       "      <td>2.0</td>\n",
       "      <td>2.0</td>\n",
       "      <td>NaN</td>\n",
       "    </tr>\n",
       "    <tr>\n",
       "      <td>26-01-2020</td>\n",
       "      <td>26-01-2020</td>\n",
       "      <td>63.0</td>\n",
       "      <td>NaN</td>\n",
       "      <td>NaN</td>\n",
       "      <td>NaN</td>\n",
       "      <td>3.0</td>\n",
       "      <td>5.0</td>\n",
       "      <td>NaN</td>\n",
       "    </tr>\n",
       "    <tr>\n",
       "      <td>...</td>\n",
       "      <td>...</td>\n",
       "      <td>...</td>\n",
       "      <td>...</td>\n",
       "      <td>...</td>\n",
       "      <td>...</td>\n",
       "      <td>...</td>\n",
       "      <td>...</td>\n",
       "      <td>...</td>\n",
       "    </tr>\n",
       "    <tr>\n",
       "      <td>17-04-2020</td>\n",
       "      <td>17-04-2020</td>\n",
       "      <td>2538.0</td>\n",
       "      <td>172434.0</td>\n",
       "      <td>190839.0</td>\n",
       "      <td>9979.0</td>\n",
       "      <td>10635.0</td>\n",
       "      <td>699706.0</td>\n",
       "      <td>6297.0</td>\n",
       "    </tr>\n",
       "    <tr>\n",
       "      <td>18-04-2020</td>\n",
       "      <td>18-04-2020</td>\n",
       "      <td>2539.0</td>\n",
       "      <td>175925.0</td>\n",
       "      <td>191726.0</td>\n",
       "      <td>10483.0</td>\n",
       "      <td>10653.0</td>\n",
       "      <td>732197.0</td>\n",
       "      <td>6875.0</td>\n",
       "    </tr>\n",
       "    <tr>\n",
       "      <td>19-04-2020</td>\n",
       "      <td>19-04-2020</td>\n",
       "      <td>2540.0</td>\n",
       "      <td>178972.0</td>\n",
       "      <td>198674.0</td>\n",
       "      <td>11016.0</td>\n",
       "      <td>10661.0</td>\n",
       "      <td>759086.0</td>\n",
       "      <td>7497.0</td>\n",
       "    </tr>\n",
       "    <tr>\n",
       "      <td>20-04-2020</td>\n",
       "      <td>20-04-2020</td>\n",
       "      <td>2540.0</td>\n",
       "      <td>181228.0</td>\n",
       "      <td>200210.0</td>\n",
       "      <td>11441.0</td>\n",
       "      <td>10674.0</td>\n",
       "      <td>784326.0</td>\n",
       "      <td>8261.0</td>\n",
       "    </tr>\n",
       "    <tr>\n",
       "      <td>21-04-2020</td>\n",
       "      <td>21-04-2020</td>\n",
       "      <td>2541.0</td>\n",
       "      <td>183957.0</td>\n",
       "      <td>204178.0</td>\n",
       "      <td>11834.0</td>\n",
       "      <td>10683.0</td>\n",
       "      <td>823786.0</td>\n",
       "      <td>8772.0</td>\n",
       "    </tr>\n",
       "  </tbody>\n",
       "</table>\n",
       "<p>91 rows × 8 columns</p>\n",
       "</div>"
      ],
      "text/plain": [
       "           Date_Confirmed   China     Italy     Spain  United Kingdom  \\\n",
       "22-01-2020     22-01-2020    17.0       NaN       NaN             NaN   \n",
       "23-01-2020     23-01-2020    19.0       NaN       NaN             NaN   \n",
       "24-01-2020     24-01-2020    28.0       NaN       NaN             NaN   \n",
       "25-01-2020     25-01-2020    43.0       NaN       NaN             NaN   \n",
       "26-01-2020     26-01-2020    63.0       NaN       NaN             NaN   \n",
       "...                   ...     ...       ...       ...             ...   \n",
       "17-04-2020     17-04-2020  2538.0  172434.0  190839.0          9979.0   \n",
       "18-04-2020     18-04-2020  2539.0  175925.0  191726.0         10483.0   \n",
       "19-04-2020     19-04-2020  2540.0  178972.0  198674.0         11016.0   \n",
       "20-04-2020     20-04-2020  2540.0  181228.0  200210.0         11441.0   \n",
       "21-04-2020     21-04-2020  2541.0  183957.0  204178.0         11834.0   \n",
       "\n",
       "            Korea, South        US  Mexico  \n",
       "22-01-2020           1.0       1.0     NaN  \n",
       "23-01-2020           1.0       1.0     NaN  \n",
       "24-01-2020           2.0       2.0     NaN  \n",
       "25-01-2020           2.0       2.0     NaN  \n",
       "26-01-2020           3.0       5.0     NaN  \n",
       "...                  ...       ...     ...  \n",
       "17-04-2020       10635.0  699706.0  6297.0  \n",
       "18-04-2020       10653.0  732197.0  6875.0  \n",
       "19-04-2020       10661.0  759086.0  7497.0  \n",
       "20-04-2020       10674.0  784326.0  8261.0  \n",
       "21-04-2020       10683.0  823786.0  8772.0  \n",
       "\n",
       "[91 rows x 8 columns]"
      ]
     },
     "execution_count": 28,
     "metadata": {},
     "output_type": "execute_result"
    }
   ],
   "source": [
    "total"
   ]
  },
  {
   "cell_type": "code",
   "execution_count": 18,
   "metadata": {},
   "outputs": [],
   "source": [
    "# Apply rolling window"
   ]
  },
  {
   "cell_type": "code",
   "execution_count": 19,
   "metadata": {},
   "outputs": [],
   "source": [
    "total_rw = total.dropna().rolling(window=7).mean().round().reset_index()\n",
    "daily_rw = daily.fillna(0).rolling(window=7).mean().round().reset_index()"
   ]
  },
  {
   "cell_type": "code",
   "execution_count": 12,
   "metadata": {},
   "outputs": [],
   "source": [
    "# Rename index"
   ]
  },
  {
   "cell_type": "code",
   "execution_count": 13,
   "metadata": {},
   "outputs": [],
   "source": [
    "total_rw = total_rw.rename(columns={'index':'Date_Confirmed'})\n",
    "daily_rw = daily_rw.rename(columns={'index':'Date_Confirmed'})"
   ]
  },
  {
   "cell_type": "code",
   "execution_count": 21,
   "metadata": {},
   "outputs": [],
   "source": [
    "# Melt to long format"
   ]
  },
  {
   "cell_type": "code",
   "execution_count": null,
   "metadata": {},
   "outputs": [],
   "source": []
  },
  {
   "cell_type": "code",
   "execution_count": 23,
   "metadata": {},
   "outputs": [],
   "source": [
    "tbl_total = pd.DataFrame(total_rw.set_index(['Date_Confirmed']).rename_axis(['Region'], axis=1).stack())"
   ]
  },
  {
   "cell_type": "code",
   "execution_count": 24,
   "metadata": {},
   "outputs": [],
   "source": [
    "tbl_daily = pd.DataFrame(daily_rw.set_index(['Date_Confirmed']).rename_axis(['Region'], axis=1).stack())"
   ]
  },
  {
   "cell_type": "code",
   "execution_count": 25,
   "metadata": {},
   "outputs": [],
   "source": [
    "tbl = pd.merge(tbl_total, tbl_daily, how='inner', on=['Date_Confirmed', 'Region'])"
   ]
  },
  {
   "cell_type": "code",
   "execution_count": 26,
   "metadata": {},
   "outputs": [
    {
     "data": {
      "text/html": [
       "<div>\n",
       "<style scoped>\n",
       "    .dataframe tbody tr th:only-of-type {\n",
       "        vertical-align: middle;\n",
       "    }\n",
       "\n",
       "    .dataframe tbody tr th {\n",
       "        vertical-align: top;\n",
       "    }\n",
       "\n",
       "    .dataframe thead th {\n",
       "        text-align: right;\n",
       "    }\n",
       "</style>\n",
       "<table border=\"1\" class=\"dataframe\">\n",
       "  <thead>\n",
       "    <tr style=\"text-align: right;\">\n",
       "      <th></th>\n",
       "      <th></th>\n",
       "      <th>0_x</th>\n",
       "      <th>0_y</th>\n",
       "    </tr>\n",
       "    <tr>\n",
       "      <th>Date_Confirmed</th>\n",
       "      <th>Region</th>\n",
       "      <th></th>\n",
       "      <th></th>\n",
       "    </tr>\n",
       "  </thead>\n",
       "  <tbody>\n",
       "    <tr>\n",
       "      <td rowspan=\"5\" valign=\"top\">03-05-2020</td>\n",
       "      <td>China</td>\n",
       "      <td>2422.0</td>\n",
       "      <td>8.0</td>\n",
       "    </tr>\n",
       "    <tr>\n",
       "      <td>Italy</td>\n",
       "      <td>2171.0</td>\n",
       "      <td>458.0</td>\n",
       "    </tr>\n",
       "    <tr>\n",
       "      <td>Spain</td>\n",
       "      <td>132.0</td>\n",
       "      <td>35.0</td>\n",
       "    </tr>\n",
       "    <tr>\n",
       "      <td>United Kingdom</td>\n",
       "      <td>5.0</td>\n",
       "      <td>1.0</td>\n",
       "    </tr>\n",
       "    <tr>\n",
       "      <td>Korea, South</td>\n",
       "      <td>4350.0</td>\n",
       "      <td>617.0</td>\n",
       "    </tr>\n",
       "    <tr>\n",
       "      <td>...</td>\n",
       "      <td>...</td>\n",
       "      <td>...</td>\n",
       "      <td>...</td>\n",
       "    </tr>\n",
       "    <tr>\n",
       "      <td rowspan=\"5\" valign=\"top\">21-04-2020</td>\n",
       "      <td>Spain</td>\n",
       "      <td>192603.0</td>\n",
       "      <td>4520.0</td>\n",
       "    </tr>\n",
       "    <tr>\n",
       "      <td>United Kingdom</td>\n",
       "      <td>10466.0</td>\n",
       "      <td>459.0</td>\n",
       "    </tr>\n",
       "    <tr>\n",
       "      <td>Korea, South</td>\n",
       "      <td>10644.0</td>\n",
       "      <td>17.0</td>\n",
       "    </tr>\n",
       "    <tr>\n",
       "      <td>US</td>\n",
       "      <td>729006.0</td>\n",
       "      <td>30874.0</td>\n",
       "    </tr>\n",
       "    <tr>\n",
       "      <td>Mexico</td>\n",
       "      <td>6993.0</td>\n",
       "      <td>537.0</td>\n",
       "    </tr>\n",
       "  </tbody>\n",
       "</table>\n",
       "<p>336 rows × 2 columns</p>\n",
       "</div>"
      ],
      "text/plain": [
       "                                    0_x      0_y\n",
       "Date_Confirmed Region                           \n",
       "03-05-2020     China             2422.0      8.0\n",
       "               Italy             2171.0    458.0\n",
       "               Spain              132.0     35.0\n",
       "               United Kingdom       5.0      1.0\n",
       "               Korea, South      4350.0    617.0\n",
       "...                                 ...      ...\n",
       "21-04-2020     Spain           192603.0   4520.0\n",
       "               United Kingdom   10466.0    459.0\n",
       "               Korea, South     10644.0     17.0\n",
       "               US              729006.0  30874.0\n",
       "               Mexico            6993.0    537.0\n",
       "\n",
       "[336 rows x 2 columns]"
      ]
     },
     "execution_count": 26,
     "metadata": {},
     "output_type": "execute_result"
    }
   ],
   "source": [
    "tbl"
   ]
  },
  {
   "cell_type": "code",
   "execution_count": 27,
   "metadata": {},
   "outputs": [],
   "source": [
    "tbl = tbl.rename(columns={'0_x': 'total', '0_y': 'daily'})"
   ]
  },
  {
   "cell_type": "code",
   "execution_count": 28,
   "metadata": {},
   "outputs": [
    {
     "data": {
      "text/html": [
       "<div>\n",
       "<style scoped>\n",
       "    .dataframe tbody tr th:only-of-type {\n",
       "        vertical-align: middle;\n",
       "    }\n",
       "\n",
       "    .dataframe tbody tr th {\n",
       "        vertical-align: top;\n",
       "    }\n",
       "\n",
       "    .dataframe thead th {\n",
       "        text-align: right;\n",
       "    }\n",
       "</style>\n",
       "<table border=\"1\" class=\"dataframe\">\n",
       "  <thead>\n",
       "    <tr style=\"text-align: right;\">\n",
       "      <th></th>\n",
       "      <th></th>\n",
       "      <th>total</th>\n",
       "      <th>daily</th>\n",
       "    </tr>\n",
       "    <tr>\n",
       "      <th>Date_Confirmed</th>\n",
       "      <th>Region</th>\n",
       "      <th></th>\n",
       "      <th></th>\n",
       "    </tr>\n",
       "  </thead>\n",
       "  <tbody>\n",
       "    <tr>\n",
       "      <td rowspan=\"5\" valign=\"top\">21-04-2020</td>\n",
       "      <td>Spain</td>\n",
       "      <td>192603.0</td>\n",
       "      <td>4520.0</td>\n",
       "    </tr>\n",
       "    <tr>\n",
       "      <td>United Kingdom</td>\n",
       "      <td>10466.0</td>\n",
       "      <td>459.0</td>\n",
       "    </tr>\n",
       "    <tr>\n",
       "      <td>Korea, South</td>\n",
       "      <td>10644.0</td>\n",
       "      <td>17.0</td>\n",
       "    </tr>\n",
       "    <tr>\n",
       "      <td>US</td>\n",
       "      <td>729006.0</td>\n",
       "      <td>30874.0</td>\n",
       "    </tr>\n",
       "    <tr>\n",
       "      <td>Mexico</td>\n",
       "      <td>6993.0</td>\n",
       "      <td>537.0</td>\n",
       "    </tr>\n",
       "  </tbody>\n",
       "</table>\n",
       "</div>"
      ],
      "text/plain": [
       "                                  total    daily\n",
       "Date_Confirmed Region                           \n",
       "21-04-2020     Spain           192603.0   4520.0\n",
       "               United Kingdom   10466.0    459.0\n",
       "               Korea, South     10644.0     17.0\n",
       "               US              729006.0  30874.0\n",
       "               Mexico            6993.0    537.0"
      ]
     },
     "execution_count": 28,
     "metadata": {},
     "output_type": "execute_result"
    }
   ],
   "source": [
    "tbl.tail()"
   ]
  },
  {
   "cell_type": "code",
   "execution_count": 29,
   "metadata": {},
   "outputs": [],
   "source": [
    "# Right format for plotly (long, instead of wide)\n",
    "# https://plotly.com/python/animations/#using-a-slider-and-buttons\n",
    "# https://raw.githubusercontent.com/plotly/datasets/master/gapminderDataFiveYear.csv\n",
    "plot_data = (tbl.reset_index()).to_csv('output_data/time_series/rolling-time-series.csv', index=False)"
   ]
  }
 ],
 "metadata": {
  "kernelspec": {
   "display_name": "Python 3",
   "language": "python",
   "name": "python3"
  },
  "language_info": {
   "codemirror_mode": {
    "name": "ipython",
    "version": 3
   },
   "file_extension": ".py",
   "mimetype": "text/x-python",
   "name": "python",
   "nbconvert_exporter": "python",
   "pygments_lexer": "ipython3",
   "version": "3.7.4"
  }
 },
 "nbformat": 4,
 "nbformat_minor": 4
}
