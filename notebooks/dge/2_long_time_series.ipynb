{
 "cells": [
  {
   "cell_type": "code",
   "execution_count": 1,
   "metadata": {},
   "outputs": [],
   "source": [
    "import pandas as pd\n",
    "import janitor"
   ]
  },
  {
   "cell_type": "code",
   "execution_count": 2,
   "metadata": {},
   "outputs": [],
   "source": [
    "# Group and keep columns with 'as_index'\n",
    "# https://stackoverflow.com/questions/31569549/how-to-groupby-a-dataframe-in-pandas-and-keep-columns"
   ]
  },
  {
   "cell_type": "markdown",
   "metadata": {},
   "source": [
    "### Daily report data"
   ]
  },
  {
   "cell_type": "code",
   "execution_count": 3,
   "metadata": {},
   "outputs": [],
   "source": [
    "data = pd.read_csv('filter.csv', encoding='utf-8')"
   ]
  },
  {
   "cell_type": "code",
   "execution_count": 4,
   "metadata": {},
   "outputs": [
    {
     "name": "stdout",
     "output_type": "stream",
     "text": [
      "False\n"
     ]
    }
   ],
   "source": [
    "print(data.set_index(['ID_REGISTRO']).index.is_unique) # ids are not unique... it's unclear how reports are aggregated"
   ]
  },
  {
   "cell_type": "code",
   "execution_count": 5,
   "metadata": {},
   "outputs": [],
   "source": [
    "data['FECHA_INGRESO'] = pd.to_datetime(data.FECHA_INGRESO, format='%Y-%m-%d', errors='coerce')\n",
    "data['FECHA_INGRESO'] = data['FECHA_INGRESO'].dt.strftime('%Y-%m-%d')\n",
    "data = data.set_index(pd.DatetimeIndex(data['FECHA_INGRESO'])).sort_index()"
   ]
  },
  {
   "cell_type": "code",
   "execution_count": 6,
   "metadata": {},
   "outputs": [
    {
     "data": {
      "text/plain": [
       "181772"
      ]
     },
     "execution_count": 6,
     "metadata": {},
     "output_type": "execute_result"
    }
   ],
   "source": [
    "len(data)"
   ]
  },
  {
   "cell_type": "markdown",
   "metadata": {},
   "source": [
    "### Note\n",
    "Daily report for april 20 (ie, reported in 21 april) stops using testing site (ENTIDAD_UM),\n",
    "<br>\n",
    "And starts using region of residence (ENTIDAD_RES) so we shall treat both sets of data accordingly"
   ]
  },
  {
   "cell_type": "raw",
   "metadata": {},
   "source": [
    "dat"
   ]
  },
  {
   "cell_type": "code",
   "execution_count": 7,
   "metadata": {},
   "outputs": [],
   "source": [
    "dat = data.copy()"
   ]
  },
  {
   "cell_type": "code",
   "execution_count": 8,
   "metadata": {},
   "outputs": [],
   "source": [
    "tbl_x = dat.filter_date('FECHA_INGRESO','2020-01-06','2020-04-20')\n",
    "tbl_x = tbl_x.drop(['ENTIDAD_RES'], axis=1) # drop by region\n",
    "tbl_x = tbl_x.set_index(\n",
    "    ['FECHA_INGRESO', 'FECHA_SINTOMAS', 'FECHA_DEF', 'ENTIDAD_UM', 'ID_REGISTRO', 'PAIS_ORIGEN']\n",
    ")\n",
    "tbl_x = tbl_x.groupby(\n",
    "    ['FECHA_INGRESO', 'FECHA_SINTOMAS', 'FECHA_DEF', 'ENTIDAD_UM', 'ID_REGISTRO', 'PAIS_ORIGEN'], as_index=True).count().reset_index()\n",
    "tbl_x = tbl_x.rename(columns={'ENTIDAD_UM':'Region_ID'})"
   ]
  },
  {
   "cell_type": "code",
   "execution_count": 9,
   "metadata": {},
   "outputs": [],
   "source": [
    "tbl_y = dat.filter_date('FECHA_INGRESO','2020-04-21','2022-12-31') # the long con\n",
    "tbl_y = tbl_y.drop(['ENTIDAD_UM'], axis=1) # drop by region\n",
    "tbl_y = tbl_y.set_index(\n",
    "    ['FECHA_INGRESO', 'FECHA_SINTOMAS', 'FECHA_DEF', 'ENTIDAD_RES', 'ID_REGISTRO', 'PAIS_ORIGEN']\n",
    ")\n",
    "tbl_y = tbl_y.groupby(\n",
    "    ['FECHA_INGRESO', 'FECHA_SINTOMAS', 'FECHA_DEF', 'ENTIDAD_RES', 'ID_REGISTRO', 'PAIS_ORIGEN'], as_index=True).count().reset_index()\n",
    "tbl_y = tbl_y.rename(columns={'ENTIDAD_RES':'Region_ID'})"
   ]
  },
  {
   "cell_type": "code",
   "execution_count": 10,
   "metadata": {},
   "outputs": [],
   "source": [
    "tbl = pd.concat([tbl_x, tbl_y])"
   ]
  },
  {
   "cell_type": "code",
   "execution_count": 11,
   "metadata": {},
   "outputs": [
    {
     "data": {
      "text/html": [
       "<div>\n",
       "<style scoped>\n",
       "    .dataframe tbody tr th:only-of-type {\n",
       "        vertical-align: middle;\n",
       "    }\n",
       "\n",
       "    .dataframe tbody tr th {\n",
       "        vertical-align: top;\n",
       "    }\n",
       "\n",
       "    .dataframe thead th {\n",
       "        text-align: right;\n",
       "    }\n",
       "</style>\n",
       "<table border=\"1\" class=\"dataframe\">\n",
       "  <thead>\n",
       "    <tr style=\"text-align: right;\">\n",
       "      <th></th>\n",
       "      <th>FECHA_INGRESO</th>\n",
       "      <th>FECHA_SINTOMAS</th>\n",
       "      <th>FECHA_DEF</th>\n",
       "      <th>Region_ID</th>\n",
       "      <th>ID_REGISTRO</th>\n",
       "      <th>PAIS_ORIGEN</th>\n",
       "      <th>RESULTADO</th>\n",
       "    </tr>\n",
       "  </thead>\n",
       "  <tbody>\n",
       "    <tr>\n",
       "      <td>0</td>\n",
       "      <td>2020-01-06</td>\n",
       "      <td>2020-01-06</td>\n",
       "      <td>9999-99-99</td>\n",
       "      <td>18</td>\n",
       "      <td>09f6d9</td>\n",
       "      <td>Local</td>\n",
       "      <td>10</td>\n",
       "    </tr>\n",
       "    <tr>\n",
       "      <td>1</td>\n",
       "      <td>2020-01-08</td>\n",
       "      <td>2020-01-08</td>\n",
       "      <td>9999-99-99</td>\n",
       "      <td>30</td>\n",
       "      <td>1c29f8</td>\n",
       "      <td>Local</td>\n",
       "      <td>9</td>\n",
       "    </tr>\n",
       "    <tr>\n",
       "      <td>2</td>\n",
       "      <td>2020-01-14</td>\n",
       "      <td>2020-01-14</td>\n",
       "      <td>9999-99-99</td>\n",
       "      <td>1</td>\n",
       "      <td>0ceb0f</td>\n",
       "      <td>Local</td>\n",
       "      <td>2</td>\n",
       "    </tr>\n",
       "    <tr>\n",
       "      <td>3</td>\n",
       "      <td>2020-01-27</td>\n",
       "      <td>2020-01-27</td>\n",
       "      <td>9999-99-99</td>\n",
       "      <td>15</td>\n",
       "      <td>1879e0</td>\n",
       "      <td>Local</td>\n",
       "      <td>1</td>\n",
       "    </tr>\n",
       "    <tr>\n",
       "      <td>4</td>\n",
       "      <td>2020-02-07</td>\n",
       "      <td>2020-02-07</td>\n",
       "      <td>9999-99-99</td>\n",
       "      <td>11</td>\n",
       "      <td>03e780</td>\n",
       "      <td>Local</td>\n",
       "      <td>7</td>\n",
       "    </tr>\n",
       "    <tr>\n",
       "      <td>...</td>\n",
       "      <td>...</td>\n",
       "      <td>...</td>\n",
       "      <td>...</td>\n",
       "      <td>...</td>\n",
       "      <td>...</td>\n",
       "      <td>...</td>\n",
       "      <td>...</td>\n",
       "    </tr>\n",
       "    <tr>\n",
       "      <td>4907</td>\n",
       "      <td>2020-04-28</td>\n",
       "      <td>2020-04-27</td>\n",
       "      <td>9999-99-99</td>\n",
       "      <td>29</td>\n",
       "      <td>089695</td>\n",
       "      <td>Local</td>\n",
       "      <td>1</td>\n",
       "    </tr>\n",
       "    <tr>\n",
       "      <td>4908</td>\n",
       "      <td>2020-04-28</td>\n",
       "      <td>2020-04-28</td>\n",
       "      <td>9999-99-99</td>\n",
       "      <td>14</td>\n",
       "      <td>0a8226</td>\n",
       "      <td>Local</td>\n",
       "      <td>1</td>\n",
       "    </tr>\n",
       "    <tr>\n",
       "      <td>4909</td>\n",
       "      <td>2020-04-29</td>\n",
       "      <td>2020-04-15</td>\n",
       "      <td>9999-99-99</td>\n",
       "      <td>2</td>\n",
       "      <td>02f6ab</td>\n",
       "      <td>Local</td>\n",
       "      <td>1</td>\n",
       "    </tr>\n",
       "    <tr>\n",
       "      <td>4910</td>\n",
       "      <td>2020-04-29</td>\n",
       "      <td>2020-04-21</td>\n",
       "      <td>9999-99-99</td>\n",
       "      <td>9</td>\n",
       "      <td>0f9fb6</td>\n",
       "      <td>Local</td>\n",
       "      <td>1</td>\n",
       "    </tr>\n",
       "    <tr>\n",
       "      <td>4911</td>\n",
       "      <td>2020-04-29</td>\n",
       "      <td>2020-04-26</td>\n",
       "      <td>9999-99-99</td>\n",
       "      <td>14</td>\n",
       "      <td>03632f</td>\n",
       "      <td>Local</td>\n",
       "      <td>1</td>\n",
       "    </tr>\n",
       "  </tbody>\n",
       "</table>\n",
       "<p>19085 rows × 7 columns</p>\n",
       "</div>"
      ],
      "text/plain": [
       "     FECHA_INGRESO FECHA_SINTOMAS   FECHA_DEF  Region_ID ID_REGISTRO  \\\n",
       "0       2020-01-06     2020-01-06  9999-99-99         18      09f6d9   \n",
       "1       2020-01-08     2020-01-08  9999-99-99         30      1c29f8   \n",
       "2       2020-01-14     2020-01-14  9999-99-99          1      0ceb0f   \n",
       "3       2020-01-27     2020-01-27  9999-99-99         15      1879e0   \n",
       "4       2020-02-07     2020-02-07  9999-99-99         11      03e780   \n",
       "...            ...            ...         ...        ...         ...   \n",
       "4907    2020-04-28     2020-04-27  9999-99-99         29      089695   \n",
       "4908    2020-04-28     2020-04-28  9999-99-99         14      0a8226   \n",
       "4909    2020-04-29     2020-04-15  9999-99-99          2      02f6ab   \n",
       "4910    2020-04-29     2020-04-21  9999-99-99          9      0f9fb6   \n",
       "4911    2020-04-29     2020-04-26  9999-99-99         14      03632f   \n",
       "\n",
       "     PAIS_ORIGEN  RESULTADO  \n",
       "0          Local         10  \n",
       "1          Local          9  \n",
       "2          Local          2  \n",
       "3          Local          1  \n",
       "4          Local          7  \n",
       "...          ...        ...  \n",
       "4907       Local          1  \n",
       "4908       Local          1  \n",
       "4909       Local          1  \n",
       "4910       Local          1  \n",
       "4911       Local          1  \n",
       "\n",
       "[19085 rows x 7 columns]"
      ]
     },
     "execution_count": 11,
     "metadata": {},
     "output_type": "execute_result"
    }
   ],
   "source": [
    "tbl"
   ]
  },
  {
   "cell_type": "code",
   "execution_count": 12,
   "metadata": {},
   "outputs": [],
   "source": [
    "tbl = tbl.rename(\n",
    "    columns={\n",
    "        'FECHA_INGRESO':'Date_Confirmed',\n",
    "        'FECHA_SINTOMAS':'Date_Symptoms',\n",
    "        'ID_REGISTRO':'Case_ID',\n",
    "        'RESULTADO':'Status',\n",
    "        'PAIS_ORIGEN':'Origin'\n",
    "    })"
   ]
  },
  {
   "cell_type": "code",
   "execution_count": 13,
   "metadata": {},
   "outputs": [],
   "source": [
    "tbl['Status'] = '1'"
   ]
  },
  {
   "cell_type": "code",
   "execution_count": 43,
   "metadata": {},
   "outputs": [
    {
     "data": {
      "text/html": [
       "<div>\n",
       "<style scoped>\n",
       "    .dataframe tbody tr th:only-of-type {\n",
       "        vertical-align: middle;\n",
       "    }\n",
       "\n",
       "    .dataframe tbody tr th {\n",
       "        vertical-align: top;\n",
       "    }\n",
       "\n",
       "    .dataframe thead th {\n",
       "        text-align: right;\n",
       "    }\n",
       "</style>\n",
       "<table border=\"1\" class=\"dataframe\">\n",
       "  <thead>\n",
       "    <tr style=\"text-align: right;\">\n",
       "      <th></th>\n",
       "      <th>Date_Confirmed</th>\n",
       "      <th>Date_Symptoms</th>\n",
       "      <th>FECHA_DEF</th>\n",
       "      <th>Region_ID</th>\n",
       "      <th>Case_ID</th>\n",
       "      <th>Origin</th>\n",
       "      <th>Status</th>\n",
       "    </tr>\n",
       "  </thead>\n",
       "  <tbody>\n",
       "    <tr>\n",
       "      <td>0</td>\n",
       "      <td>2020-01-06</td>\n",
       "      <td>2020-01-06</td>\n",
       "      <td>9999-99-99</td>\n",
       "      <td>18</td>\n",
       "      <td>09f6d9</td>\n",
       "      <td>Local</td>\n",
       "      <td>1</td>\n",
       "    </tr>\n",
       "    <tr>\n",
       "      <td>1</td>\n",
       "      <td>2020-01-08</td>\n",
       "      <td>2020-01-08</td>\n",
       "      <td>9999-99-99</td>\n",
       "      <td>30</td>\n",
       "      <td>1c29f8</td>\n",
       "      <td>Local</td>\n",
       "      <td>1</td>\n",
       "    </tr>\n",
       "    <tr>\n",
       "      <td>2</td>\n",
       "      <td>2020-01-14</td>\n",
       "      <td>2020-01-14</td>\n",
       "      <td>9999-99-99</td>\n",
       "      <td>1</td>\n",
       "      <td>0ceb0f</td>\n",
       "      <td>Local</td>\n",
       "      <td>1</td>\n",
       "    </tr>\n",
       "    <tr>\n",
       "      <td>3</td>\n",
       "      <td>2020-01-27</td>\n",
       "      <td>2020-01-27</td>\n",
       "      <td>9999-99-99</td>\n",
       "      <td>15</td>\n",
       "      <td>1879e0</td>\n",
       "      <td>Local</td>\n",
       "      <td>1</td>\n",
       "    </tr>\n",
       "    <tr>\n",
       "      <td>4</td>\n",
       "      <td>2020-02-07</td>\n",
       "      <td>2020-02-07</td>\n",
       "      <td>9999-99-99</td>\n",
       "      <td>11</td>\n",
       "      <td>03e780</td>\n",
       "      <td>Local</td>\n",
       "      <td>1</td>\n",
       "    </tr>\n",
       "    <tr>\n",
       "      <td>...</td>\n",
       "      <td>...</td>\n",
       "      <td>...</td>\n",
       "      <td>...</td>\n",
       "      <td>...</td>\n",
       "      <td>...</td>\n",
       "      <td>...</td>\n",
       "      <td>...</td>\n",
       "    </tr>\n",
       "    <tr>\n",
       "      <td>4907</td>\n",
       "      <td>2020-04-28</td>\n",
       "      <td>2020-04-27</td>\n",
       "      <td>9999-99-99</td>\n",
       "      <td>29</td>\n",
       "      <td>089695</td>\n",
       "      <td>Local</td>\n",
       "      <td>1</td>\n",
       "    </tr>\n",
       "    <tr>\n",
       "      <td>4908</td>\n",
       "      <td>2020-04-28</td>\n",
       "      <td>2020-04-28</td>\n",
       "      <td>9999-99-99</td>\n",
       "      <td>14</td>\n",
       "      <td>0a8226</td>\n",
       "      <td>Local</td>\n",
       "      <td>1</td>\n",
       "    </tr>\n",
       "    <tr>\n",
       "      <td>4909</td>\n",
       "      <td>2020-04-29</td>\n",
       "      <td>2020-04-15</td>\n",
       "      <td>9999-99-99</td>\n",
       "      <td>2</td>\n",
       "      <td>02f6ab</td>\n",
       "      <td>Local</td>\n",
       "      <td>1</td>\n",
       "    </tr>\n",
       "    <tr>\n",
       "      <td>4910</td>\n",
       "      <td>2020-04-29</td>\n",
       "      <td>2020-04-21</td>\n",
       "      <td>9999-99-99</td>\n",
       "      <td>9</td>\n",
       "      <td>0f9fb6</td>\n",
       "      <td>Local</td>\n",
       "      <td>1</td>\n",
       "    </tr>\n",
       "    <tr>\n",
       "      <td>4911</td>\n",
       "      <td>2020-04-29</td>\n",
       "      <td>2020-04-26</td>\n",
       "      <td>9999-99-99</td>\n",
       "      <td>14</td>\n",
       "      <td>03632f</td>\n",
       "      <td>Local</td>\n",
       "      <td>1</td>\n",
       "    </tr>\n",
       "  </tbody>\n",
       "</table>\n",
       "<p>19085 rows × 7 columns</p>\n",
       "</div>"
      ],
      "text/plain": [
       "     Date_Confirmed Date_Symptoms   FECHA_DEF  Region_ID Case_ID Origin Status\n",
       "0        2020-01-06    2020-01-06  9999-99-99         18  09f6d9  Local      1\n",
       "1        2020-01-08    2020-01-08  9999-99-99         30  1c29f8  Local      1\n",
       "2        2020-01-14    2020-01-14  9999-99-99          1  0ceb0f  Local      1\n",
       "3        2020-01-27    2020-01-27  9999-99-99         15  1879e0  Local      1\n",
       "4        2020-02-07    2020-02-07  9999-99-99         11  03e780  Local      1\n",
       "...             ...           ...         ...        ...     ...    ...    ...\n",
       "4907     2020-04-28    2020-04-27  9999-99-99         29  089695  Local      1\n",
       "4908     2020-04-28    2020-04-28  9999-99-99         14  0a8226  Local      1\n",
       "4909     2020-04-29    2020-04-15  9999-99-99          2  02f6ab  Local      1\n",
       "4910     2020-04-29    2020-04-21  9999-99-99          9  0f9fb6  Local      1\n",
       "4911     2020-04-29    2020-04-26  9999-99-99         14  03632f  Local      1\n",
       "\n",
       "[19085 rows x 7 columns]"
      ]
     },
     "execution_count": 43,
     "metadata": {},
     "output_type": "execute_result"
    }
   ],
   "source": [
    "tbl"
   ]
  },
  {
   "cell_type": "code",
   "execution_count": 44,
   "metadata": {},
   "outputs": [],
   "source": [
    "#tbl[~tbl.FECHA_DEF.str.startswith(('9999'))]\n",
    "tbl = tbl[tbl.FECHA_DEF.str.startswith(('9999'))] # Not deceased"
   ]
  },
  {
   "cell_type": "code",
   "execution_count": 45,
   "metadata": {},
   "outputs": [],
   "source": [
    "tbl = tbl.drop(['FECHA_DEF'], axis=1)"
   ]
  },
  {
   "cell_type": "code",
   "execution_count": 46,
   "metadata": {},
   "outputs": [
    {
     "data": {
      "text/html": [
       "<div>\n",
       "<style scoped>\n",
       "    .dataframe tbody tr th:only-of-type {\n",
       "        vertical-align: middle;\n",
       "    }\n",
       "\n",
       "    .dataframe tbody tr th {\n",
       "        vertical-align: top;\n",
       "    }\n",
       "\n",
       "    .dataframe thead th {\n",
       "        text-align: right;\n",
       "    }\n",
       "</style>\n",
       "<table border=\"1\" class=\"dataframe\">\n",
       "  <thead>\n",
       "    <tr style=\"text-align: right;\">\n",
       "      <th></th>\n",
       "      <th>Date_Confirmed</th>\n",
       "      <th>Date_Symptoms</th>\n",
       "      <th>Region_ID</th>\n",
       "      <th>Case_ID</th>\n",
       "      <th>Origin</th>\n",
       "      <th>Status</th>\n",
       "    </tr>\n",
       "  </thead>\n",
       "  <tbody>\n",
       "    <tr>\n",
       "      <td>0</td>\n",
       "      <td>2020-01-06</td>\n",
       "      <td>2020-01-06</td>\n",
       "      <td>18</td>\n",
       "      <td>09f6d9</td>\n",
       "      <td>Local</td>\n",
       "      <td>1</td>\n",
       "    </tr>\n",
       "    <tr>\n",
       "      <td>1</td>\n",
       "      <td>2020-01-08</td>\n",
       "      <td>2020-01-08</td>\n",
       "      <td>30</td>\n",
       "      <td>1c29f8</td>\n",
       "      <td>Local</td>\n",
       "      <td>1</td>\n",
       "    </tr>\n",
       "    <tr>\n",
       "      <td>2</td>\n",
       "      <td>2020-01-14</td>\n",
       "      <td>2020-01-14</td>\n",
       "      <td>1</td>\n",
       "      <td>0ceb0f</td>\n",
       "      <td>Local</td>\n",
       "      <td>1</td>\n",
       "    </tr>\n",
       "    <tr>\n",
       "      <td>3</td>\n",
       "      <td>2020-01-27</td>\n",
       "      <td>2020-01-27</td>\n",
       "      <td>15</td>\n",
       "      <td>1879e0</td>\n",
       "      <td>Local</td>\n",
       "      <td>1</td>\n",
       "    </tr>\n",
       "    <tr>\n",
       "      <td>4</td>\n",
       "      <td>2020-02-07</td>\n",
       "      <td>2020-02-07</td>\n",
       "      <td>11</td>\n",
       "      <td>03e780</td>\n",
       "      <td>Local</td>\n",
       "      <td>1</td>\n",
       "    </tr>\n",
       "    <tr>\n",
       "      <td>...</td>\n",
       "      <td>...</td>\n",
       "      <td>...</td>\n",
       "      <td>...</td>\n",
       "      <td>...</td>\n",
       "      <td>...</td>\n",
       "      <td>...</td>\n",
       "    </tr>\n",
       "    <tr>\n",
       "      <td>4907</td>\n",
       "      <td>2020-04-28</td>\n",
       "      <td>2020-04-27</td>\n",
       "      <td>29</td>\n",
       "      <td>089695</td>\n",
       "      <td>Local</td>\n",
       "      <td>1</td>\n",
       "    </tr>\n",
       "    <tr>\n",
       "      <td>4908</td>\n",
       "      <td>2020-04-28</td>\n",
       "      <td>2020-04-28</td>\n",
       "      <td>14</td>\n",
       "      <td>0a8226</td>\n",
       "      <td>Local</td>\n",
       "      <td>1</td>\n",
       "    </tr>\n",
       "    <tr>\n",
       "      <td>4909</td>\n",
       "      <td>2020-04-29</td>\n",
       "      <td>2020-04-15</td>\n",
       "      <td>2</td>\n",
       "      <td>02f6ab</td>\n",
       "      <td>Local</td>\n",
       "      <td>1</td>\n",
       "    </tr>\n",
       "    <tr>\n",
       "      <td>4910</td>\n",
       "      <td>2020-04-29</td>\n",
       "      <td>2020-04-21</td>\n",
       "      <td>9</td>\n",
       "      <td>0f9fb6</td>\n",
       "      <td>Local</td>\n",
       "      <td>1</td>\n",
       "    </tr>\n",
       "    <tr>\n",
       "      <td>4911</td>\n",
       "      <td>2020-04-29</td>\n",
       "      <td>2020-04-26</td>\n",
       "      <td>14</td>\n",
       "      <td>03632f</td>\n",
       "      <td>Local</td>\n",
       "      <td>1</td>\n",
       "    </tr>\n",
       "  </tbody>\n",
       "</table>\n",
       "<p>17329 rows × 6 columns</p>\n",
       "</div>"
      ],
      "text/plain": [
       "     Date_Confirmed Date_Symptoms  Region_ID Case_ID Origin Status\n",
       "0        2020-01-06    2020-01-06         18  09f6d9  Local      1\n",
       "1        2020-01-08    2020-01-08         30  1c29f8  Local      1\n",
       "2        2020-01-14    2020-01-14          1  0ceb0f  Local      1\n",
       "3        2020-01-27    2020-01-27         15  1879e0  Local      1\n",
       "4        2020-02-07    2020-02-07         11  03e780  Local      1\n",
       "...             ...           ...        ...     ...    ...    ...\n",
       "4907     2020-04-28    2020-04-27         29  089695  Local      1\n",
       "4908     2020-04-28    2020-04-28         14  0a8226  Local      1\n",
       "4909     2020-04-29    2020-04-15          2  02f6ab  Local      1\n",
       "4910     2020-04-29    2020-04-21          9  0f9fb6  Local      1\n",
       "4911     2020-04-29    2020-04-26         14  03632f  Local      1\n",
       "\n",
       "[17329 rows x 6 columns]"
      ]
     },
     "execution_count": 46,
     "metadata": {},
     "output_type": "execute_result"
    }
   ],
   "source": [
    "tbl"
   ]
  },
  {
   "cell_type": "code",
   "execution_count": 47,
   "metadata": {},
   "outputs": [],
   "source": [
    "#tbl.to_csv('confirmed_by_date.csv', index=False)"
   ]
  },
  {
   "cell_type": "code",
   "execution_count": 48,
   "metadata": {},
   "outputs": [],
   "source": [
    "geo = pd.read_csv('../../data/geo/entidades.csv')"
   ]
  },
  {
   "cell_type": "code",
   "execution_count": 49,
   "metadata": {},
   "outputs": [
    {
     "data": {
      "text/plain": [
       "Index(['CLAVE_ENTIDAD', 'ENTIDAD_FEDERATIVA', 'ABREVIATURA'], dtype='object')"
      ]
     },
     "execution_count": 49,
     "metadata": {},
     "output_type": "execute_result"
    }
   ],
   "source": [
    "geo.keys()"
   ]
  },
  {
   "cell_type": "code",
   "execution_count": 50,
   "metadata": {},
   "outputs": [],
   "source": [
    "geo = geo.rename(columns={'CLAVE_ENTIDAD':'Region_ID', 'ENTIDAD_FEDERATIVA':'Region', 'ABREVIATURA':'Region_Key'})"
   ]
  },
  {
   "cell_type": "code",
   "execution_count": 51,
   "metadata": {},
   "outputs": [],
   "source": [
    "output = pd.merge(tbl, geo, on='Region_ID') "
   ]
  },
  {
   "cell_type": "code",
   "execution_count": 52,
   "metadata": {},
   "outputs": [],
   "source": [
    "output = output[['Date_Confirmed', 'Date_Symptoms', 'Region', 'Region_ID', 'Region_Key', 'Origin']]"
   ]
  },
  {
   "cell_type": "code",
   "execution_count": 53,
   "metadata": {},
   "outputs": [
    {
     "data": {
      "text/html": [
       "<div>\n",
       "<style scoped>\n",
       "    .dataframe tbody tr th:only-of-type {\n",
       "        vertical-align: middle;\n",
       "    }\n",
       "\n",
       "    .dataframe tbody tr th {\n",
       "        vertical-align: top;\n",
       "    }\n",
       "\n",
       "    .dataframe thead th {\n",
       "        text-align: right;\n",
       "    }\n",
       "</style>\n",
       "<table border=\"1\" class=\"dataframe\">\n",
       "  <thead>\n",
       "    <tr style=\"text-align: right;\">\n",
       "      <th></th>\n",
       "      <th>Date_Confirmed</th>\n",
       "      <th>Date_Symptoms</th>\n",
       "      <th>Region</th>\n",
       "      <th>Region_ID</th>\n",
       "      <th>Region_Key</th>\n",
       "      <th>Origin</th>\n",
       "    </tr>\n",
       "  </thead>\n",
       "  <tbody>\n",
       "    <tr>\n",
       "      <td>0</td>\n",
       "      <td>2020-01-06</td>\n",
       "      <td>2020-01-06</td>\n",
       "      <td>NAYARIT</td>\n",
       "      <td>18</td>\n",
       "      <td>NT</td>\n",
       "      <td>Local</td>\n",
       "    </tr>\n",
       "    <tr>\n",
       "      <td>1</td>\n",
       "      <td>2020-03-18</td>\n",
       "      <td>2020-03-17</td>\n",
       "      <td>NAYARIT</td>\n",
       "      <td>18</td>\n",
       "      <td>NT</td>\n",
       "      <td>Local</td>\n",
       "    </tr>\n",
       "    <tr>\n",
       "      <td>2</td>\n",
       "      <td>2020-03-19</td>\n",
       "      <td>2020-03-10</td>\n",
       "      <td>NAYARIT</td>\n",
       "      <td>18</td>\n",
       "      <td>NT</td>\n",
       "      <td>Local</td>\n",
       "    </tr>\n",
       "    <tr>\n",
       "      <td>3</td>\n",
       "      <td>2020-03-23</td>\n",
       "      <td>2020-03-19</td>\n",
       "      <td>NAYARIT</td>\n",
       "      <td>18</td>\n",
       "      <td>NT</td>\n",
       "      <td>Local</td>\n",
       "    </tr>\n",
       "    <tr>\n",
       "      <td>4</td>\n",
       "      <td>2020-03-24</td>\n",
       "      <td>2020-03-21</td>\n",
       "      <td>NAYARIT</td>\n",
       "      <td>18</td>\n",
       "      <td>NT</td>\n",
       "      <td>Local</td>\n",
       "    </tr>\n",
       "    <tr>\n",
       "      <td>...</td>\n",
       "      <td>...</td>\n",
       "      <td>...</td>\n",
       "      <td>...</td>\n",
       "      <td>...</td>\n",
       "      <td>...</td>\n",
       "      <td>...</td>\n",
       "    </tr>\n",
       "    <tr>\n",
       "      <td>17324</td>\n",
       "      <td>2020-04-28</td>\n",
       "      <td>2020-04-24</td>\n",
       "      <td>TLAXCALA</td>\n",
       "      <td>29</td>\n",
       "      <td>TL</td>\n",
       "      <td>Local</td>\n",
       "    </tr>\n",
       "    <tr>\n",
       "      <td>17325</td>\n",
       "      <td>2020-04-28</td>\n",
       "      <td>2020-04-25</td>\n",
       "      <td>TLAXCALA</td>\n",
       "      <td>29</td>\n",
       "      <td>TL</td>\n",
       "      <td>Local</td>\n",
       "    </tr>\n",
       "    <tr>\n",
       "      <td>17326</td>\n",
       "      <td>2020-04-28</td>\n",
       "      <td>2020-04-26</td>\n",
       "      <td>TLAXCALA</td>\n",
       "      <td>29</td>\n",
       "      <td>TL</td>\n",
       "      <td>Local</td>\n",
       "    </tr>\n",
       "    <tr>\n",
       "      <td>17327</td>\n",
       "      <td>2020-04-28</td>\n",
       "      <td>2020-04-26</td>\n",
       "      <td>TLAXCALA</td>\n",
       "      <td>29</td>\n",
       "      <td>TL</td>\n",
       "      <td>Local</td>\n",
       "    </tr>\n",
       "    <tr>\n",
       "      <td>17328</td>\n",
       "      <td>2020-04-28</td>\n",
       "      <td>2020-04-27</td>\n",
       "      <td>TLAXCALA</td>\n",
       "      <td>29</td>\n",
       "      <td>TL</td>\n",
       "      <td>Local</td>\n",
       "    </tr>\n",
       "  </tbody>\n",
       "</table>\n",
       "<p>17329 rows × 6 columns</p>\n",
       "</div>"
      ],
      "text/plain": [
       "      Date_Confirmed Date_Symptoms    Region  Region_ID Region_Key Origin\n",
       "0         2020-01-06    2020-01-06   NAYARIT         18         NT  Local\n",
       "1         2020-03-18    2020-03-17   NAYARIT         18         NT  Local\n",
       "2         2020-03-19    2020-03-10   NAYARIT         18         NT  Local\n",
       "3         2020-03-23    2020-03-19   NAYARIT         18         NT  Local\n",
       "4         2020-03-24    2020-03-21   NAYARIT         18         NT  Local\n",
       "...              ...           ...       ...        ...        ...    ...\n",
       "17324     2020-04-28    2020-04-24  TLAXCALA         29         TL  Local\n",
       "17325     2020-04-28    2020-04-25  TLAXCALA         29         TL  Local\n",
       "17326     2020-04-28    2020-04-26  TLAXCALA         29         TL  Local\n",
       "17327     2020-04-28    2020-04-26  TLAXCALA         29         TL  Local\n",
       "17328     2020-04-28    2020-04-27  TLAXCALA         29         TL  Local\n",
       "\n",
       "[17329 rows x 6 columns]"
      ]
     },
     "execution_count": 53,
     "metadata": {},
     "output_type": "execute_result"
    }
   ],
   "source": [
    "output"
   ]
  },
  {
   "cell_type": "code",
   "execution_count": 54,
   "metadata": {},
   "outputs": [],
   "source": [
    "output['Region'] = output['Region'].str.replace('COAHUILA DE ZARAGOZA','COAHUILA')\n",
    "output['Region'] = output['Region'].str.replace('MICHOACÁN DE OCAMPO','MICHOACAN')\n",
    "output['Region'] = output['Region'].str.replace('VERACRUZ DE IGNACIO DE LA LLAVE','VERACRUZ')"
   ]
  },
  {
   "cell_type": "code",
   "execution_count": 55,
   "metadata": {},
   "outputs": [
    {
     "data": {
      "text/plain": [
       "array(['NAYARIT', 'VERACRUZ', 'AGUASCALIENTES', 'MÉXICO', 'GUANAJUATO',\n",
       "       'BAJA CALIFORNIA', 'CIUDAD DE MÉXICO', 'COAHUILA', 'SINALOA',\n",
       "       'CHIAPAS', 'YUCATÁN', 'MORELOS', 'NUEVO LEÓN', 'QUERÉTARO',\n",
       "       'PUEBLA', 'DURANGO', 'JALISCO', 'QUINTANA ROO', 'CAMPECHE',\n",
       "       'SAN LUIS POTOSÍ', 'GUERRERO', 'OAXACA', 'COLIMA', 'CHIHUAHUA',\n",
       "       'SONORA', 'TAMAULIPAS', 'HIDALGO', 'TABASCO', 'MICHOACAN',\n",
       "       'BAJA CALIFORNIA SUR', 'ZACATECAS', 'TLAXCALA'], dtype=object)"
      ]
     },
     "execution_count": 55,
     "metadata": {},
     "output_type": "execute_result"
    }
   ],
   "source": [
    "output.Region.unique()"
   ]
  },
  {
   "cell_type": "code",
   "execution_count": 56,
   "metadata": {},
   "outputs": [
    {
     "data": {
      "text/plain": [
       "array(['Local', 'Estados Unidos de AmÃ©rica', 'Estados Unidos de América',\n",
       "       'Venezuela', 'PerÃº', 'Perú', 'El Salvador', 'Brasil', 'Cuba',\n",
       "       'Guatemala', 'Canadá', 'Alemania', 'RepÃºblica de Honduras',\n",
       "       'República de Honduras', 'Otro', 'CamerÃºn', 'Camerún', 'Chile'],\n",
       "      dtype=object)"
      ]
     },
     "execution_count": 56,
     "metadata": {},
     "output_type": "execute_result"
    }
   ],
   "source": [
    "output.Origin.unique()"
   ]
  },
  {
   "cell_type": "code",
   "execution_count": 57,
   "metadata": {},
   "outputs": [],
   "source": [
    "output.to_csv('../../latest.csv', index=False)"
   ]
  }
 ],
 "metadata": {
  "kernelspec": {
   "display_name": "Python 3",
   "language": "python",
   "name": "python3"
  },
  "language_info": {
   "codemirror_mode": {
    "name": "ipython",
    "version": 3
   },
   "file_extension": ".py",
   "mimetype": "text/x-python",
   "name": "python",
   "nbconvert_exporter": "python",
   "pygments_lexer": "ipython3",
   "version": "3.7.4"
  }
 },
 "nbformat": 4,
 "nbformat_minor": 4
}
